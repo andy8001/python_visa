{
 "cells": [
  {
   "cell_type": "markdown",
   "source": [
    "# Herkunftsländer der Arbeitnehmer"
   ],
   "metadata": {
    "collapsed": false,
    "pycharm": {
     "name": "#%% md\n"
    }
   }
  },
  {
   "cell_type": "code",
   "execution_count": 1,
   "metadata": {
    "collapsed": true
   },
   "outputs": [],
   "source": [
    "import cleanup\n",
    "import pandas as pd\n",
    "import matplotlib.pyplot as plt"
   ]
  },
  {
   "cell_type": "code",
   "execution_count": 2,
   "outputs": [
    {
     "name": "stderr",
     "output_type": "stream",
     "text": [
      "C:\\Users\\lassu\\anaconda3\\lib\\site-packages\\IPython\\core\\interactiveshell.py:3263: DtypeWarning: Columns (0,1,2,3,4,5,6,7,10,11,16,17,20,21,22,25,26,27,28,29,30,31,32,33,34,35,36,37,39,40,41,42,43,44,45,47,48,49,50,51,52,53,55,56,57,58,59,60,61,63,64,65,66,68,69,70,71,72,73,74,77,79,80,81,82,83,84,85,86,87,88,89,90,91,92,93,94,95,100,101,103,104,105,106,107,108,109,110,111,112,113,114,115,116,117,118,119,120,121,122,123,124,125,126,127,128,129,130,131,132,133,134,135,136,137,138,139,140,141,142,143,144,145,146,147,148,149,150,153) have mixed types.Specify dtype option on import or set low_memory=False.\n",
      "  if (await self.run_code(code, result,  async_=asy)):\n",
      "C:\\Users\\lassu\\PycharmProjects\\python_visa\\cleanup.py:122: SettingWithCopyWarning: \n",
      "A value is trying to be set on a copy of a slice from a DataFrame.\n",
      "Try using .loc[row_indexer,col_indexer] = value instead\n",
      "\n",
      "See the caveats in the documentation: https://pandas.pydata.org/pandas-docs/stable/user_guide/indexing.html#returning-a-view-versus-a-copy\n",
      "  temp_df[\"wage_offer_from_9089\"] = temp_df[\"wage_offer_from_9089\"].apply(clean_currency).astype('float')\n",
      "C:\\Users\\lassu\\PycharmProjects\\python_visa\\cleanup.py:126: SettingWithCopyWarning: \n",
      "A value is trying to be set on a copy of a slice from a DataFrame.\n",
      "Try using .loc[row_indexer,col_indexer] = value instead\n",
      "\n",
      "See the caveats in the documentation: https://pandas.pydata.org/pandas-docs/stable/user_guide/indexing.html#returning-a-view-versus-a-copy\n",
      "  temp_df['wage_offer_from_merged'] = temp_df['wage_offer_from_9089'].fillna(0) + temp_df['wage_offered_from_9089'].fillna(0)\n",
      "C:\\Users\\lassu\\anaconda3\\lib\\site-packages\\pandas\\core\\generic.py:6746: SettingWithCopyWarning: \n",
      "A value is trying to be set on a copy of a slice from a DataFrame\n",
      "\n",
      "See the caveats in the documentation: https://pandas.pydata.org/pandas-docs/stable/user_guide/indexing.html#returning-a-view-versus-a-copy\n",
      "  self._update_inplace(new_data)\n",
      "C:\\Users\\lassu\\PycharmProjects\\python_visa\\cleanup.py:155: SettingWithCopyWarning: \n",
      "A value is trying to be set on a copy of a slice from a DataFrame.\n",
      "Try using .loc[row_indexer,col_indexer] = value instead\n",
      "\n",
      "See the caveats in the documentation: https://pandas.pydata.org/pandas-docs/stable/user_guide/indexing.html#returning-a-view-versus-a-copy\n",
      "  temp_df['wage_offer_of_pay_unit_merged'] = temp_df['wage_offer_unit_of_pay_9089'].fillna('') + temp_df['wage_offered_unit_of_pay_9089'].fillna('')\n",
      "C:\\Users\\lassu\\PycharmProjects\\python_visa\\cleanup.py:160: SettingWithCopyWarning: \n",
      "A value is trying to be set on a copy of a slice from a DataFrame.\n",
      "Try using .loc[row_indexer,col_indexer] = value instead\n",
      "\n",
      "See the caveats in the documentation: https://pandas.pydata.org/pandas-docs/stable/user_guide/indexing.html#returning-a-view-versus-a-copy\n",
      "  temp_df['wage_offer_of_pay_unit_merged'] = normalize_pay_unit_columns(temp_df['wage_offer_of_pay_unit_merged'])\n",
      "C:\\Users\\lassu\\PycharmProjects\\python_visa\\cleanup.py:183: SettingWithCopyWarning: \n",
      "A value is trying to be set on a copy of a slice from a DataFrame.\n",
      "Try using .loc[row_indexer,col_indexer] = value instead\n",
      "\n",
      "See the caveats in the documentation: https://pandas.pydata.org/pandas-docs/stable/user_guide/indexing.html#returning-a-view-versus-a-copy\n",
      "  temp_df['case_received_date'] = pd.to_datetime(temp_df['case_received_date'])\n",
      "C:\\Users\\lassu\\PycharmProjects\\python_visa\\cleanup.py:192: SettingWithCopyWarning: \n",
      "A value is trying to be set on a copy of a slice from a DataFrame.\n",
      "Try using .loc[row_indexer,col_indexer] = value instead\n",
      "\n",
      "See the caveats in the documentation: https://pandas.pydata.org/pandas-docs/stable/user_guide/indexing.html#returning-a-view-versus-a-copy\n",
      "  temp_df['decision_date'] = pd.to_datetime(temp_df['decision_date'])\n",
      "C:\\Users\\lassu\\PycharmProjects\\python_visa\\cleanup.py:211: SettingWithCopyWarning: \n",
      "A value is trying to be set on a copy of a slice from a DataFrame.\n",
      "Try using .loc[row_indexer,col_indexer] = value instead\n",
      "\n",
      "See the caveats in the documentation: https://pandas.pydata.org/pandas-docs/stable/user_guide/indexing.html#returning-a-view-versus-a-copy\n",
      "  temp_df['employer_state'] = temp_df['employer_state'].replace(abbr_dictionary)\n",
      "C:\\Users\\lassu\\PycharmProjects\\python_visa\\cleanup.py:222: SettingWithCopyWarning: \n",
      "A value is trying to be set on a copy of a slice from a DataFrame.\n",
      "Try using .loc[row_indexer,col_indexer] = value instead\n",
      "\n",
      "See the caveats in the documentation: https://pandas.pydata.org/pandas-docs/stable/user_guide/indexing.html#returning-a-view-versus-a-copy\n",
      "  temp_df['employer_state'] = temp_df['employer_state'].replace(abbr_dictionary)\n",
      "C:\\Users\\lassu\\PycharmProjects\\python_visa\\cleanup.py:226: SettingWithCopyWarning: \n",
      "A value is trying to be set on a copy of a slice from a DataFrame.\n",
      "Try using .loc[row_indexer,col_indexer] = value instead\n",
      "\n",
      "See the caveats in the documentation: https://pandas.pydata.org/pandas-docs/stable/user_guide/indexing.html#returning-a-view-versus-a-copy\n",
      "  temp_df['employer_state'] = temp_df['employer_state'].str.replace('BC', 'British Columbia')\n",
      "C:\\Users\\lassu\\PycharmProjects\\python_visa\\cleanup.py:237: SettingWithCopyWarning: \n",
      "A value is trying to be set on a copy of a slice from a DataFrame.\n",
      "Try using .loc[row_indexer,col_indexer] = value instead\n",
      "\n",
      "See the caveats in the documentation: https://pandas.pydata.org/pandas-docs/stable/user_guide/indexing.html#returning-a-view-versus-a-copy\n",
      "  temp_df['case_number_merged'] = temp_df['case_no'].fillna('') + temp_df['case_number'].fillna('')\n",
      "C:\\Users\\lassu\\PycharmProjects\\python_visa\\cleanup.py:249: SettingWithCopyWarning: \n",
      "A value is trying to be set on a copy of a slice from a DataFrame.\n",
      "Try using .loc[row_indexer,col_indexer] = value instead\n",
      "\n",
      "See the caveats in the documentation: https://pandas.pydata.org/pandas-docs/stable/user_guide/indexing.html#returning-a-view-versus-a-copy\n",
      "  temp_df['foreign_worker_info_education_other'] = temp_df['foreign_worker_info_education_other'].replace(r'^\\s*$',np.nan,regex=True)\n",
      "C:\\Users\\lassu\\PycharmProjects\\python_visa\\cleanup.py:250: SettingWithCopyWarning: \n",
      "A value is trying to be set on a copy of a slice from a DataFrame.\n",
      "Try using .loc[row_indexer,col_indexer] = value instead\n",
      "\n",
      "See the caveats in the documentation: https://pandas.pydata.org/pandas-docs/stable/user_guide/indexing.html#returning-a-view-versus-a-copy\n",
      "  temp_df['fw_info_education_other'] = temp_df['fw_info_education_other'].replace(r'^\\s*$', np.nan, regex=True)\n",
      "C:\\Users\\lassu\\PycharmProjects\\python_visa\\cleanup.py:251: SettingWithCopyWarning: \n",
      "A value is trying to be set on a copy of a slice from a DataFrame.\n",
      "Try using .loc[row_indexer,col_indexer] = value instead\n",
      "\n",
      "See the caveats in the documentation: https://pandas.pydata.org/pandas-docs/stable/user_guide/indexing.html#returning-a-view-versus-a-copy\n",
      "  temp_df['foreign_worker_info_education_other'] = temp_df['foreign_worker_info_education_other'].replace('None',np.nan,regex=True)\n",
      "C:\\Users\\lassu\\PycharmProjects\\python_visa\\cleanup.py:252: SettingWithCopyWarning: \n",
      "A value is trying to be set on a copy of a slice from a DataFrame.\n",
      "Try using .loc[row_indexer,col_indexer] = value instead\n",
      "\n",
      "See the caveats in the documentation: https://pandas.pydata.org/pandas-docs/stable/user_guide/indexing.html#returning-a-view-versus-a-copy\n",
      "  temp_df['fw_info_education_other'] = temp_df['fw_info_education_other'].replace('None', np.nan, regex=True)\n",
      "C:\\Users\\lassu\\PycharmProjects\\python_visa\\cleanup.py:256: SettingWithCopyWarning: \n",
      "A value is trying to be set on a copy of a slice from a DataFrame.\n",
      "Try using .loc[row_indexer,col_indexer] = value instead\n",
      "\n",
      "See the caveats in the documentation: https://pandas.pydata.org/pandas-docs/stable/user_guide/indexing.html#returning-a-view-versus-a-copy\n",
      "  temp_df['fw_info_education_other_merged'] = temp_df['foreign_worker_info_education_other'].fillna('') + temp_df['fw_info_education_other'].fillna('')\n",
      "C:\\Users\\lassu\\PycharmProjects\\python_visa\\cleanup.py:259: SettingWithCopyWarning: \n",
      "A value is trying to be set on a copy of a slice from a DataFrame.\n",
      "Try using .loc[row_indexer,col_indexer] = value instead\n",
      "\n",
      "See the caveats in the documentation: https://pandas.pydata.org/pandas-docs/stable/user_guide/indexing.html#returning-a-view-versus-a-copy\n",
      "  temp_df['fw_info_education_other_merged'] = temp_df['fw_info_education_other_merged'].replace(r'^\\s*$', np.nan,regex=True)\n",
      "C:\\Users\\lassu\\PycharmProjects\\python_visa\\cleanup.py:270: SettingWithCopyWarning: \n",
      "A value is trying to be set on a copy of a slice from a DataFrame.\n",
      "Try using .loc[row_indexer,col_indexer] = value instead\n",
      "\n",
      "See the caveats in the documentation: https://pandas.pydata.org/pandas-docs/stable/user_guide/indexing.html#returning-a-view-versus-a-copy\n",
      "  temp_df['country_of_citizenship_merged'] = temp_df['country_of_citizenship'].fillna('') + temp_df['country_of_citzenship'].fillna('')\n",
      "C:\\Users\\lassu\\PycharmProjects\\python_visa\\cleanup.py:273: SettingWithCopyWarning: \n",
      "A value is trying to be set on a copy of a slice from a DataFrame.\n",
      "Try using .loc[row_indexer,col_indexer] = value instead\n",
      "\n",
      "See the caveats in the documentation: https://pandas.pydata.org/pandas-docs/stable/user_guide/indexing.html#returning-a-view-versus-a-copy\n",
      "  temp_df['country_of_citizenship_merged'] = temp_df['country_of_citizenship_merged'].replace('', np.nan,regex=True)\n",
      "C:\\Users\\lassu\\PycharmProjects\\python_visa\\cleanup.py:300: SettingWithCopyWarning: \n",
      "A value is trying to be set on a copy of a slice from a DataFrame.\n",
      "Try using .loc[row_indexer,col_indexer] = value instead\n",
      "\n",
      "See the caveats in the documentation: https://pandas.pydata.org/pandas-docs/stable/user_guide/indexing.html#returning-a-view-versus-a-copy\n",
      "  temp_df[\"employer_name\"] = temp_df[\"employer_name\"].str.upper()\n",
      "C:\\Users\\lassu\\PycharmProjects\\python_visa\\cleanup.py:309: SettingWithCopyWarning: \n",
      "A value is trying to be set on a copy of a slice from a DataFrame.\n",
      "Try using .loc[row_indexer,col_indexer] = value instead\n",
      "\n",
      "See the caveats in the documentation: https://pandas.pydata.org/pandas-docs/stable/user_guide/indexing.html#returning-a-view-versus-a-copy\n",
      "  temp_df[\"employer_city\"] = temp_df[\"employer_city\"].str.upper()\n",
      "C:\\Users\\lassu\\PycharmProjects\\python_visa\\cleanup.py:283: SettingWithCopyWarning: \n",
      "A value is trying to be set on a copy of a slice from a DataFrame.\n",
      "Try using .loc[row_indexer,col_indexer] = value instead\n",
      "\n",
      "See the caveats in the documentation: https://pandas.pydata.org/pandas-docs/stable/user_guide/indexing.html#returning-a-view-versus-a-copy\n",
      "  temp_df[\"pw_amount_9089\"] = temp_df[\"pw_amount_9089\"].apply(clean_currency).astype('float')\n",
      "C:\\Users\\lassu\\PycharmProjects\\python_visa\\cleanup.py:291: SettingWithCopyWarning: \n",
      "A value is trying to be set on a copy of a slice from a DataFrame.\n",
      "Try using .loc[row_indexer,col_indexer] = value instead\n",
      "\n",
      "See the caveats in the documentation: https://pandas.pydata.org/pandas-docs/stable/user_guide/indexing.html#returning-a-view-versus-a-copy\n",
      "  temp_df['pw_unit_of_pay_9089'] = normalize_pay_unit_columns(temp_df['pw_unit_of_pay_9089'])\n",
      "C:\\Users\\lassu\\PycharmProjects\\python_visa\\cleanup.py:317: SettingWithCopyWarning: \n",
      "A value is trying to be set on a copy of a slice from a DataFrame.\n",
      "Try using .loc[row_indexer,col_indexer] = value instead\n",
      "\n",
      "See the caveats in the documentation: https://pandas.pydata.org/pandas-docs/stable/user_guide/indexing.html#returning-a-view-versus-a-copy\n",
      "  temp_df['pw_job_title_merged'] = temp_df['pw_job_title_9089'].fillna('') + temp_df['pw_job_title_908'].fillna('')\n",
      "C:\\Users\\lassu\\PycharmProjects\\python_visa\\cleanup.py:323: SettingWithCopyWarning: \n",
      "A value is trying to be set on a copy of a slice from a DataFrame.\n",
      "Try using .loc[row_indexer,col_indexer] = value instead\n",
      "\n",
      "See the caveats in the documentation: https://pandas.pydata.org/pandas-docs/stable/user_guide/indexing.html#returning-a-view-versus-a-copy\n",
      "  temp_df['pw_job_title_merged'] = temp_df['pw_job_title_merged'].fillna(temp_df['add_these_pw_job_title_9089'])\n",
      "C:\\Users\\lassu\\PycharmProjects\\python_visa\\cleanup.py:325: SettingWithCopyWarning: \n",
      "A value is trying to be set on a copy of a slice from a DataFrame.\n",
      "Try using .loc[row_indexer,col_indexer] = value instead\n",
      "\n",
      "See the caveats in the documentation: https://pandas.pydata.org/pandas-docs/stable/user_guide/indexing.html#returning-a-view-versus-a-copy\n",
      "  temp_df['pw_job_title_merged'] = temp_df['pw_job_title_merged'].str.lower()\n",
      "C:\\Users\\lassu\\PycharmProjects\\python_visa\\cleanup.py:327: SettingWithCopyWarning: \n",
      "A value is trying to be set on a copy of a slice from a DataFrame.\n",
      "Try using .loc[row_indexer,col_indexer] = value instead\n",
      "\n",
      "See the caveats in the documentation: https://pandas.pydata.org/pandas-docs/stable/user_guide/indexing.html#returning-a-view-versus-a-copy\n",
      "  temp_df[\"pw_job_title_merged\"] = temp_df[\"pw_job_title_merged\"].apply(turn_plural_to_singular_string)\n"
     ]
    },
    {
     "name": "stdout",
     "output_type": "stream",
     "text": [
      "   wage_offer_from wage_offer_unit_of_pay case_received_date decision_date  \\\n",
      "0         75629.00                     yr                NaT    2012-02-01   \n",
      "1         37024.00                     yr                NaT    2011-12-21   \n",
      "2         47923.00                     yr                NaT    2011-12-01   \n",
      "3            10.97                     hr                NaT    2011-12-01   \n",
      "4        100000.00                     yr                NaT    2012-01-26   \n",
      "\n",
      "  employer_state    case_number foreign_worker_info_education_other  \\\n",
      "0       NEW YORK  A-07323-97014                                 NaN   \n",
      "1       NEW YORK  A-07332-99439                                 NaN   \n",
      "2       VIRGINIA  A-07333-99643                                 NaN   \n",
      "3       NEW YORK  A-07339-01930                                 NaN   \n",
      "4       NEW YORK  A-07345-03565                                 NaN   \n",
      "\n",
      "  country_of_citizenship case_status     us_economic_sector  \\\n",
      "0                ARMENIA   Certified                     IT   \n",
      "1                 POLAND      Denied  Other Economic Sector   \n",
      "2                  INDIA   Certified              Aerospace   \n",
      "3            SOUTH KOREA   Certified  Other Economic Sector   \n",
      "4                 CANADA   Certified           Advanced Mfg   \n",
      "\n",
      "                 employer_name employer_city  prevailing_wage_amount_9089  \\\n",
      "0             NETSOFT USA INC.      NEW YORK                     75629.00   \n",
      "1  PINNACLE ENVIRONEMNTAL CORP     CARLSTADT                     37024.00   \n",
      "2   SCHNABEL ENGINEERING, INC.    GLEN ALLEN                     47923.00   \n",
      "3      EBENEZER MISSION CHURCH      FLUSHING                        10.97   \n",
      "4   ALBANY INTERNATIONAL CORP.        ALBANY                     94890.00   \n",
      "\n",
      "  prevailing_wage_unit_of_pay_9089 foreign_worker_info_education  \\\n",
      "0                               yr                           NaN   \n",
      "1                               yr                           NaN   \n",
      "2                               yr                           NaN   \n",
      "3                               hr                           NaN   \n",
      "4                               yr                           NaN   \n",
      "\n",
      "  pw_level_9089                               pw_soc_title class_of_admission  \\\n",
      "0      Level II  Computer Software Engineers, Applications                J-1   \n",
      "1       Level I        Hazardous Materials Removal Workers                B-2   \n",
      "2       Level I                            Civil Engineers               H-1B   \n",
      "3      Level II                                File Clerks                B-2   \n",
      "4      Level IV                            Sales Engineers                L-1   \n",
      "\n",
      "                          pw_job_title_9089  \n",
      "0  computer software engineers, application  \n",
      "1                          asbestos handler  \n",
      "2                            civil engineer  \n",
      "3                                file clerk  \n",
      "4                  sales & service engineer  \n"
     ]
    }
   ],
   "source": [
    "#cleanup.generate_cleaned_df()\n"
   ],
   "metadata": {
    "collapsed": false,
    "pycharm": {
     "name": "#%%\n"
    }
   }
  },
  {
   "cell_type": "code",
   "execution_count": 3,
   "outputs": [],
   "source": [
    "\n",
    "col_list = [\"country_of_citizenship\"]\n",
    "visas_df = pd.read_csv('../data/us_perm_visas_cleaned.csv', usecols=col_list)"
   ],
   "metadata": {
    "collapsed": false,
    "pycharm": {
     "name": "#%%\n"
    }
   }
  },
  {
   "cell_type": "code",
   "execution_count": 4,
   "outputs": [
    {
     "data": {
      "text/plain": "<matplotlib.axes._subplots.AxesSubplot at 0x8da3c58>"
     },
     "execution_count": 4,
     "metadata": {},
     "output_type": "execute_result"
    },
    {
     "data": {
      "text/plain": "<Figure size 432x288 with 1 Axes>",
      "image/png": "[encoded data removed]"
     },
     "metadata": {
      "needs_background": "light"
     },
     "output_type": "display_data"
    }
   ],
   "source": [
    "\n",
    "visas_df['country_of_citizenship'].value_counts()[:20].plot(kind='bar')"
   ],
   "metadata": {
    "collapsed": false,
    "pycharm": {
     "name": "#%%\n"
    }
   }
  },
  {
   "cell_type": "markdown",
   "source": [
    "\n",
    "\n",
    "Ergebnis: Die meisten Arbeitnehmer kommen aus den folgenden Ländern:\n",
    "\n",
    "- Indien\n",
    "- China\n",
    "- Süd Korea"
   ],
   "metadata": {
    "collapsed": false,
    "pycharm": {
     "name": "#%% md\n"
    }
   }
  },
  {
   "cell_type": "markdown",
   "source": [
    "## Anzeige als Weltkarte"
   ],
   "metadata": {
    "collapsed": false,
    "pycharm": {
     "name": "#%% md\n"
    }
   }
  },
  {
   "cell_type": "code",
   "execution_count": 13,
   "outputs": [],
   "source": [
    "# TODO: Darstellung als Weltkarte"
   ],
   "metadata": {
    "collapsed": false,
    "pycharm": {
     "name": "#%%\n"
    }
   }
  },
  {
   "cell_type": "code",
   "execution_count": null,
   "outputs": [],
   "source": [],
   "metadata": {
    "collapsed": false,
    "pycharm": {
     "name": "#%%\n"
    }
   }
  }
 ],
 "metadata": {
  "kernelspec": {
   "display_name": "Python 3",
   "language": "python",
   "name": "python3"
  },
  "language_info": {
   "codemirror_mode": {
    "name": "ipython",
    "version": 2
   },
   "file_extension": ".py",
   "mimetype": "text/x-python",
   "name": "python",
   "nbconvert_exporter": "python",
   "pygments_lexer": "ipython2",
   "version": "2.7.6"
  }
 },
 "nbformat": 4,
 "nbformat_minor": 0
}