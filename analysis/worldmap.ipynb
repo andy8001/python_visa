{
 "cells": [
  {
   "cell_type": "markdown",
   "metadata": {},
   "source": [
    "# Herkunftsländer der Arbeitnehmer (Weltkarte)"
   ]
  },
  {
   "cell_type": "code",
   "execution_count": 157,
   "metadata": {
    "pycharm": {
     "name": "#%%\n"
    }
   },
   "outputs": [],
   "source": [
    "import cleanup\n",
    "import pandas as pd\n",
    "import matplotlib.pyplot as plt\n",
    "plt.style.use('../own_style.mplstyle')\n",
    "from geopandas import GeoDataFrame\n",
    "import geopandas\n",
    "import modules\n",
    "\n"
   ]
  },
  {
   "cell_type": "code",
   "execution_count": 158,
   "metadata": {
    "pycharm": {
     "name": "#%%\n"
    }
   },
   "outputs": [],
   "source": [
    "#cleanup.generate_cleaned_df()\n"
   ]
  },
  {
   "cell_type": "markdown",
   "source": [
    "In diesem Kapitel sollen die Herkunftsländer der Arbeitnehmer auf einer Weltkarte visualisiert werden.\n",
    "Zuerst wird dafür die Spalte `country_of_citizenship` importiert.\n",
    "\n",
    "Anschließend begrenzen wir die Anzahl der angezeigten Länder auf 10."
   ],
   "metadata": {
    "collapsed": false,
    "pycharm": {
     "name": "#%% md\n"
    }
   }
  },
  {
   "cell_type": "code",
   "execution_count": 166,
   "metadata": {
    "pycharm": {
     "name": "#%%\n"
    }
   },
   "outputs": [],
   "source": [
    "col_list = [\"country_of_citizenship\"]\n",
    "visas_df = pd.read_csv('../data/us_perm_visas_cleaned.csv', usecols=col_list)"
   ]
  },
  {
   "cell_type": "code",
   "execution_count": 167,
   "metadata": {
    "pycharm": {
     "name": "#%%\n"
    }
   },
   "outputs": [],
   "source": [
    "visas_df = visas_df[\"country_of_citizenship\"].value_counts()[:10]\n",
    "visas_df = visas_df.to_frame()"
   ]
  },
  {
   "cell_type": "markdown",
   "source": [
    "Die Geometriedaten zur Darstellung der Herkunftsländer kommen von Geopandas.\n",
    "GeoPandas ist ein Open-Source-Projekt, um die Arbeit mit Geodaten in Python zu erleichtern.\n",
    "Siehe: https://geopandas.org/\n",
    "\n",
    "Unterstützen kann uns Geopandas in diesem Fall mit seinen vorgefertigten datasets:"
   ],
   "metadata": {
    "collapsed": false,
    "pycharm": {
     "name": "#%% md\n"
    }
   }
  },
  {
   "cell_type": "code",
   "execution_count": 161,
   "outputs": [
    {
     "data": {
      "text/plain": "['naturalearth_cities', 'naturalearth_lowres', 'nybb']"
     },
     "execution_count": 161,
     "metadata": {},
     "output_type": "execute_result"
    }
   ],
   "source": [
    "geopandas.datasets.available"
   ],
   "metadata": {
    "collapsed": false,
    "pycharm": {
     "name": "#%%\n"
    }
   }
  },
  {
   "cell_type": "markdown",
   "source": [
    "Das dataset naturalearth_lowres enthält hierbei die Konturen verschiedener Länder.\n",
    "Wir werden dieses dataset in ein world dataframe einlesen."
   ],
   "metadata": {
    "collapsed": false,
    "pycharm": {
     "name": "#%% md\n"
    }
   }
  },
  {
   "cell_type": "code",
   "execution_count": 162,
   "outputs": [],
   "source": [
    "world_df = geopandas.read_file(geopandas.datasets.get_path('naturalearth_lowres'))"
   ],
   "metadata": {
    "collapsed": false,
    "pycharm": {
     "name": "#%%\n"
    }
   }
  },
  {
   "cell_type": "markdown",
   "source": [
    "Die beiden DataFrames world_df (von Geopandas) und visas_df (aus unserem Datensatz) müssen nun zusammengeführt werden.\n",
    "Voraussetzung ist, dass die Ländernamen übereinstimmen.\n",
    "\n",
    "Dies wird im Folgenden abgeprüft.\n",
    "Es wird probeweise ein Merge durchgeführt."
   ],
   "metadata": {
    "collapsed": false,
    "pycharm": {
     "name": "#%% md\n"
    }
   }
  },
  {
   "cell_type": "code",
   "execution_count": 173,
   "outputs": [
    {
     "ename": "TypeError",
     "evalue": "merge() missing 1 required positional argument: 'right'",
     "output_type": "error",
     "traceback": [
      "\u001B[1;31m---------------------------------------------------------------------------\u001B[0m",
      "\u001B[1;31mTypeError\u001B[0m                                 Traceback (most recent call last)",
      "\u001B[1;32m<ipython-input-173-e63dfced5c4f>\u001B[0m in \u001B[0;36m<module>\u001B[1;34m\u001B[0m\n\u001B[1;32m----> 1\u001B[1;33m \u001B[0mtemp_df\u001B[0m \u001B[1;33m=\u001B[0m \u001B[0mvisas_df\u001B[0m\u001B[1;33m.\u001B[0m\u001B[0mmerge\u001B[0m\u001B[1;33m(\u001B[0m\u001B[0mhow\u001B[0m\u001B[1;33m=\u001B[0m\u001B[1;34m'left'\u001B[0m\u001B[1;33m,\u001B[0m\u001B[0mleft_on\u001B[0m \u001B[1;33m=\u001B[0m \u001B[1;34m\"index\"\u001B[0m\u001B[1;33m,\u001B[0m  \u001B[0mright_on\u001B[0m\u001B[1;33m=\u001B[0m\u001B[1;34m\"name\"\u001B[0m\u001B[1;33m)\u001B[0m\u001B[1;33m\u001B[0m\u001B[1;33m\u001B[0m\u001B[0m\n\u001B[0m\u001B[0;32m      2\u001B[0m \u001B[1;33m\u001B[0m\u001B[0m\n",
      "\u001B[1;31mTypeError\u001B[0m: merge() missing 1 required positional argument: 'right'"
     ]
    }
   ],
   "source": [
    "temp_df = visas_df.merge(\n",
    "    how='left',left_on = \"index\",  right_on=\"name\")"
   ],
   "metadata": {
    "collapsed": false,
    "pycharm": {
     "name": "#%%\n"
    }
   }
  },
  {
   "cell_type": "code",
   "execution_count": 171,
   "outputs": [
    {
     "data": {
      "text/plain": "0                          Fiji\n1                      Tanzania\n2                     W. Sahara\n3                        Canada\n4      United States of America\n                 ...           \n172                      Serbia\n173                  Montenegro\n174                      Kosovo\n175         Trinidad and Tobago\n176                    S. Sudan\nName: name, Length: 177, dtype: object"
     },
     "execution_count": 171,
     "metadata": {},
     "output_type": "execute_result"
    }
   ],
   "source": [
    "world_df['name']"
   ],
   "metadata": {
    "collapsed": false,
    "pycharm": {
     "name": "#%%\n"
    }
   }
  },
  {
   "cell_type": "code",
   "execution_count": 125,
   "metadata": {
    "pycharm": {
     "name": "#%%\n"
    }
   },
   "outputs": [],
   "source": [
    "web_table = pd.read_html('https://www.iban.com/country-codes', match='Country', keep_default_na=False)\n",
    "states_abbreviations_df = web_table[0]"
   ]
  },
  {
   "cell_type": "code",
   "execution_count": 172,
   "metadata": {
    "pycharm": {
     "name": "#%%\n"
    }
   },
   "outputs": [
    {
     "data": {
      "text/plain": "                Country Alpha-2 code Alpha-3 code  Numeric\n0           AFGHANISTAN           AF          AFG        4\n1         ÅLAND ISLANDS           AX          ALA      248\n2               ALBANIA           AL          ALB        8\n3               ALGERIA           DZ          DZA       12\n4        AMERICAN SAMOA           AS          ASM       16\n5               ANDORRA           AD          AND       20\n6                ANGOLA           AO          AGO       24\n7              ANGUILLA           AI          AIA      660\n8            ANTARCTICA           AQ          ATA       10\n9   ANTIGUA AND BARBUDA           AG          ATG       28\n10            ARGENTINA           AR          ARG       32\n11              ARMENIA           AM          ARM       51\n12                ARUBA           AW          ABW      533\n13            AUSTRALIA           AU          AUS       36\n14              AUSTRIA           AT          AUT       40\n15           AZERBAIJAN           AZ          AZE       31\n16        BAHAMAS (THE)           BS          BHS       44\n17              BAHRAIN           BH          BHR       48\n18           BANGLADESH           BD          BGD       50\n19             BARBADOS           BB          BRB       52",
      "text/html": "<div>\n<style scoped>\n    .dataframe tbody tr th:only-of-type {\n        vertical-align: middle;\n    }\n\n    .dataframe tbody tr th {\n        vertical-align: top;\n    }\n\n    .dataframe thead th {\n        text-align: right;\n    }\n</style>\n<table border=\"1\" class=\"dataframe\">\n  <thead>\n    <tr style=\"text-align: right;\">\n      <th></th>\n      <th>Country</th>\n      <th>Alpha-2 code</th>\n      <th>Alpha-3 code</th>\n      <th>Numeric</th>\n    </tr>\n  </thead>\n  <tbody>\n    <tr>\n      <th>0</th>\n      <td>AFGHANISTAN</td>\n      <td>AF</td>\n      <td>AFG</td>\n      <td>4</td>\n    </tr>\n    <tr>\n      <th>1</th>\n      <td>ÅLAND ISLANDS</td>\n      <td>AX</td>\n      <td>ALA</td>\n      <td>248</td>\n    </tr>\n    <tr>\n      <th>2</th>\n      <td>ALBANIA</td>\n      <td>AL</td>\n      <td>ALB</td>\n      <td>8</td>\n    </tr>\n    <tr>\n      <th>3</th>\n      <td>ALGERIA</td>\n      <td>DZ</td>\n      <td>DZA</td>\n      <td>12</td>\n    </tr>\n    <tr>\n      <th>4</th>\n      <td>AMERICAN SAMOA</td>\n      <td>AS</td>\n      <td>ASM</td>\n      <td>16</td>\n    </tr>\n    <tr>\n      <th>5</th>\n      <td>ANDORRA</td>\n      <td>AD</td>\n      <td>AND</td>\n      <td>20</td>\n    </tr>\n    <tr>\n      <th>6</th>\n      <td>ANGOLA</td>\n      <td>AO</td>\n      <td>AGO</td>\n      <td>24</td>\n    </tr>\n    <tr>\n      <th>7</th>\n      <td>ANGUILLA</td>\n      <td>AI</td>\n      <td>AIA</td>\n      <td>660</td>\n    </tr>\n    <tr>\n      <th>8</th>\n      <td>ANTARCTICA</td>\n      <td>AQ</td>\n      <td>ATA</td>\n      <td>10</td>\n    </tr>\n    <tr>\n      <th>9</th>\n      <td>ANTIGUA AND BARBUDA</td>\n      <td>AG</td>\n      <td>ATG</td>\n      <td>28</td>\n    </tr>\n    <tr>\n      <th>10</th>\n      <td>ARGENTINA</td>\n      <td>AR</td>\n      <td>ARG</td>\n      <td>32</td>\n    </tr>\n    <tr>\n      <th>11</th>\n      <td>ARMENIA</td>\n      <td>AM</td>\n      <td>ARM</td>\n      <td>51</td>\n    </tr>\n    <tr>\n      <th>12</th>\n      <td>ARUBA</td>\n      <td>AW</td>\n      <td>ABW</td>\n      <td>533</td>\n    </tr>\n    <tr>\n      <th>13</th>\n      <td>AUSTRALIA</td>\n      <td>AU</td>\n      <td>AUS</td>\n      <td>36</td>\n    </tr>\n    <tr>\n      <th>14</th>\n      <td>AUSTRIA</td>\n      <td>AT</td>\n      <td>AUT</td>\n      <td>40</td>\n    </tr>\n    <tr>\n      <th>15</th>\n      <td>AZERBAIJAN</td>\n      <td>AZ</td>\n      <td>AZE</td>\n      <td>31</td>\n    </tr>\n    <tr>\n      <th>16</th>\n      <td>BAHAMAS (THE)</td>\n      <td>BS</td>\n      <td>BHS</td>\n      <td>44</td>\n    </tr>\n    <tr>\n      <th>17</th>\n      <td>BAHRAIN</td>\n      <td>BH</td>\n      <td>BHR</td>\n      <td>48</td>\n    </tr>\n    <tr>\n      <th>18</th>\n      <td>BANGLADESH</td>\n      <td>BD</td>\n      <td>BGD</td>\n      <td>50</td>\n    </tr>\n    <tr>\n      <th>19</th>\n      <td>BARBADOS</td>\n      <td>BB</td>\n      <td>BRB</td>\n      <td>52</td>\n    </tr>\n  </tbody>\n</table>\n</div>"
     },
     "execution_count": 172,
     "metadata": {},
     "output_type": "execute_result"
    }
   ],
   "source": [
    "\n",
    "states_abbreviations_df [:20]"
   ]
  },
  {
   "cell_type": "code",
   "execution_count": 127,
   "metadata": {
    "pycharm": {
     "name": "#%%\n"
    }
   },
   "outputs": [],
   "source": [
    "\n",
    "states_abbreviations_df[\"Country\"] = states_abbreviations_df[\"Country\"].str.upper()"
   ]
  },
  {
   "cell_type": "code",
   "execution_count": 128,
   "metadata": {
    "pycharm": {
     "name": "#%%\n"
    }
   },
   "outputs": [
    {
     "data": {
      "text/plain": "               Country Alpha-2 code Alpha-3 code  Numeric\n0          AFGHANISTAN           AF          AFG        4\n1        ÅLAND ISLANDS           AX          ALA      248\n2              ALBANIA           AL          ALB        8\n3              ALGERIA           DZ          DZA       12\n4       AMERICAN SAMOA           AS          ASM       16\n..                 ...          ...          ...      ...\n244  WALLIS AND FUTUNA           WF          WLF      876\n245     WESTERN SAHARA           EH          ESH      732\n246              YEMEN           YE          YEM      887\n247             ZAMBIA           ZM          ZMB      894\n248           ZIMBABWE           ZW          ZWE      716\n\n[249 rows x 4 columns]",
      "text/html": "<div>\n<style scoped>\n    .dataframe tbody tr th:only-of-type {\n        vertical-align: middle;\n    }\n\n    .dataframe tbody tr th {\n        vertical-align: top;\n    }\n\n    .dataframe thead th {\n        text-align: right;\n    }\n</style>\n<table border=\"1\" class=\"dataframe\">\n  <thead>\n    <tr style=\"text-align: right;\">\n      <th></th>\n      <th>Country</th>\n      <th>Alpha-2 code</th>\n      <th>Alpha-3 code</th>\n      <th>Numeric</th>\n    </tr>\n  </thead>\n  <tbody>\n    <tr>\n      <th>0</th>\n      <td>AFGHANISTAN</td>\n      <td>AF</td>\n      <td>AFG</td>\n      <td>4</td>\n    </tr>\n    <tr>\n      <th>1</th>\n      <td>ÅLAND ISLANDS</td>\n      <td>AX</td>\n      <td>ALA</td>\n      <td>248</td>\n    </tr>\n    <tr>\n      <th>2</th>\n      <td>ALBANIA</td>\n      <td>AL</td>\n      <td>ALB</td>\n      <td>8</td>\n    </tr>\n    <tr>\n      <th>3</th>\n      <td>ALGERIA</td>\n      <td>DZ</td>\n      <td>DZA</td>\n      <td>12</td>\n    </tr>\n    <tr>\n      <th>4</th>\n      <td>AMERICAN SAMOA</td>\n      <td>AS</td>\n      <td>ASM</td>\n      <td>16</td>\n    </tr>\n    <tr>\n      <th>...</th>\n      <td>...</td>\n      <td>...</td>\n      <td>...</td>\n      <td>...</td>\n    </tr>\n    <tr>\n      <th>244</th>\n      <td>WALLIS AND FUTUNA</td>\n      <td>WF</td>\n      <td>WLF</td>\n      <td>876</td>\n    </tr>\n    <tr>\n      <th>245</th>\n      <td>WESTERN SAHARA</td>\n      <td>EH</td>\n      <td>ESH</td>\n      <td>732</td>\n    </tr>\n    <tr>\n      <th>246</th>\n      <td>YEMEN</td>\n      <td>YE</td>\n      <td>YEM</td>\n      <td>887</td>\n    </tr>\n    <tr>\n      <th>247</th>\n      <td>ZAMBIA</td>\n      <td>ZM</td>\n      <td>ZMB</td>\n      <td>894</td>\n    </tr>\n    <tr>\n      <th>248</th>\n      <td>ZIMBABWE</td>\n      <td>ZW</td>\n      <td>ZWE</td>\n      <td>716</td>\n    </tr>\n  </tbody>\n</table>\n<p>249 rows × 4 columns</p>\n</div>"
     },
     "execution_count": 128,
     "metadata": {},
     "output_type": "execute_result"
    }
   ],
   "source": [
    "states_abbreviations_df\n"
   ]
  },
  {
   "cell_type": "code",
   "execution_count": 129,
   "metadata": {
    "pycharm": {
     "name": "#%%\n"
    }
   },
   "outputs": [],
   "source": [
    "\n",
    "visas_df = visas_df.to_frame()"
   ]
  },
  {
   "cell_type": "code",
   "execution_count": 130,
   "outputs": [],
   "source": [
    "visas_df.reset_index(level=0, inplace=True)\n"
   ],
   "metadata": {
    "collapsed": false,
    "pycharm": {
     "name": "#%%\n"
    }
   }
  },
  {
   "cell_type": "code",
   "execution_count": 131,
   "metadata": {
    "pycharm": {
     "name": "#%%\n"
    }
   },
   "outputs": [
    {
     "data": {
      "text/plain": "            index  country_of_citizenship\n0           INDIA                  205158\n1           CHINA                   28861\n2     SOUTH KOREA                   24761\n3          CANADA                   14804\n4          MEXICO                    8961\n5     PHILIPPINES                    8631\n6  UNITED KINGDOM                    4972\n7          TAIWAN                    4173\n8        PAKISTAN                    3962\n9          FRANCE                    3173",
      "text/html": "<div>\n<style scoped>\n    .dataframe tbody tr th:only-of-type {\n        vertical-align: middle;\n    }\n\n    .dataframe tbody tr th {\n        vertical-align: top;\n    }\n\n    .dataframe thead th {\n        text-align: right;\n    }\n</style>\n<table border=\"1\" class=\"dataframe\">\n  <thead>\n    <tr style=\"text-align: right;\">\n      <th></th>\n      <th>index</th>\n      <th>country_of_citizenship</th>\n    </tr>\n  </thead>\n  <tbody>\n    <tr>\n      <th>0</th>\n      <td>INDIA</td>\n      <td>205158</td>\n    </tr>\n    <tr>\n      <th>1</th>\n      <td>CHINA</td>\n      <td>28861</td>\n    </tr>\n    <tr>\n      <th>2</th>\n      <td>SOUTH KOREA</td>\n      <td>24761</td>\n    </tr>\n    <tr>\n      <th>3</th>\n      <td>CANADA</td>\n      <td>14804</td>\n    </tr>\n    <tr>\n      <th>4</th>\n      <td>MEXICO</td>\n      <td>8961</td>\n    </tr>\n    <tr>\n      <th>5</th>\n      <td>PHILIPPINES</td>\n      <td>8631</td>\n    </tr>\n    <tr>\n      <th>6</th>\n      <td>UNITED KINGDOM</td>\n      <td>4972</td>\n    </tr>\n    <tr>\n      <th>7</th>\n      <td>TAIWAN</td>\n      <td>4173</td>\n    </tr>\n    <tr>\n      <th>8</th>\n      <td>PAKISTAN</td>\n      <td>3962</td>\n    </tr>\n    <tr>\n      <th>9</th>\n      <td>FRANCE</td>\n      <td>3173</td>\n    </tr>\n  </tbody>\n</table>\n</div>"
     },
     "execution_count": 131,
     "metadata": {},
     "output_type": "execute_result"
    }
   ],
   "source": [
    "visas_df\n"
   ]
  },
  {
   "cell_type": "code",
   "execution_count": 132,
   "metadata": {
    "pycharm": {
     "name": "#%%\n"
    }
   },
   "outputs": [],
   "source": [
    "visas_df = visas_df.merge(states_abbreviations_df, left_on='index', right_on=\"Country\")"
   ]
  },
  {
   "cell_type": "code",
   "execution_count": 132,
   "metadata": {
    "pycharm": {
     "name": "#%%\n"
    }
   },
   "outputs": [],
   "source": []
  },
  {
   "cell_type": "code",
   "execution_count": 133,
   "metadata": {
    "pycharm": {
     "name": "#%%\n"
    }
   },
   "outputs": [
    {
     "data": {
      "text/plain": "      index  country_of_citizenship   Country Alpha-2 code Alpha-3 code  \\\n0     INDIA                  205158     INDIA           IN          IND   \n1     CHINA                   28861     CHINA           CN          CHN   \n2    CANADA                   14804    CANADA           CA          CAN   \n3    MEXICO                    8961    MEXICO           MX          MEX   \n4  PAKISTAN                    3962  PAKISTAN           PK          PAK   \n5    FRANCE                    3173    FRANCE           FR          FRA   \n\n   Numeric  \n0      356  \n1      156  \n2      124  \n3      484  \n4      586  \n5      250  ",
      "text/html": "<div>\n<style scoped>\n    .dataframe tbody tr th:only-of-type {\n        vertical-align: middle;\n    }\n\n    .dataframe tbody tr th {\n        vertical-align: top;\n    }\n\n    .dataframe thead th {\n        text-align: right;\n    }\n</style>\n<table border=\"1\" class=\"dataframe\">\n  <thead>\n    <tr style=\"text-align: right;\">\n      <th></th>\n      <th>index</th>\n      <th>country_of_citizenship</th>\n      <th>Country</th>\n      <th>Alpha-2 code</th>\n      <th>Alpha-3 code</th>\n      <th>Numeric</th>\n    </tr>\n  </thead>\n  <tbody>\n    <tr>\n      <th>0</th>\n      <td>INDIA</td>\n      <td>205158</td>\n      <td>INDIA</td>\n      <td>IN</td>\n      <td>IND</td>\n      <td>356</td>\n    </tr>\n    <tr>\n      <th>1</th>\n      <td>CHINA</td>\n      <td>28861</td>\n      <td>CHINA</td>\n      <td>CN</td>\n      <td>CHN</td>\n      <td>156</td>\n    </tr>\n    <tr>\n      <th>2</th>\n      <td>CANADA</td>\n      <td>14804</td>\n      <td>CANADA</td>\n      <td>CA</td>\n      <td>CAN</td>\n      <td>124</td>\n    </tr>\n    <tr>\n      <th>3</th>\n      <td>MEXICO</td>\n      <td>8961</td>\n      <td>MEXICO</td>\n      <td>MX</td>\n      <td>MEX</td>\n      <td>484</td>\n    </tr>\n    <tr>\n      <th>4</th>\n      <td>PAKISTAN</td>\n      <td>3962</td>\n      <td>PAKISTAN</td>\n      <td>PK</td>\n      <td>PAK</td>\n      <td>586</td>\n    </tr>\n    <tr>\n      <th>5</th>\n      <td>FRANCE</td>\n      <td>3173</td>\n      <td>FRANCE</td>\n      <td>FR</td>\n      <td>FRA</td>\n      <td>250</td>\n    </tr>\n  </tbody>\n</table>\n</div>"
     },
     "execution_count": 133,
     "metadata": {},
     "output_type": "execute_result"
    }
   ],
   "source": [
    "visas_df.head(50)"
   ]
  },
  {
   "cell_type": "code",
   "execution_count": 134,
   "metadata": {
    "pycharm": {
     "name": "#%%\n"
    }
   },
   "outputs": [],
   "source": [
    "#web_table2 = pd.read_html('https://developers.google.com/public-data/docs/canonical/countries_csv', match='country', keep_default_na=False)"
   ]
  },
  {
   "cell_type": "code",
   "execution_count": 135,
   "metadata": {
    "pycharm": {
     "name": "#%%\n"
    }
   },
   "outputs": [],
   "source": [
    "#web_table2 = web_table2[0]"
   ]
  },
  {
   "cell_type": "code",
   "execution_count": 136,
   "metadata": {
    "pycharm": {
     "name": "#%%\n"
    }
   },
   "outputs": [],
   "source": [
    "\n",
    "#web_table2"
   ]
  },
  {
   "cell_type": "code",
   "execution_count": 137,
   "metadata": {
    "pycharm": {
     "name": "#%%\n"
    }
   },
   "outputs": [],
   "source": [
    "#visas_df = visas_df.merge(web_table2, left_on='Code', right_on=\"country\")"
   ]
  },
  {
   "cell_type": "code",
   "execution_count": 138,
   "metadata": {
    "pycharm": {
     "name": "#%%\n"
    }
   },
   "outputs": [
    {
     "data": {
      "text/plain": "      index  country_of_citizenship   Country Alpha-2 code Alpha-3 code  \\\n0     INDIA                  205158     INDIA           IN          IND   \n1     CHINA                   28861     CHINA           CN          CHN   \n2    CANADA                   14804    CANADA           CA          CAN   \n3    MEXICO                    8961    MEXICO           MX          MEX   \n4  PAKISTAN                    3962  PAKISTAN           PK          PAK   \n5    FRANCE                    3173    FRANCE           FR          FRA   \n\n   Numeric  \n0      356  \n1      156  \n2      124  \n3      484  \n4      586  \n5      250  ",
      "text/html": "<div>\n<style scoped>\n    .dataframe tbody tr th:only-of-type {\n        vertical-align: middle;\n    }\n\n    .dataframe tbody tr th {\n        vertical-align: top;\n    }\n\n    .dataframe thead th {\n        text-align: right;\n    }\n</style>\n<table border=\"1\" class=\"dataframe\">\n  <thead>\n    <tr style=\"text-align: right;\">\n      <th></th>\n      <th>index</th>\n      <th>country_of_citizenship</th>\n      <th>Country</th>\n      <th>Alpha-2 code</th>\n      <th>Alpha-3 code</th>\n      <th>Numeric</th>\n    </tr>\n  </thead>\n  <tbody>\n    <tr>\n      <th>0</th>\n      <td>INDIA</td>\n      <td>205158</td>\n      <td>INDIA</td>\n      <td>IN</td>\n      <td>IND</td>\n      <td>356</td>\n    </tr>\n    <tr>\n      <th>1</th>\n      <td>CHINA</td>\n      <td>28861</td>\n      <td>CHINA</td>\n      <td>CN</td>\n      <td>CHN</td>\n      <td>156</td>\n    </tr>\n    <tr>\n      <th>2</th>\n      <td>CANADA</td>\n      <td>14804</td>\n      <td>CANADA</td>\n      <td>CA</td>\n      <td>CAN</td>\n      <td>124</td>\n    </tr>\n    <tr>\n      <th>3</th>\n      <td>MEXICO</td>\n      <td>8961</td>\n      <td>MEXICO</td>\n      <td>MX</td>\n      <td>MEX</td>\n      <td>484</td>\n    </tr>\n    <tr>\n      <th>4</th>\n      <td>PAKISTAN</td>\n      <td>3962</td>\n      <td>PAKISTAN</td>\n      <td>PK</td>\n      <td>PAK</td>\n      <td>586</td>\n    </tr>\n    <tr>\n      <th>5</th>\n      <td>FRANCE</td>\n      <td>3173</td>\n      <td>FRANCE</td>\n      <td>FR</td>\n      <td>FRA</td>\n      <td>250</td>\n    </tr>\n  </tbody>\n</table>\n</div>"
     },
     "execution_count": 138,
     "metadata": {},
     "output_type": "execute_result"
    }
   ],
   "source": [
    "visas_df"
   ]
  },
  {
   "cell_type": "code",
   "execution_count": 139,
   "metadata": {
    "pycharm": {
     "name": "#%%\n"
    }
   },
   "outputs": [],
   "source": [
    "#visas_df[\"latitude\"] = visas_df[\"latitude\"].astype(\"float\")\n",
    "#visas_df[\"longitude\"] = visas_df[\"longitude\"].astype(\"float\")"
   ]
  },
  {
   "cell_type": "code",
   "execution_count": 140,
   "metadata": {
    "pycharm": {
     "name": "#%%\n"
    }
   },
   "outputs": [],
   "source": [
    "#fig, ax = plt.subplots(figsize=(10, 6))\n",
    "#ax.scatter(visas_df[\"latitude\"], visas_df[\"longitude\"])\n",
    "#ax.axis('equal')\n",
    "#plt.show()"
   ]
  },
  {
   "cell_type": "code",
   "execution_count": 141,
   "metadata": {
    "pycharm": {
     "name": "#%%\n"
    }
   },
   "outputs": [],
   "source": [
    "\n",
    "#visas_df[\"country_of_citizenship\"] = visas_df[\"country_of_citizenship\"].astype((\"float\"))"
   ]
  },
  {
   "cell_type": "code",
   "execution_count": 142,
   "metadata": {
    "pycharm": {
     "name": "#%%\n"
    }
   },
   "outputs": [],
   "source": [
    "visas_df = GeoDataFrame(visas_df)"
   ]
  },
  {
   "cell_type": "code",
   "execution_count": 143,
   "metadata": {
    "pycharm": {
     "name": "#%%\n"
    }
   },
   "outputs": [
    {
     "data": {
      "text/plain": "      index  country_of_citizenship   Country Alpha-2 code Alpha-3 code  \\\n0     INDIA                  205158     INDIA           IN          IND   \n1     CHINA                   28861     CHINA           CN          CHN   \n2    CANADA                   14804    CANADA           CA          CAN   \n3    MEXICO                    8961    MEXICO           MX          MEX   \n4  PAKISTAN                    3962  PAKISTAN           PK          PAK   \n5    FRANCE                    3173    FRANCE           FR          FRA   \n\n   Numeric  \n0      356  \n1      156  \n2      124  \n3      484  \n4      586  \n5      250  ",
      "text/html": "<div>\n<style scoped>\n    .dataframe tbody tr th:only-of-type {\n        vertical-align: middle;\n    }\n\n    .dataframe tbody tr th {\n        vertical-align: top;\n    }\n\n    .dataframe thead th {\n        text-align: right;\n    }\n</style>\n<table border=\"1\" class=\"dataframe\">\n  <thead>\n    <tr style=\"text-align: right;\">\n      <th></th>\n      <th>index</th>\n      <th>country_of_citizenship</th>\n      <th>Country</th>\n      <th>Alpha-2 code</th>\n      <th>Alpha-3 code</th>\n      <th>Numeric</th>\n    </tr>\n  </thead>\n  <tbody>\n    <tr>\n      <th>0</th>\n      <td>INDIA</td>\n      <td>205158</td>\n      <td>INDIA</td>\n      <td>IN</td>\n      <td>IND</td>\n      <td>356</td>\n    </tr>\n    <tr>\n      <th>1</th>\n      <td>CHINA</td>\n      <td>28861</td>\n      <td>CHINA</td>\n      <td>CN</td>\n      <td>CHN</td>\n      <td>156</td>\n    </tr>\n    <tr>\n      <th>2</th>\n      <td>CANADA</td>\n      <td>14804</td>\n      <td>CANADA</td>\n      <td>CA</td>\n      <td>CAN</td>\n      <td>124</td>\n    </tr>\n    <tr>\n      <th>3</th>\n      <td>MEXICO</td>\n      <td>8961</td>\n      <td>MEXICO</td>\n      <td>MX</td>\n      <td>MEX</td>\n      <td>484</td>\n    </tr>\n    <tr>\n      <th>4</th>\n      <td>PAKISTAN</td>\n      <td>3962</td>\n      <td>PAKISTAN</td>\n      <td>PK</td>\n      <td>PAK</td>\n      <td>586</td>\n    </tr>\n    <tr>\n      <th>5</th>\n      <td>FRANCE</td>\n      <td>3173</td>\n      <td>FRANCE</td>\n      <td>FR</td>\n      <td>FRA</td>\n      <td>250</td>\n    </tr>\n  </tbody>\n</table>\n</div>"
     },
     "execution_count": 143,
     "metadata": {},
     "output_type": "execute_result"
    }
   ],
   "source": [
    "visas_df\n"
   ]
  },
  {
   "cell_type": "code",
   "execution_count": 144,
   "metadata": {
    "pycharm": {
     "name": "#%%\n"
    }
   },
   "outputs": [],
   "source": [
    "world = geopandas.read_file(geopandas.datasets.get_path('naturalearth_lowres'))"
   ]
  },
  {
   "cell_type": "code",
   "execution_count": 152,
   "metadata": {
    "scrolled": true
   },
   "outputs": [
    {
     "data": {
      "text/plain": "       pop_est      continent                      name iso_a3  gdp_md_est  \\\n0       920938        Oceania                      Fiji    FJI      8374.0   \n1     53950935         Africa                  Tanzania    TZA    150600.0   \n2       603253         Africa                 W. Sahara    ESH       906.5   \n3     35623680  North America                    Canada    CAN   1674000.0   \n4    326625791  North America  United States of America    USA  18560000.0   \n..         ...            ...                       ...    ...         ...   \n172    7111024         Europe                    Serbia    SRB    101800.0   \n173     642550         Europe                Montenegro    MNE     10610.0   \n174    1895250         Europe                    Kosovo    -99     18490.0   \n175    1218208  North America       Trinidad and Tobago    TTO     43570.0   \n176   13026129         Africa                  S. Sudan    SSD     20880.0   \n\n                                              geometry  \n0    MULTIPOLYGON (((180.00000 -16.06713, 180.00000...  \n1    POLYGON ((33.90371 -0.95000, 34.07262 -1.05982...  \n2    POLYGON ((-8.66559 27.65643, -8.66512 27.58948...  \n3    MULTIPOLYGON (((-122.84000 49.00000, -122.9742...  \n4    MULTIPOLYGON (((-122.84000 49.00000, -120.0000...  \n..                                                 ...  \n172  POLYGON ((18.82982 45.90887, 18.82984 45.90888...  \n173  POLYGON ((20.07070 42.58863, 19.80161 42.50009...  \n174  POLYGON ((20.59025 41.85541, 20.52295 42.21787...  \n175  POLYGON ((-61.68000 10.76000, -61.10500 10.890...  \n176  POLYGON ((30.83385 3.50917, 29.95350 4.17370, ...  \n\n[177 rows x 6 columns]",
      "text/html": "<div>\n<style scoped>\n    .dataframe tbody tr th:only-of-type {\n        vertical-align: middle;\n    }\n\n    .dataframe tbody tr th {\n        vertical-align: top;\n    }\n\n    .dataframe thead th {\n        text-align: right;\n    }\n</style>\n<table border=\"1\" class=\"dataframe\">\n  <thead>\n    <tr style=\"text-align: right;\">\n      <th></th>\n      <th>pop_est</th>\n      <th>continent</th>\n      <th>name</th>\n      <th>iso_a3</th>\n      <th>gdp_md_est</th>\n      <th>geometry</th>\n    </tr>\n  </thead>\n  <tbody>\n    <tr>\n      <th>0</th>\n      <td>920938</td>\n      <td>Oceania</td>\n      <td>Fiji</td>\n      <td>FJI</td>\n      <td>8374.0</td>\n      <td>MULTIPOLYGON (((180.00000 -16.06713, 180.00000...</td>\n    </tr>\n    <tr>\n      <th>1</th>\n      <td>53950935</td>\n      <td>Africa</td>\n      <td>Tanzania</td>\n      <td>TZA</td>\n      <td>150600.0</td>\n      <td>POLYGON ((33.90371 -0.95000, 34.07262 -1.05982...</td>\n    </tr>\n    <tr>\n      <th>2</th>\n      <td>603253</td>\n      <td>Africa</td>\n      <td>W. Sahara</td>\n      <td>ESH</td>\n      <td>906.5</td>\n      <td>POLYGON ((-8.66559 27.65643, -8.66512 27.58948...</td>\n    </tr>\n    <tr>\n      <th>3</th>\n      <td>35623680</td>\n      <td>North America</td>\n      <td>Canada</td>\n      <td>CAN</td>\n      <td>1674000.0</td>\n      <td>MULTIPOLYGON (((-122.84000 49.00000, -122.9742...</td>\n    </tr>\n    <tr>\n      <th>4</th>\n      <td>326625791</td>\n      <td>North America</td>\n      <td>United States of America</td>\n      <td>USA</td>\n      <td>18560000.0</td>\n      <td>MULTIPOLYGON (((-122.84000 49.00000, -120.0000...</td>\n    </tr>\n    <tr>\n      <th>...</th>\n      <td>...</td>\n      <td>...</td>\n      <td>...</td>\n      <td>...</td>\n      <td>...</td>\n      <td>...</td>\n    </tr>\n    <tr>\n      <th>172</th>\n      <td>7111024</td>\n      <td>Europe</td>\n      <td>Serbia</td>\n      <td>SRB</td>\n      <td>101800.0</td>\n      <td>POLYGON ((18.82982 45.90887, 18.82984 45.90888...</td>\n    </tr>\n    <tr>\n      <th>173</th>\n      <td>642550</td>\n      <td>Europe</td>\n      <td>Montenegro</td>\n      <td>MNE</td>\n      <td>10610.0</td>\n      <td>POLYGON ((20.07070 42.58863, 19.80161 42.50009...</td>\n    </tr>\n    <tr>\n      <th>174</th>\n      <td>1895250</td>\n      <td>Europe</td>\n      <td>Kosovo</td>\n      <td>-99</td>\n      <td>18490.0</td>\n      <td>POLYGON ((20.59025 41.85541, 20.52295 42.21787...</td>\n    </tr>\n    <tr>\n      <th>175</th>\n      <td>1218208</td>\n      <td>North America</td>\n      <td>Trinidad and Tobago</td>\n      <td>TTO</td>\n      <td>43570.0</td>\n      <td>POLYGON ((-61.68000 10.76000, -61.10500 10.890...</td>\n    </tr>\n    <tr>\n      <th>176</th>\n      <td>13026129</td>\n      <td>Africa</td>\n      <td>S. Sudan</td>\n      <td>SSD</td>\n      <td>20880.0</td>\n      <td>POLYGON ((30.83385 3.50917, 29.95350 4.17370, ...</td>\n    </tr>\n  </tbody>\n</table>\n<p>177 rows × 6 columns</p>\n</div>"
     },
     "execution_count": 152,
     "metadata": {},
     "output_type": "execute_result"
    }
   ],
   "source": [
    "world"
   ]
  },
  {
   "cell_type": "code",
   "execution_count": 146,
   "metadata": {},
   "outputs": [],
   "source": [
    "world.iloc[43, world.columns.get_loc('iso_a3')] = \"FRA\""
   ]
  },
  {
   "cell_type": "code",
   "execution_count": 147,
   "metadata": {},
   "outputs": [
    {
     "name": "stdout",
     "output_type": "stream",
     "text": [
      "        pop_est                continent                      name iso_a3  \\\n",
      "0        920938                  Oceania                      Fiji    FJI   \n",
      "1      53950935                   Africa                  Tanzania    TZA   \n",
      "2        603253                   Africa                 W. Sahara    ESH   \n",
      "3      35623680            North America                    Canada    CAN   \n",
      "4     326625791            North America  United States of America    USA   \n",
      "5      18556698                     Asia                Kazakhstan    KAZ   \n",
      "6      29748859                     Asia                Uzbekistan    UZB   \n",
      "7       6909701                  Oceania          Papua New Guinea    PNG   \n",
      "8     260580739                     Asia                 Indonesia    IDN   \n",
      "9      44293293            South America                 Argentina    ARG   \n",
      "10     17789267            South America                     Chile    CHL   \n",
      "11     83301151                   Africa           Dem. Rep. Congo    COD   \n",
      "12      7531386                   Africa                   Somalia    SOM   \n",
      "13     47615739                   Africa                     Kenya    KEN   \n",
      "14     37345935                   Africa                     Sudan    SDN   \n",
      "15     12075985                   Africa                      Chad    TCD   \n",
      "16     10646714            North America                     Haiti    HTI   \n",
      "17     10734247            North America            Dominican Rep.    DOM   \n",
      "18    142257519                   Europe                    Russia    RUS   \n",
      "19       329988            North America                   Bahamas    BHS   \n",
      "20         2931            South America              Falkland Is.    FLK   \n",
      "21      5320045                   Europe                    Norway    -99   \n",
      "22        57713            North America                 Greenland    GRL   \n",
      "23          140  Seven seas (open ocean)    Fr. S. Antarctic Lands    ATF   \n",
      "24      1291358                     Asia               Timor-Leste    TLS   \n",
      "25     54841552                   Africa              South Africa    ZAF   \n",
      "26      1958042                   Africa                   Lesotho    LSO   \n",
      "27    124574795            North America                    Mexico    MEX   \n",
      "28      3360148            South America                   Uruguay    URY   \n",
      "29    207353391            South America                    Brazil    BRA   \n",
      "30     11138234            South America                   Bolivia    BOL   \n",
      "31     31036656            South America                      Peru    PER   \n",
      "32     47698524            South America                  Colombia    COL   \n",
      "33      3753142            North America                    Panama    PAN   \n",
      "34      4930258            North America                Costa Rica    CRI   \n",
      "35      6025951            North America                 Nicaragua    NIC   \n",
      "36      9038741            North America                  Honduras    HND   \n",
      "37      6172011            North America               El Salvador    SLV   \n",
      "38     15460732            North America                 Guatemala    GTM   \n",
      "39       360346            North America                    Belize    BLZ   \n",
      "40     31304016            South America                 Venezuela    VEN   \n",
      "41       737718            South America                    Guyana    GUY   \n",
      "42       591919            South America                  Suriname    SUR   \n",
      "43     67106161                   Europe                    France    FRA   \n",
      "44     16290913            South America                   Ecuador    ECU   \n",
      "45      3351827            North America               Puerto Rico    PRI   \n",
      "46      2990561            North America                   Jamaica    JAM   \n",
      "47     11147407            North America                      Cuba    CUB   \n",
      "48     13805084                   Africa                  Zimbabwe    ZWE   \n",
      "49      2214858                   Africa                  Botswana    BWA   \n",
      "50      2484780                   Africa                   Namibia    NAM   \n",
      "51     14668522                   Africa                   Senegal    SEN   \n",
      "52     17885245                   Africa                      Mali    MLI   \n",
      "53      3758571                   Africa                Mauritania    MRT   \n",
      "54     11038805                   Africa                     Benin    BEN   \n",
      "55     19245344                   Africa                     Niger    NER   \n",
      "56    190632261                   Africa                   Nigeria    NGA   \n",
      "57     24994885                   Africa                  Cameroon    CMR   \n",
      "58      7965055                   Africa                      Togo    TGO   \n",
      "59     27499924                   Africa                     Ghana    GHA   \n",
      "60     24184810                   Africa             Côte d'Ivoire    CIV   \n",
      "61     12413867                   Africa                    Guinea    GIN   \n",
      "62      1792338                   Africa             Guinea-Bissau    GNB   \n",
      "63      4689021                   Africa                   Liberia    LBR   \n",
      "64      6163195                   Africa              Sierra Leone    SLE   \n",
      "65     20107509                   Africa              Burkina Faso    BFA   \n",
      "66      5625118                   Africa      Central African Rep.    CAF   \n",
      "67      4954674                   Africa                     Congo    COG   \n",
      "68      1772255                   Africa                     Gabon    GAB   \n",
      "69       778358                   Africa                Eq. Guinea    GNQ   \n",
      "70     15972000                   Africa                    Zambia    ZMB   \n",
      "71     19196246                   Africa                    Malawi    MWI   \n",
      "72     26573706                   Africa                Mozambique    MOZ   \n",
      "73      1467152                   Africa                  eSwatini    SWZ   \n",
      "74     29310273                   Africa                    Angola    AGO   \n",
      "75     11466756                   Africa                   Burundi    BDI   \n",
      "76      8299706                     Asia                    Israel    ISR   \n",
      "77      6229794                     Asia                   Lebanon    LBN   \n",
      "78     25054161                   Africa                Madagascar    MDG   \n",
      "79      4543126                     Asia                 Palestine    PSE   \n",
      "80      2051363                   Africa                    Gambia    GMB   \n",
      "81     11403800                   Africa                   Tunisia    TUN   \n",
      "82     40969443                   Africa                   Algeria    DZA   \n",
      "83     10248069                     Asia                    Jordan    JOR   \n",
      "84      6072475                     Asia      United Arab Emirates    ARE   \n",
      "85      2314307                     Asia                     Qatar    QAT   \n",
      "86      2875422                     Asia                    Kuwait    KWT   \n",
      "87     39192111                     Asia                      Iraq    IRQ   \n",
      "88      3424386                     Asia                      Oman    OMN   \n",
      "89       282814                  Oceania                   Vanuatu    VUT   \n",
      "90     16204486                     Asia                  Cambodia    KHM   \n",
      "91     68414135                     Asia                  Thailand    THA   \n",
      "92      7126706                     Asia                      Laos    LAO   \n",
      "93     55123814                     Asia                   Myanmar    MMR   \n",
      "94     96160163                     Asia                   Vietnam    VNM   \n",
      "95     25248140                     Asia               North Korea    PRK   \n",
      "96     51181299                     Asia               South Korea    KOR   \n",
      "97      3068243                     Asia                  Mongolia    MNG   \n",
      "98   1281935911                     Asia                     India    IND   \n",
      "99    157826578                     Asia                Bangladesh    BGD   \n",
      "100      758288                     Asia                    Bhutan    BTN   \n",
      "101    29384297                     Asia                     Nepal    NPL   \n",
      "102   204924861                     Asia                  Pakistan    PAK   \n",
      "103    34124811                     Asia               Afghanistan    AFG   \n",
      "104     8468555                     Asia                Tajikistan    TJK   \n",
      "105     5789122                     Asia                Kyrgyzstan    KGZ   \n",
      "106     5351277                     Asia              Turkmenistan    TKM   \n",
      "107    82021564                     Asia                      Iran    IRN   \n",
      "108    18028549                     Asia                     Syria    SYR   \n",
      "109     3045191                     Asia                   Armenia    ARM   \n",
      "110     9960487                   Europe                    Sweden    SWE   \n",
      "111     9549747                   Europe                   Belarus    BLR   \n",
      "112    44033874                   Europe                   Ukraine    UKR   \n",
      "113    38476269                   Europe                    Poland    POL   \n",
      "114     8754413                   Europe                   Austria    AUT   \n",
      "115     9850845                   Europe                   Hungary    HUN   \n",
      "116     3474121                   Europe                   Moldova    MDA   \n",
      "117    21529967                   Europe                   Romania    ROU   \n",
      "118     2823859                   Europe                 Lithuania    LTU   \n",
      "119     1944643                   Europe                    Latvia    LVA   \n",
      "120     1251581                   Europe                   Estonia    EST   \n",
      "121    80594017                   Europe                   Germany    DEU   \n",
      "122     7101510                   Europe                  Bulgaria    BGR   \n",
      "123    10768477                   Europe                    Greece    GRC   \n",
      "124    80845215                     Asia                    Turkey    TUR   \n",
      "125     3047987                   Europe                   Albania    ALB   \n",
      "126     4292095                   Europe                   Croatia    HRV   \n",
      "127     8236303                   Europe               Switzerland    CHE   \n",
      "128      594130                   Europe                Luxembourg    LUX   \n",
      "129    11491346                   Europe                   Belgium    BEL   \n",
      "130    17084719                   Europe               Netherlands    NLD   \n",
      "131    10839514                   Europe                  Portugal    PRT   \n",
      "132    48958159                   Europe                     Spain    ESP   \n",
      "133     5011102                   Europe                   Ireland    IRL   \n",
      "134      279070                  Oceania             New Caledonia    NCL   \n",
      "135      647581                  Oceania               Solomon Is.    SLB   \n",
      "136     4510327                  Oceania               New Zealand    NZL   \n",
      "137    23232413                  Oceania                 Australia    AUS   \n",
      "138    22409381                     Asia                 Sri Lanka    LKA   \n",
      "139  1379302771                     Asia                     China    CHN   \n",
      "140    23508428                     Asia                    Taiwan    TWN   \n",
      "141    62137802                   Europe                     Italy    ITA   \n",
      "142     5605948                   Europe                   Denmark    DNK   \n",
      "143    64769452                   Europe            United Kingdom    GBR   \n",
      "144      339747                   Europe                   Iceland    ISL   \n",
      "145     9961396                     Asia                Azerbaijan    AZE   \n",
      "146     4926330                     Asia                   Georgia    GEO   \n",
      "147   104256076                     Asia               Philippines    PHL   \n",
      "148    31381992                     Asia                  Malaysia    MYS   \n",
      "149      443593                     Asia                    Brunei    BRN   \n",
      "150     1972126                   Europe                  Slovenia    SVN   \n",
      "151     5491218                   Europe                   Finland    FIN   \n",
      "152     5445829                   Europe                  Slovakia    SVK   \n",
      "153    10674723                   Europe                   Czechia    CZE   \n",
      "154     5918919                   Africa                   Eritrea    ERI   \n",
      "155   126451398                     Asia                     Japan    JPN   \n",
      "156     6943739            South America                  Paraguay    PRY   \n",
      "157    28036829                     Asia                     Yemen    YEM   \n",
      "158    28571770                     Asia              Saudi Arabia    SAU   \n",
      "159        4050               Antarctica                Antarctica    ATA   \n",
      "160      265100                     Asia                 N. Cyprus    -99   \n",
      "161     1221549                     Asia                    Cyprus    CYP   \n",
      "162    33986655                   Africa                   Morocco    MAR   \n",
      "163    97041072                   Africa                     Egypt    EGY   \n",
      "164     6653210                   Africa                     Libya    LBY   \n",
      "165   105350020                   Africa                  Ethiopia    ETH   \n",
      "166      865267                   Africa                  Djibouti    DJI   \n",
      "167     3500000                   Africa                Somaliland    -99   \n",
      "168    39570125                   Africa                    Uganda    UGA   \n",
      "169    11901484                   Africa                    Rwanda    RWA   \n",
      "170     3856181                   Europe          Bosnia and Herz.    BIH   \n",
      "171     2103721                   Europe                 Macedonia    MKD   \n",
      "172     7111024                   Europe                    Serbia    SRB   \n",
      "173      642550                   Europe                Montenegro    MNE   \n",
      "174     1895250                   Europe                    Kosovo    -99   \n",
      "175     1218208            North America       Trinidad and Tobago    TTO   \n",
      "176    13026129                   Africa                  S. Sudan    SSD   \n",
      "\n",
      "      gdp_md_est                                           geometry  \n",
      "0        8374.00  MULTIPOLYGON (((180.00000 -16.06713, 180.00000...  \n",
      "1      150600.00  POLYGON ((33.90371 -0.95000, 34.07262 -1.05982...  \n",
      "2         906.50  POLYGON ((-8.66559 27.65643, -8.66512 27.58948...  \n",
      "3     1674000.00  MULTIPOLYGON (((-122.84000 49.00000, -122.9742...  \n",
      "4    18560000.00  MULTIPOLYGON (((-122.84000 49.00000, -120.0000...  \n",
      "5      460700.00  POLYGON ((87.35997 49.21498, 86.59878 48.54918...  \n",
      "6      202300.00  POLYGON ((55.96819 41.30864, 55.92892 44.99586...  \n",
      "7       28020.00  MULTIPOLYGON (((141.00021 -2.60015, 142.73525 ...  \n",
      "8     3028000.00  MULTIPOLYGON (((141.00021 -2.60015, 141.01706 ...  \n",
      "9      879400.00  MULTIPOLYGON (((-68.63401 -52.63637, -68.25000...  \n",
      "10     436100.00  MULTIPOLYGON (((-68.63401 -52.63637, -68.63335...  \n",
      "11      66010.00  POLYGON ((29.34000 -4.49998, 29.51999 -5.41998...  \n",
      "12       4719.00  POLYGON ((41.58513 -1.68325, 40.99300 -0.85829...  \n",
      "13     152700.00  POLYGON ((39.20222 -4.67677, 37.76690 -3.67712...  \n",
      "14     176300.00  POLYGON ((24.56737 8.22919, 23.80581 8.66632, ...  \n",
      "15      30590.00  POLYGON ((23.83766 19.58047, 23.88689 15.61084...  \n",
      "16      19340.00  POLYGON ((-71.71236 19.71446, -71.62487 19.169...  \n",
      "17     161900.00  POLYGON ((-71.70830 18.04500, -71.68774 18.316...  \n",
      "18    3745000.00  MULTIPOLYGON (((178.72530 71.09880, 180.00000 ...  \n",
      "19       9066.00  MULTIPOLYGON (((-78.98000 26.79000, -78.51000 ...  \n",
      "20        281.80  POLYGON ((-61.20000 -51.85000, -60.00000 -51.2...  \n",
      "21     364700.00  MULTIPOLYGON (((15.14282 79.67431, 15.52255 80...  \n",
      "22       2173.00  POLYGON ((-46.76379 82.62796, -43.40644 83.225...  \n",
      "23         16.00  POLYGON ((68.93500 -48.62500, 69.58000 -48.940...  \n",
      "24       4975.00  POLYGON ((124.96868 -8.89279, 125.08625 -8.656...  \n",
      "25     739100.00  POLYGON ((16.34498 -28.57671, 16.82402 -28.082...  \n",
      "26       6019.00  POLYGON ((28.97826 -28.95560, 29.32517 -29.257...  \n",
      "27    2307000.00  POLYGON ((-117.12776 32.53534, -115.99135 32.6...  \n",
      "28      73250.00  POLYGON ((-57.62513 -30.21629, -56.97603 -30.1...  \n",
      "29    3081000.00  POLYGON ((-53.37366 -33.76838, -53.65054 -33.2...  \n",
      "30      78350.00  POLYGON ((-69.52968 -10.95173, -68.78616 -11.0...  \n",
      "31     410400.00  POLYGON ((-69.89364 -4.29819, -70.79477 -4.251...  \n",
      "32     688000.00  POLYGON ((-66.87633 1.25336, -67.06505 1.13011...  \n",
      "33      93120.00  POLYGON ((-77.35336 8.67050, -77.47472 8.52429...  \n",
      "34      79260.00  POLYGON ((-82.54620 9.56613, -82.93289 9.47681...  \n",
      "35      33550.00  POLYGON ((-83.65561 10.93876, -83.89505 10.726...  \n",
      "36      43190.00  POLYGON ((-83.14722 14.99583, -83.48999 15.016...  \n",
      "37      54790.00  POLYGON ((-89.35333 14.42413, -89.05851 14.340...  \n",
      "38     131800.00  POLYGON ((-92.22775 14.53883, -92.20323 14.830...  \n",
      "39       3088.00  POLYGON ((-89.14308 17.80832, -89.15091 17.955...  \n",
      "40     468600.00  POLYGON ((-60.73357 5.20028, -60.60118 4.91810...  \n",
      "41       6093.00  POLYGON ((-56.53939 1.89952, -56.78270 1.86371...  \n",
      "42       8547.00  POLYGON ((-54.52475 2.31185, -55.09759 2.52375...  \n",
      "43    2699000.00  MULTIPOLYGON (((-51.65780 4.15623, -52.24934 3...  \n",
      "44     182400.00  POLYGON ((-75.37322 -0.15203, -75.23372 -0.911...  \n",
      "45     131000.00  POLYGON ((-66.28243 18.51476, -65.77130 18.426...  \n",
      "46      25390.00  POLYGON ((-77.56960 18.49053, -76.89662 18.400...  \n",
      "47     132900.00  POLYGON ((-82.26815 23.18861, -81.40446 23.117...  \n",
      "48      28330.00  POLYGON ((31.19141 -22.25151, 30.65987 -22.151...  \n",
      "49      35900.00  POLYGON ((29.43219 -22.09131, 28.01724 -22.827...  \n",
      "50      25990.00  POLYGON ((19.89577 -24.76779, 19.89473 -28.461...  \n",
      "51      39720.00  POLYGON ((-16.71373 13.59496, -17.12611 14.373...  \n",
      "52      38090.00  POLYGON ((-11.51394 12.44299, -11.46790 12.754...  \n",
      "53      16710.00  POLYGON ((-17.06342 20.99975, -16.84519 21.333...  \n",
      "54      24310.00  POLYGON ((2.69170 6.25882, 1.86524 6.14216, 1....  \n",
      "55      20150.00  POLYGON ((14.85130 22.86295, 15.09689 21.30852...  \n",
      "56    1089000.00  POLYGON ((2.69170 6.25882, 2.74906 7.87073, 2....  \n",
      "57      77240.00  POLYGON ((14.49579 12.85940, 14.89336 12.21905...  \n",
      "58      11610.00  POLYGON ((0.89956 10.99734, 0.77234 10.47081, ...  \n",
      "59     120800.00  POLYGON ((0.02380 11.01868, -0.04978 10.70692,...  \n",
      "60      87120.00  POLYGON ((-8.02994 10.20653, -7.89959 10.29738...  \n",
      "61      16080.00  POLYGON ((-13.70048 12.58618, -13.21782 12.575...  \n",
      "62       2851.00  POLYGON ((-16.67745 12.38485, -16.14772 12.547...  \n",
      "63       3881.00  POLYGON ((-8.43930 7.68604, -8.48545 7.39521, ...  \n",
      "64      10640.00  POLYGON ((-13.24655 8.90305, -12.71196 9.34271...  \n",
      "65      32990.00  POLYGON ((-5.40434 10.37074, -5.47056 10.95127...  \n",
      "66       3206.00  POLYGON ((27.37423 5.23394, 27.04407 5.12785, ...  \n",
      "67      30270.00  POLYGON ((18.45307 3.50439, 18.39379 2.90044, ...  \n",
      "68      35980.00  POLYGON ((11.27645 2.26105, 11.75167 2.32676, ...  \n",
      "69      31770.00  POLYGON ((9.64916 2.28387, 11.27645 2.26105, 1...  \n",
      "70      65170.00  POLYGON ((30.74001 -8.34001, 31.15775 -8.59458...  \n",
      "71      21200.00  POLYGON ((32.75938 -9.23060, 33.73972 -9.41715...  \n",
      "72      35010.00  POLYGON ((34.55999 -11.52002, 35.31240 -11.439...  \n",
      "73      11060.00  POLYGON ((32.07167 -26.73382, 31.86806 -27.177...  \n",
      "74     189000.00  MULTIPOLYGON (((12.99552 -4.78110, 12.63161 -4...  \n",
      "75       7892.00  POLYGON ((30.46967 -2.41385, 30.52766 -2.80762...  \n",
      "76     297000.00  POLYGON ((35.71992 32.70919, 35.54567 32.39399...  \n",
      "77      85160.00  POLYGON ((35.82110 33.27743, 35.55280 33.26427...  \n",
      "78      36860.00  POLYGON ((49.54352 -12.46983, 49.80898 -12.895...  \n",
      "79      21220.77  POLYGON ((35.39756 31.48909, 34.92741 31.35344...  \n",
      "80       3387.00  POLYGON ((-16.71373 13.59496, -15.62460 13.623...  \n",
      "81     130800.00  POLYGON ((9.48214 30.30756, 9.05560 32.10269, ...  \n",
      "82     609400.00  POLYGON ((-8.68440 27.39574, -8.66512 27.58948...  \n",
      "83      86190.00  POLYGON ((35.54567 32.39399, 35.71992 32.70919...  \n",
      "84     667200.00  POLYGON ((51.57952 24.24550, 51.75744 24.29407...  \n",
      "85     334500.00  POLYGON ((50.81011 24.75474, 50.74391 25.48242...  \n",
      "86     301100.00  POLYGON ((47.97452 29.97582, 48.18319 29.53448...  \n",
      "87     596700.00  POLYGON ((39.19547 32.16101, 38.79234 33.37869...  \n",
      "88     173100.00  MULTIPOLYGON (((55.20834 22.70833, 55.23449 23...  \n",
      "89        723.00  MULTIPOLYGON (((167.21680 -15.89185, 167.84488...  \n",
      "90      58940.00  POLYGON ((102.58493 12.18659, 102.34810 13.394...  \n",
      "91    1161000.00  POLYGON ((105.21878 14.27321, 104.28142 14.416...  \n",
      "92      40960.00  POLYGON ((107.38273 14.20244, 106.49637 14.570...  \n",
      "93     311100.00  POLYGON ((100.11599 20.41785, 99.54331 20.1866...  \n",
      "94     594900.00  POLYGON ((104.33433 10.48654, 105.19991 10.889...  \n",
      "95      40000.00  MULTIPOLYGON (((130.78000 42.22001, 130.78000 ...  \n",
      "96    1929000.00  POLYGON ((126.17476 37.74969, 126.23734 37.840...  \n",
      "97      37000.00  POLYGON ((87.75126 49.29720, 88.80557 49.47052...  \n",
      "98    8721000.00  POLYGON ((97.32711 28.26158, 97.40256 27.88254...  \n",
      "99     628400.00  POLYGON ((92.67272 22.04124, 92.65226 21.32405...  \n",
      "100      6432.00  POLYGON ((91.69666 27.77174, 92.10371 27.45261...  \n",
      "101     71520.00  POLYGON ((88.12044 27.87654, 88.04313 27.44582...  \n",
      "102    988200.00  POLYGON ((77.83745 35.49401, 76.87172 34.65354...  \n",
      "103     64080.00  POLYGON ((66.51861 37.36278, 67.07578 37.35614...  \n",
      "104     25810.00  POLYGON ((67.83000 37.14499, 68.39203 38.15703...  \n",
      "105     21010.00  POLYGON ((70.96231 42.26615, 71.18628 42.70429...  \n",
      "106     94720.00  POLYGON ((52.50246 41.78332, 52.94429 42.11603...  \n",
      "107   1459000.00  POLYGON ((48.56797 29.92678, 48.01457 30.45246...  \n",
      "108     50280.00  POLYGON ((35.71992 32.70919, 35.70080 32.71601...  \n",
      "109     26300.00  POLYGON ((46.50572 38.77061, 46.14362 38.74120...  \n",
      "110    498100.00  POLYGON ((11.02737 58.85615, 11.46827 59.43239...  \n",
      "111    165400.00  POLYGON ((28.17671 56.16913, 29.22951 55.91834...  \n",
      "112    352600.00  POLYGON ((31.78599 52.10168, 32.15944 52.06125...  \n",
      "113   1052000.00  POLYGON ((23.48413 53.91250, 23.52754 53.47012...  \n",
      "114    416600.00  POLYGON ((16.97967 48.12350, 16.90375 47.71487...  \n",
      "115    267600.00  POLYGON ((22.08561 48.42226, 22.64082 48.15024...  \n",
      "116     18540.00  POLYGON ((26.61934 48.22073, 26.85782 48.36821...  \n",
      "117    441000.00  POLYGON ((28.23355 45.48828, 28.67978 45.30403...  \n",
      "118     85620.00  POLYGON ((26.49433 55.61511, 26.58828 55.16718...  \n",
      "119     50650.00  POLYGON ((27.28818 57.47453, 27.77002 57.24426...  \n",
      "120     38700.00  POLYGON ((27.98113 59.47537, 27.98112 59.47537...  \n",
      "121   3979000.00  POLYGON ((14.11969 53.75703, 14.35332 53.24817...  \n",
      "122    143100.00  POLYGON ((22.65715 44.23492, 22.94483 43.82379...  \n",
      "123    290500.00  MULTIPOLYGON (((26.29000 35.29999, 26.16500 35...  \n",
      "124   1670000.00  MULTIPOLYGON (((44.77268 37.17044, 44.29345 37...  \n",
      "125     33900.00  POLYGON ((21.02004 40.84273, 20.99999 40.58000...  \n",
      "126     94240.00  POLYGON ((16.56481 46.50375, 16.88252 46.38063...  \n",
      "127    496300.00  POLYGON ((9.59423 47.52506, 9.63293 47.34760, ...  \n",
      "128     58740.00  POLYGON ((6.04307 50.12805, 6.24275 49.90223, ...  \n",
      "129    508600.00  POLYGON ((6.15666 50.80372, 6.04307 50.12805, ...  \n",
      "130    870800.00  POLYGON ((6.90514 53.48216, 7.09205 53.14404, ...  \n",
      "131    297100.00  POLYGON ((-9.03482 41.88057, -8.67195 42.13469...  \n",
      "132   1690000.00  POLYGON ((-7.45373 37.09779, -7.53711 37.42890...  \n",
      "133    322000.00  POLYGON ((-6.19788 53.86757, -6.03299 53.15316...  \n",
      "134     10770.00  POLYGON ((165.77999 -21.08000, 166.59999 -21.7...  \n",
      "135      1198.00  MULTIPOLYGON (((162.11902 -10.48272, 162.39865...  \n",
      "136    174800.00  MULTIPOLYGON (((176.88582 -40.06598, 176.50802...  \n",
      "137   1189000.00  MULTIPOLYGON (((147.68926 -40.80826, 148.28907...  \n",
      "138    236700.00  POLYGON ((81.78796 7.52306, 81.63732 6.48178, ...  \n",
      "139  21140000.00  MULTIPOLYGON (((109.47521 18.19770, 108.65521 ...  \n",
      "140   1127000.00  POLYGON ((121.77782 24.39427, 121.17563 22.790...  \n",
      "141   2221000.00  MULTIPOLYGON (((10.44270 46.89355, 11.04856 46...  \n",
      "142    264800.00  MULTIPOLYGON (((9.92191 54.98310, 9.28205 54.8...  \n",
      "143   2788000.00  MULTIPOLYGON (((-6.19788 53.86757, -6.95373 54...  \n",
      "144     16150.00  POLYGON ((-14.50870 66.45589, -14.73964 65.808...  \n",
      "145    167900.00  MULTIPOLYGON (((46.40495 41.86068, 46.68607 41...  \n",
      "146     37270.00  POLYGON ((39.95501 43.43500, 40.07696 43.55310...  \n",
      "147    801900.00  MULTIPOLYGON (((120.83390 12.70450, 120.32344 ...  \n",
      "148    863000.00  MULTIPOLYGON (((100.08576 6.46449, 100.25960 6...  \n",
      "149     33730.00  POLYGON ((115.45071 5.44773, 115.40570 4.95523...  \n",
      "150     68350.00  POLYGON ((13.80648 46.50931, 14.63247 46.43182...  \n",
      "151    224137.00  POLYGON ((28.59193 69.06478, 28.44594 68.36461...  \n",
      "152    168800.00  POLYGON ((22.55814 49.08574, 22.28084 48.82539...  \n",
      "153    350900.00  POLYGON ((15.01700 51.10667, 15.49097 50.78473...  \n",
      "154      9169.00  POLYGON ((36.42951 14.42211, 36.32322 14.82249...  \n",
      "155   4932000.00  MULTIPOLYGON (((141.88460 39.18086, 140.95949 ...  \n",
      "156     64670.00  POLYGON ((-58.16639 -20.17670, -57.87067 -20.7...  \n",
      "157     73450.00  POLYGON ((52.00001 19.00000, 52.78218 17.34974...  \n",
      "158   1731000.00  POLYGON ((34.95604 29.35655, 36.06894 29.19749...  \n",
      "159       810.00  MULTIPOLYGON (((-48.66062 -78.04702, -48.15140...  \n",
      "160      3600.00  POLYGON ((32.73178 35.14003, 32.80247 35.14550...  \n",
      "161     29260.00  POLYGON ((32.73178 35.14003, 32.91957 35.08783...  \n",
      "162    282800.00  POLYGON ((-2.16991 35.16840, -1.79299 34.52792...  \n",
      "163   1105000.00  POLYGON ((36.86623 22.00000, 32.90000 22.00000...  \n",
      "164     90890.00  POLYGON ((25.00000 22.00000, 25.00000 20.00304...  \n",
      "165    174700.00  POLYGON ((47.78942 8.00300, 44.96360 5.00162, ...  \n",
      "166      3345.00  POLYGON ((42.35156 12.54223, 42.77964 12.45542...  \n",
      "167     12250.00  POLYGON ((48.94820 11.41062, 48.94820 11.41062...  \n",
      "168     84930.00  POLYGON ((33.90371 -0.95000, 31.86617 -1.02736...  \n",
      "169     21970.00  POLYGON ((30.41910 -1.13466, 30.81613 -1.69891...  \n",
      "170     42530.00  POLYGON ((18.56000 42.65000, 17.67492 43.02856...  \n",
      "171     29520.00  POLYGON ((22.38053 42.32026, 22.88137 41.99930...  \n",
      "172    101800.00  POLYGON ((18.82982 45.90887, 18.82984 45.90888...  \n",
      "173     10610.00  POLYGON ((20.07070 42.58863, 19.80161 42.50009...  \n",
      "174     18490.00  POLYGON ((20.59025 41.85541, 20.52295 42.21787...  \n",
      "175     43570.00  POLYGON ((-61.68000 10.76000, -61.10500 10.890...  \n",
      "176     20880.00  POLYGON ((30.83385 3.50917, 29.95350 4.17370, ...  \n"
     ]
    }
   ],
   "source": [
    "modules.print_full(world)"
   ]
  },
  {
   "cell_type": "code",
   "execution_count": 148,
   "metadata": {
    "pycharm": {
     "name": "#%%\n"
    }
   },
   "outputs": [],
   "source": [
    "visas_df=pd.merge(world,visas_df,left_on='iso_a3', right_on='Alpha-3 code')"
   ]
  },
  {
   "cell_type": "code",
   "execution_count": 149,
   "metadata": {},
   "outputs": [
    {
     "data": {
      "text/plain": "      pop_est      continent      name iso_a3  gdp_md_est  \\\n0    35623680  North America    Canada    CAN   1674000.0   \n1   124574795  North America    Mexico    MEX   2307000.0   \n2    67106161         Europe    France    FRA   2699000.0   \n3  1281935911           Asia     India    IND   8721000.0   \n4   204924861           Asia  Pakistan    PAK    988200.0   \n5  1379302771           Asia     China    CHN  21140000.0   \n\n                                            geometry     index  \\\n0  MULTIPOLYGON (((-122.84000 49.00000, -122.9742...    CANADA   \n1  POLYGON ((-117.12776 32.53534, -115.99135 32.6...    MEXICO   \n2  MULTIPOLYGON (((-51.65780 4.15623, -52.24934 3...    FRANCE   \n3  POLYGON ((97.32711 28.26158, 97.40256 27.88254...     INDIA   \n4  POLYGON ((77.83745 35.49401, 76.87172 34.65354...  PAKISTAN   \n5  MULTIPOLYGON (((109.47521 18.19770, 108.65521 ...     CHINA   \n\n   country_of_citizenship   Country Alpha-2 code Alpha-3 code  Numeric  \n0                   14804    CANADA           CA          CAN      124  \n1                    8961    MEXICO           MX          MEX      484  \n2                    3173    FRANCE           FR          FRA      250  \n3                  205158     INDIA           IN          IND      356  \n4                    3962  PAKISTAN           PK          PAK      586  \n5                   28861     CHINA           CN          CHN      156  ",
      "text/html": "<div>\n<style scoped>\n    .dataframe tbody tr th:only-of-type {\n        vertical-align: middle;\n    }\n\n    .dataframe tbody tr th {\n        vertical-align: top;\n    }\n\n    .dataframe thead th {\n        text-align: right;\n    }\n</style>\n<table border=\"1\" class=\"dataframe\">\n  <thead>\n    <tr style=\"text-align: right;\">\n      <th></th>\n      <th>pop_est</th>\n      <th>continent</th>\n      <th>name</th>\n      <th>iso_a3</th>\n      <th>gdp_md_est</th>\n      <th>geometry</th>\n      <th>index</th>\n      <th>country_of_citizenship</th>\n      <th>Country</th>\n      <th>Alpha-2 code</th>\n      <th>Alpha-3 code</th>\n      <th>Numeric</th>\n    </tr>\n  </thead>\n  <tbody>\n    <tr>\n      <th>0</th>\n      <td>35623680</td>\n      <td>North America</td>\n      <td>Canada</td>\n      <td>CAN</td>\n      <td>1674000.0</td>\n      <td>MULTIPOLYGON (((-122.84000 49.00000, -122.9742...</td>\n      <td>CANADA</td>\n      <td>14804</td>\n      <td>CANADA</td>\n      <td>CA</td>\n      <td>CAN</td>\n      <td>124</td>\n    </tr>\n    <tr>\n      <th>1</th>\n      <td>124574795</td>\n      <td>North America</td>\n      <td>Mexico</td>\n      <td>MEX</td>\n      <td>2307000.0</td>\n      <td>POLYGON ((-117.12776 32.53534, -115.99135 32.6...</td>\n      <td>MEXICO</td>\n      <td>8961</td>\n      <td>MEXICO</td>\n      <td>MX</td>\n      <td>MEX</td>\n      <td>484</td>\n    </tr>\n    <tr>\n      <th>2</th>\n      <td>67106161</td>\n      <td>Europe</td>\n      <td>France</td>\n      <td>FRA</td>\n      <td>2699000.0</td>\n      <td>MULTIPOLYGON (((-51.65780 4.15623, -52.24934 3...</td>\n      <td>FRANCE</td>\n      <td>3173</td>\n      <td>FRANCE</td>\n      <td>FR</td>\n      <td>FRA</td>\n      <td>250</td>\n    </tr>\n    <tr>\n      <th>3</th>\n      <td>1281935911</td>\n      <td>Asia</td>\n      <td>India</td>\n      <td>IND</td>\n      <td>8721000.0</td>\n      <td>POLYGON ((97.32711 28.26158, 97.40256 27.88254...</td>\n      <td>INDIA</td>\n      <td>205158</td>\n      <td>INDIA</td>\n      <td>IN</td>\n      <td>IND</td>\n      <td>356</td>\n    </tr>\n    <tr>\n      <th>4</th>\n      <td>204924861</td>\n      <td>Asia</td>\n      <td>Pakistan</td>\n      <td>PAK</td>\n      <td>988200.0</td>\n      <td>POLYGON ((77.83745 35.49401, 76.87172 34.65354...</td>\n      <td>PAKISTAN</td>\n      <td>3962</td>\n      <td>PAKISTAN</td>\n      <td>PK</td>\n      <td>PAK</td>\n      <td>586</td>\n    </tr>\n    <tr>\n      <th>5</th>\n      <td>1379302771</td>\n      <td>Asia</td>\n      <td>China</td>\n      <td>CHN</td>\n      <td>21140000.0</td>\n      <td>MULTIPOLYGON (((109.47521 18.19770, 108.65521 ...</td>\n      <td>CHINA</td>\n      <td>28861</td>\n      <td>CHINA</td>\n      <td>CN</td>\n      <td>CHN</td>\n      <td>156</td>\n    </tr>\n  </tbody>\n</table>\n</div>"
     },
     "execution_count": 149,
     "metadata": {},
     "output_type": "execute_result"
    }
   ],
   "source": [
    "visas_df"
   ]
  },
  {
   "cell_type": "code",
   "execution_count": 150,
   "metadata": {
    "pycharm": {
     "name": "#%%\n"
    }
   },
   "outputs": [
    {
     "data": {
      "text/plain": "<Figure size 1800x1440 with 1 Axes>",
      "image/png": "[encoded data removed]"
     },
     "metadata": {
      "needs_background": "light"
     },
     "output_type": "display_data"
    }
   ],
   "source": [
    "# plot confirmed cases world map\n",
    "visas_df.plot(column='country_of_citizenship', scheme=\"quantiles\",\n",
    "           figsize=(25, 20),\n",
    "           legend=True,cmap='Blues',legend_kwds=dict(loc='upper right',\n",
    "                            bbox_to_anchor=(1.0, .4),\n",
    "                            fontsize=18,\n",
    "                            \n",
    "                            frameon=False))\n",
    "\n",
    "plt.title('Einwanderer Länder',fontsize=25)\n",
    "\n",
    "\n",
    "# add countries names and numbers\n",
    "#for i in range(0,10):\n",
    "#    plt.text(float(visas_df.longitude[i]),float(visas_df.latitude[i]),\"{}\\n{}\".format(visas_df.index[i],visas_df.country_of_citizenship[i]),size=10)\n",
    "\n",
    "plt.show()"
   ]
  },
  {
   "cell_type": "code",
   "execution_count": 151,
   "metadata": {
    "pycharm": {
     "name": "#%%\n"
    }
   },
   "outputs": [],
   "source": [
    "#https://melaniesoek0120.medium.com/data-visualization-how-to-plot-a-map-with-geopandas-in-python-73b10dcd4b4b"
   ]
  },
  {
   "cell_type": "code",
   "execution_count": 151,
   "metadata": {
    "pycharm": {
     "name": "#%%\n"
    }
   },
   "outputs": [],
   "source": []
  },
  {
   "cell_type": "code",
   "execution_count": 151,
   "metadata": {
    "pycharm": {
     "name": "#%%\n"
    }
   },
   "outputs": [],
   "source": []
  }
 ],
 "metadata": {
  "kernelspec": {
   "display_name": "Python 3",
   "language": "python",
   "name": "python3"
  },
  "language_info": {
   "codemirror_mode": {
    "name": "ipython",
    "version": 3
   },
   "file_extension": ".py",
   "mimetype": "text/x-python",
   "name": "python",
   "nbconvert_exporter": "python",
   "pygments_lexer": "ipython3",
   "version": "3.8.5"
  }
 },
 "nbformat": 4,
 "nbformat_minor": 1
}