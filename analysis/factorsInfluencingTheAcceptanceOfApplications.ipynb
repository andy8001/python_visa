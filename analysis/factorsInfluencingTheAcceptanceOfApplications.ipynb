{
 "cells": [
  {
   "cell_type": "markdown",
   "metadata": {
    "collapsed": true,
    "pycharm": {
     "name": "#%% md\n"
    }
   },
   "source": [
    "# Factors influencing the acceptance of applications"
   ]
  },
  {
   "cell_type": "markdown",
   "source": [
    "In the following we're going to take of look what factors are influence whether an application is certified or declined.\n"
   ],
   "metadata": {
    "collapsed": false,
    "pycharm": {
     "name": "#%% md\n"
    }
   }
  },
  {
   "cell_type": "code",
   "execution_count": 446,
   "outputs": [],
   "source": [
    "import cleanup\n",
    "import pandas as pd"
   ],
   "metadata": {
    "collapsed": false,
    "pycharm": {
     "name": "#%%\n"
    }
   }
  },
  {
   "cell_type": "code",
   "execution_count": 447,
   "outputs": [],
   "source": [
    "# cleanup.generate_cleaned_df()\n"
   ],
   "metadata": {
    "collapsed": false,
    "pycharm": {
     "name": "#%%\n"
    }
   }
  },
  {
   "cell_type": "code",
   "execution_count": 448,
   "outputs": [],
   "source": [
    "\n",
    "col_list = [\"case_status\", \"country_of_citizenship\"]\n",
    "visas_df = pd.read_csv('../data/us_perm_visas_cleaned.csv', usecols=col_list)"
   ],
   "metadata": {
    "collapsed": false,
    "pycharm": {
     "name": "#%%\n"
    }
   }
  },
  {
   "cell_type": "markdown",
   "source": [
    "Firstly we're going to peek into the overall situation."
   ],
   "metadata": {
    "collapsed": false,
    "pycharm": {
     "name": "#%% md\n"
    }
   }
  },
  {
   "cell_type": "code",
   "execution_count": 449,
   "outputs": [
    {
     "data": {
      "text/plain": "<AxesSubplot:ylabel='case_status'>"
     },
     "execution_count": 449,
     "metadata": {},
     "output_type": "execute_result"
    },
    {
     "data": {
      "text/plain": "<Figure size 432x288 with 1 Axes>",
      "image/png": "[encoded data removed]"
     },
     "metadata": {},
     "output_type": "display_data"
    }
   ],
   "source": [
    "visas_df[\"case_status\"].value_counts().plot(kind='pie')"
   ],
   "metadata": {
    "collapsed": false,
    "pycharm": {
     "name": "#%%\n"
    }
   }
  },
  {
   "cell_type": "markdown",
   "source": [
    "To explain the possible values.\n",
    "\n",
    "- Certified:\n",
    "    - A “certified” status indicates the labor certification is granted. The certified application and a complete Final Determination form will be sent to the employer, or, if appropriate, to the employer’s agent or attorney, indicating the employer may file all the documents with the appropriate office in the Department of Homeland Security (DHS).\n",
    "    - https://www.usavisanow.com/perm/perm-faq/perm-online-status-indicators/\n",
    "    - PERM certified status means it has been approved and is valid for 180 days from the date of approval.\n",
    "    - https://www.am22tech.com/uscis/perm-processing-time/\n",
    "- Certified-Expired:\n",
    "    - After the Labor Certification is approved by the DOL, an Immigrant Petition related to the Labor Certification should be filed with the U.S.C.I.S. before the expiration of the labor certification. The certification has a validity period of 180-days and expires if not submitted to USCIS within this period.\n",
    "    - https://immsolutionsllc.com/work-visas/perm-labor-certification\n",
    "    - PERM certified expired means that PERM was approved but was not used within 6 months to file i140 with USCIS.\n",
    "    - https://www.am22tech.com/uscis/perm-processing-time/\n",
    "- Denied:\n",
    "    - A “denied” status indicates the application is denied. A Final Determination form, stating the reasons for the determination and advising the employer of how to request review, should the employer choose to do so, will be sent to the employer. The Final Determination must be included in any request for review, therefore, the employer must wait to receive the form before making such a request. The employer is also advised to wait for the Final Determination before filing a new application for the same alien to avoid repeating errors made in the original application.\n",
    "    - https://www.usavisanow.com/perm/perm-faq/perm-online-status-indicators/\n",
    "    - PERM application was denied by DOL.\n",
    "    - https://www.am22tech.com/uscis/perm-processing-time/\n",
    "- Withdrawn:\n",
    "    - A “withdrawn” status indicates the employer has withdrawn the application.\n",
    "    - https://www.usavisanow.com/perm/perm-faq/perm-online-status-indicators/\n",
    "    - PERM application was withdrawn by employer.\n",
    "    - https://www.am22tech.com/uscis/perm-processing-time/"
   ],
   "metadata": {
    "collapsed": false,
    "pycharm": {
     "name": "#%% md\n",
     "is_executing": true
    }
   }
  },
  {
   "cell_type": "markdown",
   "source": [
    "Regarding the analysis question, factors influencing the acceptance of applications, some changes eill be made in the dataset.\n",
    "\n",
    "\"Certified-Expired\" will be changed into \"Certified\"\n",
    "And columns containing \"Withdrawn\" will be deleted.\n"
   ],
   "metadata": {
    "collapsed": false,
    "pycharm": {
     "name": "#%% md\n"
    }
   }
  },
  {
   "cell_type": "code",
   "execution_count": 450,
   "outputs": [
    {
     "data": {
      "text/plain": "<AxesSubplot:ylabel='case_status'>"
     },
     "execution_count": 450,
     "metadata": {},
     "output_type": "execute_result"
    },
    {
     "data": {
      "text/plain": "<Figure size 432x288 with 1 Axes>",
      "image/png": "[encoded data removed]"
     },
     "metadata": {},
     "output_type": "display_data"
    }
   ],
   "source": [
    "visas_df[\"case_status\"] = visas_df[\"case_status\"].str.replace('Certified-Expired', 'Certified')\n",
    "\n",
    "visas_df[\"case_status\"].value_counts().plot(kind='pie')"
   ],
   "metadata": {
    "collapsed": false,
    "pycharm": {
     "name": "#%%\n"
    }
   }
  },
  {
   "cell_type": "code",
   "execution_count": 451,
   "outputs": [],
   "source": [
    "visas_df = visas_df[~visas_df[\"case_status\"].str.contains(\"Withdrawn\", na=False)]\n"
   ],
   "metadata": {
    "collapsed": false,
    "pycharm": {
     "name": "#%%\n"
    }
   }
  },
  {
   "cell_type": "code",
   "execution_count": 452,
   "outputs": [
    {
     "data": {
      "text/plain": "<AxesSubplot:ylabel='case_status'>"
     },
     "execution_count": 452,
     "metadata": {},
     "output_type": "execute_result"
    },
    {
     "data": {
      "text/plain": "<Figure size 432x288 with 1 Axes>",
      "image/png": "[encoded data removed]"
     },
     "metadata": {},
     "output_type": "display_data"
    }
   ],
   "source": [
    "visas_df[\"case_status\"].value_counts().plot(kind='pie')"
   ],
   "metadata": {
    "collapsed": false,
    "pycharm": {
     "name": "#%%\n"
    }
   }
  },
  {
   "cell_type": "code",
   "execution_count": 453,
   "outputs": [
    {
     "data": {
      "text/plain": "<AxesSubplot:>"
     },
     "execution_count": 453,
     "metadata": {},
     "output_type": "execute_result"
    },
    {
     "data": {
      "text/plain": "<Figure size 432x288 with 1 Axes>",
      "image/png": "[encoded data removed]"
     },
     "metadata": {
      "needs_background": "light"
     },
     "output_type": "display_data"
    }
   ],
   "source": [
    "\n",
    "\n",
    "d = visas_df[\"case_status\"].value_counts(normalize=True).mul(100)\n",
    "\n",
    "d.to_frame().T.plot.barh(stacked=True)"
   ],
   "metadata": {
    "collapsed": false,
    "pycharm": {
     "name": "#%%\n"
    }
   }
  },
  {
   "cell_type": "code",
   "execution_count": 454,
   "outputs": [],
   "source": [
    "top20 = visas_df[\"country_of_citizenship\"].value_counts().nlargest(20).reset_index()\n",
    "\n",
    "top20.columns = ['country_of_citizenship', 'count']"
   ],
   "metadata": {
    "collapsed": false,
    "pycharm": {
     "name": "#%%\n"
    }
   }
  },
  {
   "cell_type": "code",
   "execution_count": 455,
   "outputs": [
    {
     "data": {
      "text/plain": "  country_of_citizenship   count\n0                  INDIA  196585\n1                  CHINA   27454\n2            SOUTH KOREA   22254\n3                 CANADA   14109\n4                 MEXICO    8564",
      "text/html": "<div>\n<style scoped>\n    .dataframe tbody tr th:only-of-type {\n        vertical-align: middle;\n    }\n\n    .dataframe tbody tr th {\n        vertical-align: top;\n    }\n\n    .dataframe thead th {\n        text-align: right;\n    }\n</style>\n<table border=\"1\" class=\"dataframe\">\n  <thead>\n    <tr style=\"text-align: right;\">\n      <th></th>\n      <th>country_of_citizenship</th>\n      <th>count</th>\n    </tr>\n  </thead>\n  <tbody>\n    <tr>\n      <th>0</th>\n      <td>INDIA</td>\n      <td>196585</td>\n    </tr>\n    <tr>\n      <th>1</th>\n      <td>CHINA</td>\n      <td>27454</td>\n    </tr>\n    <tr>\n      <th>2</th>\n      <td>SOUTH KOREA</td>\n      <td>22254</td>\n    </tr>\n    <tr>\n      <th>3</th>\n      <td>CANADA</td>\n      <td>14109</td>\n    </tr>\n    <tr>\n      <th>4</th>\n      <td>MEXICO</td>\n      <td>8564</td>\n    </tr>\n  </tbody>\n</table>\n</div>"
     },
     "execution_count": 455,
     "metadata": {},
     "output_type": "execute_result"
    }
   ],
   "source": [
    "top20.head()\n"
   ],
   "metadata": {
    "collapsed": false,
    "pycharm": {
     "name": "#%%\n"
    }
   }
  },
  {
   "cell_type": "code",
   "execution_count": 456,
   "outputs": [],
   "source": [
    "df_top = visas_df.loc[visas_df['country_of_citizenship'].isin(top20.reset_index()['country_of_citizenship'])]"
   ],
   "metadata": {
    "collapsed": false,
    "pycharm": {
     "name": "#%%\n"
    }
   }
  },
  {
   "cell_type": "code",
   "execution_count": 457,
   "outputs": [
    {
     "data": {
      "text/plain": "  country_of_citizenship case_status\n2                  INDIA   Certified\n3            SOUTH KOREA   Certified\n4                 CANADA   Certified\n6                 MEXICO   Certified\n7                 CANADA      Denied",
      "text/html": "<div>\n<style scoped>\n    .dataframe tbody tr th:only-of-type {\n        vertical-align: middle;\n    }\n\n    .dataframe tbody tr th {\n        vertical-align: top;\n    }\n\n    .dataframe thead th {\n        text-align: right;\n    }\n</style>\n<table border=\"1\" class=\"dataframe\">\n  <thead>\n    <tr style=\"text-align: right;\">\n      <th></th>\n      <th>country_of_citizenship</th>\n      <th>case_status</th>\n    </tr>\n  </thead>\n  <tbody>\n    <tr>\n      <th>2</th>\n      <td>INDIA</td>\n      <td>Certified</td>\n    </tr>\n    <tr>\n      <th>3</th>\n      <td>SOUTH KOREA</td>\n      <td>Certified</td>\n    </tr>\n    <tr>\n      <th>4</th>\n      <td>CANADA</td>\n      <td>Certified</td>\n    </tr>\n    <tr>\n      <th>6</th>\n      <td>MEXICO</td>\n      <td>Certified</td>\n    </tr>\n    <tr>\n      <th>7</th>\n      <td>CANADA</td>\n      <td>Denied</td>\n    </tr>\n  </tbody>\n</table>\n</div>"
     },
     "execution_count": 457,
     "metadata": {},
     "output_type": "execute_result"
    }
   ],
   "source": [
    "df_top.head()\n"
   ],
   "metadata": {
    "collapsed": false,
    "pycharm": {
     "name": "#%%\n"
    }
   }
  },
  {
   "cell_type": "code",
   "execution_count": 458,
   "outputs": [],
   "source": [
    "\n",
    "s = df_top[\"case_status\"].groupby(df_top[\"country_of_citizenship\"]).value_counts(normalize=True).mul(100).reset_index(name='counts')"
   ],
   "metadata": {
    "collapsed": false,
    "pycharm": {
     "name": "#%%\n"
    }
   }
  },
  {
   "cell_type": "code",
   "execution_count": 459,
   "outputs": [],
   "source": [
    "s.head()\n",
    "\n",
    "s = s.pivot(index=\"country_of_citizenship\", columns = \"case_status\", values = \"counts\")"
   ],
   "metadata": {
    "collapsed": false,
    "pycharm": {
     "name": "#%%\n"
    }
   }
  },
  {
   "cell_type": "code",
   "execution_count": 460,
   "outputs": [
    {
     "data": {
      "text/plain": "  country_of_citizenship  Certified     Denied   count\n0                  INDIA  95.158328   4.841672  196585\n1                  CHINA  94.172070   5.827930   27454\n2            SOUTH KOREA  88.384111  11.615889   22254\n3                 CANADA  93.691970   6.308030   14109\n4                 MEXICO  76.389538  23.610462    8564",
      "text/html": "<div>\n<style scoped>\n    .dataframe tbody tr th:only-of-type {\n        vertical-align: middle;\n    }\n\n    .dataframe tbody tr th {\n        vertical-align: top;\n    }\n\n    .dataframe thead th {\n        text-align: right;\n    }\n</style>\n<table border=\"1\" class=\"dataframe\">\n  <thead>\n    <tr style=\"text-align: right;\">\n      <th></th>\n      <th>country_of_citizenship</th>\n      <th>Certified</th>\n      <th>Denied</th>\n      <th>count</th>\n    </tr>\n  </thead>\n  <tbody>\n    <tr>\n      <th>0</th>\n      <td>INDIA</td>\n      <td>95.158328</td>\n      <td>4.841672</td>\n      <td>196585</td>\n    </tr>\n    <tr>\n      <th>1</th>\n      <td>CHINA</td>\n      <td>94.172070</td>\n      <td>5.827930</td>\n      <td>27454</td>\n    </tr>\n    <tr>\n      <th>2</th>\n      <td>SOUTH KOREA</td>\n      <td>88.384111</td>\n      <td>11.615889</td>\n      <td>22254</td>\n    </tr>\n    <tr>\n      <th>3</th>\n      <td>CANADA</td>\n      <td>93.691970</td>\n      <td>6.308030</td>\n      <td>14109</td>\n    </tr>\n    <tr>\n      <th>4</th>\n      <td>MEXICO</td>\n      <td>76.389538</td>\n      <td>23.610462</td>\n      <td>8564</td>\n    </tr>\n  </tbody>\n</table>\n</div>"
     },
     "execution_count": 460,
     "metadata": {},
     "output_type": "execute_result"
    }
   ],
   "source": [
    "df = s.merge(top20, left_on='country_of_citizenship', right_on='country_of_citizenship')\n",
    "df = df.sort_values(by=['count'], ascending=False).reset_index()\n",
    "\n",
    "df = df.drop(['index'], axis=1)\n",
    "#df = df.drop(['count'], axis=1)\n",
    "df.head()"
   ],
   "metadata": {
    "collapsed": false,
    "pycharm": {
     "name": "#%%\n"
    }
   }
  },
  {
   "cell_type": "code",
   "execution_count": 461,
   "outputs": [],
   "source": [
    "# df = df.set_index(\"country_of_citizenship\")\n"
   ],
   "metadata": {
    "collapsed": false,
    "pycharm": {
     "name": "#%%\n"
    }
   }
  },
  {
   "cell_type": "code",
   "execution_count": 468,
   "outputs": [],
   "source": [
    "df = df.set_index(\"country_of_citizenship\")"
   ],
   "metadata": {
    "collapsed": false,
    "pycharm": {
     "name": "#%%\n"
    }
   }
  },
  {
   "cell_type": "code",
   "execution_count": 468,
   "outputs": [],
   "source": [],
   "metadata": {
    "collapsed": false,
    "pycharm": {
     "name": "#%%\n"
    }
   }
  },
  {
   "cell_type": "code",
   "execution_count": 469,
   "outputs": [
    {
     "data": {
      "text/plain": "                        Certified     Denied   count\ncountry_of_citizenship                              \nINDIA                   95.158328   4.841672  196585\nCHINA                   94.172070   5.827930   27454\nSOUTH KOREA             88.384111  11.615889   22254\nCANADA                  93.691970   6.308030   14109\nMEXICO                  76.389538  23.610462    8564",
      "text/html": "<div>\n<style scoped>\n    .dataframe tbody tr th:only-of-type {\n        vertical-align: middle;\n    }\n\n    .dataframe tbody tr th {\n        vertical-align: top;\n    }\n\n    .dataframe thead th {\n        text-align: right;\n    }\n</style>\n<table border=\"1\" class=\"dataframe\">\n  <thead>\n    <tr style=\"text-align: right;\">\n      <th></th>\n      <th>Certified</th>\n      <th>Denied</th>\n      <th>count</th>\n    </tr>\n    <tr>\n      <th>country_of_citizenship</th>\n      <th></th>\n      <th></th>\n      <th></th>\n    </tr>\n  </thead>\n  <tbody>\n    <tr>\n      <th>INDIA</th>\n      <td>95.158328</td>\n      <td>4.841672</td>\n      <td>196585</td>\n    </tr>\n    <tr>\n      <th>CHINA</th>\n      <td>94.172070</td>\n      <td>5.827930</td>\n      <td>27454</td>\n    </tr>\n    <tr>\n      <th>SOUTH KOREA</th>\n      <td>88.384111</td>\n      <td>11.615889</td>\n      <td>22254</td>\n    </tr>\n    <tr>\n      <th>CANADA</th>\n      <td>93.691970</td>\n      <td>6.308030</td>\n      <td>14109</td>\n    </tr>\n    <tr>\n      <th>MEXICO</th>\n      <td>76.389538</td>\n      <td>23.610462</td>\n      <td>8564</td>\n    </tr>\n  </tbody>\n</table>\n</div>"
     },
     "execution_count": 469,
     "metadata": {},
     "output_type": "execute_result"
    }
   ],
   "source": [
    "df.head()"
   ],
   "metadata": {
    "collapsed": false,
    "pycharm": {
     "name": "#%%\n"
    }
   }
  },
  {
   "cell_type": "code",
   "execution_count": 471,
   "outputs": [
    {
     "data": {
      "text/plain": "<AxesSubplot:xlabel='country_of_citizenship'>"
     },
     "execution_count": 471,
     "metadata": {},
     "output_type": "execute_result"
    },
    {
     "data": {
      "text/plain": "<Figure size 432x288 with 1 Axes>",
      "image/png": "[encoded data removed]"
     },
     "metadata": {
      "needs_background": "light"
     },
     "output_type": "display_data"
    }
   ],
   "source": [
    "\n",
    "df[['Certified','Denied']].plot.bar(stacked=True)"
   ],
   "metadata": {
    "collapsed": false,
    "pycharm": {
     "name": "#%%\n"
    }
   }
  },
  {
   "cell_type": "code",
   "execution_count": null,
   "outputs": [],
   "source": [],
   "metadata": {
    "collapsed": false,
    "pycharm": {
     "name": "#%%\n"
    }
   }
  },
  {
   "cell_type": "code",
   "execution_count": null,
   "outputs": [],
   "source": [],
   "metadata": {
    "collapsed": false,
    "pycharm": {
     "name": "#%%\n"
    }
   }
  },
  {
   "cell_type": "code",
   "execution_count": null,
   "outputs": [],
   "source": [],
   "metadata": {
    "collapsed": false,
    "pycharm": {
     "name": "#%%\n"
    }
   }
  }
 ],
 "metadata": {
  "kernelspec": {
   "name": "pycharm-3d450ede",
   "language": "python",
   "display_name": "PyCharm (python_visa)"
  },
  "language_info": {
   "codemirror_mode": {
    "name": "ipython",
    "version": 2
   },
   "file_extension": ".py",
   "mimetype": "text/x-python",
   "name": "python",
   "nbconvert_exporter": "python",
   "pygments_lexer": "ipython2",
   "version": "2.7.6"
  }
 },
 "nbformat": 4,
 "nbformat_minor": 0
}