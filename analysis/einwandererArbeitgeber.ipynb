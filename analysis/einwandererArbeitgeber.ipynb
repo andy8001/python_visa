{
 "cells": [
  {
   "cell_type": "markdown",
   "metadata": {
    "collapsed": true,
    "pycharm": {
     "name": "#%% md\n"
    }
   },
   "source": [
    "# Arbeitgeber der Visaantragsteller"
   ]
  },
  {
   "cell_type": "code",
   "execution_count": 1,
   "outputs": [],
   "source": [
    "import cleanup\n",
    "import pandas as pd\n",
    "import matplotlib.pyplot as plt\n",
    "import plotly.graph_objects as go\n",
    "plt.style.use('../own_style.mplstyle')"
   ],
   "metadata": {
    "collapsed": false,
    "pycharm": {
     "name": "#%%\n"
    }
   }
  },
  {
   "cell_type": "code",
   "execution_count": 2,
   "outputs": [],
   "source": [
    "# cleanup.generate_cleaned_df()\n"
   ],
   "metadata": {
    "collapsed": false,
    "pycharm": {
     "name": "#%%\n"
    }
   }
  },
  {
   "cell_type": "code",
   "execution_count": 3,
   "outputs": [
    {
     "name": "stderr",
     "output_type": "stream",
     "text": [
      "C:\\Users\\andre\\anaconda3\\lib\\site-packages\\IPython\\core\\interactiveshell.py:3146: DtypeWarning: Columns (10) have mixed types.Specify dtype option on import or set low_memory=False.\n",
      "  has_raised = await self.run_ast_nodes(code_ast.body, cell_name,\n"
     ]
    }
   ],
   "source": [
    "col_list = [\"us_economic_sector\", \"employer_name\", \"class_of_admission\", \"country_of_citizenship\", \"employer_state\"]\n",
    "visas_df = pd.read_csv('../data/us_perm_visas_cleaned.csv', usecols=col_list)"
   ],
   "metadata": {
    "collapsed": false,
    "pycharm": {
     "name": "#%%\n"
    }
   }
  },
  {
   "cell_type": "code",
   "execution_count": 4,
   "outputs": [
    {
     "data": {
      "text/plain": "  employer_state country_of_citizenship     us_economic_sector  \\\n0       NEW YORK                ARMENIA                     IT   \n1       NEW YORK                 POLAND  Other Economic Sector   \n2       VIRGINIA                  INDIA              Aerospace   \n3       NEW YORK            SOUTH KOREA  Other Economic Sector   \n4       NEW YORK                 CANADA           Advanced Mfg   \n\n                 employer_name class_of_admission  \n0             NETSOFT USA INC.                J-1  \n1  PINNACLE ENVIRONEMNTAL CORP                B-2  \n2   SCHNABEL ENGINEERING, INC.               H-1B  \n3      EBENEZER MISSION CHURCH                B-2  \n4   ALBANY INTERNATIONAL CORP.                L-1  ",
      "text/html": "<div>\n<style scoped>\n    .dataframe tbody tr th:only-of-type {\n        vertical-align: middle;\n    }\n\n    .dataframe tbody tr th {\n        vertical-align: top;\n    }\n\n    .dataframe thead th {\n        text-align: right;\n    }\n</style>\n<table border=\"1\" class=\"dataframe\">\n  <thead>\n    <tr style=\"text-align: right;\">\n      <th></th>\n      <th>employer_state</th>\n      <th>country_of_citizenship</th>\n      <th>us_economic_sector</th>\n      <th>employer_name</th>\n      <th>class_of_admission</th>\n    </tr>\n  </thead>\n  <tbody>\n    <tr>\n      <th>0</th>\n      <td>NEW YORK</td>\n      <td>ARMENIA</td>\n      <td>IT</td>\n      <td>NETSOFT USA INC.</td>\n      <td>J-1</td>\n    </tr>\n    <tr>\n      <th>1</th>\n      <td>NEW YORK</td>\n      <td>POLAND</td>\n      <td>Other Economic Sector</td>\n      <td>PINNACLE ENVIRONEMNTAL CORP</td>\n      <td>B-2</td>\n    </tr>\n    <tr>\n      <th>2</th>\n      <td>VIRGINIA</td>\n      <td>INDIA</td>\n      <td>Aerospace</td>\n      <td>SCHNABEL ENGINEERING, INC.</td>\n      <td>H-1B</td>\n    </tr>\n    <tr>\n      <th>3</th>\n      <td>NEW YORK</td>\n      <td>SOUTH KOREA</td>\n      <td>Other Economic Sector</td>\n      <td>EBENEZER MISSION CHURCH</td>\n      <td>B-2</td>\n    </tr>\n    <tr>\n      <th>4</th>\n      <td>NEW YORK</td>\n      <td>CANADA</td>\n      <td>Advanced Mfg</td>\n      <td>ALBANY INTERNATIONAL CORP.</td>\n      <td>L-1</td>\n    </tr>\n  </tbody>\n</table>\n</div>"
     },
     "execution_count": 4,
     "metadata": {},
     "output_type": "execute_result"
    }
   ],
   "source": [
    "visas_df.head ()"
   ],
   "metadata": {
    "collapsed": false,
    "pycharm": {
     "name": "#%%\n"
    }
   }
  },
  {
   "cell_type": "markdown",
   "source": [
    "Im Datensatz sind verschiedene Visaarten vertreten. Es soll ein kurzer Blick auf deren Verteilung geworfen werden."
   ],
   "metadata": {
    "collapsed": false,
    "pycharm": {
     "name": "#%% md\n"
    }
   }
  },
  {
   "cell_type": "code",
   "execution_count": 5,
   "outputs": [
    {
     "data": {
      "text/plain": "H-1B          0.805133\nL-1           0.056720\nF-1           0.042519\nNot in USA    0.024431\nTN            0.012133\nE-2           0.012053\nB-2           0.009482\nParolee       0.007618\nEWI           0.005562\nJ-1           0.002740\nName: class_of_admission, dtype: float64"
     },
     "execution_count": 5,
     "metadata": {},
     "output_type": "execute_result"
    }
   ],
   "source": [
    "visas_df[\"class_of_admission\"].value_counts(normalize=True).head(10)"
   ],
   "metadata": {
    "collapsed": false,
    "pycharm": {
     "name": "#%%\n"
    }
   }
  },
  {
   "cell_type": "code",
   "execution_count": 6,
   "outputs": [
    {
     "data": {
      "text/plain": "H-1B          0.805133\nL-1           0.861853\nF-1           0.904372\nNot in USA    0.928803\nTN            0.940936\nE-2           0.952989\nB-2           0.962471\nParolee       0.970090\nEWI           0.975651\nJ-1           0.978391\nName: class_of_admission, dtype: float64"
     },
     "execution_count": 6,
     "metadata": {},
     "output_type": "execute_result"
    }
   ],
   "source": [
    "visas_df[\"class_of_admission\"].value_counts(normalize=True).cumsum().head(10)"
   ],
   "metadata": {
    "collapsed": false,
    "pycharm": {
     "name": "#%%\n"
    }
   }
  },
  {
   "cell_type": "code",
   "execution_count": 7,
   "outputs": [
    {
     "data": {
      "text/plain": "12"
     },
     "execution_count": 7,
     "metadata": {},
     "output_type": "execute_result"
    }
   ],
   "source": [
    "visas_df[\"employer_name\"].isna().sum()"
   ],
   "metadata": {
    "collapsed": false,
    "pycharm": {
     "name": "#%%\n"
    }
   }
  },
  {
   "cell_type": "markdown",
   "source": [
    "Der Datensatz enthält 12 Einträge ohne angegebenen Arbeitgeber. Diese entfernen wir."
   ],
   "metadata": {
    "collapsed": false,
    "pycharm": {
     "name": "#%% md\n"
    }
   }
  },
  {
   "cell_type": "code",
   "execution_count": 8,
   "outputs": [],
   "source": [
    "visas_df.dropna(subset = [\"employer_name\"], inplace=True)\n"
   ],
   "metadata": {
    "collapsed": false,
    "pycharm": {
     "name": "#%%\n"
    }
   }
  },
  {
   "cell_type": "markdown",
   "source": [
    "Welche Arbeitgeber sind die größten Nutzer des Visa?\n",
    "Um die Namen der Arbeitgeber besser lesen zu können, wechseln wir auf horizontale Balkendiagramme."
   ],
   "metadata": {
    "collapsed": false,
    "pycharm": {
     "name": "#%% md\n"
    }
   }
  },
  {
   "cell_type": "code",
   "execution_count": 9,
   "outputs": [
    {
     "data": {
      "text/plain": "<AxesSubplot:>"
     },
     "execution_count": 9,
     "metadata": {},
     "output_type": "execute_result"
    },
    {
     "data": {
      "text/plain": "<Figure size 720x720 with 1 Axes>",
      "image/png": "[encoded data removed]"
     },
     "metadata": {
      "needs_background": "light"
     },
     "output_type": "display_data"
    }
   ],
   "source": [
    "visas_df[\"employer_name\"].value_counts()[:20].sort_values().plot(kind=\"barh\", figsize=(10,10))\n",
    "\n",
    "\n"
   ],
   "metadata": {
    "collapsed": false,
    "pycharm": {
     "name": "#%%\n"
    }
   }
  },
  {
   "cell_type": "code",
   "execution_count": 10,
   "outputs": [
    {
     "data": {
      "text/plain": "COGNIZANT TECHNOLOGY SOLUTIONS US CORPORATION    0.032272\nMICROSOFT CORPORATION                            0.054628\nINTEL CORPORATION                                0.072162\nGOOGLE INC.                                      0.085960\nAMAZON CORPORATE LLC                             0.095894\nINFOSYS LTD.                                     0.103152\nCISCO SYSTEMS, INC.                              0.110188\nORACLE AMERICA, INC.                             0.117091\nAPPLE INC.                                       0.123991\nQUALCOMM TECHNOLOGIES INC.                       0.128559\nDELOITTE CONSULTING LLP                          0.133095\nFACEBOOK, INC.                                   0.137505\nHCL AMERICA INC.                                 0.141579\nYAHOO! INC.                                      0.145473\nERNST & YOUNG U.S. LLP                           0.149056\nWIPRO LIMITED                                    0.152232\nHOUSE OF RAEFORD FARMS, INC.                     0.155368\nJP MORGAN CHASE & CO                             0.158352\nIBM CORPORATION                                  0.161149\nIGATE TECHNOLOGIES, INC.                         0.163887\nName: employer_name, dtype: float64"
     },
     "execution_count": 10,
     "metadata": {},
     "output_type": "execute_result"
    }
   ],
   "source": [
    "\n",
    "visas_df[\"employer_name\"].value_counts(normalize=True).cumsum().head(20)"
   ],
   "metadata": {
    "collapsed": false,
    "pycharm": {
     "name": "#%%\n"
    }
   }
  },
  {
   "cell_type": "markdown",
   "source": [
    "Die 20 am häufigsten vorkommenden Arbeitgeber machen nur 16% der gesamten Visaanträge aus."
   ],
   "metadata": {
    "collapsed": false,
    "pycharm": {
     "name": "#%% md\n"
    }
   }
  },
  {
   "cell_type": "markdown",
   "source": [
    "# Branchen"
   ],
   "metadata": {
    "collapsed": false,
    "pycharm": {
     "name": "#%% md\n"
    }
   }
  },
  {
   "cell_type": "markdown",
   "source": [
    "In welcher Branche fangen die Visa Bewerber an zu arbeiten? Hierzu wird eine Liste mit den den einzelnen Branchen/Sektoren erstellt\n",
    "\n",
    "ACHTUNG: Der Datensatz enthält nur bei 129.067 Zeilen Branchendaten. Leider liegen hier nur lückenhafte Informationen vor."
   ],
   "metadata": {
    "collapsed": false,
    "pycharm": {
     "name": "#%% md\n"
    }
   }
  },
  {
   "cell_type": "code",
   "execution_count": 11,
   "outputs": [
    {
     "data": {
      "text/plain": "129067"
     },
     "execution_count": 11,
     "metadata": {},
     "output_type": "execute_result"
    }
   ],
   "source": [
    "visas_df[\"us_economic_sector\"].count().sum()\n"
   ],
   "metadata": {
    "collapsed": false,
    "pycharm": {
     "name": "#%%\n"
    }
   }
  },
  {
   "cell_type": "markdown",
   "source": [
    "Durch die fehlenden Branchendaten, kann eine Auswertung verfälscht werden.\n",
    "Dies soll näher betrachtet werden:\n"
   ],
   "metadata": {
    "collapsed": false,
    "pycharm": {
     "name": "#%% md\n"
    }
   }
  },
  {
   "cell_type": "code",
   "execution_count": 12,
   "outputs": [],
   "source": [
    "count_of_sectors_df = visas_df[[\"us_economic_sector\", \"employer_name\"]].groupby(['employer_name'], dropna=False)[\"us_economic_sector\"].nunique()\n",
    "count_of_employers_df = visas_df[[\"employer_name\"]].groupby(['employer_name'], dropna=False)[\"employer_name\"].count()"
   ],
   "metadata": {
    "collapsed": false,
    "pycharm": {
     "name": "#%%\n"
    }
   }
  },
  {
   "cell_type": "code",
   "execution_count": 13,
   "outputs": [],
   "source": [
    "count_of_employers_df = count_of_employers_df.sort_values().to_frame().rename_axis(None)\n",
    "count_of_sectors_df = count_of_sectors_df.sort_values().to_frame().rename_axis(None)\n"
   ],
   "metadata": {
    "collapsed": false,
    "pycharm": {
     "name": "#%%\n"
    }
   }
  },
  {
   "cell_type": "code",
   "execution_count": 14,
   "outputs": [],
   "source": [
    "count_per_employer_df = count_of_employers_df.merge(count_of_sectors_df,  left_index=True, right_index=True)"
   ],
   "metadata": {
    "collapsed": false,
    "pycharm": {
     "name": "#%%\n"
    }
   }
  },
  {
   "cell_type": "code",
   "execution_count": 15,
   "outputs": [],
   "source": [
    "count_per_employer_df = count_per_employer_df.rename(columns={\"employer_name\": \"Entries_Count\", \"us_economic_sector\": \"Sectors_Count\"})"
   ],
   "metadata": {
    "collapsed": false,
    "pycharm": {
     "name": "#%%\n"
    }
   }
  },
  {
   "cell_type": "code",
   "execution_count": 16,
   "outputs": [
    {
     "data": {
      "text/plain": "                                               Entries_Count  Sectors_Count\nCOGNIZANT TECHNOLOGY SOLUTIONS US CORPORATION          12081              1\nMICROSOFT CORPORATION                                   8369              3\nINTEL CORPORATION                                       6564              1\nGOOGLE INC.                                             5165              1\nAMAZON CORPORATE LLC                                    3719              2\nINFOSYS LTD.                                            2717              1\nCISCO SYSTEMS, INC.                                     2634              1\nORACLE AMERICA, INC.                                    2584              1\nAPPLE INC.                                              2583              1\nQUALCOMM TECHNOLOGIES INC.                              1710              3\nDELOITTE CONSULTING LLP                                 1698              3\nFACEBOOK, INC.                                          1651              0\nHCL AMERICA INC.                                        1525              2\nYAHOO! INC.                                             1458              0\nERNST & YOUNG U.S. LLP                                  1341              1\nWIPRO LIMITED                                           1189              1\nHOUSE OF RAEFORD FARMS, INC.                            1174              1\nJP MORGAN CHASE & CO                                    1117              1\nIBM CORPORATION                                         1047              2\nIGATE TECHNOLOGIES, INC.                                1025              1",
      "text/html": "<div>\n<style scoped>\n    .dataframe tbody tr th:only-of-type {\n        vertical-align: middle;\n    }\n\n    .dataframe tbody tr th {\n        vertical-align: top;\n    }\n\n    .dataframe thead th {\n        text-align: right;\n    }\n</style>\n<table border=\"1\" class=\"dataframe\">\n  <thead>\n    <tr style=\"text-align: right;\">\n      <th></th>\n      <th>Entries_Count</th>\n      <th>Sectors_Count</th>\n    </tr>\n  </thead>\n  <tbody>\n    <tr>\n      <th>COGNIZANT TECHNOLOGY SOLUTIONS US CORPORATION</th>\n      <td>12081</td>\n      <td>1</td>\n    </tr>\n    <tr>\n      <th>MICROSOFT CORPORATION</th>\n      <td>8369</td>\n      <td>3</td>\n    </tr>\n    <tr>\n      <th>INTEL CORPORATION</th>\n      <td>6564</td>\n      <td>1</td>\n    </tr>\n    <tr>\n      <th>GOOGLE INC.</th>\n      <td>5165</td>\n      <td>1</td>\n    </tr>\n    <tr>\n      <th>AMAZON CORPORATE LLC</th>\n      <td>3719</td>\n      <td>2</td>\n    </tr>\n    <tr>\n      <th>INFOSYS LTD.</th>\n      <td>2717</td>\n      <td>1</td>\n    </tr>\n    <tr>\n      <th>CISCO SYSTEMS, INC.</th>\n      <td>2634</td>\n      <td>1</td>\n    </tr>\n    <tr>\n      <th>ORACLE AMERICA, INC.</th>\n      <td>2584</td>\n      <td>1</td>\n    </tr>\n    <tr>\n      <th>APPLE INC.</th>\n      <td>2583</td>\n      <td>1</td>\n    </tr>\n    <tr>\n      <th>QUALCOMM TECHNOLOGIES INC.</th>\n      <td>1710</td>\n      <td>3</td>\n    </tr>\n    <tr>\n      <th>DELOITTE CONSULTING LLP</th>\n      <td>1698</td>\n      <td>3</td>\n    </tr>\n    <tr>\n      <th>FACEBOOK, INC.</th>\n      <td>1651</td>\n      <td>0</td>\n    </tr>\n    <tr>\n      <th>HCL AMERICA INC.</th>\n      <td>1525</td>\n      <td>2</td>\n    </tr>\n    <tr>\n      <th>YAHOO! INC.</th>\n      <td>1458</td>\n      <td>0</td>\n    </tr>\n    <tr>\n      <th>ERNST &amp; YOUNG U.S. LLP</th>\n      <td>1341</td>\n      <td>1</td>\n    </tr>\n    <tr>\n      <th>WIPRO LIMITED</th>\n      <td>1189</td>\n      <td>1</td>\n    </tr>\n    <tr>\n      <th>HOUSE OF RAEFORD FARMS, INC.</th>\n      <td>1174</td>\n      <td>1</td>\n    </tr>\n    <tr>\n      <th>JP MORGAN CHASE &amp; CO</th>\n      <td>1117</td>\n      <td>1</td>\n    </tr>\n    <tr>\n      <th>IBM CORPORATION</th>\n      <td>1047</td>\n      <td>2</td>\n    </tr>\n    <tr>\n      <th>IGATE TECHNOLOGIES, INC.</th>\n      <td>1025</td>\n      <td>1</td>\n    </tr>\n  </tbody>\n</table>\n</div>"
     },
     "execution_count": 16,
     "metadata": {},
     "output_type": "execute_result"
    }
   ],
   "source": [
    "count_per_employer_df.sort_values(by=\"Entries_Count\", ascending=False).head(20)\n"
   ],
   "metadata": {
    "collapsed": false,
    "pycharm": {
     "name": "#%%\n"
    }
   }
  },
  {
   "cell_type": "markdown",
   "source": [
    "Es ist zu sehen, dass bei vielen Arbeitgeber teilweise mehrere Sektorangaben, oder gar keine Sektorangaben vorliegen.\n",
    "\n",
    "Vielleicht lässt sich dies bereinigen. Wir werden einen genaueren Blick auf die Sektorangaben bei den 20 Arbeitgeber mit den meisten Datensatzeinträgen werfen."
   ],
   "metadata": {
    "collapsed": false,
    "pycharm": {
     "name": "#%% md\n"
    }
   }
  },
  {
   "cell_type": "code",
   "execution_count": 17,
   "outputs": [],
   "source": [
    "topDf = visas_df[\"employer_name\"].value_counts().nlargest(\n",
    "    20).reset_index()\n",
    "topDf.columns = [\"employer_name\", 'count']\n",
    "topDf = topDf.set_index([\"employer_name\"])\n",
    "df_top = visas_df.loc[\n",
    "    visas_df[\"employer_name\"].isin(topDf.reset_index()[\"employer_name\"])]\n",
    "\n"
   ],
   "metadata": {
    "collapsed": false,
    "pycharm": {
     "name": "#%%\n"
    }
   }
  },
  {
   "cell_type": "code",
   "execution_count": 18,
   "outputs": [],
   "source": [
    "df_top_normalized_case_status = df_top[\"us_economic_sector\"].groupby(df_top[\"employer_name\"]).value_counts(dropna=False\n",
    "       ).reset_index(name='counts')"
   ],
   "metadata": {
    "collapsed": false,
    "pycharm": {
     "name": "#%%\n"
    }
   }
  },
  {
   "cell_type": "code",
   "execution_count": 19,
   "outputs": [],
   "source": [
    "#df_top_normalized_case_status"
   ],
   "metadata": {
    "collapsed": false,
    "pycharm": {
     "name": "#%%\n"
    }
   }
  },
  {
   "cell_type": "code",
   "execution_count": 20,
   "outputs": [
    {
     "data": {
      "text/plain": "<AxesSubplot:ylabel='employer_name'>"
     },
     "execution_count": 20,
     "metadata": {},
     "output_type": "execute_result"
    },
    {
     "data": {
      "text/plain": "<Figure size 720x1080 with 1 Axes>",
      "image/png": "[encoded data removed]"
     },
     "metadata": {
      "needs_background": "light"
     },
     "output_type": "display_data"
    }
   ],
   "source": [
    "df_top_normalized_case_status.pivot(index='employer_name', columns='us_economic_sector', values='counts').plot(kind=\"barh\", figsize=(10,15))"
   ],
   "metadata": {
    "collapsed": false,
    "pycharm": {
     "name": "#%%\n"
    }
   }
  },
  {
   "cell_type": "code",
   "execution_count": 21,
   "outputs": [
    {
     "data": {
      "text/plain": "us_economic_sector                                 NaN  Advanced Mfg  \\\nemployer_name                                                          \nAMAZON CORPORATE LLC                            2716.0           NaN   \nAPPLE INC.                                      1730.0         853.0   \nCISCO SYSTEMS, INC.                             2108.0         526.0   \nCOGNIZANT TECHNOLOGY SOLUTIONS US CORPORATION  11599.0           NaN   \nDELOITTE CONSULTING LLP                         1114.0           NaN   \nERNST & YOUNG U.S. LLP                           874.0           NaN   \nFACEBOOK, INC.                                  1651.0           NaN   \nGOOGLE INC.                                     3980.0           NaN   \nHCL AMERICA INC.                                1136.0           NaN   \nHOUSE OF RAEFORD FARMS, INC.                    1135.0           NaN   \nIBM CORPORATION                                  625.0           NaN   \nIGATE TECHNOLOGIES, INC.                         845.0           NaN   \nINFOSYS LTD.                                    1795.0           NaN   \nINTEL CORPORATION                               4132.0        2432.0   \nJP MORGAN CHASE & CO                             893.0           NaN   \nMICROSOFT CORPORATION                           4639.0           1.0   \nORACLE AMERICA, INC.                            1555.0           NaN   \nQUALCOMM TECHNOLOGIES INC.                      1107.0         590.0   \nWIPRO LIMITED                                   1140.0           NaN   \nYAHOO! INC.                                     1458.0           NaN   \n\nus_economic_sector                             Aerospace  Agribusiness  \\\nemployer_name                                                            \nAMAZON CORPORATE LLC                                 NaN           NaN   \nAPPLE INC.                                           NaN           NaN   \nCISCO SYSTEMS, INC.                                  NaN           NaN   \nCOGNIZANT TECHNOLOGY SOLUTIONS US CORPORATION        NaN           NaN   \nDELOITTE CONSULTING LLP                              NaN           NaN   \nERNST & YOUNG U.S. LLP                               NaN           NaN   \nFACEBOOK, INC.                                       NaN           NaN   \nGOOGLE INC.                                          NaN           NaN   \nHCL AMERICA INC.                                     NaN           NaN   \nHOUSE OF RAEFORD FARMS, INC.                         NaN          39.0   \nIBM CORPORATION                                      NaN           NaN   \nIGATE TECHNOLOGIES, INC.                             NaN           NaN   \nINFOSYS LTD.                                         NaN           NaN   \nINTEL CORPORATION                                    NaN           NaN   \nJP MORGAN CHASE & CO                                 NaN           NaN   \nMICROSOFT CORPORATION                                NaN           NaN   \nORACLE AMERICA, INC.                                 NaN           NaN   \nQUALCOMM TECHNOLOGIES INC.                           9.0           NaN   \nWIPRO LIMITED                                        NaN           NaN   \nYAHOO! INC.                                          NaN           NaN   \n\nus_economic_sector                             Finance      IT  \\\nemployer_name                                                    \nAMAZON CORPORATE LLC                               NaN    10.0   \nAPPLE INC.                                         NaN     NaN   \nCISCO SYSTEMS, INC.                                NaN     NaN   \nCOGNIZANT TECHNOLOGY SOLUTIONS US CORPORATION      NaN   482.0   \nDELOITTE CONSULTING LLP                            1.0     1.0   \nERNST & YOUNG U.S. LLP                           467.0     NaN   \nFACEBOOK, INC.                                     NaN     NaN   \nGOOGLE INC.                                        NaN  1185.0   \nHCL AMERICA INC.                                   NaN   388.0   \nHOUSE OF RAEFORD FARMS, INC.                       NaN     NaN   \nIBM CORPORATION                                    NaN   421.0   \nIGATE TECHNOLOGIES, INC.                           NaN   180.0   \nINFOSYS LTD.                                       NaN   922.0   \nINTEL CORPORATION                                  NaN     NaN   \nJP MORGAN CHASE & CO                               NaN     NaN   \nMICROSOFT CORPORATION                              NaN  3727.0   \nORACLE AMERICA, INC.                               NaN  1029.0   \nQUALCOMM TECHNOLOGIES INC.                         NaN     4.0   \nWIPRO LIMITED                                      NaN    49.0   \nYAHOO! INC.                                        NaN     NaN   \n\nus_economic_sector                             Other Economic Sector  Retail  \nemployer_name                                                                 \nAMAZON CORPORATE LLC                                             NaN   993.0  \nAPPLE INC.                                                       NaN     NaN  \nCISCO SYSTEMS, INC.                                              NaN     NaN  \nCOGNIZANT TECHNOLOGY SOLUTIONS US CORPORATION                    NaN     NaN  \nDELOITTE CONSULTING LLP                                        582.0     NaN  \nERNST & YOUNG U.S. LLP                                           NaN     NaN  \nFACEBOOK, INC.                                                   NaN     NaN  \nGOOGLE INC.                                                      NaN     NaN  \nHCL AMERICA INC.                                                 1.0     NaN  \nHOUSE OF RAEFORD FARMS, INC.                                     NaN     NaN  \nIBM CORPORATION                                                  1.0     NaN  \nIGATE TECHNOLOGIES, INC.                                         NaN     NaN  \nINFOSYS LTD.                                                     NaN     NaN  \nINTEL CORPORATION                                                NaN     NaN  \nJP MORGAN CHASE & CO                                           224.0     NaN  \nMICROSOFT CORPORATION                                            2.0     NaN  \nORACLE AMERICA, INC.                                             NaN     NaN  \nQUALCOMM TECHNOLOGIES INC.                                       NaN     NaN  \nWIPRO LIMITED                                                    NaN     NaN  \nYAHOO! INC.                                                      NaN     NaN  ",
      "text/html": "<div>\n<style scoped>\n    .dataframe tbody tr th:only-of-type {\n        vertical-align: middle;\n    }\n\n    .dataframe tbody tr th {\n        vertical-align: top;\n    }\n\n    .dataframe thead th {\n        text-align: right;\n    }\n</style>\n<table border=\"1\" class=\"dataframe\">\n  <thead>\n    <tr style=\"text-align: right;\">\n      <th>us_economic_sector</th>\n      <th>NaN</th>\n      <th>Advanced Mfg</th>\n      <th>Aerospace</th>\n      <th>Agribusiness</th>\n      <th>Finance</th>\n      <th>IT</th>\n      <th>Other Economic Sector</th>\n      <th>Retail</th>\n    </tr>\n    <tr>\n      <th>employer_name</th>\n      <th></th>\n      <th></th>\n      <th></th>\n      <th></th>\n      <th></th>\n      <th></th>\n      <th></th>\n      <th></th>\n    </tr>\n  </thead>\n  <tbody>\n    <tr>\n      <th>AMAZON CORPORATE LLC</th>\n      <td>2716.0</td>\n      <td>NaN</td>\n      <td>NaN</td>\n      <td>NaN</td>\n      <td>NaN</td>\n      <td>10.0</td>\n      <td>NaN</td>\n      <td>993.0</td>\n    </tr>\n    <tr>\n      <th>APPLE INC.</th>\n      <td>1730.0</td>\n      <td>853.0</td>\n      <td>NaN</td>\n      <td>NaN</td>\n      <td>NaN</td>\n      <td>NaN</td>\n      <td>NaN</td>\n      <td>NaN</td>\n    </tr>\n    <tr>\n      <th>CISCO SYSTEMS, INC.</th>\n      <td>2108.0</td>\n      <td>526.0</td>\n      <td>NaN</td>\n      <td>NaN</td>\n      <td>NaN</td>\n      <td>NaN</td>\n      <td>NaN</td>\n      <td>NaN</td>\n    </tr>\n    <tr>\n      <th>COGNIZANT TECHNOLOGY SOLUTIONS US CORPORATION</th>\n      <td>11599.0</td>\n      <td>NaN</td>\n      <td>NaN</td>\n      <td>NaN</td>\n      <td>NaN</td>\n      <td>482.0</td>\n      <td>NaN</td>\n      <td>NaN</td>\n    </tr>\n    <tr>\n      <th>DELOITTE CONSULTING LLP</th>\n      <td>1114.0</td>\n      <td>NaN</td>\n      <td>NaN</td>\n      <td>NaN</td>\n      <td>1.0</td>\n      <td>1.0</td>\n      <td>582.0</td>\n      <td>NaN</td>\n    </tr>\n    <tr>\n      <th>ERNST &amp; YOUNG U.S. LLP</th>\n      <td>874.0</td>\n      <td>NaN</td>\n      <td>NaN</td>\n      <td>NaN</td>\n      <td>467.0</td>\n      <td>NaN</td>\n      <td>NaN</td>\n      <td>NaN</td>\n    </tr>\n    <tr>\n      <th>FACEBOOK, INC.</th>\n      <td>1651.0</td>\n      <td>NaN</td>\n      <td>NaN</td>\n      <td>NaN</td>\n      <td>NaN</td>\n      <td>NaN</td>\n      <td>NaN</td>\n      <td>NaN</td>\n    </tr>\n    <tr>\n      <th>GOOGLE INC.</th>\n      <td>3980.0</td>\n      <td>NaN</td>\n      <td>NaN</td>\n      <td>NaN</td>\n      <td>NaN</td>\n      <td>1185.0</td>\n      <td>NaN</td>\n      <td>NaN</td>\n    </tr>\n    <tr>\n      <th>HCL AMERICA INC.</th>\n      <td>1136.0</td>\n      <td>NaN</td>\n      <td>NaN</td>\n      <td>NaN</td>\n      <td>NaN</td>\n      <td>388.0</td>\n      <td>1.0</td>\n      <td>NaN</td>\n    </tr>\n    <tr>\n      <th>HOUSE OF RAEFORD FARMS, INC.</th>\n      <td>1135.0</td>\n      <td>NaN</td>\n      <td>NaN</td>\n      <td>39.0</td>\n      <td>NaN</td>\n      <td>NaN</td>\n      <td>NaN</td>\n      <td>NaN</td>\n    </tr>\n    <tr>\n      <th>IBM CORPORATION</th>\n      <td>625.0</td>\n      <td>NaN</td>\n      <td>NaN</td>\n      <td>NaN</td>\n      <td>NaN</td>\n      <td>421.0</td>\n      <td>1.0</td>\n      <td>NaN</td>\n    </tr>\n    <tr>\n      <th>IGATE TECHNOLOGIES, INC.</th>\n      <td>845.0</td>\n      <td>NaN</td>\n      <td>NaN</td>\n      <td>NaN</td>\n      <td>NaN</td>\n      <td>180.0</td>\n      <td>NaN</td>\n      <td>NaN</td>\n    </tr>\n    <tr>\n      <th>INFOSYS LTD.</th>\n      <td>1795.0</td>\n      <td>NaN</td>\n      <td>NaN</td>\n      <td>NaN</td>\n      <td>NaN</td>\n      <td>922.0</td>\n      <td>NaN</td>\n      <td>NaN</td>\n    </tr>\n    <tr>\n      <th>INTEL CORPORATION</th>\n      <td>4132.0</td>\n      <td>2432.0</td>\n      <td>NaN</td>\n      <td>NaN</td>\n      <td>NaN</td>\n      <td>NaN</td>\n      <td>NaN</td>\n      <td>NaN</td>\n    </tr>\n    <tr>\n      <th>JP MORGAN CHASE &amp; CO</th>\n      <td>893.0</td>\n      <td>NaN</td>\n      <td>NaN</td>\n      <td>NaN</td>\n      <td>NaN</td>\n      <td>NaN</td>\n      <td>224.0</td>\n      <td>NaN</td>\n    </tr>\n    <tr>\n      <th>MICROSOFT CORPORATION</th>\n      <td>4639.0</td>\n      <td>1.0</td>\n      <td>NaN</td>\n      <td>NaN</td>\n      <td>NaN</td>\n      <td>3727.0</td>\n      <td>2.0</td>\n      <td>NaN</td>\n    </tr>\n    <tr>\n      <th>ORACLE AMERICA, INC.</th>\n      <td>1555.0</td>\n      <td>NaN</td>\n      <td>NaN</td>\n      <td>NaN</td>\n      <td>NaN</td>\n      <td>1029.0</td>\n      <td>NaN</td>\n      <td>NaN</td>\n    </tr>\n    <tr>\n      <th>QUALCOMM TECHNOLOGIES INC.</th>\n      <td>1107.0</td>\n      <td>590.0</td>\n      <td>9.0</td>\n      <td>NaN</td>\n      <td>NaN</td>\n      <td>4.0</td>\n      <td>NaN</td>\n      <td>NaN</td>\n    </tr>\n    <tr>\n      <th>WIPRO LIMITED</th>\n      <td>1140.0</td>\n      <td>NaN</td>\n      <td>NaN</td>\n      <td>NaN</td>\n      <td>NaN</td>\n      <td>49.0</td>\n      <td>NaN</td>\n      <td>NaN</td>\n    </tr>\n    <tr>\n      <th>YAHOO! INC.</th>\n      <td>1458.0</td>\n      <td>NaN</td>\n      <td>NaN</td>\n      <td>NaN</td>\n      <td>NaN</td>\n      <td>NaN</td>\n      <td>NaN</td>\n      <td>NaN</td>\n    </tr>\n  </tbody>\n</table>\n</div>"
     },
     "execution_count": 21,
     "metadata": {},
     "output_type": "execute_result"
    }
   ],
   "source": [
    "df_top_normalized_case_status.pivot(index='employer_name', columns='us_economic_sector', values='counts')"
   ],
   "metadata": {
    "collapsed": false,
    "pycharm": {
     "name": "#%%\n"
    }
   }
  },
  {
   "cell_type": "markdown",
   "source": [
    "Es lässt sich herauslesen, dass es durchaus bei allen Arbeitgebern Fehler im Datensatz gibt, jedoch nur ein Sektor, neben den NaN Werten, hauptsächlich besteht.\n",
    "Besipiel Amazon:\n",
    "Es liegen die Sektoren:\n",
    "- NaN (2716)\n",
    "- Retail (993)\n",
    "- IT (10)\n",
    "vor.\n",
    "\n",
    "Wir werden im Nachgang versuchen, bei einem Arbeitgeber nur einen Sektor zu bestimmen, indem wir alle Sektoren eines Arbeitgebers, durch die Gruppe mit den meisten Angaben überschreiben.\n",
    "Amazon würde nach dieser Logik zum \"Retail\" zählen."
   ],
   "metadata": {
    "collapsed": false,
    "pycharm": {
     "name": "#%% md\n"
    }
   }
  },
  {
   "cell_type": "code",
   "execution_count": 22,
   "outputs": [],
   "source": [
    "new_sectors = df_top_normalized_case_status[ df_top_normalized_case_status[\"us_economic_sector\"].isna() == False]"
   ],
   "metadata": {
    "collapsed": false,
    "pycharm": {
     "name": "#%%\n"
    }
   }
  },
  {
   "cell_type": "code",
   "execution_count": 23,
   "outputs": [
    {
     "data": {
      "text/plain": "                                    employer_name     us_economic_sector  \\\n0                            AMAZON CORPORATE LLC                 Retail   \n1                                      APPLE INC.           Advanced Mfg   \n2                             CISCO SYSTEMS, INC.           Advanced Mfg   \n3   COGNIZANT TECHNOLOGY SOLUTIONS US CORPORATION                     IT   \n4                         DELOITTE CONSULTING LLP  Other Economic Sector   \n5                          ERNST & YOUNG U.S. LLP                Finance   \n6                                     GOOGLE INC.                     IT   \n7                                HCL AMERICA INC.                     IT   \n8                    HOUSE OF RAEFORD FARMS, INC.           Agribusiness   \n9                                 IBM CORPORATION                     IT   \n10                       IGATE TECHNOLOGIES, INC.                     IT   \n11                                   INFOSYS LTD.                     IT   \n12                              INTEL CORPORATION           Advanced Mfg   \n13                           JP MORGAN CHASE & CO  Other Economic Sector   \n14                          MICROSOFT CORPORATION                     IT   \n15                           ORACLE AMERICA, INC.                     IT   \n16                     QUALCOMM TECHNOLOGIES INC.           Advanced Mfg   \n17                                  WIPRO LIMITED                     IT   \n\n    counts  \n0      993  \n1      853  \n2      526  \n3      482  \n4      582  \n5      467  \n6     1185  \n7      388  \n8       39  \n9      421  \n10     180  \n11     922  \n12    2432  \n13     224  \n14    3727  \n15    1029  \n16     590  \n17      49  ",
      "text/html": "<div>\n<style scoped>\n    .dataframe tbody tr th:only-of-type {\n        vertical-align: middle;\n    }\n\n    .dataframe tbody tr th {\n        vertical-align: top;\n    }\n\n    .dataframe thead th {\n        text-align: right;\n    }\n</style>\n<table border=\"1\" class=\"dataframe\">\n  <thead>\n    <tr style=\"text-align: right;\">\n      <th></th>\n      <th>employer_name</th>\n      <th>us_economic_sector</th>\n      <th>counts</th>\n    </tr>\n  </thead>\n  <tbody>\n    <tr>\n      <th>0</th>\n      <td>AMAZON CORPORATE LLC</td>\n      <td>Retail</td>\n      <td>993</td>\n    </tr>\n    <tr>\n      <th>1</th>\n      <td>APPLE INC.</td>\n      <td>Advanced Mfg</td>\n      <td>853</td>\n    </tr>\n    <tr>\n      <th>2</th>\n      <td>CISCO SYSTEMS, INC.</td>\n      <td>Advanced Mfg</td>\n      <td>526</td>\n    </tr>\n    <tr>\n      <th>3</th>\n      <td>COGNIZANT TECHNOLOGY SOLUTIONS US CORPORATION</td>\n      <td>IT</td>\n      <td>482</td>\n    </tr>\n    <tr>\n      <th>4</th>\n      <td>DELOITTE CONSULTING LLP</td>\n      <td>Other Economic Sector</td>\n      <td>582</td>\n    </tr>\n    <tr>\n      <th>5</th>\n      <td>ERNST &amp; YOUNG U.S. LLP</td>\n      <td>Finance</td>\n      <td>467</td>\n    </tr>\n    <tr>\n      <th>6</th>\n      <td>GOOGLE INC.</td>\n      <td>IT</td>\n      <td>1185</td>\n    </tr>\n    <tr>\n      <th>7</th>\n      <td>HCL AMERICA INC.</td>\n      <td>IT</td>\n      <td>388</td>\n    </tr>\n    <tr>\n      <th>8</th>\n      <td>HOUSE OF RAEFORD FARMS, INC.</td>\n      <td>Agribusiness</td>\n      <td>39</td>\n    </tr>\n    <tr>\n      <th>9</th>\n      <td>IBM CORPORATION</td>\n      <td>IT</td>\n      <td>421</td>\n    </tr>\n    <tr>\n      <th>10</th>\n      <td>IGATE TECHNOLOGIES, INC.</td>\n      <td>IT</td>\n      <td>180</td>\n    </tr>\n    <tr>\n      <th>11</th>\n      <td>INFOSYS LTD.</td>\n      <td>IT</td>\n      <td>922</td>\n    </tr>\n    <tr>\n      <th>12</th>\n      <td>INTEL CORPORATION</td>\n      <td>Advanced Mfg</td>\n      <td>2432</td>\n    </tr>\n    <tr>\n      <th>13</th>\n      <td>JP MORGAN CHASE &amp; CO</td>\n      <td>Other Economic Sector</td>\n      <td>224</td>\n    </tr>\n    <tr>\n      <th>14</th>\n      <td>MICROSOFT CORPORATION</td>\n      <td>IT</td>\n      <td>3727</td>\n    </tr>\n    <tr>\n      <th>15</th>\n      <td>ORACLE AMERICA, INC.</td>\n      <td>IT</td>\n      <td>1029</td>\n    </tr>\n    <tr>\n      <th>16</th>\n      <td>QUALCOMM TECHNOLOGIES INC.</td>\n      <td>Advanced Mfg</td>\n      <td>590</td>\n    </tr>\n    <tr>\n      <th>17</th>\n      <td>WIPRO LIMITED</td>\n      <td>IT</td>\n      <td>49</td>\n    </tr>\n  </tbody>\n</table>\n</div>"
     },
     "execution_count": 23,
     "metadata": {},
     "output_type": "execute_result"
    }
   ],
   "source": [
    "new_sectors[new_sectors.groupby([\"employer_name\"])['counts'].transform(max) == new_sectors['counts']].reset_index(drop=True)"
   ],
   "metadata": {
    "collapsed": false,
    "pycharm": {
     "name": "#%%\n"
    }
   }
  },
  {
   "cell_type": "markdown",
   "source": [
    "Die Ergebnisse der Top 20 Arbeitgeber scheinen valide. Wir werden den Schritt nun für die gesamte Anzahl an verfügbaren Arbeitgeber wiederholen."
   ],
   "metadata": {
    "collapsed": false,
    "pycharm": {
     "name": "#%% md\n"
    }
   }
  },
  {
   "cell_type": "code",
   "execution_count": 24,
   "outputs": [],
   "source": [
    "new_sectors = visas_df[\"us_economic_sector\"].groupby(visas_df[\"employer_name\"]).value_counts(dropna=False\n",
    "       ).reset_index(name='counts')\n"
   ],
   "metadata": {
    "collapsed": false,
    "pycharm": {
     "name": "#%%\n"
    }
   }
  },
  {
   "cell_type": "code",
   "execution_count": 25,
   "outputs": [],
   "source": [
    "new_sectors = new_sectors[ new_sectors[\"us_economic_sector\"].isna() == False]"
   ],
   "metadata": {
    "collapsed": false,
    "pycharm": {
     "name": "#%%\n"
    }
   }
  },
  {
   "cell_type": "code",
   "execution_count": 26,
   "outputs": [],
   "source": [
    "new_sectors = new_sectors[new_sectors.groupby([\"employer_name\"])['counts'].transform(max) == new_sectors['counts']].reset_index(drop=True)\n"
   ],
   "metadata": {
    "collapsed": false,
    "pycharm": {
     "name": "#%%\n"
    }
   }
  },
  {
   "cell_type": "code",
   "execution_count": 27,
   "outputs": [
    {
     "data": {
      "text/plain": "INSTITUTE IPRE. PROFESS RESEARCH&EDUCATIONAL CORP    3\nUNIVERSITY HEALTHSYSTEM CONSORTIUM                   3\nQIAGEN INC.                                          3\nKIKKERLAND DESIGN INC.                               2\nEMSI                                                 2\n                                                    ..\nH&M DEVELOPMENT, LLC                                 1\nSANDVIK MINING AND CONSTRUCTION USA, LLC             1\nDIALYSIS CLINIC, INC.                                1\nLL FUNDS, LLC                                        1\nQUEST GLOBAL SERVICES NA INC                         1\nName: employer_name, Length: 33502, dtype: int64"
     },
     "execution_count": 27,
     "metadata": {},
     "output_type": "execute_result"
    }
   ],
   "source": [
    "new_sectors[\"employer_name\"].value_counts()"
   ],
   "metadata": {
    "collapsed": false,
    "pycharm": {
     "name": "#%%\n"
    }
   }
  },
  {
   "cell_type": "code",
   "execution_count": 28,
   "outputs": [
    {
     "data": {
      "text/plain": "      employer_name     us_economic_sector  counts\n24117   QIAGEN INC.           Advanced Mfg       1\n24118   QIAGEN INC.          Biotechnology       1\n24119   QIAGEN INC.  Other Economic Sector       1",
      "text/html": "<div>\n<style scoped>\n    .dataframe tbody tr th:only-of-type {\n        vertical-align: middle;\n    }\n\n    .dataframe tbody tr th {\n        vertical-align: top;\n    }\n\n    .dataframe thead th {\n        text-align: right;\n    }\n</style>\n<table border=\"1\" class=\"dataframe\">\n  <thead>\n    <tr style=\"text-align: right;\">\n      <th></th>\n      <th>employer_name</th>\n      <th>us_economic_sector</th>\n      <th>counts</th>\n    </tr>\n  </thead>\n  <tbody>\n    <tr>\n      <th>24117</th>\n      <td>QIAGEN INC.</td>\n      <td>Advanced Mfg</td>\n      <td>1</td>\n    </tr>\n    <tr>\n      <th>24118</th>\n      <td>QIAGEN INC.</td>\n      <td>Biotechnology</td>\n      <td>1</td>\n    </tr>\n    <tr>\n      <th>24119</th>\n      <td>QIAGEN INC.</td>\n      <td>Other Economic Sector</td>\n      <td>1</td>\n    </tr>\n  </tbody>\n</table>\n</div>"
     },
     "execution_count": 28,
     "metadata": {},
     "output_type": "execute_result"
    }
   ],
   "source": [
    "new_sectors[new_sectors[\"employer_name\"]==\"QIAGEN INC.\"]"
   ],
   "metadata": {
    "collapsed": false,
    "pycharm": {
     "name": "#%%\n"
    }
   }
  },
  {
   "cell_type": "markdown",
   "source": [
    "Bei manchen Arbeitgebern, konnte nicht autmoatisch der meist vorkommende Sektor zugewiesen werden, da mehrere Sektoren gleich oft vorkommen.\n",
    "Dies sollte jedoch eher die Ausnahme als die Regel sein und betrifft nur Arbeitgeber mit einer geringen Anzahl an Einträgen im Datensatz.\n",
    "Wir werden Duplikate verwerfen, somit bleibt nur noch ein Sektor je Arbeitgeber übrig."
   ],
   "metadata": {
    "collapsed": false,
    "pycharm": {
     "name": "#%% md\n"
    }
   }
  },
  {
   "cell_type": "code",
   "execution_count": 29,
   "outputs": [
    {
     "data": {
      "text/plain": "employer_name         33744\nus_economic_sector    33744\ncounts                33744\ndtype: int64"
     },
     "execution_count": 29,
     "metadata": {},
     "output_type": "execute_result"
    }
   ],
   "source": [
    "new_sectors.count()"
   ],
   "metadata": {
    "collapsed": false,
    "pycharm": {
     "name": "#%%\n"
    }
   }
  },
  {
   "cell_type": "code",
   "execution_count": 30,
   "outputs": [],
   "source": [
    "new_sectors = new_sectors.drop_duplicates(subset=['employer_name'])"
   ],
   "metadata": {
    "collapsed": false,
    "pycharm": {
     "name": "#%%\n"
    }
   }
  },
  {
   "cell_type": "code",
   "execution_count": 31,
   "outputs": [
    {
     "data": {
      "text/plain": "employer_name         33502\nus_economic_sector    33502\ncounts                33502\ndtype: int64"
     },
     "execution_count": 31,
     "metadata": {},
     "output_type": "execute_result"
    }
   ],
   "source": [
    "new_sectors.count()"
   ],
   "metadata": {
    "collapsed": false,
    "pycharm": {
     "name": "#%%\n"
    }
   }
  },
  {
   "cell_type": "markdown",
   "source": [
    "Nun ermitteln wir die Anzahl an Einträgen je Arbeitgeber und weisen diese die ermittelten Sektoren zu.\n"
   ],
   "metadata": {
    "collapsed": false,
    "pycharm": {
     "name": "#%% md\n"
    }
   }
  },
  {
   "cell_type": "code",
   "execution_count": 32,
   "outputs": [],
   "source": [
    "sectors_df = visas_df[\"employer_name\"].value_counts().to_frame()"
   ],
   "metadata": {
    "collapsed": false,
    "pycharm": {
     "name": "#%%\n"
    }
   }
  },
  {
   "cell_type": "code",
   "execution_count": 33,
   "outputs": [],
   "source": [
    "del new_sectors[\"counts\"]"
   ],
   "metadata": {
    "collapsed": false,
    "pycharm": {
     "name": "#%%\n"
    }
   }
  },
  {
   "cell_type": "code",
   "execution_count": 34,
   "outputs": [],
   "source": [
    "sectors_df = sectors_df.rename(columns={\"employer_name\": \"Entries_Count\"})"
   ],
   "metadata": {
    "collapsed": false,
    "pycharm": {
     "name": "#%%\n"
    }
   }
  },
  {
   "cell_type": "code",
   "execution_count": 35,
   "outputs": [
    {
     "data": {
      "text/plain": "                                               Entries_Count\nCOGNIZANT TECHNOLOGY SOLUTIONS US CORPORATION          12081\nMICROSOFT CORPORATION                                   8369\nINTEL CORPORATION                                       6564\nGOOGLE INC.                                             5165\nAMAZON CORPORATE LLC                                    3719\n...                                                      ...\nBHP HOLDING PARTNERS LTD                                   1\nGREG J NIELSEN DDS PROFESSIONAL LLC                        1\nCOURTELIS COMPANY                                          1\nDIGITAL ASSURANCE CERTIFICATION, LLC                       1\nKSR GROUP, INC.                                            1\n\n[70846 rows x 1 columns]",
      "text/html": "<div>\n<style scoped>\n    .dataframe tbody tr th:only-of-type {\n        vertical-align: middle;\n    }\n\n    .dataframe tbody tr th {\n        vertical-align: top;\n    }\n\n    .dataframe thead th {\n        text-align: right;\n    }\n</style>\n<table border=\"1\" class=\"dataframe\">\n  <thead>\n    <tr style=\"text-align: right;\">\n      <th></th>\n      <th>Entries_Count</th>\n    </tr>\n  </thead>\n  <tbody>\n    <tr>\n      <th>COGNIZANT TECHNOLOGY SOLUTIONS US CORPORATION</th>\n      <td>12081</td>\n    </tr>\n    <tr>\n      <th>MICROSOFT CORPORATION</th>\n      <td>8369</td>\n    </tr>\n    <tr>\n      <th>INTEL CORPORATION</th>\n      <td>6564</td>\n    </tr>\n    <tr>\n      <th>GOOGLE INC.</th>\n      <td>5165</td>\n    </tr>\n    <tr>\n      <th>AMAZON CORPORATE LLC</th>\n      <td>3719</td>\n    </tr>\n    <tr>\n      <th>...</th>\n      <td>...</td>\n    </tr>\n    <tr>\n      <th>BHP HOLDING PARTNERS LTD</th>\n      <td>1</td>\n    </tr>\n    <tr>\n      <th>GREG J NIELSEN DDS PROFESSIONAL LLC</th>\n      <td>1</td>\n    </tr>\n    <tr>\n      <th>COURTELIS COMPANY</th>\n      <td>1</td>\n    </tr>\n    <tr>\n      <th>DIGITAL ASSURANCE CERTIFICATION, LLC</th>\n      <td>1</td>\n    </tr>\n    <tr>\n      <th>KSR GROUP, INC.</th>\n      <td>1</td>\n    </tr>\n  </tbody>\n</table>\n<p>70846 rows × 1 columns</p>\n</div>"
     },
     "execution_count": 35,
     "metadata": {},
     "output_type": "execute_result"
    }
   ],
   "source": [
    "sectors_df"
   ],
   "metadata": {
    "collapsed": false,
    "pycharm": {
     "name": "#%%\n"
    }
   }
  },
  {
   "cell_type": "code",
   "execution_count": 36,
   "outputs": [],
   "source": [
    "sectors_df = sectors_df.merge(new_sectors, left_index = True, right_on=\"employer_name\").reset_index(drop=True)"
   ],
   "metadata": {
    "collapsed": false,
    "pycharm": {
     "name": "#%%\n"
    }
   }
  },
  {
   "cell_type": "code",
   "execution_count": 37,
   "outputs": [],
   "source": [
    "del sectors_df[\"employer_name\"]\n"
   ],
   "metadata": {
    "collapsed": false,
    "pycharm": {
     "name": "#%%\n"
    }
   }
  },
  {
   "cell_type": "code",
   "execution_count": 38,
   "outputs": [
    {
     "data": {
      "text/plain": "       Entries_Count    us_economic_sector\n0              12081                    IT\n1               8369                    IT\n2               6564          Advanced Mfg\n3               5165                    IT\n4               3719                Retail\n...              ...                   ...\n33497              1           Health Care\n33498              1  Educational Services\n33499              1           Hospitality\n33500              1                    IT\n33501              1               Finance\n\n[33502 rows x 2 columns]",
      "text/html": "<div>\n<style scoped>\n    .dataframe tbody tr th:only-of-type {\n        vertical-align: middle;\n    }\n\n    .dataframe tbody tr th {\n        vertical-align: top;\n    }\n\n    .dataframe thead th {\n        text-align: right;\n    }\n</style>\n<table border=\"1\" class=\"dataframe\">\n  <thead>\n    <tr style=\"text-align: right;\">\n      <th></th>\n      <th>Entries_Count</th>\n      <th>us_economic_sector</th>\n    </tr>\n  </thead>\n  <tbody>\n    <tr>\n      <th>0</th>\n      <td>12081</td>\n      <td>IT</td>\n    </tr>\n    <tr>\n      <th>1</th>\n      <td>8369</td>\n      <td>IT</td>\n    </tr>\n    <tr>\n      <th>2</th>\n      <td>6564</td>\n      <td>Advanced Mfg</td>\n    </tr>\n    <tr>\n      <th>3</th>\n      <td>5165</td>\n      <td>IT</td>\n    </tr>\n    <tr>\n      <th>4</th>\n      <td>3719</td>\n      <td>Retail</td>\n    </tr>\n    <tr>\n      <th>...</th>\n      <td>...</td>\n      <td>...</td>\n    </tr>\n    <tr>\n      <th>33497</th>\n      <td>1</td>\n      <td>Health Care</td>\n    </tr>\n    <tr>\n      <th>33498</th>\n      <td>1</td>\n      <td>Educational Services</td>\n    </tr>\n    <tr>\n      <th>33499</th>\n      <td>1</td>\n      <td>Hospitality</td>\n    </tr>\n    <tr>\n      <th>33500</th>\n      <td>1</td>\n      <td>IT</td>\n    </tr>\n    <tr>\n      <th>33501</th>\n      <td>1</td>\n      <td>Finance</td>\n    </tr>\n  </tbody>\n</table>\n<p>33502 rows × 2 columns</p>\n</div>"
     },
     "execution_count": 38,
     "metadata": {},
     "output_type": "execute_result"
    }
   ],
   "source": [
    "sectors_df"
   ],
   "metadata": {
    "collapsed": false,
    "pycharm": {
     "name": "#%%\n"
    }
   }
  },
  {
   "cell_type": "markdown",
   "source": [
    "Als letztes geben wir die ermittelten Ergebnisse mittels eines Kreisdiagrammes aus.\n",
    "Um das Kreisdiagramm übersichtlich zu halten, geben wir nur die 10 am meisten vorkommenden Sektoren aus.\n"
   ],
   "metadata": {
    "collapsed": false,
    "pycharm": {
     "name": "#%% md\n"
    }
   }
  },
  {
   "cell_type": "code",
   "execution_count": 39,
   "outputs": [
    {
     "data": {
      "text/plain": "<AxesSubplot:ylabel='Entries_Count'>"
     },
     "execution_count": 39,
     "metadata": {},
     "output_type": "execute_result"
    },
    {
     "data": {
      "text/plain": "<Figure size 720x720 with 1 Axes>",
      "image/png": "[encoded data removed]"
     },
     "metadata": {},
     "output_type": "display_data"
    }
   ],
   "source": [
    "explode = (0.035, 0, 0, 0,0,0,0,0,0,0)\n",
    "sectors_df.groupby(\"us_economic_sector\").sum().sort_values(by=\"Entries_Count\", ascending=False)[:10].plot.pie(y='Entries_Count', figsize=(10, 10), legend = False, autopct='%1.0f%%', pctdistance=1.1, labeldistance=1.2, explode = explode)"
   ],
   "metadata": {
    "collapsed": false,
    "pycharm": {
     "name": "#%%\n"
    }
   }
  },
  {
   "cell_type": "markdown",
   "source": [
    "Die IT Branche profitiert mit Abstand am meisten von den US Visas."
   ],
   "metadata": {
    "collapsed": false,
    "pycharm": {
     "name": "#%% md\n"
    }
   }
  },
  {
   "cell_type": "markdown",
   "source": [
    "# Welche Staaten profitieren von des Visa am meisten?\n",
    "\n",
    "Die Visualisierung wird als Karte mittels go.Choropleth erfolgen. Dieses benötigt die zweistelligen Staatenbezeichnungen für die Ausgabe.\n",
    "Im Datensatz sind Langformangaben vorhanden. Diese ersetzen wir im Nachgang mit den Kurzbezeichnungen.\n",
    "\n",
    "Die Kurzbezeichnungen beziehen wir von https://www.infoplease.com/us/postal-information/state-abbreviations-and-state-postal-codes."
   ],
   "metadata": {
    "collapsed": false,
    "pycharm": {
     "name": "#%% md\n"
    }
   }
  },
  {
   "cell_type": "code",
   "execution_count": 62,
   "outputs": [
    {
     "data": {
      "text/plain": "CA    93493\nTX    45180\nNJ    30135\nNY    28075\nWA    17113\nIL    16323\nMA    13261\nVA    12050\nMI    12001\nPA    11905\nName: employer_state, dtype: int64"
     },
     "execution_count": 62,
     "metadata": {},
     "output_type": "execute_result"
    }
   ],
   "source": [
    "visas_df[\"employer_state\"].value_counts()[:10]"
   ],
   "metadata": {
    "collapsed": false,
    "pycharm": {
     "name": "#%%\n"
    }
   }
  },
  {
   "cell_type": "code",
   "execution_count": 41,
   "outputs": [],
   "source": [
    "##Territories\n",
    "web_table = pd.read_html(\n",
    "    'https://www.infoplease.com/us/postal-information/state-abbreviations-and-state-postal-codes',\n",
    "    match='Territory/Associate')\n",
    "states_abbreviations_df = web_table[0]\n"
   ],
   "metadata": {
    "collapsed": false,
    "pycharm": {
     "name": "#%%\n"
    }
   }
  },
  {
   "cell_type": "code",
   "execution_count": 42,
   "outputs": [],
   "source": [
    "states_abbreviations_df = states_abbreviations_df.rename(columns={\"Territory/Associate\": \"name\"})"
   ],
   "metadata": {
    "collapsed": false,
    "pycharm": {
     "name": "#%%\n"
    }
   }
  },
  {
   "cell_type": "code",
   "execution_count": 43,
   "outputs": [],
   "source": [
    "##States\n",
    "web_table = pd.read_html(\n",
    "    'https://www.infoplease.com/us/postal-information/state-abbreviations-and-state-postal-codes',\n",
    "    match='State/District')\n",
    "\n",
    "web_table[0] = web_table[0].rename(columns={\"State/District\": \"name\"})\n",
    "states_abbreviations_df = states_abbreviations_df.append(web_table[0])"
   ],
   "metadata": {
    "collapsed": false,
    "pycharm": {
     "name": "#%%\n"
    }
   }
  },
  {
   "cell_type": "code",
   "execution_count": 64,
   "outputs": [
    {
     "data": {
      "text/plain": "                name Abbreviation Postal Code\n0     AMERICAN SAMOA            Â          AS\n1               GUAM         Guam          GU\n2   MARSHALL ISLANDS            Â          MH\n3         MICRONESIA            Â          FM\n4  NORTHERN MARIANAS            Â          MP",
      "text/html": "<div>\n<style scoped>\n    .dataframe tbody tr th:only-of-type {\n        vertical-align: middle;\n    }\n\n    .dataframe tbody tr th {\n        vertical-align: top;\n    }\n\n    .dataframe thead th {\n        text-align: right;\n    }\n</style>\n<table border=\"1\" class=\"dataframe\">\n  <thead>\n    <tr style=\"text-align: right;\">\n      <th></th>\n      <th>name</th>\n      <th>Abbreviation</th>\n      <th>Postal Code</th>\n    </tr>\n  </thead>\n  <tbody>\n    <tr>\n      <th>0</th>\n      <td>AMERICAN SAMOA</td>\n      <td>Â</td>\n      <td>AS</td>\n    </tr>\n    <tr>\n      <th>1</th>\n      <td>GUAM</td>\n      <td>Guam</td>\n      <td>GU</td>\n    </tr>\n    <tr>\n      <th>2</th>\n      <td>MARSHALL ISLANDS</td>\n      <td>Â</td>\n      <td>MH</td>\n    </tr>\n    <tr>\n      <th>3</th>\n      <td>MICRONESIA</td>\n      <td>Â</td>\n      <td>FM</td>\n    </tr>\n    <tr>\n      <th>4</th>\n      <td>NORTHERN MARIANAS</td>\n      <td>Â</td>\n      <td>MP</td>\n    </tr>\n  </tbody>\n</table>\n</div>"
     },
     "execution_count": 64,
     "metadata": {},
     "output_type": "execute_result"
    }
   ],
   "source": [
    "states_abbreviations_df.head()\n"
   ],
   "metadata": {
    "collapsed": false,
    "pycharm": {
     "name": "#%%\n"
    }
   }
  },
  {
   "cell_type": "code",
   "execution_count": 45,
   "outputs": [],
   "source": [
    "# Standardized Format\n",
    "states_abbreviations_df['name'] = states_abbreviations_df['name'].str.upper()\n",
    "abbr_dictionary = states_abbreviations_df.set_index('name')['Postal Code'].to_dict()\n",
    "\n",
    "# Replace abbreviations by short-names\n",
    "visas_df['employer_state'] = visas_df['employer_state'].replace(abbr_dictionary)\n"
   ],
   "metadata": {
    "collapsed": false,
    "pycharm": {
     "name": "#%%\n"
    }
   }
  },
  {
   "cell_type": "code",
   "execution_count": 59,
   "outputs": [],
   "source": [
    "fig_df = visas_df[\"employer_state\"].value_counts().to_frame().reset_index()"
   ],
   "metadata": {
    "collapsed": false,
    "pycharm": {
     "name": "#%%\n"
    }
   }
  },
  {
   "cell_type": "code",
   "execution_count": 63,
   "outputs": [
    {
     "data": {
      "text/plain": "  index  employer_state\n0    CA           93493\n1    TX           45180\n2    NJ           30135\n3    NY           28075\n4    WA           17113",
      "text/html": "<div>\n<style scoped>\n    .dataframe tbody tr th:only-of-type {\n        vertical-align: middle;\n    }\n\n    .dataframe tbody tr th {\n        vertical-align: top;\n    }\n\n    .dataframe thead th {\n        text-align: right;\n    }\n</style>\n<table border=\"1\" class=\"dataframe\">\n  <thead>\n    <tr style=\"text-align: right;\">\n      <th></th>\n      <th>index</th>\n      <th>employer_state</th>\n    </tr>\n  </thead>\n  <tbody>\n    <tr>\n      <th>0</th>\n      <td>CA</td>\n      <td>93493</td>\n    </tr>\n    <tr>\n      <th>1</th>\n      <td>TX</td>\n      <td>45180</td>\n    </tr>\n    <tr>\n      <th>2</th>\n      <td>NJ</td>\n      <td>30135</td>\n    </tr>\n    <tr>\n      <th>3</th>\n      <td>NY</td>\n      <td>28075</td>\n    </tr>\n    <tr>\n      <th>4</th>\n      <td>WA</td>\n      <td>17113</td>\n    </tr>\n  </tbody>\n</table>\n</div>"
     },
     "execution_count": 63,
     "metadata": {},
     "output_type": "execute_result"
    }
   ],
   "source": [
    "fig_df.head()"
   ],
   "metadata": {
    "collapsed": false,
    "pycharm": {
     "name": "#%%\n"
    }
   }
  },
  {
   "cell_type": "code",
   "execution_count": 55,
   "outputs": [],
   "source": [
    "fig = go.Figure(data=go.Choropleth(\n",
    "    locations=fig_df['index'], # Spatial coordinates\n",
    "    z = fig_df['employer_state'].astype(float), # Data to be color-coded\n",
    "    locationmode = 'USA-states', # set of locations match entries in `locations`\n",
    "    colorscale = 'Reds',\n",
    "    colorbar_title = \"Anzahl Einträge\",\n",
    "))"
   ],
   "metadata": {
    "collapsed": false,
    "pycharm": {
     "name": "#%%\n"
    }
   }
  },
  {
   "cell_type": "code",
   "execution_count": 65,
   "outputs": [
    {
     "data": {
      "application/vnd.plotly.v1+json": {
       "config": {
        "plotlyServerURL": "https://plot.ly"
       },
       "data": [
        {
         "colorbar": {
          "title": {
           "text": "Anzahl Einträge"
          }
         },
         "colorscale": [
          [
           0.0,
           "rgb(255,245,240)"
          ],
          [
           0.125,
           "rgb(254,224,210)"
          ],
          [
           0.25,
           "rgb(252,187,161)"
          ],
          [
           0.375,
           "rgb(252,146,114)"
          ],
          [
           0.5,
           "rgb(251,106,74)"
          ],
          [
           0.625,
           "rgb(239,59,44)"
          ],
          [
           0.75,
           "rgb(203,24,29)"
          ],
          [
           0.875,
           "rgb(165,15,21)"
          ],
          [
           1.0,
           "rgb(103,0,13)"
          ]
         ],
         "locationmode": "USA-states",
         "locations": [
          "CA",
          "TX",
          "NJ",
          "NY",
          "WA",
          "IL",
          "MA",
          "VA",
          "MI",
          "PA",
          "FL",
          "GA",
          "NC",
          "OH",
          "MD",
          "CT",
          "WI",
          "MO",
          "AZ",
          "MN",
          "IN",
          "CO",
          "SC",
          "AL",
          "TN",
          "AR",
          "KY",
          "DC",
          "KS",
          "IA",
          "DE",
          "NE",
          "LA",
          "OR",
          "UT",
          "OK",
          "RI",
          "NM",
          "NV",
          "NH",
          "ID",
          "MS",
          "VT",
          "ND",
          "ME",
          "GU",
          "SD",
          "WV",
          "HI",
          "PR",
          "MT",
          "WY",
          "AK",
          "VI",
          "MP",
          "NORTHERN MARIANA ISLANDS",
          "BRITISH COLUMBIA",
          "British Columbia",
          "MH"
         ],
         "type": "choropleth",
         "z": [
          93493.0,
          45180.0,
          30135.0,
          28075.0,
          17113.0,
          16323.0,
          13261.0,
          12050.0,
          12001.0,
          11905.0,
          11499.0,
          11368.0,
          8304.0,
          6181.0,
          5733.0,
          3697.0,
          3550.0,
          3363.0,
          3201.0,
          2879.0,
          2878.0,
          2722.0,
          2512.0,
          2230.0,
          2210.0,
          1697.0,
          1676.0,
          1647.0,
          1491.0,
          1491.0,
          1381.0,
          1259.0,
          1226.0,
          1140.0,
          1136.0,
          847.0,
          825.0,
          728.0,
          723.0,
          653.0,
          648.0,
          622.0,
          476.0,
          415.0,
          401.0,
          361.0,
          323.0,
          316.0,
          271.0,
          192.0,
          141.0,
          116.0,
          109.0,
          67.0,
          51.0,
          22.0,
          3.0,
          1.0,
          1.0
         ]
        }
       ],
       "layout": {
        "geo": {
         "scope": "usa"
        },
        "template": {
         "data": {
          "bar": [
           {
            "error_x": {
             "color": "#2a3f5f"
            },
            "error_y": {
             "color": "#2a3f5f"
            },
            "marker": {
             "line": {
              "color": "#E5ECF6",
              "width": 0.5
             }
            },
            "type": "bar"
           }
          ],
          "barpolar": [
           {
            "marker": {
             "line": {
              "color": "#E5ECF6",
              "width": 0.5
             }
            },
            "type": "barpolar"
           }
          ],
          "carpet": [
           {
            "aaxis": {
             "endlinecolor": "#2a3f5f",
             "gridcolor": "white",
             "linecolor": "white",
             "minorgridcolor": "white",
             "startlinecolor": "#2a3f5f"
            },
            "baxis": {
             "endlinecolor": "#2a3f5f",
             "gridcolor": "white",
             "linecolor": "white",
             "minorgridcolor": "white",
             "startlinecolor": "#2a3f5f"
            },
            "type": "carpet"
           }
          ],
          "choropleth": [
           {
            "colorbar": {
             "outlinewidth": 0,
             "ticks": ""
            },
            "type": "choropleth"
           }
          ],
          "contour": [
           {
            "colorbar": {
             "outlinewidth": 0,
             "ticks": ""
            },
            "colorscale": [
             [
              0.0,
              "#0d0887"
             ],
             [
              0.1111111111111111,
              "#46039f"
             ],
             [
              0.2222222222222222,
              "#7201a8"
             ],
             [
              0.3333333333333333,
              "#9c179e"
             ],
             [
              0.4444444444444444,
              "#bd3786"
             ],
             [
              0.5555555555555556,
              "#d8576b"
             ],
             [
              0.6666666666666666,
              "#ed7953"
             ],
             [
              0.7777777777777778,
              "#fb9f3a"
             ],
             [
              0.8888888888888888,
              "#fdca26"
             ],
             [
              1.0,
              "#f0f921"
             ]
            ],
            "type": "contour"
           }
          ],
          "contourcarpet": [
           {
            "colorbar": {
             "outlinewidth": 0,
             "ticks": ""
            },
            "type": "contourcarpet"
           }
          ],
          "heatmap": [
           {
            "colorbar": {
             "outlinewidth": 0,
             "ticks": ""
            },
            "colorscale": [
             [
              0.0,
              "#0d0887"
             ],
             [
              0.1111111111111111,
              "#46039f"
             ],
             [
              0.2222222222222222,
              "#7201a8"
             ],
             [
              0.3333333333333333,
              "#9c179e"
             ],
             [
              0.4444444444444444,
              "#bd3786"
             ],
             [
              0.5555555555555556,
              "#d8576b"
             ],
             [
              0.6666666666666666,
              "#ed7953"
             ],
             [
              0.7777777777777778,
              "#fb9f3a"
             ],
             [
              0.8888888888888888,
              "#fdca26"
             ],
             [
              1.0,
              "#f0f921"
             ]
            ],
            "type": "heatmap"
           }
          ],
          "heatmapgl": [
           {
            "colorbar": {
             "outlinewidth": 0,
             "ticks": ""
            },
            "colorscale": [
             [
              0.0,
              "#0d0887"
             ],
             [
              0.1111111111111111,
              "#46039f"
             ],
             [
              0.2222222222222222,
              "#7201a8"
             ],
             [
              0.3333333333333333,
              "#9c179e"
             ],
             [
              0.4444444444444444,
              "#bd3786"
             ],
             [
              0.5555555555555556,
              "#d8576b"
             ],
             [
              0.6666666666666666,
              "#ed7953"
             ],
             [
              0.7777777777777778,
              "#fb9f3a"
             ],
             [
              0.8888888888888888,
              "#fdca26"
             ],
             [
              1.0,
              "#f0f921"
             ]
            ],
            "type": "heatmapgl"
           }
          ],
          "histogram": [
           {
            "marker": {
             "colorbar": {
              "outlinewidth": 0,
              "ticks": ""
             }
            },
            "type": "histogram"
           }
          ],
          "histogram2d": [
           {
            "colorbar": {
             "outlinewidth": 0,
             "ticks": ""
            },
            "colorscale": [
             [
              0.0,
              "#0d0887"
             ],
             [
              0.1111111111111111,
              "#46039f"
             ],
             [
              0.2222222222222222,
              "#7201a8"
             ],
             [
              0.3333333333333333,
              "#9c179e"
             ],
             [
              0.4444444444444444,
              "#bd3786"
             ],
             [
              0.5555555555555556,
              "#d8576b"
             ],
             [
              0.6666666666666666,
              "#ed7953"
             ],
             [
              0.7777777777777778,
              "#fb9f3a"
             ],
             [
              0.8888888888888888,
              "#fdca26"
             ],
             [
              1.0,
              "#f0f921"
             ]
            ],
            "type": "histogram2d"
           }
          ],
          "histogram2dcontour": [
           {
            "colorbar": {
             "outlinewidth": 0,
             "ticks": ""
            },
            "colorscale": [
             [
              0.0,
              "#0d0887"
             ],
             [
              0.1111111111111111,
              "#46039f"
             ],
             [
              0.2222222222222222,
              "#7201a8"
             ],
             [
              0.3333333333333333,
              "#9c179e"
             ],
             [
              0.4444444444444444,
              "#bd3786"
             ],
             [
              0.5555555555555556,
              "#d8576b"
             ],
             [
              0.6666666666666666,
              "#ed7953"
             ],
             [
              0.7777777777777778,
              "#fb9f3a"
             ],
             [
              0.8888888888888888,
              "#fdca26"
             ],
             [
              1.0,
              "#f0f921"
             ]
            ],
            "type": "histogram2dcontour"
           }
          ],
          "mesh3d": [
           {
            "colorbar": {
             "outlinewidth": 0,
             "ticks": ""
            },
            "type": "mesh3d"
           }
          ],
          "parcoords": [
           {
            "line": {
             "colorbar": {
              "outlinewidth": 0,
              "ticks": ""
             }
            },
            "type": "parcoords"
           }
          ],
          "pie": [
           {
            "automargin": true,
            "type": "pie"
           }
          ],
          "scatter": [
           {
            "marker": {
             "colorbar": {
              "outlinewidth": 0,
              "ticks": ""
             }
            },
            "type": "scatter"
           }
          ],
          "scatter3d": [
           {
            "line": {
             "colorbar": {
              "outlinewidth": 0,
              "ticks": ""
             }
            },
            "marker": {
             "colorbar": {
              "outlinewidth": 0,
              "ticks": ""
             }
            },
            "type": "scatter3d"
           }
          ],
          "scattercarpet": [
           {
            "marker": {
             "colorbar": {
              "outlinewidth": 0,
              "ticks": ""
             }
            },
            "type": "scattercarpet"
           }
          ],
          "scattergeo": [
           {
            "marker": {
             "colorbar": {
              "outlinewidth": 0,
              "ticks": ""
             }
            },
            "type": "scattergeo"
           }
          ],
          "scattergl": [
           {
            "marker": {
             "colorbar": {
              "outlinewidth": 0,
              "ticks": ""
             }
            },
            "type": "scattergl"
           }
          ],
          "scattermapbox": [
           {
            "marker": {
             "colorbar": {
              "outlinewidth": 0,
              "ticks": ""
             }
            },
            "type": "scattermapbox"
           }
          ],
          "scatterpolar": [
           {
            "marker": {
             "colorbar": {
              "outlinewidth": 0,
              "ticks": ""
             }
            },
            "type": "scatterpolar"
           }
          ],
          "scatterpolargl": [
           {
            "marker": {
             "colorbar": {
              "outlinewidth": 0,
              "ticks": ""
             }
            },
            "type": "scatterpolargl"
           }
          ],
          "scatterternary": [
           {
            "marker": {
             "colorbar": {
              "outlinewidth": 0,
              "ticks": ""
             }
            },
            "type": "scatterternary"
           }
          ],
          "surface": [
           {
            "colorbar": {
             "outlinewidth": 0,
             "ticks": ""
            },
            "colorscale": [
             [
              0.0,
              "#0d0887"
             ],
             [
              0.1111111111111111,
              "#46039f"
             ],
             [
              0.2222222222222222,
              "#7201a8"
             ],
             [
              0.3333333333333333,
              "#9c179e"
             ],
             [
              0.4444444444444444,
              "#bd3786"
             ],
             [
              0.5555555555555556,
              "#d8576b"
             ],
             [
              0.6666666666666666,
              "#ed7953"
             ],
             [
              0.7777777777777778,
              "#fb9f3a"
             ],
             [
              0.8888888888888888,
              "#fdca26"
             ],
             [
              1.0,
              "#f0f921"
             ]
            ],
            "type": "surface"
           }
          ],
          "table": [
           {
            "cells": {
             "fill": {
              "color": "#EBF0F8"
             },
             "line": {
              "color": "white"
             }
            },
            "header": {
             "fill": {
              "color": "#C8D4E3"
             },
             "line": {
              "color": "white"
             }
            },
            "type": "table"
           }
          ]
         },
         "layout": {
          "annotationdefaults": {
           "arrowcolor": "#2a3f5f",
           "arrowhead": 0,
           "arrowwidth": 1
          },
          "autotypenumbers": "strict",
          "coloraxis": {
           "colorbar": {
            "outlinewidth": 0,
            "ticks": ""
           }
          },
          "colorscale": {
           "diverging": [
            [
             0,
             "#8e0152"
            ],
            [
             0.1,
             "#c51b7d"
            ],
            [
             0.2,
             "#de77ae"
            ],
            [
             0.3,
             "#f1b6da"
            ],
            [
             0.4,
             "#fde0ef"
            ],
            [
             0.5,
             "#f7f7f7"
            ],
            [
             0.6,
             "#e6f5d0"
            ],
            [
             0.7,
             "#b8e186"
            ],
            [
             0.8,
             "#7fbc41"
            ],
            [
             0.9,
             "#4d9221"
            ],
            [
             1,
             "#276419"
            ]
           ],
           "sequential": [
            [
             0.0,
             "#0d0887"
            ],
            [
             0.1111111111111111,
             "#46039f"
            ],
            [
             0.2222222222222222,
             "#7201a8"
            ],
            [
             0.3333333333333333,
             "#9c179e"
            ],
            [
             0.4444444444444444,
             "#bd3786"
            ],
            [
             0.5555555555555556,
             "#d8576b"
            ],
            [
             0.6666666666666666,
             "#ed7953"
            ],
            [
             0.7777777777777778,
             "#fb9f3a"
            ],
            [
             0.8888888888888888,
             "#fdca26"
            ],
            [
             1.0,
             "#f0f921"
            ]
           ],
           "sequentialminus": [
            [
             0.0,
             "#0d0887"
            ],
            [
             0.1111111111111111,
             "#46039f"
            ],
            [
             0.2222222222222222,
             "#7201a8"
            ],
            [
             0.3333333333333333,
             "#9c179e"
            ],
            [
             0.4444444444444444,
             "#bd3786"
            ],
            [
             0.5555555555555556,
             "#d8576b"
            ],
            [
             0.6666666666666666,
             "#ed7953"
            ],
            [
             0.7777777777777778,
             "#fb9f3a"
            ],
            [
             0.8888888888888888,
             "#fdca26"
            ],
            [
             1.0,
             "#f0f921"
            ]
           ]
          },
          "colorway": [
           "#636efa",
           "#EF553B",
           "#00cc96",
           "#ab63fa",
           "#FFA15A",
           "#19d3f3",
           "#FF6692",
           "#B6E880",
           "#FF97FF",
           "#FECB52"
          ],
          "font": {
           "color": "#2a3f5f"
          },
          "geo": {
           "bgcolor": "white",
           "lakecolor": "white",
           "landcolor": "#E5ECF6",
           "showlakes": true,
           "showland": true,
           "subunitcolor": "white"
          },
          "hoverlabel": {
           "align": "left"
          },
          "hovermode": "closest",
          "mapbox": {
           "style": "light"
          },
          "paper_bgcolor": "white",
          "plot_bgcolor": "#E5ECF6",
          "polar": {
           "angularaxis": {
            "gridcolor": "white",
            "linecolor": "white",
            "ticks": ""
           },
           "bgcolor": "#E5ECF6",
           "radialaxis": {
            "gridcolor": "white",
            "linecolor": "white",
            "ticks": ""
           }
          },
          "scene": {
           "xaxis": {
            "backgroundcolor": "#E5ECF6",
            "gridcolor": "white",
            "gridwidth": 2,
            "linecolor": "white",
            "showbackground": true,
            "ticks": "",
            "zerolinecolor": "white"
           },
           "yaxis": {
            "backgroundcolor": "#E5ECF6",
            "gridcolor": "white",
            "gridwidth": 2,
            "linecolor": "white",
            "showbackground": true,
            "ticks": "",
            "zerolinecolor": "white"
           },
           "zaxis": {
            "backgroundcolor": "#E5ECF6",
            "gridcolor": "white",
            "gridwidth": 2,
            "linecolor": "white",
            "showbackground": true,
            "ticks": "",
            "zerolinecolor": "white"
           }
          },
          "shapedefaults": {
           "line": {
            "color": "#2a3f5f"
           }
          },
          "ternary": {
           "aaxis": {
            "gridcolor": "white",
            "linecolor": "white",
            "ticks": ""
           },
           "baxis": {
            "gridcolor": "white",
            "linecolor": "white",
            "ticks": ""
           },
           "bgcolor": "#E5ECF6",
           "caxis": {
            "gridcolor": "white",
            "linecolor": "white",
            "ticks": ""
           }
          },
          "title": {
           "x": 0.05
          },
          "xaxis": {
           "automargin": true,
           "gridcolor": "white",
           "linecolor": "white",
           "ticks": "",
           "title": {
            "standoff": 15
           },
           "zerolinecolor": "white",
           "zerolinewidth": 2
          },
          "yaxis": {
           "automargin": true,
           "gridcolor": "white",
           "linecolor": "white",
           "ticks": "",
           "title": {
            "standoff": 15
           },
           "zerolinecolor": "white",
           "zerolinewidth": 2
          }
         }
        },
        "title": {
         "text": "Anzahl Visaanträge je Bundesstaat"
        }
       }
      },
      "text/html": "<div>                            <div id=\"8e6338d0-45d5-48ed-8c46-cedfd5306e1f\" class=\"plotly-graph-div\" style=\"height:525px; width:100%;\"></div>            <script type=\"text/javascript\">                require([\"plotly\"], function(Plotly) {                    window.PLOTLYENV=window.PLOTLYENV || {};                                    if (document.getElementById(\"8e6338d0-45d5-48ed-8c46-cedfd5306e1f\")) {                    Plotly.newPlot(                        \"8e6338d0-45d5-48ed-8c46-cedfd5306e1f\",                        [{\"colorbar\": {\"title\": {\"text\": \"Anzahl Eintr\\u00e4ge\"}}, \"colorscale\": [[0.0, \"rgb(255,245,240)\"], [0.125, \"rgb(254,224,210)\"], [0.25, \"rgb(252,187,161)\"], [0.375, \"rgb(252,146,114)\"], [0.5, \"rgb(251,106,74)\"], [0.625, \"rgb(239,59,44)\"], [0.75, \"rgb(203,24,29)\"], [0.875, \"rgb(165,15,21)\"], [1.0, \"rgb(103,0,13)\"]], \"locationmode\": \"USA-states\", \"locations\": [\"CA\", \"TX\", \"NJ\", \"NY\", \"WA\", \"IL\", \"MA\", \"VA\", \"MI\", \"PA\", \"FL\", \"GA\", \"NC\", \"OH\", \"MD\", \"CT\", \"WI\", \"MO\", \"AZ\", \"MN\", \"IN\", \"CO\", \"SC\", \"AL\", \"TN\", \"AR\", \"KY\", \"DC\", \"KS\", \"IA\", \"DE\", \"NE\", \"LA\", \"OR\", \"UT\", \"OK\", \"RI\", \"NM\", \"NV\", \"NH\", \"ID\", \"MS\", \"VT\", \"ND\", \"ME\", \"GU\", \"SD\", \"WV\", \"HI\", \"PR\", \"MT\", \"WY\", \"AK\", \"VI\", \"MP\", \"NORTHERN MARIANA ISLANDS\", \"BRITISH COLUMBIA\", \"British Columbia\", \"MH\"], \"type\": \"choropleth\", \"z\": [93493.0, 45180.0, 30135.0, 28075.0, 17113.0, 16323.0, 13261.0, 12050.0, 12001.0, 11905.0, 11499.0, 11368.0, 8304.0, 6181.0, 5733.0, 3697.0, 3550.0, 3363.0, 3201.0, 2879.0, 2878.0, 2722.0, 2512.0, 2230.0, 2210.0, 1697.0, 1676.0, 1647.0, 1491.0, 1491.0, 1381.0, 1259.0, 1226.0, 1140.0, 1136.0, 847.0, 825.0, 728.0, 723.0, 653.0, 648.0, 622.0, 476.0, 415.0, 401.0, 361.0, 323.0, 316.0, 271.0, 192.0, 141.0, 116.0, 109.0, 67.0, 51.0, 22.0, 3.0, 1.0, 1.0]}],                        {\"geo\": {\"scope\": \"usa\"}, \"template\": {\"data\": {\"bar\": [{\"error_x\": {\"color\": \"#2a3f5f\"}, \"error_y\": {\"color\": \"#2a3f5f\"}, \"marker\": {\"line\": {\"color\": \"#E5ECF6\", \"width\": 0.5}}, \"type\": \"bar\"}], \"barpolar\": [{\"marker\": {\"line\": {\"color\": \"#E5ECF6\", \"width\": 0.5}}, \"type\": \"barpolar\"}], \"carpet\": [{\"aaxis\": {\"endlinecolor\": \"#2a3f5f\", \"gridcolor\": \"white\", \"linecolor\": \"white\", \"minorgridcolor\": \"white\", \"startlinecolor\": \"#2a3f5f\"}, \"baxis\": {\"endlinecolor\": \"#2a3f5f\", \"gridcolor\": \"white\", \"linecolor\": \"white\", \"minorgridcolor\": \"white\", \"startlinecolor\": \"#2a3f5f\"}, \"type\": \"carpet\"}], \"choropleth\": [{\"colorbar\": {\"outlinewidth\": 0, \"ticks\": \"\"}, \"type\": \"choropleth\"}], \"contour\": [{\"colorbar\": {\"outlinewidth\": 0, \"ticks\": \"\"}, \"colorscale\": [[0.0, \"#0d0887\"], [0.1111111111111111, \"#46039f\"], [0.2222222222222222, \"#7201a8\"], [0.3333333333333333, \"#9c179e\"], [0.4444444444444444, \"#bd3786\"], [0.5555555555555556, \"#d8576b\"], [0.6666666666666666, \"#ed7953\"], [0.7777777777777778, \"#fb9f3a\"], [0.8888888888888888, \"#fdca26\"], [1.0, \"#f0f921\"]], \"type\": \"contour\"}], \"contourcarpet\": [{\"colorbar\": {\"outlinewidth\": 0, \"ticks\": \"\"}, \"type\": \"contourcarpet\"}], \"heatmap\": [{\"colorbar\": {\"outlinewidth\": 0, \"ticks\": \"\"}, \"colorscale\": [[0.0, \"#0d0887\"], [0.1111111111111111, \"#46039f\"], [0.2222222222222222, \"#7201a8\"], [0.3333333333333333, \"#9c179e\"], [0.4444444444444444, \"#bd3786\"], [0.5555555555555556, \"#d8576b\"], [0.6666666666666666, \"#ed7953\"], [0.7777777777777778, \"#fb9f3a\"], [0.8888888888888888, \"#fdca26\"], [1.0, \"#f0f921\"]], \"type\": \"heatmap\"}], \"heatmapgl\": [{\"colorbar\": {\"outlinewidth\": 0, \"ticks\": \"\"}, \"colorscale\": [[0.0, \"#0d0887\"], [0.1111111111111111, \"#46039f\"], [0.2222222222222222, \"#7201a8\"], [0.3333333333333333, \"#9c179e\"], [0.4444444444444444, \"#bd3786\"], [0.5555555555555556, \"#d8576b\"], [0.6666666666666666, \"#ed7953\"], [0.7777777777777778, \"#fb9f3a\"], [0.8888888888888888, \"#fdca26\"], [1.0, \"#f0f921\"]], \"type\": \"heatmapgl\"}], \"histogram\": [{\"marker\": {\"colorbar\": {\"outlinewidth\": 0, \"ticks\": \"\"}}, \"type\": \"histogram\"}], \"histogram2d\": [{\"colorbar\": {\"outlinewidth\": 0, \"ticks\": \"\"}, \"colorscale\": [[0.0, \"#0d0887\"], [0.1111111111111111, \"#46039f\"], [0.2222222222222222, \"#7201a8\"], [0.3333333333333333, \"#9c179e\"], [0.4444444444444444, \"#bd3786\"], [0.5555555555555556, \"#d8576b\"], [0.6666666666666666, \"#ed7953\"], [0.7777777777777778, \"#fb9f3a\"], [0.8888888888888888, \"#fdca26\"], [1.0, \"#f0f921\"]], \"type\": \"histogram2d\"}], \"histogram2dcontour\": [{\"colorbar\": {\"outlinewidth\": 0, \"ticks\": \"\"}, \"colorscale\": [[0.0, \"#0d0887\"], [0.1111111111111111, \"#46039f\"], [0.2222222222222222, \"#7201a8\"], [0.3333333333333333, \"#9c179e\"], [0.4444444444444444, \"#bd3786\"], [0.5555555555555556, \"#d8576b\"], [0.6666666666666666, \"#ed7953\"], [0.7777777777777778, \"#fb9f3a\"], [0.8888888888888888, \"#fdca26\"], [1.0, \"#f0f921\"]], \"type\": \"histogram2dcontour\"}], \"mesh3d\": [{\"colorbar\": {\"outlinewidth\": 0, \"ticks\": \"\"}, \"type\": \"mesh3d\"}], \"parcoords\": [{\"line\": {\"colorbar\": {\"outlinewidth\": 0, \"ticks\": \"\"}}, \"type\": \"parcoords\"}], \"pie\": [{\"automargin\": true, \"type\": \"pie\"}], \"scatter\": [{\"marker\": {\"colorbar\": {\"outlinewidth\": 0, \"ticks\": \"\"}}, \"type\": \"scatter\"}], \"scatter3d\": [{\"line\": {\"colorbar\": {\"outlinewidth\": 0, \"ticks\": \"\"}}, \"marker\": {\"colorbar\": {\"outlinewidth\": 0, \"ticks\": \"\"}}, \"type\": \"scatter3d\"}], \"scattercarpet\": [{\"marker\": {\"colorbar\": {\"outlinewidth\": 0, \"ticks\": \"\"}}, \"type\": \"scattercarpet\"}], \"scattergeo\": [{\"marker\": {\"colorbar\": {\"outlinewidth\": 0, \"ticks\": \"\"}}, \"type\": \"scattergeo\"}], \"scattergl\": [{\"marker\": {\"colorbar\": {\"outlinewidth\": 0, \"ticks\": \"\"}}, \"type\": \"scattergl\"}], \"scattermapbox\": [{\"marker\": {\"colorbar\": {\"outlinewidth\": 0, \"ticks\": \"\"}}, \"type\": \"scattermapbox\"}], \"scatterpolar\": [{\"marker\": {\"colorbar\": {\"outlinewidth\": 0, \"ticks\": \"\"}}, \"type\": \"scatterpolar\"}], \"scatterpolargl\": [{\"marker\": {\"colorbar\": {\"outlinewidth\": 0, \"ticks\": \"\"}}, \"type\": \"scatterpolargl\"}], \"scatterternary\": [{\"marker\": {\"colorbar\": {\"outlinewidth\": 0, \"ticks\": \"\"}}, \"type\": \"scatterternary\"}], \"surface\": [{\"colorbar\": {\"outlinewidth\": 0, \"ticks\": \"\"}, \"colorscale\": [[0.0, \"#0d0887\"], [0.1111111111111111, \"#46039f\"], [0.2222222222222222, \"#7201a8\"], [0.3333333333333333, \"#9c179e\"], [0.4444444444444444, \"#bd3786\"], [0.5555555555555556, \"#d8576b\"], [0.6666666666666666, \"#ed7953\"], [0.7777777777777778, \"#fb9f3a\"], [0.8888888888888888, \"#fdca26\"], [1.0, \"#f0f921\"]], \"type\": \"surface\"}], \"table\": [{\"cells\": {\"fill\": {\"color\": \"#EBF0F8\"}, \"line\": {\"color\": \"white\"}}, \"header\": {\"fill\": {\"color\": \"#C8D4E3\"}, \"line\": {\"color\": \"white\"}}, \"type\": \"table\"}]}, \"layout\": {\"annotationdefaults\": {\"arrowcolor\": \"#2a3f5f\", \"arrowhead\": 0, \"arrowwidth\": 1}, \"autotypenumbers\": \"strict\", \"coloraxis\": {\"colorbar\": {\"outlinewidth\": 0, \"ticks\": \"\"}}, \"colorscale\": {\"diverging\": [[0, \"#8e0152\"], [0.1, \"#c51b7d\"], [0.2, \"#de77ae\"], [0.3, \"#f1b6da\"], [0.4, \"#fde0ef\"], [0.5, \"#f7f7f7\"], [0.6, \"#e6f5d0\"], [0.7, \"#b8e186\"], [0.8, \"#7fbc41\"], [0.9, \"#4d9221\"], [1, \"#276419\"]], \"sequential\": [[0.0, \"#0d0887\"], [0.1111111111111111, \"#46039f\"], [0.2222222222222222, \"#7201a8\"], [0.3333333333333333, \"#9c179e\"], [0.4444444444444444, \"#bd3786\"], [0.5555555555555556, \"#d8576b\"], [0.6666666666666666, \"#ed7953\"], [0.7777777777777778, \"#fb9f3a\"], [0.8888888888888888, \"#fdca26\"], [1.0, \"#f0f921\"]], \"sequentialminus\": [[0.0, \"#0d0887\"], [0.1111111111111111, \"#46039f\"], [0.2222222222222222, \"#7201a8\"], [0.3333333333333333, \"#9c179e\"], [0.4444444444444444, \"#bd3786\"], [0.5555555555555556, \"#d8576b\"], [0.6666666666666666, \"#ed7953\"], [0.7777777777777778, \"#fb9f3a\"], [0.8888888888888888, \"#fdca26\"], [1.0, \"#f0f921\"]]}, \"colorway\": [\"#636efa\", \"#EF553B\", \"#00cc96\", \"#ab63fa\", \"#FFA15A\", \"#19d3f3\", \"#FF6692\", \"#B6E880\", \"#FF97FF\", \"#FECB52\"], \"font\": {\"color\": \"#2a3f5f\"}, \"geo\": {\"bgcolor\": \"white\", \"lakecolor\": \"white\", \"landcolor\": \"#E5ECF6\", \"showlakes\": true, \"showland\": true, \"subunitcolor\": \"white\"}, \"hoverlabel\": {\"align\": \"left\"}, \"hovermode\": \"closest\", \"mapbox\": {\"style\": \"light\"}, \"paper_bgcolor\": \"white\", \"plot_bgcolor\": \"#E5ECF6\", \"polar\": {\"angularaxis\": {\"gridcolor\": \"white\", \"linecolor\": \"white\", \"ticks\": \"\"}, \"bgcolor\": \"#E5ECF6\", \"radialaxis\": {\"gridcolor\": \"white\", \"linecolor\": \"white\", \"ticks\": \"\"}}, \"scene\": {\"xaxis\": {\"backgroundcolor\": \"#E5ECF6\", \"gridcolor\": \"white\", \"gridwidth\": 2, \"linecolor\": \"white\", \"showbackground\": true, \"ticks\": \"\", \"zerolinecolor\": \"white\"}, \"yaxis\": {\"backgroundcolor\": \"#E5ECF6\", \"gridcolor\": \"white\", \"gridwidth\": 2, \"linecolor\": \"white\", \"showbackground\": true, \"ticks\": \"\", \"zerolinecolor\": \"white\"}, \"zaxis\": {\"backgroundcolor\": \"#E5ECF6\", \"gridcolor\": \"white\", \"gridwidth\": 2, \"linecolor\": \"white\", \"showbackground\": true, \"ticks\": \"\", \"zerolinecolor\": \"white\"}}, \"shapedefaults\": {\"line\": {\"color\": \"#2a3f5f\"}}, \"ternary\": {\"aaxis\": {\"gridcolor\": \"white\", \"linecolor\": \"white\", \"ticks\": \"\"}, \"baxis\": {\"gridcolor\": \"white\", \"linecolor\": \"white\", \"ticks\": \"\"}, \"bgcolor\": \"#E5ECF6\", \"caxis\": {\"gridcolor\": \"white\", \"linecolor\": \"white\", \"ticks\": \"\"}}, \"title\": {\"x\": 0.05}, \"xaxis\": {\"automargin\": true, \"gridcolor\": \"white\", \"linecolor\": \"white\", \"ticks\": \"\", \"title\": {\"standoff\": 15}, \"zerolinecolor\": \"white\", \"zerolinewidth\": 2}, \"yaxis\": {\"automargin\": true, \"gridcolor\": \"white\", \"linecolor\": \"white\", \"ticks\": \"\", \"title\": {\"standoff\": 15}, \"zerolinecolor\": \"white\", \"zerolinewidth\": 2}}}, \"title\": {\"text\": \"Anzahl Visaantr\\u00e4ge je Bundesstaat\"}},                        {\"responsive\": true}                    ).then(function(){\n                            \nvar gd = document.getElementById('8e6338d0-45d5-48ed-8c46-cedfd5306e1f');\nvar x = new MutationObserver(function (mutations, observer) {{\n        var display = window.getComputedStyle(gd).display;\n        if (!display || display === 'none') {{\n            console.log([gd, 'removed!']);\n            Plotly.purge(gd);\n            observer.disconnect();\n        }}\n}});\n\n// Listen for the removal of the full notebook cells\nvar notebookContainer = gd.closest('#notebook-container');\nif (notebookContainer) {{\n    x.observe(notebookContainer, {childList: true});\n}}\n\n// Listen for the clearing of the current output cell\nvar outputEl = gd.closest('.output');\nif (outputEl) {{\n    x.observe(outputEl, {childList: true});\n}}\n\n                        })                };                });            </script>        </div>"
     },
     "metadata": {},
     "output_type": "display_data"
    }
   ],
   "source": [
    "fig.update_layout(\n",
    "    title_text = 'Anzahl Visaanträge je Bundesstaat',\n",
    "    geo_scope='usa', # limite map scope to USA\n",
    ")\n",
    "fig.show()"
   ],
   "metadata": {
    "collapsed": false,
    "pycharm": {
     "name": "#%%\n"
    }
   }
  },
  {
   "cell_type": "code",
   "execution_count": 65,
   "outputs": [],
   "source": [],
   "metadata": {
    "collapsed": false,
    "pycharm": {
     "name": "#%%\n"
    }
   }
  },
  {
   "cell_type": "code",
   "execution_count": null,
   "outputs": [],
   "source": [
    "Siehe:\n",
    "#https://plotly.com/python/choropleth-maps/"
   ],
   "metadata": {
    "collapsed": false,
    "pycharm": {
     "name": "#%%\n"
    }
   }
  },
  {
   "cell_type": "code",
   "execution_count": null,
   "outputs": [],
   "source": [],
   "metadata": {
    "collapsed": false,
    "pycharm": {
     "name": "#%%\n"
    }
   }
  }
 ],
 "metadata": {
  "kernelspec": {
   "display_name": "Python 3",
   "language": "python",
   "name": "python3"
  },
  "language_info": {
   "codemirror_mode": {
    "name": "ipython",
    "version": 2
   },
   "file_extension": ".py",
   "mimetype": "text/x-python",
   "name": "python",
   "nbconvert_exporter": "python",
   "pygments_lexer": "ipython2",
   "version": "2.7.6"
  }
 },
 "nbformat": 4,
 "nbformat_minor": 0
}