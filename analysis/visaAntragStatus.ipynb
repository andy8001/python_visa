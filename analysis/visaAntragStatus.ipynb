{
 "cells": [
  {
   "cell_type": "markdown",
   "metadata": {
    "collapsed": true,
    "pycharm": {
     "name": "#%% md\n"
    }
   },
   "source": [
    "# Visa Status"
   ]
  },
  {
   "cell_type": "code",
   "execution_count": 4,
   "outputs": [],
   "source": [
    "import cleanup\n",
    "import pandas as pd\n",
    "import matplotlib.pyplot as plt\n",
    "import seaborn as sns\n",
    "import modules\n",
    "import numpy as np\n",
    "import matplotlib.cm as cm"
   ],
   "metadata": {
    "collapsed": false,
    "pycharm": {
     "name": "#%%\n"
    }
   }
  },
  {
   "cell_type": "code",
   "execution_count": 5,
   "outputs": [],
   "source": [
    "# cleanup.generate_cleaned_df()\n"
   ],
   "metadata": {
    "collapsed": false,
    "pycharm": {
     "name": "#%%\n"
    }
   }
  },
  {
   "cell_type": "code",
   "execution_count": 6,
   "outputs": [],
   "source": [
    "\n",
    "col_list = [\"case_status\", \"employer_city\", 'decision_date']\n",
    "visas_df = pd.read_csv('../data/us_perm_visas_cleaned.csv', usecols=col_list)"
   ],
   "metadata": {
    "collapsed": false,
    "pycharm": {
     "name": "#%%\n"
    }
   }
  },
  {
   "cell_type": "code",
   "execution_count": 7,
   "outputs": [
    {
     "data": {
      "text/plain": "decision_date    object\ncase_status      object\nemployer_city    object\ndtype: object"
     },
     "execution_count": 7,
     "metadata": {},
     "output_type": "execute_result"
    }
   ],
   "source": [
    "visas_df.dtypes"
   ],
   "metadata": {
    "collapsed": false,
    "pycharm": {
     "name": "#%%\n"
    }
   }
  },
  {
   "cell_type": "code",
   "execution_count": 8,
   "outputs": [],
   "source": [
    "visas_df [\"decision_date\"]=pd.to_datetime(visas_df[\"decision_date\"])"
   ],
   "metadata": {
    "collapsed": false,
    "pycharm": {
     "name": "#%%\n"
    }
   }
  },
  {
   "cell_type": "code",
   "execution_count": 9,
   "outputs": [
    {
     "data": {
      "text/plain": "decision_date    datetime64[ns]\ncase_status              object\nemployer_city            object\ndtype: object"
     },
     "execution_count": 9,
     "metadata": {},
     "output_type": "execute_result"
    }
   ],
   "source": [
    "visas_df.dtypes"
   ],
   "metadata": {
    "collapsed": false,
    "pycharm": {
     "name": "#%%\n"
    }
   }
  },
  {
   "cell_type": "code",
   "execution_count": 10,
   "outputs": [
    {
     "data": {
      "text/plain": "  decision_date case_status employer_city\n0    2012-02-01   Certified      NEW YORK\n1    2011-12-21      Denied     CARLSTADT\n2    2011-12-01   Certified    GLEN ALLEN\n3    2011-12-01   Certified      FLUSHING\n4    2012-01-26   Certified        ALBANY",
      "text/html": "<div>\n<style scoped>\n    .dataframe tbody tr th:only-of-type {\n        vertical-align: middle;\n    }\n\n    .dataframe tbody tr th {\n        vertical-align: top;\n    }\n\n    .dataframe thead th {\n        text-align: right;\n    }\n</style>\n<table border=\"1\" class=\"dataframe\">\n  <thead>\n    <tr style=\"text-align: right;\">\n      <th></th>\n      <th>decision_date</th>\n      <th>case_status</th>\n      <th>employer_city</th>\n    </tr>\n  </thead>\n  <tbody>\n    <tr>\n      <th>0</th>\n      <td>2012-02-01</td>\n      <td>Certified</td>\n      <td>NEW YORK</td>\n    </tr>\n    <tr>\n      <th>1</th>\n      <td>2011-12-21</td>\n      <td>Denied</td>\n      <td>CARLSTADT</td>\n    </tr>\n    <tr>\n      <th>2</th>\n      <td>2011-12-01</td>\n      <td>Certified</td>\n      <td>GLEN ALLEN</td>\n    </tr>\n    <tr>\n      <th>3</th>\n      <td>2011-12-01</td>\n      <td>Certified</td>\n      <td>FLUSHING</td>\n    </tr>\n    <tr>\n      <th>4</th>\n      <td>2012-01-26</td>\n      <td>Certified</td>\n      <td>ALBANY</td>\n    </tr>\n  </tbody>\n</table>\n</div>"
     },
     "execution_count": 10,
     "metadata": {},
     "output_type": "execute_result"
    }
   ],
   "source": [
    "visas_df.head()"
   ],
   "metadata": {
    "collapsed": false,
    "pycharm": {
     "name": "#%%\n"
    }
   }
  },
  {
   "cell_type": "code",
   "execution_count": 11,
   "outputs": [
    {
     "data": {
      "text/plain": "       decision_date case_status employer_city\n374357    2016-12-30   Withdrawn       ANAHEIM\n374358    2016-12-30   Withdrawn       REDMOND\n374359    2016-12-30   Withdrawn     YPSILANTI\n374360    2016-12-30   Withdrawn       Phoenix\n374361    2016-12-30   Withdrawn   SANTA CLARA",
      "text/html": "<div>\n<style scoped>\n    .dataframe tbody tr th:only-of-type {\n        vertical-align: middle;\n    }\n\n    .dataframe tbody tr th {\n        vertical-align: top;\n    }\n\n    .dataframe thead th {\n        text-align: right;\n    }\n</style>\n<table border=\"1\" class=\"dataframe\">\n  <thead>\n    <tr style=\"text-align: right;\">\n      <th></th>\n      <th>decision_date</th>\n      <th>case_status</th>\n      <th>employer_city</th>\n    </tr>\n  </thead>\n  <tbody>\n    <tr>\n      <th>374357</th>\n      <td>2016-12-30</td>\n      <td>Withdrawn</td>\n      <td>ANAHEIM</td>\n    </tr>\n    <tr>\n      <th>374358</th>\n      <td>2016-12-30</td>\n      <td>Withdrawn</td>\n      <td>REDMOND</td>\n    </tr>\n    <tr>\n      <th>374359</th>\n      <td>2016-12-30</td>\n      <td>Withdrawn</td>\n      <td>YPSILANTI</td>\n    </tr>\n    <tr>\n      <th>374360</th>\n      <td>2016-12-30</td>\n      <td>Withdrawn</td>\n      <td>Phoenix</td>\n    </tr>\n    <tr>\n      <th>374361</th>\n      <td>2016-12-30</td>\n      <td>Withdrawn</td>\n      <td>SANTA CLARA</td>\n    </tr>\n  </tbody>\n</table>\n</div>"
     },
     "execution_count": 11,
     "metadata": {},
     "output_type": "execute_result"
    }
   ],
   "source": [
    "\n",
    "visas_df.tail()"
   ],
   "metadata": {
    "collapsed": false,
    "pycharm": {
     "name": "#%%\n"
    }
   }
  },
  {
   "cell_type": "markdown",
   "source": [
    "Überprüfung der Spalte case_status, da sie Informationen über den jeweiligen Visumsangetrag gentroffene Entscheidung enthaelt\n"
   ],
   "metadata": {
    "collapsed": false,
    "pycharm": {
     "name": "#%% md\n",
     "is_executing": true
    }
   }
  },
  {
   "cell_type": "code",
   "execution_count": 12,
   "outputs": [
    {
     "name": "stdout",
     "output_type": "stream",
     "text": [
      "181933  occurrences of status 'Certified'\n",
      "25649  occurrences of status 'Denied'\n",
      "148586  occurrences of status 'Certified-Expired'\n",
      "18194  occurrences of status 'Withdrawn'\n"
     ]
    }
   ],
   "source": [
    "for value in visas_df.case_status.unique():\n",
    "    print(len(visas_df[visas_df['case_status'] == value]),\" occurrences of status '{}'\".format(value))"
   ],
   "metadata": {
    "collapsed": false,
    "pycharm": {
     "name": "#%%\n"
    }
   }
  },
  {
   "cell_type": "markdown",
   "source": [
    "Datensatz enthält 18194 Fälle die zurückgezogen wurden 'withdrawn'. Da diese Fälle nicht relevant sind werden sie aus dem Datensatz gelöscht."
   ],
   "metadata": {
    "collapsed": false,
    "pycharm": {
     "name": "#%% md\n"
    }
   }
  },
  {
   "cell_type": "code",
   "execution_count": 13,
   "outputs": [],
   "source": [
    "visas_df= visas_df[visas_df.case_status != 'Withdrawn']"
   ],
   "metadata": {
    "collapsed": false,
    "pycharm": {
     "name": "#%%\n"
    }
   }
  },
  {
   "cell_type": "markdown",
   "source": [
    "Der Status 'certified' und der Status 'certified-expired' werden zu dem Wert 'certified' zusammengefasst, sodass es nur noch die Werte 'certified' und 'denied' hat.\n",
    "\n",
    "Antragssteller des Visas haben nach Erhalt des Status 'certified' 6 Monate Zeit, das Formular I-140 einzureichen, bevor es abläuft und in den Status 'certified-expired' erhält.\n",
    "\n",
    "Formular I-140 Quelle: Wikipedia Das Formular I-140, Immigrant Petition for Alien Worker (Einwanderungsantrag für ausländische Arbeitnehmer), ist ein Formular, das von einem potentiellen Arbeitgeber bei den United States Citizenship and Immigration Services (USCIS) eingereicht wird, um einen Ausländer zu ersuchen, dauerhaft in den USA zu arbeiten. Dies geschieht in dem Fall, dass der Arbeitnehmer in gewisser Weise als außergewöhnlich gilt oder wenn es in den USA keine qualifizierten Arbeitskräfte gibt.\n",
    "\n"
   ],
   "metadata": {
    "collapsed": false,
    "pycharm": {
     "name": "#%% md\n"
    }
   }
  },
  {
   "cell_type": "code",
   "execution_count": 14,
   "outputs": [
    {
     "data": {
      "text/plain": "Certified    330519\nDenied        25649\nName: case_status, dtype: int64"
     },
     "execution_count": 14,
     "metadata": {},
     "output_type": "execute_result"
    }
   ],
   "source": [
    "visas_df.loc[visas_df.case_status == 'Certified-Expired', 'case_status'] = 'Certified'\n",
    "visas_df.case_status.value_counts()"
   ],
   "metadata": {
    "collapsed": false,
    "pycharm": {
     "name": "#%%\n"
    }
   }
  },
  {
   "cell_type": "markdown",
   "source": [
    "25649 Visa Bewerbungen wurden abgelehnt (7,2%). Jetzt werden Zeilen und Spalten entfernt. NaN Werte in Zeilen und Spalten ausschließen."
   ],
   "metadata": {
    "collapsed": false,
    "pycharm": {
     "name": "#%% md\n"
    }
   }
  },
  {
   "cell_type": "code",
   "execution_count": 15,
   "outputs": [
    {
     "data": {
      "text/plain": "(356168, 3)"
     },
     "execution_count": 15,
     "metadata": {},
     "output_type": "execute_result"
    }
   ],
   "source": [
    "visas_df = visas_df.dropna(axis=1, how='all')\n",
    "visas_df = visas_df.dropna(axis=0, how='all');\n",
    "\n",
    "visas_df.shape\n"
   ],
   "metadata": {
    "collapsed": false,
    "pycharm": {
     "name": "#%%\n"
    }
   }
  },
  {
   "cell_type": "markdown",
   "source": [
    "Keine NaN Werte mehr. Welche Spalten haben noch fehlende Werte. Anzeigen lassen der fehlenden Werte\n"
   ],
   "metadata": {
    "collapsed": false,
    "pycharm": {
     "name": "#%% md\n"
    }
   }
  },
  {
   "cell_type": "code",
   "execution_count": 16,
   "outputs": [
    {
     "name": "stdout",
     "output_type": "stream",
     "text": [
      "Attribute 'decision_date' contains  0 missing values\n",
      "Attribute 'case_status' contains  0 missing values\n",
      "Attribute 'employer_city' contains  10 missing values\n"
     ]
    }
   ],
   "source": [
    "for column in visas_df.columns:\n",
    "    print(\"Attribute '{}' contains \".format(column),  visas_df[column].isnull().sum().sum(), \"missing values\")"
   ],
   "metadata": {
    "collapsed": false,
    "pycharm": {
     "name": "#%%\n"
    }
   }
  },
  {
   "cell_type": "markdown",
   "source": [
    "Einfügen der Spalte Antragsjahr. Dies soll dann in einem Balkendiagramm dargestellt werden um den Verlauf zu sehen. Fehlende Werte sollen spaeter entfernt werden.\n"
   ],
   "metadata": {
    "collapsed": false,
    "pycharm": {
     "name": "#%% md\n"
    }
   }
  },
  {
   "cell_type": "code",
   "execution_count": 17,
   "outputs": [
    {
     "data": {
      "text/plain": "[Text(0.5, 0, 'Visa application year'),\n Text(0, 0.5, 'Number of Visa applicatons')]"
     },
     "execution_count": 17,
     "metadata": {},
     "output_type": "execute_result"
    },
    {
     "data": {
      "text/plain": "<Figure size 914.4x595.44 with 1 Axes>",
      "image/png": "[encoded data removed]"
     },
     "metadata": {
      "needs_background": "light"
     },
     "output_type": "display_data"
    }
   ],
   "source": [
    "visas_df['year'] = visas_df['decision_date'].dt.year\n",
    "\n",
    "fig, ax = plt.subplots()\n",
    "fig.set_size_inches(12.7, 8.27)\n",
    "sns.set_context(rc={\"font.size\":12})\n",
    "sns.countplot(x=\"year\", hue=\"case_status\", data=visas_df)\n",
    "ax.set(xlabel='Visa application year', ylabel='Number of Visa applicatons')"
   ],
   "metadata": {
    "collapsed": false,
    "pycharm": {
     "name": "#%%\n"
    }
   }
  },
  {
   "cell_type": "markdown",
   "source": [
    "\n",
    "Anzahl der Visa Applications nimmt jedes Jahr zu. Die Anzahl der abgelehnten Anträge scheint seit 2013 zu stagnieren, bzw. ging 2014 leicht zurück\n",
    "\n",
    "In welchen Städten werden die meisten Visa Applications gestellt?"
   ],
   "metadata": {
    "collapsed": false,
    "pycharm": {
     "name": "#%% md\n"
    }
   }
  },
  {
   "cell_type": "code",
   "execution_count": 18,
   "outputs": [
    {
     "data": {
      "text/plain": "NEW YORK           17198\nCOLLEGE STATION    11985\nSANTA CLARA        10519\nSAN JOSE            9147\nREDMOND             8485\nMOUNTAIN VIEW       8121\nHOUSTON             6720\nSAN FRANCISCO       6352\nSUNNYVALE           6104\nPLANO               5607\nCHICAGO             5561\nSEATTLE             5051\nEDISON              4056\nLOS ANGELES         4045\nSAN DIEGO           3702\nDALLAS              3693\nPHILADELPHIA        3526\nCUPERTINO           3310\nPALO ALTO           3229\nIRVING              3144\nName: employer_city, dtype: int64"
     },
     "execution_count": 18,
     "metadata": {},
     "output_type": "execute_result"
    }
   ],
   "source": [
    "visas_df['employer_city'] = visas_df['employer_city'].str.upper()\n",
    "visas_df['employer_city'].value_counts().head(20)"
   ],
   "metadata": {
    "collapsed": false,
    "pycharm": {
     "name": "#%%\n"
    }
   }
  },
  {
   "cell_type": "markdown",
   "source": [
    "Die beliebtesten Staedte waren in den letzten Jahren New York, College Station, Santa Clara, San Jose und Radmond. Plotten, grafische Darstellung der Visa Applications"
   ],
   "metadata": {
    "collapsed": false,
    "pycharm": {
     "name": "#%% md\n"
    }
   }
  },
  {
   "cell_type": "code",
   "execution_count": 21,
   "outputs": [
    {
     "data": {
      "text/plain": "[Text(0.5, 0, 'Employer city'), Text(0, 0.5, 'Number of Visa applications')]"
     },
     "execution_count": 21,
     "metadata": {},
     "output_type": "execute_result"
    },
    {
     "data": {
      "text/plain": "<Figure size 986.4x595.44 with 1 Axes>",
      "image/png": "[encoded data removed]"
     },
     "metadata": {
      "needs_background": "light"
     },
     "output_type": "display_data"
    }
   ],
   "source": [
    "cmap = cm.get_cmap('RdYlGn')\n",
    "\n",
    "fig, ax = plt.subplots()\n",
    "fig.set_size_inches(13.7, 8.27)\n",
    "sns.set_context(\"paper\", rc={\"font.size\":12,\"axes.titlesize\":12,\"axes.labelsize\":12})\n",
    "sns.countplot(x='employer_city', hue='year', data=visas_df, order=visas_df.employer_city.value_counts().iloc[:20].index)\n",
    "plt.xticks(rotation=90)\n",
    "ax.set(xlabel='Employer city', ylabel='Number of Visa applications')\n"
   ],
   "metadata": {
    "collapsed": false,
    "pycharm": {
     "name": "#%%\n"
    }
   }
  },
  {
   "cell_type": "markdown",
   "source": [
    "College Station war im Jahr 2015 besonders beliebt (Begründung?). 2014 und 2016 war New York am beliebtesten. Allgemein ist ein ansteigender Trend der Visa Applications zu beobachten."
   ],
   "metadata": {
    "collapsed": false,
    "pycharm": {
     "name": "#%% md\n"
    }
   }
  },
  {
   "cell_type": "code",
   "execution_count": null,
   "outputs": [],
   "source": [],
   "metadata": {
    "collapsed": false,
    "pycharm": {
     "name": "#%%\n"
    }
   }
  }
 ],
 "metadata": {
  "kernelspec": {
   "display_name": "Python 3",
   "language": "python",
   "name": "python3"
  },
  "language_info": {
   "codemirror_mode": {
    "name": "ipython",
    "version": 2
   },
   "file_extension": ".py",
   "mimetype": "text/x-python",
   "name": "python",
   "nbconvert_exporter": "python",
   "pygments_lexer": "ipython2",
   "version": "2.7.6"
  }
 },
 "nbformat": 4,
 "nbformat_minor": 0
}