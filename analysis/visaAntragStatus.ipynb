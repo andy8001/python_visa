{
 "cells": [
  {
   "cell_type": "markdown",
   "metadata": {
    "collapsed": true,
    "pycharm": {
     "name": "#%% md\n"
    }
   },
   "source": [
    "# Visa Status\n",
    "\n",
    "Im folgenden soll der Visastatus im Bezug zu anderen Faktoren gesetzt werden.\n",
    "Zuerst wird betrachtet, wie viele Anträge angenommen bzw. abgelehnt werden."
   ]
  },
  {
   "cell_type": "code",
   "execution_count": 47,
   "outputs": [],
   "source": [
    "import cleanup\n",
    "import pandas as pd\n",
    "import matplotlib.pyplot as plt\n",
    "import seaborn as sns\n",
    "import matplotlib.cm as cm\n",
    "plt.style.use('../own_style.mplstyle')"
   ],
   "metadata": {
    "collapsed": false,
    "pycharm": {
     "name": "#%%\n"
    }
   }
  },
  {
   "cell_type": "code",
   "execution_count": 48,
   "outputs": [],
   "source": [
    "# Falls der bereinigte Datensatz noch nicht vorliegt:\n",
    "#cleanup.generate_cleaned_df(\"../data/us_perm_visas.csv\", \"../data/\")\n"
   ],
   "metadata": {
    "collapsed": false,
    "pycharm": {
     "name": "#%%\n"
    }
   }
  },
  {
   "cell_type": "code",
   "execution_count": 49,
   "outputs": [],
   "source": [
    "col_list = [\"case_status\", \"employer_city\", 'decision_date']\n",
    "visas_df = pd.read_csv('../data/us_perm_visas_cleaned.csv', usecols=col_list)"
   ],
   "metadata": {
    "collapsed": false,
    "pycharm": {
     "name": "#%%\n"
    }
   }
  },
  {
   "cell_type": "code",
   "execution_count": 50,
   "outputs": [
    {
     "data": {
      "text/plain": "decision_date    object\ncase_status      object\nemployer_city    object\ndtype: object"
     },
     "execution_count": 50,
     "metadata": {},
     "output_type": "execute_result"
    }
   ],
   "source": [
    "visas_df.dtypes"
   ],
   "metadata": {
    "collapsed": false,
    "pycharm": {
     "name": "#%%\n"
    }
   }
  },
  {
   "cell_type": "code",
   "execution_count": 51,
   "outputs": [],
   "source": [
    "visas_df [\"decision_date\"]=pd.to_datetime(visas_df[\"decision_date\"])"
   ],
   "metadata": {
    "collapsed": false,
    "pycharm": {
     "name": "#%%\n"
    }
   }
  },
  {
   "cell_type": "code",
   "execution_count": 52,
   "outputs": [
    {
     "data": {
      "text/plain": "decision_date    datetime64[ns]\ncase_status              object\nemployer_city            object\ndtype: object"
     },
     "execution_count": 52,
     "metadata": {},
     "output_type": "execute_result"
    }
   ],
   "source": [
    "visas_df.dtypes"
   ],
   "metadata": {
    "collapsed": false,
    "pycharm": {
     "name": "#%%\n"
    }
   }
  },
  {
   "cell_type": "code",
   "execution_count": 53,
   "outputs": [
    {
     "data": {
      "text/plain": "  decision_date case_status employer_city\n0    2012-02-01   Certified      NEW YORK\n1    2011-12-21      Denied     CARLSTADT\n2    2011-12-01   Certified    GLEN ALLEN\n3    2011-12-01   Certified      FLUSHING\n4    2012-01-26   Certified        ALBANY",
      "text/html": "<div>\n<style scoped>\n    .dataframe tbody tr th:only-of-type {\n        vertical-align: middle;\n    }\n\n    .dataframe tbody tr th {\n        vertical-align: top;\n    }\n\n    .dataframe thead th {\n        text-align: right;\n    }\n</style>\n<table border=\"1\" class=\"dataframe\">\n  <thead>\n    <tr style=\"text-align: right;\">\n      <th></th>\n      <th>decision_date</th>\n      <th>case_status</th>\n      <th>employer_city</th>\n    </tr>\n  </thead>\n  <tbody>\n    <tr>\n      <th>0</th>\n      <td>2012-02-01</td>\n      <td>Certified</td>\n      <td>NEW YORK</td>\n    </tr>\n    <tr>\n      <th>1</th>\n      <td>2011-12-21</td>\n      <td>Denied</td>\n      <td>CARLSTADT</td>\n    </tr>\n    <tr>\n      <th>2</th>\n      <td>2011-12-01</td>\n      <td>Certified</td>\n      <td>GLEN ALLEN</td>\n    </tr>\n    <tr>\n      <th>3</th>\n      <td>2011-12-01</td>\n      <td>Certified</td>\n      <td>FLUSHING</td>\n    </tr>\n    <tr>\n      <th>4</th>\n      <td>2012-01-26</td>\n      <td>Certified</td>\n      <td>ALBANY</td>\n    </tr>\n  </tbody>\n</table>\n</div>"
     },
     "execution_count": 53,
     "metadata": {},
     "output_type": "execute_result"
    }
   ],
   "source": [
    "visas_df.head()"
   ],
   "metadata": {
    "collapsed": false,
    "pycharm": {
     "name": "#%%\n"
    }
   }
  },
  {
   "cell_type": "code",
   "execution_count": 54,
   "outputs": [
    {
     "data": {
      "text/plain": "       decision_date case_status employer_city\n374357    2016-12-30   Withdrawn       ANAHEIM\n374358    2016-12-30   Withdrawn       REDMOND\n374359    2016-12-30   Withdrawn     YPSILANTI\n374360    2016-12-30   Withdrawn       PHOENIX\n374361    2016-12-30   Withdrawn   SANTA CLARA",
      "text/html": "<div>\n<style scoped>\n    .dataframe tbody tr th:only-of-type {\n        vertical-align: middle;\n    }\n\n    .dataframe tbody tr th {\n        vertical-align: top;\n    }\n\n    .dataframe thead th {\n        text-align: right;\n    }\n</style>\n<table border=\"1\" class=\"dataframe\">\n  <thead>\n    <tr style=\"text-align: right;\">\n      <th></th>\n      <th>decision_date</th>\n      <th>case_status</th>\n      <th>employer_city</th>\n    </tr>\n  </thead>\n  <tbody>\n    <tr>\n      <th>374357</th>\n      <td>2016-12-30</td>\n      <td>Withdrawn</td>\n      <td>ANAHEIM</td>\n    </tr>\n    <tr>\n      <th>374358</th>\n      <td>2016-12-30</td>\n      <td>Withdrawn</td>\n      <td>REDMOND</td>\n    </tr>\n    <tr>\n      <th>374359</th>\n      <td>2016-12-30</td>\n      <td>Withdrawn</td>\n      <td>YPSILANTI</td>\n    </tr>\n    <tr>\n      <th>374360</th>\n      <td>2016-12-30</td>\n      <td>Withdrawn</td>\n      <td>PHOENIX</td>\n    </tr>\n    <tr>\n      <th>374361</th>\n      <td>2016-12-30</td>\n      <td>Withdrawn</td>\n      <td>SANTA CLARA</td>\n    </tr>\n  </tbody>\n</table>\n</div>"
     },
     "execution_count": 54,
     "metadata": {},
     "output_type": "execute_result"
    }
   ],
   "source": [
    "visas_df.tail()"
   ],
   "metadata": {
    "collapsed": false,
    "pycharm": {
     "name": "#%%\n"
    }
   }
  },
  {
   "cell_type": "markdown",
   "source": [
    "Überprüfung der Spalte case_status, da sie Informationen über den jeweiligen Visumsantrag getroffene Entscheidung enthält."
   ],
   "metadata": {
    "collapsed": false,
    "pycharm": {
     "name": "#%% md\n"
    }
   }
  },
  {
   "cell_type": "code",
   "execution_count": 55,
   "outputs": [
    {
     "name": "stdout",
     "output_type": "stream",
     "text": [
      "181933  occurrences of status 'Certified'\n",
      "25649  occurrences of status 'Denied'\n",
      "148586  occurrences of status 'Certified-Expired'\n",
      "18194  occurrences of status 'Withdrawn'\n"
     ]
    }
   ],
   "source": [
    "for value in visas_df.case_status.unique():\n",
    "    print(len(visas_df[visas_df['case_status'] == value]),\" occurrences of status '{}'\".format(value))"
   ],
   "metadata": {
    "collapsed": false,
    "pycharm": {
     "name": "#%%\n"
    }
   }
  },
  {
   "cell_type": "markdown",
   "source": [
    "Der Datensatz enthält 18.194 Fälle die zurückgezogen wurden 'withdrawn'. Da diese Fälle nicht relevant sind werden sie aus dem Datensatz gelöscht."
   ],
   "metadata": {
    "collapsed": false,
    "pycharm": {
     "name": "#%% md\n"
    }
   }
  },
  {
   "cell_type": "code",
   "execution_count": 56,
   "outputs": [],
   "source": [
    "visas_df= visas_df[visas_df.case_status != 'Withdrawn']"
   ],
   "metadata": {
    "collapsed": false,
    "pycharm": {
     "name": "#%%\n"
    }
   }
  },
  {
   "cell_type": "markdown",
   "source": [
    "Der Status 'certified' und der Status 'certified-expired' werden zu dem Wert 'certified' zusammengefasst, sodass nur noch die Werte 'certified' und 'denied' enthalten sind.\n",
    "\n",
    "Antragssteller des Visas haben nach Erhalt des Status 'certified' 6 Monate Zeit, bevor es abläuft und in den Status 'certified-expired' übergeht."
   ],
   "metadata": {
    "collapsed": false,
    "pycharm": {
     "name": "#%% md\n"
    }
   }
  },
  {
   "cell_type": "code",
   "execution_count": 57,
   "outputs": [
    {
     "data": {
      "text/plain": "Certified    330519\nDenied        25649\nName: case_status, dtype: int64"
     },
     "execution_count": 57,
     "metadata": {},
     "output_type": "execute_result"
    }
   ],
   "source": [
    "visas_df.loc[visas_df.case_status == 'Certified-Expired', 'case_status'] = 'Certified'\n",
    "visas_df.case_status.value_counts()"
   ],
   "metadata": {
    "collapsed": false,
    "pycharm": {
     "name": "#%%\n"
    }
   }
  },
  {
   "cell_type": "markdown",
   "source": [
    "25.649 Visa Bewerbungen wurden abgelehnt (7,2%). Jetzt werden Zeilen und Spalten entfernt, welche NaN Werte enthalten."
   ],
   "metadata": {
    "collapsed": false,
    "pycharm": {
     "name": "#%% md\n"
    }
   }
  },
  {
   "cell_type": "code",
   "execution_count": 58,
   "outputs": [
    {
     "data": {
      "text/plain": "(356168, 3)"
     },
     "execution_count": 58,
     "metadata": {},
     "output_type": "execute_result"
    }
   ],
   "source": [
    "visas_df = visas_df.dropna(axis=1, how='all')\n",
    "visas_df = visas_df.dropna(axis=0, how='all');\n",
    "\n",
    "visas_df.shape"
   ],
   "metadata": {
    "collapsed": false,
    "pycharm": {
     "name": "#%%\n"
    }
   }
  },
  {
   "cell_type": "markdown",
   "source": [
    "Alle NaN Werte wurden entfernt."
   ],
   "metadata": {
    "collapsed": false,
    "pycharm": {
     "name": "#%% md\n"
    }
   }
  },
  {
   "cell_type": "code",
   "execution_count": 59,
   "outputs": [
    {
     "name": "stdout",
     "output_type": "stream",
     "text": [
      "Attribute 'decision_date' contains  0 missing values\n",
      "Attribute 'case_status' contains  0 missing values\n",
      "Attribute 'employer_city' contains  10 missing values\n"
     ]
    }
   ],
   "source": [
    "for column in visas_df.columns:\n",
    "    print(\"Attribute '{}' contains \".format(column),  visas_df[column].isnull().sum().sum(), \"missing values\")"
   ],
   "metadata": {
    "collapsed": false,
    "pycharm": {
     "name": "#%%\n"
    }
   }
  },
  {
   "cell_type": "markdown",
   "source": [
    "Einfügen der Spalte Antragsjahr. Dies soll dann in einem Balkendiagramm dargestellt werden um den Verlauf visualisieren zu können."
   ],
   "metadata": {
    "collapsed": false,
    "pycharm": {
     "name": "#%% md\n"
    }
   }
  },
  {
   "cell_type": "code",
   "execution_count": 60,
   "outputs": [],
   "source": [
    "visas_df['year'] = visas_df['decision_date'].dt.year"
   ],
   "metadata": {
    "collapsed": false,
    "pycharm": {
     "name": "#%%\n"
    }
   }
  },
  {
   "cell_type": "markdown",
   "source": [
    "Die Visaeinträge werden nach Jahr und Status gruppiert, sowie zusammengezählt.\n",
    "Anschließend wird das Format geändert, um im Rahmen eines Balkendiagrammes visualisiert werden zu können."
   ],
   "metadata": {
    "collapsed": false,
    "pycharm": {
     "name": "#%% md\n"
    }
   }
  },
  {
   "cell_type": "code",
   "execution_count": 61,
   "outputs": [],
   "source": [
    "year_status_df = visas_df.groupby([\"year\", \"case_status\"])[\"case_status\"].count().to_frame().unstack(fill_value=0).stack(level = 0).reset_index()\n",
    "del year_status_df[\"level_1\"]"
   ],
   "metadata": {
    "collapsed": false,
    "pycharm": {
     "name": "#%%\n"
    }
   }
  },
  {
   "cell_type": "code",
   "execution_count": 62,
   "outputs": [],
   "source": [
    "year_status_df = year_status_df.set_index(\"year\",drop = True )"
   ],
   "metadata": {
    "collapsed": false,
    "pycharm": {
     "name": "#%%\n"
    }
   }
  },
  {
   "cell_type": "code",
   "execution_count": 63,
   "outputs": [
    {
     "data": {
      "text/plain": "[Text(0, 0.5, 'Number of Visa applications')]"
     },
     "execution_count": 63,
     "metadata": {},
     "output_type": "execute_result"
    },
    {
     "data": {
      "text/plain": "<Figure size 720x360 with 1 Axes>",
      "image/png": "[encoded data removed]"
     },
     "metadata": {
      "needs_background": "light"
     },
     "output_type": "display_data"
    }
   ],
   "source": [
    "ax = year_status_df.plot(kind = \"bar\", figsize=(10,5))\n",
    "ax.set(xlabel='Visa application year')\n",
    "ax.set(ylabel='Number of Visa applications')"
   ],
   "metadata": {
    "collapsed": false,
    "pycharm": {
     "name": "#%%\n"
    }
   }
  },
  {
   "cell_type": "markdown",
   "source": [
    "Die Anzahl der Visa Applications nimmt jedes Jahr zu. Die Anzahl der abgelehnten Anträge scheint dagegen seit 2013 zu stagnieren, bzw. ging 2014 leicht zurück.\n",
    "\n",
    "In welchen Städten werden die meisten Visa Applications gestellt?"
   ],
   "metadata": {
    "collapsed": false,
    "pycharm": {
     "name": "#%% md\n"
    }
   }
  },
  {
   "cell_type": "code",
   "execution_count": 64,
   "outputs": [
    {
     "data": {
      "text/plain": "NEW YORK           17212\nCOLLEGE STATION    11985\nSANTA CLARA        10519\nSAN JOSE            9150\nREDMOND             8485\nMOUNTAIN VIEW       8121\nHOUSTON             6720\nSAN FRANCISCO       6352\nSUNNYVALE           6113\nPLANO               5607\nCHICAGO             5564\nSEATTLE             5052\nEDISON              4056\nLOS ANGELES         4047\nSAN DIEGO           3702\nDALLAS              3693\nPHILADELPHIA        3526\nCUPERTINO           3310\nPALO ALTO           3229\nIRVING              3144\nName: employer_city, dtype: int64"
     },
     "execution_count": 64,
     "metadata": {},
     "output_type": "execute_result"
    }
   ],
   "source": [
    "visas_df['employer_city'] = visas_df['employer_city'].str.upper()\n",
    "visas_df['employer_city'].value_counts().head(20)"
   ],
   "metadata": {
    "collapsed": false,
    "pycharm": {
     "name": "#%%\n"
    }
   }
  },
  {
   "cell_type": "markdown",
   "source": [
    "Die beliebtesten Städte waren in den letzten Jahren New York, College Station, Santa Clara, San Jose und Radmond.\n",
    "Es erfolgt eine grafische Darstellung der Anzahl der Visa Bewerbungen je Jahr in Kombination mit den beliebtesten Visa Städten."
   ],
   "metadata": {
    "collapsed": false,
    "pycharm": {
     "name": "#%% md\n"
    }
   }
  },
  {
   "cell_type": "code",
   "execution_count": 65,
   "outputs": [],
   "source": [
    "topDf = visas_df[\"employer_city\"].value_counts().nlargest(\n",
    "    20).reset_index()\n",
    "topDf.columns = [\"employer_city\", 'count']\n",
    "topDf = topDf.set_index([\"employer_city\"])\n",
    "year_city_df = visas_df.loc[\n",
    "    visas_df[\"employer_city\"].isin(topDf.reset_index()[\"employer_city\"])]"
   ],
   "metadata": {
    "collapsed": false,
    "pycharm": {
     "name": "#%%\n"
    }
   }
  },
  {
   "cell_type": "code",
   "execution_count": 66,
   "outputs": [],
   "source": [
    "year_city_df = year_city_df.groupby([\"employer_city\", \"year\"])[\"employer_city\"].count().to_frame().unstack(fill_value=0).stack(level = 0).reset_index()\n",
    "del year_city_df[\"level_1\"]"
   ],
   "metadata": {
    "collapsed": false,
    "pycharm": {
     "name": "#%%\n"
    }
   }
  },
  {
   "cell_type": "code",
   "execution_count": 67,
   "outputs": [],
   "source": [
    "year_city_df = year_city_df.set_index(\"employer_city\",drop = True )"
   ],
   "metadata": {
    "collapsed": false,
    "pycharm": {
     "name": "#%%\n"
    }
   }
  },
  {
   "cell_type": "markdown",
   "source": [
    "Die Darstellung soll nach absteigender Antragsanzahl je Stadt angeordnet werden."
   ],
   "metadata": {
    "collapsed": false,
    "pycharm": {
     "name": "#%% md\n"
    }
   }
  },
  {
   "cell_type": "code",
   "execution_count": 68,
   "outputs": [],
   "source": [
    "year_city_df[\"sum\"] = year_city_df[2011]+year_city_df[2012]+year_city_df[2013]+year_city_df[2014]+year_city_df[2015]+year_city_df[2016]"
   ],
   "metadata": {
    "collapsed": false,
    "pycharm": {
     "name": "#%%\n"
    }
   }
  },
  {
   "cell_type": "code",
   "execution_count": 69,
   "outputs": [],
   "source": [
    "year_city_df = year_city_df.sort_values(by=\"sum\", ascending=False)"
   ],
   "metadata": {
    "collapsed": false,
    "pycharm": {
     "name": "#%%\n"
    }
   }
  },
  {
   "cell_type": "code",
   "execution_count": 70,
   "outputs": [],
   "source": [
    "del year_city_df[\"sum\"]"
   ],
   "metadata": {
    "collapsed": false,
    "pycharm": {
     "name": "#%%\n"
    }
   }
  },
  {
   "cell_type": "code",
   "execution_count": 71,
   "outputs": [
    {
     "data": {
      "text/plain": "[Text(0, 0.5, 'Number of Visa applications')]"
     },
     "execution_count": 71,
     "metadata": {},
     "output_type": "execute_result"
    },
    {
     "data": {
      "text/plain": "<Figure size 1080x648 with 1 Axes>",
      "image/png": "[encoded data removed]"
     },
     "metadata": {
      "needs_background": "light"
     },
     "output_type": "display_data"
    }
   ],
   "source": [
    "ax = year_city_df.plot(kind = \"bar\", figsize=(15,9), width=0.8)\n",
    "ax.set(xlabel='Employer city')\n",
    "ax.set(ylabel='Number of Visa applications')"
   ],
   "metadata": {
    "collapsed": false,
    "pycharm": {
     "name": "#%%\n"
    }
   }
  },
  {
   "cell_type": "markdown",
   "source": [
    "Die Stadt College Station war im Jahr 2015 besonders beliebt. 2014 und 2016 war New York am beliebtesten. Allgemein ist ein ansteigender Trend der Visa Applications zu beobachten."
   ],
   "metadata": {
    "collapsed": false,
    "pycharm": {
     "name": "#%% md\n"
    }
   }
  },
  {
   "cell_type": "markdown",
   "source": [
    "# Entwicklung der Annahmequote\n",
    "\n",
    "Im Nachgang soll ermittelt werden, wie sich die Ablehnungsquote im Zeitverlauf entwickelt hat.\n",
    "Dafür wird der Case Status, auf Certified und Denied abgeändert."
   ],
   "metadata": {
    "collapsed": false,
    "pycharm": {
     "name": "#%% md\n"
    }
   }
  },
  {
   "cell_type": "code",
   "execution_count": 72,
   "outputs": [
    {
     "name": "stderr",
     "output_type": "stream",
     "text": [
      "C:\\Users\\andre\\anaconda3\\lib\\site-packages\\IPython\\core\\interactiveshell.py:3146: DtypeWarning: Columns (3) have mixed types.Specify dtype option on import or set low_memory=False.\n",
      "  has_raised = await self.run_ast_nodes(code_ast.body, cell_name,\n"
     ]
    }
   ],
   "source": [
    "col_list = [\"case_status\", \"case_received_date\", \"decision_date\"]\n",
    "visas_df = pd.read_csv('../data/us_perm_visas_cleaned.csv', usecols=col_list)\n"
   ],
   "metadata": {
    "collapsed": false,
    "pycharm": {
     "name": "#%%\n"
    }
   }
  },
  {
   "cell_type": "code",
   "execution_count": 73,
   "outputs": [],
   "source": [
    "visas_df =  cleanup.convert_case_status_to_certified_or_denied(visas_df)"
   ],
   "metadata": {
    "collapsed": false,
    "pycharm": {
     "name": "#%%\n"
    }
   }
  },
  {
   "cell_type": "code",
   "execution_count": 74,
   "outputs": [],
   "source": [
    "visas_df['decision_date'] = pd.to_datetime(visas_df[\"decision_date\"])\n",
    "visas_df\n",
    "visas_df[\"decision_date_year\"] = visas_df[\"decision_date\"].dt.year"
   ],
   "metadata": {
    "collapsed": false,
    "pycharm": {
     "name": "#%%\n"
    }
   }
  },
  {
   "cell_type": "code",
   "execution_count": 75,
   "outputs": [],
   "source": [
    "acceptanceRate_df = pd.DataFrame()\n",
    "acceptanceRate_df = visas_df.groupby([\"decision_date_year\", \"case_status\"])[\"case_status\"].count()"
   ],
   "metadata": {
    "collapsed": false,
    "pycharm": {
     "name": "#%%\n"
    }
   }
  },
  {
   "cell_type": "code",
   "execution_count": 76,
   "outputs": [],
   "source": [
    "acceptanceRate_df = acceptanceRate_df.to_frame().unstack()"
   ],
   "metadata": {
    "collapsed": false,
    "pycharm": {
     "name": "#%%\n"
    }
   }
  },
  {
   "cell_type": "code",
   "execution_count": 77,
   "outputs": [
    {
     "data": {
      "text/plain": "                   case_status       \ncase_status          Certified Denied\ndecision_date_year                   \n2011                      9474   1128\n2012                     19116   2838\n2013                     32040   5433\n2014                     69458   4423\n2015                     86404   5934\n2016                    114027   5893",
      "text/html": "<div>\n<style scoped>\n    .dataframe tbody tr th:only-of-type {\n        vertical-align: middle;\n    }\n\n    .dataframe tbody tr th {\n        vertical-align: top;\n    }\n\n    .dataframe thead tr th {\n        text-align: left;\n    }\n\n    .dataframe thead tr:last-of-type th {\n        text-align: right;\n    }\n</style>\n<table border=\"1\" class=\"dataframe\">\n  <thead>\n    <tr>\n      <th></th>\n      <th colspan=\"2\" halign=\"left\">case_status</th>\n    </tr>\n    <tr>\n      <th>case_status</th>\n      <th>Certified</th>\n      <th>Denied</th>\n    </tr>\n    <tr>\n      <th>decision_date_year</th>\n      <th></th>\n      <th></th>\n    </tr>\n  </thead>\n  <tbody>\n    <tr>\n      <th>2011</th>\n      <td>9474</td>\n      <td>1128</td>\n    </tr>\n    <tr>\n      <th>2012</th>\n      <td>19116</td>\n      <td>2838</td>\n    </tr>\n    <tr>\n      <th>2013</th>\n      <td>32040</td>\n      <td>5433</td>\n    </tr>\n    <tr>\n      <th>2014</th>\n      <td>69458</td>\n      <td>4423</td>\n    </tr>\n    <tr>\n      <th>2015</th>\n      <td>86404</td>\n      <td>5934</td>\n    </tr>\n    <tr>\n      <th>2016</th>\n      <td>114027</td>\n      <td>5893</td>\n    </tr>\n  </tbody>\n</table>\n</div>"
     },
     "execution_count": 77,
     "metadata": {},
     "output_type": "execute_result"
    }
   ],
   "source": [
    "acceptanceRate_df"
   ],
   "metadata": {
    "collapsed": false,
    "pycharm": {
     "name": "#%%\n"
    }
   }
  },
  {
   "cell_type": "code",
   "execution_count": 78,
   "outputs": [],
   "source": [
    "acceptanceRate_df = acceptanceRate_df.reset_index()"
   ],
   "metadata": {
    "collapsed": false,
    "pycharm": {
     "name": "#%%\n"
    }
   }
  },
  {
   "cell_type": "code",
   "execution_count": 79,
   "outputs": [],
   "source": [
    "acceptanceRate_df= acceptanceRate_df.set_index(\"decision_date_year\")"
   ],
   "metadata": {
    "collapsed": false,
    "pycharm": {
     "name": "#%%\n"
    }
   }
  },
  {
   "cell_type": "code",
   "execution_count": 80,
   "outputs": [],
   "source": [
    "acceptanceRate_df = acceptanceRate_df[\"case_status\"]\n"
   ],
   "metadata": {
    "collapsed": false,
    "pycharm": {
     "name": "#%%\n"
    }
   }
  },
  {
   "cell_type": "code",
   "execution_count": 81,
   "outputs": [],
   "source": [
    "acceptanceRate_df[\"relation\"] = acceptanceRate_df[\"Denied\"]/(acceptanceRate_df[\"Certified\"]+ acceptanceRate_df[\"Denied\"])\n"
   ],
   "metadata": {
    "collapsed": false,
    "pycharm": {
     "name": "#%%\n"
    }
   }
  },
  {
   "cell_type": "markdown",
   "source": [
    "Es wurde eine Kennzahl für die Ablehnungsquote berechnet."
   ],
   "metadata": {
    "collapsed": false
   }
  },
  {
   "cell_type": "code",
   "execution_count": 82,
   "outputs": [
    {
     "data": {
      "text/plain": "case_status         Certified  Denied  relation\ndecision_date_year                             \n2011                     9474    1128  0.106395\n2012                    19116    2838  0.129270\n2013                    32040    5433  0.144984\n2014                    69458    4423  0.059867\n2015                    86404    5934  0.064264\n2016                   114027    5893  0.049141",
      "text/html": "<div>\n<style scoped>\n    .dataframe tbody tr th:only-of-type {\n        vertical-align: middle;\n    }\n\n    .dataframe tbody tr th {\n        vertical-align: top;\n    }\n\n    .dataframe thead th {\n        text-align: right;\n    }\n</style>\n<table border=\"1\" class=\"dataframe\">\n  <thead>\n    <tr style=\"text-align: right;\">\n      <th>case_status</th>\n      <th>Certified</th>\n      <th>Denied</th>\n      <th>relation</th>\n    </tr>\n    <tr>\n      <th>decision_date_year</th>\n      <th></th>\n      <th></th>\n      <th></th>\n    </tr>\n  </thead>\n  <tbody>\n    <tr>\n      <th>2011</th>\n      <td>9474</td>\n      <td>1128</td>\n      <td>0.106395</td>\n    </tr>\n    <tr>\n      <th>2012</th>\n      <td>19116</td>\n      <td>2838</td>\n      <td>0.129270</td>\n    </tr>\n    <tr>\n      <th>2013</th>\n      <td>32040</td>\n      <td>5433</td>\n      <td>0.144984</td>\n    </tr>\n    <tr>\n      <th>2014</th>\n      <td>69458</td>\n      <td>4423</td>\n      <td>0.059867</td>\n    </tr>\n    <tr>\n      <th>2015</th>\n      <td>86404</td>\n      <td>5934</td>\n      <td>0.064264</td>\n    </tr>\n    <tr>\n      <th>2016</th>\n      <td>114027</td>\n      <td>5893</td>\n      <td>0.049141</td>\n    </tr>\n  </tbody>\n</table>\n</div>"
     },
     "execution_count": 82,
     "metadata": {},
     "output_type": "execute_result"
    }
   ],
   "source": [
    "acceptanceRate_df"
   ],
   "metadata": {
    "collapsed": false,
    "pycharm": {
     "name": "#%%\n"
    }
   }
  },
  {
   "cell_type": "markdown",
   "source": [
    "Die ermittelten Ergebnisse werden in Form eines Liniendiagramms ausgegeben."
   ],
   "metadata": {
    "collapsed": false,
    "pycharm": {
     "name": "#%% md\n"
    }
   }
  },
  {
   "cell_type": "code",
   "execution_count": 83,
   "outputs": [
    {
     "data": {
      "text/plain": "[Text(0, 0.5, 'Rate of decline')]"
     },
     "execution_count": 83,
     "metadata": {},
     "output_type": "execute_result"
    },
    {
     "data": {
      "text/plain": "<Figure size 720x360 with 1 Axes>",
      "image/png": "[encoded data removed]"
     },
     "metadata": {
      "needs_background": "light"
     },
     "output_type": "display_data"
    }
   ],
   "source": [
    "ax = acceptanceRate_df[\"relation\"].plot(figsize=(10,5), title = \"Rate of decline per year\")\n",
    "ax.set(xlabel='Visa application year')\n",
    "ax.set(ylabel='Rate of decline')"
   ],
   "metadata": {
    "collapsed": false,
    "pycharm": {
     "name": "#%%\n"
    }
   }
  },
  {
   "cell_type": "markdown",
   "source": [
    "Es kann festgehalten werden, dass die Ablehnungsquote rückläufig ist."
   ],
   "metadata": {
    "collapsed": false,
    "pycharm": {
     "name": "#%% md\n"
    }
   }
  }
 ],
 "metadata": {
  "kernelspec": {
   "display_name": "Python 3",
   "language": "python",
   "name": "python3"
  },
  "language_info": {
   "codemirror_mode": {
    "name": "ipython",
    "version": 2
   },
   "file_extension": ".py",
   "mimetype": "text/x-python",
   "name": "python",
   "nbconvert_exporter": "python",
   "pygments_lexer": "ipython2",
   "version": "2.7.6"
  }
 },
 "nbformat": 4,
 "nbformat_minor": 0
}