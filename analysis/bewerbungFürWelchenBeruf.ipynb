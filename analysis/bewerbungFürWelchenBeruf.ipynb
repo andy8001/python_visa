{
 "cells": [
  {
   "cell_type": "markdown",
   "source": [
    "# Für welche Berufe werden Bewerber gesucht?"
   ],
   "metadata": {
    "collapsed": false
   }
  },
  {
   "cell_type": "markdown",
   "source": [
    "Im Nachgang soll eine Analyse gemacht werden, für welche Berufe Bewerber gesucht werden.\n",
    "Dies trifft auch eine Aussage darüber aus, welche Art von Fachkräften in den USA aktuell gesucht werden.\n",
    "\n",
    "Die hierfür notwendigen Informationen befinden sich in der Spalte `prevailing_wage_job_title_9089`des bereinigten Datensatzes."
   ],
   "metadata": {
    "collapsed": false,
    "pycharm": {
     "name": "#%% md\n"
    }
   }
  },
  {
   "cell_type": "code",
   "execution_count": null,
   "outputs": [],
   "source": [
    "import cleanup\n",
    "import modules\n",
    "import pandas as pd\n",
    "import matplotlib.pyplot as plt\n",
    "from wordcloud import WordCloud\n",
    "plt.style.use('../own_style.mplstyle')"
   ],
   "metadata": {
    "collapsed": false,
    "pycharm": {
     "name": "#%%\n",
     "is_executing": true
    }
   }
  },
  {
   "cell_type": "code",
   "execution_count": null,
   "outputs": [],
   "source": [
    "# cleanup.generate_cleaned_df()\n"
   ],
   "metadata": {
    "collapsed": false,
    "pycharm": {
     "name": "#%%\n"
    }
   }
  },
  {
   "cell_type": "code",
   "execution_count": null,
   "outputs": [],
   "source": [
    "\n",
    "col_list = [ \"prevailing_wage_job_title_9089\", \"country_of_citizenship\"]\n",
    "visas_df = pd.read_csv('../data/us_perm_visas_cleaned.csv', usecols=col_list)"
   ],
   "metadata": {
    "collapsed": false,
    "pycharm": {
     "name": "#%%\n"
    }
   }
  },
  {
   "cell_type": "markdown",
   "source": [
    "Werfen wir einen Blick auf die Eingangsdaten:"
   ],
   "metadata": {
    "collapsed": false,
    "pycharm": {
     "name": "#%% md\n"
    }
   },
   "outputs": [
    {
     "ename": "SyntaxError",
     "evalue": "invalid syntax (<ipython-input-102-44c99bb92428>, line 1)",
     "output_type": "error",
     "traceback": [
      "\u001B[1;36m  File \u001B[1;32m\"<ipython-input-102-44c99bb92428>\"\u001B[1;36m, line \u001B[1;32m1\u001B[0m\n\u001B[1;33m    Werfen wir einen Blick auf die Eingangsdaten:\u001B[0m\n\u001B[1;37m           ^\u001B[0m\n\u001B[1;31mSyntaxError\u001B[0m\u001B[1;31m:\u001B[0m invalid syntax\n"
     ]
    }
   ]
  },
  {
   "cell_type": "code",
   "execution_count": null,
   "outputs": [],
   "source": [
    "visas_df['prevailing_wage_job_title_9089'].head(20)"
   ],
   "metadata": {
    "collapsed": false,
    "pycharm": {
     "name": "#%%\n"
    }
   }
  },
  {
   "cell_type": "code",
   "execution_count": null,
   "outputs": [],
   "source": [
    "#visas_df['prevailing_wage_job_title_9089'].str.strip().str[-1].value_counts()"
   ],
   "metadata": {
    "collapsed": false,
    "pycharm": {
     "name": "#%%\n"
    }
   }
  },
  {
   "cell_type": "markdown",
   "source": [
    "Die Eingangsdaten erscheinen noch nicht für eine Analyse geeignet.\n",
    "Oft wurden nach einem Komma Spezifizierungen zu einem Beruf festgehalten.\n",
    "Da im Sinne der Analyse generalisiert werden soll, werden wir die Strings auf den ersten Teil vor dem Komma kürzen."
   ],
   "metadata": {
    "collapsed": false,
    "pycharm": {
     "name": "#%% md\n"
    }
   }
  },
  {
   "cell_type": "code",
   "execution_count": null,
   "outputs": [],
   "source": [
    "unique_values_initial = visas_df['prevailing_wage_job_title_9089'].nunique()\n",
    "print(unique_values_initial)"
   ],
   "metadata": {
    "collapsed": false,
    "pycharm": {
     "name": "#%%\n"
    }
   }
  },
  {
   "cell_type": "code",
   "execution_count": null,
   "outputs": [],
   "source": [
    "visas_df['prevailing_wage_job_title_9089'] = visas_df['prevailing_wage_job_title_9089'].astype(str).str.split(',').str[0]\n"
   ],
   "metadata": {
    "collapsed": false,
    "pycharm": {
     "name": "#%%\n"
    }
   }
  },
  {
   "cell_type": "code",
   "execution_count": null,
   "outputs": [],
   "source": [
    "visas_df['prevailing_wage_job_title_9089'].nunique()"
   ],
   "metadata": {
    "collapsed": false,
    "pycharm": {
     "name": "#%%\n"
    }
   }
  },
  {
   "cell_type": "code",
   "execution_count": null,
   "outputs": [],
   "source": [
    "visas_df['prevailing_wage_job_title_9089'].head(20)"
   ],
   "metadata": {
    "collapsed": false,
    "pycharm": {
     "name": "#%%\n"
    }
   }
  },
  {
   "cell_type": "markdown",
   "source": [
    "Nachdem die Strings nun auf den ersten Teil vor dem Komma gekürzt wurden, müssen wir die Bereinigung erneut vornehmen.\n",
    "Wir werden dafür einzelne Bausteine der cleanup.py direkt aufrufen."
   ],
   "metadata": {
    "collapsed": false,
    "pycharm": {
     "name": "#%% md\n"
    }
   }
  },
  {
   "cell_type": "code",
   "execution_count": null,
   "outputs": [],
   "source": [
    "#unübliche Zeichen entfernen\n",
    "visas_df['prevailing_wage_job_title_9089'] = cleanup.cutOffUnusualCharacters(visas_df['prevailing_wage_job_title_9089'])"
   ],
   "metadata": {
    "collapsed": false,
    "pycharm": {
     "name": "#%%\n"
    }
   }
  },
  {
   "cell_type": "code",
   "execution_count": null,
   "outputs": [],
   "source": [
    "#Plural zu Singular umwandeln\n",
    "visas_df['prevailing_wage_job_title_9089'] = visas_df['prevailing_wage_job_title_9089'] .apply(cleanup.cutOfflastCharacter, stringToCutOff = \"s\")"
   ],
   "metadata": {
    "collapsed": false,
    "pycharm": {
     "name": "#%%\n"
    }
   }
  },
  {
   "cell_type": "code",
   "execution_count": null,
   "outputs": [],
   "source": [
    "print(\"Datensatz konnte um \" + str(unique_values_initial - visas_df['prevailing_wage_job_title_9089'].nunique()) + \" einzigartige Werte gekürzt werden.\")\n",
    "del unique_values_initial"
   ],
   "metadata": {
    "collapsed": false,
    "pycharm": {
     "name": "#%%\n"
    }
   }
  },
  {
   "cell_type": "code",
   "execution_count": null,
   "outputs": [],
   "source": [],
   "metadata": {
    "collapsed": false,
    "pycharm": {
     "name": "#%%\n"
    }
   }
  },
  {
   "cell_type": "code",
   "execution_count": null,
   "outputs": [],
   "source": [
    "visas_df['prevailing_wage_job_title_9089'].value_counts()[:10].plot(kind=\"bar\", xlabel=\"Job Title\", ylabel = \"Number of Visa Applications\", title = \"Number of Visa Applications by Job Title\", figsize = [15,5])\n"
   ],
   "metadata": {
    "collapsed": false,
    "pycharm": {
     "name": "#%%\n"
    }
   }
  },
  {
   "cell_type": "code",
   "execution_count": null,
   "outputs": [],
   "source": [
    "visas_df['prevailing_wage_job_title_9089'].value_counts()[:20]\n",
    "#TODO Graphen überarbeiten\n",
    "#TODO: Anzahl einfügen"
   ],
   "metadata": {
    "collapsed": false,
    "pycharm": {
     "name": "#%%\n"
    }
   }
  },
  {
   "cell_type": "code",
   "execution_count": null,
   "outputs": [],
   "source": [
    "(visas_df.set_index(['prevailing_wage_job_title_9089'])\n",
    "   .apply(lambda x: x.str.split(' ').explode())\n",
    "   .reset_index())"
   ],
   "metadata": {
    "collapsed": false,
    "pycharm": {
     "name": "#%%\n"
    }
   }
  },
  {
   "cell_type": "code",
   "execution_count": null,
   "outputs": [],
   "source": [
    "stri = visas_df[\"prevailing_wage_job_title_9089\"].str.cat(sep=' ')"
   ],
   "metadata": {
    "collapsed": false,
    "pycharm": {
     "name": "#%%\n"
    }
   }
  },
  {
   "cell_type": "code",
   "execution_count": null,
   "outputs": [],
   "source": [],
   "metadata": {
    "collapsed": false,
    "pycharm": {
     "name": "#%%\n"
    }
   }
  },
  {
   "cell_type": "code",
   "execution_count": null,
   "outputs": [],
   "source": [
    "type(stri)"
   ],
   "metadata": {
    "collapsed": false,
    "pycharm": {
     "name": "#%%\n"
    }
   }
  },
  {
   "cell_type": "code",
   "execution_count": null,
   "outputs": [],
   "source": [
    "stri_df = stri.split(' ')"
   ],
   "metadata": {
    "collapsed": false,
    "pycharm": {
     "name": "#%%\n"
    }
   }
  },
  {
   "cell_type": "code",
   "execution_count": null,
   "outputs": [],
   "source": [
    "stri_df = pd.DataFrame(stri_df)"
   ],
   "metadata": {
    "collapsed": false,
    "pycharm": {
     "name": "#%%\n"
    }
   }
  },
  {
   "cell_type": "code",
   "execution_count": null,
   "outputs": [],
   "source": [
    "stri_df.value_counts()[:20]"
   ],
   "metadata": {
    "collapsed": false,
    "pycharm": {
     "name": "#%%\n"
    }
   }
  },
  {
   "cell_type": "code",
   "execution_count": null,
   "outputs": [],
   "source": [
    "del stri_df"
   ],
   "metadata": {
    "collapsed": false,
    "pycharm": {
     "name": "#%%\n"
    }
   }
  },
  {
   "cell_type": "code",
   "execution_count": null,
   "outputs": [],
   "source": [
    "\n",
    "# Creating the Word Cloud\n",
    "final_wordcloud = WordCloud(width = 800, height = 800,\n",
    "                background_color ='white',\n",
    "                min_font_size = 10,\n",
    "                collocations=False).generate(stri)"
   ],
   "metadata": {
    "collapsed": false,
    "pycharm": {
     "name": "#%%\n"
    }
   }
  },
  {
   "cell_type": "code",
   "execution_count": null,
   "outputs": [],
   "source": [
    "\n",
    "# Displaying the WordCloud\n",
    "plt.figure(figsize = (10, 10), facecolor = None)\n",
    "plt.imshow(final_wordcloud)\n",
    "plt.axis(\"off\")\n",
    "plt.tight_layout(pad = 0)\n",
    "\n",
    "plt.show()"
   ],
   "metadata": {
    "collapsed": false,
    "pycharm": {
     "name": "#%%\n"
    }
   }
  },
  {
   "cell_type": "code",
   "execution_count": null,
   "outputs": [],
   "source": [
    "# Creating the Word Cloud\n",
    "final_wordcloud = WordCloud(width = 800, height = 800,\n",
    "                background_color ='white',\n",
    "                min_font_size = 10).generate(stri)"
   ],
   "metadata": {
    "collapsed": false,
    "pycharm": {
     "name": "#%%\n"
    }
   }
  },
  {
   "cell_type": "code",
   "execution_count": null,
   "outputs": [],
   "source": [
    "\n",
    "# Displaying the WordCloud\n",
    "plt.figure(figsize = (10, 10), facecolor = None)\n",
    "plt.imshow(final_wordcloud)\n",
    "plt.axis(\"off\")\n",
    "plt.tight_layout(pad = 0)\n",
    "\n",
    "plt.show()"
   ],
   "metadata": {
    "collapsed": false,
    "pycharm": {
     "name": "#%%\n"
    }
   }
  },
  {
   "cell_type": "markdown",
   "source": [
    "Zum Abschluss soll noch nachgesehen werden, ob es gegebenenfalls Zusammenhänge zwischen dem Herkuftsland und den angestrebten Berufen gibt.\n",
    "Dafür werden die 20 am häufigsten vorkommenden Herkunftsländer mit den 15 am häufigst vorkommenden Berufen in Beziehung gesetzt."
   ],
   "metadata": {
    "collapsed": false,
    "pycharm": {
     "name": "#%% md\n"
    }
   }
  },
  {
   "cell_type": "code",
   "execution_count": null,
   "outputs": [],
   "source": [
    "modules.invokes_influenced_is_influenced_by_stacked_bar_chart(visas_df, \"country_of_citizenship\", \"prevailing_wage_job_title_9089\", 20, 15)"
   ],
   "metadata": {
    "collapsed": false,
    "pycharm": {
     "name": "#%%\n",
     "is_executing": true
    }
   }
  },
  {
   "cell_type": "markdown",
   "source": [
    "Leider wird aus der Analyse ersichtlich, dass trotz Konzentrationstendenzen keine weiteren Erkenntnisse abgeleitet weden können.\n"
   ],
   "metadata": {
    "collapsed": false,
    "pycharm": {
     "name": "#%% md\n"
    }
   }
  },
  {
   "cell_type": "code",
   "execution_count": null,
   "outputs": [],
   "source": [],
   "metadata": {
    "collapsed": false,
    "pycharm": {
     "name": "#%%\n"
    }
   }
  }
 ],
 "metadata": {
  "kernelspec": {
   "display_name": "Python 3",
   "language": "python",
   "name": "python3"
  },
  "language_info": {
   "codemirror_mode": {
    "name": "ipython",
    "version": 2
   },
   "file_extension": ".py",
   "mimetype": "text/x-python",
   "name": "python",
   "nbconvert_exporter": "python",
   "pygments_lexer": "ipython2",
   "version": "2.7.6"
  }
 },
 "nbformat": 4,
 "nbformat_minor": 0
}