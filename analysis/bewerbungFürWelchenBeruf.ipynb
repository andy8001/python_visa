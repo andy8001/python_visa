{
 "cells": [
  {
   "cell_type": "markdown",
   "source": [
    "# In welchen Berufen arbeiten die Visa Bewerber?"
   ],
   "metadata": {
    "collapsed": false
   }
  },
  {
   "cell_type": "code",
   "execution_count": 20,
   "outputs": [],
   "source": [
    "import cleanup\n",
    "import pandas as pd\n",
    "import matplotlib.pyplot as plt\n",
    "import seaborn as sns\n",
    "import modules\n",
    "import numpy as np"
   ],
   "metadata": {
    "collapsed": false,
    "pycharm": {
     "name": "#%%\n"
    }
   }
  },
  {
   "cell_type": "code",
   "execution_count": 15,
   "outputs": [],
   "source": [
    "# cleanup.generate_cleaned_df()\n"
   ],
   "metadata": {
    "collapsed": false,
    "pycharm": {
     "name": "#%%\n"
    }
   }
  },
  {
   "cell_type": "code",
   "execution_count": 16,
   "outputs": [],
   "source": [
    "\n",
    "col_list = [ \"pw_job_title_9089\"]\n",
    "visas_df = pd.read_csv('../data/us_perm_visas_cleaned.csv', usecols=col_list)"
   ],
   "metadata": {
    "collapsed": false,
    "pycharm": {
     "name": "#%%\n"
    }
   }
  },
  {
   "cell_type": "code",
   "execution_count": 18,
   "outputs": [
    {
     "name": "stdout",
     "output_type": "stream",
     "text": [
      "software developers, application                105314\n",
      "computer systems analyst                         35392\n",
      "software developers, systems software            20234\n",
      "electronics engineers, except computer           12450\n",
      "computer and information systems manager          8907\n",
      "accountants and auditor                           5238\n",
      "mechanical engineer                               5058\n",
      "computer software engineers, application          4902\n",
      "marketing manager                                 4192\n",
      "management analyst                                4120\n",
      "database administrator                            4053\n",
      "financial analyst                                 3974\n",
      "electrical engineer                               3685\n",
      "internists, general                               3608\n",
      "network and computer systems administrator        3541\n",
      "statistician                                      3306\n",
      "industrial engineer                               2995\n",
      "financial manager                                 2988\n",
      "software developer, application                   2891\n",
      "sales engineer                                    2631\n",
      "meat, poultry, and fish cutters and trimmer       2533\n",
      "materials engineer                                2514\n",
      "network and computer systems administrators*      2337\n",
      "architectural and engineering manager             2300\n",
      "computer programmer                               2146\n",
      "civil engineer                                    2018\n",
      "physicians and surgeons, all other                1793\n",
      "operations research analyst                       1494\n",
      "software engineer                                 1374\n",
      "computer occupations, all other                   1372\n",
      "Name: pw_job_title_9089, dtype: int64\n"
     ]
    }
   ],
   "source": [
    "modules.print_full(visas_df['pw_job_title_9089'].value_counts()[:30])"
   ],
   "metadata": {
    "collapsed": false,
    "pycharm": {
     "name": "#%%\n"
    }
   }
  },
  {
   "cell_type": "code",
   "execution_count": 21,
   "outputs": [
    {
     "data": {
      "text/plain": "<Figure size 432x288 with 1 Axes>",
      "image/png": "[encoded data removed]"
     },
     "metadata": {
      "needs_background": "light"
     },
     "output_type": "display_data"
    },
    {
     "data": {
      "text/plain": "<Figure size 432x288 with 0 Axes>"
     },
     "metadata": {},
     "output_type": "display_data"
    }
   ],
   "source": [
    "\n",
    "fig, ax = plt.subplots()\n",
    "\n",
    "JobTitle = ('software engineer', 'computer systems analyst', 'senior software engineer', 'software developer', 'programmer analyst', 'assistant professor', 'software development engineer', 'systems analyst', 'poultry processing worker', 'senior programmer analyst', 'senior software developer', 'business analyst')\n",
    "NumberofVisaApplications = [19211, 12138, 5978, 4721, 3918, 2952, 2814, 2670, 1989, 1930, 1671, 1593]\n",
    "y_pos = np.arange(len(JobTitle))\n",
    "couleur = ['#000000', '#dbb243', '#2e42d3', '#e54fe3', '#f23434']\n",
    "plt.title('Number of Visa Applications by Job Title ')\n",
    "plt.ylabel('Number of Visa Applications')\n",
    "plt.xlabel(\"Job Title\")\n",
    "plt.bar(y_pos, NumberofVisaApplications, align='center', alpha=0.6, color=couleur)\n",
    "ax.set_xticks(range(len(JobTitle)))\n",
    "ax.set_xticklabels(JobTitle, rotation='vertical')\n",
    "plt.show()\n",
    "#plt.savefig('Number of Visa Applications by Job Title.png')"
   ],
   "metadata": {
    "collapsed": false,
    "pycharm": {
     "name": "#%%\n"
    }
   }
  },
  {
   "cell_type": "code",
   "execution_count": null,
   "outputs": [],
   "source": [
    "\n",
    "#TODO Graphen überarbeiten"
   ],
   "metadata": {
    "collapsed": false,
    "pycharm": {
     "name": "#%%\n"
    }
   }
  }
 ],
 "metadata": {
  "kernelspec": {
   "display_name": "Python 3",
   "language": "python",
   "name": "python3"
  },
  "language_info": {
   "codemirror_mode": {
    "name": "ipython",
    "version": 2
   },
   "file_extension": ".py",
   "mimetype": "text/x-python",
   "name": "python",
   "nbconvert_exporter": "python",
   "pygments_lexer": "ipython2",
   "version": "2.7.6"
  }
 },
 "nbformat": 4,
 "nbformat_minor": 0
}