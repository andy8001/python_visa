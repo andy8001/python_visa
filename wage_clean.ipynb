{
 "cells": [
  {
   "cell_type": "markdown",
   "metadata": {},
   "source": [
    "# Cleaning up wage_offer_from"
   ]
  },
  {
   "cell_type": "markdown",
   "metadata": {},
   "source": [
    "wage offer from is represented in two columns wage_offer_from_9089 and wage_offered_from_9089. These both columns must be merged in order to work with them."
   ]
  },
  {
   "cell_type": "code",
   "execution_count": 49,
   "metadata": {},
   "outputs": [],
   "source": [
    "import pandas as pd\n",
    "import importlib\n",
    "import modules\n",
    "import numpy as np\n",
    "import matplotlib.pyplot as plt"
   ]
  },
  {
   "cell_type": "code",
   "execution_count": 3,
   "metadata": {},
   "outputs": [
    {
     "name": "stderr",
     "output_type": "stream",
     "text": [
      "C:\\Users\\andre\\anaconda3\\lib\\site-packages\\IPython\\core\\interactiveshell.py:3146: DtypeWarning: Columns (148) have mixed types.Specify dtype option on import or set low_memory=False.\n",
      "  has_raised = await self.run_ast_nodes(code_ast.body, cell_name,\n"
     ]
    },
    {
     "data": {
      "text/html": [
       "<div>\n",
       "<style scoped>\n",
       "    .dataframe tbody tr th:only-of-type {\n",
       "        vertical-align: middle;\n",
       "    }\n",
       "\n",
       "    .dataframe tbody tr th {\n",
       "        vertical-align: top;\n",
       "    }\n",
       "\n",
       "    .dataframe thead th {\n",
       "        text-align: right;\n",
       "    }\n",
       "</style>\n",
       "<table border=\"1\" class=\"dataframe\">\n",
       "  <thead>\n",
       "    <tr style=\"text-align: right;\">\n",
       "      <th></th>\n",
       "      <th>wage_offer_from_9089</th>\n",
       "      <th>wage_offered_from_9089</th>\n",
       "    </tr>\n",
       "  </thead>\n",
       "  <tbody>\n",
       "    <tr>\n",
       "      <th>0</th>\n",
       "      <td>75629</td>\n",
       "      <td>NaN</td>\n",
       "    </tr>\n",
       "    <tr>\n",
       "      <th>1</th>\n",
       "      <td>37024</td>\n",
       "      <td>NaN</td>\n",
       "    </tr>\n",
       "    <tr>\n",
       "      <th>2</th>\n",
       "      <td>47923</td>\n",
       "      <td>NaN</td>\n",
       "    </tr>\n",
       "    <tr>\n",
       "      <th>3</th>\n",
       "      <td>10.97</td>\n",
       "      <td>NaN</td>\n",
       "    </tr>\n",
       "    <tr>\n",
       "      <th>4</th>\n",
       "      <td>100000</td>\n",
       "      <td>NaN</td>\n",
       "    </tr>\n",
       "  </tbody>\n",
       "</table>\n",
       "</div>"
      ],
      "text/plain": [
       "  wage_offer_from_9089  wage_offered_from_9089\n",
       "0                75629                     NaN\n",
       "1                37024                     NaN\n",
       "2                47923                     NaN\n",
       "3                10.97                     NaN\n",
       "4               100000                     NaN"
      ]
     },
     "execution_count": 3,
     "metadata": {},
     "output_type": "execute_result"
    }
   ],
   "source": [
    "col_list= [\"wage_offer_from_9089\", \"wage_offered_from_9089\"]\n",
    "visas_df = pd.read_csv(\"data/us_perm_visas.csv\", usecols=col_list)\n",
    "visas_df.head ()"
   ]
  },
  {
   "cell_type": "code",
   "execution_count": 4,
   "metadata": {},
   "outputs": [
    {
     "data": {
      "text/plain": [
       "wage_offer_from_9089       object\n",
       "wage_offered_from_9089    float64\n",
       "dtype: object"
      ]
     },
     "execution_count": 4,
     "metadata": {},
     "output_type": "execute_result"
    }
   ],
   "source": [
    "visas_df.dtypes"
   ]
  },
  {
   "cell_type": "markdown",
   "metadata": {},
   "source": [
    "wage_offered_from_9089 was sucessfully imported as float. \n",
    "However we'll have to take a closer look at wage_offer_from_9089 to convert it to a float value."
   ]
  },
  {
   "cell_type": "markdown",
   "metadata": {},
   "source": [
    "Next, we'll take a closer look how the values in these two columns are distributed. \n",
    "We defined a new function in our modules library to deal with this task. "
   ]
  },
  {
   "cell_type": "code",
   "execution_count": 5,
   "metadata": {},
   "outputs": [
    {
     "name": "stdout",
     "output_type": "stream",
     "text": [
      "wage_offer_from_9089\n",
      "259591/374362 69%\n",
      "\r",
      "Filled: |██████████████████████████████████----------------| 69.3% Rows\r\n"
     ]
    },
    {
     "data": {
      "image/png": "[encoded data removed]",
      "text/plain": [
       "<Figure size 1152x288 with 1 Axes>"
      ]
     },
     "metadata": {
      "needs_background": "light"
     },
     "output_type": "display_data"
    },
    {
     "name": "stdout",
     "output_type": "stream",
     "text": [
      "\n",
      "wage_offered_from_9089\n",
      "114647/374362 31%\n",
      "\r",
      "Filled: |███████████████-----------------------------------| 30.6% Rows\r\n"
     ]
    },
    {
     "data": {
      "image/png": "[encoded data removed]",
      "text/plain": [
       "<Figure size 1152x288 with 1 Axes>"
      ]
     },
     "metadata": {
      "needs_background": "light"
     },
     "output_type": "display_data"
    },
    {
     "name": "stdout",
     "output_type": "stream",
     "text": [
      "\n"
     ]
    }
   ],
   "source": [
    "modules.print_count_of_values_relation(visas_df, True, True)"
   ]
  },
  {
   "cell_type": "markdown",
   "metadata": {},
   "source": [
    "To explain the resulting graphs: \n",
    "The X-Axis shows the index of all values. We have over 350000 values (rows) in our dataset.\n",
    "The Y-Axis shows if a row is filled with a actual value. Not NaN Values are displayed as 1, NaN values are displayed as 0. \n",
    "\n",
    "It becomes aparent that both columnscomplete each other. Gaps in wage_offer_from_9098 can be filled with wage_offer_from_9098."
   ]
  },
  {
   "cell_type": "markdown",
   "metadata": {
    "pycharm": {
     "name": "#%% md\n"
    }
   },
   "source": [
    "----\n",
    "## Cleaning up `wage_offer_from_9089`"
   ]
  },
  {
   "cell_type": "markdown",
   "metadata": {
    "pycharm": {
     "name": "#%% md\n"
    }
   },
   "source": [
    "In Progress of our data analysis it became apparent, that wage_offer_from_9089 has to be cleaned up, before analyzing the contained data. "
   ]
  },
  {
   "cell_type": "code",
   "execution_count": null,
   "metadata": {},
   "outputs": [],
   "source": []
  },
  {
   "cell_type": "code",
   "execution_count": 6,
   "metadata": {
    "pycharm": {
     "name": "#%%\n"
    }
   },
   "outputs": [
    {
     "data": {
      "text/plain": [
       "wage_offer_from_9089       object\n",
       "wage_offered_from_9089    float64\n",
       "dtype: object"
      ]
     },
     "execution_count": 6,
     "metadata": {},
     "output_type": "execute_result"
    }
   ],
   "source": [
    "cleanup_df = visas_df.copy()\n",
    "cleanup_df.dtypes"
   ]
  },
  {
   "cell_type": "markdown",
   "metadata": {},
   "source": [
    "Originally all the imported rows were recognized as \"object\". But the values should be converted to float values."
   ]
  },
  {
   "cell_type": "code",
   "execution_count": 7,
   "metadata": {
    "pycharm": {
     "name": "#%%\n"
    }
   },
   "outputs": [],
   "source": [
    "# cleanup_df[\"wage_offer_from_9089\"].astype('float')"
   ]
  },
  {
   "cell_type": "markdown",
   "metadata": {},
   "source": [
    "First, we tried to convert the data, by applying the new type."
   ]
  },
  {
   "cell_type": "code",
   "execution_count": 8,
   "metadata": {
    "pycharm": {
     "name": "#%%\n"
    }
   },
   "outputs": [
    {
     "data": {
      "text/plain": [
       "0         <class 'float'>\n",
       "1         <class 'float'>\n",
       "2         <class 'float'>\n",
       "3         <class 'float'>\n",
       "4         <class 'float'>\n",
       "               ...       \n",
       "374357      <class 'str'>\n",
       "374358      <class 'str'>\n",
       "374359      <class 'str'>\n",
       "374360      <class 'str'>\n",
       "374361      <class 'str'>\n",
       "Name: wage_offer_from_9089, Length: 374362, dtype: object"
      ]
     },
     "execution_count": 8,
     "metadata": {},
     "output_type": "execute_result"
    }
   ],
   "source": [
    "cleanup_df[\"wage_offer_from_9089\"].apply(type)"
   ]
  },
  {
   "cell_type": "markdown",
   "metadata": {},
   "source": [
    "We defined a new columnn, containing the types of all newly converted values."
   ]
  },
  {
   "cell_type": "code",
   "execution_count": 9,
   "metadata": {
    "pycharm": {
     "name": "#%%\n"
    }
   },
   "outputs": [],
   "source": [
    "cleanup_df['wage_Type'] = cleanup_df[\"wage_offer_from_9089\"].apply(lambda x: type(x).__name__)"
   ]
  },
  {
   "cell_type": "code",
   "execution_count": 10,
   "metadata": {
    "pycharm": {
     "name": "#%%\n"
    }
   },
   "outputs": [
    {
     "data": {
      "text/html": [
       "<div>\n",
       "<style scoped>\n",
       "    .dataframe tbody tr th:only-of-type {\n",
       "        vertical-align: middle;\n",
       "    }\n",
       "\n",
       "    .dataframe tbody tr th {\n",
       "        vertical-align: top;\n",
       "    }\n",
       "\n",
       "    .dataframe thead th {\n",
       "        text-align: right;\n",
       "    }\n",
       "</style>\n",
       "<table border=\"1\" class=\"dataframe\">\n",
       "  <thead>\n",
       "    <tr style=\"text-align: right;\">\n",
       "      <th></th>\n",
       "      <th>wage_offer_from_9089</th>\n",
       "      <th>wage_offered_from_9089</th>\n",
       "      <th>wage_Type</th>\n",
       "    </tr>\n",
       "  </thead>\n",
       "  <tbody>\n",
       "    <tr>\n",
       "      <th>0</th>\n",
       "      <td>75629</td>\n",
       "      <td>NaN</td>\n",
       "      <td>float</td>\n",
       "    </tr>\n",
       "    <tr>\n",
       "      <th>1</th>\n",
       "      <td>37024</td>\n",
       "      <td>NaN</td>\n",
       "      <td>float</td>\n",
       "    </tr>\n",
       "    <tr>\n",
       "      <th>2</th>\n",
       "      <td>47923</td>\n",
       "      <td>NaN</td>\n",
       "      <td>float</td>\n",
       "    </tr>\n",
       "    <tr>\n",
       "      <th>3</th>\n",
       "      <td>10.97</td>\n",
       "      <td>NaN</td>\n",
       "      <td>float</td>\n",
       "    </tr>\n",
       "    <tr>\n",
       "      <th>4</th>\n",
       "      <td>100000</td>\n",
       "      <td>NaN</td>\n",
       "      <td>float</td>\n",
       "    </tr>\n",
       "  </tbody>\n",
       "</table>\n",
       "</div>"
      ],
      "text/plain": [
       "  wage_offer_from_9089  wage_offered_from_9089 wage_Type\n",
       "0                75629                     NaN     float\n",
       "1                37024                     NaN     float\n",
       "2                47923                     NaN     float\n",
       "3                10.97                     NaN     float\n",
       "4               100000                     NaN     float"
      ]
     },
     "execution_count": 10,
     "metadata": {},
     "output_type": "execute_result"
    }
   ],
   "source": [
    "\n",
    "cleanup_df.head()"
   ]
  },
  {
   "cell_type": "code",
   "execution_count": 11,
   "metadata": {
    "pycharm": {
     "name": "#%%\n"
    }
   },
   "outputs": [],
   "source": [
    "import modules"
   ]
  },
  {
   "cell_type": "code",
   "execution_count": 12,
   "metadata": {
    "pycharm": {
     "name": "#%%\n"
    },
    "scrolled": true
   },
   "outputs": [
    {
     "name": "stdout",
     "output_type": "stream",
     "text": [
      "       wage_offer_from_9089  wage_offered_from_9089 wage_Type\n",
      "6963                  81099                     NaN     float\n",
      "293236                86424                     NaN     float\n",
      "153732            81,765.00                     NaN       str\n",
      "205265            67,000.00                     NaN       str\n",
      "361461           100,110.00                     NaN       str\n",
      "193383           108,805.00                     NaN       str\n",
      "122045                  NaN                76710.00     float\n",
      "131331                  NaN                    9.00     float\n",
      "93807                   NaN                80000.00     float\n",
      "355631            83,096.00                     NaN       str\n",
      "272745                28205                     NaN     float\n",
      "144983           158,725.00                     NaN       str\n",
      "373102            67,900.00                     NaN       str\n",
      "349693           100,482.00                     NaN       str\n",
      "234247               133661                     NaN     float\n",
      "43310                   NaN               100942.00     float\n",
      "232967               108909                     NaN     float\n",
      "276424                64979                     NaN     float\n",
      "348577             132000.0                     NaN       str\n",
      "145789            72,000.00                     NaN       str\n",
      "71532                   NaN                85000.00     float\n",
      "362520           140,000.00                     NaN       str\n",
      "114019                  NaN                85100.00     float\n",
      "240637                18720                     NaN     float\n",
      "84660                   NaN                72925.00     float\n",
      "167852           187,200.00                     NaN       str\n",
      "200204                90.00                     NaN       str\n",
      "359921           100,832.00                     NaN       str\n",
      "79632                   NaN                85800.00     float\n",
      "59035                   NaN                21000.00     float\n",
      "126800                  NaN                85000.00     float\n",
      "294020                75000                     NaN     float\n",
      "252531               145800                     NaN     float\n",
      "22746                   NaN                78000.00     float\n",
      "85544                   NaN               124999.00     float\n",
      "371856            97,968.00                     NaN       str\n",
      "370875            80,000.00                     NaN       str\n",
      "291272               104146                     NaN     float\n",
      "58702                   NaN               124000.00     float\n",
      "304904               179388                     NaN     float\n",
      "366329           111,500.00                     NaN       str\n",
      "67184                   NaN               224000.00     float\n",
      "271083               160000                     NaN     float\n",
      "361425            95,000.00                     NaN       str\n",
      "55142                   NaN               126880.00     float\n",
      "184452           185,000.00                     NaN       str\n",
      "316206                99716                     NaN     float\n",
      "192933           235,200.00                     NaN       str\n",
      "367439           120,800.00                     NaN       str\n",
      "262964                16744                     NaN     float\n",
      "124100                  NaN               102350.00     float\n",
      "268218                70000                     NaN     float\n",
      "81628                   NaN               121202.00     float\n",
      "82272                   NaN               125154.00     float\n",
      "209020            70,262.00                     NaN       str\n",
      "200171            51,189.00                     NaN       str\n",
      "250633               108000                     NaN     float\n",
      "310090               145000                     NaN     float\n",
      "71936                   NaN                87006.00     float\n",
      "182734           130,000.00                     NaN       str\n",
      "124125                  NaN                    8.44     float\n",
      "325390               127379                     NaN     float\n",
      "249324                67309                     NaN     float\n",
      "159664            92,350.00                     NaN       str\n",
      "347140               173056                     NaN     float\n",
      "169880            76,149.00                     NaN       str\n",
      "322835                  8.5                     NaN     float\n",
      "207068           380,000.00                     NaN       str\n",
      "172221            72,946.00                     NaN       str\n",
      "312110               134909                     NaN     float\n",
      "156906            89,294.00                     NaN       str\n",
      "108747                  NaN                75171.00     float\n",
      "57648                   NaN                76003.20     float\n",
      "126628                  NaN                89814.00     float\n",
      "332535                99258                     NaN     float\n",
      "51987                   NaN                78707.00     float\n",
      "276334               107120                     NaN     float\n",
      "97099                   NaN                95000.00     float\n",
      "167315           134,534.00                     NaN       str\n",
      "108773                  NaN               150000.00     float\n",
      "143794            54,059.00                     NaN       str\n",
      "107872                  NaN                68286.00     float\n",
      "316367               101000                     NaN     float\n",
      "322506               130666                     NaN     float\n",
      "194888           125,000.00                     NaN       str\n",
      "1566                  81200                     NaN     float\n",
      "173331            87,880.00                     NaN       str\n",
      "100816                  NaN                75000.00     float\n",
      "137279            74,422.00                     NaN       str\n",
      "355818           123,718.00                     NaN       str\n",
      "71295                   NaN                88000.00     float\n",
      "205911            64,438.00                     NaN       str\n",
      "74265                   NaN                   77.08     float\n",
      "296405               127005                     NaN     float\n",
      "158871           105,144.00                     NaN       str\n",
      "95105                   NaN                93628.00     float\n",
      "289046                10.53                     NaN     float\n",
      "300322               115500                     NaN     float\n",
      "302575                 8.91                     NaN     float\n",
      "349266             112320.0                     NaN       str\n"
     ]
    }
   ],
   "source": [
    "importlib.reload(modules)\n",
    "modules.print_full(cleanup_df.sample(100))"
   ]
  },
  {
   "cell_type": "markdown",
   "metadata": {},
   "source": [
    "It became apparent, that apllying the new type was partially successful. But values containing delimiters or seperators are still recognized as a string. "
   ]
  },
  {
   "cell_type": "code",
   "execution_count": 13,
   "metadata": {
    "pycharm": {
     "name": "#%%\n"
    }
   },
   "outputs": [
    {
     "data": {
      "text/plain": [
       "float    258181\n",
       "str      116181\n",
       "Name: wage_Type, dtype: int64"
      ]
     },
     "execution_count": 13,
     "metadata": {},
     "output_type": "execute_result"
    }
   ],
   "source": [
    "\n",
    "cleanup_df['wage_Type'].value_counts()"
   ]
  },
  {
   "cell_type": "markdown",
   "metadata": {},
   "source": [
    "We defined a new function to remove the delimiters. Additionally we replaced the '#############' values, which occured two times, with NaN. "
   ]
  },
  {
   "cell_type": "code",
   "execution_count": 14,
   "metadata": {
    "pycharm": {
     "name": "#%%\n"
    }
   },
   "outputs": [],
   "source": [
    "def clean_currency(x):\n",
    "    \"\"\" If the value is a string, then remove delimiters\n",
    "    otherwise, the value is numeric and can be converted.\n",
    "\n",
    "    \"\"\"\n",
    "    if isinstance(x, str):\n",
    "        if x == '#############':\n",
    "            x = np.nan\n",
    "        else:\n",
    "            return(x.replace(',', ''))\n",
    "    return(x)"
   ]
  },
  {
   "cell_type": "code",
   "execution_count": 15,
   "metadata": {
    "pycharm": {
     "name": "#%%\n"
    }
   },
   "outputs": [],
   "source": [
    "cleanup_df[\"wage_offer_from_9089\"] = cleanup_df[\"wage_offer_from_9089\"].apply(clean_currency).astype('float')\n",
    "cleanup_df['wage_Type'] = cleanup_df[\"wage_offer_from_9089\"].apply(lambda x: type(x).__name__)"
   ]
  },
  {
   "cell_type": "code",
   "execution_count": 16,
   "metadata": {
    "pycharm": {
     "name": "#%%\n"
    }
   },
   "outputs": [
    {
     "data": {
      "text/plain": [
       "float    374362\n",
       "Name: wage_Type, dtype: int64"
      ]
     },
     "execution_count": 16,
     "metadata": {},
     "output_type": "execute_result"
    }
   ],
   "source": [
    "\n",
    "cleanup_df['wage_Type'].value_counts()"
   ]
  },
  {
   "cell_type": "code",
   "execution_count": 17,
   "metadata": {
    "pycharm": {
     "name": "#%%\n"
    },
    "scrolled": true
   },
   "outputs": [
    {
     "name": "stdout",
     "output_type": "stream",
     "text": [
      "        wage_offer_from_9089  wage_offered_from_9089 wage_Type\n",
      "279041              82000.00                     NaN     float\n",
      "242948             110000.00                     NaN     float\n",
      "340546             106912.00                     NaN     float\n",
      "279481              86182.00                     NaN     float\n",
      "66232                    NaN                 86986.0     float\n",
      "46889                    NaN                 87714.0     float\n",
      "241242              75234.00                     NaN     float\n",
      "271830              95000.00                     NaN     float\n",
      "119698                   NaN                113000.0     float\n",
      "212500             110000.00                     NaN     float\n",
      "98684                    NaN                103200.0     float\n",
      "240796                  8.09                     NaN     float\n",
      "205350              69700.00                     NaN     float\n",
      "113075                   NaN                100298.0     float\n",
      "122313                   NaN                144206.0     float\n",
      "91485                    NaN                105000.0     float\n",
      "247316             110000.00                     NaN     float\n",
      "34646                    NaN                 90000.0     float\n",
      "157048              90147.00                     NaN     float\n",
      "191634             130000.00                     NaN     float\n",
      "366854             128000.00                     NaN     float\n",
      "67242                    NaN                 93267.0     float\n",
      "307639             103000.00                     NaN     float\n",
      "364682             106080.00                     NaN     float\n",
      "332381             114264.00                     NaN     float\n",
      "149159              54059.00                     NaN     float\n",
      "175952              95077.00                     NaN     float\n",
      "351637              43805.00                     NaN     float\n",
      "340135              96325.00                     NaN     float\n",
      "215958              65000.00                     NaN     float\n",
      "354208              80101.00                     NaN     float\n",
      "277538             120447.00                     NaN     float\n",
      "319240              76294.00                     NaN     float\n",
      "300775              76000.00                     NaN     float\n",
      "188979              75057.00                     NaN     float\n",
      "93232                    NaN                121202.0     float\n",
      "303952             127837.00                     NaN     float\n",
      "37884                    NaN                100000.0     float\n",
      "362669               7777.78                     NaN     float\n",
      "83001                    NaN                121098.0     float\n",
      "65336                    NaN                 65000.0     float\n",
      "328316              85779.00                     NaN     float\n",
      "46733                    NaN                 78374.0     float\n",
      "350462              93246.00                     NaN     float\n",
      "304125              89516.40                     NaN     float\n",
      "217423              98600.00                     NaN     float\n",
      "123330                   NaN                 78700.0     float\n",
      "62143                    NaN                 72613.0     float\n",
      "171495              72946.00                     NaN     float\n",
      "286716              72571.00                     NaN     float\n",
      "2362                84885.00                     NaN     float\n",
      "136460              46600.00                     NaN     float\n",
      "177970             126048.00                     NaN     float\n",
      "293165              92500.00                     NaN     float\n",
      "350018              66269.00                     NaN     float\n",
      "190050              44658.00                     NaN     float\n",
      "109824                   NaN                 91645.0     float\n",
      "360897             104832.00                     NaN     float\n",
      "223652             123500.00                     NaN     float\n",
      "296472              60000.00                     NaN     float\n",
      "275873             102066.00                     NaN     float\n",
      "100344                   NaN                 99100.0     float\n",
      "200924             145000.00                     NaN     float\n",
      "308951             131000.00                     NaN     float\n",
      "223312              95500.00                     NaN     float\n",
      "172866             123000.00                     NaN     float\n",
      "75405                    NaN                 92331.0     float\n",
      "327430             123490.00                     NaN     float\n",
      "294194              92000.00                     NaN     float\n",
      "10381               32115.00                     NaN     float\n",
      "40367                    NaN                132000.0     float\n",
      "202532             149760.00                     NaN     float\n",
      "96062                    NaN                 71240.0     float\n",
      "358579             115458.00                     NaN     float\n",
      "183601              86507.00                     NaN     float\n",
      "5354                92800.00                     NaN     float\n",
      "129374                   NaN                 97000.0     float\n",
      "144569             104083.00                     NaN     float\n",
      "20199               83000.00                     NaN     float\n",
      "235918              54850.00                     NaN     float\n",
      "348895              81765.00                     NaN     float\n",
      "21428                    NaN                     8.4     float\n",
      "122158                   NaN                187200.0     float\n",
      "202970                 11.60                     NaN     float\n",
      "165713             117666.00                     NaN     float\n",
      "269647             113776.00                     NaN     float\n",
      "8130                64000.00                     NaN     float\n",
      "234603             131800.00                     NaN     float\n",
      "229472              19594.00                     NaN     float\n",
      "160171              75566.00                     NaN     float\n",
      "26060                    NaN                126990.0     float\n",
      "10785               37066.00                     NaN     float\n",
      "208295             140000.00                     NaN     float\n",
      "186298              76149.00                     NaN     float\n",
      "321475              77000.00                     NaN     float\n",
      "229844              47800.00                     NaN     float\n",
      "20678                    NaN                    11.5     float\n",
      "44295                    NaN                136448.0     float\n",
      "77956                    NaN                113850.0     float\n",
      "260223              98853.00                     NaN     float\n"
     ]
    }
   ],
   "source": [
    "\n",
    "modules.print_full(cleanup_df.sample(100))"
   ]
  },
  {
   "cell_type": "markdown",
   "metadata": {},
   "source": [
    "Perfect, all values are now converted to float. The column `wage_offer_from_9089` was successfully cleaned up."
   ]
  },
  {
   "cell_type": "code",
   "execution_count": 18,
   "metadata": {
    "pycharm": {
     "name": "#%%\n"
    }
   },
   "outputs": [
    {
     "data": {
      "text/plain": [
       "91104.0"
      ]
     },
     "execution_count": 18,
     "metadata": {},
     "output_type": "execute_result"
    }
   ],
   "source": [
    "cleanup_df['wage_offer_from_9089'].median()"
   ]
  },
  {
   "cell_type": "code",
   "execution_count": 19,
   "metadata": {},
   "outputs": [],
   "source": [
    "visas_df['wage_offer_from_9089'] = cleanup_df['wage_offer_from_9089']\n",
    "del cleanup_df"
   ]
  },
  {
   "cell_type": "code",
   "execution_count": 20,
   "metadata": {},
   "outputs": [
    {
     "data": {
      "text/html": [
       "<div>\n",
       "<style scoped>\n",
       "    .dataframe tbody tr th:only-of-type {\n",
       "        vertical-align: middle;\n",
       "    }\n",
       "\n",
       "    .dataframe tbody tr th {\n",
       "        vertical-align: top;\n",
       "    }\n",
       "\n",
       "    .dataframe thead th {\n",
       "        text-align: right;\n",
       "    }\n",
       "</style>\n",
       "<table border=\"1\" class=\"dataframe\">\n",
       "  <thead>\n",
       "    <tr style=\"text-align: right;\">\n",
       "      <th></th>\n",
       "      <th>wage_offer_from_9089</th>\n",
       "      <th>wage_offered_from_9089</th>\n",
       "    </tr>\n",
       "  </thead>\n",
       "  <tbody>\n",
       "    <tr>\n",
       "      <th>83015</th>\n",
       "      <td>NaN</td>\n",
       "      <td>87547.0</td>\n",
       "    </tr>\n",
       "    <tr>\n",
       "      <th>260052</th>\n",
       "      <td>96000.0</td>\n",
       "      <td>NaN</td>\n",
       "    </tr>\n",
       "    <tr>\n",
       "      <th>226802</th>\n",
       "      <td>75005.0</td>\n",
       "      <td>NaN</td>\n",
       "    </tr>\n",
       "    <tr>\n",
       "      <th>48681</th>\n",
       "      <td>NaN</td>\n",
       "      <td>95000.0</td>\n",
       "    </tr>\n",
       "    <tr>\n",
       "      <th>296126</th>\n",
       "      <td>82000.0</td>\n",
       "      <td>NaN</td>\n",
       "    </tr>\n",
       "    <tr>\n",
       "      <th>167378</th>\n",
       "      <td>91166.0</td>\n",
       "      <td>NaN</td>\n",
       "    </tr>\n",
       "    <tr>\n",
       "      <th>220434</th>\n",
       "      <td>37773.0</td>\n",
       "      <td>NaN</td>\n",
       "    </tr>\n",
       "    <tr>\n",
       "      <th>234073</th>\n",
       "      <td>108763.0</td>\n",
       "      <td>NaN</td>\n",
       "    </tr>\n",
       "    <tr>\n",
       "      <th>191807</th>\n",
       "      <td>69742.0</td>\n",
       "      <td>NaN</td>\n",
       "    </tr>\n",
       "    <tr>\n",
       "      <th>283797</th>\n",
       "      <td>110000.0</td>\n",
       "      <td>NaN</td>\n",
       "    </tr>\n",
       "    <tr>\n",
       "      <th>306987</th>\n",
       "      <td>66144.0</td>\n",
       "      <td>NaN</td>\n",
       "    </tr>\n",
       "    <tr>\n",
       "      <th>7136</th>\n",
       "      <td>90000.0</td>\n",
       "      <td>NaN</td>\n",
       "    </tr>\n",
       "    <tr>\n",
       "      <th>154239</th>\n",
       "      <td>95713.0</td>\n",
       "      <td>NaN</td>\n",
       "    </tr>\n",
       "    <tr>\n",
       "      <th>285100</th>\n",
       "      <td>90000.0</td>\n",
       "      <td>NaN</td>\n",
       "    </tr>\n",
       "    <tr>\n",
       "      <th>243194</th>\n",
       "      <td>83366.0</td>\n",
       "      <td>NaN</td>\n",
       "    </tr>\n",
       "  </tbody>\n",
       "</table>\n",
       "</div>"
      ],
      "text/plain": [
       "        wage_offer_from_9089  wage_offered_from_9089\n",
       "83015                    NaN                 87547.0\n",
       "260052               96000.0                     NaN\n",
       "226802               75005.0                     NaN\n",
       "48681                    NaN                 95000.0\n",
       "296126               82000.0                     NaN\n",
       "167378               91166.0                     NaN\n",
       "220434               37773.0                     NaN\n",
       "234073              108763.0                     NaN\n",
       "191807               69742.0                     NaN\n",
       "283797              110000.0                     NaN\n",
       "306987               66144.0                     NaN\n",
       "7136                 90000.0                     NaN\n",
       "154239               95713.0                     NaN\n",
       "285100               90000.0                     NaN\n",
       "243194               83366.0                     NaN"
      ]
     },
     "execution_count": 20,
     "metadata": {},
     "output_type": "execute_result"
    }
   ],
   "source": [
    "visas_df.sample(15)"
   ]
  },
  {
   "cell_type": "markdown",
   "metadata": {
    "pycharm": {
     "name": "#%%\n"
    }
   },
   "source": [
    "## Merging both columns"
   ]
  },
  {
   "cell_type": "markdown",
   "metadata": {},
   "source": [
    "All NaN values wil lbe filled with 0 in order to sum both columns up.\n",
    "We saw earlier thar both columns never overlap."
   ]
  },
  {
   "cell_type": "code",
   "execution_count": 21,
   "metadata": {},
   "outputs": [],
   "source": [
    "visas_df['wage_offer_merged'] = visas_df['wage_offer_from_9089'].fillna(0) + visas_df['wage_offered_from_9089'].fillna(0)"
   ]
  },
  {
   "cell_type": "code",
   "execution_count": 22,
   "metadata": {},
   "outputs": [
    {
     "data": {
      "text/html": [
       "<div>\n",
       "<style scoped>\n",
       "    .dataframe tbody tr th:only-of-type {\n",
       "        vertical-align: middle;\n",
       "    }\n",
       "\n",
       "    .dataframe tbody tr th {\n",
       "        vertical-align: top;\n",
       "    }\n",
       "\n",
       "    .dataframe thead th {\n",
       "        text-align: right;\n",
       "    }\n",
       "</style>\n",
       "<table border=\"1\" class=\"dataframe\">\n",
       "  <thead>\n",
       "    <tr style=\"text-align: right;\">\n",
       "      <th></th>\n",
       "      <th>wage_offer_from_9089</th>\n",
       "      <th>wage_offered_from_9089</th>\n",
       "      <th>wage_offer_merged</th>\n",
       "    </tr>\n",
       "  </thead>\n",
       "  <tbody>\n",
       "    <tr>\n",
       "      <th>230301</th>\n",
       "      <td>63378.00</td>\n",
       "      <td>NaN</td>\n",
       "      <td>63378.00</td>\n",
       "    </tr>\n",
       "    <tr>\n",
       "      <th>304890</th>\n",
       "      <td>25.36</td>\n",
       "      <td>NaN</td>\n",
       "      <td>25.36</td>\n",
       "    </tr>\n",
       "    <tr>\n",
       "      <th>152443</th>\n",
       "      <td>40477.00</td>\n",
       "      <td>NaN</td>\n",
       "      <td>40477.00</td>\n",
       "    </tr>\n",
       "    <tr>\n",
       "      <th>252997</th>\n",
       "      <td>105518.00</td>\n",
       "      <td>NaN</td>\n",
       "      <td>105518.00</td>\n",
       "    </tr>\n",
       "    <tr>\n",
       "      <th>195049</th>\n",
       "      <td>122718.00</td>\n",
       "      <td>NaN</td>\n",
       "      <td>122718.00</td>\n",
       "    </tr>\n",
       "    <tr>\n",
       "      <th>286095</th>\n",
       "      <td>160000.00</td>\n",
       "      <td>NaN</td>\n",
       "      <td>160000.00</td>\n",
       "    </tr>\n",
       "    <tr>\n",
       "      <th>164226</th>\n",
       "      <td>72467.00</td>\n",
       "      <td>NaN</td>\n",
       "      <td>72467.00</td>\n",
       "    </tr>\n",
       "    <tr>\n",
       "      <th>223157</th>\n",
       "      <td>76950.00</td>\n",
       "      <td>NaN</td>\n",
       "      <td>76950.00</td>\n",
       "    </tr>\n",
       "    <tr>\n",
       "      <th>238154</th>\n",
       "      <td>95300.00</td>\n",
       "      <td>NaN</td>\n",
       "      <td>95300.00</td>\n",
       "    </tr>\n",
       "    <tr>\n",
       "      <th>91252</th>\n",
       "      <td>NaN</td>\n",
       "      <td>102315.0</td>\n",
       "      <td>102315.00</td>\n",
       "    </tr>\n",
       "    <tr>\n",
       "      <th>191153</th>\n",
       "      <td>124190.00</td>\n",
       "      <td>NaN</td>\n",
       "      <td>124190.00</td>\n",
       "    </tr>\n",
       "    <tr>\n",
       "      <th>183680</th>\n",
       "      <td>75057.00</td>\n",
       "      <td>NaN</td>\n",
       "      <td>75057.00</td>\n",
       "    </tr>\n",
       "    <tr>\n",
       "      <th>234226</th>\n",
       "      <td>19282.00</td>\n",
       "      <td>NaN</td>\n",
       "      <td>19282.00</td>\n",
       "    </tr>\n",
       "    <tr>\n",
       "      <th>26183</th>\n",
       "      <td>NaN</td>\n",
       "      <td>72000.0</td>\n",
       "      <td>72000.00</td>\n",
       "    </tr>\n",
       "    <tr>\n",
       "      <th>148925</th>\n",
       "      <td>120000.00</td>\n",
       "      <td>NaN</td>\n",
       "      <td>120000.00</td>\n",
       "    </tr>\n",
       "  </tbody>\n",
       "</table>\n",
       "</div>"
      ],
      "text/plain": [
       "        wage_offer_from_9089  wage_offered_from_9089  wage_offer_merged\n",
       "230301              63378.00                     NaN           63378.00\n",
       "304890                 25.36                     NaN              25.36\n",
       "152443              40477.00                     NaN           40477.00\n",
       "252997             105518.00                     NaN          105518.00\n",
       "195049             122718.00                     NaN          122718.00\n",
       "286095             160000.00                     NaN          160000.00\n",
       "164226              72467.00                     NaN           72467.00\n",
       "223157              76950.00                     NaN           76950.00\n",
       "238154              95300.00                     NaN           95300.00\n",
       "91252                    NaN                102315.0          102315.00\n",
       "191153             124190.00                     NaN          124190.00\n",
       "183680              75057.00                     NaN           75057.00\n",
       "234226              19282.00                     NaN           19282.00\n",
       "26183                    NaN                 72000.0           72000.00\n",
       "148925             120000.00                     NaN          120000.00"
      ]
     },
     "execution_count": 22,
     "metadata": {},
     "output_type": "execute_result"
    }
   ],
   "source": [
    "visas_df.sample(15)"
   ]
  },
  {
   "cell_type": "code",
   "execution_count": 23,
   "metadata": {},
   "outputs": [
    {
     "data": {
      "text/plain": [
       "dtype('float64')"
      ]
     },
     "execution_count": 23,
     "metadata": {},
     "output_type": "execute_result"
    }
   ],
   "source": [
    "visas_df['wage_offer_merged'].dtype"
   ]
  },
  {
   "cell_type": "code",
   "execution_count": 24,
   "metadata": {},
   "outputs": [
    {
     "data": {
      "text/plain": [
       "126"
      ]
     },
     "execution_count": 24,
     "metadata": {},
     "output_type": "execute_result"
    }
   ],
   "source": [
    "(visas_df['wage_offer_merged'] == 0).sum()"
   ]
  },
  {
   "cell_type": "markdown",
   "metadata": {},
   "source": [
    "We filled NaN values with 0 in Order to calculate sums. Now we will replaye 0 with NaN to keep the columns cleaned up.\n",
    "Additionally a wage of 0 would be unrealistic."
   ]
  },
  {
   "cell_type": "code",
   "execution_count": 25,
   "metadata": {},
   "outputs": [],
   "source": [
    "visas_df['wage_offer_merged'].replace(0, np.nan, inplace=True)"
   ]
  },
  {
   "cell_type": "code",
   "execution_count": 26,
   "metadata": {},
   "outputs": [
    {
     "data": {
      "text/plain": [
       "0"
      ]
     },
     "execution_count": 26,
     "metadata": {},
     "output_type": "execute_result"
    }
   ],
   "source": [
    "(visas_df['wage_offer_merged'] == 0).sum()"
   ]
  },
  {
   "cell_type": "code",
   "execution_count": 27,
   "metadata": {},
   "outputs": [],
   "source": [
    "visas_df['wage_offer_merged'].median()\n",
    "clean_df = pd.DataFrame()\n",
    "clean_df['wage_offer_merged'] = visas_df['wage_offer_merged']"
   ]
  },
  {
   "cell_type": "code",
   "execution_count": 28,
   "metadata": {
    "pycharm": {
     "name": "#%%\n"
    }
   },
   "outputs": [
    {
     "data": {
      "text/html": [
       "<div>\n",
       "<style scoped>\n",
       "    .dataframe tbody tr th:only-of-type {\n",
       "        vertical-align: middle;\n",
       "    }\n",
       "\n",
       "    .dataframe tbody tr th {\n",
       "        vertical-align: top;\n",
       "    }\n",
       "\n",
       "    .dataframe thead th {\n",
       "        text-align: right;\n",
       "    }\n",
       "</style>\n",
       "<table border=\"1\" class=\"dataframe\">\n",
       "  <thead>\n",
       "    <tr style=\"text-align: right;\">\n",
       "      <th></th>\n",
       "      <th>wage_offer_merged</th>\n",
       "    </tr>\n",
       "  </thead>\n",
       "  <tbody>\n",
       "    <tr>\n",
       "      <th>0</th>\n",
       "      <td>75629.00</td>\n",
       "    </tr>\n",
       "    <tr>\n",
       "      <th>1</th>\n",
       "      <td>37024.00</td>\n",
       "    </tr>\n",
       "    <tr>\n",
       "      <th>2</th>\n",
       "      <td>47923.00</td>\n",
       "    </tr>\n",
       "    <tr>\n",
       "      <th>3</th>\n",
       "      <td>10.97</td>\n",
       "    </tr>\n",
       "    <tr>\n",
       "      <th>4</th>\n",
       "      <td>100000.00</td>\n",
       "    </tr>\n",
       "  </tbody>\n",
       "</table>\n",
       "</div>"
      ],
      "text/plain": [
       "   wage_offer_merged\n",
       "0           75629.00\n",
       "1           37024.00\n",
       "2           47923.00\n",
       "3              10.97\n",
       "4          100000.00"
      ]
     },
     "execution_count": 28,
     "metadata": {},
     "output_type": "execute_result"
    }
   ],
   "source": [
    "clean_df.head()\n"
   ]
  },
  {
   "cell_type": "markdown",
   "metadata": {},
   "source": [
    "---\n",
    "# Cleaning up wage_offer_unit"
   ]
  },
  {
   "cell_type": "code",
   "execution_count": 29,
   "metadata": {},
   "outputs": [
    {
     "name": "stderr",
     "output_type": "stream",
     "text": [
      "C:\\Users\\andre\\anaconda3\\lib\\site-packages\\IPython\\core\\interactiveshell.py:3146: DtypeWarning: Columns (150,153) have mixed types.Specify dtype option on import or set low_memory=False.\n",
      "  has_raised = await self.run_ast_nodes(code_ast.body, cell_name,\n"
     ]
    },
    {
     "data": {
      "text/html": [
       "<div>\n",
       "<style scoped>\n",
       "    .dataframe tbody tr th:only-of-type {\n",
       "        vertical-align: middle;\n",
       "    }\n",
       "\n",
       "    .dataframe tbody tr th {\n",
       "        vertical-align: top;\n",
       "    }\n",
       "\n",
       "    .dataframe thead th {\n",
       "        text-align: right;\n",
       "    }\n",
       "</style>\n",
       "<table border=\"1\" class=\"dataframe\">\n",
       "  <thead>\n",
       "    <tr style=\"text-align: right;\">\n",
       "      <th></th>\n",
       "      <th>wage_offer_unit_of_pay_9089</th>\n",
       "      <th>wage_offered_unit_of_pay_9089</th>\n",
       "    </tr>\n",
       "  </thead>\n",
       "  <tbody>\n",
       "    <tr>\n",
       "      <th>0</th>\n",
       "      <td>yr</td>\n",
       "      <td>NaN</td>\n",
       "    </tr>\n",
       "    <tr>\n",
       "      <th>1</th>\n",
       "      <td>yr</td>\n",
       "      <td>NaN</td>\n",
       "    </tr>\n",
       "    <tr>\n",
       "      <th>2</th>\n",
       "      <td>yr</td>\n",
       "      <td>NaN</td>\n",
       "    </tr>\n",
       "    <tr>\n",
       "      <th>3</th>\n",
       "      <td>hr</td>\n",
       "      <td>NaN</td>\n",
       "    </tr>\n",
       "    <tr>\n",
       "      <th>4</th>\n",
       "      <td>yr</td>\n",
       "      <td>NaN</td>\n",
       "    </tr>\n",
       "  </tbody>\n",
       "</table>\n",
       "</div>"
      ],
      "text/plain": [
       "  wage_offer_unit_of_pay_9089 wage_offered_unit_of_pay_9089\n",
       "0                          yr                           NaN\n",
       "1                          yr                           NaN\n",
       "2                          yr                           NaN\n",
       "3                          hr                           NaN\n",
       "4                          yr                           NaN"
      ]
     },
     "execution_count": 29,
     "metadata": {},
     "output_type": "execute_result"
    }
   ],
   "source": [
    "col_list= [\"wage_offer_unit_of_pay_9089\", \"wage_offered_unit_of_pay_9089\"]\n",
    "visas_df = pd.read_csv(\"data/us_perm_visas.csv\", usecols=col_list)\n",
    "visas_df.head ()"
   ]
  },
  {
   "cell_type": "code",
   "execution_count": 30,
   "metadata": {},
   "outputs": [
    {
     "data": {
      "text/html": [
       "<div>\n",
       "<style scoped>\n",
       "    .dataframe tbody tr th:only-of-type {\n",
       "        vertical-align: middle;\n",
       "    }\n",
       "\n",
       "    .dataframe tbody tr th {\n",
       "        vertical-align: top;\n",
       "    }\n",
       "\n",
       "    .dataframe thead th {\n",
       "        text-align: right;\n",
       "    }\n",
       "</style>\n",
       "<table border=\"1\" class=\"dataframe\">\n",
       "  <thead>\n",
       "    <tr style=\"text-align: right;\">\n",
       "      <th></th>\n",
       "      <th>wage_offer_unit_of_pay_9089</th>\n",
       "      <th>wage_offered_unit_of_pay_9089</th>\n",
       "    </tr>\n",
       "  </thead>\n",
       "  <tbody>\n",
       "    <tr>\n",
       "      <th>284200</th>\n",
       "      <td>Year</td>\n",
       "      <td>NaN</td>\n",
       "    </tr>\n",
       "    <tr>\n",
       "      <th>141283</th>\n",
       "      <td>Year</td>\n",
       "      <td>NaN</td>\n",
       "    </tr>\n",
       "    <tr>\n",
       "      <th>323702</th>\n",
       "      <td>Year</td>\n",
       "      <td>NaN</td>\n",
       "    </tr>\n",
       "    <tr>\n",
       "      <th>204529</th>\n",
       "      <td>Year</td>\n",
       "      <td>NaN</td>\n",
       "    </tr>\n",
       "    <tr>\n",
       "      <th>124205</th>\n",
       "      <td>NaN</td>\n",
       "      <td>Year</td>\n",
       "    </tr>\n",
       "    <tr>\n",
       "      <th>283943</th>\n",
       "      <td>Year</td>\n",
       "      <td>NaN</td>\n",
       "    </tr>\n",
       "    <tr>\n",
       "      <th>238897</th>\n",
       "      <td>Year</td>\n",
       "      <td>NaN</td>\n",
       "    </tr>\n",
       "    <tr>\n",
       "      <th>21808</th>\n",
       "      <td>NaN</td>\n",
       "      <td>NaN</td>\n",
       "    </tr>\n",
       "    <tr>\n",
       "      <th>44618</th>\n",
       "      <td>NaN</td>\n",
       "      <td>NaN</td>\n",
       "    </tr>\n",
       "    <tr>\n",
       "      <th>146576</th>\n",
       "      <td>Year</td>\n",
       "      <td>NaN</td>\n",
       "    </tr>\n",
       "    <tr>\n",
       "      <th>299372</th>\n",
       "      <td>Year</td>\n",
       "      <td>NaN</td>\n",
       "    </tr>\n",
       "    <tr>\n",
       "      <th>356387</th>\n",
       "      <td>Year</td>\n",
       "      <td>NaN</td>\n",
       "    </tr>\n",
       "    <tr>\n",
       "      <th>32325</th>\n",
       "      <td>NaN</td>\n",
       "      <td>NaN</td>\n",
       "    </tr>\n",
       "    <tr>\n",
       "      <th>277489</th>\n",
       "      <td>Year</td>\n",
       "      <td>NaN</td>\n",
       "    </tr>\n",
       "    <tr>\n",
       "      <th>3741</th>\n",
       "      <td>yr</td>\n",
       "      <td>NaN</td>\n",
       "    </tr>\n",
       "    <tr>\n",
       "      <th>1726</th>\n",
       "      <td>yr</td>\n",
       "      <td>NaN</td>\n",
       "    </tr>\n",
       "    <tr>\n",
       "      <th>188371</th>\n",
       "      <td>Year</td>\n",
       "      <td>NaN</td>\n",
       "    </tr>\n",
       "    <tr>\n",
       "      <th>34189</th>\n",
       "      <td>NaN</td>\n",
       "      <td>NaN</td>\n",
       "    </tr>\n",
       "    <tr>\n",
       "      <th>88037</th>\n",
       "      <td>NaN</td>\n",
       "      <td>Year</td>\n",
       "    </tr>\n",
       "    <tr>\n",
       "      <th>125284</th>\n",
       "      <td>NaN</td>\n",
       "      <td>Year</td>\n",
       "    </tr>\n",
       "    <tr>\n",
       "      <th>369842</th>\n",
       "      <td>Year</td>\n",
       "      <td>NaN</td>\n",
       "    </tr>\n",
       "    <tr>\n",
       "      <th>267221</th>\n",
       "      <td>Year</td>\n",
       "      <td>NaN</td>\n",
       "    </tr>\n",
       "    <tr>\n",
       "      <th>96376</th>\n",
       "      <td>NaN</td>\n",
       "      <td>Year</td>\n",
       "    </tr>\n",
       "    <tr>\n",
       "      <th>58154</th>\n",
       "      <td>NaN</td>\n",
       "      <td>NaN</td>\n",
       "    </tr>\n",
       "    <tr>\n",
       "      <th>250238</th>\n",
       "      <td>Year</td>\n",
       "      <td>NaN</td>\n",
       "    </tr>\n",
       "    <tr>\n",
       "      <th>147082</th>\n",
       "      <td>Year</td>\n",
       "      <td>NaN</td>\n",
       "    </tr>\n",
       "    <tr>\n",
       "      <th>20773</th>\n",
       "      <td>NaN</td>\n",
       "      <td>NaN</td>\n",
       "    </tr>\n",
       "    <tr>\n",
       "      <th>371405</th>\n",
       "      <td>Year</td>\n",
       "      <td>NaN</td>\n",
       "    </tr>\n",
       "    <tr>\n",
       "      <th>372645</th>\n",
       "      <td>Year</td>\n",
       "      <td>NaN</td>\n",
       "    </tr>\n",
       "    <tr>\n",
       "      <th>343109</th>\n",
       "      <td>Year</td>\n",
       "      <td>NaN</td>\n",
       "    </tr>\n",
       "    <tr>\n",
       "      <th>75659</th>\n",
       "      <td>NaN</td>\n",
       "      <td>Year</td>\n",
       "    </tr>\n",
       "    <tr>\n",
       "      <th>241108</th>\n",
       "      <td>Year</td>\n",
       "      <td>NaN</td>\n",
       "    </tr>\n",
       "    <tr>\n",
       "      <th>285577</th>\n",
       "      <td>Year</td>\n",
       "      <td>NaN</td>\n",
       "    </tr>\n",
       "    <tr>\n",
       "      <th>121852</th>\n",
       "      <td>NaN</td>\n",
       "      <td>Year</td>\n",
       "    </tr>\n",
       "    <tr>\n",
       "      <th>345699</th>\n",
       "      <td>Year</td>\n",
       "      <td>NaN</td>\n",
       "    </tr>\n",
       "    <tr>\n",
       "      <th>261931</th>\n",
       "      <td>Year</td>\n",
       "      <td>NaN</td>\n",
       "    </tr>\n",
       "    <tr>\n",
       "      <th>249497</th>\n",
       "      <td>Year</td>\n",
       "      <td>NaN</td>\n",
       "    </tr>\n",
       "    <tr>\n",
       "      <th>9675</th>\n",
       "      <td>yr</td>\n",
       "      <td>NaN</td>\n",
       "    </tr>\n",
       "    <tr>\n",
       "      <th>17191</th>\n",
       "      <td>yr</td>\n",
       "      <td>NaN</td>\n",
       "    </tr>\n",
       "    <tr>\n",
       "      <th>214474</th>\n",
       "      <td>Year</td>\n",
       "      <td>NaN</td>\n",
       "    </tr>\n",
       "    <tr>\n",
       "      <th>93656</th>\n",
       "      <td>NaN</td>\n",
       "      <td>Year</td>\n",
       "    </tr>\n",
       "    <tr>\n",
       "      <th>234712</th>\n",
       "      <td>Year</td>\n",
       "      <td>NaN</td>\n",
       "    </tr>\n",
       "    <tr>\n",
       "      <th>270747</th>\n",
       "      <td>Year</td>\n",
       "      <td>NaN</td>\n",
       "    </tr>\n",
       "    <tr>\n",
       "      <th>90172</th>\n",
       "      <td>NaN</td>\n",
       "      <td>Year</td>\n",
       "    </tr>\n",
       "    <tr>\n",
       "      <th>343861</th>\n",
       "      <td>Year</td>\n",
       "      <td>NaN</td>\n",
       "    </tr>\n",
       "    <tr>\n",
       "      <th>73961</th>\n",
       "      <td>NaN</td>\n",
       "      <td>Year</td>\n",
       "    </tr>\n",
       "    <tr>\n",
       "      <th>177685</th>\n",
       "      <td>Year</td>\n",
       "      <td>NaN</td>\n",
       "    </tr>\n",
       "    <tr>\n",
       "      <th>187561</th>\n",
       "      <td>Year</td>\n",
       "      <td>NaN</td>\n",
       "    </tr>\n",
       "    <tr>\n",
       "      <th>217810</th>\n",
       "      <td>Year</td>\n",
       "      <td>NaN</td>\n",
       "    </tr>\n",
       "    <tr>\n",
       "      <th>118967</th>\n",
       "      <td>NaN</td>\n",
       "      <td>Year</td>\n",
       "    </tr>\n",
       "  </tbody>\n",
       "</table>\n",
       "</div>"
      ],
      "text/plain": [
       "       wage_offer_unit_of_pay_9089 wage_offered_unit_of_pay_9089\n",
       "284200                        Year                           NaN\n",
       "141283                        Year                           NaN\n",
       "323702                        Year                           NaN\n",
       "204529                        Year                           NaN\n",
       "124205                         NaN                          Year\n",
       "283943                        Year                           NaN\n",
       "238897                        Year                           NaN\n",
       "21808                          NaN                           NaN\n",
       "44618                          NaN                           NaN\n",
       "146576                        Year                           NaN\n",
       "299372                        Year                           NaN\n",
       "356387                        Year                           NaN\n",
       "32325                          NaN                           NaN\n",
       "277489                        Year                           NaN\n",
       "3741                            yr                           NaN\n",
       "1726                            yr                           NaN\n",
       "188371                        Year                           NaN\n",
       "34189                          NaN                           NaN\n",
       "88037                          NaN                          Year\n",
       "125284                         NaN                          Year\n",
       "369842                        Year                           NaN\n",
       "267221                        Year                           NaN\n",
       "96376                          NaN                          Year\n",
       "58154                          NaN                           NaN\n",
       "250238                        Year                           NaN\n",
       "147082                        Year                           NaN\n",
       "20773                          NaN                           NaN\n",
       "371405                        Year                           NaN\n",
       "372645                        Year                           NaN\n",
       "343109                        Year                           NaN\n",
       "75659                          NaN                          Year\n",
       "241108                        Year                           NaN\n",
       "285577                        Year                           NaN\n",
       "121852                         NaN                          Year\n",
       "345699                        Year                           NaN\n",
       "261931                        Year                           NaN\n",
       "249497                        Year                           NaN\n",
       "9675                            yr                           NaN\n",
       "17191                           yr                           NaN\n",
       "214474                        Year                           NaN\n",
       "93656                          NaN                          Year\n",
       "234712                        Year                           NaN\n",
       "270747                        Year                           NaN\n",
       "90172                          NaN                          Year\n",
       "343861                        Year                           NaN\n",
       "73961                          NaN                          Year\n",
       "177685                        Year                           NaN\n",
       "187561                        Year                           NaN\n",
       "217810                        Year                           NaN\n",
       "118967                         NaN                          Year"
      ]
     },
     "execution_count": 30,
     "metadata": {},
     "output_type": "execute_result"
    }
   ],
   "source": [
    "visas_df.sample(50)"
   ]
  },
  {
   "cell_type": "code",
   "execution_count": 31,
   "metadata": {},
   "outputs": [
    {
     "data": {
      "text/plain": [
       "Year         230591\n",
       "yr            19733\n",
       "Hour           7038\n",
       "hr              781\n",
       "Week            142\n",
       "Month            81\n",
       "wk               30\n",
       "mth              21\n",
       "Bi-Weekly        20\n",
       "bi                9\n",
       "Name: wage_offer_unit_of_pay_9089, dtype: int64"
      ]
     },
     "execution_count": 31,
     "metadata": {},
     "output_type": "execute_result"
    }
   ],
   "source": [
    "visas_df['wage_offer_unit_of_pay_9089'].value_counts()"
   ]
  },
  {
   "cell_type": "code",
   "execution_count": 32,
   "metadata": {},
   "outputs": [
    {
     "data": {
      "text/plain": [
       "Year         68950\n",
       "Hour          1651\n",
       "Week            58\n",
       "Month           39\n",
       "Bi-Weekly        1\n",
       "Name: wage_offered_unit_of_pay_9089, dtype: int64"
      ]
     },
     "execution_count": 32,
     "metadata": {},
     "output_type": "execute_result"
    }
   ],
   "source": [
    "visas_df['wage_offered_unit_of_pay_9089'].value_counts()"
   ]
  },
  {
   "cell_type": "markdown",
   "metadata": {},
   "source": [
    "wage_offer_unit_of_pay_9089 has to be cleaned. We'll deal with this issue after the merge. "
   ]
  },
  {
   "cell_type": "code",
   "execution_count": 33,
   "metadata": {
    "pycharm": {
     "name": "#%%\n"
    }
   },
   "outputs": [
    {
     "name": "stdout",
     "output_type": "stream",
     "text": [
      "wage_offer_unit_of_pay_9089\n",
      "258446/374362 69%\n",
      "\r",
      "Filled: |██████████████████████████████████----------------| 69.0% Rows\r\n"
     ]
    },
    {
     "data": {
      "image/png": "[encoded data removed]",
      "text/plain": [
       "<Figure size 1152x288 with 1 Axes>"
      ]
     },
     "metadata": {
      "needs_background": "light"
     },
     "output_type": "display_data"
    },
    {
     "name": "stdout",
     "output_type": "stream",
     "text": [
      "\n",
      "wage_offered_unit_of_pay_9089\n",
      "70699/374362 19%\n",
      "\r",
      "Filled: |█████████-----------------------------------------| 18.9% Rows\r\n"
     ]
    },
    {
     "data": {
      "image/png": "[encoded data removed]",
      "text/plain": [
       "<Figure size 1152x288 with 1 Axes>"
      ]
     },
     "metadata": {
      "needs_background": "light"
     },
     "output_type": "display_data"
    },
    {
     "name": "stdout",
     "output_type": "stream",
     "text": [
      "\n"
     ]
    }
   ],
   "source": [
    "modules.print_count_of_values_relation(visas_df, True, True)"
   ]
  },
  {
   "cell_type": "markdown",
   "metadata": {},
   "source": [
    "The dristribution of values reveals a problem. Between an index of 25.000 and 75.000 or dataset contains no value for the unit of pay."
   ]
  },
  {
   "cell_type": "markdown",
   "metadata": {
    "pycharm": {
     "name": "#%% md\n"
    }
   },
   "source": [
    "We will merge the both columns and take a closer look at the values they are containing."
   ]
  },
  {
   "cell_type": "code",
   "execution_count": 34,
   "metadata": {},
   "outputs": [],
   "source": [
    "visas_df['wage_offer_unit_merged'] = visas_df['wage_offer_unit_of_pay_9089'].fillna('') + visas_df['wage_offered_unit_of_pay_9089'].fillna('')"
   ]
  },
  {
   "cell_type": "code",
   "execution_count": 35,
   "metadata": {
    "scrolled": true
   },
   "outputs": [],
   "source": [
    "visas_df['wage_offer_unit_merged'].replace('', np.nan, inplace=True)"
   ]
  },
  {
   "cell_type": "code",
   "execution_count": 36,
   "metadata": {},
   "outputs": [
    {
     "data": {
      "text/plain": [
       "Year         299541\n",
       "yr            19733\n",
       "Hour           8689\n",
       "hr              781\n",
       "Week            200\n",
       "Month           120\n",
       "wk               30\n",
       "mth              21\n",
       "Bi-Weekly        21\n",
       "bi                9\n",
       "Name: wage_offer_unit_merged, dtype: int64"
      ]
     },
     "execution_count": 36,
     "metadata": {},
     "output_type": "execute_result"
    }
   ],
   "source": [
    "visas_df['wage_offer_unit_merged'].value_counts()"
   ]
  },
  {
   "cell_type": "code",
   "execution_count": 37,
   "metadata": {
    "pycharm": {
     "name": "#%%\n"
    }
   },
   "outputs": [],
   "source": [
    "unit_abbreviations = {\n",
    "  \"Year\": \"yr\",\n",
    "  \"Month\": \"mth\",\n",
    "  \"Bi-Weekly\": \"bi\",\n",
    "  \"Week\": \"wk\",\n",
    "  \"Hour\": \"hr\"\n",
    "}"
   ]
  },
  {
   "cell_type": "code",
   "execution_count": 38,
   "metadata": {
    "pycharm": {
     "name": "#%%\n"
    }
   },
   "outputs": [],
   "source": [
    "visas_df['wage_offer_unit_merged'] = visas_df['wage_offer_unit_merged'].replace(unit_abbreviations)"
   ]
  },
  {
   "cell_type": "code",
   "execution_count": 39,
   "metadata": {
    "pycharm": {
     "name": "#%%\n"
    }
   },
   "outputs": [
    {
     "data": {
      "text/plain": [
       "yr     319274\n",
       "hr       9470\n",
       "wk        230\n",
       "mth       141\n",
       "bi         30\n",
       "Name: wage_offer_unit_merged, dtype: int64"
      ]
     },
     "execution_count": 39,
     "metadata": {},
     "output_type": "execute_result"
    }
   ],
   "source": [
    "visas_df['wage_offer_unit_merged'].value_counts()"
   ]
  },
  {
   "cell_type": "code",
   "execution_count": 40,
   "metadata": {
    "pycharm": {
     "name": "#%%\n"
    }
   },
   "outputs": [
    {
     "name": "stdout",
     "output_type": "stream",
     "text": [
      "wage_offer_unit_of_pay_9089\n",
      "258446/374362 69%\n",
      "\r",
      "Filled: |██████████████████████████████████----------------| 69.0% Rows\r\n"
     ]
    },
    {
     "data": {
      "image/png": "[encoded data removed]",
      "text/plain": [
       "<Figure size 1152x288 with 1 Axes>"
      ]
     },
     "metadata": {
      "needs_background": "light"
     },
     "output_type": "display_data"
    },
    {
     "name": "stdout",
     "output_type": "stream",
     "text": [
      "\n",
      "wage_offered_unit_of_pay_9089\n",
      "70699/374362 19%\n",
      "\r",
      "Filled: |█████████-----------------------------------------| 18.9% Rows\r\n"
     ]
    },
    {
     "data": {
      "image/png": "[encoded data removed]",
      "text/plain": [
       "<Figure size 1152x288 with 1 Axes>"
      ]
     },
     "metadata": {
      "needs_background": "light"
     },
     "output_type": "display_data"
    },
    {
     "name": "stdout",
     "output_type": "stream",
     "text": [
      "\n",
      "wage_offer_unit_merged\n",
      "329145/374362 88%\n",
      "\r",
      "Filled: |███████████████████████████████████████████-------| 87.9% Rows\r\n"
     ]
    },
    {
     "data": {
      "image/png": "[encoded data removed]",
      "text/plain": [
       "<Figure size 1152x288 with 1 Axes>"
      ]
     },
     "metadata": {
      "needs_background": "light"
     },
     "output_type": "display_data"
    },
    {
     "name": "stdout",
     "output_type": "stream",
     "text": [
      "\n"
     ]
    }
   ],
   "source": [
    "\n",
    "modules.print_count_of_values_relation(visas_df, True, True)"
   ]
  },
  {
   "cell_type": "markdown",
   "metadata": {
    "pycharm": {
     "name": "#%% md\n"
    }
   },
   "source": [
    "The gap remains, considering the gap is realtively small and we have lot's of values, we'll ignore the gap in the further analysis.\n"
   ]
  },
  {
   "cell_type": "code",
   "execution_count": 41,
   "metadata": {
    "pycharm": {
     "name": "#%%\n"
    }
   },
   "outputs": [],
   "source": [
    "clean_df['wage_offer_unit'] = visas_df['wage_offer_unit_merged']"
   ]
  },
  {
   "cell_type": "code",
   "execution_count": 42,
   "metadata": {
    "pycharm": {
     "name": "#%%\n"
    }
   },
   "outputs": [
    {
     "data": {
      "text/html": [
       "<div>\n",
       "<style scoped>\n",
       "    .dataframe tbody tr th:only-of-type {\n",
       "        vertical-align: middle;\n",
       "    }\n",
       "\n",
       "    .dataframe tbody tr th {\n",
       "        vertical-align: top;\n",
       "    }\n",
       "\n",
       "    .dataframe thead th {\n",
       "        text-align: right;\n",
       "    }\n",
       "</style>\n",
       "<table border=\"1\" class=\"dataframe\">\n",
       "  <thead>\n",
       "    <tr style=\"text-align: right;\">\n",
       "      <th></th>\n",
       "      <th>wage_offer_merged</th>\n",
       "      <th>wage_offer_unit</th>\n",
       "    </tr>\n",
       "  </thead>\n",
       "  <tbody>\n",
       "    <tr>\n",
       "      <th>0</th>\n",
       "      <td>75629.00</td>\n",
       "      <td>yr</td>\n",
       "    </tr>\n",
       "    <tr>\n",
       "      <th>1</th>\n",
       "      <td>37024.00</td>\n",
       "      <td>yr</td>\n",
       "    </tr>\n",
       "    <tr>\n",
       "      <th>2</th>\n",
       "      <td>47923.00</td>\n",
       "      <td>yr</td>\n",
       "    </tr>\n",
       "    <tr>\n",
       "      <th>3</th>\n",
       "      <td>10.97</td>\n",
       "      <td>hr</td>\n",
       "    </tr>\n",
       "    <tr>\n",
       "      <th>4</th>\n",
       "      <td>100000.00</td>\n",
       "      <td>yr</td>\n",
       "    </tr>\n",
       "  </tbody>\n",
       "</table>\n",
       "</div>"
      ],
      "text/plain": [
       "   wage_offer_merged wage_offer_unit\n",
       "0           75629.00              yr\n",
       "1           37024.00              yr\n",
       "2           47923.00              yr\n",
       "3              10.97              hr\n",
       "4          100000.00              yr"
      ]
     },
     "execution_count": 42,
     "metadata": {},
     "output_type": "execute_result"
    }
   ],
   "source": [
    "\n",
    "clean_df.head()"
   ]
  },
  {
   "cell_type": "code",
   "execution_count": 43,
   "metadata": {
    "pycharm": {
     "name": "#%%\n"
    }
   },
   "outputs": [
    {
     "data": {
      "text/plain": [
       "wage_offer_unit\n",
       "hr       221.303376\n",
       "bi      1634.519655\n",
       "mth     9005.593357\n",
       "wk     11315.946130\n",
       "yr     96487.857970\n",
       "Name: wage_offer_merged, dtype: float64"
      ]
     },
     "execution_count": 43,
     "metadata": {},
     "output_type": "execute_result"
    }
   ],
   "source": [
    "clean_df.groupby('wage_offer_unit')['wage_offer_merged'].mean().sort_values()"
   ]
  },
  {
   "cell_type": "code",
   "execution_count": 44,
   "metadata": {
    "pycharm": {
     "name": "#%%\n"
    }
   },
   "outputs": [
    {
     "name": "stdout",
     "output_type": "stream",
     "text": [
      "                    count          mean           std      min       25%  \\\n",
      "wage_offer_unit                                                            \n",
      "bi                   29.0   1634.519655   1800.303267     8.00    620.00   \n",
      "hr                 9464.0    221.303376   4614.520453     6.55      8.91   \n",
      "mth                 140.0   9005.593357  16935.140095   800.00   2837.50   \n",
      "wk                  230.0  11315.946130  32412.952643     1.00    420.25   \n",
      "yr               319266.0  96487.857970  82671.176121  2200.60  74402.00   \n",
      "\n",
      "                     50%          75%         max  \n",
      "wage_offer_unit                                    \n",
      "bi                1360.0    1920.0000     10000.0  \n",
      "hr                  11.6      34.0000    188000.0  \n",
      "mth               5000.0    7785.3350    141000.0  \n",
      "wk                 800.0    1788.4675    224000.0  \n",
      "yr               92664.0  114192.0000  13285000.0  \n"
     ]
    }
   ],
   "source": [
    "\n",
    "modules.print_full(clean_df.groupby('wage_offer_unit')['wage_offer_merged'].describe())"
   ]
  },
  {
   "cell_type": "code",
   "execution_count": 45,
   "metadata": {
    "pycharm": {
     "name": "#%%\n"
    }
   },
   "outputs": [
    {
     "name": "stdout",
     "output_type": "stream",
     "text": [
      "wage_offer_unit        \n",
      "bi               18837        10000.00\n",
      "                 281821        2992.33\n",
      "                 338278        2500.00\n",
      "                 372923        2500.00\n",
      "                 17802         2134.50\n",
      "                 264059        2115.38\n",
      "                 3577          2000.00\n",
      "                 260057        1920.00\n",
      "                 348020        1870.00\n",
      "                 358656        1870.00\n",
      "hr               349488      188000.00\n",
      "                 17630       158828.80\n",
      "                 276889      135637.00\n",
      "                 107163      134534.00\n",
      "                 270788      115795.00\n",
      "                 271939      115795.00\n",
      "                 274251      115795.00\n",
      "                 134072      106080.00\n",
      "                 250626      105000.00\n",
      "                 9219         86070.00\n",
      "mth              331286      141000.00\n",
      "                 227399      115149.00\n",
      "                 233941       80000.00\n",
      "                 230390       45000.00\n",
      "                 130654       28746.00\n",
      "                 129057       25000.00\n",
      "                 293886       20833.33\n",
      "                 293887       20833.33\n",
      "                 196466       19698.00\n",
      "                 242841       19554.00\n",
      "wk               7552        224000.00\n",
      "                 96659       151590.00\n",
      "                 343930      139713.00\n",
      "                 79862       126048.00\n",
      "                 252570      122450.00\n",
      "                 105017      115000.00\n",
      "                 302445      112800.00\n",
      "                 20535       110240.00\n",
      "                 238258      110000.00\n",
      "                 244736      108850.00\n",
      "yr               129981    13285000.00\n",
      "                 132696    11494100.00\n",
      "                 132699    11494100.00\n",
      "                 19252     11175840.00\n",
      "                 20366     10501400.00\n",
      "                 84326     10441600.00\n",
      "                 20104      9603360.00\n",
      "                 337637     9582600.00\n",
      "                 89597      7900000.00\n",
      "                 105620     7835400.00\n",
      "Name: wage_offer_merged, dtype: float64\n"
     ]
    }
   ],
   "source": [
    "\n",
    "modules.print_full(clean_df.groupby('wage_offer_unit')['wage_offer_merged'].nlargest(10))"
   ]
  },
  {
   "cell_type": "code",
   "execution_count": null,
   "outputs": [],
   "source": [
    "clean_df.groupby('wage_offer_unit')['wage_offer_merged'].mean().plot()\n",
    "plt.legend(loc=\"upper left\")\n",
    "plt.show()"
   ],
   "metadata": {
    "collapsed": false,
    "pycharm": {
     "name": "#%%\n"
    }
   }
  },
  {
   "cell_type": "markdown",
   "source": [
    "This is unexpected. It was expeced, that hr > week > bi > mth > yr.\n",
    "Anyway we'll leave all units besides yr unseen and concentrate on yr, which has the most occurences."
   ],
   "metadata": {
    "collapsed": false
   }
  },
  {
   "cell_type": "code",
   "execution_count": null,
   "outputs": [],
   "source": [
    "clean_df['wage_offer_unit'].value_counts().plot(kind='pie')"
   ],
   "metadata": {
    "collapsed": false,
    "pycharm": {
     "name": "#%%\n"
    }
   }
  },
  {
   "cell_type": "markdown",
   "source": [
    "Filter all not yr values"
   ],
   "metadata": {
    "collapsed": false
   }
  },
  {
   "cell_type": "code",
   "execution_count": null,
   "outputs": [],
   "source": [
    "new_df = clean_df[clean_df[\"wage_offer_unit\"].str.contains(\"yr\", na=False)]"
   ],
   "metadata": {
    "collapsed": false,
    "pycharm": {
     "name": "#%%\n"
    }
   }
  },
  {
   "cell_type": "code",
   "execution_count": null,
   "outputs": [],
   "source": [
    "clean_df.dtypes"
   ],
   "metadata": {
    "collapsed": false,
    "pycharm": {
     "name": "#%%\n"
    }
   }
  },
  {
   "cell_type": "code",
   "execution_count": null,
   "outputs": [],
   "source": [
    "new_df[\"wage_offer_unit\"].size"
   ],
   "metadata": {
    "collapsed": false,
    "pycharm": {
     "name": "#%%\n"
    }
   }
  },
  {
   "cell_type": "code",
   "execution_count": null,
   "outputs": [],
   "source": [
    "new_df.value_counts()"
   ],
   "metadata": {
    "collapsed": false,
    "pycharm": {
     "name": "#%%\n"
    }
   }
  },
  {
   "cell_type": "code",
   "execution_count": 61,
   "metadata": {
    "pycharm": {
     "name": "#%%\n"
    }
   },
   "outputs": [
    {
     "data": {
      "image/png": "[encoded data removed]",
      "text/plain": [
       "<Figure size 432x288 with 1 Axes>"
      ]
     },
     "metadata": {
      "needs_background": "light"
     },
     "output_type": "display_data"
    }
   ],
   "source": []
  },
  {
   "cell_type": "markdown",
   "metadata": {},
   "source": [
    "This is unexpected. It was expeced, that hr > week > bi > mth > yr.\n",
    "Anyway we'll leave all units besides yr unseen and concentrate on yr, which has the most occurences."
   ]
  },
  {
   "cell_type": "code",
   "execution_count": 63,
   "metadata": {},
   "outputs": [
    {
     "data": {
      "text/plain": [
       "<AxesSubplot:ylabel='wage_offer_unit'>"
      ]
     },
     "execution_count": 63,
     "metadata": {},
     "output_type": "execute_result"
    },
    {
     "data": {
      "image/png": "[encoded data removed]",
      "text/plain": [
       "<Figure size 432x288 with 1 Axes>"
      ]
     },
     "metadata": {},
     "output_type": "display_data"
    }
   ],
   "source": [
    "clean_df['wage_offer_unit'].value_counts().plot(kind='pie')"
   ]
  },
  {
   "cell_type": "markdown",
   "metadata": {},
   "source": [
    "Filter all not yr values"
   ]
  },
  {
   "cell_type": "code",
   "execution_count": 75,
   "metadata": {},
   "outputs": [],
   "source": [
    "new_df = clean_df[clean_df[\"wage_offer_unit\"].str.contains(\"yr\", na=False)]"
   ]
  },
  {
   "cell_type": "code",
   "execution_count": 76,
   "metadata": {},
   "outputs": [
    {
     "data": {
      "text/plain": [
       "wage_offer_merged    float64\n",
       "wage_offer_unit       object\n",
       "dtype: object"
      ]
     },
     "execution_count": 76,
     "metadata": {},
     "output_type": "execute_result"
    }
   ],
   "source": [
    "clean_df.dtypes"
   ]
  },
  {
   "cell_type": "code",
   "execution_count": 79,
   "metadata": {},
   "outputs": [
    {
     "data": {
      "text/plain": [
       "319274"
      ]
     },
     "execution_count": 79,
     "metadata": {},
     "output_type": "execute_result"
    }
   ],
   "source": [
    "new_df[\"wage_offer_unit\"].size"
   ]
  },
  {
   "cell_type": "code",
   "execution_count": 78,
   "metadata": {},
   "outputs": [
    {
     "data": {
      "text/plain": [
       "wage_offer_merged  wage_offer_unit\n",
       "90000.00           yr                 3499\n",
       "110000.00          yr                 3041\n",
       "100000.00          yr                 3038\n",
       "120000.00          yr                 3015\n",
       "72467.00           yr                 2839\n",
       "                                      ... \n",
       "105487.00          yr                    1\n",
       "105489.00          yr                    1\n",
       "105494.00          yr                    1\n",
       "105499.89          yr                    1\n",
       "2200.60            yr                    1\n",
       "Length: 32662, dtype: int64"
      ]
     },
     "execution_count": 78,
     "metadata": {},
     "output_type": "execute_result"
    }
   ],
   "source": [
    "new_df.value_counts()"
   ]
  },
  {
   "cell_type": "code",
   "execution_count": null,
   "metadata": {},
   "outputs": [],
   "source": []
  }
 ],
 "metadata": {
  "kernelspec": {
   "display_name": "Python 3",
   "language": "python",
   "name": "python3"
  },
  "language_info": {
   "codemirror_mode": {
    "name": "ipython",
    "version": 3
   },
   "file_extension": ".py",
   "mimetype": "text/x-python",
   "name": "python",
   "nbconvert_exporter": "python",
   "pygments_lexer": "ipython3",
   "version": "3.8.5"
  }
 },
 "nbformat": 4,
 "nbformat_minor": 1
}