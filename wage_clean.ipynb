{
 "cells": [
  {
   "cell_type": "code",
   "execution_count": 13,
   "outputs": [],
   "source": [
    "import pandas as pd\n",
    "import importlib\n"
   ],
   "metadata": {
    "collapsed": false,
    "pycharm": {
     "name": "#%%\n"
    }
   }
  },
  {
   "cell_type": "code",
   "execution_count": 14,
   "metadata": {
    "collapsed": true
   },
   "outputs": [
    {
     "name": "stderr",
     "output_type": "stream",
     "text": [
      "C:\\Users\\andre\\anaconda3\\lib\\site-packages\\IPython\\core\\interactiveshell.py:3146: DtypeWarning: Columns (148) have mixed types.Specify dtype option on import or set low_memory=False.\n",
      "  has_raised = await self.run_ast_nodes(code_ast.body, cell_name,\n"
     ]
    },
    {
     "data": {
      "text/plain": "  wage_offer_from_9089\n0                75629\n1                37024\n2                47923\n3                10.97\n4               100000",
      "text/html": "<div>\n<style scoped>\n    .dataframe tbody tr th:only-of-type {\n        vertical-align: middle;\n    }\n\n    .dataframe tbody tr th {\n        vertical-align: top;\n    }\n\n    .dataframe thead th {\n        text-align: right;\n    }\n</style>\n<table border=\"1\" class=\"dataframe\">\n  <thead>\n    <tr style=\"text-align: right;\">\n      <th></th>\n      <th>wage_offer_from_9089</th>\n    </tr>\n  </thead>\n  <tbody>\n    <tr>\n      <th>0</th>\n      <td>75629</td>\n    </tr>\n    <tr>\n      <th>1</th>\n      <td>37024</td>\n    </tr>\n    <tr>\n      <th>2</th>\n      <td>47923</td>\n    </tr>\n    <tr>\n      <th>3</th>\n      <td>10.97</td>\n    </tr>\n    <tr>\n      <th>4</th>\n      <td>100000</td>\n    </tr>\n  </tbody>\n</table>\n</div>"
     },
     "execution_count": 14,
     "metadata": {},
     "output_type": "execute_result"
    }
   ],
   "source": [
    "col_list= [\"wage_offer_from_9089\"]\n",
    "visas_df = pd.read_csv(\"data/us_perm_visas.csv\", usecols=col_list)\n",
    "visas_df.head ()"
   ]
  },
  {
   "cell_type": "code",
   "execution_count": 15,
   "outputs": [
    {
     "data": {
      "text/plain": "wage_offer_from_9089    object\ndtype: object"
     },
     "execution_count": 15,
     "metadata": {},
     "output_type": "execute_result"
    }
   ],
   "source": [
    "cleanup_df = visas_df.copy()\n",
    "cleanup_df.dtypes"
   ],
   "metadata": {
    "collapsed": false,
    "pycharm": {
     "name": "#%%\n"
    }
   }
  },
  {
   "cell_type": "code",
   "execution_count": 16,
   "outputs": [
    {
     "ename": "ValueError",
     "evalue": "could not convert string to float: '90,000.00'",
     "output_type": "error",
     "traceback": [
      "\u001B[1;31m---------------------------------------------------------------------------\u001B[0m",
      "\u001B[1;31mValueError\u001B[0m                                Traceback (most recent call last)",
      "\u001B[1;32m<ipython-input-16-3178a1fb26f4>\u001B[0m in \u001B[0;36m<module>\u001B[1;34m\u001B[0m\n\u001B[1;32m----> 1\u001B[1;33m \u001B[0mcleanup_df\u001B[0m\u001B[1;33m[\u001B[0m\u001B[1;34m\"wage_offer_from_9089\"\u001B[0m\u001B[1;33m]\u001B[0m\u001B[1;33m.\u001B[0m\u001B[0mastype\u001B[0m\u001B[1;33m(\u001B[0m\u001B[1;34m'float'\u001B[0m\u001B[1;33m)\u001B[0m\u001B[1;33m\u001B[0m\u001B[1;33m\u001B[0m\u001B[0m\n\u001B[0m",
      "\u001B[1;32m~\\anaconda3\\lib\\site-packages\\pandas\\core\\generic.py\u001B[0m in \u001B[0;36mastype\u001B[1;34m(self, dtype, copy, errors)\u001B[0m\n\u001B[0;32m   5544\u001B[0m         \u001B[1;32melse\u001B[0m\u001B[1;33m:\u001B[0m\u001B[1;33m\u001B[0m\u001B[1;33m\u001B[0m\u001B[0m\n\u001B[0;32m   5545\u001B[0m             \u001B[1;31m# else, only a single dtype is given\u001B[0m\u001B[1;33m\u001B[0m\u001B[1;33m\u001B[0m\u001B[1;33m\u001B[0m\u001B[0m\n\u001B[1;32m-> 5546\u001B[1;33m             \u001B[0mnew_data\u001B[0m \u001B[1;33m=\u001B[0m \u001B[0mself\u001B[0m\u001B[1;33m.\u001B[0m\u001B[0m_mgr\u001B[0m\u001B[1;33m.\u001B[0m\u001B[0mastype\u001B[0m\u001B[1;33m(\u001B[0m\u001B[0mdtype\u001B[0m\u001B[1;33m=\u001B[0m\u001B[0mdtype\u001B[0m\u001B[1;33m,\u001B[0m \u001B[0mcopy\u001B[0m\u001B[1;33m=\u001B[0m\u001B[0mcopy\u001B[0m\u001B[1;33m,\u001B[0m \u001B[0merrors\u001B[0m\u001B[1;33m=\u001B[0m\u001B[0merrors\u001B[0m\u001B[1;33m,\u001B[0m\u001B[1;33m)\u001B[0m\u001B[1;33m\u001B[0m\u001B[1;33m\u001B[0m\u001B[0m\n\u001B[0m\u001B[0;32m   5547\u001B[0m             \u001B[1;32mreturn\u001B[0m \u001B[0mself\u001B[0m\u001B[1;33m.\u001B[0m\u001B[0m_constructor\u001B[0m\u001B[1;33m(\u001B[0m\u001B[0mnew_data\u001B[0m\u001B[1;33m)\u001B[0m\u001B[1;33m.\u001B[0m\u001B[0m__finalize__\u001B[0m\u001B[1;33m(\u001B[0m\u001B[0mself\u001B[0m\u001B[1;33m,\u001B[0m \u001B[0mmethod\u001B[0m\u001B[1;33m=\u001B[0m\u001B[1;34m\"astype\"\u001B[0m\u001B[1;33m)\u001B[0m\u001B[1;33m\u001B[0m\u001B[1;33m\u001B[0m\u001B[0m\n\u001B[0;32m   5548\u001B[0m \u001B[1;33m\u001B[0m\u001B[0m\n",
      "\u001B[1;32m~\\anaconda3\\lib\\site-packages\\pandas\\core\\internals\\managers.py\u001B[0m in \u001B[0;36mastype\u001B[1;34m(self, dtype, copy, errors)\u001B[0m\n\u001B[0;32m    593\u001B[0m         \u001B[0mself\u001B[0m\u001B[1;33m,\u001B[0m \u001B[0mdtype\u001B[0m\u001B[1;33m,\u001B[0m \u001B[0mcopy\u001B[0m\u001B[1;33m:\u001B[0m \u001B[0mbool\u001B[0m \u001B[1;33m=\u001B[0m \u001B[1;32mFalse\u001B[0m\u001B[1;33m,\u001B[0m \u001B[0merrors\u001B[0m\u001B[1;33m:\u001B[0m \u001B[0mstr\u001B[0m \u001B[1;33m=\u001B[0m \u001B[1;34m\"raise\"\u001B[0m\u001B[1;33m\u001B[0m\u001B[1;33m\u001B[0m\u001B[0m\n\u001B[0;32m    594\u001B[0m     ) -> \"BlockManager\":\n\u001B[1;32m--> 595\u001B[1;33m         \u001B[1;32mreturn\u001B[0m \u001B[0mself\u001B[0m\u001B[1;33m.\u001B[0m\u001B[0mapply\u001B[0m\u001B[1;33m(\u001B[0m\u001B[1;34m\"astype\"\u001B[0m\u001B[1;33m,\u001B[0m \u001B[0mdtype\u001B[0m\u001B[1;33m=\u001B[0m\u001B[0mdtype\u001B[0m\u001B[1;33m,\u001B[0m \u001B[0mcopy\u001B[0m\u001B[1;33m=\u001B[0m\u001B[0mcopy\u001B[0m\u001B[1;33m,\u001B[0m \u001B[0merrors\u001B[0m\u001B[1;33m=\u001B[0m\u001B[0merrors\u001B[0m\u001B[1;33m)\u001B[0m\u001B[1;33m\u001B[0m\u001B[1;33m\u001B[0m\u001B[0m\n\u001B[0m\u001B[0;32m    596\u001B[0m \u001B[1;33m\u001B[0m\u001B[0m\n\u001B[0;32m    597\u001B[0m     def convert(\n",
      "\u001B[1;32m~\\anaconda3\\lib\\site-packages\\pandas\\core\\internals\\managers.py\u001B[0m in \u001B[0;36mapply\u001B[1;34m(self, f, align_keys, **kwargs)\u001B[0m\n\u001B[0;32m    404\u001B[0m                 \u001B[0mapplied\u001B[0m \u001B[1;33m=\u001B[0m \u001B[0mb\u001B[0m\u001B[1;33m.\u001B[0m\u001B[0mapply\u001B[0m\u001B[1;33m(\u001B[0m\u001B[0mf\u001B[0m\u001B[1;33m,\u001B[0m \u001B[1;33m**\u001B[0m\u001B[0mkwargs\u001B[0m\u001B[1;33m)\u001B[0m\u001B[1;33m\u001B[0m\u001B[1;33m\u001B[0m\u001B[0m\n\u001B[0;32m    405\u001B[0m             \u001B[1;32melse\u001B[0m\u001B[1;33m:\u001B[0m\u001B[1;33m\u001B[0m\u001B[1;33m\u001B[0m\u001B[0m\n\u001B[1;32m--> 406\u001B[1;33m                 \u001B[0mapplied\u001B[0m \u001B[1;33m=\u001B[0m \u001B[0mgetattr\u001B[0m\u001B[1;33m(\u001B[0m\u001B[0mb\u001B[0m\u001B[1;33m,\u001B[0m \u001B[0mf\u001B[0m\u001B[1;33m)\u001B[0m\u001B[1;33m(\u001B[0m\u001B[1;33m**\u001B[0m\u001B[0mkwargs\u001B[0m\u001B[1;33m)\u001B[0m\u001B[1;33m\u001B[0m\u001B[1;33m\u001B[0m\u001B[0m\n\u001B[0m\u001B[0;32m    407\u001B[0m             \u001B[0mresult_blocks\u001B[0m \u001B[1;33m=\u001B[0m \u001B[0m_extend_blocks\u001B[0m\u001B[1;33m(\u001B[0m\u001B[0mapplied\u001B[0m\u001B[1;33m,\u001B[0m \u001B[0mresult_blocks\u001B[0m\u001B[1;33m)\u001B[0m\u001B[1;33m\u001B[0m\u001B[1;33m\u001B[0m\u001B[0m\n\u001B[0;32m    408\u001B[0m \u001B[1;33m\u001B[0m\u001B[0m\n",
      "\u001B[1;32m~\\anaconda3\\lib\\site-packages\\pandas\\core\\internals\\blocks.py\u001B[0m in \u001B[0;36mastype\u001B[1;34m(self, dtype, copy, errors)\u001B[0m\n\u001B[0;32m    593\u001B[0m             \u001B[0mvals1d\u001B[0m \u001B[1;33m=\u001B[0m \u001B[0mvalues\u001B[0m\u001B[1;33m.\u001B[0m\u001B[0mravel\u001B[0m\u001B[1;33m(\u001B[0m\u001B[1;33m)\u001B[0m\u001B[1;33m\u001B[0m\u001B[1;33m\u001B[0m\u001B[0m\n\u001B[0;32m    594\u001B[0m             \u001B[1;32mtry\u001B[0m\u001B[1;33m:\u001B[0m\u001B[1;33m\u001B[0m\u001B[1;33m\u001B[0m\u001B[0m\n\u001B[1;32m--> 595\u001B[1;33m                 \u001B[0mvalues\u001B[0m \u001B[1;33m=\u001B[0m \u001B[0mastype_nansafe\u001B[0m\u001B[1;33m(\u001B[0m\u001B[0mvals1d\u001B[0m\u001B[1;33m,\u001B[0m \u001B[0mdtype\u001B[0m\u001B[1;33m,\u001B[0m \u001B[0mcopy\u001B[0m\u001B[1;33m=\u001B[0m\u001B[1;32mTrue\u001B[0m\u001B[1;33m)\u001B[0m\u001B[1;33m\u001B[0m\u001B[1;33m\u001B[0m\u001B[0m\n\u001B[0m\u001B[0;32m    596\u001B[0m             \u001B[1;32mexcept\u001B[0m \u001B[1;33m(\u001B[0m\u001B[0mValueError\u001B[0m\u001B[1;33m,\u001B[0m \u001B[0mTypeError\u001B[0m\u001B[1;33m)\u001B[0m\u001B[1;33m:\u001B[0m\u001B[1;33m\u001B[0m\u001B[1;33m\u001B[0m\u001B[0m\n\u001B[0;32m    597\u001B[0m                 \u001B[1;31m# e.g. astype_nansafe can fail on object-dtype of strings\u001B[0m\u001B[1;33m\u001B[0m\u001B[1;33m\u001B[0m\u001B[1;33m\u001B[0m\u001B[0m\n",
      "\u001B[1;32m~\\anaconda3\\lib\\site-packages\\pandas\\core\\dtypes\\cast.py\u001B[0m in \u001B[0;36mastype_nansafe\u001B[1;34m(arr, dtype, copy, skipna)\u001B[0m\n\u001B[0;32m    993\u001B[0m     \u001B[1;32mif\u001B[0m \u001B[0mcopy\u001B[0m \u001B[1;32mor\u001B[0m \u001B[0mis_object_dtype\u001B[0m\u001B[1;33m(\u001B[0m\u001B[0marr\u001B[0m\u001B[1;33m)\u001B[0m \u001B[1;32mor\u001B[0m \u001B[0mis_object_dtype\u001B[0m\u001B[1;33m(\u001B[0m\u001B[0mdtype\u001B[0m\u001B[1;33m)\u001B[0m\u001B[1;33m:\u001B[0m\u001B[1;33m\u001B[0m\u001B[1;33m\u001B[0m\u001B[0m\n\u001B[0;32m    994\u001B[0m         \u001B[1;31m# Explicit copy, or required since NumPy can't view from / to object.\u001B[0m\u001B[1;33m\u001B[0m\u001B[1;33m\u001B[0m\u001B[1;33m\u001B[0m\u001B[0m\n\u001B[1;32m--> 995\u001B[1;33m         \u001B[1;32mreturn\u001B[0m \u001B[0marr\u001B[0m\u001B[1;33m.\u001B[0m\u001B[0mastype\u001B[0m\u001B[1;33m(\u001B[0m\u001B[0mdtype\u001B[0m\u001B[1;33m,\u001B[0m \u001B[0mcopy\u001B[0m\u001B[1;33m=\u001B[0m\u001B[1;32mTrue\u001B[0m\u001B[1;33m)\u001B[0m\u001B[1;33m\u001B[0m\u001B[1;33m\u001B[0m\u001B[0m\n\u001B[0m\u001B[0;32m    996\u001B[0m \u001B[1;33m\u001B[0m\u001B[0m\n\u001B[0;32m    997\u001B[0m     \u001B[1;32mreturn\u001B[0m \u001B[0marr\u001B[0m\u001B[1;33m.\u001B[0m\u001B[0mview\u001B[0m\u001B[1;33m(\u001B[0m\u001B[0mdtype\u001B[0m\u001B[1;33m)\u001B[0m\u001B[1;33m\u001B[0m\u001B[1;33m\u001B[0m\u001B[0m\n",
      "\u001B[1;31mValueError\u001B[0m: could not convert string to float: '90,000.00'"
     ]
    }
   ],
   "source": [
    "cleanup_df[\"wage_offer_from_9089\"].astype('float')"
   ],
   "metadata": {
    "collapsed": false,
    "pycharm": {
     "name": "#%%\n"
    }
   }
  },
  {
   "cell_type": "code",
   "execution_count": 17,
   "outputs": [
    {
     "data": {
      "text/plain": "0         <class 'float'>\n1         <class 'float'>\n2         <class 'float'>\n3         <class 'float'>\n4         <class 'float'>\n               ...       \n374357      <class 'str'>\n374358      <class 'str'>\n374359      <class 'str'>\n374360      <class 'str'>\n374361      <class 'str'>\nName: wage_offer_from_9089, Length: 374362, dtype: object"
     },
     "execution_count": 17,
     "metadata": {},
     "output_type": "execute_result"
    }
   ],
   "source": [
    "cleanup_df[\"wage_offer_from_9089\"].apply(type)"
   ],
   "metadata": {
    "collapsed": false,
    "pycharm": {
     "name": "#%%\n"
    }
   }
  },
  {
   "cell_type": "code",
   "execution_count": 18,
   "outputs": [],
   "source": [
    "cleanup_df['wage_Type'] = cleanup_df[\"wage_offer_from_9089\"].apply(lambda x: type(x).__name__)"
   ],
   "metadata": {
    "collapsed": false,
    "pycharm": {
     "name": "#%%\n"
    }
   }
  },
  {
   "cell_type": "code",
   "execution_count": 19,
   "outputs": [
    {
     "data": {
      "text/plain": "  wage_offer_from_9089 wage_Type\n0                75629     float\n1                37024     float\n2                47923     float\n3                10.97     float\n4               100000     float",
      "text/html": "<div>\n<style scoped>\n    .dataframe tbody tr th:only-of-type {\n        vertical-align: middle;\n    }\n\n    .dataframe tbody tr th {\n        vertical-align: top;\n    }\n\n    .dataframe thead th {\n        text-align: right;\n    }\n</style>\n<table border=\"1\" class=\"dataframe\">\n  <thead>\n    <tr style=\"text-align: right;\">\n      <th></th>\n      <th>wage_offer_from_9089</th>\n      <th>wage_Type</th>\n    </tr>\n  </thead>\n  <tbody>\n    <tr>\n      <th>0</th>\n      <td>75629</td>\n      <td>float</td>\n    </tr>\n    <tr>\n      <th>1</th>\n      <td>37024</td>\n      <td>float</td>\n    </tr>\n    <tr>\n      <th>2</th>\n      <td>47923</td>\n      <td>float</td>\n    </tr>\n    <tr>\n      <th>3</th>\n      <td>10.97</td>\n      <td>float</td>\n    </tr>\n    <tr>\n      <th>4</th>\n      <td>100000</td>\n      <td>float</td>\n    </tr>\n  </tbody>\n</table>\n</div>"
     },
     "execution_count": 19,
     "metadata": {},
     "output_type": "execute_result"
    }
   ],
   "source": [
    "\n",
    "cleanup_df.head()"
   ],
   "metadata": {
    "collapsed": false,
    "pycharm": {
     "name": "#%%\n"
    }
   }
  },
  {
   "cell_type": "code",
   "execution_count": 20,
   "outputs": [],
   "source": [
    "import modules"
   ],
   "metadata": {
    "collapsed": false,
    "pycharm": {
     "name": "#%%\n"
    }
   }
  },
  {
   "cell_type": "code",
   "execution_count": 21,
   "outputs": [
    {
     "name": "stdout",
     "output_type": "stream",
     "text": [
      "       wage_offer_from_9089 wage_Type\n",
      "296714               130666     float\n",
      "342703                96000     float\n",
      "276066               210000     float\n",
      "175659                29.01       str\n",
      "248730                98000     float\n",
      "363140           101,088.00       str\n",
      "340709               118000     float\n",
      "358070           102,000.00       str\n",
      "180668            35,776.00       str\n",
      "71967                   NaN     float\n",
      "359711           113,464.00       str\n",
      "250317                16765     float\n",
      "301031               205000     float\n",
      "158409            83,720.00       str\n",
      "248657               125000     float\n",
      "115965                  NaN     float\n",
      "341564               104305     float\n",
      "141195           127,000.00       str\n",
      "190461            75,057.00       str\n",
      "259005              22493.5     float\n",
      "282701                93018     float\n",
      "177045            76,066.00       str\n",
      "373083            20,654.00       str\n",
      "353850            82,784.00       str\n",
      "20194               98446.4     float\n",
      "214104            97,302.00       str\n",
      "15097                 69000     float\n",
      "53548                   NaN     float\n",
      "79443                   NaN     float\n",
      "2451                  80336     float\n",
      "147714            91,270.40       str\n",
      "179377            54,933.00       str\n",
      "135722            69,160.00       str\n",
      "149493           275,000.00       str\n",
      "83614                   NaN     float\n",
      "262967              99847.8     float\n",
      "339518               164382     float\n",
      "9113                  52000     float\n",
      "308229                48.56     float\n",
      "370945           119,350.00       str\n",
      "248206                88000     float\n",
      "126614                  NaN     float\n",
      "202101           120,000.00       str\n",
      "136893           113,000.00       str\n",
      "281581                54205     float\n",
      "295672                83616     float\n",
      "161242           115,000.00       str\n",
      "5252                  73000     float\n",
      "167521            72,467.00       str\n",
      "150928           100,000.00       str\n",
      "262027               154000     float\n",
      "288507                44.09     float\n",
      "64247                   NaN     float\n",
      "338874                74500     float\n",
      "205446            53,414.40       str\n",
      "88248                   NaN     float\n",
      "369996            71,400.00       str\n",
      "293286                 8.05     float\n",
      "31664                   NaN     float\n",
      "113200                  NaN     float\n",
      "249572                77250     float\n",
      "40738                   NaN     float\n",
      "227238                90459     float\n",
      "355175           308,000.00       str\n",
      "70478                   NaN     float\n",
      "188738            97,989.00       str\n",
      "271422                 8.09     float\n",
      "314198               141000     float\n",
      "347646                39354     float\n",
      "284133               140000     float\n",
      "355267            22,880.00       str\n",
      "255544                16765     float\n",
      "113201                  NaN     float\n",
      "269864               138669     float\n",
      "211880           129,355.00       str\n",
      "64720                   NaN     float\n",
      "59516                   NaN     float\n",
      "160447           120,000.00       str\n",
      "273409               161782     float\n",
      "76614                   NaN     float\n",
      "25625                   NaN     float\n",
      "299703               100000     float\n",
      "164672            90,459.00       str\n",
      "229771                76294     float\n",
      "169590           105,560.00       str\n",
      "352807            75,046.00       str\n",
      "126333                  NaN     float\n",
      "90850                   NaN     float\n",
      "354198           120,349.00       str\n",
      "155191            77,000.00       str\n",
      "50345                   NaN     float\n",
      "102553                  NaN     float\n",
      "198195           117,497.00       str\n",
      "75983                   NaN     float\n",
      "128460                  NaN     float\n",
      "307336                26333     float\n",
      "313568               125000     float\n",
      "85263                   NaN     float\n",
      "241863               108000     float\n",
      "108926                  NaN     float\n",
      "116675                  NaN     float\n",
      "114910                  NaN     float\n",
      "290102                80000     float\n",
      "288300                39395     float\n",
      "354245           113,650.00       str\n",
      "356570           155,459.00       str\n",
      "363129                 9.60       str\n",
      "34470                   NaN     float\n",
      "149892            77,896.00       str\n",
      "92473                   NaN     float\n",
      "60291                   NaN     float\n",
      "285372               103000     float\n",
      "38640                   NaN     float\n",
      "265439               133900     float\n",
      "194775           126,630.00       str\n",
      "239046                97406     float\n",
      "284573                16952     float\n",
      "191201            25,709.00       str\n",
      "16604               60114.7     float\n",
      "206180            70,800.00       str\n",
      "7808                 131238     float\n",
      "322169                74862     float\n",
      "155183            71,136.00       str\n",
      "115793                  NaN     float\n",
      "162895            98,675.00       str\n",
      "1220                35110.1     float\n",
      "40613                   NaN     float\n",
      "284513               170000     float\n",
      "293220               111717     float\n",
      "140343            75,500.00       str\n",
      "153715           102,315.00       str\n",
      "275094               247000     float\n",
      "55930                   NaN     float\n",
      "64054                   NaN     float\n",
      "252074                80000     float\n",
      "160826                12.10       str\n",
      "25002                   NaN     float\n",
      "351939            22,880.00       str\n",
      "295379                88275     float\n",
      "325339               101712     float\n",
      "172507            39,416.00       str\n",
      "9573                 100500     float\n",
      "349856           119,683.00       str\n",
      "176819           150,000.00       str\n",
      "97782                   NaN     float\n",
      "311184               133266     float\n",
      "311315                90230     float\n",
      "34336                   NaN     float\n",
      "117286                  NaN     float\n",
      "336469                49171     float\n",
      "302696                47549     float\n",
      "200440           114,400.00       str\n",
      "257966                90000     float\n",
      "140768            60,000.00       str\n",
      "302103                61839     float\n",
      "186538            82,597.00       str\n",
      "77534                   NaN     float\n",
      "321912                81266     float\n",
      "84018                   NaN     float\n",
      "262448               120000     float\n",
      "313559               111500     float\n",
      "142133           110,000.00       str\n",
      "34960                   NaN     float\n",
      "142391            87,750.00       str\n",
      "327869                18500     float\n",
      "15742                 61560     float\n",
      "123633                  NaN     float\n",
      "278259                21112     float\n",
      "493                  108181     float\n",
      "326107                70000     float\n",
      "61287                   NaN     float\n",
      "273084                80000     float\n",
      "355816           119,350.00       str\n",
      "214933                34.00       str\n",
      "153138            72,467.00       str\n",
      "356884           110,000.00       str\n",
      "254789               125965     float\n",
      "240512                75670     float\n",
      "178495            81,120.00       str\n",
      "273961                85000     float\n",
      "280243               133806     float\n",
      "155305            47,486.00       str\n",
      "68522                   NaN     float\n",
      "263935               120000     float\n",
      "196879            93,000.00       str\n",
      "1484                  71400     float\n",
      "43671                   NaN     float\n",
      "235513               100200     float\n",
      "282125               140000     float\n",
      "338404               110000     float\n",
      "26563                   NaN     float\n",
      "1587                  40000     float\n",
      "44546                   NaN     float\n",
      "244221                98821     float\n",
      "105952                  NaN     float\n",
      "277194               116626     float\n",
      "35446                   NaN     float\n",
      "8476                 102190     float\n",
      "368990            70,000.00       str\n",
      "327645                90000     float\n",
      "16384                 45157     float\n",
      "108953                  NaN     float\n",
      "163607           105,498.00       str\n",
      "155155            60,000.00       str\n",
      "171666            96,429.00       str\n",
      "329675               190000     float\n",
      "177634            16,848.00       str\n",
      "215473           123,000.00       str\n",
      "57461                   NaN     float\n",
      "247864                42513     float\n",
      "21931                   NaN     float\n",
      "100625                  NaN     float\n",
      "105412                  NaN     float\n",
      "101682                  NaN     float\n",
      "180063            89,000.00       str\n",
      "223591            80,000.00       str\n",
      "319108               162500     float\n",
      "155570           126,006.00       str\n",
      "202839            90,709.00       str\n",
      "50347                   NaN     float\n",
      "291368               141253     float\n",
      "263366               114193     float\n",
      "117031                  NaN     float\n",
      "15591                 79706     float\n",
      "159143            60,611.00       str\n",
      "373120            24,960.00       str\n",
      "68235                   NaN     float\n",
      "286447                77210     float\n",
      "301431                92500     float\n",
      "209898            92,000.00       str\n",
      "79858                   NaN     float\n",
      "302365               101712     float\n",
      "299122               125000     float\n",
      "348341              95950.0       str\n",
      "52538                   NaN     float\n",
      "5825                  81600     float\n",
      "113714                  NaN     float\n",
      "138192            19,843.00       str\n",
      "179666            96,000.00       str\n",
      "53393                   NaN     float\n",
      "300759               117458     float\n",
      "77732                   NaN     float\n",
      "315359                98363     float\n",
      "158580           116,605.00       str\n",
      "232195                38459     float\n",
      "78097                   NaN     float\n",
      "195158            79,102.00       str\n",
      "76297                   NaN     float\n",
      "248588               114400     float\n",
      "131477                  NaN     float\n",
      "129975                  NaN     float\n",
      "167508           105,560.00       str\n",
      "46012                   NaN     float\n",
      "164121           114,608.00       str\n",
      "119709                  NaN     float\n",
      "233908               187199     float\n",
      "66277                   NaN     float\n",
      "123139                  NaN     float\n",
      "191541                 7.70       str\n",
      "106553                  NaN     float\n",
      "31629                   NaN     float\n",
      "315236               111821     float\n",
      "220069            64,979.00       str\n",
      "371626            61,090.00       str\n",
      "316284               117354     float\n",
      "357556            70,866.00       str\n",
      "47875                   NaN     float\n",
      "7202                 148907     float\n",
      "310440                17909     float\n",
      "25502                   NaN     float\n",
      "329094               125000     float\n",
      "81792                   NaN     float\n",
      "316021               133516     float\n",
      "248902                80000     float\n",
      "338667               150000     float\n",
      "284122               185000     float\n",
      "113638                  NaN     float\n",
      "160046            92,000.00       str\n",
      "111351                  NaN     float\n",
      "39495                   NaN     float\n",
      "9103                  77492     float\n",
      "251745               117500     float\n",
      "43718                   NaN     float\n",
      "60402                   NaN     float\n",
      "356059           138,403.00       str\n",
      "345932                66144     float\n",
      "119514                  NaN     float\n",
      "149962            90,000.00       str\n",
      "293122                88234     float\n",
      "323802               119350     float\n",
      "284281               109658     float\n",
      "357448           162,781.00       str\n",
      "40113                   NaN     float\n",
      "143436            90,000.00       str\n",
      "85924                   NaN     float\n",
      "108437                  NaN     float\n",
      "211287           105,000.00       str\n",
      "202793            87,448.00       str\n",
      "305563                17222     float\n",
      "199159            97,440.00       str\n",
      "39062                   NaN     float\n",
      "341426               109054     float\n",
      "254120                42170     float\n",
      "265844                77210     float\n",
      "344800               101088     float\n",
      "208630            36,150.00       str\n",
      "20169               88000.1     float\n",
      "218799           130,000.00       str\n",
      "204179            76,378.00       str\n",
      "5281                  89752     float\n",
      "266514                82347     float\n",
      "180355           152,776.00       str\n",
      "360151                14.20       str\n",
      "79684                   NaN     float\n",
      "132645                  NaN     float\n",
      "219667           162,885.00       str\n",
      "340320                17222     float\n",
      "285365               143000     float\n",
      "335488               150000     float\n",
      "163740            68,203.00       str\n",
      "12190                210000     float\n",
      "83926                   NaN     float\n",
      "5749                 128000     float\n",
      "195491           104,790.00       str\n",
      "349518              56160.0       str\n",
      "143878            72,467.00       str\n",
      "281207                82763     float\n",
      "170631            78,150.00       str\n",
      "371351           117,998.00       str\n",
      "264128               170000     float\n",
      "294714               110000     float\n",
      "356769           117,333.00       str\n",
      "374042            90,896.00       str\n",
      "149218            81,994.00       str\n",
      "142890            97,802.00       str\n",
      "7513                  84762     float\n",
      "58914                   NaN     float\n",
      "239748                62000     float\n",
      "178580            69,493.00       str\n",
      "341962               117730     float\n",
      "291095                88130     float\n",
      "236418               109762     float\n",
      "348108               101627     float\n",
      "40117                   NaN     float\n",
      "269981                79102     float\n",
      "137076            74,422.00       str\n",
      "256711               104437     float\n",
      "39698                   NaN     float\n",
      "193907            87,339.00       str\n",
      "130032                  NaN     float\n",
      "277126               125000     float\n",
      "71720                   NaN     float\n",
      "10836                 58000     float\n",
      "146085            74,776.00       str\n",
      "278071               110364     float\n",
      "261063                90459     float\n",
      "339185               112632     float\n",
      "180532           142,667.00       str\n",
      "261310               150000     float\n",
      "168423           283,025.60       str\n",
      "166722                 9.30       str\n",
      "66577                   NaN     float\n",
      "120794                  NaN     float\n",
      "101125                  NaN     float\n",
      "139311            98,821.00       str\n",
      "239831               126630     float\n",
      "49933                   NaN     float\n",
      "7813                 107640     float\n",
      "15962                 64085     float\n",
      "66641                   NaN     float\n",
      "222009           114,941.00       str\n",
      "205186            85,000.00       str\n",
      "65461                   NaN     float\n",
      "88231                   NaN     float\n",
      "151563            42,016.00       str\n",
      "290548                91104     float\n",
      "164057            90,522.00       str\n",
      "247246               128773     float\n",
      "23865                   NaN     float\n",
      "184727           110,000.00       str\n",
      "302419               102794     float\n",
      "276589               120349     float\n",
      "199000            17,098.00       str\n",
      "4740                  42598     float\n",
      "20102               64521.6     float\n",
      "173743           160,000.00       str\n",
      "362624            20,904.00       str\n",
      "144119            72,467.00       str\n",
      "252033               115294     float\n",
      "322288               125445     float\n",
      "148327           124,301.00       str\n",
      "196259            95,000.00       str\n",
      "282532                96500     float\n",
      "240218                69139     float\n",
      "125027                  NaN     float\n",
      "223487           111,000.00       str\n",
      "3875                  81328     float\n",
      "237099                72000     float\n",
      "283651               111426     float\n",
      "56953                   NaN     float\n",
      "176294            34,341.00       str\n",
      "169899            97,282.00       str\n",
      "131592                  NaN     float\n",
      "178755            82,285.00       str\n",
      "274248                25168     float\n",
      "169703           105,518.00       str\n",
      "136912            88,504.00       str\n",
      "158336            76,000.00       str\n",
      "351945            85,000.00       str\n",
      "236133                85571     float\n",
      "222647            81,765.00       str\n",
      "19477                 47500     float\n",
      "231922               145000     float\n",
      "146826            83,300.00       str\n",
      "30442                   NaN     float\n",
      "305885                81619     float\n",
      "48850                   NaN     float\n",
      "84744                   NaN     float\n",
      "191143            97,989.00       str\n",
      "12000                159615     float\n",
      "85407                   NaN     float\n",
      "26558                   NaN     float\n",
      "316758                88878     float\n",
      "276365                79102     float\n",
      "76174                   NaN     float\n",
      "119906                  NaN     float\n",
      "315488                60299     float\n",
      "228765                79643     float\n",
      "154829            96,140.00       str\n",
      "320214                99939     float\n",
      "233148               130000     float\n",
      "366670            76,502.00       str\n",
      "193429            32,938.00       str\n",
      "302552               119350     float\n",
      "79448                   NaN     float\n",
      "367569           103,200.00       str\n",
      "75494                   NaN     float\n",
      "52235                   NaN     float\n",
      "315647                96866     float\n",
      "4697                  43000     float\n",
      "259175               160000     float\n",
      "38702                   NaN     float\n",
      "33457                   NaN     float\n",
      "53093                   NaN     float\n",
      "39728                   NaN     float\n",
      "61272                   NaN     float\n",
      "118015                  NaN     float\n",
      "130944                  NaN     float\n",
      "3543                 158000     float\n",
      "146971           115,856.00       str\n",
      "331337               144269     float\n",
      "142116            72,467.00       str\n",
      "266688               105718     float\n",
      "25051                   NaN     float\n",
      "298105                70750     float\n",
      "14690                 95181     float\n",
      "140342            57,075.00       str\n",
      "167072            61,500.00       str\n",
      "79870                   NaN     float\n",
      "224298             145000.0       str\n",
      "345007                66144     float\n",
      "90825                   NaN     float\n",
      "64150                   NaN     float\n",
      "274379                87000     float\n",
      "152472           145,000.00       str\n",
      "19844               75628.8     float\n",
      "245668               143000     float\n",
      "159106           145,000.00       str\n",
      "61481                   NaN     float\n",
      "276079                50000     float\n",
      "137571            97,853.00       str\n",
      "53130                   NaN     float\n",
      "106047                  NaN     float\n",
      "145591            92,926.00       str\n",
      "254223               200000     float\n",
      "251911               148803     float\n",
      "52607                   NaN     float\n",
      "254355               102000     float\n",
      "169938            35,069.00       str\n",
      "249238                64438     float\n",
      "33065                   NaN     float\n",
      "372612           136,510.00       str\n",
      "349761           101,088.00       str\n",
      "194647            95,000.00       str\n",
      "205873           107,702.00       str\n",
      "326691               103626     float\n",
      "243160               113000     float\n",
      "140986           104,458.00       str\n",
      "272722                45698     float\n",
      "176281            54,330.00       str\n",
      "186806           101,329.00       str\n",
      "118588                  NaN     float\n",
      "265701                85571     float\n",
      "148096           176,571.00       str\n",
      "258841               120786     float\n",
      "167550           127,608.00       str\n",
      "46338                   NaN     float\n",
      "77093                   NaN     float\n",
      "298659                74755     float\n",
      "96155                   NaN     float\n"
     ]
    }
   ],
   "source": [
    "importlib.reload(modules)\n",
    "modules.print_full(cleanup_df.sample(500))"
   ],
   "metadata": {
    "collapsed": false,
    "pycharm": {
     "name": "#%%\n"
    }
   }
  },
  {
   "cell_type": "code",
   "execution_count": 22,
   "outputs": [
    {
     "data": {
      "text/plain": "float    258181\nstr      116181\nName: wage_Type, dtype: int64"
     },
     "execution_count": 22,
     "metadata": {},
     "output_type": "execute_result"
    }
   ],
   "source": [
    "\n",
    "cleanup_df['wage_Type'].value_counts()"
   ],
   "metadata": {
    "collapsed": false,
    "pycharm": {
     "name": "#%%\n"
    }
   }
  },
  {
   "cell_type": "code",
   "execution_count": 23,
   "outputs": [],
   "source": [
    "def clean_currency(x):\n",
    "    \"\"\" If the value is a string, then remove delimiters\n",
    "    otherwise, the value is numeric and can be converted\n",
    "    \"\"\"\n",
    "    if isinstance(x, str):\n",
    "        return(x.replace(',', ''))\n",
    "    return(x)"
   ],
   "metadata": {
    "collapsed": false,
    "pycharm": {
     "name": "#%%\n"
    }
   }
  },
  {
   "cell_type": "code",
   "execution_count": 24,
   "outputs": [
    {
     "ename": "ValueError",
     "evalue": "could not convert string to float: '#############'",
     "output_type": "error",
     "traceback": [
      "\u001B[1;31m---------------------------------------------------------------------------\u001B[0m",
      "\u001B[1;31mValueError\u001B[0m                                Traceback (most recent call last)",
      "\u001B[1;32m<ipython-input-24-e80cae2c1246>\u001B[0m in \u001B[0;36m<module>\u001B[1;34m\u001B[0m\n\u001B[1;32m----> 1\u001B[1;33m \u001B[0mcleanup_df\u001B[0m\u001B[1;33m[\u001B[0m\u001B[1;34m\"wage_offer_from_9089\"\u001B[0m\u001B[1;33m]\u001B[0m \u001B[1;33m=\u001B[0m \u001B[0mcleanup_df\u001B[0m\u001B[1;33m[\u001B[0m\u001B[1;34m\"wage_offer_from_9089\"\u001B[0m\u001B[1;33m]\u001B[0m\u001B[1;33m.\u001B[0m\u001B[0mapply\u001B[0m\u001B[1;33m(\u001B[0m\u001B[0mclean_currency\u001B[0m\u001B[1;33m)\u001B[0m\u001B[1;33m.\u001B[0m\u001B[0mastype\u001B[0m\u001B[1;33m(\u001B[0m\u001B[1;34m'float'\u001B[0m\u001B[1;33m)\u001B[0m\u001B[1;33m\u001B[0m\u001B[1;33m\u001B[0m\u001B[0m\n\u001B[0m\u001B[0;32m      2\u001B[0m \u001B[0mcleanup_df\u001B[0m\u001B[1;33m[\u001B[0m\u001B[1;34m'wage_Type'\u001B[0m\u001B[1;33m]\u001B[0m \u001B[1;33m=\u001B[0m \u001B[0mcleanup_df\u001B[0m\u001B[1;33m[\u001B[0m\u001B[1;34m\"wage_offer_from_9089\"\u001B[0m\u001B[1;33m]\u001B[0m\u001B[1;33m.\u001B[0m\u001B[0mapply\u001B[0m\u001B[1;33m(\u001B[0m\u001B[1;32mlambda\u001B[0m \u001B[0mx\u001B[0m\u001B[1;33m:\u001B[0m \u001B[0mtype\u001B[0m\u001B[1;33m(\u001B[0m\u001B[0mx\u001B[0m\u001B[1;33m)\u001B[0m\u001B[1;33m.\u001B[0m\u001B[0m__name__\u001B[0m\u001B[1;33m)\u001B[0m\u001B[1;33m\u001B[0m\u001B[1;33m\u001B[0m\u001B[0m\n",
      "\u001B[1;32m~\\anaconda3\\lib\\site-packages\\pandas\\core\\generic.py\u001B[0m in \u001B[0;36mastype\u001B[1;34m(self, dtype, copy, errors)\u001B[0m\n\u001B[0;32m   5544\u001B[0m         \u001B[1;32melse\u001B[0m\u001B[1;33m:\u001B[0m\u001B[1;33m\u001B[0m\u001B[1;33m\u001B[0m\u001B[0m\n\u001B[0;32m   5545\u001B[0m             \u001B[1;31m# else, only a single dtype is given\u001B[0m\u001B[1;33m\u001B[0m\u001B[1;33m\u001B[0m\u001B[1;33m\u001B[0m\u001B[0m\n\u001B[1;32m-> 5546\u001B[1;33m             \u001B[0mnew_data\u001B[0m \u001B[1;33m=\u001B[0m \u001B[0mself\u001B[0m\u001B[1;33m.\u001B[0m\u001B[0m_mgr\u001B[0m\u001B[1;33m.\u001B[0m\u001B[0mastype\u001B[0m\u001B[1;33m(\u001B[0m\u001B[0mdtype\u001B[0m\u001B[1;33m=\u001B[0m\u001B[0mdtype\u001B[0m\u001B[1;33m,\u001B[0m \u001B[0mcopy\u001B[0m\u001B[1;33m=\u001B[0m\u001B[0mcopy\u001B[0m\u001B[1;33m,\u001B[0m \u001B[0merrors\u001B[0m\u001B[1;33m=\u001B[0m\u001B[0merrors\u001B[0m\u001B[1;33m,\u001B[0m\u001B[1;33m)\u001B[0m\u001B[1;33m\u001B[0m\u001B[1;33m\u001B[0m\u001B[0m\n\u001B[0m\u001B[0;32m   5547\u001B[0m             \u001B[1;32mreturn\u001B[0m \u001B[0mself\u001B[0m\u001B[1;33m.\u001B[0m\u001B[0m_constructor\u001B[0m\u001B[1;33m(\u001B[0m\u001B[0mnew_data\u001B[0m\u001B[1;33m)\u001B[0m\u001B[1;33m.\u001B[0m\u001B[0m__finalize__\u001B[0m\u001B[1;33m(\u001B[0m\u001B[0mself\u001B[0m\u001B[1;33m,\u001B[0m \u001B[0mmethod\u001B[0m\u001B[1;33m=\u001B[0m\u001B[1;34m\"astype\"\u001B[0m\u001B[1;33m)\u001B[0m\u001B[1;33m\u001B[0m\u001B[1;33m\u001B[0m\u001B[0m\n\u001B[0;32m   5548\u001B[0m \u001B[1;33m\u001B[0m\u001B[0m\n",
      "\u001B[1;32m~\\anaconda3\\lib\\site-packages\\pandas\\core\\internals\\managers.py\u001B[0m in \u001B[0;36mastype\u001B[1;34m(self, dtype, copy, errors)\u001B[0m\n\u001B[0;32m    593\u001B[0m         \u001B[0mself\u001B[0m\u001B[1;33m,\u001B[0m \u001B[0mdtype\u001B[0m\u001B[1;33m,\u001B[0m \u001B[0mcopy\u001B[0m\u001B[1;33m:\u001B[0m \u001B[0mbool\u001B[0m \u001B[1;33m=\u001B[0m \u001B[1;32mFalse\u001B[0m\u001B[1;33m,\u001B[0m \u001B[0merrors\u001B[0m\u001B[1;33m:\u001B[0m \u001B[0mstr\u001B[0m \u001B[1;33m=\u001B[0m \u001B[1;34m\"raise\"\u001B[0m\u001B[1;33m\u001B[0m\u001B[1;33m\u001B[0m\u001B[0m\n\u001B[0;32m    594\u001B[0m     ) -> \"BlockManager\":\n\u001B[1;32m--> 595\u001B[1;33m         \u001B[1;32mreturn\u001B[0m \u001B[0mself\u001B[0m\u001B[1;33m.\u001B[0m\u001B[0mapply\u001B[0m\u001B[1;33m(\u001B[0m\u001B[1;34m\"astype\"\u001B[0m\u001B[1;33m,\u001B[0m \u001B[0mdtype\u001B[0m\u001B[1;33m=\u001B[0m\u001B[0mdtype\u001B[0m\u001B[1;33m,\u001B[0m \u001B[0mcopy\u001B[0m\u001B[1;33m=\u001B[0m\u001B[0mcopy\u001B[0m\u001B[1;33m,\u001B[0m \u001B[0merrors\u001B[0m\u001B[1;33m=\u001B[0m\u001B[0merrors\u001B[0m\u001B[1;33m)\u001B[0m\u001B[1;33m\u001B[0m\u001B[1;33m\u001B[0m\u001B[0m\n\u001B[0m\u001B[0;32m    596\u001B[0m \u001B[1;33m\u001B[0m\u001B[0m\n\u001B[0;32m    597\u001B[0m     def convert(\n",
      "\u001B[1;32m~\\anaconda3\\lib\\site-packages\\pandas\\core\\internals\\managers.py\u001B[0m in \u001B[0;36mapply\u001B[1;34m(self, f, align_keys, **kwargs)\u001B[0m\n\u001B[0;32m    404\u001B[0m                 \u001B[0mapplied\u001B[0m \u001B[1;33m=\u001B[0m \u001B[0mb\u001B[0m\u001B[1;33m.\u001B[0m\u001B[0mapply\u001B[0m\u001B[1;33m(\u001B[0m\u001B[0mf\u001B[0m\u001B[1;33m,\u001B[0m \u001B[1;33m**\u001B[0m\u001B[0mkwargs\u001B[0m\u001B[1;33m)\u001B[0m\u001B[1;33m\u001B[0m\u001B[1;33m\u001B[0m\u001B[0m\n\u001B[0;32m    405\u001B[0m             \u001B[1;32melse\u001B[0m\u001B[1;33m:\u001B[0m\u001B[1;33m\u001B[0m\u001B[1;33m\u001B[0m\u001B[0m\n\u001B[1;32m--> 406\u001B[1;33m                 \u001B[0mapplied\u001B[0m \u001B[1;33m=\u001B[0m \u001B[0mgetattr\u001B[0m\u001B[1;33m(\u001B[0m\u001B[0mb\u001B[0m\u001B[1;33m,\u001B[0m \u001B[0mf\u001B[0m\u001B[1;33m)\u001B[0m\u001B[1;33m(\u001B[0m\u001B[1;33m**\u001B[0m\u001B[0mkwargs\u001B[0m\u001B[1;33m)\u001B[0m\u001B[1;33m\u001B[0m\u001B[1;33m\u001B[0m\u001B[0m\n\u001B[0m\u001B[0;32m    407\u001B[0m             \u001B[0mresult_blocks\u001B[0m \u001B[1;33m=\u001B[0m \u001B[0m_extend_blocks\u001B[0m\u001B[1;33m(\u001B[0m\u001B[0mapplied\u001B[0m\u001B[1;33m,\u001B[0m \u001B[0mresult_blocks\u001B[0m\u001B[1;33m)\u001B[0m\u001B[1;33m\u001B[0m\u001B[1;33m\u001B[0m\u001B[0m\n\u001B[0;32m    408\u001B[0m \u001B[1;33m\u001B[0m\u001B[0m\n",
      "\u001B[1;32m~\\anaconda3\\lib\\site-packages\\pandas\\core\\internals\\blocks.py\u001B[0m in \u001B[0;36mastype\u001B[1;34m(self, dtype, copy, errors)\u001B[0m\n\u001B[0;32m    593\u001B[0m             \u001B[0mvals1d\u001B[0m \u001B[1;33m=\u001B[0m \u001B[0mvalues\u001B[0m\u001B[1;33m.\u001B[0m\u001B[0mravel\u001B[0m\u001B[1;33m(\u001B[0m\u001B[1;33m)\u001B[0m\u001B[1;33m\u001B[0m\u001B[1;33m\u001B[0m\u001B[0m\n\u001B[0;32m    594\u001B[0m             \u001B[1;32mtry\u001B[0m\u001B[1;33m:\u001B[0m\u001B[1;33m\u001B[0m\u001B[1;33m\u001B[0m\u001B[0m\n\u001B[1;32m--> 595\u001B[1;33m                 \u001B[0mvalues\u001B[0m \u001B[1;33m=\u001B[0m \u001B[0mastype_nansafe\u001B[0m\u001B[1;33m(\u001B[0m\u001B[0mvals1d\u001B[0m\u001B[1;33m,\u001B[0m \u001B[0mdtype\u001B[0m\u001B[1;33m,\u001B[0m \u001B[0mcopy\u001B[0m\u001B[1;33m=\u001B[0m\u001B[1;32mTrue\u001B[0m\u001B[1;33m)\u001B[0m\u001B[1;33m\u001B[0m\u001B[1;33m\u001B[0m\u001B[0m\n\u001B[0m\u001B[0;32m    596\u001B[0m             \u001B[1;32mexcept\u001B[0m \u001B[1;33m(\u001B[0m\u001B[0mValueError\u001B[0m\u001B[1;33m,\u001B[0m \u001B[0mTypeError\u001B[0m\u001B[1;33m)\u001B[0m\u001B[1;33m:\u001B[0m\u001B[1;33m\u001B[0m\u001B[1;33m\u001B[0m\u001B[0m\n\u001B[0;32m    597\u001B[0m                 \u001B[1;31m# e.g. astype_nansafe can fail on object-dtype of strings\u001B[0m\u001B[1;33m\u001B[0m\u001B[1;33m\u001B[0m\u001B[1;33m\u001B[0m\u001B[0m\n",
      "\u001B[1;32m~\\anaconda3\\lib\\site-packages\\pandas\\core\\dtypes\\cast.py\u001B[0m in \u001B[0;36mastype_nansafe\u001B[1;34m(arr, dtype, copy, skipna)\u001B[0m\n\u001B[0;32m    993\u001B[0m     \u001B[1;32mif\u001B[0m \u001B[0mcopy\u001B[0m \u001B[1;32mor\u001B[0m \u001B[0mis_object_dtype\u001B[0m\u001B[1;33m(\u001B[0m\u001B[0marr\u001B[0m\u001B[1;33m)\u001B[0m \u001B[1;32mor\u001B[0m \u001B[0mis_object_dtype\u001B[0m\u001B[1;33m(\u001B[0m\u001B[0mdtype\u001B[0m\u001B[1;33m)\u001B[0m\u001B[1;33m:\u001B[0m\u001B[1;33m\u001B[0m\u001B[1;33m\u001B[0m\u001B[0m\n\u001B[0;32m    994\u001B[0m         \u001B[1;31m# Explicit copy, or required since NumPy can't view from / to object.\u001B[0m\u001B[1;33m\u001B[0m\u001B[1;33m\u001B[0m\u001B[1;33m\u001B[0m\u001B[0m\n\u001B[1;32m--> 995\u001B[1;33m         \u001B[1;32mreturn\u001B[0m \u001B[0marr\u001B[0m\u001B[1;33m.\u001B[0m\u001B[0mastype\u001B[0m\u001B[1;33m(\u001B[0m\u001B[0mdtype\u001B[0m\u001B[1;33m,\u001B[0m \u001B[0mcopy\u001B[0m\u001B[1;33m=\u001B[0m\u001B[1;32mTrue\u001B[0m\u001B[1;33m)\u001B[0m\u001B[1;33m\u001B[0m\u001B[1;33m\u001B[0m\u001B[0m\n\u001B[0m\u001B[0;32m    996\u001B[0m \u001B[1;33m\u001B[0m\u001B[0m\n\u001B[0;32m    997\u001B[0m     \u001B[1;32mreturn\u001B[0m \u001B[0marr\u001B[0m\u001B[1;33m.\u001B[0m\u001B[0mview\u001B[0m\u001B[1;33m(\u001B[0m\u001B[0mdtype\u001B[0m\u001B[1;33m)\u001B[0m\u001B[1;33m\u001B[0m\u001B[1;33m\u001B[0m\u001B[0m\n",
      "\u001B[1;31mValueError\u001B[0m: could not convert string to float: '#############'"
     ]
    }
   ],
   "source": [
    "\n",
    "cleanup_df[\"wage_offer_from_9089\"] = cleanup_df[\"wage_offer_from_9089\"].apply(clean_currency).astype('float')\n",
    "cleanup_df['wage_Type'] = cleanup_df[\"wage_offer_from_9089\"].apply(lambda x: type(x).__name__)"
   ],
   "metadata": {
    "collapsed": false,
    "pycharm": {
     "name": "#%%\n"
    }
   }
  },
  {
   "cell_type": "markdown",
   "source": [
    "\n"
   ],
   "metadata": {
    "collapsed": false,
    "pycharm": {
     "name": "#%% md\n"
    }
   }
  }
 ],
 "metadata": {
  "kernelspec": {
   "display_name": "Python 3",
   "language": "python",
   "name": "python3"
  },
  "language_info": {
   "codemirror_mode": {
    "name": "ipython",
    "version": 2
   },
   "file_extension": ".py",
   "mimetype": "text/x-python",
   "name": "python",
   "nbconvert_exporter": "python",
   "pygments_lexer": "ipython2",
   "version": "2.7.6"
  }
 },
 "nbformat": 4,
 "nbformat_minor": 0
}