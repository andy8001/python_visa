{
 "cells": [
  {
   "cell_type": "markdown",
   "metadata": {},
   "source": [
    "# Cleaning up wage_offer_from"
   ]
  },
  {
   "attachments": {},
   "cell_type": "markdown",
   "metadata": {},
   "source": [
    "wage offer from is represented in two columns wage_offer_from_9089 and wage_offered_from_9089. These both columns must be merged in order to work with them."
   ]
  },
  {
   "cell_type": "code",
   "execution_count": 91,
   "metadata": {},
   "outputs": [],
   "source": [
    "import pandas as pd\n",
    "import importlib\n",
    "import modules\n",
    "import numpy as np"
   ]
  },
  {
   "cell_type": "code",
   "execution_count": 92,
   "metadata": {},
   "outputs": [
    {
     "name": "stderr",
     "output_type": "stream",
     "text": [
      "C:\\Users\\andre\\anaconda3\\lib\\site-packages\\IPython\\core\\interactiveshell.py:3146: DtypeWarning: Columns (148) have mixed types.Specify dtype option on import or set low_memory=False.\n",
      "  has_raised = await self.run_ast_nodes(code_ast.body, cell_name,\n"
     ]
    },
    {
     "data": {
      "text/html": [
       "<div>\n",
       "<style scoped>\n",
       "    .dataframe tbody tr th:only-of-type {\n",
       "        vertical-align: middle;\n",
       "    }\n",
       "\n",
       "    .dataframe tbody tr th {\n",
       "        vertical-align: top;\n",
       "    }\n",
       "\n",
       "    .dataframe thead th {\n",
       "        text-align: right;\n",
       "    }\n",
       "</style>\n",
       "<table border=\"1\" class=\"dataframe\">\n",
       "  <thead>\n",
       "    <tr style=\"text-align: right;\">\n",
       "      <th></th>\n",
       "      <th>wage_offer_from_9089</th>\n",
       "      <th>wage_offered_from_9089</th>\n",
       "    </tr>\n",
       "  </thead>\n",
       "  <tbody>\n",
       "    <tr>\n",
       "      <th>0</th>\n",
       "      <td>75629</td>\n",
       "      <td>NaN</td>\n",
       "    </tr>\n",
       "    <tr>\n",
       "      <th>1</th>\n",
       "      <td>37024</td>\n",
       "      <td>NaN</td>\n",
       "    </tr>\n",
       "    <tr>\n",
       "      <th>2</th>\n",
       "      <td>47923</td>\n",
       "      <td>NaN</td>\n",
       "    </tr>\n",
       "    <tr>\n",
       "      <th>3</th>\n",
       "      <td>10.97</td>\n",
       "      <td>NaN</td>\n",
       "    </tr>\n",
       "    <tr>\n",
       "      <th>4</th>\n",
       "      <td>100000</td>\n",
       "      <td>NaN</td>\n",
       "    </tr>\n",
       "  </tbody>\n",
       "</table>\n",
       "</div>"
      ],
      "text/plain": [
       "  wage_offer_from_9089  wage_offered_from_9089\n",
       "0                75629                     NaN\n",
       "1                37024                     NaN\n",
       "2                47923                     NaN\n",
       "3                10.97                     NaN\n",
       "4               100000                     NaN"
      ]
     },
     "execution_count": 92,
     "metadata": {},
     "output_type": "execute_result"
    }
   ],
   "source": [
    "col_list= [\"wage_offer_from_9089\", \"wage_offered_from_9089\"]\n",
    "visas_df = pd.read_csv(\"data/us_perm_visas.csv\", usecols=col_list)\n",
    "visas_df.head ()"
   ]
  },
  {
   "cell_type": "code",
   "execution_count": 93,
   "metadata": {},
   "outputs": [
    {
     "data": {
      "text/plain": [
       "wage_offer_from_9089       object\n",
       "wage_offered_from_9089    float64\n",
       "dtype: object"
      ]
     },
     "execution_count": 93,
     "metadata": {},
     "output_type": "execute_result"
    }
   ],
   "source": [
    "visas_df.dtypes"
   ]
  },
  {
   "cell_type": "markdown",
   "metadata": {},
   "source": [
    "wage_offered_from_9089 was sucessfully imported as float. \n",
    "However we'll have to take a closer look at wage_offer_from_9089 to convert it to a float value."
   ]
  },
  {
   "cell_type": "markdown",
   "metadata": {},
   "source": [
    "Next, we'll take a closer look how the values in these two columns are distributed. \n",
    "We defined a new function in our modules library to deal with this task. "
   ]
  },
  {
   "cell_type": "code",
   "execution_count": 94,
   "metadata": {},
   "outputs": [
    {
     "name": "stdout",
     "output_type": "stream",
     "text": [
      "wage_offer_from_9089\n",
      "259591/374362 69%\n",
      "\r",
      "Filled: |██████████████████████████████████----------------| 69.3% Rows\r\n"
     ]
    },
    {
     "data": {
      "image/png": "[encoded data removed]",
      "text/plain": [
       "<Figure size 1152x288 with 1 Axes>"
      ]
     },
     "metadata": {
      "needs_background": "light"
     },
     "output_type": "display_data"
    },
    {
     "name": "stdout",
     "output_type": "stream",
     "text": [
      "\n",
      "wage_offered_from_9089\n",
      "114647/374362 31%\n",
      "\r",
      "Filled: |███████████████-----------------------------------| 30.6% Rows\r\n"
     ]
    },
    {
     "data": {
      "image/png": "[encoded data removed]",
      "text/plain": [
       "<Figure size 1152x288 with 1 Axes>"
      ]
     },
     "metadata": {
      "needs_background": "light"
     },
     "output_type": "display_data"
    },
    {
     "name": "stdout",
     "output_type": "stream",
     "text": [
      "\n"
     ]
    }
   ],
   "source": [
    "modules.print_count_of_values_relation(visas_df, True, True)"
   ]
  },
  {
   "cell_type": "markdown",
   "metadata": {},
   "source": [
    "To explain the resulting graphs: \n",
    "The X-Axis shows the index of all values. We have over 350000 values (rows) in our dataset.\n",
    "The Y-Axis shows if a row is filled with a actual value. Not NaN Values are displayed as 1, NaN values are displayed as 0. \n",
    "\n",
    "It becomes aparent that both columnscomplete each other. Gaps in wage_offer_from_9098 can be filled with wage_offer_from_9098."
   ]
  },
  {
   "cell_type": "markdown",
   "metadata": {
    "pycharm": {
     "name": "#%% md\n"
    }
   },
   "source": [
    "----\n",
    "## Cleaning up `wage_offer_from_9089`"
   ]
  },
  {
   "cell_type": "markdown",
   "metadata": {
    "pycharm": {
     "name": "#%% md\n"
    }
   },
   "source": [
    "In Progress of our data analysis it became apparent, that wage_offer_from_9089 has to be cleaned up, before analyzing the contained data. "
   ]
  },
  {
   "cell_type": "code",
   "execution_count": null,
   "metadata": {},
   "outputs": [],
   "source": []
  },
  {
   "cell_type": "code",
   "execution_count": 95,
   "metadata": {
    "pycharm": {
     "name": "#%%\n"
    }
   },
   "outputs": [
    {
     "data": {
      "text/plain": [
       "wage_offer_from_9089       object\n",
       "wage_offered_from_9089    float64\n",
       "dtype: object"
      ]
     },
     "execution_count": 95,
     "metadata": {},
     "output_type": "execute_result"
    }
   ],
   "source": [
    "cleanup_df = visas_df.copy()\n",
    "cleanup_df.dtypes"
   ]
  },
  {
   "cell_type": "markdown",
   "metadata": {},
   "source": [
    "Originally all the imported rows were recognized as \"object\". But the values should be converted to float values."
   ]
  },
  {
   "cell_type": "code",
   "execution_count": 96,
   "metadata": {
    "pycharm": {
     "name": "#%%\n"
    }
   },
   "outputs": [],
   "source": [
    "# cleanup_df[\"wage_offer_from_9089\"].astype('float')"
   ]
  },
  {
   "cell_type": "markdown",
   "metadata": {},
   "source": [
    "First, we tried to convert the data, by applying the new type."
   ]
  },
  {
   "cell_type": "code",
   "execution_count": 97,
   "metadata": {
    "pycharm": {
     "name": "#%%\n"
    }
   },
   "outputs": [
    {
     "data": {
      "text/plain": [
       "0         <class 'float'>\n",
       "1         <class 'float'>\n",
       "2         <class 'float'>\n",
       "3         <class 'float'>\n",
       "4         <class 'float'>\n",
       "               ...       \n",
       "374357      <class 'str'>\n",
       "374358      <class 'str'>\n",
       "374359      <class 'str'>\n",
       "374360      <class 'str'>\n",
       "374361      <class 'str'>\n",
       "Name: wage_offer_from_9089, Length: 374362, dtype: object"
      ]
     },
     "execution_count": 97,
     "metadata": {},
     "output_type": "execute_result"
    }
   ],
   "source": [
    "cleanup_df[\"wage_offer_from_9089\"].apply(type)"
   ]
  },
  {
   "cell_type": "markdown",
   "metadata": {},
   "source": [
    "We defined a new columnn, containing the types of all newly converted values."
   ]
  },
  {
   "cell_type": "code",
   "execution_count": 98,
   "metadata": {
    "pycharm": {
     "name": "#%%\n"
    }
   },
   "outputs": [],
   "source": [
    "cleanup_df['wage_Type'] = cleanup_df[\"wage_offer_from_9089\"].apply(lambda x: type(x).__name__)"
   ]
  },
  {
   "cell_type": "code",
   "execution_count": 99,
   "metadata": {
    "pycharm": {
     "name": "#%%\n"
    }
   },
   "outputs": [
    {
     "data": {
      "text/html": [
       "<div>\n",
       "<style scoped>\n",
       "    .dataframe tbody tr th:only-of-type {\n",
       "        vertical-align: middle;\n",
       "    }\n",
       "\n",
       "    .dataframe tbody tr th {\n",
       "        vertical-align: top;\n",
       "    }\n",
       "\n",
       "    .dataframe thead th {\n",
       "        text-align: right;\n",
       "    }\n",
       "</style>\n",
       "<table border=\"1\" class=\"dataframe\">\n",
       "  <thead>\n",
       "    <tr style=\"text-align: right;\">\n",
       "      <th></th>\n",
       "      <th>wage_offer_from_9089</th>\n",
       "      <th>wage_offered_from_9089</th>\n",
       "      <th>wage_Type</th>\n",
       "    </tr>\n",
       "  </thead>\n",
       "  <tbody>\n",
       "    <tr>\n",
       "      <th>0</th>\n",
       "      <td>75629</td>\n",
       "      <td>NaN</td>\n",
       "      <td>float</td>\n",
       "    </tr>\n",
       "    <tr>\n",
       "      <th>1</th>\n",
       "      <td>37024</td>\n",
       "      <td>NaN</td>\n",
       "      <td>float</td>\n",
       "    </tr>\n",
       "    <tr>\n",
       "      <th>2</th>\n",
       "      <td>47923</td>\n",
       "      <td>NaN</td>\n",
       "      <td>float</td>\n",
       "    </tr>\n",
       "    <tr>\n",
       "      <th>3</th>\n",
       "      <td>10.97</td>\n",
       "      <td>NaN</td>\n",
       "      <td>float</td>\n",
       "    </tr>\n",
       "    <tr>\n",
       "      <th>4</th>\n",
       "      <td>100000</td>\n",
       "      <td>NaN</td>\n",
       "      <td>float</td>\n",
       "    </tr>\n",
       "  </tbody>\n",
       "</table>\n",
       "</div>"
      ],
      "text/plain": [
       "  wage_offer_from_9089  wage_offered_from_9089 wage_Type\n",
       "0                75629                     NaN     float\n",
       "1                37024                     NaN     float\n",
       "2                47923                     NaN     float\n",
       "3                10.97                     NaN     float\n",
       "4               100000                     NaN     float"
      ]
     },
     "execution_count": 99,
     "metadata": {},
     "output_type": "execute_result"
    }
   ],
   "source": [
    "\n",
    "cleanup_df.head()"
   ]
  },
  {
   "cell_type": "code",
   "execution_count": 100,
   "metadata": {
    "pycharm": {
     "name": "#%%\n"
    }
   },
   "outputs": [],
   "source": [
    "import modules"
   ]
  },
  {
   "cell_type": "code",
   "execution_count": 101,
   "metadata": {
    "pycharm": {
     "name": "#%%\n"
    },
    "scrolled": true
   },
   "outputs": [
    {
     "name": "stdout",
     "output_type": "stream",
     "text": [
      "       wage_offer_from_9089  wage_offered_from_9089 wage_Type\n",
      "313030               130000                     NaN     float\n",
      "184690           112,000.00                     NaN       str\n",
      "273655                39250                     NaN     float\n",
      "255202               110583                     NaN     float\n",
      "254932                42120                     NaN     float\n",
      "134602                  NaN                84906.00     float\n",
      "248246                87963                     NaN     float\n",
      "228664                76378                     NaN     float\n",
      "74927                   NaN                89440.00     float\n",
      "220388            80,000.00                     NaN       str\n",
      "284819               131269                     NaN     float\n",
      "9727                  68661                     NaN     float\n",
      "143352            89,502.00                     NaN       str\n",
      "148019            43,100.00                     NaN       str\n",
      "194101           142,501.00                     NaN       str\n",
      "59052                   NaN               138538.00     float\n",
      "336184                93850                     NaN     float\n",
      "63053                   NaN                92726.00     float\n",
      "286207               108493                     NaN     float\n",
      "158406           101,500.00                     NaN       str\n",
      "116810                  NaN               157499.00     float\n",
      "85866                   NaN                80766.00     float\n",
      "166262           368,000.00                     NaN       str\n",
      "352846            50,000.00                     NaN       str\n",
      "90488                   NaN               137000.00     float\n",
      "293082                73923                     NaN     float\n",
      "346789               101088                     NaN     float\n",
      "111887                  NaN                72592.00     float\n",
      "197412            95,077.00                     NaN       str\n",
      "278110               128710                     NaN     float\n",
      "181307            87,000.00                     NaN       str\n",
      "11210                 88000                     NaN     float\n",
      "244378                38563                     NaN     float\n",
      "143777            54,059.00                     NaN       str\n",
      "256398               105100                     NaN     float\n",
      "58527                   NaN                99840.00     float\n",
      "346087               120000                     NaN     float\n",
      "153283           121,440.00                     NaN       str\n",
      "247650                73000                     NaN     float\n",
      "188732            86,341.00                     NaN       str\n",
      "217176           126,000.00                     NaN       str\n",
      "276678               120000                     NaN     float\n",
      "25044                   NaN               139942.00     float\n",
      "368893            70,000.00                     NaN       str\n",
      "98417                   NaN               105498.00     float\n",
      "32711                   NaN                81307.20     float\n",
      "10477                 68000                     NaN     float\n",
      "105452                  NaN                78811.00     float\n",
      "210215            57,842.00                     NaN       str\n",
      "268974               125050                     NaN     float\n",
      "105945                  NaN                75754.00     float\n",
      "237391               185000                     NaN     float\n",
      "302336               119000                     NaN     float\n",
      "277557                71885                     NaN     float\n",
      "256009                93579                     NaN     float\n",
      "18854                120000                     NaN     float\n",
      "203619            67,413.00                     NaN       str\n",
      "2893                  76170                     NaN     float\n",
      "168056           115,523.00                     NaN       str\n",
      "224030             115000.0                     NaN       str\n",
      "344653                  8.2                     NaN     float\n",
      "226596                98676                     NaN     float\n",
      "255416               200000                     NaN     float\n",
      "229693               125757                     NaN     float\n",
      "144466           100,000.00                     NaN       str\n",
      "185737            83,387.00                     NaN       str\n",
      "199256            97,219.00                     NaN       str\n",
      "166075           127,150.00                     NaN       str\n",
      "120856                  NaN               156998.00     float\n",
      "12926                 80933                     NaN     float\n",
      "133690                  NaN                19219.00     float\n",
      "286201                79684                     NaN     float\n",
      "79463                   NaN                60403.00     float\n",
      "242987                72738                     NaN     float\n",
      "331454                83990                     NaN     float\n",
      "327037               115000                     NaN     float\n",
      "208842           126,630.00                     NaN       str\n",
      "316744               100529                     NaN     float\n",
      "76412                   NaN                95326.00     float\n",
      "313537               102700                     NaN     float\n",
      "108055                  NaN                97010.55     float\n",
      "84900                   NaN                65000.00     float\n",
      "60023                   NaN                69888.00     float\n",
      "274273                82618                     NaN     float\n",
      "341644                89200                     NaN     float\n",
      "96526                   NaN               112736.00     float\n",
      "88133                   NaN                67500.00     float\n",
      "68495                   NaN               121638.00     float\n",
      "185174           121,186.00                     NaN       str\n",
      "229052                  7.7                     NaN     float\n",
      "76031                   NaN                91000.00     float\n",
      "318972                91814                     NaN     float\n",
      "127982                  NaN               120000.00     float\n",
      "57923                   NaN                74235.20     float\n",
      "285686               120349                     NaN     float\n",
      "56188                   NaN                99996.00     float\n",
      "279204               146921                     NaN     float\n",
      "48200                   NaN               111675.00     float\n",
      "232512               130000                     NaN     float\n",
      "140983           132,829.00                     NaN       str\n"
     ]
    }
   ],
   "source": [
    "importlib.reload(modules)\n",
    "modules.print_full(cleanup_df.sample(100))"
   ]
  },
  {
   "cell_type": "markdown",
   "metadata": {},
   "source": [
    "It became apparent, that apllying the new type was partially successful. But values containing delimiters or seperators are still recognized as a string. "
   ]
  },
  {
   "cell_type": "code",
   "execution_count": 102,
   "metadata": {
    "pycharm": {
     "name": "#%%\n"
    }
   },
   "outputs": [
    {
     "data": {
      "text/plain": [
       "float    258181\n",
       "str      116181\n",
       "Name: wage_Type, dtype: int64"
      ]
     },
     "execution_count": 102,
     "metadata": {},
     "output_type": "execute_result"
    }
   ],
   "source": [
    "\n",
    "cleanup_df['wage_Type'].value_counts()"
   ]
  },
  {
   "cell_type": "markdown",
   "metadata": {},
   "source": [
    "We defined a new function to remove the delimiters. Additionally we replaced the '#############' values, which occured two times, with NaN. "
   ]
  },
  {
   "cell_type": "code",
   "execution_count": 103,
   "metadata": {
    "pycharm": {
     "name": "#%%\n"
    }
   },
   "outputs": [],
   "source": [
    "def clean_currency(x):\n",
    "    \"\"\" If the value is a string, then remove delimiters\n",
    "    otherwise, the value is numeric and can be converted.\n",
    "\n",
    "    \"\"\"\n",
    "    if isinstance(x, str):\n",
    "        if x == '#############':\n",
    "            x = np.nan\n",
    "        else:\n",
    "            return(x.replace(',', ''))\n",
    "    return(x)"
   ]
  },
  {
   "cell_type": "code",
   "execution_count": 104,
   "metadata": {
    "pycharm": {
     "name": "#%%\n"
    }
   },
   "outputs": [],
   "source": [
    "cleanup_df[\"wage_offer_from_9089\"] = cleanup_df[\"wage_offer_from_9089\"].apply(clean_currency).astype('float')\n",
    "cleanup_df['wage_Type'] = cleanup_df[\"wage_offer_from_9089\"].apply(lambda x: type(x).__name__)"
   ]
  },
  {
   "cell_type": "code",
   "execution_count": 105,
   "metadata": {
    "pycharm": {
     "name": "#%%\n"
    }
   },
   "outputs": [
    {
     "data": {
      "text/plain": [
       "float    374362\n",
       "Name: wage_Type, dtype: int64"
      ]
     },
     "execution_count": 105,
     "metadata": {},
     "output_type": "execute_result"
    }
   ],
   "source": [
    "\n",
    "cleanup_df['wage_Type'].value_counts()"
   ]
  },
  {
   "cell_type": "code",
   "execution_count": 106,
   "metadata": {
    "pycharm": {
     "name": "#%%\n"
    },
    "scrolled": true
   },
   "outputs": [
    {
     "name": "stdout",
     "output_type": "stream",
     "text": [
      "        wage_offer_from_9089  wage_offered_from_9089 wage_Type\n",
      "26869                    NaN                45656.00     float\n",
      "214357              95000.00                     NaN     float\n",
      "10332               82514.00                     NaN     float\n",
      "205718              76378.00                     NaN     float\n",
      "170575             174450.00                     NaN     float\n",
      "103248                   NaN               100000.00     float\n",
      "362673              89500.00                     NaN     float\n",
      "30015                    NaN                80538.00     float\n",
      "123222                   NaN               150000.00     float\n",
      "311287             103626.00                     NaN     float\n",
      "59632                    NaN                86000.16     float\n",
      "153416             142000.00                     NaN     float\n",
      "272000             160000.00                     NaN     float\n",
      "127222                   NaN                43514.00     float\n",
      "344578             115304.00                     NaN     float\n",
      "227503              76378.00                     NaN     float\n",
      "316975                 44.05                     NaN     float\n",
      "151197                 21.45                     NaN     float\n",
      "18577               50000.00                     NaN     float\n",
      "12811               90000.00                     NaN     float\n",
      "131600                   NaN                87422.00     float\n",
      "11354               91790.00                     NaN     float\n",
      "314486                 19.50                     NaN     float\n",
      "362596             125757.00                     NaN     float\n",
      "371735             162288.00                     NaN     float\n",
      "79371                    NaN               210829.00     float\n",
      "265651              56971.00                     NaN     float\n",
      "177216             105518.00                     NaN     float\n",
      "251209              88130.00                     NaN     float\n",
      "65763                    NaN               109138.00     float\n",
      "363652              81952.00                     NaN     float\n",
      "299347              33072.00                     NaN     float\n",
      "279361              71400.00                     NaN     float\n",
      "311242             100339.00                     NaN     float\n",
      "173117              60000.00                     NaN     float\n",
      "289151              79539.00                     NaN     float\n",
      "164686              97302.00                     NaN     float\n",
      "341335              66144.00                     NaN     float\n",
      "140082              91354.00                     NaN     float\n",
      "216377              85000.00                     NaN     float\n",
      "19140               46460.00                     NaN     float\n",
      "74639                    NaN                96574.00     float\n",
      "341630              56098.00                     NaN     float\n",
      "21503                    NaN                60778.00     float\n",
      "286995             100000.00                     NaN     float\n",
      "84553                    NaN               100000.00     float\n",
      "244101             108805.00                     NaN     float\n",
      "83872                    NaN                95000.00     float\n",
      "208584             230000.00                     NaN     float\n",
      "122487                   NaN               103626.00     float\n",
      "288688             128500.00                     NaN     float\n",
      "297140             102003.00                     NaN     float\n",
      "316066             108493.00                     NaN     float\n",
      "242156             126000.00                     NaN     float\n",
      "155607              93413.00                     NaN     float\n",
      "40020                    NaN               131200.00     float\n",
      "156839             121893.00                     NaN     float\n",
      "608                166400.00                     NaN     float\n",
      "278775              90438.00                     NaN     float\n",
      "37555                    NaN                48090.00     float\n",
      "97330                    NaN                79955.00     float\n",
      "173801                 45.00                     NaN     float\n",
      "260227             128000.00                     NaN     float\n",
      "174318              47000.00                     NaN     float\n",
      "274564             125000.00                     NaN     float\n",
      "336578              99600.00                     NaN     float\n",
      "297169             100000.00                     NaN     float\n",
      "263962             119500.00                     NaN     float\n",
      "150944              30888.00                     NaN     float\n",
      "207446              88000.00                     NaN     float\n",
      "246178              93475.00                     NaN     float\n",
      "94256                    NaN                63860.00     float\n",
      "332910             114296.00                     NaN     float\n",
      "133511                   NaN                50300.00     float\n",
      "143236              91000.00                     NaN     float\n",
      "314674             101088.00                     NaN     float\n",
      "352762             108063.00                     NaN     float\n",
      "14655               72675.00                     NaN     float\n",
      "123885                   NaN               119496.00     float\n",
      "47857                    NaN                74000.00     float\n",
      "166351              24482.00                     NaN     float\n",
      "280894             110698.00                     NaN     float\n",
      "162874             121186.00                     NaN     float\n",
      "38087                    NaN               120000.00     float\n",
      "112091                   NaN                92800.00     float\n",
      "192629             128773.00                     NaN     float\n",
      "309457             101712.00                     NaN     float\n",
      "374080              89000.00                     NaN     float\n",
      "290092              89086.00                     NaN     float\n",
      "109886                   NaN                88005.00     float\n",
      "213345              19219.00                     NaN     float\n",
      "32410                    NaN                70000.00     float\n",
      "106325                   NaN                 2284.00     float\n",
      "351911              40498.00                     NaN     float\n",
      "236202              90605.00                     NaN     float\n",
      "137219              74422.00                     NaN     float\n",
      "3596               113360.00                     NaN     float\n",
      "57501                    NaN                71156.80     float\n",
      "357086             140000.00                     NaN     float\n",
      "19455              120000.00                     NaN     float\n"
     ]
    }
   ],
   "source": [
    "\n",
    "modules.print_full(cleanup_df.sample(100))"
   ]
  },
  {
   "cell_type": "markdown",
   "metadata": {},
   "source": [
    "Perfect, all values are now converted to float. The column `wage_offer_from_9089` was successfully cleaned up."
   ]
  },
  {
   "cell_type": "code",
   "execution_count": 107,
   "metadata": {
    "pycharm": {
     "name": "#%%\n"
    }
   },
   "outputs": [
    {
     "data": {
      "text/plain": [
       "91104.0"
      ]
     },
     "execution_count": 107,
     "metadata": {},
     "output_type": "execute_result"
    }
   ],
   "source": [
    "cleanup_df['wage_offer_from_9089'].median()"
   ]
  },
  {
   "cell_type": "code",
   "execution_count": 108,
   "metadata": {},
   "outputs": [],
   "source": [
    "visas_df['wage_offer_from_9089'] = cleanup_df['wage_offer_from_9089']\n",
    "del cleanup_df"
   ]
  },
  {
   "cell_type": "code",
   "execution_count": 109,
   "metadata": {},
   "outputs": [
    {
     "data": {
      "text/html": [
       "<div>\n",
       "<style scoped>\n",
       "    .dataframe tbody tr th:only-of-type {\n",
       "        vertical-align: middle;\n",
       "    }\n",
       "\n",
       "    .dataframe tbody tr th {\n",
       "        vertical-align: top;\n",
       "    }\n",
       "\n",
       "    .dataframe thead th {\n",
       "        text-align: right;\n",
       "    }\n",
       "</style>\n",
       "<table border=\"1\" class=\"dataframe\">\n",
       "  <thead>\n",
       "    <tr style=\"text-align: right;\">\n",
       "      <th></th>\n",
       "      <th>wage_offer_from_9089</th>\n",
       "      <th>wage_offered_from_9089</th>\n",
       "    </tr>\n",
       "  </thead>\n",
       "  <tbody>\n",
       "    <tr>\n",
       "      <th>195291</th>\n",
       "      <td>111717.00</td>\n",
       "      <td>NaN</td>\n",
       "    </tr>\n",
       "    <tr>\n",
       "      <th>303434</th>\n",
       "      <td>66144.00</td>\n",
       "      <td>NaN</td>\n",
       "    </tr>\n",
       "    <tr>\n",
       "      <th>51888</th>\n",
       "      <td>NaN</td>\n",
       "      <td>83637.0</td>\n",
       "    </tr>\n",
       "    <tr>\n",
       "      <th>104745</th>\n",
       "      <td>NaN</td>\n",
       "      <td>88670.0</td>\n",
       "    </tr>\n",
       "    <tr>\n",
       "      <th>340752</th>\n",
       "      <td>82000.00</td>\n",
       "      <td>NaN</td>\n",
       "    </tr>\n",
       "    <tr>\n",
       "      <th>15219</th>\n",
       "      <td>94000.00</td>\n",
       "      <td>NaN</td>\n",
       "    </tr>\n",
       "    <tr>\n",
       "      <th>225827</th>\n",
       "      <td>97219.00</td>\n",
       "      <td>NaN</td>\n",
       "    </tr>\n",
       "    <tr>\n",
       "      <th>186321</th>\n",
       "      <td>98927.00</td>\n",
       "      <td>NaN</td>\n",
       "    </tr>\n",
       "    <tr>\n",
       "      <th>164398</th>\n",
       "      <td>91083.00</td>\n",
       "      <td>NaN</td>\n",
       "    </tr>\n",
       "    <tr>\n",
       "      <th>85611</th>\n",
       "      <td>NaN</td>\n",
       "      <td>81000.0</td>\n",
       "    </tr>\n",
       "    <tr>\n",
       "      <th>339944</th>\n",
       "      <td>16827.00</td>\n",
       "      <td>NaN</td>\n",
       "    </tr>\n",
       "    <tr>\n",
       "      <th>199708</th>\n",
       "      <td>132954.00</td>\n",
       "      <td>NaN</td>\n",
       "    </tr>\n",
       "    <tr>\n",
       "      <th>61393</th>\n",
       "      <td>NaN</td>\n",
       "      <td>45100.0</td>\n",
       "    </tr>\n",
       "    <tr>\n",
       "      <th>260201</th>\n",
       "      <td>64438.00</td>\n",
       "      <td>NaN</td>\n",
       "    </tr>\n",
       "    <tr>\n",
       "      <th>210377</th>\n",
       "      <td>7.85</td>\n",
       "      <td>NaN</td>\n",
       "    </tr>\n",
       "  </tbody>\n",
       "</table>\n",
       "</div>"
      ],
      "text/plain": [
       "        wage_offer_from_9089  wage_offered_from_9089\n",
       "195291             111717.00                     NaN\n",
       "303434              66144.00                     NaN\n",
       "51888                    NaN                 83637.0\n",
       "104745                   NaN                 88670.0\n",
       "340752              82000.00                     NaN\n",
       "15219               94000.00                     NaN\n",
       "225827              97219.00                     NaN\n",
       "186321              98927.00                     NaN\n",
       "164398              91083.00                     NaN\n",
       "85611                    NaN                 81000.0\n",
       "339944              16827.00                     NaN\n",
       "199708             132954.00                     NaN\n",
       "61393                    NaN                 45100.0\n",
       "260201              64438.00                     NaN\n",
       "210377                  7.85                     NaN"
      ]
     },
     "execution_count": 109,
     "metadata": {},
     "output_type": "execute_result"
    }
   ],
   "source": [
    "visas_df.sample(15)"
   ]
  },
  {
   "cell_type": "markdown",
   "metadata": {
    "pycharm": {
     "name": "#%%\n"
    }
   },
   "source": [
    "## Merging both columns"
   ]
  },
  {
   "cell_type": "markdown",
   "metadata": {},
   "source": [
    "All NaN values wil lbe filled with 0 in order to sum both columns up.\n",
    "We saw earlier thar both columns never overlap."
   ]
  },
  {
   "cell_type": "code",
   "execution_count": 110,
   "metadata": {},
   "outputs": [],
   "source": [
    "visas_df['wage_offer_merged'] = visas_df['wage_offer_from_9089'].fillna(0) + visas_df['wage_offered_from_9089'].fillna(0)"
   ]
  },
  {
   "cell_type": "code",
   "execution_count": 111,
   "metadata": {},
   "outputs": [
    {
     "data": {
      "text/html": [
       "<div>\n",
       "<style scoped>\n",
       "    .dataframe tbody tr th:only-of-type {\n",
       "        vertical-align: middle;\n",
       "    }\n",
       "\n",
       "    .dataframe tbody tr th {\n",
       "        vertical-align: top;\n",
       "    }\n",
       "\n",
       "    .dataframe thead th {\n",
       "        text-align: right;\n",
       "    }\n",
       "</style>\n",
       "<table border=\"1\" class=\"dataframe\">\n",
       "  <thead>\n",
       "    <tr style=\"text-align: right;\">\n",
       "      <th></th>\n",
       "      <th>wage_offer_from_9089</th>\n",
       "      <th>wage_offered_from_9089</th>\n",
       "      <th>wage_offer_merged</th>\n",
       "    </tr>\n",
       "  </thead>\n",
       "  <tbody>\n",
       "    <tr>\n",
       "      <th>74103</th>\n",
       "      <td>NaN</td>\n",
       "      <td>115000.0</td>\n",
       "      <td>115000.0</td>\n",
       "    </tr>\n",
       "    <tr>\n",
       "      <th>229152</th>\n",
       "      <td>7.7</td>\n",
       "      <td>NaN</td>\n",
       "      <td>7.7</td>\n",
       "    </tr>\n",
       "    <tr>\n",
       "      <th>115228</th>\n",
       "      <td>NaN</td>\n",
       "      <td>200000.0</td>\n",
       "      <td>200000.0</td>\n",
       "    </tr>\n",
       "    <tr>\n",
       "      <th>112077</th>\n",
       "      <td>NaN</td>\n",
       "      <td>100984.0</td>\n",
       "      <td>100984.0</td>\n",
       "    </tr>\n",
       "    <tr>\n",
       "      <th>167861</th>\n",
       "      <td>96845.0</td>\n",
       "      <td>NaN</td>\n",
       "      <td>96845.0</td>\n",
       "    </tr>\n",
       "    <tr>\n",
       "      <th>267868</th>\n",
       "      <td>60195.0</td>\n",
       "      <td>NaN</td>\n",
       "      <td>60195.0</td>\n",
       "    </tr>\n",
       "    <tr>\n",
       "      <th>352748</th>\n",
       "      <td>91250.0</td>\n",
       "      <td>NaN</td>\n",
       "      <td>91250.0</td>\n",
       "    </tr>\n",
       "    <tr>\n",
       "      <th>239754</th>\n",
       "      <td>100000.0</td>\n",
       "      <td>NaN</td>\n",
       "      <td>100000.0</td>\n",
       "    </tr>\n",
       "    <tr>\n",
       "      <th>110591</th>\n",
       "      <td>NaN</td>\n",
       "      <td>75442.0</td>\n",
       "      <td>75442.0</td>\n",
       "    </tr>\n",
       "    <tr>\n",
       "      <th>228680</th>\n",
       "      <td>120000.0</td>\n",
       "      <td>NaN</td>\n",
       "      <td>120000.0</td>\n",
       "    </tr>\n",
       "    <tr>\n",
       "      <th>261699</th>\n",
       "      <td>36.0</td>\n",
       "      <td>NaN</td>\n",
       "      <td>36.0</td>\n",
       "    </tr>\n",
       "    <tr>\n",
       "      <th>105932</th>\n",
       "      <td>NaN</td>\n",
       "      <td>115000.0</td>\n",
       "      <td>115000.0</td>\n",
       "    </tr>\n",
       "    <tr>\n",
       "      <th>129442</th>\n",
       "      <td>NaN</td>\n",
       "      <td>76108.0</td>\n",
       "      <td>76108.0</td>\n",
       "    </tr>\n",
       "    <tr>\n",
       "      <th>28068</th>\n",
       "      <td>NaN</td>\n",
       "      <td>80621.0</td>\n",
       "      <td>80621.0</td>\n",
       "    </tr>\n",
       "    <tr>\n",
       "      <th>150674</th>\n",
       "      <td>50461.0</td>\n",
       "      <td>NaN</td>\n",
       "      <td>50461.0</td>\n",
       "    </tr>\n",
       "  </tbody>\n",
       "</table>\n",
       "</div>"
      ],
      "text/plain": [
       "        wage_offer_from_9089  wage_offered_from_9089  wage_offer_merged\n",
       "74103                    NaN                115000.0           115000.0\n",
       "229152                   7.7                     NaN                7.7\n",
       "115228                   NaN                200000.0           200000.0\n",
       "112077                   NaN                100984.0           100984.0\n",
       "167861               96845.0                     NaN            96845.0\n",
       "267868               60195.0                     NaN            60195.0\n",
       "352748               91250.0                     NaN            91250.0\n",
       "239754              100000.0                     NaN           100000.0\n",
       "110591                   NaN                 75442.0            75442.0\n",
       "228680              120000.0                     NaN           120000.0\n",
       "261699                  36.0                     NaN               36.0\n",
       "105932                   NaN                115000.0           115000.0\n",
       "129442                   NaN                 76108.0            76108.0\n",
       "28068                    NaN                 80621.0            80621.0\n",
       "150674               50461.0                     NaN            50461.0"
      ]
     },
     "execution_count": 111,
     "metadata": {},
     "output_type": "execute_result"
    }
   ],
   "source": [
    "visas_df.sample(15)"
   ]
  },
  {
   "cell_type": "code",
   "execution_count": 112,
   "metadata": {},
   "outputs": [
    {
     "data": {
      "text/plain": [
       "dtype('float64')"
      ]
     },
     "execution_count": 112,
     "metadata": {},
     "output_type": "execute_result"
    }
   ],
   "source": [
    "visas_df['wage_offer_merged'].dtype"
   ]
  },
  {
   "cell_type": "code",
   "execution_count": 113,
   "metadata": {},
   "outputs": [
    {
     "data": {
      "text/plain": [
       "126"
      ]
     },
     "execution_count": 113,
     "metadata": {},
     "output_type": "execute_result"
    }
   ],
   "source": [
    "(visas_df['wage_offer_merged'] == 0).sum()"
   ]
  },
  {
   "cell_type": "markdown",
   "metadata": {},
   "source": [
    "We filled NaN values with 0 in Order to calculate sums. Now we will replaye 0 with NaN to keep the columns cleaned up.\n",
    "Additionally a wage of 0 would be unrealistic."
   ]
  },
  {
   "cell_type": "code",
   "execution_count": 114,
   "metadata": {},
   "outputs": [],
   "source": [
    "visas_df['wage_offer_merged'].replace(0, np.nan, inplace=True)"
   ]
  },
  {
   "cell_type": "code",
   "execution_count": 115,
   "metadata": {},
   "outputs": [
    {
     "data": {
      "text/plain": [
       "0"
      ]
     },
     "execution_count": 115,
     "metadata": {},
     "output_type": "execute_result"
    }
   ],
   "source": [
    "(visas_df['wage_offer_merged'] == 0).sum()"
   ]
  },
  {
   "cell_type": "code",
   "execution_count": 116,
   "metadata": {},
   "outputs": [
    {
     "data": {
      "text/plain": [
       "91000.0"
      ]
     },
     "execution_count": 116,
     "metadata": {},
     "output_type": "execute_result"
    }
   ],
   "source": [
    "visas_df['wage_offer_merged'].median()"
   ]
  },
  {
   "cell_type": "markdown",
   "metadata": {},
   "source": [
    "---\n",
    "# Cleaning up wage_offer_unit"
   ]
  },
  {
   "cell_type": "code",
   "execution_count": 117,
   "metadata": {},
   "outputs": [
    {
     "name": "stderr",
     "output_type": "stream",
     "text": [
      "C:\\Users\\andre\\anaconda3\\lib\\site-packages\\IPython\\core\\interactiveshell.py:3146: DtypeWarning: Columns (150,153) have mixed types.Specify dtype option on import or set low_memory=False.\n",
      "  has_raised = await self.run_ast_nodes(code_ast.body, cell_name,\n"
     ]
    },
    {
     "data": {
      "text/html": [
       "<div>\n",
       "<style scoped>\n",
       "    .dataframe tbody tr th:only-of-type {\n",
       "        vertical-align: middle;\n",
       "    }\n",
       "\n",
       "    .dataframe tbody tr th {\n",
       "        vertical-align: top;\n",
       "    }\n",
       "\n",
       "    .dataframe thead th {\n",
       "        text-align: right;\n",
       "    }\n",
       "</style>\n",
       "<table border=\"1\" class=\"dataframe\">\n",
       "  <thead>\n",
       "    <tr style=\"text-align: right;\">\n",
       "      <th></th>\n",
       "      <th>wage_offer_unit_of_pay_9089</th>\n",
       "      <th>wage_offered_unit_of_pay_9089</th>\n",
       "    </tr>\n",
       "  </thead>\n",
       "  <tbody>\n",
       "    <tr>\n",
       "      <th>0</th>\n",
       "      <td>yr</td>\n",
       "      <td>NaN</td>\n",
       "    </tr>\n",
       "    <tr>\n",
       "      <th>1</th>\n",
       "      <td>yr</td>\n",
       "      <td>NaN</td>\n",
       "    </tr>\n",
       "    <tr>\n",
       "      <th>2</th>\n",
       "      <td>yr</td>\n",
       "      <td>NaN</td>\n",
       "    </tr>\n",
       "    <tr>\n",
       "      <th>3</th>\n",
       "      <td>hr</td>\n",
       "      <td>NaN</td>\n",
       "    </tr>\n",
       "    <tr>\n",
       "      <th>4</th>\n",
       "      <td>yr</td>\n",
       "      <td>NaN</td>\n",
       "    </tr>\n",
       "  </tbody>\n",
       "</table>\n",
       "</div>"
      ],
      "text/plain": [
       "  wage_offer_unit_of_pay_9089 wage_offered_unit_of_pay_9089\n",
       "0                          yr                           NaN\n",
       "1                          yr                           NaN\n",
       "2                          yr                           NaN\n",
       "3                          hr                           NaN\n",
       "4                          yr                           NaN"
      ]
     },
     "execution_count": 117,
     "metadata": {},
     "output_type": "execute_result"
    }
   ],
   "source": [
    "col_list= [\"wage_offer_unit_of_pay_9089\", \"wage_offered_unit_of_pay_9089\"]\n",
    "visas_df = pd.read_csv(\"data/us_perm_visas.csv\", usecols=col_list)\n",
    "visas_df.head ()"
   ]
  },
  {
   "cell_type": "code",
   "execution_count": 118,
   "metadata": {},
   "outputs": [
    {
     "data": {
      "text/html": [
       "<div>\n",
       "<style scoped>\n",
       "    .dataframe tbody tr th:only-of-type {\n",
       "        vertical-align: middle;\n",
       "    }\n",
       "\n",
       "    .dataframe tbody tr th {\n",
       "        vertical-align: top;\n",
       "    }\n",
       "\n",
       "    .dataframe thead th {\n",
       "        text-align: right;\n",
       "    }\n",
       "</style>\n",
       "<table border=\"1\" class=\"dataframe\">\n",
       "  <thead>\n",
       "    <tr style=\"text-align: right;\">\n",
       "      <th></th>\n",
       "      <th>wage_offer_unit_of_pay_9089</th>\n",
       "      <th>wage_offered_unit_of_pay_9089</th>\n",
       "    </tr>\n",
       "  </thead>\n",
       "  <tbody>\n",
       "    <tr>\n",
       "      <th>209956</th>\n",
       "      <td>Year</td>\n",
       "      <td>NaN</td>\n",
       "    </tr>\n",
       "    <tr>\n",
       "      <th>272684</th>\n",
       "      <td>Year</td>\n",
       "      <td>NaN</td>\n",
       "    </tr>\n",
       "    <tr>\n",
       "      <th>125108</th>\n",
       "      <td>NaN</td>\n",
       "      <td>Year</td>\n",
       "    </tr>\n",
       "    <tr>\n",
       "      <th>15940</th>\n",
       "      <td>yr</td>\n",
       "      <td>NaN</td>\n",
       "    </tr>\n",
       "    <tr>\n",
       "      <th>64367</th>\n",
       "      <td>NaN</td>\n",
       "      <td>NaN</td>\n",
       "    </tr>\n",
       "    <tr>\n",
       "      <th>51456</th>\n",
       "      <td>NaN</td>\n",
       "      <td>NaN</td>\n",
       "    </tr>\n",
       "    <tr>\n",
       "      <th>93591</th>\n",
       "      <td>NaN</td>\n",
       "      <td>Year</td>\n",
       "    </tr>\n",
       "    <tr>\n",
       "      <th>1696</th>\n",
       "      <td>yr</td>\n",
       "      <td>NaN</td>\n",
       "    </tr>\n",
       "    <tr>\n",
       "      <th>208118</th>\n",
       "      <td>Year</td>\n",
       "      <td>NaN</td>\n",
       "    </tr>\n",
       "    <tr>\n",
       "      <th>355606</th>\n",
       "      <td>Hour</td>\n",
       "      <td>NaN</td>\n",
       "    </tr>\n",
       "    <tr>\n",
       "      <th>53527</th>\n",
       "      <td>NaN</td>\n",
       "      <td>NaN</td>\n",
       "    </tr>\n",
       "    <tr>\n",
       "      <th>229969</th>\n",
       "      <td>Year</td>\n",
       "      <td>NaN</td>\n",
       "    </tr>\n",
       "    <tr>\n",
       "      <th>238036</th>\n",
       "      <td>Year</td>\n",
       "      <td>NaN</td>\n",
       "    </tr>\n",
       "    <tr>\n",
       "      <th>89225</th>\n",
       "      <td>NaN</td>\n",
       "      <td>Year</td>\n",
       "    </tr>\n",
       "    <tr>\n",
       "      <th>211377</th>\n",
       "      <td>Year</td>\n",
       "      <td>NaN</td>\n",
       "    </tr>\n",
       "    <tr>\n",
       "      <th>361914</th>\n",
       "      <td>Year</td>\n",
       "      <td>NaN</td>\n",
       "    </tr>\n",
       "    <tr>\n",
       "      <th>118426</th>\n",
       "      <td>NaN</td>\n",
       "      <td>Year</td>\n",
       "    </tr>\n",
       "    <tr>\n",
       "      <th>43006</th>\n",
       "      <td>NaN</td>\n",
       "      <td>NaN</td>\n",
       "    </tr>\n",
       "    <tr>\n",
       "      <th>309536</th>\n",
       "      <td>Year</td>\n",
       "      <td>NaN</td>\n",
       "    </tr>\n",
       "    <tr>\n",
       "      <th>196756</th>\n",
       "      <td>Year</td>\n",
       "      <td>NaN</td>\n",
       "    </tr>\n",
       "    <tr>\n",
       "      <th>356282</th>\n",
       "      <td>Year</td>\n",
       "      <td>NaN</td>\n",
       "    </tr>\n",
       "    <tr>\n",
       "      <th>19316</th>\n",
       "      <td>yr</td>\n",
       "      <td>NaN</td>\n",
       "    </tr>\n",
       "    <tr>\n",
       "      <th>100709</th>\n",
       "      <td>NaN</td>\n",
       "      <td>Year</td>\n",
       "    </tr>\n",
       "    <tr>\n",
       "      <th>281830</th>\n",
       "      <td>Year</td>\n",
       "      <td>NaN</td>\n",
       "    </tr>\n",
       "    <tr>\n",
       "      <th>26168</th>\n",
       "      <td>NaN</td>\n",
       "      <td>NaN</td>\n",
       "    </tr>\n",
       "    <tr>\n",
       "      <th>172537</th>\n",
       "      <td>Year</td>\n",
       "      <td>NaN</td>\n",
       "    </tr>\n",
       "    <tr>\n",
       "      <th>212884</th>\n",
       "      <td>Year</td>\n",
       "      <td>NaN</td>\n",
       "    </tr>\n",
       "    <tr>\n",
       "      <th>107695</th>\n",
       "      <td>NaN</td>\n",
       "      <td>Year</td>\n",
       "    </tr>\n",
       "    <tr>\n",
       "      <th>361605</th>\n",
       "      <td>Year</td>\n",
       "      <td>NaN</td>\n",
       "    </tr>\n",
       "    <tr>\n",
       "      <th>64518</th>\n",
       "      <td>NaN</td>\n",
       "      <td>NaN</td>\n",
       "    </tr>\n",
       "    <tr>\n",
       "      <th>219109</th>\n",
       "      <td>Year</td>\n",
       "      <td>NaN</td>\n",
       "    </tr>\n",
       "    <tr>\n",
       "      <th>129807</th>\n",
       "      <td>NaN</td>\n",
       "      <td>Year</td>\n",
       "    </tr>\n",
       "    <tr>\n",
       "      <th>76607</th>\n",
       "      <td>NaN</td>\n",
       "      <td>Year</td>\n",
       "    </tr>\n",
       "    <tr>\n",
       "      <th>291756</th>\n",
       "      <td>Year</td>\n",
       "      <td>NaN</td>\n",
       "    </tr>\n",
       "    <tr>\n",
       "      <th>66779</th>\n",
       "      <td>NaN</td>\n",
       "      <td>Year</td>\n",
       "    </tr>\n",
       "    <tr>\n",
       "      <th>164051</th>\n",
       "      <td>Year</td>\n",
       "      <td>NaN</td>\n",
       "    </tr>\n",
       "    <tr>\n",
       "      <th>145138</th>\n",
       "      <td>Year</td>\n",
       "      <td>NaN</td>\n",
       "    </tr>\n",
       "    <tr>\n",
       "      <th>55799</th>\n",
       "      <td>NaN</td>\n",
       "      <td>NaN</td>\n",
       "    </tr>\n",
       "    <tr>\n",
       "      <th>256594</th>\n",
       "      <td>Year</td>\n",
       "      <td>NaN</td>\n",
       "    </tr>\n",
       "    <tr>\n",
       "      <th>270251</th>\n",
       "      <td>Year</td>\n",
       "      <td>NaN</td>\n",
       "    </tr>\n",
       "    <tr>\n",
       "      <th>309201</th>\n",
       "      <td>Year</td>\n",
       "      <td>NaN</td>\n",
       "    </tr>\n",
       "    <tr>\n",
       "      <th>352954</th>\n",
       "      <td>Year</td>\n",
       "      <td>NaN</td>\n",
       "    </tr>\n",
       "    <tr>\n",
       "      <th>272870</th>\n",
       "      <td>Year</td>\n",
       "      <td>NaN</td>\n",
       "    </tr>\n",
       "    <tr>\n",
       "      <th>132381</th>\n",
       "      <td>NaN</td>\n",
       "      <td>Year</td>\n",
       "    </tr>\n",
       "    <tr>\n",
       "      <th>50774</th>\n",
       "      <td>NaN</td>\n",
       "      <td>NaN</td>\n",
       "    </tr>\n",
       "    <tr>\n",
       "      <th>356083</th>\n",
       "      <td>Year</td>\n",
       "      <td>NaN</td>\n",
       "    </tr>\n",
       "    <tr>\n",
       "      <th>253439</th>\n",
       "      <td>Year</td>\n",
       "      <td>NaN</td>\n",
       "    </tr>\n",
       "    <tr>\n",
       "      <th>63320</th>\n",
       "      <td>NaN</td>\n",
       "      <td>NaN</td>\n",
       "    </tr>\n",
       "    <tr>\n",
       "      <th>10482</th>\n",
       "      <td>yr</td>\n",
       "      <td>NaN</td>\n",
       "    </tr>\n",
       "    <tr>\n",
       "      <th>78444</th>\n",
       "      <td>NaN</td>\n",
       "      <td>Year</td>\n",
       "    </tr>\n",
       "  </tbody>\n",
       "</table>\n",
       "</div>"
      ],
      "text/plain": [
       "       wage_offer_unit_of_pay_9089 wage_offered_unit_of_pay_9089\n",
       "209956                        Year                           NaN\n",
       "272684                        Year                           NaN\n",
       "125108                         NaN                          Year\n",
       "15940                           yr                           NaN\n",
       "64367                          NaN                           NaN\n",
       "51456                          NaN                           NaN\n",
       "93591                          NaN                          Year\n",
       "1696                            yr                           NaN\n",
       "208118                        Year                           NaN\n",
       "355606                        Hour                           NaN\n",
       "53527                          NaN                           NaN\n",
       "229969                        Year                           NaN\n",
       "238036                        Year                           NaN\n",
       "89225                          NaN                          Year\n",
       "211377                        Year                           NaN\n",
       "361914                        Year                           NaN\n",
       "118426                         NaN                          Year\n",
       "43006                          NaN                           NaN\n",
       "309536                        Year                           NaN\n",
       "196756                        Year                           NaN\n",
       "356282                        Year                           NaN\n",
       "19316                           yr                           NaN\n",
       "100709                         NaN                          Year\n",
       "281830                        Year                           NaN\n",
       "26168                          NaN                           NaN\n",
       "172537                        Year                           NaN\n",
       "212884                        Year                           NaN\n",
       "107695                         NaN                          Year\n",
       "361605                        Year                           NaN\n",
       "64518                          NaN                           NaN\n",
       "219109                        Year                           NaN\n",
       "129807                         NaN                          Year\n",
       "76607                          NaN                          Year\n",
       "291756                        Year                           NaN\n",
       "66779                          NaN                          Year\n",
       "164051                        Year                           NaN\n",
       "145138                        Year                           NaN\n",
       "55799                          NaN                           NaN\n",
       "256594                        Year                           NaN\n",
       "270251                        Year                           NaN\n",
       "309201                        Year                           NaN\n",
       "352954                        Year                           NaN\n",
       "272870                        Year                           NaN\n",
       "132381                         NaN                          Year\n",
       "50774                          NaN                           NaN\n",
       "356083                        Year                           NaN\n",
       "253439                        Year                           NaN\n",
       "63320                          NaN                           NaN\n",
       "10482                           yr                           NaN\n",
       "78444                          NaN                          Year"
      ]
     },
     "execution_count": 118,
     "metadata": {},
     "output_type": "execute_result"
    }
   ],
   "source": [
    "visas_df.sample(50)"
   ]
  },
  {
   "cell_type": "code",
   "execution_count": 129,
   "metadata": {},
   "outputs": [
    {
     "data": {
      "text/plain": [
       "Year         230591\n",
       "yr            19733\n",
       "Hour           7038\n",
       "hr              781\n",
       "Week            142\n",
       "Month            81\n",
       "wk               30\n",
       "mth              21\n",
       "Bi-Weekly        20\n",
       "bi                9\n",
       "Name: wage_offer_unit_of_pay_9089, dtype: int64"
      ]
     },
     "execution_count": 129,
     "metadata": {},
     "output_type": "execute_result"
    }
   ],
   "source": [
    "visas_df['wage_offer_unit_of_pay_9089'].value_counts()"
   ]
  },
  {
   "cell_type": "code",
   "execution_count": 130,
   "metadata": {},
   "outputs": [
    {
     "data": {
      "text/plain": [
       "Year         68950\n",
       "Hour          1651\n",
       "Week            58\n",
       "Month           39\n",
       "Bi-Weekly        1\n",
       "Name: wage_offered_unit_of_pay_9089, dtype: int64"
      ]
     },
     "execution_count": 130,
     "metadata": {},
     "output_type": "execute_result"
    }
   ],
   "source": [
    "visas_df['wage_offered_unit_of_pay_9089'].value_counts()"
   ]
  },
  {
   "cell_type": "markdown",
   "metadata": {},
   "source": [
    "wage_offer_unit_of_pay_9089 has to be cleaned. We'll deal with this issue after the merge. "
   ]
  },
  {
   "cell_type": "markdown",
   "metadata": {},
   "source": [
    "modules.print_count_of_values_relation(visas_df, True, True)"
   ]
  },
  {
   "cell_type": "markdown",
   "metadata": {},
   "source": [
    "We will merge the both columns and take a closer look at the values they are containing."
   ]
  },
  {
   "cell_type": "code",
   "execution_count": 122,
   "metadata": {},
   "outputs": [],
   "source": [
    "visas_df['wage_offer_unit_merged'] = visas_df['wage_offer_unit_of_pay_9089'].fillna('') + visas_df['wage_offered_unit_of_pay_9089'].fillna('')"
   ]
  },
  {
   "cell_type": "code",
   "execution_count": 134,
   "metadata": {},
   "outputs": [],
   "source": [
    "visas_df['wage_offer_unit_merged'].replace('', np.nan, inplace=True)"
   ]
  },
  {
   "cell_type": "code",
   "execution_count": 135,
   "metadata": {
    "scrolled": true
   },
   "outputs": [
    {
     "data": {
      "text/plain": [
       "Year         299541\n",
       "yr            19733\n",
       "Hour           8689\n",
       "hr              781\n",
       "Week            200\n",
       "Month           120\n",
       "wk               30\n",
       "mth              21\n",
       "Bi-Weekly        21\n",
       "bi                9\n",
       "Name: wage_offer_unit_merged, dtype: int64"
      ]
     },
     "execution_count": 135,
     "metadata": {},
     "output_type": "execute_result"
    }
   ],
   "source": [
    "visas_df['wage_offer_unit_merged'].value_counts()"
   ]
  },
  {
   "cell_type": "code",
   "execution_count": null,
   "metadata": {},
   "outputs": [],
   "source": []
  }
 ],
 "metadata": {
  "kernelspec": {
   "display_name": "Python 3",
   "language": "python",
   "name": "python3"
  },
  "language_info": {
   "codemirror_mode": {
    "name": "ipython",
    "version": 3
   },
   "file_extension": ".py",
   "mimetype": "text/x-python",
   "name": "python",
   "nbconvert_exporter": "python",
   "pygments_lexer": "ipython3",
   "version": "3.8.5"
  }
 },
 "nbformat": 4,
 "nbformat_minor": 1
}