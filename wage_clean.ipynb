{
 "cells": [
  {
   "cell_type": "markdown",
   "metadata": {},
   "source": [
    "# Cleaning up wage_offer_from"
   ]
  },
  {
   "attachments": {},
   "cell_type": "markdown",
   "metadata": {},
   "source": [
    "wage offer from is represented in two columns wage_offer_from_9089 and wage_offered_from_9089. These both columns must be merged in order to work with them."
   ]
  },
  {
   "cell_type": "code",
   "execution_count": 146,
   "metadata": {},
   "outputs": [],
   "source": [
    "import pandas as pd\n",
    "import importlib\n",
    "import modules\n",
    "import numpy as np"
   ]
  },
  {
   "cell_type": "code",
   "execution_count": 147,
   "metadata": {},
   "outputs": [
    {
     "name": "stderr",
     "output_type": "stream",
     "text": [
      "C:\\Users\\andre\\anaconda3\\lib\\site-packages\\IPython\\core\\interactiveshell.py:3146: DtypeWarning: Columns (148) have mixed types.Specify dtype option on import or set low_memory=False.\n",
      "  has_raised = await self.run_ast_nodes(code_ast.body, cell_name,\n"
     ]
    },
    {
     "data": {
      "text/plain": "  wage_offer_from_9089  wage_offered_from_9089\n0                75629                     NaN\n1                37024                     NaN\n2                47923                     NaN\n3                10.97                     NaN\n4               100000                     NaN",
      "text/html": "<div>\n<style scoped>\n    .dataframe tbody tr th:only-of-type {\n        vertical-align: middle;\n    }\n\n    .dataframe tbody tr th {\n        vertical-align: top;\n    }\n\n    .dataframe thead th {\n        text-align: right;\n    }\n</style>\n<table border=\"1\" class=\"dataframe\">\n  <thead>\n    <tr style=\"text-align: right;\">\n      <th></th>\n      <th>wage_offer_from_9089</th>\n      <th>wage_offered_from_9089</th>\n    </tr>\n  </thead>\n  <tbody>\n    <tr>\n      <th>0</th>\n      <td>75629</td>\n      <td>NaN</td>\n    </tr>\n    <tr>\n      <th>1</th>\n      <td>37024</td>\n      <td>NaN</td>\n    </tr>\n    <tr>\n      <th>2</th>\n      <td>47923</td>\n      <td>NaN</td>\n    </tr>\n    <tr>\n      <th>3</th>\n      <td>10.97</td>\n      <td>NaN</td>\n    </tr>\n    <tr>\n      <th>4</th>\n      <td>100000</td>\n      <td>NaN</td>\n    </tr>\n  </tbody>\n</table>\n</div>"
     },
     "execution_count": 147,
     "metadata": {},
     "output_type": "execute_result"
    }
   ],
   "source": [
    "col_list= [\"wage_offer_from_9089\", \"wage_offered_from_9089\"]\n",
    "visas_df = pd.read_csv(\"data/us_perm_visas.csv\", usecols=col_list)\n",
    "visas_df.head ()"
   ]
  },
  {
   "cell_type": "code",
   "execution_count": 148,
   "metadata": {},
   "outputs": [
    {
     "data": {
      "text/plain": "wage_offer_from_9089       object\nwage_offered_from_9089    float64\ndtype: object"
     },
     "execution_count": 148,
     "metadata": {},
     "output_type": "execute_result"
    }
   ],
   "source": [
    "visas_df.dtypes"
   ]
  },
  {
   "cell_type": "markdown",
   "metadata": {},
   "source": [
    "wage_offered_from_9089 was sucessfully imported as float. \n",
    "However we'll have to take a closer look at wage_offer_from_9089 to convert it to a float value."
   ]
  },
  {
   "cell_type": "markdown",
   "metadata": {},
   "source": [
    "Next, we'll take a closer look how the values in these two columns are distributed. \n",
    "We defined a new function in our modules library to deal with this task. "
   ]
  },
  {
   "cell_type": "code",
   "execution_count": 149,
   "metadata": {},
   "outputs": [
    {
     "name": "stdout",
     "output_type": "stream",
     "text": [
      "wage_offer_from_9089\n",
      "259591/374362 69%\n",
      "Filled: |██████████████████████████████████----------------| 69.3% Rows\r\n",
      "\n",
      "wage_offered_from_9089\n",
      "114647/374362 31%\n",
      "Filled: |███████████████-----------------------------------| 30.6% Rows\r\n",
      "\n"
     ]
    },
    {
     "data": {
      "text/plain": "<Figure size 1152x288 with 1 Axes>",
      "image/png": "[encoded data removed]"
     },
     "metadata": {
      "needs_background": "light"
     },
     "output_type": "display_data"
    },
    {
     "data": {
      "text/plain": "<Figure size 1152x288 with 1 Axes>",
      "image/png": "[encoded data removed]"
     },
     "metadata": {
      "needs_background": "light"
     },
     "output_type": "display_data"
    }
   ],
   "source": [
    "modules.print_count_of_values_relation(visas_df, True, True)"
   ]
  },
  {
   "cell_type": "markdown",
   "metadata": {},
   "source": [
    "To explain the resulting graphs: \n",
    "The X-Axis shows the index of all values. We have over 350000 values (rows) in our dataset.\n",
    "The Y-Axis shows if a row is filled with a actual value. Not NaN Values are displayed as 1, NaN values are displayed as 0. \n",
    "\n",
    "It becomes aparent that both columnscomplete each other. Gaps in wage_offer_from_9098 can be filled with wage_offer_from_9098."
   ]
  },
  {
   "cell_type": "markdown",
   "metadata": {
    "pycharm": {
     "name": "#%% md\n"
    }
   },
   "source": [
    "----\n",
    "## Cleaning up `wage_offer_from_9089`"
   ]
  },
  {
   "cell_type": "markdown",
   "metadata": {
    "pycharm": {
     "name": "#%% md\n"
    }
   },
   "source": [
    "In Progress of our data analysis it became apparent, that wage_offer_from_9089 has to be cleaned up, before analyzing the contained data. "
   ]
  },
  {
   "cell_type": "code",
   "execution_count": 149,
   "metadata": {},
   "outputs": [],
   "source": []
  },
  {
   "cell_type": "code",
   "execution_count": 150,
   "metadata": {
    "pycharm": {
     "name": "#%%\n"
    }
   },
   "outputs": [
    {
     "data": {
      "text/plain": "wage_offer_from_9089       object\nwage_offered_from_9089    float64\ndtype: object"
     },
     "execution_count": 150,
     "metadata": {},
     "output_type": "execute_result"
    }
   ],
   "source": [
    "cleanup_df = visas_df.copy()\n",
    "cleanup_df.dtypes"
   ]
  },
  {
   "cell_type": "markdown",
   "metadata": {},
   "source": [
    "Originally all the imported rows were recognized as \"object\". But the values should be converted to float values."
   ]
  },
  {
   "cell_type": "code",
   "execution_count": 151,
   "metadata": {
    "pycharm": {
     "name": "#%%\n"
    }
   },
   "outputs": [],
   "source": [
    "# cleanup_df[\"wage_offer_from_9089\"].astype('float')"
   ]
  },
  {
   "cell_type": "markdown",
   "metadata": {},
   "source": [
    "First, we tried to convert the data, by applying the new type."
   ]
  },
  {
   "cell_type": "code",
   "execution_count": 152,
   "metadata": {
    "pycharm": {
     "name": "#%%\n"
    }
   },
   "outputs": [
    {
     "data": {
      "text/plain": "0         <class 'float'>\n1         <class 'float'>\n2         <class 'float'>\n3         <class 'float'>\n4         <class 'float'>\n               ...       \n374357      <class 'str'>\n374358      <class 'str'>\n374359      <class 'str'>\n374360      <class 'str'>\n374361      <class 'str'>\nName: wage_offer_from_9089, Length: 374362, dtype: object"
     },
     "execution_count": 152,
     "metadata": {},
     "output_type": "execute_result"
    }
   ],
   "source": [
    "cleanup_df[\"wage_offer_from_9089\"].apply(type)"
   ]
  },
  {
   "cell_type": "markdown",
   "metadata": {},
   "source": [
    "We defined a new columnn, containing the types of all newly converted values."
   ]
  },
  {
   "cell_type": "code",
   "execution_count": 153,
   "metadata": {
    "pycharm": {
     "name": "#%%\n"
    }
   },
   "outputs": [],
   "source": [
    "cleanup_df['wage_Type'] = cleanup_df[\"wage_offer_from_9089\"].apply(lambda x: type(x).__name__)"
   ]
  },
  {
   "cell_type": "code",
   "execution_count": 154,
   "metadata": {
    "pycharm": {
     "name": "#%%\n"
    }
   },
   "outputs": [
    {
     "data": {
      "text/plain": "  wage_offer_from_9089  wage_offered_from_9089 wage_Type\n0                75629                     NaN     float\n1                37024                     NaN     float\n2                47923                     NaN     float\n3                10.97                     NaN     float\n4               100000                     NaN     float",
      "text/html": "<div>\n<style scoped>\n    .dataframe tbody tr th:only-of-type {\n        vertical-align: middle;\n    }\n\n    .dataframe tbody tr th {\n        vertical-align: top;\n    }\n\n    .dataframe thead th {\n        text-align: right;\n    }\n</style>\n<table border=\"1\" class=\"dataframe\">\n  <thead>\n    <tr style=\"text-align: right;\">\n      <th></th>\n      <th>wage_offer_from_9089</th>\n      <th>wage_offered_from_9089</th>\n      <th>wage_Type</th>\n    </tr>\n  </thead>\n  <tbody>\n    <tr>\n      <th>0</th>\n      <td>75629</td>\n      <td>NaN</td>\n      <td>float</td>\n    </tr>\n    <tr>\n      <th>1</th>\n      <td>37024</td>\n      <td>NaN</td>\n      <td>float</td>\n    </tr>\n    <tr>\n      <th>2</th>\n      <td>47923</td>\n      <td>NaN</td>\n      <td>float</td>\n    </tr>\n    <tr>\n      <th>3</th>\n      <td>10.97</td>\n      <td>NaN</td>\n      <td>float</td>\n    </tr>\n    <tr>\n      <th>4</th>\n      <td>100000</td>\n      <td>NaN</td>\n      <td>float</td>\n    </tr>\n  </tbody>\n</table>\n</div>"
     },
     "execution_count": 154,
     "metadata": {},
     "output_type": "execute_result"
    }
   ],
   "source": [
    "\n",
    "cleanup_df.head()"
   ]
  },
  {
   "cell_type": "code",
   "execution_count": 155,
   "metadata": {
    "pycharm": {
     "name": "#%%\n"
    }
   },
   "outputs": [],
   "source": [
    "import modules"
   ]
  },
  {
   "cell_type": "code",
   "execution_count": 156,
   "metadata": {
    "pycharm": {
     "name": "#%%\n"
    },
    "scrolled": true
   },
   "outputs": [
    {
     "name": "stdout",
     "output_type": "stream",
     "text": [
      "       wage_offer_from_9089  wage_offered_from_9089 wage_Type\n",
      "214139            88,254.00                     NaN       str\n",
      "15135                 51125                     NaN     float\n",
      "195795           103,272.00                     NaN       str\n",
      "100359                  NaN                88254.00     float\n",
      "53034                   NaN                84000.00     float\n",
      "3867                 100000                     NaN     float\n",
      "64325                   NaN               110000.16     float\n",
      "353789            57,866.00                     NaN       str\n",
      "129559                  NaN                50419.00     float\n",
      "123167                  NaN               127566.00     float\n",
      "111639                  NaN                80000.00     float\n",
      "35630                   NaN                60600.00     float\n",
      "117925                  NaN                68750.00     float\n",
      "179600            75,442.00                     NaN       str\n",
      "113160                  NaN               111100.00     float\n",
      "342825                81765                     NaN     float\n",
      "8688                  81370                     NaN     float\n",
      "311909               119642                     NaN     float\n",
      "234703               127000                     NaN     float\n",
      "318224               159141                     NaN     float\n",
      "124730                  NaN                65707.00     float\n",
      "22268                   NaN               102303.00     float\n",
      "192808            40,000.00                     NaN       str\n",
      "219858           154,000.00                     NaN       str\n",
      "287129                17222                     NaN     float\n",
      "117783                  NaN               245000.00     float\n",
      "197317           125,757.00                     NaN       str\n",
      "261779               102669                     NaN     float\n",
      "289067                95098                     NaN     float\n",
      "202373            71,531.00                     NaN       str\n",
      "353751           190,000.00                     NaN       str\n",
      "342418                99939                     NaN     float\n",
      "353752           117,395.00                     NaN       str\n",
      "56696                   NaN                48214.00     float\n",
      "305611                65832                     NaN     float\n",
      "224506             118082.0                     NaN       str\n",
      "313028                67288                     NaN     float\n",
      "103570                  NaN               107000.00     float\n",
      "26767                   NaN                83179.20     float\n",
      "109941                  NaN               121202.00     float\n",
      "148827           218,774.00                     NaN       str\n",
      "42491                   NaN                90000.00     float\n",
      "73810                   NaN                75000.00     float\n",
      "245538                90064                     NaN     float\n",
      "297691                63500                     NaN     float\n",
      "134867                  NaN               190000.00     float\n",
      "192582           187,199.00                     NaN       str\n",
      "211702            98,330.00                     NaN       str\n",
      "18530                 90896                     NaN     float\n",
      "80660                   NaN                97400.00     float\n",
      "137370            74,422.00                     NaN       str\n",
      "82399                   NaN               100110.00     float\n",
      "271391                    9                     NaN     float\n",
      "334857                95000                     NaN     float\n",
      "196392           110,406.00                     NaN       str\n",
      "118728                  NaN                80297.00     float\n",
      "3650                 120370                     NaN     float\n",
      "344416                97844                     NaN     float\n",
      "305352                69846                     NaN     float\n",
      "256228               100173                     NaN     float\n",
      "285321                99939                     NaN     float\n",
      "145604            16,869.00                     NaN       str\n",
      "299375               129517                     NaN     float\n",
      "229120                45000                     NaN     float\n",
      "198408            97,219.00                     NaN       str\n",
      "305395                87318                     NaN     float\n",
      "12057                105000                     NaN     float\n",
      "251593                81500                     NaN     float\n",
      "141783            60,500.00                     NaN       str\n",
      "227049                73237                     NaN     float\n",
      "60175                   NaN                68162.00     float\n",
      "17891                 92115                     NaN     float\n",
      "359674           115,000.00                     NaN       str\n",
      "335556               153900                     NaN     float\n",
      "33734                   NaN                68411.00     float\n",
      "358851            90,000.00                     NaN       str\n",
      "311732                66144                     NaN     float\n",
      "364045           106,954.00                     NaN       str\n",
      "140618            82,875.00                     NaN       str\n",
      "170019            95,100.00                     NaN       str\n",
      "203818            84,094.00                     NaN       str\n",
      "113940                  NaN               140000.00     float\n",
      "252148                30000                     NaN     float\n",
      "54003                   NaN                63024.00     float\n",
      "83864                   NaN               131227.00     float\n",
      "221546            54,059.00                     NaN       str\n",
      "268814               126422                     NaN     float\n",
      "44102                   NaN                90000.00     float\n",
      "300931               167000                     NaN     float\n",
      "106212                  NaN                76690.00     float\n",
      "291987               100500                     NaN     float\n",
      "274306                89669                     NaN     float\n",
      "59941                   NaN                65000.00     float\n",
      "44798                   NaN                96000.00     float\n",
      "301915                74298                     NaN     float\n",
      "112942                  NaN                97858.00     float\n",
      "63321                   NaN                   80.00     float\n",
      "341108                17451                     NaN     float\n",
      "254333                70304                     NaN     float\n",
      "11390                132400                     NaN     float\n"
     ]
    }
   ],
   "source": [
    "importlib.reload(modules)\n",
    "modules.print_full(cleanup_df.sample(100))"
   ]
  },
  {
   "cell_type": "markdown",
   "metadata": {},
   "source": [
    "It became apparent, that apllying the new type was partially successful. But values containing delimiters or seperators are still recognized as a string. "
   ]
  },
  {
   "cell_type": "code",
   "execution_count": 157,
   "metadata": {
    "pycharm": {
     "name": "#%%\n"
    }
   },
   "outputs": [
    {
     "data": {
      "text/plain": "float    258181\nstr      116181\nName: wage_Type, dtype: int64"
     },
     "execution_count": 157,
     "metadata": {},
     "output_type": "execute_result"
    }
   ],
   "source": [
    "\n",
    "cleanup_df['wage_Type'].value_counts()"
   ]
  },
  {
   "cell_type": "markdown",
   "metadata": {},
   "source": [
    "We defined a new function to remove the delimiters. Additionally we replaced the '#############' values, which occured two times, with NaN. "
   ]
  },
  {
   "cell_type": "code",
   "execution_count": 158,
   "metadata": {
    "pycharm": {
     "name": "#%%\n"
    }
   },
   "outputs": [],
   "source": [
    "def clean_currency(x):\n",
    "    \"\"\" If the value is a string, then remove delimiters\n",
    "    otherwise, the value is numeric and can be converted.\n",
    "\n",
    "    \"\"\"\n",
    "    if isinstance(x, str):\n",
    "        if x == '#############':\n",
    "            x = np.nan\n",
    "        else:\n",
    "            return(x.replace(',', ''))\n",
    "    return(x)"
   ]
  },
  {
   "cell_type": "code",
   "execution_count": 159,
   "metadata": {
    "pycharm": {
     "name": "#%%\n"
    }
   },
   "outputs": [],
   "source": [
    "cleanup_df[\"wage_offer_from_9089\"] = cleanup_df[\"wage_offer_from_9089\"].apply(clean_currency).astype('float')\n",
    "cleanup_df['wage_Type'] = cleanup_df[\"wage_offer_from_9089\"].apply(lambda x: type(x).__name__)"
   ]
  },
  {
   "cell_type": "code",
   "execution_count": 160,
   "metadata": {
    "pycharm": {
     "name": "#%%\n"
    }
   },
   "outputs": [
    {
     "data": {
      "text/plain": "float    374362\nName: wage_Type, dtype: int64"
     },
     "execution_count": 160,
     "metadata": {},
     "output_type": "execute_result"
    }
   ],
   "source": [
    "\n",
    "cleanup_df['wage_Type'].value_counts()"
   ]
  },
  {
   "cell_type": "code",
   "execution_count": 161,
   "metadata": {
    "pycharm": {
     "name": "#%%\n"
    },
    "scrolled": true
   },
   "outputs": [
    {
     "name": "stdout",
     "output_type": "stream",
     "text": [
      "        wage_offer_from_9089  wage_offered_from_9089 wage_Type\n",
      "344499              123000.0                     NaN     float\n",
      "81935                    NaN                 60736.0     float\n",
      "160923              112000.0                     NaN     float\n",
      "122244                   NaN                131250.0     float\n",
      "3038                 81931.0                     NaN     float\n",
      "317906              117388.0                     NaN     float\n",
      "132387                   NaN                 92926.0     float\n",
      "284883               83450.0                     NaN     float\n",
      "249321              113000.0                     NaN     float\n",
      "14755                81682.0                     NaN     float\n",
      "233570              175000.0                     NaN     float\n",
      "152516              120450.0                     NaN     float\n",
      "40012                    NaN                106642.0     float\n",
      "367668               95100.0                     NaN     float\n",
      "223794              146659.0                     NaN     float\n",
      "122673                   NaN                174429.0     float\n",
      "267948              105718.0                     NaN     float\n",
      "1572                101171.0                     NaN     float\n",
      "96687                    NaN                 96072.0     float\n",
      "336949              130666.0                     NaN     float\n",
      "280976               57455.0                     NaN     float\n",
      "140475               97000.0                     NaN     float\n",
      "169803               52500.0                     NaN     float\n",
      "166172               79875.0                     NaN     float\n",
      "331878               81765.0                     NaN     float\n",
      "238057               79747.0                     NaN     float\n",
      "361586               23192.0                     NaN     float\n",
      "252205              124259.0                     NaN     float\n",
      "315035              104004.0                     NaN     float\n",
      "222174               86798.0                     NaN     float\n",
      "348616              149739.0                     NaN     float\n",
      "342746               39354.0                     NaN     float\n",
      "281232               79102.0                     NaN     float\n",
      "240939               87942.0                     NaN     float\n",
      "250320              400000.0                     NaN     float\n",
      "263716               72218.0                     NaN     float\n",
      "99346                    NaN                 85280.0     float\n",
      "40808                    NaN                 22000.0     float\n",
      "242491              130000.0                     NaN     float\n",
      "32386                    NaN                 67350.0     float\n",
      "274400               47457.0                     NaN     float\n",
      "79009                    NaN                105500.0     float\n",
      "243398               62608.0                     NaN     float\n",
      "175694               97822.0                     NaN     float\n",
      "200772              180000.0                     NaN     float\n",
      "298077               38355.0                     NaN     float\n",
      "320046               68000.0                     NaN     float\n",
      "184925               95000.0                     NaN     float\n",
      "60699                    NaN                 73974.0     float\n",
      "181761              103626.0                     NaN     float\n",
      "358614               20800.0                     NaN     float\n",
      "193914               79685.0                     NaN     float\n",
      "252677               25240.0                     NaN     float\n",
      "13353                62900.0                     NaN     float\n",
      "268450               47380.0                     NaN     float\n",
      "141670               20738.0                     NaN     float\n",
      "283512              200000.0                     NaN     float\n",
      "336181              113610.0                     NaN     float\n",
      "251590              105840.0                     NaN     float\n",
      "313378               25240.0                     NaN     float\n",
      "12726                80000.0                     NaN     float\n",
      "217232               67080.0                     NaN     float\n",
      "354427               18366.0                     NaN     float\n",
      "280696               70054.0                     NaN     float\n",
      "66719                    NaN                110000.0     float\n",
      "342615              160000.0                     NaN     float\n",
      "91407                    NaN                 62400.0     float\n",
      "33742                    NaN                 94515.2     float\n",
      "221288               88795.0                     NaN     float\n",
      "54059                    NaN                 96200.0     float\n",
      "152532               54059.0                     NaN     float\n",
      "136302               85530.0                     NaN     float\n",
      "231835               73258.0                     NaN     float\n",
      "321605               83750.0                     NaN     float\n",
      "16837                69701.0                     NaN     float\n",
      "107019                   NaN                 53000.0     float\n",
      "52950                    NaN                 41000.0     float\n",
      "31771                    NaN                124363.0     float\n",
      "157232              200000.0                     NaN     float\n",
      "208613               21112.0                     NaN     float\n",
      "303649              120349.0                     NaN     float\n",
      "293365              173576.0                     NaN     float\n",
      "225689               96000.0                     NaN     float\n",
      "268259              102669.0                     NaN     float\n",
      "93814                    NaN                 77438.0     float\n",
      "11932                94952.0                     NaN     float\n",
      "138398              125133.0                     NaN     float\n",
      "341914              102000.0                     NaN     float\n",
      "108154                   NaN                 75171.0     float\n",
      "141028               31262.0                     NaN     float\n",
      "274855               92000.0                     NaN     float\n",
      "355820              320000.0                     NaN     float\n",
      "45964                    NaN                125716.0     float\n",
      "21184                    NaN                 75000.0     float\n",
      "119494                   NaN                140000.0     float\n",
      "325206               65811.0                     NaN     float\n",
      "135256                   NaN                 56285.0     float\n",
      "59924                    NaN                 92664.0     float\n",
      "268334               90360.0                     NaN     float\n",
      "17672                69285.0                     NaN     float\n"
     ]
    }
   ],
   "source": [
    "\n",
    "modules.print_full(cleanup_df.sample(100))"
   ]
  },
  {
   "cell_type": "markdown",
   "metadata": {},
   "source": [
    "Perfect, all values are now converted to float. The column `wage_offer_from_9089` was successfully cleaned up."
   ]
  },
  {
   "cell_type": "code",
   "execution_count": 162,
   "metadata": {
    "pycharm": {
     "name": "#%%\n"
    }
   },
   "outputs": [
    {
     "data": {
      "text/plain": "91104.0"
     },
     "execution_count": 162,
     "metadata": {},
     "output_type": "execute_result"
    }
   ],
   "source": [
    "cleanup_df['wage_offer_from_9089'].median()"
   ]
  },
  {
   "cell_type": "code",
   "execution_count": 163,
   "metadata": {},
   "outputs": [],
   "source": [
    "visas_df['wage_offer_from_9089'] = cleanup_df['wage_offer_from_9089']\n",
    "del cleanup_df"
   ]
  },
  {
   "cell_type": "code",
   "execution_count": 164,
   "metadata": {},
   "outputs": [
    {
     "data": {
      "text/plain": "        wage_offer_from_9089  wage_offered_from_9089\n370251              138445.0                     NaN\n153739               20342.0                     NaN\n26649                    NaN                 63710.4\n326211              111925.0                     NaN\n370185              163500.0                     NaN\n351116               63918.0                     NaN\n225763               72000.0                     NaN\n67685                    NaN                 84000.0\n252220              168854.0                     NaN\n139130               78811.0                     NaN\n26444                    NaN                101920.0\n324377               75525.0                     NaN\n335189               84906.0                     NaN\n130530                   NaN                110000.0\n144529               46600.0                     NaN",
      "text/html": "<div>\n<style scoped>\n    .dataframe tbody tr th:only-of-type {\n        vertical-align: middle;\n    }\n\n    .dataframe tbody tr th {\n        vertical-align: top;\n    }\n\n    .dataframe thead th {\n        text-align: right;\n    }\n</style>\n<table border=\"1\" class=\"dataframe\">\n  <thead>\n    <tr style=\"text-align: right;\">\n      <th></th>\n      <th>wage_offer_from_9089</th>\n      <th>wage_offered_from_9089</th>\n    </tr>\n  </thead>\n  <tbody>\n    <tr>\n      <th>370251</th>\n      <td>138445.0</td>\n      <td>NaN</td>\n    </tr>\n    <tr>\n      <th>153739</th>\n      <td>20342.0</td>\n      <td>NaN</td>\n    </tr>\n    <tr>\n      <th>26649</th>\n      <td>NaN</td>\n      <td>63710.4</td>\n    </tr>\n    <tr>\n      <th>326211</th>\n      <td>111925.0</td>\n      <td>NaN</td>\n    </tr>\n    <tr>\n      <th>370185</th>\n      <td>163500.0</td>\n      <td>NaN</td>\n    </tr>\n    <tr>\n      <th>351116</th>\n      <td>63918.0</td>\n      <td>NaN</td>\n    </tr>\n    <tr>\n      <th>225763</th>\n      <td>72000.0</td>\n      <td>NaN</td>\n    </tr>\n    <tr>\n      <th>67685</th>\n      <td>NaN</td>\n      <td>84000.0</td>\n    </tr>\n    <tr>\n      <th>252220</th>\n      <td>168854.0</td>\n      <td>NaN</td>\n    </tr>\n    <tr>\n      <th>139130</th>\n      <td>78811.0</td>\n      <td>NaN</td>\n    </tr>\n    <tr>\n      <th>26444</th>\n      <td>NaN</td>\n      <td>101920.0</td>\n    </tr>\n    <tr>\n      <th>324377</th>\n      <td>75525.0</td>\n      <td>NaN</td>\n    </tr>\n    <tr>\n      <th>335189</th>\n      <td>84906.0</td>\n      <td>NaN</td>\n    </tr>\n    <tr>\n      <th>130530</th>\n      <td>NaN</td>\n      <td>110000.0</td>\n    </tr>\n    <tr>\n      <th>144529</th>\n      <td>46600.0</td>\n      <td>NaN</td>\n    </tr>\n  </tbody>\n</table>\n</div>"
     },
     "execution_count": 164,
     "metadata": {},
     "output_type": "execute_result"
    }
   ],
   "source": [
    "visas_df.sample(15)"
   ]
  },
  {
   "cell_type": "markdown",
   "metadata": {
    "pycharm": {
     "name": "#%%\n"
    }
   },
   "source": [
    "## Merging both columns"
   ]
  },
  {
   "cell_type": "markdown",
   "metadata": {},
   "source": [
    "All NaN values wil lbe filled with 0 in order to sum both columns up.\n",
    "We saw earlier thar both columns never overlap."
   ]
  },
  {
   "cell_type": "code",
   "execution_count": 165,
   "metadata": {},
   "outputs": [],
   "source": [
    "visas_df['wage_offer_merged'] = visas_df['wage_offer_from_9089'].fillna(0) + visas_df['wage_offered_from_9089'].fillna(0)"
   ]
  },
  {
   "cell_type": "code",
   "execution_count": 166,
   "metadata": {},
   "outputs": [
    {
     "data": {
      "text/plain": "        wage_offer_from_9089  wage_offered_from_9089  wage_offer_merged\n213909              161000.0                     NaN           161000.0\n93509                    NaN                125000.0           125000.0\n320233              105000.0                     NaN           105000.0\n192777               75962.0                     NaN            75962.0\n201282              105560.0                     NaN           105560.0\n178629              110095.0                     NaN           110095.0\n72235                    NaN                117030.0           117030.0\n147932              224536.0                     NaN           224536.0\n117938                   NaN                150000.0           150000.0\n210598               96140.0                     NaN            96140.0\n267135              104437.0                     NaN           104437.0\n170180               97822.0                     NaN            97822.0\n59811                    NaN                 79248.0            79248.0\n365830              120349.0                     NaN           120349.0\n43206                    NaN                133328.0           133328.0",
      "text/html": "<div>\n<style scoped>\n    .dataframe tbody tr th:only-of-type {\n        vertical-align: middle;\n    }\n\n    .dataframe tbody tr th {\n        vertical-align: top;\n    }\n\n    .dataframe thead th {\n        text-align: right;\n    }\n</style>\n<table border=\"1\" class=\"dataframe\">\n  <thead>\n    <tr style=\"text-align: right;\">\n      <th></th>\n      <th>wage_offer_from_9089</th>\n      <th>wage_offered_from_9089</th>\n      <th>wage_offer_merged</th>\n    </tr>\n  </thead>\n  <tbody>\n    <tr>\n      <th>213909</th>\n      <td>161000.0</td>\n      <td>NaN</td>\n      <td>161000.0</td>\n    </tr>\n    <tr>\n      <th>93509</th>\n      <td>NaN</td>\n      <td>125000.0</td>\n      <td>125000.0</td>\n    </tr>\n    <tr>\n      <th>320233</th>\n      <td>105000.0</td>\n      <td>NaN</td>\n      <td>105000.0</td>\n    </tr>\n    <tr>\n      <th>192777</th>\n      <td>75962.0</td>\n      <td>NaN</td>\n      <td>75962.0</td>\n    </tr>\n    <tr>\n      <th>201282</th>\n      <td>105560.0</td>\n      <td>NaN</td>\n      <td>105560.0</td>\n    </tr>\n    <tr>\n      <th>178629</th>\n      <td>110095.0</td>\n      <td>NaN</td>\n      <td>110095.0</td>\n    </tr>\n    <tr>\n      <th>72235</th>\n      <td>NaN</td>\n      <td>117030.0</td>\n      <td>117030.0</td>\n    </tr>\n    <tr>\n      <th>147932</th>\n      <td>224536.0</td>\n      <td>NaN</td>\n      <td>224536.0</td>\n    </tr>\n    <tr>\n      <th>117938</th>\n      <td>NaN</td>\n      <td>150000.0</td>\n      <td>150000.0</td>\n    </tr>\n    <tr>\n      <th>210598</th>\n      <td>96140.0</td>\n      <td>NaN</td>\n      <td>96140.0</td>\n    </tr>\n    <tr>\n      <th>267135</th>\n      <td>104437.0</td>\n      <td>NaN</td>\n      <td>104437.0</td>\n    </tr>\n    <tr>\n      <th>170180</th>\n      <td>97822.0</td>\n      <td>NaN</td>\n      <td>97822.0</td>\n    </tr>\n    <tr>\n      <th>59811</th>\n      <td>NaN</td>\n      <td>79248.0</td>\n      <td>79248.0</td>\n    </tr>\n    <tr>\n      <th>365830</th>\n      <td>120349.0</td>\n      <td>NaN</td>\n      <td>120349.0</td>\n    </tr>\n    <tr>\n      <th>43206</th>\n      <td>NaN</td>\n      <td>133328.0</td>\n      <td>133328.0</td>\n    </tr>\n  </tbody>\n</table>\n</div>"
     },
     "execution_count": 166,
     "metadata": {},
     "output_type": "execute_result"
    }
   ],
   "source": [
    "visas_df.sample(15)"
   ]
  },
  {
   "cell_type": "code",
   "execution_count": 167,
   "metadata": {},
   "outputs": [
    {
     "data": {
      "text/plain": "dtype('float64')"
     },
     "execution_count": 167,
     "metadata": {},
     "output_type": "execute_result"
    }
   ],
   "source": [
    "visas_df['wage_offer_merged'].dtype"
   ]
  },
  {
   "cell_type": "code",
   "execution_count": 168,
   "metadata": {},
   "outputs": [
    {
     "data": {
      "text/plain": "126"
     },
     "execution_count": 168,
     "metadata": {},
     "output_type": "execute_result"
    }
   ],
   "source": [
    "(visas_df['wage_offer_merged'] == 0).sum()"
   ]
  },
  {
   "cell_type": "markdown",
   "metadata": {},
   "source": [
    "We filled NaN values with 0 in Order to calculate sums. Now we will replaye 0 with NaN to keep the columns cleaned up.\n",
    "Additionally a wage of 0 would be unrealistic."
   ]
  },
  {
   "cell_type": "code",
   "execution_count": 169,
   "metadata": {},
   "outputs": [],
   "source": [
    "visas_df['wage_offer_merged'].replace(0, np.nan, inplace=True)"
   ]
  },
  {
   "cell_type": "code",
   "execution_count": 170,
   "metadata": {},
   "outputs": [
    {
     "data": {
      "text/plain": "0"
     },
     "execution_count": 170,
     "metadata": {},
     "output_type": "execute_result"
    }
   ],
   "source": [
    "(visas_df['wage_offer_merged'] == 0).sum()"
   ]
  },
  {
   "cell_type": "code",
   "execution_count": 171,
   "metadata": {},
   "outputs": [],
   "source": [
    "visas_df['wage_offer_merged'].median()\n",
    "clean_df = pd.DataFrame()\n",
    "clean_df['wage_offer_merged'] = visas_df['wage_offer_merged']"
   ]
  },
  {
   "cell_type": "code",
   "execution_count": 172,
   "outputs": [
    {
     "data": {
      "text/plain": "   wage_offer_merged\n0           75629.00\n1           37024.00\n2           47923.00\n3              10.97\n4          100000.00",
      "text/html": "<div>\n<style scoped>\n    .dataframe tbody tr th:only-of-type {\n        vertical-align: middle;\n    }\n\n    .dataframe tbody tr th {\n        vertical-align: top;\n    }\n\n    .dataframe thead th {\n        text-align: right;\n    }\n</style>\n<table border=\"1\" class=\"dataframe\">\n  <thead>\n    <tr style=\"text-align: right;\">\n      <th></th>\n      <th>wage_offer_merged</th>\n    </tr>\n  </thead>\n  <tbody>\n    <tr>\n      <th>0</th>\n      <td>75629.00</td>\n    </tr>\n    <tr>\n      <th>1</th>\n      <td>37024.00</td>\n    </tr>\n    <tr>\n      <th>2</th>\n      <td>47923.00</td>\n    </tr>\n    <tr>\n      <th>3</th>\n      <td>10.97</td>\n    </tr>\n    <tr>\n      <th>4</th>\n      <td>100000.00</td>\n    </tr>\n  </tbody>\n</table>\n</div>"
     },
     "execution_count": 172,
     "metadata": {},
     "output_type": "execute_result"
    }
   ],
   "source": [
    "clean_df.head()\n"
   ],
   "metadata": {
    "collapsed": false,
    "pycharm": {
     "name": "#%%\n"
    }
   }
  },
  {
   "cell_type": "markdown",
   "metadata": {},
   "source": [
    "---\n",
    "# Cleaning up wage_offer_unit"
   ]
  },
  {
   "cell_type": "code",
   "execution_count": 173,
   "metadata": {},
   "outputs": [
    {
     "name": "stderr",
     "output_type": "stream",
     "text": [
      "C:\\Users\\andre\\anaconda3\\lib\\site-packages\\IPython\\core\\interactiveshell.py:3146: DtypeWarning: Columns (150,153) have mixed types.Specify dtype option on import or set low_memory=False.\n",
      "  has_raised = await self.run_ast_nodes(code_ast.body, cell_name,\n"
     ]
    },
    {
     "data": {
      "text/plain": "  wage_offer_unit_of_pay_9089 wage_offered_unit_of_pay_9089\n0                          yr                           NaN\n1                          yr                           NaN\n2                          yr                           NaN\n3                          hr                           NaN\n4                          yr                           NaN",
      "text/html": "<div>\n<style scoped>\n    .dataframe tbody tr th:only-of-type {\n        vertical-align: middle;\n    }\n\n    .dataframe tbody tr th {\n        vertical-align: top;\n    }\n\n    .dataframe thead th {\n        text-align: right;\n    }\n</style>\n<table border=\"1\" class=\"dataframe\">\n  <thead>\n    <tr style=\"text-align: right;\">\n      <th></th>\n      <th>wage_offer_unit_of_pay_9089</th>\n      <th>wage_offered_unit_of_pay_9089</th>\n    </tr>\n  </thead>\n  <tbody>\n    <tr>\n      <th>0</th>\n      <td>yr</td>\n      <td>NaN</td>\n    </tr>\n    <tr>\n      <th>1</th>\n      <td>yr</td>\n      <td>NaN</td>\n    </tr>\n    <tr>\n      <th>2</th>\n      <td>yr</td>\n      <td>NaN</td>\n    </tr>\n    <tr>\n      <th>3</th>\n      <td>hr</td>\n      <td>NaN</td>\n    </tr>\n    <tr>\n      <th>4</th>\n      <td>yr</td>\n      <td>NaN</td>\n    </tr>\n  </tbody>\n</table>\n</div>"
     },
     "execution_count": 173,
     "metadata": {},
     "output_type": "execute_result"
    }
   ],
   "source": [
    "col_list= [\"wage_offer_unit_of_pay_9089\", \"wage_offered_unit_of_pay_9089\"]\n",
    "visas_df = pd.read_csv(\"data/us_perm_visas.csv\", usecols=col_list)\n",
    "visas_df.head ()"
   ]
  },
  {
   "cell_type": "code",
   "execution_count": 174,
   "metadata": {},
   "outputs": [
    {
     "data": {
      "text/plain": "       wage_offer_unit_of_pay_9089 wage_offered_unit_of_pay_9089\n157532                        Year                           NaN\n144458                        Year                           NaN\n190762                        Year                           NaN\n92787                          NaN                          Year\n208291                        Year                           NaN\n257374                        Year                           NaN\n139320                        Year                           NaN\n70831                          NaN                          Year\n155120                        Year                           NaN\n94975                          NaN                          Year\n311792                        Year                           NaN\n20912                          NaN                           NaN\n43331                          NaN                           NaN\n364142                        Year                           NaN\n107566                         NaN                          Year\n112164                         NaN                          Year\n293748                        Year                           NaN\n111046                         NaN                          Year\n79616                          NaN                          Year\n13285                           yr                           NaN\n38310                          NaN                           NaN\n326394                        Year                           NaN\n356235                        Year                           NaN\n363194                        Year                           NaN\n110861                         NaN                          Year\n107800                         NaN                          Year\n167511                        Year                           NaN\n244796                        Year                           NaN\n28288                          NaN                           NaN\n288745                        Year                           NaN\n366097                        Year                           NaN\n262434                        Year                           NaN\n78896                          NaN                          Year\n357442                        Year                           NaN\n207321                        Year                           NaN\n350633                        Year                           NaN\n149230                        Year                           NaN\n92158                          NaN                          Year\n131042                         NaN                          Year\n26122                          NaN                           NaN\n28847                          NaN                           NaN\n129214                         NaN                          Year\n242481                        Year                           NaN\n103989                         NaN                          Year\n37150                          NaN                           NaN\n209232                        Year                           NaN\n114992                         NaN                          Year\n141253                        Year                           NaN\n295148                        Year                           NaN\n344266                        Year                           NaN",
      "text/html": "<div>\n<style scoped>\n    .dataframe tbody tr th:only-of-type {\n        vertical-align: middle;\n    }\n\n    .dataframe tbody tr th {\n        vertical-align: top;\n    }\n\n    .dataframe thead th {\n        text-align: right;\n    }\n</style>\n<table border=\"1\" class=\"dataframe\">\n  <thead>\n    <tr style=\"text-align: right;\">\n      <th></th>\n      <th>wage_offer_unit_of_pay_9089</th>\n      <th>wage_offered_unit_of_pay_9089</th>\n    </tr>\n  </thead>\n  <tbody>\n    <tr>\n      <th>157532</th>\n      <td>Year</td>\n      <td>NaN</td>\n    </tr>\n    <tr>\n      <th>144458</th>\n      <td>Year</td>\n      <td>NaN</td>\n    </tr>\n    <tr>\n      <th>190762</th>\n      <td>Year</td>\n      <td>NaN</td>\n    </tr>\n    <tr>\n      <th>92787</th>\n      <td>NaN</td>\n      <td>Year</td>\n    </tr>\n    <tr>\n      <th>208291</th>\n      <td>Year</td>\n      <td>NaN</td>\n    </tr>\n    <tr>\n      <th>257374</th>\n      <td>Year</td>\n      <td>NaN</td>\n    </tr>\n    <tr>\n      <th>139320</th>\n      <td>Year</td>\n      <td>NaN</td>\n    </tr>\n    <tr>\n      <th>70831</th>\n      <td>NaN</td>\n      <td>Year</td>\n    </tr>\n    <tr>\n      <th>155120</th>\n      <td>Year</td>\n      <td>NaN</td>\n    </tr>\n    <tr>\n      <th>94975</th>\n      <td>NaN</td>\n      <td>Year</td>\n    </tr>\n    <tr>\n      <th>311792</th>\n      <td>Year</td>\n      <td>NaN</td>\n    </tr>\n    <tr>\n      <th>20912</th>\n      <td>NaN</td>\n      <td>NaN</td>\n    </tr>\n    <tr>\n      <th>43331</th>\n      <td>NaN</td>\n      <td>NaN</td>\n    </tr>\n    <tr>\n      <th>364142</th>\n      <td>Year</td>\n      <td>NaN</td>\n    </tr>\n    <tr>\n      <th>107566</th>\n      <td>NaN</td>\n      <td>Year</td>\n    </tr>\n    <tr>\n      <th>112164</th>\n      <td>NaN</td>\n      <td>Year</td>\n    </tr>\n    <tr>\n      <th>293748</th>\n      <td>Year</td>\n      <td>NaN</td>\n    </tr>\n    <tr>\n      <th>111046</th>\n      <td>NaN</td>\n      <td>Year</td>\n    </tr>\n    <tr>\n      <th>79616</th>\n      <td>NaN</td>\n      <td>Year</td>\n    </tr>\n    <tr>\n      <th>13285</th>\n      <td>yr</td>\n      <td>NaN</td>\n    </tr>\n    <tr>\n      <th>38310</th>\n      <td>NaN</td>\n      <td>NaN</td>\n    </tr>\n    <tr>\n      <th>326394</th>\n      <td>Year</td>\n      <td>NaN</td>\n    </tr>\n    <tr>\n      <th>356235</th>\n      <td>Year</td>\n      <td>NaN</td>\n    </tr>\n    <tr>\n      <th>363194</th>\n      <td>Year</td>\n      <td>NaN</td>\n    </tr>\n    <tr>\n      <th>110861</th>\n      <td>NaN</td>\n      <td>Year</td>\n    </tr>\n    <tr>\n      <th>107800</th>\n      <td>NaN</td>\n      <td>Year</td>\n    </tr>\n    <tr>\n      <th>167511</th>\n      <td>Year</td>\n      <td>NaN</td>\n    </tr>\n    <tr>\n      <th>244796</th>\n      <td>Year</td>\n      <td>NaN</td>\n    </tr>\n    <tr>\n      <th>28288</th>\n      <td>NaN</td>\n      <td>NaN</td>\n    </tr>\n    <tr>\n      <th>288745</th>\n      <td>Year</td>\n      <td>NaN</td>\n    </tr>\n    <tr>\n      <th>366097</th>\n      <td>Year</td>\n      <td>NaN</td>\n    </tr>\n    <tr>\n      <th>262434</th>\n      <td>Year</td>\n      <td>NaN</td>\n    </tr>\n    <tr>\n      <th>78896</th>\n      <td>NaN</td>\n      <td>Year</td>\n    </tr>\n    <tr>\n      <th>357442</th>\n      <td>Year</td>\n      <td>NaN</td>\n    </tr>\n    <tr>\n      <th>207321</th>\n      <td>Year</td>\n      <td>NaN</td>\n    </tr>\n    <tr>\n      <th>350633</th>\n      <td>Year</td>\n      <td>NaN</td>\n    </tr>\n    <tr>\n      <th>149230</th>\n      <td>Year</td>\n      <td>NaN</td>\n    </tr>\n    <tr>\n      <th>92158</th>\n      <td>NaN</td>\n      <td>Year</td>\n    </tr>\n    <tr>\n      <th>131042</th>\n      <td>NaN</td>\n      <td>Year</td>\n    </tr>\n    <tr>\n      <th>26122</th>\n      <td>NaN</td>\n      <td>NaN</td>\n    </tr>\n    <tr>\n      <th>28847</th>\n      <td>NaN</td>\n      <td>NaN</td>\n    </tr>\n    <tr>\n      <th>129214</th>\n      <td>NaN</td>\n      <td>Year</td>\n    </tr>\n    <tr>\n      <th>242481</th>\n      <td>Year</td>\n      <td>NaN</td>\n    </tr>\n    <tr>\n      <th>103989</th>\n      <td>NaN</td>\n      <td>Year</td>\n    </tr>\n    <tr>\n      <th>37150</th>\n      <td>NaN</td>\n      <td>NaN</td>\n    </tr>\n    <tr>\n      <th>209232</th>\n      <td>Year</td>\n      <td>NaN</td>\n    </tr>\n    <tr>\n      <th>114992</th>\n      <td>NaN</td>\n      <td>Year</td>\n    </tr>\n    <tr>\n      <th>141253</th>\n      <td>Year</td>\n      <td>NaN</td>\n    </tr>\n    <tr>\n      <th>295148</th>\n      <td>Year</td>\n      <td>NaN</td>\n    </tr>\n    <tr>\n      <th>344266</th>\n      <td>Year</td>\n      <td>NaN</td>\n    </tr>\n  </tbody>\n</table>\n</div>"
     },
     "execution_count": 174,
     "metadata": {},
     "output_type": "execute_result"
    }
   ],
   "source": [
    "visas_df.sample(50)"
   ]
  },
  {
   "cell_type": "code",
   "execution_count": 175,
   "metadata": {},
   "outputs": [
    {
     "data": {
      "text/plain": "Year         230591\nyr            19733\nHour           7038\nhr              781\nWeek            142\nMonth            81\nwk               30\nmth              21\nBi-Weekly        20\nbi                9\nName: wage_offer_unit_of_pay_9089, dtype: int64"
     },
     "execution_count": 175,
     "metadata": {},
     "output_type": "execute_result"
    }
   ],
   "source": [
    "visas_df['wage_offer_unit_of_pay_9089'].value_counts()"
   ]
  },
  {
   "cell_type": "code",
   "execution_count": 176,
   "metadata": {},
   "outputs": [
    {
     "data": {
      "text/plain": "Year         68950\nHour          1651\nWeek            58\nMonth           39\nBi-Weekly        1\nName: wage_offered_unit_of_pay_9089, dtype: int64"
     },
     "execution_count": 176,
     "metadata": {},
     "output_type": "execute_result"
    }
   ],
   "source": [
    "visas_df['wage_offered_unit_of_pay_9089'].value_counts()"
   ]
  },
  {
   "cell_type": "markdown",
   "metadata": {},
   "source": [
    "wage_offer_unit_of_pay_9089 has to be cleaned. We'll deal with this issue after the merge. "
   ]
  },
  {
   "cell_type": "code",
   "execution_count": 177,
   "outputs": [
    {
     "name": "stdout",
     "output_type": "stream",
     "text": [
      "wage_offer_unit_of_pay_9089\n",
      "258446/374362 69%\n",
      "Filled: |██████████████████████████████████----------------| 69.0% Rows\r\n",
      "\n",
      "wage_offered_unit_of_pay_9089\n",
      "70699/374362 19%\n",
      "Filled: |█████████-----------------------------------------| 18.9% Rows\r\n",
      "\n"
     ]
    },
    {
     "data": {
      "text/plain": "<Figure size 1152x288 with 1 Axes>",
      "image/png": "[encoded data removed]"
     },
     "metadata": {
      "needs_background": "light"
     },
     "output_type": "display_data"
    },
    {
     "data": {
      "text/plain": "<Figure size 1152x288 with 1 Axes>",
      "image/png": "[encoded data removed]"
     },
     "metadata": {
      "needs_background": "light"
     },
     "output_type": "display_data"
    }
   ],
   "source": [
    "modules.print_count_of_values_relation(visas_df, True, True)"
   ],
   "metadata": {
    "collapsed": false,
    "pycharm": {
     "name": "#%%\n"
    }
   }
  },
  {
   "cell_type": "markdown",
   "metadata": {},
   "source": [
    "The dristribution of values reveals a problem. Between an index of 25.000 and 75.000 or dataset contains no value for the unit of pay."
   ]
  },
  {
   "cell_type": "markdown",
   "metadata": {
    "pycharm": {
     "name": "#%% md\n"
    }
   },
   "source": [
    "We will merge the both columns and take a closer look at the values they are containing."
   ]
  },
  {
   "cell_type": "code",
   "execution_count": 178,
   "metadata": {},
   "outputs": [],
   "source": [
    "visas_df['wage_offer_unit_merged'] = visas_df['wage_offer_unit_of_pay_9089'].fillna('') + visas_df['wage_offered_unit_of_pay_9089'].fillna('')"
   ]
  },
  {
   "cell_type": "code",
   "execution_count": 179,
   "metadata": {
    "scrolled": true
   },
   "outputs": [],
   "source": [
    "visas_df['wage_offer_unit_merged'].replace('', np.nan, inplace=True)"
   ]
  },
  {
   "cell_type": "code",
   "execution_count": 180,
   "metadata": {},
   "outputs": [
    {
     "data": {
      "text/plain": "Year         299541\nyr            19733\nHour           8689\nhr              781\nWeek            200\nMonth           120\nwk               30\nmth              21\nBi-Weekly        21\nbi                9\nName: wage_offer_unit_merged, dtype: int64"
     },
     "execution_count": 180,
     "metadata": {},
     "output_type": "execute_result"
    }
   ],
   "source": [
    "visas_df['wage_offer_unit_merged'].value_counts()"
   ]
  },
  {
   "cell_type": "code",
   "execution_count": 181,
   "outputs": [],
   "source": [
    "unit_abbreviations = {\n",
    "  \"Year\": \"yr\",\n",
    "  \"Month\": \"mth\",\n",
    "  \"Bi-Weekly\": \"bi\",\n",
    "  \"Week\": \"wk\",\n",
    "  \"Hour\": \"hr\"\n",
    "}"
   ],
   "metadata": {
    "collapsed": false,
    "pycharm": {
     "name": "#%%\n"
    }
   }
  },
  {
   "cell_type": "code",
   "execution_count": 182,
   "outputs": [],
   "source": [
    "visas_df['wage_offer_unit_merged'] = visas_df['wage_offer_unit_merged'].replace(unit_abbreviations)"
   ],
   "metadata": {
    "collapsed": false,
    "pycharm": {
     "name": "#%%\n"
    }
   }
  },
  {
   "cell_type": "code",
   "execution_count": 183,
   "outputs": [
    {
     "data": {
      "text/plain": "yr     319274\nhr       9470\nwk        230\nmth       141\nbi         30\nName: wage_offer_unit_merged, dtype: int64"
     },
     "execution_count": 183,
     "metadata": {},
     "output_type": "execute_result"
    }
   ],
   "source": [
    "visas_df['wage_offer_unit_merged'].value_counts()"
   ],
   "metadata": {
    "collapsed": false,
    "pycharm": {
     "name": "#%%\n"
    }
   }
  },
  {
   "cell_type": "code",
   "execution_count": 184,
   "outputs": [
    {
     "name": "stdout",
     "output_type": "stream",
     "text": [
      "wage_offer_unit_of_pay_9089\n",
      "258446/374362 69%\n",
      "Filled: |██████████████████████████████████----------------| 69.0% Rows\r\n",
      "\n",
      "wage_offered_unit_of_pay_9089\n",
      "70699/374362 19%\n",
      "Filled: |█████████-----------------------------------------| 18.9% Rows\r\n",
      "\n",
      "wage_offer_unit_merged\n",
      "329145/374362 88%\n",
      "Filled: |███████████████████████████████████████████-------| 87.9% Rows\r\n",
      "\n"
     ]
    },
    {
     "data": {
      "text/plain": "<Figure size 1152x288 with 1 Axes>",
      "image/png": "[encoded data removed]"
     },
     "metadata": {
      "needs_background": "light"
     },
     "output_type": "display_data"
    },
    {
     "data": {
      "text/plain": "<Figure size 1152x288 with 1 Axes>",
      "image/png": "[encoded data removed]"
     },
     "metadata": {
      "needs_background": "light"
     },
     "output_type": "display_data"
    },
    {
     "data": {
      "text/plain": "<Figure size 1152x288 with 1 Axes>",
      "image/png": "[encoded data removed]"
     },
     "metadata": {
      "needs_background": "light"
     },
     "output_type": "display_data"
    }
   ],
   "source": [
    "\n",
    "modules.print_count_of_values_relation(visas_df, True, True)"
   ],
   "metadata": {
    "collapsed": false,
    "pycharm": {
     "name": "#%%\n"
    }
   }
  },
  {
   "cell_type": "markdown",
   "source": [
    "The gap remains, considering the gap is realtively small and we have lot's of values, we'll ignore the gap in the further analysis.\n"
   ],
   "metadata": {
    "collapsed": false,
    "pycharm": {
     "name": "#%% md\n"
    }
   }
  },
  {
   "cell_type": "code",
   "execution_count": 187,
   "outputs": [],
   "source": [
    "clean_df['wage_offer_unit'] = visas_df['wage_offer_unit_merged']"
   ],
   "metadata": {
    "collapsed": false,
    "pycharm": {
     "name": "#%%\n"
    }
   }
  },
  {
   "cell_type": "code",
   "execution_count": 188,
   "outputs": [
    {
     "data": {
      "text/plain": "   wage_offer_merged wage_offer_unit wage_offer_unit2\n0           75629.00              yr             test\n1           37024.00              yr             test\n2           47923.00              yr             test\n3              10.97              hr             test\n4          100000.00              yr             test",
      "text/html": "<div>\n<style scoped>\n    .dataframe tbody tr th:only-of-type {\n        vertical-align: middle;\n    }\n\n    .dataframe tbody tr th {\n        vertical-align: top;\n    }\n\n    .dataframe thead th {\n        text-align: right;\n    }\n</style>\n<table border=\"1\" class=\"dataframe\">\n  <thead>\n    <tr style=\"text-align: right;\">\n      <th></th>\n      <th>wage_offer_merged</th>\n      <th>wage_offer_unit</th>\n      <th>wage_offer_unit2</th>\n    </tr>\n  </thead>\n  <tbody>\n    <tr>\n      <th>0</th>\n      <td>75629.00</td>\n      <td>yr</td>\n      <td>test</td>\n    </tr>\n    <tr>\n      <th>1</th>\n      <td>37024.00</td>\n      <td>yr</td>\n      <td>test</td>\n    </tr>\n    <tr>\n      <th>2</th>\n      <td>47923.00</td>\n      <td>yr</td>\n      <td>test</td>\n    </tr>\n    <tr>\n      <th>3</th>\n      <td>10.97</td>\n      <td>hr</td>\n      <td>test</td>\n    </tr>\n    <tr>\n      <th>4</th>\n      <td>100000.00</td>\n      <td>yr</td>\n      <td>test</td>\n    </tr>\n  </tbody>\n</table>\n</div>"
     },
     "execution_count": 188,
     "metadata": {},
     "output_type": "execute_result"
    }
   ],
   "source": [
    "\n",
    "clean_df.head()"
   ],
   "metadata": {
    "collapsed": false,
    "pycharm": {
     "name": "#%%\n"
    }
   }
  },
  {
   "cell_type": "code",
   "execution_count": 191,
   "outputs": [
    {
     "data": {
      "text/plain": "wage_offer_unit\nhr       221.303376\nbi      1634.519655\nmth     9005.593357\nwk     11315.946130\nyr     96487.857970\nName: wage_offer_merged, dtype: float64"
     },
     "execution_count": 191,
     "metadata": {},
     "output_type": "execute_result"
    }
   ],
   "source": [
    "clean_df.groupby('wage_offer_unit')['wage_offer_merged'].mean().sort_values()"
   ],
   "metadata": {
    "collapsed": false,
    "pycharm": {
     "name": "#%%\n"
    }
   }
  }
 ],
 "metadata": {
  "kernelspec": {
   "display_name": "Python 3",
   "language": "python",
   "name": "python3"
  },
  "language_info": {
   "codemirror_mode": {
    "name": "ipython",
    "version": 3
   },
   "file_extension": ".py",
   "mimetype": "text/x-python",
   "name": "python",
   "nbconvert_exporter": "python",
   "pygments_lexer": "ipython3",
   "version": "3.8.5"
  }
 },
 "nbformat": 4,
 "nbformat_minor": 1
}