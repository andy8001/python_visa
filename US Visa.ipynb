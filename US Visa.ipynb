{
 "cells": [
  {
   "cell_type": "code",
   "execution_count": 3,
   "metadata": {
    "pycharm": {
     "name": "#%%\n"
    }
   },
   "outputs": [],
   "source": [
    "# Imports\n",
    "import pandas as pd"
   ]
  },
  {
   "cell_type": "code",
   "execution_count": 4,
   "metadata": {
    "pycharm": {
     "name": "#%%\n"
    }
   },
   "outputs": [
    {
     "name": "stderr",
     "output_type": "stream",
     "text": [
      "C:\\Users\\andre\\anaconda3\\lib\\site-packages\\IPython\\core\\interactiveshell.py:3071: DtypeWarning: Columns (0,1,2,3,4,5,6,7,10,11,16,17,20,21,22,25,26,27,28,29,30,31,32,33,34,35,36,37,39,40,41,42,43,44,45,47,48,49,50,51,52,53,55,56,57,58,59,60,61,63,64,65,66,68,69,70,71,72,73,74,77,79,80,81,82,83,84,85,86,87,88,89,90,91,92,93,94,95,100,101,103,104,105,106,107,108,109,110,111,112,113,114,115,116,117,118,119,120,121,122,123,124,125,126,127,128,129,130,131,132,133,134,135,136,137,138,139,140,141,142,143,144,145,146,147,148,149,150,153) have mixed types.Specify dtype option on import or set low_memory=False.\n",
      "  has_raised = await self.run_ast_nodes(code_ast.body, cell_name,\n"
     ]
    },
    {
     "name": "stdout",
     "output_type": "stream",
     "text": [
      "  add_these_pw_job_title_9089 agent_city agent_firm_name agent_state  \\\n",
      "0                         NaN        NaN             NaN         NaN   \n",
      "1                         NaN        NaN             NaN         NaN   \n",
      "2                         NaN        NaN             NaN         NaN   \n",
      "3                         NaN        NaN             NaN         NaN   \n",
      "4                         NaN        NaN             NaN         NaN   \n",
      "\n",
      "  application_type        case_no case_number case_received_date case_status  \\\n",
      "0             PERM  A-07323-97014         NaN                NaN   Certified   \n",
      "1             PERM  A-07332-99439         NaN                NaN      Denied   \n",
      "2             PERM  A-07333-99643         NaN                NaN   Certified   \n",
      "3             PERM  A-07339-01930         NaN                NaN   Certified   \n",
      "4             PERM  A-07345-03565         NaN                NaN   Certified   \n",
      "\n",
      "  class_of_admission  ... ri_pvt_employment_firm_to ri_us_workers_considered  \\\n",
      "0                J-1  ...                       NaN                      NaN   \n",
      "1                B-2  ...                       NaN                      NaN   \n",
      "2               H-1B  ...                       NaN                      NaN   \n",
      "3                B-2  ...                       NaN                      NaN   \n",
      "4                L-1  ...                       NaN                      NaN   \n",
      "\n",
      "  schd_a_sheepherder     us_economic_sector wage_offer_from_9089  \\\n",
      "0                NaN                     IT                75629   \n",
      "1                NaN  Other Economic Sector                37024   \n",
      "2                NaN              Aerospace                47923   \n",
      "3                NaN  Other Economic Sector                10.97   \n",
      "4                NaN           Advanced Mfg               100000   \n",
      "\n",
      "  wage_offer_to_9089 wage_offer_unit_of_pay_9089 wage_offered_from_9089  \\\n",
      "0                NaN                          yr                    NaN   \n",
      "1                NaN                          yr                    NaN   \n",
      "2                NaN                          yr                    NaN   \n",
      "3                NaN                          hr                    NaN   \n",
      "4                NaN                          yr                    NaN   \n",
      "\n",
      "  wage_offered_to_9089  wage_offered_unit_of_pay_9089  \n",
      "0                  NaN                            NaN  \n",
      "1                  NaN                            NaN  \n",
      "2                  NaN                            NaN  \n",
      "3                  NaN                            NaN  \n",
      "4                  NaN                            NaN  \n",
      "\n",
      "[5 rows x 154 columns]\n"
     ]
    }
   ],
   "source": [
    "# Datensatz laden\n",
    "visa_frame = pd.read_csv(\"data/us_perm_visas.csv\")\n",
    "print(visa_frame.head())"
   ]
  },
  {
   "cell_type": "markdown",
   "source": [
    "# Master."
   ],
   "metadata": {
    "collapsed": false
   }
  }
 ],
 "metadata": {
  "kernelspec": {
   "display_name": "Python 3",
   "language": "python",
   "name": "python3"
  },
  "language_info": {
   "codemirror_mode": {
    "name": "ipython",
    "version": 3
   },
   "file_extension": ".py",
   "mimetype": "text/x-python",
   "name": "python",
   "nbconvert_exporter": "python",
   "pygments_lexer": "ipython3",
   "version": "3.8.3"
  }
 },
 "nbformat": 4,
 "nbformat_minor": 1
}