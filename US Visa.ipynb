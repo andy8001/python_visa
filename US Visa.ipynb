{
 "cells": [
  {
   "cell_type": "markdown",
   "source": [
    "# US Visas"
   ],
   "metadata": {
    "collapsed": false
   }
  },
  {
   "cell_type": "code",
   "execution_count": null,
   "outputs": [],
   "source": [
    "import pandas as pd\n",
    "from IPython.display import display, Markdown\n",
    "import matplotlib.pyplot as plt"
   ],
   "metadata": {
    "collapsed": false,
    "pycharm": {
     "name": "#%%\n"
    }
   }
  },
  {
   "cell_type": "markdown",
   "source": [
    "## Read CSV"
   ],
   "metadata": {
    "collapsed": false
   }
  },
  {
   "cell_type": "code",
   "execution_count": null,
   "outputs": [],
   "source": [
    "visas_df = pd.read_csv(\"data/us_perm_visas.csv\")"
   ],
   "metadata": {
    "collapsed": false,
    "pycharm": {
     "name": "#%%\n"
    }
   }
  },
  {
   "cell_type": "markdown",
   "source": [
    "## Display data types"
   ],
   "metadata": {
    "collapsed": false
   }
  },
  {
   "cell_type": "code",
   "execution_count": null,
   "outputs": [],
   "source": [
    "visas_df.info(verbose=True)"
   ],
   "metadata": {
    "collapsed": false,
    "pycharm": {
     "name": "#%%\n"
    }
   }
  },
  {
   "cell_type": "markdown",
   "source": [
    "## Count of columns"
   ],
   "metadata": {
    "collapsed": false
   }
  },
  {
   "cell_type": "code",
   "execution_count": null,
   "outputs": [],
   "source": [
    "print(len(visas_df.columns))"
   ],
   "metadata": {
    "collapsed": false,
    "pycharm": {
     "name": "#%%\n"
    }
   }
  },
  {
   "cell_type": "code",
   "execution_count": null,
   "outputs": [],
   "source": [
    "import modules\n",
    "modules.print_count_of_values_relation(visas_df, True, True)"
   ],
   "metadata": {
    "collapsed": false,
    "pycharm": {
     "name": "#%%\n"
    }
   }
  },
  {
   "cell_type": "code",
   "execution_count": null,
   "outputs": [],
   "source": [
    "index = visas_df.index\n",
    "number_of_rows = len(index)\n",
    "\n",
    "print(number_of_rows)\n",
    "\n",
    "headers = list(visas_df)\n",
    "\n",
    "for x in list(visas_df):\n",
    "    column = (headers.pop(0))\n",
    "    print(column)\n",
    "    # display(Markdown(\"# \" + column_object))\n",
    "    print(str(visas_df[column].count()) + \"/\" + str(number_of_rows) + str(visas_df[column].count()/number_of_rows))\n",
    "    # print('')\n"
   ],
   "metadata": {
    "collapsed": false,
    "pycharm": {
     "name": "#%%\n"
    }
   }
  },
  {
   "cell_type": "markdown",
   "source": [
    "## Print infos"
   ],
   "metadata": {
    "collapsed": false
   }
  },
  {
   "cell_type": "code",
   "execution_count": null,
   "outputs": [],
   "source": [
    "def print_info_of_str_column(column_object):\n",
    "    print('###################################')\n",
    "    print(column_object)\n",
    "    print('')\n",
    "    #display(Markdown(\"# \" + column_object))\n",
    "    print((visas_df[column_object].value_counts()))\n",
    "    print('###################################')\n",
    "    print('')"
   ],
   "metadata": {
    "collapsed": false,
    "pycharm": {
     "name": "#%%\n"
    }
   }
  },
  {
   "cell_type": "code",
   "execution_count": null,
   "outputs": [],
   "source": [
    "headers = list(visas_df)\n",
    "for x in list(visas_df):\n",
    "    print_info_of_str_column(headers.pop(0))\n"
   ],
   "metadata": {
    "collapsed": false,
    "pycharm": {
     "name": "#%%\n"
    }
   }
  },
  {
   "cell_type": "markdown",
   "source": [
    "## Merge Columns\n",
    "\n",
    "In this case: case_no, case_number"
   ],
   "metadata": {
    "collapsed": false
   }
  },
  {
   "cell_type": "code",
   "execution_count": null,
   "outputs": [],
   "source": [
    "cols = [['case_no', 'case_number']]"
   ],
   "metadata": {
    "collapsed": false,
    "pycharm": {
     "name": "#%%\n"
    }
   }
  },
  {
   "cell_type": "markdown",
   "source": [
    "Values are getting concatenated."
   ],
   "metadata": {
    "collapsed": false
   }
  },
  {
   "cell_type": "code",
   "execution_count": null,
   "outputs": [],
   "source": [
    "visas_df['Case_No_merged'] = visas_df['case_no'].fillna('') + visas_df['case_number'].fillna('')"
   ],
   "metadata": {
    "collapsed": false,
    "pycharm": {
     "name": "#%%\n"
    }
   }
  },
  {
   "cell_type": "markdown",
   "source": [
    "Check if there are duplicates."
   ],
   "metadata": {
    "collapsed": false
   }
  },
  {
   "cell_type": "code",
   "execution_count": null,
   "outputs": [],
   "source": [
    "visas_df['Case_No_merged'].value_counts()"
   ],
   "metadata": {
    "collapsed": false,
    "pycharm": {
     "name": "#%%\n"
    }
   }
  },
  {
   "cell_type": "markdown",
   "source": [
    "Duplicate Values are existing - CaseNo is no key value."
   ],
   "metadata": {
    "collapsed": false
   }
  },
  {
   "cell_type": "markdown",
   "source": [
    "Check the length of all concatenated strings. If the merging process was succesful, there should be no length over 13.\n",
    "Also der should be no NaN or Null values."
   ],
   "metadata": {
    "collapsed": false
   }
  },
  {
   "cell_type": "code",
   "execution_count": null,
   "outputs": [],
   "source": [
    "visas_df['Case_No_merged'].str.len().value_counts()"
   ],
   "metadata": {
    "collapsed": false,
    "pycharm": {
     "name": "#%%\n"
    }
   }
  },
  {
   "cell_type": "code",
   "execution_count": null,
   "outputs": [],
   "source": [
    "print('NaN values in case_number:')\n",
    "print(visas_df['case_number'].isna().sum())\n",
    "print('NaN values in case_no:')\n",
    "print(visas_df['case_no'].isna().sum())\n",
    "print('NaN Values combined:')\n",
    "print(visas_df['case_number'].isna().sum() + visas_df['case_no'].isna().sum())\n"
   ],
   "metadata": {
    "collapsed": false,
    "pycharm": {
     "name": "#%%\n"
    }
   }
  },
  {
   "cell_type": "code",
   "execution_count": null,
   "outputs": [],
   "source": [
    "visas_df['Case_No_merged'].str.len()"
   ],
   "metadata": {
    "collapsed": false,
    "pycharm": {
     "name": "#%%\n"
    }
   }
  },
  {
   "cell_type": "code",
   "execution_count": null,
   "outputs": [],
   "source": [
    "visas_df['Case_No_merged'].isna().sum()"
   ],
   "metadata": {
    "collapsed": false,
    "pycharm": {
     "name": "#%%\n"
    }
   }
  },
  {
   "cell_type": "markdown",
   "source": [
    "CaseNumber is completely filled. No Null Values."
   ],
   "metadata": {
    "collapsed": false
   }
  },
  {
   "cell_type": "code",
   "execution_count": null,
   "outputs": [],
   "source": [
    "unique_values_df = visas_df['fw_info_birth_country'].value_counts().rename_axis('unique values').reset_index(name='counts')\n",
    "unique_values_df\n",
    "unique_values_df.sort_values(by='counts', ascending = False).plot.bar()"
   ],
   "metadata": {
    "collapsed": false,
    "pycharm": {
     "name": "#%%\n"
    }
   }
  },
  {
   "cell_type": "code",
   "execution_count": null,
   "outputs": [],
   "source": [
    "\n",
    "\n",
    "unique_values_df = visas_df['naics_title'].value_counts().rename_axis('unique values').reset_index(name='counts')\n",
    "unique_values_df\n",
    "unique_values_df.sort_values(by='counts', ascending = False).plot.bar()"
   ],
   "metadata": {
    "collapsed": false,
    "pycharm": {
     "name": "#%%\n"
    }
   }
  },
  {
   "cell_type": "code",
   "execution_count": null,
   "outputs": [],
   "source": [
    "unique_values_df = visas_df['case_status'].value_counts().rename_axis('unique values').reset_index(name='counts')\n",
    "#unique_values_df = visas_df['case_status'].value_counts().rename_axis('unique values').reset_index(level=0, inplace=True)\n",
    "\n",
    "print(unique_values_df)\n",
    "unique_values_df.sort_values(by='counts', ascending = False).plot(kind='bar', x='unique values', y='counts', legend=None, title='Ice Cream Sales')\n",
    "\n",
    "\n"
   ],
   "metadata": {
    "collapsed": false,
    "pycharm": {
     "name": "#%%\n"
    }
   }
  },
  {
   "cell_type": "code",
   "execution_count": null,
   "outputs": [],
   "source": [
    "unique_values_df.plot(kind='pie', labels=unique_values_df['unique values'], y='counts', legend=None, autopct='%.2f%%', title='Ice Cream Sales')\n",
    "plt.tight_layout()\n",
    "plt.show()\n",
    "\n",
    "\n"
   ],
   "metadata": {
    "collapsed": false,
    "pycharm": {
     "name": "#%%\n"
    }
   }
  }
 ],
 "metadata": {
  "kernelspec": {
   "display_name": "Python 3",
   "language": "python",
   "name": "python3"
  },
  "language_info": {
   "codemirror_mode": {
    "name": "ipython",
    "version": 3
   },
   "file_extension": ".py",
   "mimetype": "text/x-python",
   "name": "python",
   "nbconvert_exporter": "python",
   "pygments_lexer": "ipython3",
   "version": "3.8.5"
  }
 },
 "nbformat": 4,
 "nbformat_minor": 1
}