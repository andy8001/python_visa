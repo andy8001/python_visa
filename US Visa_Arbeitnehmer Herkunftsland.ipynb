{
 "cells": [
  {
   "cell_type": "markdown",
   "source": [
    "# US Visas"
   ],
   "metadata": {
    "collapsed": false
   }
  },
  {
   "cell_type": "markdown",
   "source": [
    "## Arbeitnehmer Herkunft"
   ],
   "metadata": {
    "collapsed": false,
    "pycharm": {
     "name": "#%% md\n"
    }
   }
  },
  {
   "cell_type": "code",
   "execution_count": 39,
   "outputs": [],
   "source": [
    "import pandas as pd\n",
    "from IPython.display import display, Markdown\n",
    "import matplotlib.pyplot as plt\n",
    "import numpy as np\n",
    "import modules"
   ],
   "metadata": {
    "collapsed": false,
    "pycharm": {
     "name": "#%%\n"
    }
   }
  },
  {
   "cell_type": "markdown",
   "source": [
    "## Read CSV"
   ],
   "metadata": {
    "collapsed": false
   }
  },
  {
   "cell_type": "code",
   "execution_count": 40,
   "outputs": [
    {
     "name": "stderr",
     "output_type": "stream",
     "text": [
      "C:\\Users\\alina\\anaconda3\\lib\\site-packages\\IPython\\core\\interactiveshell.py:3063: DtypeWarning: Columns (10,11) have mixed types.Specify dtype option on import or set low_memory=False.\n",
      "  interactivity=interactivity, compiler=compiler, result=result)\n"
     ]
    }
   ],
   "source": [
    "col_list=['country_of_citizenship' , 'country_of_citzenship']\n",
    "visas_df = pd.read_csv(\"data/us_perm_visas.csv\" , usecols=col_list)\n",
    "\n",
    "#"
   ],
   "metadata": {
    "collapsed": false,
    "pycharm": {
     "name": "#%%\n"
    }
   }
  },
  {
   "cell_type": "markdown",
   "source": [
    "Laden von Zwei Spalten mit Herkunftsland der Arbeitnehmer"
   ],
   "metadata": {
    "collapsed": false,
    "pycharm": {
     "name": "#%% md\n"
    }
   }
  },
  {
   "cell_type": "code",
   "execution_count": 41,
   "outputs": [
    {
     "name": "stdout",
     "output_type": "stream",
     "text": [
      "country_of_citizenship\n",
      "353729/374362 94%\n",
      "Filled: |███████████████████████████████████████████████---| 94.5% Rows\r\n",
      "\n",
      "country_of_citzenship\n",
      "20574/374362 5%\n",
      "Filled: |██------------------------------------------------| 5.5% Rows\r\n",
      "\n"
     ]
    },
    {
     "name": "stderr",
     "output_type": "stream",
     "text": [
      "C:\\Users\\alina\\anaconda3\\lib\\site-packages\\IPython\\core\\pylabtools.py:132: UserWarning: Creating legend with loc=\"best\" can be slow with large amounts of data.\n",
      "  fig.canvas.print_figure(bytes_io, **kw)\n",
      "C:\\Users\\alina\\anaconda3\\lib\\site-packages\\IPython\\core\\pylabtools.py:132: UserWarning: Creating legend with loc=\"best\" can be slow with large amounts of data.\n",
      "  fig.canvas.print_figure(bytes_io, **kw)\n"
     ]
    },
    {
     "data": {
      "text/plain": "<Figure size 1152x288 with 1 Axes>",
      "image/png": "[encoded data removed]"
     },
     "metadata": {
      "needs_background": "light"
     },
     "output_type": "display_data"
    },
    {
     "data": {
      "text/plain": "<Figure size 1152x288 with 1 Axes>",
      "image/png": "[encoded data removed]"
     },
     "metadata": {
      "needs_background": "light"
     },
     "output_type": "display_data"
    }
   ],
   "source": [
    "modules.print_count_of_values_relation(visas_df, True, True)"
   ],
   "metadata": {
    "collapsed": false,
    "pycharm": {
     "name": "#%%\n"
    }
   }
  },
  {
   "cell_type": "markdown",
   "source": [
    "Zeigt mir an, in welcher Zeile Werte stehen und ob die zwei Spalten zusammengeführt werden können.\n",
    "Ergebnis: Country_of_citzenship enthält nur am Anfang werde, die zusammengeführt werden können mit country_of_citizenship."
   ],
   "metadata": {
    "collapsed": false,
    "pycharm": {
     "name": "#%% md\n"
    }
   }
  },
  {
   "cell_type": "code",
   "execution_count": 42,
   "outputs": [
    {
     "data": {
      "text/plain": "       country_of_citizenship country_of_citzenship  \\\n122482                  INDIA                   NaN   \n37817                   INDIA                   NaN   \n346155                  INDIA                   NaN   \n23809     TRINIDAD AND TOBAGO                   NaN   \n122622                UKRAINE                   NaN   \n237916                  INDIA                   NaN   \n97273                  MEXICO                   NaN   \n247524            SOUTH KOREA                   NaN   \n6152                      NaN                 INDIA   \n362634            PHILIPPINES                   NaN   \n\n       country_of_citizenship_merged  \n122482                         INDIA  \n37817                          INDIA  \n346155                         INDIA  \n23809            TRINIDAD AND TOBAGO  \n122622                       UKRAINE  \n237916                         INDIA  \n97273                         MEXICO  \n247524                   SOUTH KOREA  \n6152                           INDIA  \n362634                   PHILIPPINES  ",
      "text/html": "<div>\n<style scoped>\n    .dataframe tbody tr th:only-of-type {\n        vertical-align: middle;\n    }\n\n    .dataframe tbody tr th {\n        vertical-align: top;\n    }\n\n    .dataframe thead th {\n        text-align: right;\n    }\n</style>\n<table border=\"1\" class=\"dataframe\">\n  <thead>\n    <tr style=\"text-align: right;\">\n      <th></th>\n      <th>country_of_citizenship</th>\n      <th>country_of_citzenship</th>\n      <th>country_of_citizenship_merged</th>\n    </tr>\n  </thead>\n  <tbody>\n    <tr>\n      <th>122482</th>\n      <td>INDIA</td>\n      <td>NaN</td>\n      <td>INDIA</td>\n    </tr>\n    <tr>\n      <th>37817</th>\n      <td>INDIA</td>\n      <td>NaN</td>\n      <td>INDIA</td>\n    </tr>\n    <tr>\n      <th>346155</th>\n      <td>INDIA</td>\n      <td>NaN</td>\n      <td>INDIA</td>\n    </tr>\n    <tr>\n      <th>23809</th>\n      <td>TRINIDAD AND TOBAGO</td>\n      <td>NaN</td>\n      <td>TRINIDAD AND TOBAGO</td>\n    </tr>\n    <tr>\n      <th>122622</th>\n      <td>UKRAINE</td>\n      <td>NaN</td>\n      <td>UKRAINE</td>\n    </tr>\n    <tr>\n      <th>237916</th>\n      <td>INDIA</td>\n      <td>NaN</td>\n      <td>INDIA</td>\n    </tr>\n    <tr>\n      <th>97273</th>\n      <td>MEXICO</td>\n      <td>NaN</td>\n      <td>MEXICO</td>\n    </tr>\n    <tr>\n      <th>247524</th>\n      <td>SOUTH KOREA</td>\n      <td>NaN</td>\n      <td>SOUTH KOREA</td>\n    </tr>\n    <tr>\n      <th>6152</th>\n      <td>NaN</td>\n      <td>INDIA</td>\n      <td>INDIA</td>\n    </tr>\n    <tr>\n      <th>362634</th>\n      <td>PHILIPPINES</td>\n      <td>NaN</td>\n      <td>PHILIPPINES</td>\n    </tr>\n  </tbody>\n</table>\n</div>"
     },
     "execution_count": 42,
     "metadata": {},
     "output_type": "execute_result"
    }
   ],
   "source": [
    "visas_df['country_of_citizenship_merged'] = visas_df['country_of_citizenship'].fillna('') + visas_df['country_of_citzenship'].fillna('')\n",
    "visas_df.sample(10)"
   ],
   "metadata": {
    "collapsed": false,
    "pycharm": {
     "name": "#%%\n"
    }
   }
  },
  {
   "cell_type": "markdown",
   "source": [
    "Zwei Spalten zusammen geführt und neue Spalte country_of_citizenship_merged erstellt"
   ],
   "metadata": {
    "collapsed": false,
    "pycharm": {
     "name": "#%% md\n"
    }
   }
  },
  {
   "cell_type": "code",
   "execution_count": 43,
   "outputs": [
    {
     "name": "stdout",
     "output_type": "stream",
     "text": [
      "country_of_citizenship\n",
      "353729/374362 94%\n",
      "Filled: |███████████████████████████████████████████████---| 94.5% Rows\r\n",
      "\n",
      "country_of_citzenship\n",
      "20574/374362 5%\n",
      "Filled: |██------------------------------------------------| 5.5% Rows\r\n",
      "\n",
      "country_of_citizenship_merged\n",
      "374362/374362 100%\n",
      "Filled: |██████████████████████████████████████████████████| 100.0% Rows\r\n",
      "\n"
     ]
    },
    {
     "name": "stderr",
     "output_type": "stream",
     "text": [
      "C:\\Users\\alina\\anaconda3\\lib\\site-packages\\IPython\\core\\pylabtools.py:132: UserWarning: Creating legend with loc=\"best\" can be slow with large amounts of data.\n",
      "  fig.canvas.print_figure(bytes_io, **kw)\n",
      "C:\\Users\\alina\\anaconda3\\lib\\site-packages\\IPython\\core\\pylabtools.py:132: UserWarning: Creating legend with loc=\"best\" can be slow with large amounts of data.\n",
      "  fig.canvas.print_figure(bytes_io, **kw)\n",
      "C:\\Users\\alina\\anaconda3\\lib\\site-packages\\IPython\\core\\pylabtools.py:132: UserWarning: Creating legend with loc=\"best\" can be slow with large amounts of data.\n",
      "  fig.canvas.print_figure(bytes_io, **kw)\n"
     ]
    },
    {
     "data": {
      "text/plain": "<Figure size 1152x288 with 1 Axes>",
      "image/png": "[encoded data removed]"
     },
     "metadata": {
      "needs_background": "light"
     },
     "output_type": "display_data"
    },
    {
     "data": {
      "text/plain": "<Figure size 1152x288 with 1 Axes>",
      "image/png": "[encoded data removed]"
     },
     "metadata": {
      "needs_background": "light"
     },
     "output_type": "display_data"
    },
    {
     "data": {
      "text/plain": "<Figure size 1152x288 with 1 Axes>",
      "image/png": "[encoded data removed]"
     },
     "metadata": {
      "needs_background": "light"
     },
     "output_type": "display_data"
    }
   ],
   "source": [
    "modules.print_count_of_values_relation(visas_df, True, True)"
   ],
   "metadata": {
    "collapsed": false,
    "pycharm": {
     "name": "#%%\n"
    }
   }
  },
  {
   "cell_type": "markdown",
   "source": [
    "Prüfen, wieviele Werte in den einzelnen Spalten sind. Ergebnis: Beide Spalten wurden erfolgreich in einer neue zusammengeführt"
   ],
   "metadata": {
    "collapsed": false,
    "pycharm": {
     "name": "#%% md\n"
    }
   }
  },
  {
   "cell_type": "code",
   "execution_count": 44,
   "outputs": [
    {
     "data": {
      "text/plain": "INDIA            205158\nCHINA             28861\nSOUTH KOREA       24761\nCANADA            14804\nMEXICO             8961\n                  ...  \nSOMALIA               1\nANDORRA               1\nARUBA                 1\nCUBA                  1\nLIECHTENSTEIN         1\nName: country_of_citizenship_merged, Length: 203, dtype: int64"
     },
     "execution_count": 44,
     "metadata": {},
     "output_type": "execute_result"
    }
   ],
   "source": [
    "visas_df['country_of_citizenship_merged'].value_counts()"
   ],
   "metadata": {
    "collapsed": false,
    "pycharm": {
     "name": "#%%\n"
    }
   }
  },
  {
   "cell_type": "markdown",
   "source": [
    "Werte anzeigen und zählen"
   ],
   "metadata": {
    "collapsed": false,
    "pycharm": {
     "name": "#%% md\n"
    }
   }
  },
  {
   "cell_type": "code",
   "execution_count": 45,
   "outputs": [
    {
     "name": "stdout",
     "output_type": "stream",
     "text": [
      "INDIA                               205158\n",
      "CHINA                                28861\n",
      "SOUTH KOREA                          24761\n",
      "CANADA                               14804\n",
      "MEXICO                                8961\n",
      "PHILIPPINES                           8631\n",
      "UNITED KINGDOM                        4972\n",
      "TAIWAN                                4173\n",
      "PAKISTAN                              3962\n",
      "FRANCE                                3173\n",
      "NEPAL                                 3047\n",
      "JAPAN                                 2970\n",
      "BRAZIL                                2919\n",
      "VENEZUELA                             2738\n",
      "TURKEY                                2551\n",
      "RUSSIA                                2524\n",
      "GERMANY                               2364\n",
      "IRAN                                  2356\n",
      "VIETNAM                               2290\n",
      "ITALY                                 1948\n",
      "ISRAEL                                1914\n",
      "COLOMBIA                              1843\n",
      "AUSTRALIA                             1696\n",
      "UKRAINE                               1502\n",
      "SPAIN                                 1447\n",
      "POLAND                                1424\n",
      "ARGENTINA                             1189\n",
      "NIGERIA                               1147\n",
      "BANGLADESH                            1098\n",
      "MALAYSIA                              1059\n",
      "EGYPT                                 1010\n",
      "ROMANIA                                969\n",
      "THAILAND                               924\n",
      "IRELAND                                918\n",
      "INDONESIA                              888\n",
      "PERU                                   821\n",
      "ECUADOR                                819\n",
      "SINGAPORE                              765\n",
      "SOUTH AFRICA                           751\n",
      "SRI LANKA                              704\n",
      "UNITED STATES OF AMERICA               677\n",
      "JAMAICA                                662\n",
      "LEBANON                                652\n",
      "BULGARIA                               648\n",
      "JORDAN                                 628\n",
      "HONG KONG                              622\n",
      "GREECE                                 605\n",
      "NETHERLANDS                            529\n",
      "BELARUS                                515\n",
      "SYRIA                                  482\n",
      "SWEDEN                                 476\n",
      "KENYA                                  459\n",
      "CHILE                                  449\n",
      "EL SALVADOR                            449\n",
      "GHANA                                  403\n",
      "NEW ZEALAND                            396\n",
      "GUATEMALA                              384\n",
      "TRINIDAD AND TOBAGO                    381\n",
      "DOMINICAN REPUBLIC                     371\n",
      "HONDURAS                               354\n",
      "PORTUGAL                               343\n",
      "HUNGARY                                301\n",
      "MONGOLIA                               277\n",
      "COSTA RICA                             267\n",
      "BELGIUM                                265\n",
      "SWITZERLAND                            257\n",
      "AUSTRIA                                231\n",
      "CZECH REPUBLIC                         210\n",
      "FINLAND                                209\n",
      "SERBIA                                 208\n",
      "DENMARK                                207\n",
      "BOLIVIA                                205\n",
      "MOROCCO                                186\n",
      "ZIMBABWE                               176\n",
      "ETHIOPIA                               176\n",
      "ARMENIA                                167\n",
      "SLOVAKIA                               163\n",
      "MOLDOVA                                152\n",
      "ALBANIA                                145\n",
      "UZBEKISTAN                             129\n",
      "CAMEROON                               129\n",
      "KAZAKHSTAN                             129\n",
      "URUGUAY                                127\n",
      "PANAMA                                 117\n",
      "CROATIA                                112\n",
      "BAHAMAS                                105\n",
      "LITHUANIA                              103\n",
      "NORWAY                                  97\n",
      "TANZANIA                                89\n",
      "GEORGIA                                 83\n",
      "BURMA (MYANMAR)                         83\n",
      "GRENADA                                 83\n",
      "PALESTINE                               81\n",
      "MACEDONIA                               80\n",
      "SERBIA AND MONTENEGRO                   79\n",
      "LIBYA                                   76\n",
      "NICARAGUA                               75\n",
      "LATVIA                                  75\n",
      "AZERBAIJAN                              74\n",
      "SENEGAL                                 74\n",
      "UGANDA                                  69\n",
      "SAUDI ARABIA                            69\n",
      "PARAGUAY                                68\n",
      "BARBADOS                                66\n",
      "TUNISIA                                 65\n",
      "CYPRUS                                  64\n",
      "ICELAND                                 61\n",
      "GUYANA                                  60\n",
      "HAITI                                   60\n",
      "                                        59\n",
      "ST LUCIA                                56\n",
      "CAMBODIA                                56\n",
      "BOSNIA AND HERZEGOVINA                  53\n",
      "ZAMBIA                                  51\n",
      "KYRGYZSTAN                              48\n",
      "ESTONIA                                 48\n",
      "BELIZE                                  44\n",
      "SLOVENIA                                44\n",
      "ALGERIA                                 40\n",
      "MAURITIUS                               40\n",
      "DOMINICA                                38\n",
      "TURKMENISTAN                            36\n",
      "IRAQ                                    35\n",
      "KOSOVO                                  33\n",
      "MACAU                                   31\n",
      "TAJIKISTAN                              30\n",
      "GAMBIA                                  30\n",
      "SUDAN                                   30\n",
      "IVORY COAST                             29\n",
      "BENIN                                   28\n",
      "AFGHANISTAN                             27\n",
      "KUWAIT                                  26\n",
      "MALI                                    23\n",
      "YEMEN                                   21\n",
      "DEMOCRATIC REPUBLIC OF CONGO            21\n",
      "RWANDA                                  19\n",
      "MALAWI                                  19\n",
      "ST KITTS AND NEVIS                      19\n",
      "TOGO                                    19\n",
      "BOTSWANA                                18\n",
      "BURKINA FASO                            18\n",
      "ANGOLA                                  16\n",
      "LUXEMBOURG                              15\n",
      "FIJI                                    13\n",
      "UNITED ARAB EMIRATES                    13\n",
      "COTE d'IVOIRE                           13\n",
      "ANTIGUA AND BARBUDA                     13\n",
      "MADAGASCAR                              13\n",
      "ST VINCENT                              12\n",
      "BERMUDA                                 12\n",
      "PALESTINIAN TERRITORIES                 12\n",
      "SURINAME                                11\n",
      "MONTENEGRO                              11\n",
      "SAINT VINCENT AND THE GRENADINES        11\n",
      "ERITREA                                 11\n",
      "BAHRAIN                                 10\n",
      "BHUTAN                                  10\n",
      "GABON                                    9\n",
      "YUGOSLAVIA                               8\n",
      "LIBERIA                                  8\n",
      "MALTA                                    8\n",
      "SIERRA LEONE                             8\n",
      "LAOS                                     8\n",
      "GUINEA                                   7\n",
      "NIGER                                    7\n",
      "OMAN                                     6\n",
      "MARSHALL ISLANDS                         6\n",
      "NAMIBIA                                  6\n",
      "SWAZILAND                                5\n",
      "BURUNDI                                  5\n",
      "LESOTHO                                  5\n",
      "MALDIVES                                 4\n",
      "NORTH KOREA                              4\n",
      "MAURITANIA                               4\n",
      "TURKS AND CAICOS ISLANDS                 3\n",
      "VANUATU                                  3\n",
      "GUINEA-BISSAU                            3\n",
      "BRUNEI                                   3\n",
      "MOZAMBIQUE                               3\n",
      "SEYCHELLES                               3\n",
      "CAYMAN ISLANDS                           3\n",
      "REPUBLIC OF CONGO                        2\n",
      "SOUTH SUDAN                              2\n",
      "CENTRAL AFRICAN REPUBLIC                 2\n",
      "SAO TOME AND PRINCIPE                    2\n",
      "CAPE VERDE                               2\n",
      "BRITISH VIRGIN ISLANDS                   2\n",
      "MONACO                                   1\n",
      "PAPUA NEW GUINEA                         1\n",
      "KIRIBATI                                 1\n",
      "SAMOA                                    1\n",
      "SINT MAARTEN                             1\n",
      "SOVIET UNION                             1\n",
      "EQUATORIAL GUINEA                        1\n",
      "NETHERLANDS ANTILLES                     1\n",
      "COMOROS                                  1\n",
      "CHAD                                     1\n",
      "QATAR                                    1\n",
      "SOMALIA                                  1\n",
      "ANDORRA                                  1\n",
      "ARUBA                                    1\n",
      "CUBA                                     1\n",
      "LIECHTENSTEIN                            1\n",
      "Name: country_of_citizenship_merged, dtype: int64\n"
     ]
    }
   ],
   "source": [
    "modules.print_full(visas_df['country_of_citizenship_merged'].value_counts())"
   ],
   "metadata": {
    "collapsed": false,
    "pycharm": {
     "name": "#%%\n"
    }
   }
  },
  {
   "cell_type": "markdown",
   "source": [
    "Alle Werte anzeigen und zählen\n"
   ],
   "metadata": {
    "collapsed": false,
    "pycharm": {
     "name": "#%% md\n"
    }
   }
  },
  {
   "cell_type": "code",
   "execution_count": 46,
   "outputs": [
    {
     "data": {
      "text/plain": "0             ARMENIA\n1              POLAND\n2               INDIA\n3         SOUTH KOREA\n4              CANADA\n             ...     \n374357    SOUTH KOREA\n374358        VIETNAM\n374359          INDIA\n374360    SOUTH KOREA\n374361          CHINA\nName: country_of_citizenship_merged, Length: 374362, dtype: object"
     },
     "execution_count": 46,
     "metadata": {},
     "output_type": "execute_result"
    }
   ],
   "source": [
    "visas_df['country_of_citizenship_merged'].replace(r'^\\s*$', np.nan, regex=True)"
   ],
   "metadata": {
    "collapsed": false,
    "pycharm": {
     "name": "#%%\n"
    }
   }
  },
  {
   "cell_type": "markdown",
   "source": [
    "Leere Zeilen werden durch NaN erstetzt, da diese für leere Werte stehen.\n",
    "Sonst wäre es ein Wert aber so wird erkannt, dass hier ein Wert fehlt."
   ],
   "metadata": {
    "collapsed": false,
    "pycharm": {
     "name": "#%% md\n"
    }
   }
  },
  {
   "cell_type": "markdown",
   "source": [
    "## Diagramme"
   ],
   "metadata": {
    "collapsed": false,
    "pycharm": {
     "name": "#%% md\n"
    }
   }
  },
  {
   "cell_type": "code",
   "execution_count": 47,
   "outputs": [
    {
     "data": {
      "text/plain": "<matplotlib.axes._subplots.AxesSubplot at 0x2804b6e6e88>"
     },
     "execution_count": 47,
     "metadata": {},
     "output_type": "execute_result"
    },
    {
     "data": {
      "text/plain": "<Figure size 432x288 with 1 Axes>",
      "image/png": "[encoded data removed]"
     },
     "metadata": {
      "needs_background": "light"
     },
     "output_type": "display_data"
    }
   ],
   "source": [
    "visas_df['country_of_citizenship_merged'].value_counts()[:20].plot(kind='bar')"
   ],
   "metadata": {
    "collapsed": false,
    "pycharm": {
     "name": "#%%\n"
    }
   }
  },
  {
   "cell_type": "markdown",
   "source": [
    "Ergebnis: Die meisten Arbeitnehmer kommen aus den folgenden Ländern:\n",
    "\n",
    "1. Indien\n",
    "2. China\n",
    "3. Nord Korea\n"
   ],
   "metadata": {
    "collapsed": false,
    "pycharm": {
     "name": "#%% md\n"
    }
   }
  }
 ],
 "metadata": {
  "kernelspec": {
   "name": "python3",
   "language": "python",
   "display_name": "Python 3"
  },
  "language_info": {
   "codemirror_mode": {
    "name": "ipython",
    "version": 3
   },
   "file_extension": ".py",
   "mimetype": "text/x-python",
   "name": "python",
   "nbconvert_exporter": "python",
   "pygments_lexer": "ipython3",
   "version": "3.8.5"
  }
 },
 "nbformat": 4,
 "nbformat_minor": 1
}