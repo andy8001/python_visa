{
 "cells": [
  {
   "cell_type": "markdown",
   "source": [
    "Diese Datei erstellt den, für die Analysen notwendigen, bereinigten Datensatz."
   ],
   "metadata": {
    "collapsed": false,
    "pycharm": {
     "name": "#%% md\n"
    }
   }
  },
  {
   "cell_type": "code",
   "execution_count": 3,
   "metadata": {
    "collapsed": true
   },
   "outputs": [],
   "source": [
    "import cleanup\n"
   ]
  },
  {
   "cell_type": "code",
   "execution_count": 4,
   "outputs": [
    {
     "name": "stderr",
     "output_type": "stream",
     "text": [
      "C:\\Users\\andre\\anaconda3\\lib\\site-packages\\IPython\\core\\interactiveshell.py:3338: DtypeWarning: Columns (0,1,2,3,4,5,6,7,10,11,16,17,20,21,22,25,26,27,28,29,30,31,32,33,34,35,36,37,39,40,41,42,43,44,45,47,48,49,50,51,52,53,55,56,57,58,59,60,61,63,64,65,66,68,69,70,71,72,73,74,77,79,80,81,82,83,84,85,86,87,88,89,90,91,92,93,94,95,100,101,103,104,105,106,107,108,109,110,111,112,113,114,115,116,117,118,119,120,121,122,123,124,125,126,127,128,129,130,131,132,133,134,135,136,137,138,139,140,141,142,143,144,145,146,147,148,149,150,153) have mixed types.Specify dtype option on import or set low_memory=False.\n",
      "  if (await self.run_code(code, result,  async_=asy)):\n",
      "C:\\Users\\andre\\anaconda3\\lib\\site-packages\\pandas\\core\\computation\\expressions.py:203: UserWarning: evaluating in Python space because the '+' operator is not supported by numexpr for the bool dtype, use '|' instead\n",
      "  warnings.warn(\n",
      "C:\\Users\\andre\\anaconda3\\lib\\site-packages\\pandas\\core\\computation\\expressions.py:203: UserWarning: evaluating in Python space because the '+' operator is not supported by numexpr for the bool dtype, use '|' instead\n",
      "  warnings.warn(\n"
     ]
    },
    {
     "name": "stdout",
     "output_type": "stream",
     "text": [
      "Spalten wurden durch Addition zusammengeführt.\n",
      "Spalten waren nicht überlappend und wurden fehlerfrei zusammengeführt.\n",
      "Spalten waren nicht überlappend und wurden fehlerfrei zusammengeführt.\n",
      "Achtung: Es liegen überlappende Spalten vor. Die erste Spalte wurde bei fehlenden Werte mit Inhalten der zweiten Spalte befüllt.\n",
      "   wage_offer_from wage_offer_unit_of_pay case_received_date decision_date  \\\n",
      "0         75629.00                     yr                NaT    2012-02-01   \n",
      "1         37024.00                     yr                NaT    2011-12-21   \n",
      "2         47923.00                     yr                NaT    2011-12-01   \n",
      "3            10.97                     hr                NaT    2011-12-01   \n",
      "4        100000.00                     yr                NaT    2012-01-26   \n",
      "\n",
      "  employer_state    case_number foreign_worker_info_education_other  \\\n",
      "0       NEW YORK  A-07323-97014                                 NaN   \n",
      "1       NEW YORK  A-07332-99439                                 NaN   \n",
      "2       VIRGINIA  A-07333-99643                                 NaN   \n",
      "3       NEW YORK  A-07339-01930                                 NaN   \n",
      "4       NEW YORK  A-07345-03565                                 NaN   \n",
      "\n",
      "  country_of_citizenship case_status     us_economic_sector  \\\n",
      "0                ARMENIA   Certified                     IT   \n",
      "1                 POLAND      Denied  Other Economic Sector   \n",
      "2                  INDIA   Certified              Aerospace   \n",
      "3            SOUTH KOREA   Certified  Other Economic Sector   \n",
      "4                 CANADA   Certified           Advanced Mfg   \n",
      "\n",
      "                 employer_name employer_city  prevailing_wage_amount_9089  \\\n",
      "0             NETSOFT USA INC.      NEW YORK                     75629.00   \n",
      "1  PINNACLE ENVIRONEMNTAL CORP     CARLSTADT                     37024.00   \n",
      "2   SCHNABEL ENGINEERING, INC.    GLEN ALLEN                     47923.00   \n",
      "3      EBENEZER MISSION CHURCH      FLUSHING                        10.97   \n",
      "4   ALBANY INTERNATIONAL CORP.        ALBANY                     94890.00   \n",
      "\n",
      "  prevailing_wage_unit_of_pay_9089 foreign_worker_info_education  \\\n",
      "0                               yr                           NaN   \n",
      "1                               yr                           NaN   \n",
      "2                               yr                           NaN   \n",
      "3                               hr                           NaN   \n",
      "4                               yr                           NaN   \n",
      "\n",
      "  prevailing_wage_level_9089                  prevailing_wage_soc_title  \\\n",
      "0                   Level II  Computer Software Engineers, Applications   \n",
      "1                    Level I        Hazardous Materials Removal Workers   \n",
      "2                    Level I                            Civil Engineers   \n",
      "3                   Level II                                File Clerks   \n",
      "4                   Level IV                            Sales Engineers   \n",
      "\n",
      "  class_of_admission            prevailing_wage_job_title_9089  \\\n",
      "0                J-1  computer software engineers, application   \n",
      "1                B-2                          asbestos handler   \n",
      "2               H-1B                            civil engineer   \n",
      "3                B-2                                file clerk   \n",
      "4                L-1                  sales & service engineer   \n",
      "\n",
      "  foreign_worker_info_birth_country  \n",
      "0                               NaN  \n",
      "1                               NaN  \n",
      "2                               NaN  \n",
      "3                               NaN  \n",
      "4                               NaN  \n"
     ]
    }
   ],
   "source": [
    "cleanup.generate_cleaned_df(\"data/us_perm_visas.csv\", \"data/\")\n"
   ],
   "metadata": {
    "collapsed": false,
    "pycharm": {
     "name": "#%%\n"
    }
   }
  }
 ],
 "metadata": {
  "kernelspec": {
   "display_name": "Python 3",
   "language": "python",
   "name": "python3"
  },
  "language_info": {
   "codemirror_mode": {
    "name": "ipython",
    "version": 2
   },
   "file_extension": ".py",
   "mimetype": "text/x-python",
   "name": "python",
   "nbconvert_exporter": "python",
   "pygments_lexer": "ipython2",
   "version": "2.7.6"
  }
 },
 "nbformat": 4,
 "nbformat_minor": 0
}