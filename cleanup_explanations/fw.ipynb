{
 "cells": [
  {
   "cell_type": "code",
   "execution_count": 1,
   "metadata": {
    "collapsed": true
   },
   "outputs": [],
   "source": [
    "import pandas as pd\n",
    "import modules\n",
    "import numpy as np\n",
    "import cleanup"
   ]
  },
  {
   "cell_type": "markdown",
   "source": [
    "# foreign_worker_info_education_other"
   ],
   "metadata": {
    "collapsed": false,
    "pycharm": {
     "name": "#%% md\n"
    }
   }
  },
  {
   "cell_type": "code",
   "execution_count": 2,
   "outputs": [
    {
     "name": "stderr",
     "output_type": "stream",
     "text": [
      "C:\\Users\\andre\\anaconda3\\lib\\site-packages\\IPython\\core\\interactiveshell.py:3146: DtypeWarning: Columns (29,41) have mixed types.Specify dtype option on import or set low_memory=False.\n",
      "  has_raised = await self.run_ast_nodes(code_ast.body, cell_name,\n"
     ]
    }
   ],
   "source": [
    "col_list=[ 'foreign_worker_info_education_other' , 'fw_info_education_other']\n",
    "visas_df = pd.read_csv(\"../data/us_perm_visas.csv\" , usecols=col_list)\n"
   ],
   "metadata": {
    "collapsed": false,
    "pycharm": {
     "name": "#%%\n"
    }
   }
  },
  {
   "cell_type": "markdown",
   "source": [
    "Es hat sich gezeigt, dass die Spalten mit dem prefix fw und foreign_worker oft zusammengeführt werden können.\n",
    "Um die Annahme zu belegen haben wir eine Fuktion `print_count_of_values_relation` geschrieben.\n",
    "\n",
    "Sie gibt für alle enthaltenen Spalten eines DataFrames ein Diagramm, welches aufzeigt wie viele Spalten non-nan Werte enthalten und wie diese verteilt sind.\n",
    "\n",
    "Ein Wert von 1 auf der Y-Achse bedeuted, dass ein Wert enthalten ist.\n",
    "Ein Wert von 0 auf der Y-Achse bedeuted, dass ein nan Wert vorhanden ist.\n",
    "\n",
    "Die X-Achse steht für den Index des jeweiligen Eintrages."
   ],
   "metadata": {
    "collapsed": false,
    "pycharm": {
     "name": "#%% md\n"
    }
   }
  },
  {
   "cell_type": "code",
   "execution_count": 3,
   "outputs": [
    {
     "name": "stdout",
     "output_type": "stream",
     "text": [
      "foreign_worker_info_education_other\n",
      "3940/374362 1%\n",
      "Filled: |--------------------------------------------------| 1.1% Rows\r\n",
      "\n",
      "fw_info_education_other\n",
      "150015/374362 40%\n",
      "Filled: |████████████████████------------------------------| 40.1% Rows\r\n",
      "\n"
     ]
    },
    {
     "data": {
      "text/plain": "<Figure size 1152x288 with 1 Axes>",
      "image/png": "[encoded data removed]"
     },
     "metadata": {
      "needs_background": "light"
     },
     "output_type": "display_data"
    },
    {
     "data": {
      "text/plain": "<Figure size 1152x288 with 1 Axes>",
      "image/png": "[encoded data removed]"
     },
     "metadata": {
      "needs_background": "light"
     },
     "output_type": "display_data"
    }
   ],
   "source": [
    "modules.print_count_of_values_relation(visas_df, True, True)"
   ],
   "metadata": {
    "collapsed": false,
    "pycharm": {
     "name": "#%%\n"
    }
   }
  },
  {
   "cell_type": "markdown",
   "source": [
    "Es ist zu erkennen, dass sich in diesem Fall die Spalten `foreign_worker_info_education_other` und `fw_info_education_other` optimal ergänzen, auch wenn weiterhin Lücken bleiben, die nicht befüllt werden können."
   ],
   "metadata": {
    "collapsed": false,
    "pycharm": {
     "name": "#%% md\n"
    }
   }
  },
  {
   "cell_type": "markdown",
   "source": [
    "Es wird noch ein Blick auf die Inhalte geworfen, um sicherzugehen, dass bei Spalten auch inhaltlich identisch sind."
   ],
   "metadata": {
    "collapsed": false,
    "pycharm": {
     "name": "#%% md\n"
    }
   }
  },
  {
   "cell_type": "code",
   "execution_count": 4,
   "outputs": [
    {
     "data": {
      "text/plain": "None                                                                        143672\nMEDICAL DEGREE                                                                 639\nMD                                                                             393\nM.D.                                                                           239\n3-YR POST SECONDARY EDUCATION *SEE H.14                                        191\n                                                                             ...  \nNO DEGREE COMPLETED                                                              1\nBACH DEGREE EQUIV BASED ON A 3-YR DEGREE AND 2-YR CERTIFICATE                    1\nONE YEAR OF BACHELOR'S LEVEL COURSE WORK                                         1\nTHREE (3) YEARS POST-SECONDARY EDUCATION TOWARDS BACHELOR OF ARTS DEGREE         1\nGENERAL EDUCATION                                                                1\nName: fw_info_education_other, Length: 2031, dtype: int64"
     },
     "execution_count": 4,
     "metadata": {},
     "output_type": "execute_result"
    }
   ],
   "source": [
    "visas_df['fw_info_education_other'].value_counts()"
   ],
   "metadata": {
    "collapsed": false,
    "pycharm": {
     "name": "#%%\n"
    }
   }
  },
  {
   "cell_type": "code",
   "execution_count": 5,
   "outputs": [
    {
     "data": {
      "text/plain": "MEDICAL DEGREE                                                               402\nMD                                                                           247\nM.D.                                                                         163\n3-YR POST SECONDARY EDUCATION *SEE H.14                                      146\n3-YR POST SECONDARY EDUCATION *SEE H-14                                      130\n                                                                            ... \nMD/MBBS                                                                        1\nM.D. (EQUIVALENT TO A U.S. MEDICAL DEGREE)                                     1\nDOCTOR & SURGEON (M.D. EQUIVALENT)                                             1\nEQUIVALENT OF 3 YEARS OF U.S. ACADEMIC STUDIES TOWARD A BACHELOR'S DEGREE      1\nFOREIGN EQUIV TO B.S. IN AGRICULTURAL MGMT IN EDUC, TRAINING & EXP             1\nName: foreign_worker_info_education_other, Length: 1327, dtype: int64"
     },
     "execution_count": 5,
     "metadata": {},
     "output_type": "execute_result"
    }
   ],
   "source": [
    "visas_df['foreign_worker_info_education_other'].value_counts()"
   ],
   "metadata": {
    "collapsed": false,
    "pycharm": {
     "name": "#%%\n"
    }
   }
  },
  {
   "cell_type": "markdown",
   "source": [
    "Es ist erkennbar, dass die Inhalte identisch sind. Die Spalten werden zusammengeführt.\n",
    "Vorab werden jedoch die Spalten im einzelnen noch Bereinigt.\n",
    "Leerwerte und 'None' werden zu NaN umgewandelt."
   ],
   "metadata": {
    "collapsed": false,
    "pycharm": {
     "name": "#%% md\n"
    }
   }
  },
  {
   "cell_type": "code",
   "execution_count": 6,
   "outputs": [
    {
     "data": {
      "text/plain": "0"
     },
     "execution_count": 6,
     "metadata": {},
     "output_type": "execute_result"
    }
   ],
   "source": [
    "visas_df[visas_df['foreign_worker_info_education_other']=='None'].size"
   ],
   "metadata": {
    "collapsed": false,
    "pycharm": {
     "name": "#%%\n"
    }
   }
  },
  {
   "cell_type": "code",
   "execution_count": 7,
   "outputs": [
    {
     "data": {
      "text/plain": "287344"
     },
     "execution_count": 7,
     "metadata": {},
     "output_type": "execute_result"
    }
   ],
   "source": [
    "visas_df[visas_df['fw_info_education_other']=='None'].size\n"
   ],
   "metadata": {
    "collapsed": false,
    "pycharm": {
     "name": "#%%\n"
    }
   }
  },
  {
   "cell_type": "code",
   "execution_count": 8,
   "outputs": [],
   "source": [
    "visas_df['foreign_worker_info_education_other'] = cleanup.replaceNoneOrEmptyByNa(visas_df['foreign_worker_info_education_other'])\n",
    "visas_df['fw_info_education_other'] = cleanup.replaceNoneOrEmptyByNa(visas_df['fw_info_education_other'])"
   ],
   "metadata": {
    "collapsed": false,
    "pycharm": {
     "name": "#%%\n"
    }
   }
  },
  {
   "cell_type": "code",
   "execution_count": 9,
   "outputs": [],
   "source": [
    "# The two different columns 'foreign_worker_info_education_other' and 'fw_info_education_other' get merged because they both contain similar information and don't overap each other.\n",
    "# The columns get merged through simmple concatenation, therefor all na values are replaced by ''.\n",
    "# Afterwards alle cells containing '' will be repaled again by na values.\n",
    "visas_df['fw_info_education_other_merged'] = visas_df['foreign_worker_info_education_other'].fillna('') + visas_df[\n",
    "    'fw_info_education_other'].fillna('')\n",
    "visas_df['fw_info_education_other_merged'] = visas_df['fw_info_education_other_merged'].replace(r'^\\s*$', np.nan, regex=True)"
   ],
   "metadata": {
    "collapsed": false,
    "pycharm": {
     "name": "#%%\n"
    }
   }
  },
  {
   "cell_type": "code",
   "execution_count": 10,
   "outputs": [
    {
     "name": "stdout",
     "output_type": "stream",
     "text": [
      "foreign_worker_info_education_other\n",
      "3940/374362 1%\n",
      "Filled: |--------------------------------------------------| 1.1% Rows\r\n",
      "\n",
      "fw_info_education_other\n",
      "6343/374362 2%\n",
      "Filled: |--------------------------------------------------| 1.7% Rows\r\n",
      "\n",
      "fw_info_education_other_merged\n",
      "10283/374362 3%\n",
      "Filled: |█-------------------------------------------------| 2.7% Rows\r\n",
      "\n"
     ]
    },
    {
     "data": {
      "text/plain": "<Figure size 1152x288 with 1 Axes>",
      "image/png": "[encoded data removed]"
     },
     "metadata": {
      "needs_background": "light"
     },
     "output_type": "display_data"
    },
    {
     "data": {
      "text/plain": "<Figure size 1152x288 with 1 Axes>",
      "image/png": "[encoded data removed]"
     },
     "metadata": {
      "needs_background": "light"
     },
     "output_type": "display_data"
    },
    {
     "data": {
      "text/plain": "<Figure size 1152x288 with 1 Axes>",
      "image/png": "[encoded data removed]"
     },
     "metadata": {
      "needs_background": "light"
     },
     "output_type": "display_data"
    }
   ],
   "source": [
    "modules.print_count_of_values_relation(visas_df, True, True)"
   ],
   "metadata": {
    "collapsed": false,
    "pycharm": {
     "name": "#%%\n"
    }
   }
  },
  {
   "cell_type": "code",
   "execution_count": 11,
   "outputs": [
    {
     "data": {
      "text/plain": "3006"
     },
     "execution_count": 11,
     "metadata": {},
     "output_type": "execute_result"
    }
   ],
   "source": [
    "visas_df['fw_info_education_other_merged'].nunique()"
   ],
   "metadata": {
    "collapsed": false,
    "pycharm": {
     "name": "#%%\n"
    }
   }
  },
  {
   "cell_type": "markdown",
   "source": [
    "Die Spalten wurden erfolgreich bereinigt und zusammengeführt.\n",
    "Das Vorgeen wird in der cleanup.py in der Funktion `clean_foreign_worker_info_education_other` festgehalten."
   ],
   "metadata": {
    "collapsed": false,
    "pycharm": {
     "name": "#%% md\n"
    }
   }
  }
 ],
 "metadata": {
  "kernelspec": {
   "display_name": "Python 3",
   "language": "python",
   "name": "python3"
  },
  "language_info": {
   "codemirror_mode": {
    "name": "ipython",
    "version": 2
   },
   "file_extension": ".py",
   "mimetype": "text/x-python",
   "name": "python",
   "nbconvert_exporter": "python",
   "pygments_lexer": "ipython2",
   "version": "2.7.6"
  }
 },
 "nbformat": 4,
 "nbformat_minor": 0
}