{
 "cells": [
  {
   "cell_type": "code",
   "execution_count": 37,
   "outputs": [],
   "source": [
    "import pandas as pd\n",
    "import cleanup\n",
    "import numpy as np\n",
    "import modules"
   ],
   "metadata": {
    "collapsed": false,
    "pycharm": {
     "name": "#%%\n"
    }
   }
  },
  {
   "cell_type": "markdown",
   "source": [
    "# prevailing_wage_amount_9089"
   ],
   "metadata": {
    "collapsed": false,
    "pycharm": {
     "name": "#%% md\n"
    }
   }
  },
  {
   "cell_type": "code",
   "execution_count": 38,
   "outputs": [
    {
     "name": "stderr",
     "output_type": "stream",
     "text": [
      "C:\\Users\\andre\\anaconda3\\lib\\site-packages\\IPython\\core\\interactiveshell.py:3146: DtypeWarning: Columns (91) have mixed types.Specify dtype option on import or set low_memory=False.\n",
      "  has_raised = await self.run_ast_nodes(code_ast.body, cell_name,\n"
     ]
    }
   ],
   "source": [
    "col_list = [\"pw_amount_9089\"]\n",
    "visas_df = pd.read_csv('../data/us_perm_visas.csv', usecols=col_list)"
   ],
   "metadata": {
    "collapsed": false,
    "pycharm": {
     "name": "#%%\n"
    }
   }
  },
  {
   "cell_type": "code",
   "execution_count": 39,
   "outputs": [
    {
     "data": {
      "text/plain": "pw_amount_9089    object\ndtype: object"
     },
     "execution_count": 39,
     "metadata": {},
     "output_type": "execute_result"
    }
   ],
   "source": [
    "visas_df.dtypes"
   ],
   "metadata": {
    "collapsed": false,
    "pycharm": {
     "name": "#%%\n"
    }
   }
  },
  {
   "cell_type": "markdown",
   "source": [
    "Die Spalte `pw_amount_9089` wird von Pandas nicht automatisch als float erkannt.\n",
    "Die Begründung ist, dass in manchen Zahlenwerten Trennzeichen in Form eines Kommas enthalten sind."
   ],
   "metadata": {
    "collapsed": false,
    "pycharm": {
     "name": "#%% md\n"
    }
   }
  },
  {
   "cell_type": "code",
   "execution_count": 40,
   "outputs": [
    {
     "data": {
      "text/plain": "       pw_amount_9089\n135269      83,366.00\n135270      16,973.00\n135271      49,982.00\n135272      43,514.00\n135273      16,973.00\n...               ...\n374357      28,330.00\n374358     107,744.00\n374359      79,082.00\n374360      37,981.00\n374361      84,926.00\n\n[111090 rows x 1 columns]",
      "text/html": "<div>\n<style scoped>\n    .dataframe tbody tr th:only-of-type {\n        vertical-align: middle;\n    }\n\n    .dataframe tbody tr th {\n        vertical-align: top;\n    }\n\n    .dataframe thead th {\n        text-align: right;\n    }\n</style>\n<table border=\"1\" class=\"dataframe\">\n  <thead>\n    <tr style=\"text-align: right;\">\n      <th></th>\n      <th>pw_amount_9089</th>\n    </tr>\n  </thead>\n  <tbody>\n    <tr>\n      <th>135269</th>\n      <td>83,366.00</td>\n    </tr>\n    <tr>\n      <th>135270</th>\n      <td>16,973.00</td>\n    </tr>\n    <tr>\n      <th>135271</th>\n      <td>49,982.00</td>\n    </tr>\n    <tr>\n      <th>135272</th>\n      <td>43,514.00</td>\n    </tr>\n    <tr>\n      <th>135273</th>\n      <td>16,973.00</td>\n    </tr>\n    <tr>\n      <th>...</th>\n      <td>...</td>\n    </tr>\n    <tr>\n      <th>374357</th>\n      <td>28,330.00</td>\n    </tr>\n    <tr>\n      <th>374358</th>\n      <td>107,744.00</td>\n    </tr>\n    <tr>\n      <th>374359</th>\n      <td>79,082.00</td>\n    </tr>\n    <tr>\n      <th>374360</th>\n      <td>37,981.00</td>\n    </tr>\n    <tr>\n      <th>374361</th>\n      <td>84,926.00</td>\n    </tr>\n  </tbody>\n</table>\n<p>111090 rows × 1 columns</p>\n</div>"
     },
     "execution_count": 40,
     "metadata": {},
     "output_type": "execute_result"
    }
   ],
   "source": [
    "visas_df[visas_df[\"pw_amount_9089\"].str.contains(pat = ',', na=False)]\n"
   ],
   "metadata": {
    "collapsed": false,
    "pycharm": {
     "name": "#%%\n"
    }
   }
  },
  {
   "cell_type": "markdown",
   "source": [
    "Diese Trennzeichen müssen entfernt werden, um eine Umwandlung in einen float Wert durchzuführen.\n",
    "Dafür gibt es die Funktion `clean_currency` in der cleanup.py."
   ],
   "metadata": {
    "collapsed": false,
    "pycharm": {
     "name": "#%% md\n"
    }
   }
  },
  {
   "cell_type": "code",
   "execution_count": 41,
   "outputs": [],
   "source": [
    "visas_df[\"pw_amount_9089\"] = visas_df['pw_amount_9089'].apply(cleanup.clean_currency).astype('float')"
   ],
   "metadata": {
    "collapsed": false,
    "pycharm": {
     "name": "#%%\n"
    }
   }
  },
  {
   "cell_type": "code",
   "execution_count": 42,
   "outputs": [
    {
     "data": {
      "text/plain": "pw_amount_9089    float64\ndtype: object"
     },
     "execution_count": 42,
     "metadata": {},
     "output_type": "execute_result"
    }
   ],
   "source": [
    "visas_df.dtypes"
   ],
   "metadata": {
    "collapsed": false,
    "pycharm": {
     "name": "#%%\n"
    }
   }
  },
  {
   "cell_type": "markdown",
   "source": [
    "Die Bereinigung war erfolgreich und ist in der cleanup.py unter der Funktion `clean_pw_amount_9089` aufgenommen worden."
   ],
   "metadata": {
    "collapsed": false,
    "pycharm": {
     "name": "#%% md\n"
    }
   }
  },
  {
   "cell_type": "markdown",
   "source": [
    "# prevailing_wage_unit_of_pay_9089"
   ],
   "metadata": {
    "collapsed": false,
    "pycharm": {
     "name": "#%% md\n"
    }
   }
  },
  {
   "cell_type": "code",
   "execution_count": 43,
   "outputs": [],
   "source": [
    "col_list = [\"pw_unit_of_pay_9089\"]\n",
    "visas_df = pd.read_csv('../data/us_perm_visas.csv', usecols=col_list)\n"
   ],
   "metadata": {
    "collapsed": false,
    "pycharm": {
     "name": "#%%\n"
    }
   }
  },
  {
   "cell_type": "code",
   "execution_count": 44,
   "outputs": [
    {
     "data": {
      "text/plain": "Year         344323\nyr            19757\nHour           7619\nhr              726\nWeek            186\nMonth           123\nBi-Weekly        23\nwk               21\nmth               7\nbi                5\nName: pw_unit_of_pay_9089, dtype: int64"
     },
     "execution_count": 44,
     "metadata": {},
     "output_type": "execute_result"
    }
   ],
   "source": [
    "visas_df[\"pw_unit_of_pay_9089\"].value_counts()"
   ],
   "metadata": {
    "collapsed": false,
    "pycharm": {
     "name": "#%%\n"
    }
   }
  },
  {
   "cell_type": "markdown",
   "source": [
    "Die Zahlungseinheiten der Spalte `pw_unit_of_pay_9089` sind uneinheitlich.\n",
    "Teilweise wurde eine Langform und teilweise eine Kurzform gewählt.\n",
    "\n",
    "Im Nachgang sollen die Einträge einheitlich auf eine Kurzform abgeändert werden.\n",
    "Dafür gibt es die Funktion `normalize_pay_unit_columns` innerhalb der cleanup.py."
   ],
   "metadata": {
    "collapsed": false,
    "pycharm": {
     "name": "#%% md\n"
    }
   }
  },
  {
   "cell_type": "code",
   "execution_count": 45,
   "outputs": [],
   "source": [
    "visas_df[\"pw_unit_of_pay_9089\"] = cleanup.normalize_pay_unit_columns(visas_df[\"pw_unit_of_pay_9089\"])"
   ],
   "metadata": {
    "collapsed": false,
    "pycharm": {
     "name": "#%%\n"
    }
   }
  },
  {
   "cell_type": "code",
   "execution_count": 46,
   "outputs": [
    {
     "data": {
      "text/plain": "yr     364080\nhr       8345\nwk        207\nmth       130\nbi         28\nName: pw_unit_of_pay_9089, dtype: int64"
     },
     "execution_count": 46,
     "metadata": {},
     "output_type": "execute_result"
    }
   ],
   "source": [
    "visas_df[\"pw_unit_of_pay_9089\"].value_counts()"
   ],
   "metadata": {
    "collapsed": false,
    "pycharm": {
     "name": "#%%\n"
    }
   }
  },
  {
   "cell_type": "markdown",
   "source": [
    "Die Bereinigung war erfolgreich und wurde in der cleanup.py innerhalb der Funktion `clean_pw_unit_of_pay_9089` festgehalten."
   ],
   "metadata": {
    "collapsed": false
   }
  },
  {
   "cell_type": "markdown",
   "source": [
    "# prevailing_wage_job_title_9089"
   ],
   "metadata": {
    "collapsed": false
   }
  },
  {
   "cell_type": "code",
   "execution_count": 47,
   "outputs": [
    {
     "name": "stderr",
     "output_type": "stream",
     "text": [
      "C:\\Users\\andre\\anaconda3\\lib\\site-packages\\IPython\\core\\interactiveshell.py:3146: DtypeWarning: Columns (0,94,95) have mixed types.Specify dtype option on import or set low_memory=False.\n",
      "  has_raised = await self.run_ast_nodes(code_ast.body, cell_name,\n"
     ]
    }
   ],
   "source": [
    "col_list= [\"pw_job_title_9089\", \"pw_job_title_908\", \"add_these_pw_job_title_9089\"]\n",
    "visas_df = pd.read_csv('../data/us_perm_visas.csv', usecols=col_list)"
   ],
   "metadata": {
    "collapsed": false,
    "pycharm": {
     "name": "#%%\n"
    }
   }
  },
  {
   "cell_type": "markdown",
   "source": [
    "Aufgrund der Spaltenbezeichnungen wird angeommen, dass die vorliegenden Splaten zusammengeführt werden könnten.\n",
    "Dies soll nun überprüft werden."
   ],
   "metadata": {
    "collapsed": false,
    "pycharm": {
     "name": "#%% md\n"
    }
   }
  },
  {
   "cell_type": "markdown",
   "source": [
    "## Zusammenführung der Spalten"
   ],
   "metadata": {
    "collapsed": false,
    "pycharm": {
     "name": "#%% md\n"
    }
   }
  },
  {
   "cell_type": "code",
   "execution_count": 48,
   "outputs": [
    {
     "name": "stdout",
     "output_type": "stream",
     "text": [
      "add_these_pw_job_title_9089\n",
      "42194/374362 11%\n",
      "Filled: |█████---------------------------------------------| 11.3% Rows\r\n",
      "\n",
      "pw_job_title_908\n",
      "150379/374362 40%\n",
      "Filled: |████████████████████------------------------------| 40.2% Rows\r\n",
      "\n",
      "pw_job_title_9089\n",
      "223591/374362 60%\n",
      "Filled: |█████████████████████████████---------------------| 59.7% Rows\r\n",
      "\n"
     ]
    },
    {
     "data": {
      "text/plain": "<Figure size 1152x288 with 1 Axes>",
      "image/png": "[encoded data removed]"
     },
     "metadata": {
      "needs_background": "light"
     },
     "output_type": "display_data"
    },
    {
     "data": {
      "text/plain": "<Figure size 1152x288 with 1 Axes>",
      "image/png": "[encoded data removed]"
     },
     "metadata": {
      "needs_background": "light"
     },
     "output_type": "display_data"
    },
    {
     "data": {
      "text/plain": "<Figure size 1152x288 with 1 Axes>",
      "image/png": "[encoded data removed]"
     },
     "metadata": {
      "needs_background": "light"
     },
     "output_type": "display_data"
    }
   ],
   "source": [
    "modules.print_count_of_values_relation(visas_df, True, True)"
   ],
   "metadata": {
    "collapsed": false,
    "pycharm": {
     "name": "#%%\n"
    }
   }
  },
  {
   "cell_type": "markdown",
   "source": [
    "Die Spalten `pw_job_title_908` und `pw_job_title_908` können überschneidungsfrei zusammengeführt werden.\n",
    "Die Spalte `add_these_pw_job_title_9089` kann genutzt werden um vorliegende Lücken zu füllen.\n",
    "\n",
    "Es werden noch die Inhalte überprüft."
   ],
   "metadata": {
    "collapsed": false
   }
  },
  {
   "cell_type": "code",
   "execution_count": 49,
   "outputs": [
    {
     "data": {
      "text/plain": "Software Developers, Applications                      60002\nComputer Systems Analysts                              20125\nSoftware Developers, Systems Software                  11057\nElectronics Engineers, Except Computer                  8296\nComputer and Information Systems Managers               5307\n                                                       ...  \nMathematical Science Teachers, Postsedondary               1\nBookeeping and ccounting Clerk                             1\nhorse trainer                                              1\nBaker/Donut Finisher                                       1\nCompensation, Benefits and Job Analysis Specialists        1\nName: pw_job_title_9089, Length: 8307, dtype: int64"
     },
     "execution_count": 49,
     "metadata": {},
     "output_type": "execute_result"
    }
   ],
   "source": [
    "visas_df[\"pw_job_title_9089\"].value_counts()"
   ],
   "metadata": {
    "collapsed": false,
    "pycharm": {
     "name": "#%%\n"
    }
   }
  },
  {
   "cell_type": "code",
   "execution_count": 50,
   "outputs": [
    {
     "data": {
      "text/plain": "Software Developers, Applications                           42092\nComputer Systems Analysts                                    9631\nSoftware Developers, Systems Software                        9007\nElectronics Engineers, Except Computer                       4016\nComputer and Information Systems Managers                    3016\n                                                            ...  \nOBIEE/Application Developer                                     1\nSenior Production Stimulation Engineer                          1\nSwim Instructor                                                 1\nManager, Regulatory Affairs Commercial Support                  1\nSoftware Engineer II - Cloud and Enterprise Eng or Other        1\nName: pw_job_title_908, Length: 8874, dtype: int64"
     },
     "execution_count": 50,
     "metadata": {},
     "output_type": "execute_result"
    }
   ],
   "source": [
    "visas_df[\"pw_job_title_908\"].value_counts()"
   ],
   "metadata": {
    "collapsed": false,
    "pycharm": {
     "name": "#%%\n"
    }
   }
  },
  {
   "cell_type": "code",
   "execution_count": 51,
   "outputs": [
    {
     "data": {
      "text/plain": "Software Developers, Applications                                          10042\nComputer Systems Analysts                                                   3040\nSoftware Developers, Systems Software                                       1930\nElectronics Engineers, Except Computer                                      1493\nComputer Systems Analyst                                                     909\n                                                                           ...  \nLandscaping Groundskeeping Workers                                             1\nJANITORS AND CLEANERS                                                          1\nAsst. Professor of Hospitality and Tourism Management                          1\nFIRST-LINE SUPERVISORS/MANAGERS OF FOOD PREPARATION AND SERVING WORKERS        1\nComputer Systems Test Analyst                                                  1\nName: add_these_pw_job_title_9089, Length: 4276, dtype: int64"
     },
     "execution_count": 51,
     "metadata": {},
     "output_type": "execute_result"
    }
   ],
   "source": [
    "visas_df[\"add_these_pw_job_title_9089\"].value_counts()\n"
   ],
   "metadata": {
    "collapsed": false,
    "pycharm": {
     "name": "#%%\n"
    }
   }
  },
  {
   "cell_type": "markdown",
   "source": [
    "Die Top Werte bei den Spalten `pw_job_title_9089`, `pw_job_title_908` und `add_these_pw_job_title_9089` stimmen weitestgehend überein.\n",
    "Die Spalten gehören anscheinend zusammen."
   ],
   "metadata": {
    "collapsed": false
   }
  },
  {
   "cell_type": "markdown",
   "source": [
    "Es werden `pw_job_title_908` und `pw_job_title_9089` zusammengeführt.\n",
    "Anschließend wird der Blick auf `add_these_pw_job_title_9089` gerichtet."
   ],
   "metadata": {
    "collapsed": false
   }
  },
  {
   "cell_type": "code",
   "execution_count": 52,
   "outputs": [
    {
     "name": "stdout",
     "output_type": "stream",
     "text": [
      "Spalten waren nicht überlappend und wurden fehlerfrei zusammengeführt.\n"
     ]
    },
    {
     "name": "stderr",
     "output_type": "stream",
     "text": [
      "C:\\Users\\andre\\anaconda3\\lib\\site-packages\\pandas\\core\\computation\\expressions.py:203: UserWarning: evaluating in Python space because the '+' operator is not supported by numexpr for the bool dtype, use '|' instead\n",
      "  warnings.warn(\n"
     ]
    }
   ],
   "source": [
    "visas_df['pw_job_title_merged'] = cleanup.mergeTwoColumns(visas_df, \"pw_job_title_9089\", \"pw_job_title_908\")"
   ],
   "metadata": {
    "collapsed": false,
    "pycharm": {
     "name": "#%%\n"
    }
   }
  },
  {
   "cell_type": "code",
   "execution_count": 53,
   "outputs": [
    {
     "name": "stdout",
     "output_type": "stream",
     "text": [
      "pw_job_title_merged\n",
      "373970/374362 100%\n",
      "Filled: |█████████████████████████████████████████████████-| 99.9% Rows\r\n",
      "\n",
      "add_these_pw_job_title_9089\n",
      "42194/374362 11%\n",
      "Filled: |█████---------------------------------------------| 11.3% Rows\r\n",
      "\n"
     ]
    },
    {
     "data": {
      "text/plain": "<Figure size 1152x288 with 1 Axes>",
      "image/png": "[encoded data removed]"
     },
     "metadata": {
      "needs_background": "light"
     },
     "output_type": "display_data"
    },
    {
     "data": {
      "text/plain": "<Figure size 1152x288 with 1 Axes>",
      "image/png": "[encoded data removed]"
     },
     "metadata": {
      "needs_background": "light"
     },
     "output_type": "display_data"
    }
   ],
   "source": [
    "modules.print_count_of_values_relation(visas_df[[\"pw_job_title_merged\", \"add_these_pw_job_title_9089\"]], True, True)"
   ],
   "metadata": {
    "collapsed": false,
    "pycharm": {
     "name": "#%%\n"
    }
   }
  },
  {
   "cell_type": "markdown",
   "source": [
    "Alleine der Merge-Vorgang führt dazu, dass 99,9% aller Zeilen nun Werte enthalten. Es ist fraglich ob die Zusammenführung mit add_these_pw_job_title_9089 überhaupt noch notwendig ist.\n",
    "Interessehalber schauen wir nach, wie die Werte im Vergleich mit den bestehenden Werten aussehen."
   ],
   "metadata": {
    "collapsed": false
   }
  },
  {
   "cell_type": "code",
   "execution_count": 54,
   "outputs": [
    {
     "name": "stderr",
     "output_type": "stream",
     "text": [
      "C:\\Users\\andre\\anaconda3\\lib\\site-packages\\pandas\\core\\computation\\expressions.py:203: UserWarning: evaluating in Python space because the '+' operator is not supported by numexpr for the bool dtype, use '|' instead\n",
      "  warnings.warn(\n"
     ]
    },
    {
     "data": {
      "text/plain": "True"
     },
     "execution_count": 54,
     "metadata": {},
     "output_type": "execute_result"
    }
   ],
   "source": [
    "modules.areTwoColumnsOverlapping(visas_df, \"pw_job_title_merged\", \"add_these_pw_job_title_9089\")"
   ],
   "metadata": {
    "collapsed": false,
    "pycharm": {
     "name": "#%%\n"
    }
   }
  },
  {
   "cell_type": "markdown",
   "source": [
    "Die beiden Spalten überlappen teilweise. Wir geben nur überlappende Spalten aus:"
   ],
   "metadata": {
    "collapsed": false,
    "pycharm": {
     "name": "#%% md\n"
    }
   }
  },
  {
   "cell_type": "code",
   "execution_count": 55,
   "outputs": [
    {
     "data": {
      "text/plain": "                                     pw_job_title_merged  \\\n32214                  Software Developers, Applications   \n43351                  Software Developers, Applications   \n40130                          Computer Systems Analysts   \n49983                          Computer Systems Analysts   \n33060                               Industrial Engineers   \n31380                                           Curators   \n30206                          Computer Systems Analysts   \n59304  Special Education Teachers, Preschool, Kinderg...   \n41838                                           Chemists   \n50613                          Computer Systems Analysts   \n54895       Network and Computer Systems Administrators*   \n61580                                    Civil Engineers   \n21979                     Industrial Production Managers   \n39246              Software Developers, Systems Software   \n28929                        Computer Hardware Engineers   \n60027                                             Clergy   \n53970                          Computer Systems Analysts   \n50781                  Software Developers, Applications   \n31856                          Computer Systems Analysts   \n53079                                 Coaches and Scouts   \n\n                       add_these_pw_job_title_9089  \n32214            Software Developers, Applications  \n43351            Software Developers, Applications  \n40130                    Computer Systems Analysts  \n49983                    Computer Systems Analysts  \n33060                         Industrial Engineers  \n31380                                     Curators  \n30206                    Computer Systems Analysts  \n59304                   TEACHER, SPECIAL EDUCATION  \n41838                                      Chemist  \n50613                    Computer Systems Analysts  \n54895  Network and Computer Systems Administrators  \n61580                              Civil Engineers  \n21979               Industrial Production Managers  \n39246        Software Developers, Systems Software  \n28929                  Computer Hardware Engineers  \n60027                                       Clergy  \n53970                    Computer Systems Analysts  \n50781            Software Developers, Applications  \n31856                    Computer Systems Analysts  \n53079                           Coaches and Scouts  ",
      "text/html": "<div>\n<style scoped>\n    .dataframe tbody tr th:only-of-type {\n        vertical-align: middle;\n    }\n\n    .dataframe tbody tr th {\n        vertical-align: top;\n    }\n\n    .dataframe thead th {\n        text-align: right;\n    }\n</style>\n<table border=\"1\" class=\"dataframe\">\n  <thead>\n    <tr style=\"text-align: right;\">\n      <th></th>\n      <th>pw_job_title_merged</th>\n      <th>add_these_pw_job_title_9089</th>\n    </tr>\n  </thead>\n  <tbody>\n    <tr>\n      <th>32214</th>\n      <td>Software Developers, Applications</td>\n      <td>Software Developers, Applications</td>\n    </tr>\n    <tr>\n      <th>43351</th>\n      <td>Software Developers, Applications</td>\n      <td>Software Developers, Applications</td>\n    </tr>\n    <tr>\n      <th>40130</th>\n      <td>Computer Systems Analysts</td>\n      <td>Computer Systems Analysts</td>\n    </tr>\n    <tr>\n      <th>49983</th>\n      <td>Computer Systems Analysts</td>\n      <td>Computer Systems Analysts</td>\n    </tr>\n    <tr>\n      <th>33060</th>\n      <td>Industrial Engineers</td>\n      <td>Industrial Engineers</td>\n    </tr>\n    <tr>\n      <th>31380</th>\n      <td>Curators</td>\n      <td>Curators</td>\n    </tr>\n    <tr>\n      <th>30206</th>\n      <td>Computer Systems Analysts</td>\n      <td>Computer Systems Analysts</td>\n    </tr>\n    <tr>\n      <th>59304</th>\n      <td>Special Education Teachers, Preschool, Kinderg...</td>\n      <td>TEACHER, SPECIAL EDUCATION</td>\n    </tr>\n    <tr>\n      <th>41838</th>\n      <td>Chemists</td>\n      <td>Chemist</td>\n    </tr>\n    <tr>\n      <th>50613</th>\n      <td>Computer Systems Analysts</td>\n      <td>Computer Systems Analysts</td>\n    </tr>\n    <tr>\n      <th>54895</th>\n      <td>Network and Computer Systems Administrators*</td>\n      <td>Network and Computer Systems Administrators</td>\n    </tr>\n    <tr>\n      <th>61580</th>\n      <td>Civil Engineers</td>\n      <td>Civil Engineers</td>\n    </tr>\n    <tr>\n      <th>21979</th>\n      <td>Industrial Production Managers</td>\n      <td>Industrial Production Managers</td>\n    </tr>\n    <tr>\n      <th>39246</th>\n      <td>Software Developers, Systems Software</td>\n      <td>Software Developers, Systems Software</td>\n    </tr>\n    <tr>\n      <th>28929</th>\n      <td>Computer Hardware Engineers</td>\n      <td>Computer Hardware Engineers</td>\n    </tr>\n    <tr>\n      <th>60027</th>\n      <td>Clergy</td>\n      <td>Clergy</td>\n    </tr>\n    <tr>\n      <th>53970</th>\n      <td>Computer Systems Analysts</td>\n      <td>Computer Systems Analysts</td>\n    </tr>\n    <tr>\n      <th>50781</th>\n      <td>Software Developers, Applications</td>\n      <td>Software Developers, Applications</td>\n    </tr>\n    <tr>\n      <th>31856</th>\n      <td>Computer Systems Analysts</td>\n      <td>Computer Systems Analysts</td>\n    </tr>\n    <tr>\n      <th>53079</th>\n      <td>Coaches and Scouts</td>\n      <td>Coaches and Scouts</td>\n    </tr>\n  </tbody>\n</table>\n</div>"
     },
     "execution_count": 55,
     "metadata": {},
     "output_type": "execute_result"
    }
   ],
   "source": [
    "visas_df[[\"pw_job_title_merged\", \"add_these_pw_job_title_9089\"]][(visas_df[\"pw_job_title_merged\"].isna() + visas_df[\"add_these_pw_job_title_9089\"].isna()) == False].sample(20)\n"
   ],
   "metadata": {
    "collapsed": false,
    "pycharm": {
     "name": "#%%\n"
    }
   }
  },
  {
   "cell_type": "code",
   "execution_count": 56,
   "outputs": [
    {
     "name": "stderr",
     "output_type": "stream",
     "text": [
      "C:\\Users\\andre\\anaconda3\\lib\\site-packages\\pandas\\core\\computation\\expressions.py:203: UserWarning: evaluating in Python space because the '+' operator is not supported by numexpr for the bool dtype, use '|' instead\n",
      "  warnings.warn(\n"
     ]
    },
    {
     "data": {
      "text/plain": "42149"
     },
     "execution_count": 56,
     "metadata": {},
     "output_type": "execute_result"
    }
   ],
   "source": [
    "(~(visas_df[\"pw_job_title_merged\"].isna() + visas_df[\"add_these_pw_job_title_9089\"].isna())).sum()"
   ],
   "metadata": {
    "collapsed": false,
    "pycharm": {
     "name": "#%%\n"
    }
   }
  },
  {
   "cell_type": "markdown",
   "source": [
    "Es liegen 42.194 überlappende Werte vor.\n",
    "Die Werte unterscheiden sich oft nur geringfügig.\n"
   ],
   "metadata": {
    "collapsed": false,
    "pycharm": {
     "name": "#%% md\n"
    }
   }
  },
  {
   "cell_type": "markdown",
   "source": [
    "Wir versuchen nur NaN Werte mit den Werten von add_these_pw_job_title_9089 zu füllen."
   ],
   "metadata": {
    "collapsed": false
   }
  },
  {
   "cell_type": "code",
   "execution_count": 57,
   "outputs": [
    {
     "data": {
      "text/plain": "      pw_job_title_merged                        add_these_pw_job_title_9089\n22351                 NaN                             MAINTENANCE TECHNICIAN\n22455                 NaN                  SOFTWARE DEVELOPERS, APPLICATIONS\n23120                 NaN                  SOFTWARE DEVELOPERS, APPLICATIONS\n23251                 NaN                          COMPUTER SYSTEMS ANALYSTS\n23602                 NaN  MARKET RESEARCH ANALYST AND MARKETING SPECIALISTS\n24015                 NaN       INFORMATION SECURITY ANALIST, WEB DEVELOPERS\n29442                 NaN                            MARKET RESEARCH ANALYST\n31189                 NaN                       DENTAL LABORATORY TECHNICIAN\n36794                 NaN                               COMPUTER PROGRAMMERS\n57628                 NaN         NETWORK AND COMPUTER SYSTEM ADMINISTRATORS\n58072                 NaN                                     GONG THERAPIST\n58970                 NaN                                            JEWELER\n59393                 NaN                     ACQUISITION SPECIALIST ANALYST\n60159                 NaN                         GROOM, THOROUGHBRED HORSES\n60165                 NaN                                  ASSISTANT MANAGER\n60230                 NaN                         GROOM, THOROUGHBRED HORSES\n60289                 NaN                                PHYSICIAN ASSISTANT\n60404                 NaN                                            MANAGER\n60437                 NaN                                      STORE MANAGER\n60522                 NaN                     SPECIALIZED MAINTENANCE PERSON\n60585                 NaN                                       CARE PARTNER\n60635                 NaN                         GROOM, THOROUGHBRED HORSES\n60661                 NaN                                                 RN\n60714                 NaN    FARMWORKERS AND LABORERS, CROP, NURSERY, AND G+\n60715                 NaN     FARMWORKERS AND LABORERS, CROP, NURSERY, AND G\n60913                 NaN                                PHYSICIAN ASSISTANT\n61033                 NaN                         GROOM, THOROUGHBRED HORSES\n61117                 NaN                                   HOME HEALTH AIDE\n61144                 NaN                              AGRICULTURAL ENGINEER\n61152                 NaN                     ADVANCED APPLICATIONS ENGINEER\n61167                 NaN                                           MINISTER\n61173                 NaN                                              NANNY\n61185                 NaN             MAINTENANCE AND REPAIR WORKER, GENERAL\n61200                 NaN                             PRODUCTION BAKING LEAD\n61281                 NaN           WELDERS, CUTTERS, SOLDERERS, AND BRAZERS\n61311                 NaN                               SALES REPRESENTATIVE\n61335                 NaN                                               COOK\n61336                 NaN                                            CLIMBER\n61382                 NaN      CARE GIVER/NATIVE LANGUAGE SPEAKER FOR MOTHER\n61383                 NaN                                        TREETRIMMER\n61385                 NaN                                              NURSE\n61430                 NaN                                 NURSING ASSISTANTS\n61455                 NaN                                      STORE MANAGER\n61467                 NaN                         GROOM, THOROUGHBRED HORSES\n61714                 NaN                            MARKET RESEARCH ANALYST",
      "text/html": "<div>\n<style scoped>\n    .dataframe tbody tr th:only-of-type {\n        vertical-align: middle;\n    }\n\n    .dataframe tbody tr th {\n        vertical-align: top;\n    }\n\n    .dataframe thead th {\n        text-align: right;\n    }\n</style>\n<table border=\"1\" class=\"dataframe\">\n  <thead>\n    <tr style=\"text-align: right;\">\n      <th></th>\n      <th>pw_job_title_merged</th>\n      <th>add_these_pw_job_title_9089</th>\n    </tr>\n  </thead>\n  <tbody>\n    <tr>\n      <th>22351</th>\n      <td>NaN</td>\n      <td>MAINTENANCE TECHNICIAN</td>\n    </tr>\n    <tr>\n      <th>22455</th>\n      <td>NaN</td>\n      <td>SOFTWARE DEVELOPERS, APPLICATIONS</td>\n    </tr>\n    <tr>\n      <th>23120</th>\n      <td>NaN</td>\n      <td>SOFTWARE DEVELOPERS, APPLICATIONS</td>\n    </tr>\n    <tr>\n      <th>23251</th>\n      <td>NaN</td>\n      <td>COMPUTER SYSTEMS ANALYSTS</td>\n    </tr>\n    <tr>\n      <th>23602</th>\n      <td>NaN</td>\n      <td>MARKET RESEARCH ANALYST AND MARKETING SPECIALISTS</td>\n    </tr>\n    <tr>\n      <th>24015</th>\n      <td>NaN</td>\n      <td>INFORMATION SECURITY ANALIST, WEB DEVELOPERS</td>\n    </tr>\n    <tr>\n      <th>29442</th>\n      <td>NaN</td>\n      <td>MARKET RESEARCH ANALYST</td>\n    </tr>\n    <tr>\n      <th>31189</th>\n      <td>NaN</td>\n      <td>DENTAL LABORATORY TECHNICIAN</td>\n    </tr>\n    <tr>\n      <th>36794</th>\n      <td>NaN</td>\n      <td>COMPUTER PROGRAMMERS</td>\n    </tr>\n    <tr>\n      <th>57628</th>\n      <td>NaN</td>\n      <td>NETWORK AND COMPUTER SYSTEM ADMINISTRATORS</td>\n    </tr>\n    <tr>\n      <th>58072</th>\n      <td>NaN</td>\n      <td>GONG THERAPIST</td>\n    </tr>\n    <tr>\n      <th>58970</th>\n      <td>NaN</td>\n      <td>JEWELER</td>\n    </tr>\n    <tr>\n      <th>59393</th>\n      <td>NaN</td>\n      <td>ACQUISITION SPECIALIST ANALYST</td>\n    </tr>\n    <tr>\n      <th>60159</th>\n      <td>NaN</td>\n      <td>GROOM, THOROUGHBRED HORSES</td>\n    </tr>\n    <tr>\n      <th>60165</th>\n      <td>NaN</td>\n      <td>ASSISTANT MANAGER</td>\n    </tr>\n    <tr>\n      <th>60230</th>\n      <td>NaN</td>\n      <td>GROOM, THOROUGHBRED HORSES</td>\n    </tr>\n    <tr>\n      <th>60289</th>\n      <td>NaN</td>\n      <td>PHYSICIAN ASSISTANT</td>\n    </tr>\n    <tr>\n      <th>60404</th>\n      <td>NaN</td>\n      <td>MANAGER</td>\n    </tr>\n    <tr>\n      <th>60437</th>\n      <td>NaN</td>\n      <td>STORE MANAGER</td>\n    </tr>\n    <tr>\n      <th>60522</th>\n      <td>NaN</td>\n      <td>SPECIALIZED MAINTENANCE PERSON</td>\n    </tr>\n    <tr>\n      <th>60585</th>\n      <td>NaN</td>\n      <td>CARE PARTNER</td>\n    </tr>\n    <tr>\n      <th>60635</th>\n      <td>NaN</td>\n      <td>GROOM, THOROUGHBRED HORSES</td>\n    </tr>\n    <tr>\n      <th>60661</th>\n      <td>NaN</td>\n      <td>RN</td>\n    </tr>\n    <tr>\n      <th>60714</th>\n      <td>NaN</td>\n      <td>FARMWORKERS AND LABORERS, CROP, NURSERY, AND G+</td>\n    </tr>\n    <tr>\n      <th>60715</th>\n      <td>NaN</td>\n      <td>FARMWORKERS AND LABORERS, CROP, NURSERY, AND G</td>\n    </tr>\n    <tr>\n      <th>60913</th>\n      <td>NaN</td>\n      <td>PHYSICIAN ASSISTANT</td>\n    </tr>\n    <tr>\n      <th>61033</th>\n      <td>NaN</td>\n      <td>GROOM, THOROUGHBRED HORSES</td>\n    </tr>\n    <tr>\n      <th>61117</th>\n      <td>NaN</td>\n      <td>HOME HEALTH AIDE</td>\n    </tr>\n    <tr>\n      <th>61144</th>\n      <td>NaN</td>\n      <td>AGRICULTURAL ENGINEER</td>\n    </tr>\n    <tr>\n      <th>61152</th>\n      <td>NaN</td>\n      <td>ADVANCED APPLICATIONS ENGINEER</td>\n    </tr>\n    <tr>\n      <th>61167</th>\n      <td>NaN</td>\n      <td>MINISTER</td>\n    </tr>\n    <tr>\n      <th>61173</th>\n      <td>NaN</td>\n      <td>NANNY</td>\n    </tr>\n    <tr>\n      <th>61185</th>\n      <td>NaN</td>\n      <td>MAINTENANCE AND REPAIR WORKER, GENERAL</td>\n    </tr>\n    <tr>\n      <th>61200</th>\n      <td>NaN</td>\n      <td>PRODUCTION BAKING LEAD</td>\n    </tr>\n    <tr>\n      <th>61281</th>\n      <td>NaN</td>\n      <td>WELDERS, CUTTERS, SOLDERERS, AND BRAZERS</td>\n    </tr>\n    <tr>\n      <th>61311</th>\n      <td>NaN</td>\n      <td>SALES REPRESENTATIVE</td>\n    </tr>\n    <tr>\n      <th>61335</th>\n      <td>NaN</td>\n      <td>COOK</td>\n    </tr>\n    <tr>\n      <th>61336</th>\n      <td>NaN</td>\n      <td>CLIMBER</td>\n    </tr>\n    <tr>\n      <th>61382</th>\n      <td>NaN</td>\n      <td>CARE GIVER/NATIVE LANGUAGE SPEAKER FOR MOTHER</td>\n    </tr>\n    <tr>\n      <th>61383</th>\n      <td>NaN</td>\n      <td>TREETRIMMER</td>\n    </tr>\n    <tr>\n      <th>61385</th>\n      <td>NaN</td>\n      <td>NURSE</td>\n    </tr>\n    <tr>\n      <th>61430</th>\n      <td>NaN</td>\n      <td>NURSING ASSISTANTS</td>\n    </tr>\n    <tr>\n      <th>61455</th>\n      <td>NaN</td>\n      <td>STORE MANAGER</td>\n    </tr>\n    <tr>\n      <th>61467</th>\n      <td>NaN</td>\n      <td>GROOM, THOROUGHBRED HORSES</td>\n    </tr>\n    <tr>\n      <th>61714</th>\n      <td>NaN</td>\n      <td>MARKET RESEARCH ANALYST</td>\n    </tr>\n  </tbody>\n</table>\n</div>"
     },
     "execution_count": 57,
     "metadata": {},
     "output_type": "execute_result"
    }
   ],
   "source": [
    "tempdf = pd.DataFrame\n",
    "tempdf = visas_df[['pw_job_title_merged','add_these_pw_job_title_9089']]\n",
    "\n",
    "tempdf[tempdf['pw_job_title_merged'].isna() & tempdf['add_these_pw_job_title_9089'].notna()]"
   ],
   "metadata": {
    "collapsed": false,
    "pycharm": {
     "name": "#%%\n"
    }
   }
  },
  {
   "cell_type": "code",
   "execution_count": 58,
   "outputs": [
    {
     "data": {
      "text/plain": "45"
     },
     "execution_count": 58,
     "metadata": {},
     "output_type": "execute_result"
    }
   ],
   "source": [
    "len(tempdf[tempdf['pw_job_title_merged'].isna() & tempdf['add_these_pw_job_title_9089'].notna()])"
   ],
   "metadata": {
    "collapsed": false,
    "pycharm": {
     "name": "#%%\n"
    }
   }
  },
  {
   "cell_type": "markdown",
   "source": [
    "In 45 Fällen können die Jobtitel von `add_these_pw_job_title_9089` genutzt werden, um vorliegende Leerwerte zu befüllen.\n",
    "Auch wenn die Anzahl der Fälle gering ist, werden wir diese der Vollständigkeit halber übernehmen."
   ],
   "metadata": {
    "collapsed": false
   }
  },
  {
   "cell_type": "code",
   "execution_count": 59,
   "outputs": [
    {
     "name": "stderr",
     "output_type": "stream",
     "text": [
      "C:\\Users\\andre\\anaconda3\\lib\\site-packages\\pandas\\core\\computation\\expressions.py:203: UserWarning: evaluating in Python space because the '+' operator is not supported by numexpr for the bool dtype, use '|' instead\n",
      "  warnings.warn(\n"
     ]
    },
    {
     "name": "stdout",
     "output_type": "stream",
     "text": [
      "Achtung: Es liegen überlappende Spalten vor. Die erste Spalte wurde bei fehlenden Werte mit Inhalten der zweiten Spalte befüllt.\n"
     ]
    }
   ],
   "source": [
    "visas_df['pw_job_title_merged'] = cleanup.mergeTwoColumns(visas_df, \"pw_job_title_merged\", \"add_these_pw_job_title_9089\")"
   ],
   "metadata": {
    "collapsed": false,
    "pycharm": {
     "name": "#%%\n"
    }
   }
  },
  {
   "cell_type": "code",
   "execution_count": 60,
   "outputs": [
    {
     "name": "stdout",
     "output_type": "stream",
     "text": [
      "pw_job_title_merged\n",
      "374015/374362 100%\n",
      "Filled: |█████████████████████████████████████████████████-| 99.9% Rows\r\n",
      "\n"
     ]
    },
    {
     "data": {
      "text/plain": "<Figure size 1152x288 with 1 Axes>",
      "image/png": "[encoded data removed]"
     },
     "metadata": {
      "needs_background": "light"
     },
     "output_type": "display_data"
    }
   ],
   "source": [
    "modules.print_count_of_values_relation(visas_df[[\"pw_job_title_merged\"]], True, True)\n"
   ],
   "metadata": {
    "collapsed": false,
    "pycharm": {
     "name": "#%%\n"
    }
   }
  },
  {
   "cell_type": "markdown",
   "source": [
    "## Bereinigen der vorhandenen Werte"
   ],
   "metadata": {
    "collapsed": false,
    "pycharm": {
     "name": "#%% md\n"
    }
   }
  },
  {
   "cell_type": "markdown",
   "source": [
    "Anzahl der einzigartigen Werte:"
   ],
   "metadata": {
    "collapsed": false
   }
  },
  {
   "cell_type": "code",
   "execution_count": 61,
   "outputs": [
    {
     "data": {
      "text/plain": "14262"
     },
     "execution_count": 61,
     "metadata": {},
     "output_type": "execute_result"
    }
   ],
   "source": [
    "visas_df['pw_job_title_merged'].nunique()"
   ],
   "metadata": {
    "collapsed": false,
    "pycharm": {
     "name": "#%%\n"
    }
   }
  },
  {
   "cell_type": "markdown",
   "source": [
    "Anzahl der einzigartigen Werte, nachdem alle Werte auf lowercase abgeändert wurden."
   ],
   "metadata": {
    "collapsed": false
   }
  },
  {
   "cell_type": "code",
   "execution_count": 62,
   "outputs": [
    {
     "data": {
      "text/plain": "12368"
     },
     "execution_count": 62,
     "metadata": {},
     "output_type": "execute_result"
    }
   ],
   "source": [
    "visas_df['pw_job_title_merged'].str.lower().nunique()"
   ],
   "metadata": {
    "collapsed": false,
    "pycharm": {
     "name": "#%%\n"
    }
   }
  },
  {
   "cell_type": "code",
   "execution_count": 63,
   "outputs": [
    {
     "data": {
      "text/plain": "1894"
     },
     "execution_count": 63,
     "metadata": {},
     "output_type": "execute_result"
    }
   ],
   "source": [
    "visas_df['pw_job_title_merged'].nunique()-visas_df['pw_job_title_merged'].str.lower().nunique()"
   ],
   "metadata": {
    "collapsed": false,
    "pycharm": {
     "name": "#%%\n"
    }
   }
  },
  {
   "cell_type": "markdown",
   "source": [
    "Durch die generelle Anwendung der Kleinschreibweise können 1.894 einzigartige Werte vermieden werden.\n",
    "Dieser Schritt wird nun angewendet."
   ],
   "metadata": {
    "collapsed": false
   }
  },
  {
   "cell_type": "code",
   "execution_count": 64,
   "outputs": [],
   "source": [
    "visas_df['pw_job_title_merged'] = visas_df['pw_job_title_merged'].str.lower()"
   ],
   "metadata": {
    "collapsed": false,
    "pycharm": {
     "name": "#%%\n"
    }
   }
  },
  {
   "cell_type": "markdown",
   "source": [
    "Als nächstes sollen typische Leerwerte zu NaN Werten umgewandelt werden."
   ],
   "metadata": {
    "collapsed": false,
    "pycharm": {
     "name": "#%% md\n"
    }
   }
  },
  {
   "cell_type": "code",
   "execution_count": 65,
   "outputs": [],
   "source": [
    "visas_df['pw_job_title_merged'] = cleanup.replaceNoneOrEmptyByNa(visas_df['pw_job_title_merged'])"
   ],
   "metadata": {
    "collapsed": false,
    "pycharm": {
     "name": "#%%\n"
    }
   }
  },
  {
   "cell_type": "code",
   "execution_count": 66,
   "outputs": [
    {
     "data": {
      "text/plain": "12368"
     },
     "execution_count": 66,
     "metadata": {},
     "output_type": "execute_result"
    }
   ],
   "source": [
    "visas_df['pw_job_title_merged'].nunique()"
   ],
   "metadata": {
    "collapsed": false,
    "pycharm": {
     "name": "#%%\n"
    }
   }
  },
  {
   "cell_type": "markdown",
   "source": [
    "Es lagen keine falschdeklarierten Leerwerte vor."
   ],
   "metadata": {
    "collapsed": false,
    "pycharm": {
     "name": "#%% md\n"
    }
   }
  },
  {
   "cell_type": "markdown",
   "source": [
    "Als nächstes sollen unübliche Satzzeichen am Stringende, wie ein Komma, entfernt werden."
   ],
   "metadata": {
    "collapsed": false,
    "pycharm": {
     "name": "#%% md\n"
    }
   }
  },
  {
   "cell_type": "code",
   "execution_count": 67,
   "outputs": [],
   "source": [
    "visas_df[\"pw_job_title_merged\"] = cleanup.cutOffUnusualCharacters(visas_df[\"pw_job_title_merged\"])\n"
   ],
   "metadata": {
    "collapsed": false,
    "pycharm": {
     "name": "#%%\n"
    }
   }
  },
  {
   "cell_type": "code",
   "execution_count": 68,
   "outputs": [
    {
     "data": {
      "text/plain": "12316"
     },
     "execution_count": 68,
     "metadata": {},
     "output_type": "execute_result"
    }
   ],
   "source": [
    "visas_df['pw_job_title_merged'].nunique()"
   ],
   "metadata": {
    "collapsed": false,
    "pycharm": {
     "name": "#%%\n"
    }
   }
  },
  {
   "cell_type": "code",
   "execution_count": 69,
   "outputs": [
    {
     "name": "stdout",
     "output_type": "stream",
     "text": [
      "software developers, applications                     105125\n",
      "computer systems analysts                              30070\n",
      "software developers, systems software                  20234\n",
      "electronics engineers, except computer                 12350\n",
      "computer and information systems managers               8456\n",
      "network and computer systems administrators             5687\n",
      "computer systems analyst                                5323\n",
      "accountants and auditors                                5233\n",
      "computer software engineers, applications               4891\n",
      "mechanical engineers                                    4523\n",
      "marketing managers                                      3923\n",
      "management analysts                                     3731\n",
      "financial analysts                                      3642\n",
      "database administrators                                 3613\n",
      "internists, general                                     3608\n",
      "electrical engineers                                    3412\n",
      "statisticians                                           3127\n",
      "software developer, applications                        2867\n",
      "financial managers                                      2838\n",
      "industrial engineers                                    2812\n",
      "market research analysts and marketing specialists      2611\n",
      "materials engineers                                     2378\n",
      "sales engineers                                         2371\n",
      "meat, poultry, and fish cutters and trimmers            2305\n",
      "architectural and engineering managers                  2266\n",
      "civil engineers                                         1831\n",
      "computer programmers                                    1789\n",
      "physicians and surgeons, all other                      1773\n",
      "computer occupations, all other                         1420\n",
      "software engineer                                       1369\n",
      "Name: pw_job_title_merged, dtype: int64\n"
     ]
    }
   ],
   "source": [
    "modules.print_full(visas_df['pw_job_title_merged'].value_counts()[:30])"
   ],
   "metadata": {
    "collapsed": false,
    "pycharm": {
     "name": "#%%\n"
    }
   }
  },
  {
   "cell_type": "markdown",
   "source": [
    "Singular- und Pluralschreibweise liegen im Datensatz im Wechsel vor.\n",
    "Die Schreibweise soll im Nachgang vereinheitlicht werden, indem, falls vorhanden, das \"s\" am Stringende entfernt wird."
   ],
   "metadata": {
    "collapsed": false,
    "pycharm": {
     "name": "#%% md\n"
    }
   }
  },
  {
   "cell_type": "code",
   "execution_count": 70,
   "outputs": [],
   "source": [
    "visas_df[\"pw_job_title_merged\"] = visas_df[\"pw_job_title_merged\"].apply(cleanup.cutOfflastCharacter, stringToCutOff=\"s\")"
   ],
   "metadata": {
    "collapsed": false,
    "pycharm": {
     "name": "#%%\n"
    }
   }
  },
  {
   "cell_type": "code",
   "execution_count": null,
   "outputs": [],
   "source": [
    "visas_df['pw_job_title_merged'].nunique()"
   ],
   "metadata": {
    "collapsed": false,
    "pycharm": {
     "name": "#%%\n"
    }
   }
  },
  {
   "cell_type": "code",
   "execution_count": 72,
   "outputs": [
    {
     "name": "stdout",
     "output_type": "stream",
     "text": [
      "software developers, application                                                 105316\n",
      "computer systems analyst                                                          35393\n",
      "software developers, systems software                                             20235\n",
      "electronics engineers, except computer                                            12450\n",
      "computer and information systems manager                                           8907\n",
      "network and computer systems administrator                                         5879\n",
      "accountants and auditor                                                            5238\n",
      "mechanical engineer                                                                5058\n",
      "computer software engineers, application                                           4902\n",
      "marketing manager                                                                  4192\n",
      "management analyst                                                                 4120\n",
      "database administrator                                                             4053\n",
      "financial analyst                                                                  3974\n",
      "electrical engineer                                                                3685\n",
      "internists, general                                                                3608\n",
      "statistician                                                                       3306\n",
      "industrial engineer                                                                2995\n",
      "financial manager                                                                  2988\n",
      "software developer, application                                                    2891\n",
      "market research analysts and marketing specialist                                  2650\n",
      "sales engineer                                                                     2631\n",
      "meat, poultry, and fish cutters and trimmer                                        2533\n",
      "materials engineer                                                                 2514\n",
      "architectural and engineering manager                                              2300\n",
      "computer programmer                                                                2146\n",
      "civil engineer                                                                     2018\n",
      "physicians and surgeons, all other                                                 1793\n",
      "operations research analyst                                                        1494\n",
      "computer occupations, all other                                                    1431\n",
      "software engineer                                                                  1374\n",
      "cooks, restaurant                                                                  1280\n",
      "computer software engineers, systems software                                      1236\n",
      "business teachers, postsecondary                                                   1200\n",
      "janitors and cleaners, except maids and housekeeping cleaner                       1115\n",
      "chefs and head cook                                                                1088\n",
      "general and operations manager                                                     1057\n",
      "elementary school teachers, except special education                               1041\n",
      "assistant professor                                                                1029\n",
      "sales manager                                                                      1018\n",
      "lawyer                                                                              972\n",
      "software developer                                                                  968\n",
      "meat, poultry and fish cutters and trimmer                                          938\n",
      "chemist                                                                             911\n",
      "information security analysts, web developers, and computer network architect       902\n",
      "graphic designer                                                                    900\n",
      "pharmacist                                                                          898\n",
      "combined food preparation and serving workers, including fast food                  897\n",
      "logistician                                                                         883\n",
      "engineering teachers, postsecondary                                                 868\n",
      "butchers and meat cutter                                                            823\n",
      "occupational therapist                                                              814\n",
      "chemical engineer                                                                   803\n",
      "transportation, storage, and distribution manager                                   791\n",
      "economist                                                                           789\n",
      "biochemists and biophysicist                                                        759\n",
      "industrial production manager                                                       744\n",
      "cooks, fast food                                                                    737\n",
      "secondary school teachers, except special and career/technical education            725\n",
      "poultry processor                                                                   710\n",
      "medical and clinical laboratory technologist                                        702\n",
      "instructional coordinator                                                           700\n",
      "accountant                                                                          689\n",
      "market research analyst                                                             667\n",
      "computer network architect                                                          666\n",
      "biomedical engineer                                                                 665\n",
      "programmer analyst                                                                  646\n",
      "dentists, general                                                                   627\n",
      "architects, except landscape and naval                                              615\n",
      "mathematical science teachers, postsecondary                                        611\n",
      "software developer, systems software                                                601\n",
      "health specialties teachers, postsecondary                                          599\n",
      "slaughterers and meat packer                                                        597\n",
      "purchasing manager                                                                  595\n",
      "medical and health services manager                                                 586\n",
      "information security analyst                                                        585\n",
      "computer and information research scientist                                         579\n",
      "multimedia artists and animator                                                     571\n",
      "computer hardware engineer                                                          552\n",
      "home health aide                                                                    546\n",
      "foreign language and literature teachers, postsecondary                             538\n",
      "securities, commodities, and financial services sales agent                         536\n",
      "chief executive                                                                     528\n",
      "family and general practitioner                                                     521\n",
      "medical scientists, except epidemiologist                                           514\n",
      "commercial and industrial designer                                                  513\n",
      "caregiver                                                                           506\n",
      "general laborer                                                                     502\n",
      "helpers - production worker                                                         495\n",
      "economics teachers, postsecondary                                                   492\n",
      "actuarie                                                                            489\n",
      "clergy                                                                              486\n",
      "aerospace engineer                                                                  464\n",
      "pediatricians, general                                                              458\n",
      "poultry processing worker                                                           457\n",
      "credit analyst                                                                      448\n",
      "construction manager                                                                438\n",
      "computer science teachers, postsecondary                                            430\n",
      "cost estimator                                                                      428\n",
      "public relations specialist                                                         421\n",
      "bookkeeping, accounting, and auditing clerk                                         418\n",
      "Name: pw_job_title_merged, dtype: int64\n"
     ]
    }
   ],
   "source": [
    "modules.print_full(visas_df['pw_job_title_merged'].value_counts()[:100])"
   ],
   "metadata": {
    "collapsed": false,
    "pycharm": {
     "name": "#%%\n"
    }
   }
  }
 ],
 "metadata": {
  "kernelspec": {
   "display_name": "Python 3",
   "language": "python",
   "name": "python3"
  },
  "language_info": {
   "codemirror_mode": {
    "name": "ipython",
    "version": 2
   },
   "file_extension": ".py",
   "mimetype": "text/x-python",
   "name": "python",
   "nbconvert_exporter": "python",
   "pygments_lexer": "ipython2",
   "version": "2.7.6"
  }
 },
 "nbformat": 4,
 "nbformat_minor": 0
}