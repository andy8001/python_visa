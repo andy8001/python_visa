{
 "cells": [
  {
   "cell_type": "code",
   "execution_count": 1,
   "metadata": {
    "collapsed": true
   },
   "outputs": [],
   "source": [
    "import pandas as pd\n",
    "import modules\n",
    "import cleanup"
   ]
  },
  {
   "cell_type": "markdown",
   "source": [
    "# employer_name"
   ],
   "metadata": {
    "collapsed": false,
    "pycharm": {
     "name": "#%% md\n"
    }
   }
  },
  {
   "cell_type": "code",
   "execution_count": 2,
   "outputs": [],
   "source": [
    "col_list = [\"employer_name\"]\n",
    "visas_df = pd.read_csv('../data/us_perm_visas.csv', usecols=col_list)"
   ],
   "metadata": {
    "collapsed": false,
    "pycharm": {
     "name": "#%%\n"
    }
   }
  },
  {
   "cell_type": "code",
   "execution_count": 3,
   "outputs": [
    {
     "data": {
      "text/plain": "                 employer_name\n0             NETSOFT USA INC.\n1  PINNACLE ENVIRONEMNTAL CORP\n2   SCHNABEL ENGINEERING, INC.\n3      EBENEZER MISSION CHURCH\n4   ALBANY INTERNATIONAL CORP.",
      "text/html": "<div>\n<style scoped>\n    .dataframe tbody tr th:only-of-type {\n        vertical-align: middle;\n    }\n\n    .dataframe tbody tr th {\n        vertical-align: top;\n    }\n\n    .dataframe thead th {\n        text-align: right;\n    }\n</style>\n<table border=\"1\" class=\"dataframe\">\n  <thead>\n    <tr style=\"text-align: right;\">\n      <th></th>\n      <th>employer_name</th>\n    </tr>\n  </thead>\n  <tbody>\n    <tr>\n      <th>0</th>\n      <td>NETSOFT USA INC.</td>\n    </tr>\n    <tr>\n      <th>1</th>\n      <td>PINNACLE ENVIRONEMNTAL CORP</td>\n    </tr>\n    <tr>\n      <th>2</th>\n      <td>SCHNABEL ENGINEERING, INC.</td>\n    </tr>\n    <tr>\n      <th>3</th>\n      <td>EBENEZER MISSION CHURCH</td>\n    </tr>\n    <tr>\n      <th>4</th>\n      <td>ALBANY INTERNATIONAL CORP.</td>\n    </tr>\n  </tbody>\n</table>\n</div>"
     },
     "execution_count": 3,
     "metadata": {},
     "output_type": "execute_result"
    }
   ],
   "source": [
    "visas_df.head()"
   ],
   "metadata": {
    "collapsed": false,
    "pycharm": {
     "name": "#%%\n"
    }
   }
  },
  {
   "cell_type": "code",
   "execution_count": 4,
   "outputs": [
    {
     "data": {
      "text/plain": "71709"
     },
     "execution_count": 4,
     "metadata": {},
     "output_type": "execute_result"
    }
   ],
   "source": [
    "visas_df[\"employer_name\"].nunique()"
   ],
   "metadata": {
    "collapsed": false,
    "pycharm": {
     "name": "#%%\n"
    }
   }
  },
  {
   "cell_type": "code",
   "execution_count": 5,
   "outputs": [],
   "source": [
    "visas_df[\"employer_name\"] = visas_df[\"employer_name\"].str.upper()"
   ],
   "metadata": {
    "collapsed": false,
    "pycharm": {
     "name": "#%%\n"
    }
   }
  },
  {
   "cell_type": "code",
   "execution_count": 6,
   "outputs": [
    {
     "data": {
      "text/plain": "70846"
     },
     "execution_count": 6,
     "metadata": {},
     "output_type": "execute_result"
    }
   ],
   "source": [
    "visas_df[\"employer_name\"].nunique()"
   ],
   "metadata": {
    "collapsed": false,
    "pycharm": {
     "name": "#%%\n"
    }
   }
  },
  {
   "cell_type": "markdown",
   "source": [
    "Manche Werte in der Spalte waren nicht durchgängig großgeschrieben.\n",
    "Durch die Vereinheitlichung auf Großschreibung konnten 71709-70846 = 863 Duplikate vermieden werden."
   ],
   "metadata": {
    "collapsed": false,
    "pycharm": {
     "name": "#%% md\n"
    }
   }
  },
  {
   "cell_type": "markdown",
   "source": [
    "In der cleanup.py wurde dies in der Funktion clean_employer_name() umgesetzt."
   ],
   "metadata": {
    "collapsed": false,
    "pycharm": {
     "name": "#%% md\n"
    }
   }
  },
  {
   "cell_type": "markdown",
   "source": [
    "# employer_city\n"
   ],
   "metadata": {
    "collapsed": false,
    "pycharm": {
     "name": "#%% md\n"
    }
   }
  },
  {
   "cell_type": "code",
   "execution_count": 7,
   "outputs": [],
   "source": [
    "col_list = [\"employer_city\"]\n",
    "visas_df = pd.read_csv('../data/us_perm_visas.csv', usecols=col_list)"
   ],
   "metadata": {
    "collapsed": false,
    "pycharm": {
     "name": "#%%\n"
    }
   }
  },
  {
   "cell_type": "code",
   "execution_count": 8,
   "outputs": [
    {
     "data": {
      "text/plain": "  employer_city\n0      NEW YORK\n1     CARLSTADT\n2    GLEN ALLEN\n3      FLUSHING\n4        ALBANY",
      "text/html": "<div>\n<style scoped>\n    .dataframe tbody tr th:only-of-type {\n        vertical-align: middle;\n    }\n\n    .dataframe tbody tr th {\n        vertical-align: top;\n    }\n\n    .dataframe thead th {\n        text-align: right;\n    }\n</style>\n<table border=\"1\" class=\"dataframe\">\n  <thead>\n    <tr style=\"text-align: right;\">\n      <th></th>\n      <th>employer_city</th>\n    </tr>\n  </thead>\n  <tbody>\n    <tr>\n      <th>0</th>\n      <td>NEW YORK</td>\n    </tr>\n    <tr>\n      <th>1</th>\n      <td>CARLSTADT</td>\n    </tr>\n    <tr>\n      <th>2</th>\n      <td>GLEN ALLEN</td>\n    </tr>\n    <tr>\n      <th>3</th>\n      <td>FLUSHING</td>\n    </tr>\n    <tr>\n      <th>4</th>\n      <td>ALBANY</td>\n    </tr>\n  </tbody>\n</table>\n</div>"
     },
     "execution_count": 8,
     "metadata": {},
     "output_type": "execute_result"
    }
   ],
   "source": [
    "visas_df.head()"
   ],
   "metadata": {
    "collapsed": false,
    "pycharm": {
     "name": "#%%\n"
    }
   }
  },
  {
   "cell_type": "markdown",
   "source": [
    "Auch bei der Spalte `employer_city` liegen Unterschiede in Groß- und Kleinschreibung vor.\n",
    "Dies wird im Nachgang bereinigt."
   ],
   "metadata": {
    "collapsed": false,
    "pycharm": {
     "name": "#%% md\n"
    }
   }
  },
  {
   "cell_type": "code",
   "execution_count": 9,
   "outputs": [
    {
     "data": {
      "text/plain": "8384"
     },
     "execution_count": 9,
     "metadata": {},
     "output_type": "execute_result"
    }
   ],
   "source": [
    "visas_df[\"employer_city\"].nunique()"
   ],
   "metadata": {
    "collapsed": false,
    "pycharm": {
     "name": "#%%\n"
    }
   }
  },
  {
   "cell_type": "code",
   "execution_count": 10,
   "outputs": [],
   "source": [
    "visas_df[\"employer_city\"] = visas_df[\"employer_city\"].str.upper()"
   ],
   "metadata": {
    "collapsed": false,
    "pycharm": {
     "name": "#%%\n"
    }
   }
  },
  {
   "cell_type": "code",
   "execution_count": 11,
   "outputs": [
    {
     "data": {
      "text/plain": "5826"
     },
     "execution_count": 11,
     "metadata": {},
     "output_type": "execute_result"
    }
   ],
   "source": [
    "visas_df[\"employer_city\"].nunique()"
   ],
   "metadata": {
    "collapsed": false,
    "pycharm": {
     "name": "#%%\n"
    }
   }
  },
  {
   "cell_type": "markdown",
   "source": [
    "## Entfernen von unüblichen Zeichen im Stadtnamen"
   ],
   "metadata": {
    "collapsed": false,
    "pycharm": {
     "name": "#%% md\n"
    }
   }
  },
  {
   "cell_type": "code",
   "execution_count": 12,
   "outputs": [
    {
     "data": {
      "text/plain": "N    64805\nE    58278\nO    40163\nA    35890\nS    34978\nK    30485\nD    25773\nY    20285\nG    10425\nR     9289\nW     9081\nT     8770\nH     8159\nL     5256\nM     4154\nI     2997\nX     2497\nP     1878\nU      323\n,      261\nC      218\nZ      161\nF       84\nB       62\n.       57\n3        4\n0        3\n)        3\n`        2\n9        2\nJ        1\n7        1\nQ        1\nV        1\n4        1\nName: employer_city, dtype: int64"
     },
     "execution_count": 12,
     "metadata": {},
     "output_type": "execute_result"
    }
   ],
   "source": [
    "visas_df[\"employer_city\"].str.strip().str[-1].value_counts()"
   ],
   "metadata": {
    "collapsed": false,
    "pycharm": {
     "name": "#%%\n"
    }
   }
  },
  {
   "cell_type": "markdown",
   "source": [
    "In manchen Zeilen liegen unübliche Zeichen am Ende des Strings vor. Dies können . oder , sein.\n",
    "Die Funktion cutOffUnusualCharacters der cleanup.py bereinigt diese unüblichen Zeichen."
   ],
   "metadata": {
    "collapsed": false,
    "pycharm": {
     "name": "#%% md\n"
    }
   }
  },
  {
   "cell_type": "code",
   "execution_count": 13,
   "outputs": [],
   "source": [
    "visas_df[\"employer_city\"] = cleanup.cutOffUnusualCharacters(visas_df[\"employer_city\"])"
   ],
   "metadata": {
    "collapsed": false,
    "pycharm": {
     "name": "#%%\n"
    }
   }
  },
  {
   "cell_type": "code",
   "execution_count": 14,
   "outputs": [
    {
     "data": {
      "text/plain": "5743"
     },
     "execution_count": 14,
     "metadata": {},
     "output_type": "execute_result"
    }
   ],
   "source": [
    "visas_df[\"employer_city\"].nunique()"
   ],
   "metadata": {
    "collapsed": false,
    "pycharm": {
     "name": "#%%\n"
    }
   }
  },
  {
   "cell_type": "code",
   "execution_count": 15,
   "outputs": [
    {
     "data": {
      "text/plain": "N    64850\nE    58328\nO    40170\nA    35896\nS    35006\nK    30518\nD    25784\nY    20289\nG    10428\nR     9297\nW     9081\nT     8795\nH     8168\nL     5258\nM     4156\nI     2997\nX     2550\nP     1907\nU      323\nC      223\nZ      161\nF       84\nB       62\n3        4\n)        3\n0        3\n9        2\nJ        1\n4        1\n7        1\nQ        1\nV        1\nName: employer_city, dtype: int64"
     },
     "execution_count": 15,
     "metadata": {},
     "output_type": "execute_result"
    }
   ],
   "source": [
    "visas_df[\"employer_city\"].str.strip().str[-1].value_counts()"
   ],
   "metadata": {
    "collapsed": false,
    "pycharm": {
     "name": "#%%\n"
    }
   }
  },
  {
   "cell_type": "markdown",
   "source": [
    "Es soll noch ein kurzer Blick auf die verbleibenden Datensätze mit Satzzeichen im String geworfen werden."
   ],
   "metadata": {
    "collapsed": false,
    "pycharm": {
     "name": "#%% md\n"
    }
   }
  },
  {
   "cell_type": "code",
   "execution_count": 16,
   "outputs": [
    {
     "data": {
      "text/plain": "52"
     },
     "execution_count": 16,
     "metadata": {},
     "output_type": "execute_result"
    }
   ],
   "source": [
    "visas_df[visas_df[\"employer_city\"].str.contains(pat = ',', na=False)].size"
   ],
   "metadata": {
    "collapsed": false,
    "pycharm": {
     "name": "#%%\n"
    }
   }
  },
  {
   "cell_type": "code",
   "execution_count": 17,
   "outputs": [
    {
     "data": {
      "text/plain": "employer_city             \nWASHINGTON, DC                17\nSCHAUMBURG, IL 60173           3\nHICKORY, NC                    3\nMEMPHIS, TN                    3\n, NEW YORK                     3\nANN ARBOR, MI                  2\nKNOXVILLE, TN                  1\nALISO VIEJO, ORANGE COUNTY     1\nCHARLOTTE,RD  CHARLOTTE        1\nENCINO, CA                     1\nFLUSHING, NEW YORK             1\nFLUSHING, NY                   1\nGARDENA, CA                    1\nGMF, BARRIGADA                 1\nVANCOUVER, BC, V6J 1C7         1\nSANTA MONICA, CA               1\nSANTA BARBARA, CA              1\nLONG ISLAND CITY, NY           1\nWASHINGTON, D.C                1\nMIAMI, FL                      1\nN, BILLERICA                   1\nNORTH HOLLYWOOD, CA            1\nNW, WASHINGTON DC              1\nOKLAHOMA CITY, OK              1\nPALISADES PARK, NJ             1\nSAIPAN, CNMI                   1\nLA CANADA, FLINTRIDGE          1\ndtype: int64"
     },
     "execution_count": 17,
     "metadata": {},
     "output_type": "execute_result"
    }
   ],
   "source": [
    "visas_df[visas_df[\"employer_city\"].str.contains(pat = ',', na=False)].value_counts()"
   ],
   "metadata": {
    "collapsed": false,
    "pycharm": {
     "name": "#%%\n"
    }
   }
  },
  {
   "cell_type": "markdown",
   "source": [
    "Es wird ersichtlich, dass auch ein Komma inmitteln des Strings zu Wertverfälschungen führen kann.\n",
    "Aufgrund der geringen Anzahl an Fällen (52 Fälle) wird dies der Einfachkeithalber vernachlässigt."
   ],
   "metadata": {
    "collapsed": false,
    "pycharm": {
     "name": "#%% md\n"
    }
   }
  },
  {
   "cell_type": "markdown",
   "source": [
    "Der Vollständigkeit halber wird auch noch ein Blick auf Strings mit einem enthaltenen . geworfen."
   ],
   "metadata": {
    "collapsed": false,
    "pycharm": {
     "name": "#%% md\n"
    }
   }
  },
  {
   "cell_type": "code",
   "execution_count": 18,
   "outputs": [
    {
     "data": {
      "text/plain": "1522"
     },
     "execution_count": 18,
     "metadata": {},
     "output_type": "execute_result"
    }
   ],
   "source": [
    "visas_df[visas_df[\"employer_city\"].str.contains(pat = r'\\.', na=False)].size\n"
   ],
   "metadata": {
    "collapsed": false,
    "pycharm": {
     "name": "#%%\n"
    }
   }
  },
  {
   "cell_type": "code",
   "execution_count": 19,
   "outputs": [
    {
     "name": "stdout",
     "output_type": "stream",
     "text": [
      "employer_city    \n",
      "ST. LOUIS            664\n",
      "ST. PETERSBURG       160\n",
      "ST. PAUL             115\n",
      "FT. LAUDERDALE        79\n",
      "ST. THOMAS            57\n",
      "MT. VERNON            34\n",
      "ST.PAUL               32\n",
      "ST. SIOUX CITY        32\n",
      "MISS. STATE           29\n",
      "MT. PROSPECT          29\n",
      "ST. LOUIS PARK        17\n",
      "MT. PLEASANT          17\n",
      "ST. CHARLES           15\n",
      "MT. LAUREL            15\n",
      "MT. KISCO             12\n",
      "MT.LAUREL             11\n",
      "ST. CLOUD             11\n",
      "FT. DEFIANCE           9\n",
      "ST. CLAIR SHORES       8\n",
      "PORT ST. LUCIE         8\n",
      "ST.LOUIS               7\n",
      "ST. HELENA             7\n",
      "ST. PETERS             7\n",
      "ST. MARTINVILLE        6\n",
      "ST. JOSEPH             6\n",
      "FT. WASHINGTON         6\n",
      "SAULT STE. MARIE       5\n",
      "FT. WORTH              5\n",
      "ST. CROIX FALLS        4\n",
      "WASHINGTON D.C         4\n",
      "ST. ALBANS             4\n",
      "L.I.C                  4\n",
      "ST. MATTHEWS           4\n",
      "ST. GEORGE             4\n",
      "FT. MYERS              4\n",
      "MT. VIEW               3\n",
      "MT. GRETNA             3\n",
      "SO. SAN FRANCISCO      3\n",
      "N. BRUNSWICK           3\n",
      "N. MIAMI BEACH         3\n",
      "E. WEYMOUTH            2\n",
      "NO.PLAINFIELD          2\n",
      "E. HAMPTON             2\n",
      "ST.THOMAS              2\n",
      "N. HOLLYWOOD           2\n",
      "N. LAS VEGAS           2\n",
      "N. MIAMI               2\n",
      "ST. DAVIDS             2\n",
      "FT. SMITH              2\n",
      "FT. MITCHELL           2\n",
      "ST. BONIFACIUS         2\n",
      "S. EL MONTE            2\n",
      "S. PASADENA            2\n",
      "ST. MARY'S CITY        2\n",
      "SAULT STE. MAIRE       2\n",
      "FT. MORGAN             2\n",
      "ST. ROSE               2\n",
      "MT. HOLLY SPRINGS      2\n",
      "ST. FRANCIS            2\n",
      "ST. AUGUSTINE          2\n",
      "E. HANOVER             1\n",
      "E. NORWICH             1\n",
      "MT. HOLLY              1\n",
      "MT. CRAWFORD           1\n",
      "MT. FREEDOM            1\n",
      "E. SYRACUSE            1\n",
      "FT.MYERS               1\n",
      "MT. CLEMENS            1\n",
      "MT. CARMEL             1\n",
      "MT. ARLINGTON          1\n",
      "WASHINGTON, D.C        1\n",
      "MT. JULIET             1\n",
      "ST. CATHARINE          1\n",
      "W. COLLINGSWOOD        1\n",
      "W. BABYLON             1\n",
      "STE. GENEVIEVE         1\n",
      "ST.CLOUD               1\n",
      "ST. PETERBURG          1\n",
      "ST. PETE BEACH         1\n",
      "ST. MICHAELS           1\n",
      "ST. JOHNS              1\n",
      "ST. JOHN               1\n",
      "ST. HELENS             1\n",
      "ST .THOMAS             1\n",
      "MT. STERLING           1\n",
      "SOUTH ST. PAUL         1\n",
      "SO. PLAINFIELD         1\n",
      "S.OZONE PARK           1\n",
      "NO. POLE               1\n",
      "NO. CONWAY             1\n",
      "N. DINWIDDIE           1\n",
      "N. CHARLESTON          1\n",
      "N. BETHESDA            1\n",
      "N. AMITYVILLE          1\n",
      "MT.KISCO               1\n",
      "BAY ST. LOUIS          1\n",
      "dtype: int64\n"
     ]
    }
   ],
   "source": [
    "modules.print_full(visas_df[visas_df[\"employer_city\"].str.contains(pat = r'\\.', na=False)].value_counts())"
   ],
   "metadata": {
    "collapsed": false,
    "pycharm": {
     "name": "#%%\n"
    }
   }
  },
  {
   "cell_type": "markdown",
   "source": [
    "# employer_state\n"
   ],
   "metadata": {
    "collapsed": false,
    "pycharm": {
     "name": "#%% md\n"
    }
   }
  },
  {
   "cell_type": "code",
   "execution_count": 20,
   "outputs": [],
   "source": [
    "col_list = [\"employer_state\"]\n",
    "visas_df = pd.read_csv('../data/us_perm_visas.csv', usecols=col_list)"
   ],
   "metadata": {
    "collapsed": false,
    "pycharm": {
     "name": "#%%\n"
    }
   }
  },
  {
   "cell_type": "code",
   "execution_count": 21,
   "outputs": [
    {
     "data": {
      "text/plain": "CALIFORNIA                  51127\nCA                          42366\nTEXAS                       25082\nTX                          20099\nNEW JERSEY                  16271\n                            ...  \nNORTHERN MARIANA ISLANDS       22\nVI                             18\nBRITISH COLUMBIA                3\nBC                              1\nMARSHALL ISLANDS                1\nName: employer_state, Length: 113, dtype: int64"
     },
     "execution_count": 21,
     "metadata": {},
     "output_type": "execute_result"
    }
   ],
   "source": [
    "visas_df[\"employer_state\"].value_counts()"
   ],
   "metadata": {
    "collapsed": false,
    "pycharm": {
     "name": "#%%\n"
    }
   }
  },
  {
   "cell_type": "markdown",
   "source": [
    "Es ist zu erkennen, dass die Lang- und Kurzschreibweise der verschiedenen Staaten verwendet wurde.\n",
    "Dies kann unsere Analysen stören. Wir werden diese Schreibweisen auf eine Langform standardisieren."
   ],
   "metadata": {
    "collapsed": false,
    "pycharm": {
     "name": "#%% md\n"
    }
   }
  },
  {
   "cell_type": "markdown",
   "source": [
    "Die Daten hierfür beziehen wir von: https://www.infoplease.com/us/postal-information/state-abbreviations-and-state-postal-codes'"
   ],
   "metadata": {
    "collapsed": false,
    "pycharm": {
     "name": "#%% md\n"
    }
   }
  },
  {
   "cell_type": "code",
   "execution_count": 22,
   "outputs": [],
   "source": [
    "# States\n",
    "web_table = pd.read_html(\n",
    "    'https://www.infoplease.com/us/postal-information/state-abbreviations-and-state-postal-codes',\n",
    "    match='State/District')\n",
    "states_abbreviations_df = web_table[0].rename(columns={\"State/District\": \"name\"})"
   ],
   "metadata": {
    "collapsed": false,
    "pycharm": {
     "name": "#%%\n"
    }
   }
  },
  {
   "cell_type": "code",
   "execution_count": 23,
   "outputs": [],
   "source": [
    "# Territories\n",
    "web_table = pd.read_html(\n",
    "    'https://www.infoplease.com/us/postal-information/state-abbreviations-and-state-postal-codes',\n",
    "    match='Territory/Associate')\n",
    "states_abbreviations_df = states_abbreviations_df.append(web_table[0].rename(columns={\"Territory/Associate\": \"name\"}))"
   ],
   "metadata": {
    "collapsed": false,
    "pycharm": {
     "name": "#%%\n"
    }
   }
  },
  {
   "cell_type": "code",
   "execution_count": 24,
   "outputs": [
    {
     "data": {
      "text/plain": "                        name Abbreviation Postal Code\n0                    Alabama         Ala.          AL\n1                     Alaska       Alaska          AK\n2                    Arizona        Ariz.          AZ\n3                   Arkansas         Ark.          AR\n4                 California       Calif.          CA\n5                   Colorado        Colo.          CO\n6                Connecticut        Conn.          CT\n7                   Delaware         Del.          DE\n8       District of Columbia         D.C.          DC\n9                    Florida         Fla.          FL\n10                   Georgia          Ga.          GA\n11                    Hawaii       Hawaii          HI\n12                     Idaho        Idaho          ID\n13                  Illinois         Ill.          IL\n14                   Indiana         Ind.          IN\n15                      Iowa         Iowa          IA\n16                    Kansas        Kans.          KS\n17                  Kentucky          Ky.          KY\n18                 Louisiana          La.          LA\n19                     Maine        Maine          ME\n20                  Maryland          Md.          MD\n21             Massachusetts        Mass.          MA\n22                  Michigan        Mich.          MI\n23                 Minnesota        Minn.          MN\n24               Mississippi        Miss.          MS\n25                  Missouri          Mo.          MO\n26                   Montana        Mont.          MT\n27                  Nebraska        Nebr.          NE\n28                    Nevada         Nev.          NV\n29             New Hampshire         N.H.          NH\n30                New Jersey         N.J.          NJ\n31                New Mexico         N.M.          NM\n32                  New York         N.Y.          NY\n33            North Carolina         N.C.          NC\n34              North Dakota         N.D.          ND\n35                      Ohio         Ohio          OH\n36                  Oklahoma        Okla.          OK\n37                    Oregon         Ore.          OR\n38              Pennsylvania          Pa.          PA\n39              Rhode Island         R.I.          RI\n40            South Carolina         S.C.          SC\n41              South Dakota         S.D.          SD\n42                 Tennessee        Tenn.          TN\n43                     Texas         Tex.          TX\n44                      Utah         Utah          UT\n45                   Vermont          Vt.          VT\n46                  Virginia          Va.          VA\n47                Washington        Wash.          WA\n48             West Virginia        W.Va.          WV\n49                 Wisconsin         Wis.          WI\n50                   Wyoming         Wyo.          WY\n0             American Samoa            Â          AS\n1                       Guam         Guam          GU\n2           Marshall Islands            Â          MH\n3                 Micronesia            Â          FM\n4   Northern Mariana Islands            Â          MP\n5                      Palau            Â          PW\n6                Puerto Rico         P.R.          PR\n7             Virgin Islands            Â          VI",
      "text/html": "<div>\n<style scoped>\n    .dataframe tbody tr th:only-of-type {\n        vertical-align: middle;\n    }\n\n    .dataframe tbody tr th {\n        vertical-align: top;\n    }\n\n    .dataframe thead th {\n        text-align: right;\n    }\n</style>\n<table border=\"1\" class=\"dataframe\">\n  <thead>\n    <tr style=\"text-align: right;\">\n      <th></th>\n      <th>name</th>\n      <th>Abbreviation</th>\n      <th>Postal Code</th>\n    </tr>\n  </thead>\n  <tbody>\n    <tr>\n      <th>0</th>\n      <td>Alabama</td>\n      <td>Ala.</td>\n      <td>AL</td>\n    </tr>\n    <tr>\n      <th>1</th>\n      <td>Alaska</td>\n      <td>Alaska</td>\n      <td>AK</td>\n    </tr>\n    <tr>\n      <th>2</th>\n      <td>Arizona</td>\n      <td>Ariz.</td>\n      <td>AZ</td>\n    </tr>\n    <tr>\n      <th>3</th>\n      <td>Arkansas</td>\n      <td>Ark.</td>\n      <td>AR</td>\n    </tr>\n    <tr>\n      <th>4</th>\n      <td>California</td>\n      <td>Calif.</td>\n      <td>CA</td>\n    </tr>\n    <tr>\n      <th>5</th>\n      <td>Colorado</td>\n      <td>Colo.</td>\n      <td>CO</td>\n    </tr>\n    <tr>\n      <th>6</th>\n      <td>Connecticut</td>\n      <td>Conn.</td>\n      <td>CT</td>\n    </tr>\n    <tr>\n      <th>7</th>\n      <td>Delaware</td>\n      <td>Del.</td>\n      <td>DE</td>\n    </tr>\n    <tr>\n      <th>8</th>\n      <td>District of Columbia</td>\n      <td>D.C.</td>\n      <td>DC</td>\n    </tr>\n    <tr>\n      <th>9</th>\n      <td>Florida</td>\n      <td>Fla.</td>\n      <td>FL</td>\n    </tr>\n    <tr>\n      <th>10</th>\n      <td>Georgia</td>\n      <td>Ga.</td>\n      <td>GA</td>\n    </tr>\n    <tr>\n      <th>11</th>\n      <td>Hawaii</td>\n      <td>Hawaii</td>\n      <td>HI</td>\n    </tr>\n    <tr>\n      <th>12</th>\n      <td>Idaho</td>\n      <td>Idaho</td>\n      <td>ID</td>\n    </tr>\n    <tr>\n      <th>13</th>\n      <td>Illinois</td>\n      <td>Ill.</td>\n      <td>IL</td>\n    </tr>\n    <tr>\n      <th>14</th>\n      <td>Indiana</td>\n      <td>Ind.</td>\n      <td>IN</td>\n    </tr>\n    <tr>\n      <th>15</th>\n      <td>Iowa</td>\n      <td>Iowa</td>\n      <td>IA</td>\n    </tr>\n    <tr>\n      <th>16</th>\n      <td>Kansas</td>\n      <td>Kans.</td>\n      <td>KS</td>\n    </tr>\n    <tr>\n      <th>17</th>\n      <td>Kentucky</td>\n      <td>Ky.</td>\n      <td>KY</td>\n    </tr>\n    <tr>\n      <th>18</th>\n      <td>Louisiana</td>\n      <td>La.</td>\n      <td>LA</td>\n    </tr>\n    <tr>\n      <th>19</th>\n      <td>Maine</td>\n      <td>Maine</td>\n      <td>ME</td>\n    </tr>\n    <tr>\n      <th>20</th>\n      <td>Maryland</td>\n      <td>Md.</td>\n      <td>MD</td>\n    </tr>\n    <tr>\n      <th>21</th>\n      <td>Massachusetts</td>\n      <td>Mass.</td>\n      <td>MA</td>\n    </tr>\n    <tr>\n      <th>22</th>\n      <td>Michigan</td>\n      <td>Mich.</td>\n      <td>MI</td>\n    </tr>\n    <tr>\n      <th>23</th>\n      <td>Minnesota</td>\n      <td>Minn.</td>\n      <td>MN</td>\n    </tr>\n    <tr>\n      <th>24</th>\n      <td>Mississippi</td>\n      <td>Miss.</td>\n      <td>MS</td>\n    </tr>\n    <tr>\n      <th>25</th>\n      <td>Missouri</td>\n      <td>Mo.</td>\n      <td>MO</td>\n    </tr>\n    <tr>\n      <th>26</th>\n      <td>Montana</td>\n      <td>Mont.</td>\n      <td>MT</td>\n    </tr>\n    <tr>\n      <th>27</th>\n      <td>Nebraska</td>\n      <td>Nebr.</td>\n      <td>NE</td>\n    </tr>\n    <tr>\n      <th>28</th>\n      <td>Nevada</td>\n      <td>Nev.</td>\n      <td>NV</td>\n    </tr>\n    <tr>\n      <th>29</th>\n      <td>New Hampshire</td>\n      <td>N.H.</td>\n      <td>NH</td>\n    </tr>\n    <tr>\n      <th>30</th>\n      <td>New Jersey</td>\n      <td>N.J.</td>\n      <td>NJ</td>\n    </tr>\n    <tr>\n      <th>31</th>\n      <td>New Mexico</td>\n      <td>N.M.</td>\n      <td>NM</td>\n    </tr>\n    <tr>\n      <th>32</th>\n      <td>New York</td>\n      <td>N.Y.</td>\n      <td>NY</td>\n    </tr>\n    <tr>\n      <th>33</th>\n      <td>North Carolina</td>\n      <td>N.C.</td>\n      <td>NC</td>\n    </tr>\n    <tr>\n      <th>34</th>\n      <td>North Dakota</td>\n      <td>N.D.</td>\n      <td>ND</td>\n    </tr>\n    <tr>\n      <th>35</th>\n      <td>Ohio</td>\n      <td>Ohio</td>\n      <td>OH</td>\n    </tr>\n    <tr>\n      <th>36</th>\n      <td>Oklahoma</td>\n      <td>Okla.</td>\n      <td>OK</td>\n    </tr>\n    <tr>\n      <th>37</th>\n      <td>Oregon</td>\n      <td>Ore.</td>\n      <td>OR</td>\n    </tr>\n    <tr>\n      <th>38</th>\n      <td>Pennsylvania</td>\n      <td>Pa.</td>\n      <td>PA</td>\n    </tr>\n    <tr>\n      <th>39</th>\n      <td>Rhode Island</td>\n      <td>R.I.</td>\n      <td>RI</td>\n    </tr>\n    <tr>\n      <th>40</th>\n      <td>South Carolina</td>\n      <td>S.C.</td>\n      <td>SC</td>\n    </tr>\n    <tr>\n      <th>41</th>\n      <td>South Dakota</td>\n      <td>S.D.</td>\n      <td>SD</td>\n    </tr>\n    <tr>\n      <th>42</th>\n      <td>Tennessee</td>\n      <td>Tenn.</td>\n      <td>TN</td>\n    </tr>\n    <tr>\n      <th>43</th>\n      <td>Texas</td>\n      <td>Tex.</td>\n      <td>TX</td>\n    </tr>\n    <tr>\n      <th>44</th>\n      <td>Utah</td>\n      <td>Utah</td>\n      <td>UT</td>\n    </tr>\n    <tr>\n      <th>45</th>\n      <td>Vermont</td>\n      <td>Vt.</td>\n      <td>VT</td>\n    </tr>\n    <tr>\n      <th>46</th>\n      <td>Virginia</td>\n      <td>Va.</td>\n      <td>VA</td>\n    </tr>\n    <tr>\n      <th>47</th>\n      <td>Washington</td>\n      <td>Wash.</td>\n      <td>WA</td>\n    </tr>\n    <tr>\n      <th>48</th>\n      <td>West Virginia</td>\n      <td>W.Va.</td>\n      <td>WV</td>\n    </tr>\n    <tr>\n      <th>49</th>\n      <td>Wisconsin</td>\n      <td>Wis.</td>\n      <td>WI</td>\n    </tr>\n    <tr>\n      <th>50</th>\n      <td>Wyoming</td>\n      <td>Wyo.</td>\n      <td>WY</td>\n    </tr>\n    <tr>\n      <th>0</th>\n      <td>American Samoa</td>\n      <td>Â</td>\n      <td>AS</td>\n    </tr>\n    <tr>\n      <th>1</th>\n      <td>Guam</td>\n      <td>Guam</td>\n      <td>GU</td>\n    </tr>\n    <tr>\n      <th>2</th>\n      <td>Marshall Islands</td>\n      <td>Â</td>\n      <td>MH</td>\n    </tr>\n    <tr>\n      <th>3</th>\n      <td>Micronesia</td>\n      <td>Â</td>\n      <td>FM</td>\n    </tr>\n    <tr>\n      <th>4</th>\n      <td>Northern Mariana Islands</td>\n      <td>Â</td>\n      <td>MP</td>\n    </tr>\n    <tr>\n      <th>5</th>\n      <td>Palau</td>\n      <td>Â</td>\n      <td>PW</td>\n    </tr>\n    <tr>\n      <th>6</th>\n      <td>Puerto Rico</td>\n      <td>P.R.</td>\n      <td>PR</td>\n    </tr>\n    <tr>\n      <th>7</th>\n      <td>Virgin Islands</td>\n      <td>Â</td>\n      <td>VI</td>\n    </tr>\n  </tbody>\n</table>\n</div>"
     },
     "execution_count": 24,
     "metadata": {},
     "output_type": "execute_result"
    }
   ],
   "source": [
    "states_abbreviations_df"
   ],
   "metadata": {
    "collapsed": false,
    "pycharm": {
     "name": "#%%\n"
    }
   }
  },
  {
   "cell_type": "markdown",
   "source": [
    "Die erhaltenen Werte werden in ein dictionary geladen, welches im Nachgang genutzt wird um die Kurzschreibweisen durch die Langform zu ersetzen."
   ],
   "metadata": {
    "collapsed": false,
    "pycharm": {
     "name": "#%% md\n"
    }
   }
  },
  {
   "cell_type": "code",
   "execution_count": 25,
   "outputs": [],
   "source": [
    "states_abbreviations_df['name'] = states_abbreviations_df['name'].str.upper()\n",
    "abbr_dictionary = states_abbreviations_df.set_index('Postal Code')['name'].to_dict()"
   ],
   "metadata": {
    "collapsed": false,
    "pycharm": {
     "name": "#%%\n"
    }
   }
  },
  {
   "cell_type": "code",
   "execution_count": 26,
   "outputs": [],
   "source": [
    "visas_df['employer_state'] = visas_df['employer_state'].replace(abbr_dictionary)\n"
   ],
   "metadata": {
    "collapsed": false,
    "pycharm": {
     "name": "#%%\n"
    }
   }
  },
  {
   "cell_type": "code",
   "execution_count": 27,
   "outputs": [
    {
     "data": {
      "text/plain": "CALIFORNIA                  93493\nTEXAS                       45181\nNEW JERSEY                  30135\nNEW YORK                    28075\nWASHINGTON                  17113\nILLINOIS                    16323\nMASSACHUSETTS               13261\nVIRGINIA                    12050\nMICHIGAN                    12001\nPENNSYLVANIA                11905\nFLORIDA                     11499\nGEORGIA                     11368\nNORTH CAROLINA               8304\nOHIO                         6181\nMARYLAND                     5733\nCONNECTICUT                  3697\nWISCONSIN                    3550\nMISSOURI                     3363\nARIZONA                      3201\nMINNESOTA                    2879\nINDIANA                      2878\nCOLORADO                     2722\nSOUTH CAROLINA               2512\nALABAMA                      2230\nTENNESSEE                    2210\nARKANSAS                     1697\nKENTUCKY                     1676\nDISTRICT OF COLUMBIA         1647\nIOWA                         1491\nKANSAS                       1491\nDELAWARE                     1381\nNEBRASKA                     1259\nLOUISIANA                    1226\nOREGON                       1140\nUTAH                         1136\nOKLAHOMA                      847\nRHODE ISLAND                  825\nNEW MEXICO                    728\nNEVADA                        723\nNEW HAMPSHIRE                 653\nIDAHO                         648\nMISSISSIPPI                   622\nVERMONT                       476\nNORTH DAKOTA                  415\nMAINE                         401\nGUAM                          361\nSOUTH DAKOTA                  323\nWEST VIRGINIA                 316\nHAWAII                        271\nPUERTO RICO                   192\nMONTANA                       141\nWYOMING                       116\nALASKA                        109\nNORTHERN MARIANA ISLANDS       73\nVIRGIN ISLANDS                 67\nBRITISH COLUMBIA                3\nBC                              1\nMARSHALL ISLANDS                1\nName: employer_state, dtype: int64"
     },
     "execution_count": 27,
     "metadata": {},
     "output_type": "execute_result"
    }
   ],
   "source": [
    "visas_df['employer_state'].value_counts()"
   ],
   "metadata": {
    "collapsed": false,
    "pycharm": {
     "name": "#%%\n"
    }
   }
  },
  {
   "cell_type": "markdown",
   "source": [
    "Einzig \"BC\" konnte durch diesen Vorgang keine langform zugewiesen werden.\n",
    "Dies wird manuell vorgenommen."
   ],
   "metadata": {
    "collapsed": false,
    "pycharm": {
     "name": "#%% md\n"
    }
   }
  },
  {
   "cell_type": "code",
   "execution_count": 28,
   "outputs": [],
   "source": [
    "visas_df['employer_state'] = visas_df['employer_state'].str.replace('BC', 'BRITISH COLUMBIA')\n"
   ],
   "metadata": {
    "collapsed": false,
    "pycharm": {
     "name": "#%%\n"
    }
   }
  },
  {
   "cell_type": "code",
   "execution_count": 29,
   "outputs": [
    {
     "data": {
      "text/plain": "CALIFORNIA                  93493\nTEXAS                       45181\nNEW JERSEY                  30135\nNEW YORK                    28075\nWASHINGTON                  17113\nILLINOIS                    16323\nMASSACHUSETTS               13261\nVIRGINIA                    12050\nMICHIGAN                    12001\nPENNSYLVANIA                11905\nFLORIDA                     11499\nGEORGIA                     11368\nNORTH CAROLINA               8304\nOHIO                         6181\nMARYLAND                     5733\nCONNECTICUT                  3697\nWISCONSIN                    3550\nMISSOURI                     3363\nARIZONA                      3201\nMINNESOTA                    2879\nINDIANA                      2878\nCOLORADO                     2722\nSOUTH CAROLINA               2512\nALABAMA                      2230\nTENNESSEE                    2210\nARKANSAS                     1697\nKENTUCKY                     1676\nDISTRICT OF COLUMBIA         1647\nIOWA                         1491\nKANSAS                       1491\nDELAWARE                     1381\nNEBRASKA                     1259\nLOUISIANA                    1226\nOREGON                       1140\nUTAH                         1136\nOKLAHOMA                      847\nRHODE ISLAND                  825\nNEW MEXICO                    728\nNEVADA                        723\nNEW HAMPSHIRE                 653\nIDAHO                         648\nMISSISSIPPI                   622\nVERMONT                       476\nNORTH DAKOTA                  415\nMAINE                         401\nGUAM                          361\nSOUTH DAKOTA                  323\nWEST VIRGINIA                 316\nHAWAII                        271\nPUERTO RICO                   192\nMONTANA                       141\nWYOMING                       116\nALASKA                        109\nNORTHERN MARIANA ISLANDS       73\nVIRGIN ISLANDS                 67\nBRITISH COLUMBIA                4\nMARSHALL ISLANDS                1\nName: employer_state, dtype: int64"
     },
     "execution_count": 29,
     "metadata": {},
     "output_type": "execute_result"
    }
   ],
   "source": [
    "visas_df['employer_state'].value_counts()"
   ],
   "metadata": {
    "collapsed": false,
    "pycharm": {
     "name": "#%%\n"
    }
   }
  },
  {
   "cell_type": "markdown",
   "source": [
    "Innerhalb der cleanup.py ist dieses Vorgehen unter der Funktion clean_employer_state festgehalten worden."
   ],
   "metadata": {
    "collapsed": false,
    "pycharm": {
     "name": "#%% md\n"
    }
   },
   "outputs": [
    {
     "ename": "SyntaxError",
     "evalue": "invalid syntax (<ipython-input-31-365071111295>, line 1)",
     "output_type": "error",
     "traceback": [
      "\u001B[1;36m  File \u001B[1;32m\"<ipython-input-31-365071111295>\"\u001B[1;36m, line \u001B[1;32m1\u001B[0m\n\u001B[1;33m    Innerhalb der cleanup.py ist dieses Vorgehen unter der Funktion clean_employer_state festgehalten worden.\u001B[0m\n\u001B[1;37m              ^\u001B[0m\n\u001B[1;31mSyntaxError\u001B[0m\u001B[1;31m:\u001B[0m invalid syntax\n"
     ]
    }
   ]
  }
 ],
 "metadata": {
  "kernelspec": {
   "display_name": "Python 3",
   "language": "python",
   "name": "python3"
  },
  "language_info": {
   "codemirror_mode": {
    "name": "ipython",
    "version": 2
   },
   "file_extension": ".py",
   "mimetype": "text/x-python",
   "name": "python",
   "nbconvert_exporter": "python",
   "pygments_lexer": "ipython2",
   "version": "2.7.6"
  }
 },
 "nbformat": 4,
 "nbformat_minor": 0
}