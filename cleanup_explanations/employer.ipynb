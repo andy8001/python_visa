{
 "cells": [
  {
   "cell_type": "code",
   "execution_count": 30,
   "metadata": {
    "collapsed": true
   },
   "outputs": [],
   "source": [
    "import pandas as pd\n",
    "import modules\n",
    "import cleanup"
   ]
  },
  {
   "cell_type": "markdown",
   "source": [
    "# employer_name"
   ],
   "metadata": {
    "collapsed": false,
    "pycharm": {
     "name": "#%% md\n"
    }
   }
  },
  {
   "cell_type": "code",
   "execution_count": 31,
   "outputs": [],
   "source": [
    "col_list = [\"employer_name\"]\n",
    "visas_df = pd.read_csv('../data/us_perm_visas.csv', usecols=col_list)"
   ],
   "metadata": {
    "collapsed": false,
    "pycharm": {
     "name": "#%%\n"
    }
   }
  },
  {
   "cell_type": "code",
   "execution_count": 32,
   "outputs": [
    {
     "data": {
      "text/plain": "                 employer_name\n0             NETSOFT USA INC.\n1  PINNACLE ENVIRONEMNTAL CORP\n2   SCHNABEL ENGINEERING, INC.\n3      EBENEZER MISSION CHURCH\n4   ALBANY INTERNATIONAL CORP.",
      "text/html": "<div>\n<style scoped>\n    .dataframe tbody tr th:only-of-type {\n        vertical-align: middle;\n    }\n\n    .dataframe tbody tr th {\n        vertical-align: top;\n    }\n\n    .dataframe thead th {\n        text-align: right;\n    }\n</style>\n<table border=\"1\" class=\"dataframe\">\n  <thead>\n    <tr style=\"text-align: right;\">\n      <th></th>\n      <th>employer_name</th>\n    </tr>\n  </thead>\n  <tbody>\n    <tr>\n      <th>0</th>\n      <td>NETSOFT USA INC.</td>\n    </tr>\n    <tr>\n      <th>1</th>\n      <td>PINNACLE ENVIRONEMNTAL CORP</td>\n    </tr>\n    <tr>\n      <th>2</th>\n      <td>SCHNABEL ENGINEERING, INC.</td>\n    </tr>\n    <tr>\n      <th>3</th>\n      <td>EBENEZER MISSION CHURCH</td>\n    </tr>\n    <tr>\n      <th>4</th>\n      <td>ALBANY INTERNATIONAL CORP.</td>\n    </tr>\n  </tbody>\n</table>\n</div>"
     },
     "execution_count": 32,
     "metadata": {},
     "output_type": "execute_result"
    }
   ],
   "source": [
    "visas_df.head()"
   ],
   "metadata": {
    "collapsed": false,
    "pycharm": {
     "name": "#%%\n"
    }
   }
  },
  {
   "cell_type": "code",
   "execution_count": 33,
   "outputs": [
    {
     "data": {
      "text/plain": "71709"
     },
     "execution_count": 33,
     "metadata": {},
     "output_type": "execute_result"
    }
   ],
   "source": [
    "visas_df[\"employer_name\"].nunique()"
   ],
   "metadata": {
    "collapsed": false,
    "pycharm": {
     "name": "#%%\n"
    }
   }
  },
  {
   "cell_type": "code",
   "execution_count": 34,
   "outputs": [],
   "source": [
    "visas_df[\"employer_name\"] = visas_df[\"employer_name\"].str.upper()"
   ],
   "metadata": {
    "collapsed": false,
    "pycharm": {
     "name": "#%%\n"
    }
   }
  },
  {
   "cell_type": "code",
   "execution_count": 35,
   "outputs": [
    {
     "data": {
      "text/plain": "70846"
     },
     "execution_count": 35,
     "metadata": {},
     "output_type": "execute_result"
    }
   ],
   "source": [
    "visas_df[\"employer_name\"].nunique()"
   ],
   "metadata": {
    "collapsed": false,
    "pycharm": {
     "name": "#%%\n"
    }
   }
  },
  {
   "cell_type": "markdown",
   "source": [
    "Manche Werte in der Spalte waren nicht durchgängig großgeschrieben.\n",
    "Durch die Vereinheitlichung auf Großschreibung konnten 71709-70846 = 863 Duplikate vermieden werden."
   ],
   "metadata": {
    "collapsed": false,
    "pycharm": {
     "name": "#%% md\n"
    }
   }
  },
  {
   "cell_type": "markdown",
   "source": [
    "In der cleanup.py wurde dies in der Funktion clean_employer_name() umgesetzt."
   ],
   "metadata": {
    "collapsed": false,
    "pycharm": {
     "name": "#%% md\n"
    }
   }
  },
  {
   "cell_type": "markdown",
   "source": [
    "# employer_city\n"
   ],
   "metadata": {
    "collapsed": false,
    "pycharm": {
     "name": "#%% md\n"
    }
   }
  },
  {
   "cell_type": "code",
   "execution_count": 36,
   "outputs": [],
   "source": [
    "col_list = [\"employer_city\"]\n",
    "visas_df = pd.read_csv('../data/us_perm_visas.csv', usecols=col_list)"
   ],
   "metadata": {
    "collapsed": false,
    "pycharm": {
     "name": "#%%\n"
    }
   }
  },
  {
   "cell_type": "code",
   "execution_count": 37,
   "outputs": [
    {
     "data": {
      "text/plain": "  employer_city\n0      NEW YORK\n1     CARLSTADT\n2    GLEN ALLEN\n3      FLUSHING\n4        ALBANY",
      "text/html": "<div>\n<style scoped>\n    .dataframe tbody tr th:only-of-type {\n        vertical-align: middle;\n    }\n\n    .dataframe tbody tr th {\n        vertical-align: top;\n    }\n\n    .dataframe thead th {\n        text-align: right;\n    }\n</style>\n<table border=\"1\" class=\"dataframe\">\n  <thead>\n    <tr style=\"text-align: right;\">\n      <th></th>\n      <th>employer_city</th>\n    </tr>\n  </thead>\n  <tbody>\n    <tr>\n      <th>0</th>\n      <td>NEW YORK</td>\n    </tr>\n    <tr>\n      <th>1</th>\n      <td>CARLSTADT</td>\n    </tr>\n    <tr>\n      <th>2</th>\n      <td>GLEN ALLEN</td>\n    </tr>\n    <tr>\n      <th>3</th>\n      <td>FLUSHING</td>\n    </tr>\n    <tr>\n      <th>4</th>\n      <td>ALBANY</td>\n    </tr>\n  </tbody>\n</table>\n</div>"
     },
     "execution_count": 37,
     "metadata": {},
     "output_type": "execute_result"
    }
   ],
   "source": [
    "visas_df.head()"
   ],
   "metadata": {
    "collapsed": false,
    "pycharm": {
     "name": "#%%\n"
    }
   }
  },
  {
   "cell_type": "markdown",
   "source": [
    "Auch bei der Spalte `employer_city` liegen Unterschiede in groß und Kleinschriebung vor.\n",
    "Dies wird im Nachgang bereinigt."
   ],
   "metadata": {
    "collapsed": false,
    "pycharm": {
     "name": "#%% md\n"
    }
   }
  },
  {
   "cell_type": "code",
   "execution_count": 38,
   "outputs": [
    {
     "data": {
      "text/plain": "8384"
     },
     "execution_count": 38,
     "metadata": {},
     "output_type": "execute_result"
    }
   ],
   "source": [
    "visas_df[\"employer_city\"].nunique()"
   ],
   "metadata": {
    "collapsed": false,
    "pycharm": {
     "name": "#%%\n"
    }
   }
  },
  {
   "cell_type": "code",
   "execution_count": 39,
   "outputs": [],
   "source": [
    "visas_df[\"employer_city\"] = visas_df[\"employer_city\"].str.upper()"
   ],
   "metadata": {
    "collapsed": false,
    "pycharm": {
     "name": "#%%\n"
    }
   }
  },
  {
   "cell_type": "code",
   "execution_count": 40,
   "outputs": [
    {
     "data": {
      "text/plain": "5826"
     },
     "execution_count": 40,
     "metadata": {},
     "output_type": "execute_result"
    }
   ],
   "source": [
    "visas_df[\"employer_city\"].nunique()"
   ],
   "metadata": {
    "collapsed": false,
    "pycharm": {
     "name": "#%%\n"
    }
   }
  },
  {
   "cell_type": "markdown",
   "source": [
    "## Entfernen von unüblichen Zeichen im Stadtnamen"
   ],
   "metadata": {
    "collapsed": false,
    "pycharm": {
     "name": "#%% md\n"
    }
   }
  },
  {
   "cell_type": "code",
   "execution_count": 41,
   "outputs": [
    {
     "data": {
      "text/plain": "N    64805\nE    58278\nO    40163\nA    35890\nS    34978\nK    30485\nD    25773\nY    20285\nG    10425\nR     9289\nW     9081\nT     8770\nH     8159\nL     5256\nM     4154\nI     2997\nX     2497\nP     1878\nU      323\n,      261\nC      218\nZ      161\nF       84\nB       62\n.       57\n3        4\n0        3\n)        3\n`        2\n9        2\nJ        1\n4        1\nV        1\nQ        1\n7        1\nName: employer_city, dtype: int64"
     },
     "execution_count": 41,
     "metadata": {},
     "output_type": "execute_result"
    }
   ],
   "source": [
    "visas_df[\"employer_city\"].str.strip().str[-1].value_counts()"
   ],
   "metadata": {
    "collapsed": false,
    "pycharm": {
     "name": "#%%\n"
    }
   }
  },
  {
   "cell_type": "markdown",
   "source": [
    "In manchen Zeilen liegen unübliche Zeichen am Ende des Strings vor. Dies können `. oder , sein.\n",
    "Die Funktion `cutOffUnusualCharacters` der cleanup.py bereinigt diese unüblichen Zeichen."
   ],
   "metadata": {
    "collapsed": false,
    "pycharm": {
     "name": "#%% md\n"
    }
   }
  },
  {
   "cell_type": "code",
   "execution_count": 42,
   "outputs": [],
   "source": [
    "visas_df[\"employer_city\"] = cleanup.cutOffUnusualCharacters(visas_df[\"employer_city\"])"
   ],
   "metadata": {
    "collapsed": false,
    "pycharm": {
     "name": "#%%\n"
    }
   }
  },
  {
   "cell_type": "code",
   "execution_count": 43,
   "outputs": [
    {
     "data": {
      "text/plain": "5743"
     },
     "execution_count": 43,
     "metadata": {},
     "output_type": "execute_result"
    }
   ],
   "source": [
    "visas_df[\"employer_city\"].nunique()"
   ],
   "metadata": {
    "collapsed": false,
    "pycharm": {
     "name": "#%%\n"
    }
   }
  },
  {
   "cell_type": "code",
   "execution_count": 44,
   "outputs": [
    {
     "data": {
      "text/plain": "N    64850\nE    58328\nO    40170\nA    35896\nS    35006\nK    30518\nD    25784\nY    20289\nG    10428\nR     9297\nW     9081\nT     8795\nH     8168\nL     5258\nM     4156\nI     2997\nX     2550\nP     1907\nU      323\nC      223\nZ      161\nF       84\nB       62\n3        4\n0        3\n)        3\n9        2\n4        1\nV        1\nJ        1\nQ        1\n7        1\nName: employer_city, dtype: int64"
     },
     "execution_count": 44,
     "metadata": {},
     "output_type": "execute_result"
    }
   ],
   "source": [
    "visas_df[\"employer_city\"].str.strip().str[-1].value_counts()"
   ],
   "metadata": {
    "collapsed": false,
    "pycharm": {
     "name": "#%%\n"
    }
   }
  },
  {
   "cell_type": "markdown",
   "source": [
    "Es soll noch ein kurzer Blick auf die verbleibenden Datensätze mit Satzzeichen im String geworfen werden."
   ],
   "metadata": {
    "collapsed": false,
    "pycharm": {
     "name": "#%% md\n"
    }
   }
  },
  {
   "cell_type": "code",
   "execution_count": 45,
   "outputs": [
    {
     "data": {
      "text/plain": "52"
     },
     "execution_count": 45,
     "metadata": {},
     "output_type": "execute_result"
    }
   ],
   "source": [
    "visas_df[visas_df[\"employer_city\"].str.contains(pat = ',', na=False)].size"
   ],
   "metadata": {
    "collapsed": false,
    "pycharm": {
     "name": "#%%\n"
    }
   }
  },
  {
   "cell_type": "code",
   "execution_count": 46,
   "outputs": [
    {
     "data": {
      "text/plain": "employer_city             \nWASHINGTON, DC                17\nSCHAUMBURG, IL 60173           3\nHICKORY, NC                    3\nMEMPHIS, TN                    3\n, NEW YORK                     3\nANN ARBOR, MI                  2\nKNOXVILLE, TN                  1\nALISO VIEJO, ORANGE COUNTY     1\nCHARLOTTE,RD  CHARLOTTE        1\nENCINO, CA                     1\nFLUSHING, NEW YORK             1\nFLUSHING, NY                   1\nGARDENA, CA                    1\nGMF, BARRIGADA                 1\nVANCOUVER, BC, V6J 1C7         1\nSANTA MONICA, CA               1\nSANTA BARBARA, CA              1\nLONG ISLAND CITY, NY           1\nWASHINGTON, D.C                1\nMIAMI, FL                      1\nN, BILLERICA                   1\nNORTH HOLLYWOOD, CA            1\nNW, WASHINGTON DC              1\nOKLAHOMA CITY, OK              1\nPALISADES PARK, NJ             1\nSAIPAN, CNMI                   1\nLA CANADA, FLINTRIDGE          1\ndtype: int64"
     },
     "execution_count": 46,
     "metadata": {},
     "output_type": "execute_result"
    }
   ],
   "source": [
    "visas_df[visas_df[\"employer_city\"].str.contains(pat = ',', na=False)].value_counts()"
   ],
   "metadata": {
    "collapsed": false,
    "pycharm": {
     "name": "#%%\n"
    }
   }
  },
  {
   "cell_type": "markdown",
   "source": [
    "Es wird ersichtlich, dass auch ein Komma inmitteln des Strings zu Wertverfälschungen führen kann.\n",
    "Aufgrund der geringen Anzahl an Fällen (52 Fälle) wird dies der Einfachkeithalber vernachlässigt."
   ],
   "metadata": {
    "collapsed": false,
    "pycharm": {
     "name": "#%% md\n"
    }
   }
  },
  {
   "cell_type": "markdown",
   "source": [
    "Der Vollständigkeit halber wird auch noch ein Blick auf Strings mit einem enthaltenen . geworfen werden."
   ],
   "metadata": {
    "collapsed": false,
    "pycharm": {
     "name": "#%% md\n"
    }
   }
  },
  {
   "cell_type": "code",
   "execution_count": 47,
   "outputs": [
    {
     "data": {
      "text/plain": "1522"
     },
     "execution_count": 47,
     "metadata": {},
     "output_type": "execute_result"
    }
   ],
   "source": [
    "visas_df[visas_df[\"employer_city\"].str.contains(pat = r'\\.', na=False)].size\n"
   ],
   "metadata": {
    "collapsed": false,
    "pycharm": {
     "name": "#%%\n"
    }
   }
  },
  {
   "cell_type": "code",
   "execution_count": 48,
   "outputs": [
    {
     "name": "stdout",
     "output_type": "stream",
     "text": [
      "employer_city    \n",
      "ST. LOUIS            664\n",
      "ST. PETERSBURG       160\n",
      "ST. PAUL             115\n",
      "FT. LAUDERDALE        79\n",
      "ST. THOMAS            57\n",
      "MT. VERNON            34\n",
      "ST.PAUL               32\n",
      "ST. SIOUX CITY        32\n",
      "MISS. STATE           29\n",
      "MT. PROSPECT          29\n",
      "ST. LOUIS PARK        17\n",
      "MT. PLEASANT          17\n",
      "ST. CHARLES           15\n",
      "MT. LAUREL            15\n",
      "MT. KISCO             12\n",
      "MT.LAUREL             11\n",
      "ST. CLOUD             11\n",
      "FT. DEFIANCE           9\n",
      "ST. CLAIR SHORES       8\n",
      "PORT ST. LUCIE         8\n",
      "ST.LOUIS               7\n",
      "ST. HELENA             7\n",
      "ST. PETERS             7\n",
      "ST. MARTINVILLE        6\n",
      "ST. JOSEPH             6\n",
      "FT. WASHINGTON         6\n",
      "SAULT STE. MARIE       5\n",
      "FT. WORTH              5\n",
      "ST. CROIX FALLS        4\n",
      "WASHINGTON D.C         4\n",
      "ST. ALBANS             4\n",
      "L.I.C                  4\n",
      "ST. MATTHEWS           4\n",
      "ST. GEORGE             4\n",
      "FT. MYERS              4\n",
      "MT. VIEW               3\n",
      "MT. GRETNA             3\n",
      "SO. SAN FRANCISCO      3\n",
      "N. BRUNSWICK           3\n",
      "N. MIAMI BEACH         3\n",
      "E. WEYMOUTH            2\n",
      "NO.PLAINFIELD          2\n",
      "E. HAMPTON             2\n",
      "ST.THOMAS              2\n",
      "N. HOLLYWOOD           2\n",
      "N. LAS VEGAS           2\n",
      "N. MIAMI               2\n",
      "ST. DAVIDS             2\n",
      "FT. SMITH              2\n",
      "FT. MITCHELL           2\n",
      "ST. BONIFACIUS         2\n",
      "S. EL MONTE            2\n",
      "S. PASADENA            2\n",
      "ST. MARY'S CITY        2\n",
      "SAULT STE. MAIRE       2\n",
      "FT. MORGAN             2\n",
      "ST. ROSE               2\n",
      "MT. HOLLY SPRINGS      2\n",
      "ST. FRANCIS            2\n",
      "ST. AUGUSTINE          2\n",
      "E. HANOVER             1\n",
      "E. NORWICH             1\n",
      "MT. HOLLY              1\n",
      "MT. CRAWFORD           1\n",
      "MT. FREEDOM            1\n",
      "E. SYRACUSE            1\n",
      "FT.MYERS               1\n",
      "MT. CLEMENS            1\n",
      "MT. CARMEL             1\n",
      "MT. ARLINGTON          1\n",
      "WASHINGTON, D.C        1\n",
      "MT. JULIET             1\n",
      "ST. CATHARINE          1\n",
      "W. COLLINGSWOOD        1\n",
      "W. BABYLON             1\n",
      "STE. GENEVIEVE         1\n",
      "ST.CLOUD               1\n",
      "ST. PETERBURG          1\n",
      "ST. PETE BEACH         1\n",
      "ST. MICHAELS           1\n",
      "ST. JOHNS              1\n",
      "ST. JOHN               1\n",
      "ST. HELENS             1\n",
      "ST .THOMAS             1\n",
      "MT. STERLING           1\n",
      "SOUTH ST. PAUL         1\n",
      "SO. PLAINFIELD         1\n",
      "S.OZONE PARK           1\n",
      "NO. POLE               1\n",
      "NO. CONWAY             1\n",
      "N. DINWIDDIE           1\n",
      "N. CHARLESTON          1\n",
      "N. BETHESDA            1\n",
      "N. AMITYVILLE          1\n",
      "MT.KISCO               1\n",
      "BAY ST. LOUIS          1\n",
      "dtype: int64\n"
     ]
    }
   ],
   "source": [
    "modules.print_full(visas_df[visas_df[\"employer_city\"].str.contains(pat = r'\\.', na=False)].value_counts())\n"
   ],
   "metadata": {
    "collapsed": false,
    "pycharm": {
     "name": "#%%\n"
    }
   }
  },
  {
   "cell_type": "code",
   "execution_count": 48,
   "outputs": [],
   "source": [],
   "metadata": {
    "collapsed": false,
    "pycharm": {
     "name": "#%%\n"
    }
   }
  }
 ],
 "metadata": {
  "kernelspec": {
   "display_name": "Python 3",
   "language": "python",
   "name": "python3"
  },
  "language_info": {
   "codemirror_mode": {
    "name": "ipython",
    "version": 2
   },
   "file_extension": ".py",
   "mimetype": "text/x-python",
   "name": "python",
   "nbconvert_exporter": "python",
   "pygments_lexer": "ipython2",
   "version": "2.7.6"
  }
 },
 "nbformat": 4,
 "nbformat_minor": 0
}