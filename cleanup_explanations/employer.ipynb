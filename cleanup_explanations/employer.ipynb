{
 "cells": [
  {
   "cell_type": "code",
   "execution_count": 171,
   "metadata": {
    "collapsed": true
   },
   "outputs": [
    {
     "data": {
      "text/plain": "employer_city    object\nemployer_name    object\ndtype: object"
     },
     "execution_count": 171,
     "metadata": {},
     "output_type": "execute_result"
    }
   ],
   "source": [
    "\n",
    "import pandas as pd\n",
    "import cleanup\n",
    "import modules\n",
    "\n",
    "col_list = [\"employer_name\", \"employer_city\"]\n",
    "visas_df = pd.read_csv('../data/us_perm_visas.csv', usecols=col_list)\n",
    "\n",
    "visas_df.dtypes"
   ]
  },
  {
   "cell_type": "code",
   "execution_count": 172,
   "outputs": [
    {
     "data": {
      "text/plain": "COGNIZANT TECHNOLOGY SOLUTIONS US CORPORATION        12081\nMICROSOFT CORPORATION                                 8369\nINTEL CORPORATION                                     6564\nGOOGLE INC.                                           5165\nAMAZON CORPORATE LLC                                  3719\n                                                     ...  \nCOUNTRY CLUB CLEANERS                                    1\nSSM CARDINAL GLENNON CHILDREN'S HOSPITAL                 1\nBOND ST BALTIMORE LLC                                    1\nBREAD AND CHOCOLATE, INC. T/A OLD TOWN BAKING CO.        1\nPOP, INC.                                                1\nName: employer_name, Length: 71709, dtype: int64"
     },
     "execution_count": 172,
     "metadata": {},
     "output_type": "execute_result"
    }
   ],
   "source": [
    "visas_df[\"employer_name\"].value_counts()"
   ],
   "metadata": {
    "collapsed": false,
    "pycharm": {
     "name": "#%%\n"
    }
   }
  },
  {
   "cell_type": "code",
   "execution_count": 173,
   "outputs": [],
   "source": [
    "visas_df[\"employer_name\"] = visas_df[\"employer_name\"].str.upper()"
   ],
   "metadata": {
    "collapsed": false,
    "pycharm": {
     "name": "#%%\n"
    }
   }
  },
  {
   "cell_type": "code",
   "execution_count": 174,
   "outputs": [
    {
     "data": {
      "text/plain": "COGNIZANT TECHNOLOGY SOLUTIONS US CORPORATION    12081\nMICROSOFT CORPORATION                             8369\nINTEL CORPORATION                                 6564\nGOOGLE INC.                                       5165\nAMAZON CORPORATE LLC                              3719\n                                                 ...  \nPRACTICAL COMPUTER APPLICATIONS, INC.                1\nAVIATECH, LLC                                        1\nATRIUM CONSTRUCTION LLC                              1\nPYBRUM & CO., LLP                                    1\nJENNAN COMPREHENSIVE MEDICAL, P.C                    1\nName: employer_name, Length: 70846, dtype: int64"
     },
     "execution_count": 174,
     "metadata": {},
     "output_type": "execute_result"
    }
   ],
   "source": [
    "visas_df[\"employer_name\"].value_counts()"
   ],
   "metadata": {
    "collapsed": false,
    "pycharm": {
     "name": "#%%\n"
    }
   }
  },
  {
   "cell_type": "markdown",
   "source": [
    "Some cells were lowercase. Thanks to uppercase 71709-70846 = 863 dublicate values could be avoided.\n"
   ],
   "metadata": {
    "collapsed": false,
    "pycharm": {
     "name": "#%% md\n"
    }
   }
  },
  {
   "cell_type": "code",
   "execution_count": 175,
   "outputs": [
    {
     "name": "stdout",
     "output_type": "stream",
     "text": [
      "COGNIZANT TECHNOLOGY SOLUTIONS US CORPORATION                        12081\n",
      "MICROSOFT CORPORATION                                                 8369\n",
      "INTEL CORPORATION                                                     6564\n",
      "GOOGLE INC.                                                           5165\n",
      "AMAZON CORPORATE LLC                                                  3719\n",
      "INFOSYS LTD.                                                          2717\n",
      "CISCO SYSTEMS, INC.                                                   2634\n",
      "ORACLE AMERICA, INC.                                                  2584\n",
      "APPLE INC.                                                            2583\n",
      "QUALCOMM TECHNOLOGIES INC.                                            1710\n",
      "DELOITTE CONSULTING LLP                                               1698\n",
      "FACEBOOK, INC.                                                        1651\n",
      "HCL AMERICA INC.                                                      1525\n",
      "YAHOO! INC.                                                           1458\n",
      "ERNST & YOUNG U.S. LLP                                                1341\n",
      "WIPRO LIMITED                                                         1189\n",
      "HOUSE OF RAEFORD FARMS, INC.                                          1174\n",
      "JP MORGAN CHASE & CO                                                  1117\n",
      "IBM CORPORATION                                                       1047\n",
      "IGATE TECHNOLOGIES, INC.                                              1025\n",
      "BROADCOM CORPORATION                                                   968\n",
      "DEFENDER SERVICES, INC.                                                924\n",
      "CAPGEMINI FINANCIAL SERVICES USA INC.                                  896\n",
      "SALESFORCE.COM                                                         893\n",
      "EBAY INC.                                                              885\n",
      "VMWARE, INC.                                                           878\n",
      "BLOOMBERG L.P.                                                         863\n",
      "RANDSTAD TECHNOLOGIES, LP                                              839\n",
      "KFORCE INC.                                                            808\n",
      "ERICSSON INC.                                                          804\n",
      "CUMMINS INC.                                                           782\n",
      "EMC CORPORATION                                                        745\n",
      "PRICEWATERHOUSECOOPERS                                                 744\n",
      "BANK OF AMERICA                                                        744\n",
      "NVIDIA CORPORATION                                                     743\n",
      "PAYPAL, INC.                                                           727\n",
      "MASTECH, INC., A MASTECH HOLDINGS, INC. COMPANY                        719\n",
      "LINKEDIN CORPORATION                                                   711\n",
      "CASE FARMS PROCESSING INC.                                             633\n",
      "WAL-MART ASSOCIATES, INC.                                              629\n",
      "KOCH FOODS OF ALABAMA, LLC                                             613\n",
      "NORMAN W. FRIES, INC. D/B/A CLAXTON POULTRY FARMS                      613\n",
      "CAPITAL ONE SERVICES, LLC                                              593\n",
      "DELOITTE & TOUCHE LLP                                                  576\n",
      "HOUSE OF RAEFORD FARMS, INC                                            567\n",
      "COMPUNNEL SOFTWARE GROUP, INC.                                         551\n",
      "VERIZON COMMUNICATIONS INC., & ALL ITS SUBSIDIARIES & AFFILIATES       547\n",
      "EPIC SYSTEMS CORPORATION                                               518\n",
      "MPHASIS CORPORATION                                                    511\n",
      "WAYNE FARMS LLC                                                        511\n",
      "ABBYLAND FOODS, INC                                                    502\n",
      "FMR LLC                                                                502\n",
      "SYMANTEC CORPORATION                                                   500\n",
      "HEWLETT-PACKARD COMPANY                                                496\n",
      "KOCH FOODS OF CINCINNATI LLC                                           485\n",
      "V-SOFT CONSULTING GROUP, INC.                                          482\n",
      "NTT DATA, INC                                                          478\n",
      "NETAPP, INC.                                                           474\n",
      "KPMG LLP                                                               474\n",
      "CERNER CORPORATION                                                     470\n",
      "MICRON TECHNOLOGY, INC.                                                465\n",
      "GOLDMAN SACHS & CO.                                                    463\n",
      "ADOBE SYSTEMS INCORPORATED                                             458\n",
      "NESS USA, INC.                                                         451\n",
      "INFOSYS TECHNOLOGIES LIMITED                                           449\n",
      "LARSEN & TOUBRO INFOTECH LIMITED                                       442\n",
      "TEXAS INSTRUMENTS INCORPORATED                                         441\n",
      "HARRISON POULTRY                                                       438\n",
      "HTC GLOBAL SERVICES, INC.                                              435\n",
      "GEORGE'S PROCESSING, INC.                                              430\n",
      "MUY HAMBURGER PARTNERS, LLC                                            426\n",
      "SYNOPSYS, INC.                                                         423\n",
      "MUY PIZZA HOUSTON, LLC                                                 420\n",
      "DALLAS INDEPENDENT SCHOOL DISTRICT                                     401\n",
      "INTUIT                                                                 397\n",
      "CSC COVANSYS CORPORATION                                               396\n",
      "QUALCOMM, INC.                                                         396\n",
      "TECH MAHINDRA (AMERICAS) INC., (FORMERLY MBT INTERNATIONAL, INC.)      395\n",
      "EPAM SYSTEMS, INC                                                      390\n",
      "3I INFOTECH INC.                                                       385\n",
      "AMDOCS INC.                                                            382\n",
      "QUALCOMM ATHEROS, INC.                                                 382\n",
      "MORGAN STANLEY & CO. LLC                                               377\n",
      "HCL GLOBAL SYSTEMS INC                                                 374\n",
      "TWITTER, INC.                                                          372\n",
      "ALCATEL LUCENT USA, INC.                                               372\n",
      "INTEL MOBILE COMMUNICATIONS, INC.                                      371\n",
      "POPULUS GROUP, LLC                                                     368\n",
      "CAPGEMINI U.S. LLC                                                     362\n",
      "TECHNOSOFT CORPORATION                                                 362\n",
      "JUNIPER NETWORKS                                                       357\n",
      "MCKINSEY & COMPANY, INC UNITED STATES                                  351\n",
      "MANHATTAN ASSOCIATES, INC.                                             346\n",
      "HEXAWARE TECHNOLOGIES, INC.                                            345\n",
      "MARVELL SEMICONDUCTOR INC                                              342\n",
      "GLOBALFOUNDRIES U.S. INC.                                              339\n",
      "BROCADE COMMUNICATIONS SYSTEMS, INC.                                   338\n",
      "MERRILL LYNCH                                                          333\n",
      "AMERICAN EXPRESS TRAVEL RELATED SERVICES                               332\n",
      "THE MATHWORKS, INC.                                                    327\n",
      "Name: employer_name, dtype: int64\n"
     ]
    }
   ],
   "source": [
    "modules.print_full(visas_df[\"employer_name\"].value_counts()[:100])"
   ],
   "metadata": {
    "collapsed": false,
    "pycharm": {
     "name": "#%%\n"
    }
   }
  },
  {
   "cell_type": "markdown",
   "source": [
    "# employer_city\n"
   ],
   "metadata": {
    "collapsed": false,
    "pycharm": {
     "name": "#%% md\n"
    }
   }
  },
  {
   "cell_type": "code",
   "execution_count": 176,
   "outputs": [
    {
     "data": {
      "text/plain": "NEW YORK                    16730\nCOLLEGE STATION             12118\nSANTA CLARA                 11113\nSAN JOSE                     9349\nREDMOND                      8804\n                            ...  \nGORHAM                          1\nBoyd                            1\nCOLONIAL                        1\nSPRINGFIEL                      1\nCORAL GABLES (AKA MIAMI)        1\nName: employer_city, Length: 8384, dtype: int64"
     },
     "execution_count": 176,
     "metadata": {},
     "output_type": "execute_result"
    }
   ],
   "source": [
    "visas_df[\"employer_city\"].value_counts()"
   ],
   "metadata": {
    "collapsed": false,
    "pycharm": {
     "name": "#%%\n"
    }
   }
  },
  {
   "cell_type": "code",
   "execution_count": 177,
   "outputs": [],
   "source": [
    "visas_df[\"employer_city\"] = visas_df[\"employer_city\"].str.upper()"
   ],
   "metadata": {
    "collapsed": false,
    "pycharm": {
     "name": "#%%\n"
    }
   }
  },
  {
   "cell_type": "code",
   "execution_count": 178,
   "outputs": [
    {
     "data": {
      "text/plain": "NEW YORK                    17989\nCOLLEGE STATION             12121\nSANTA CLARA                 11195\nSAN JOSE                     9503\nREDMOND                      8821\n                            ...  \nRIVER FOREST                    1\nBELLEVILE                       1\nROCKTON                         1\nGALESVILLE                      1\nCORAL GABLES (AKA MIAMI)        1\nName: employer_city, Length: 5826, dtype: int64"
     },
     "execution_count": 178,
     "metadata": {},
     "output_type": "execute_result"
    }
   ],
   "source": [
    "visas_df[\"employer_city\"].value_counts()"
   ],
   "metadata": {
    "collapsed": false,
    "pycharm": {
     "name": "#%%\n"
    }
   }
  },
  {
   "cell_type": "markdown",
   "source": [
    "## Entfernen von \",\" am Ende des Strings"
   ],
   "metadata": {
    "collapsed": false,
    "pycharm": {
     "name": "#%% md\n"
    }
   }
  },
  {
   "cell_type": "code",
   "execution_count": 179,
   "outputs": [
    {
     "data": {
      "text/plain": "N    64805\nE    58278\nO    40163\nA    35890\nS    34978\nK    30485\nD    25773\nY    20285\nG    10425\nR     9289\nW     9081\nT     8770\nH     8159\nL     5256\nM     4154\nI     2997\nX     2497\nP     1878\nU      323\n,      261\nC      218\nZ      161\nF       84\nB       62\n.       57\n3        4\n)        3\n0        3\n9        2\n`        2\nV        1\n4        1\nQ        1\n7        1\nJ        1\nName: employer_city, dtype: int64"
     },
     "execution_count": 179,
     "metadata": {},
     "output_type": "execute_result"
    }
   ],
   "source": [
    "\n",
    "visas_df[\"employer_city\"].str.strip().str[-1].value_counts()"
   ],
   "metadata": {
    "collapsed": false,
    "pycharm": {
     "name": "#%%\n"
    }
   }
  },
  {
   "cell_type": "markdown",
   "source": [
    "Die Zeichen \",\", \".\" und \"`\" müssen bereinigt werden.\n"
   ],
   "metadata": {
    "collapsed": false,
    "pycharm": {
     "name": "#%% md\n"
    }
   }
  },
  {
   "cell_type": "code",
   "execution_count": 180,
   "outputs": [
    {
     "data": {
      "text/plain": "           employer_city                           employer_name\n152             GARDENA,  MINAKO AMERICA CORPORATION, DBA: MINCO\n281              NORMAL,                  ALABAMA A&M UNIVERSITY\n348           SCARSDALE,          SUNNINGDALE COUNTRY CLUB, INC.\n3930      WASHINGTON, DC             SARGENT & KIM CLEANER, INC.\n3983      WASHINGTON, DC                           HL YOON, MDPC\n...                  ...                                     ...\n363922  NORTH BRUNSWICK,                          TECHMATRIX INC\n364961    WASHINGTON, DC                    NEW SEVEN MARKET INC\n368683      LOS ANGELES,       FIRST BAPTIST CHURCH OF HOLLYWOOD\n371056           BOSTON,                             CRANE & CO.\n372889    NEW KNOXVILLE,                     HOGE LUMBER COMPANY\n\n[313 rows x 2 columns]",
      "text/html": "<div>\n<style scoped>\n    .dataframe tbody tr th:only-of-type {\n        vertical-align: middle;\n    }\n\n    .dataframe tbody tr th {\n        vertical-align: top;\n    }\n\n    .dataframe thead th {\n        text-align: right;\n    }\n</style>\n<table border=\"1\" class=\"dataframe\">\n  <thead>\n    <tr style=\"text-align: right;\">\n      <th></th>\n      <th>employer_city</th>\n      <th>employer_name</th>\n    </tr>\n  </thead>\n  <tbody>\n    <tr>\n      <th>152</th>\n      <td>GARDENA,</td>\n      <td>MINAKO AMERICA CORPORATION, DBA: MINCO</td>\n    </tr>\n    <tr>\n      <th>281</th>\n      <td>NORMAL,</td>\n      <td>ALABAMA A&amp;M UNIVERSITY</td>\n    </tr>\n    <tr>\n      <th>348</th>\n      <td>SCARSDALE,</td>\n      <td>SUNNINGDALE COUNTRY CLUB, INC.</td>\n    </tr>\n    <tr>\n      <th>3930</th>\n      <td>WASHINGTON, DC</td>\n      <td>SARGENT &amp; KIM CLEANER, INC.</td>\n    </tr>\n    <tr>\n      <th>3983</th>\n      <td>WASHINGTON, DC</td>\n      <td>HL YOON, MDPC</td>\n    </tr>\n    <tr>\n      <th>...</th>\n      <td>...</td>\n      <td>...</td>\n    </tr>\n    <tr>\n      <th>363922</th>\n      <td>NORTH BRUNSWICK,</td>\n      <td>TECHMATRIX INC</td>\n    </tr>\n    <tr>\n      <th>364961</th>\n      <td>WASHINGTON, DC</td>\n      <td>NEW SEVEN MARKET INC</td>\n    </tr>\n    <tr>\n      <th>368683</th>\n      <td>LOS ANGELES,</td>\n      <td>FIRST BAPTIST CHURCH OF HOLLYWOOD</td>\n    </tr>\n    <tr>\n      <th>371056</th>\n      <td>BOSTON,</td>\n      <td>CRANE &amp; CO.</td>\n    </tr>\n    <tr>\n      <th>372889</th>\n      <td>NEW KNOXVILLE,</td>\n      <td>HOGE LUMBER COMPANY</td>\n    </tr>\n  </tbody>\n</table>\n<p>313 rows × 2 columns</p>\n</div>"
     },
     "execution_count": 180,
     "metadata": {},
     "output_type": "execute_result"
    }
   ],
   "source": [
    "visas_df[visas_df[\"employer_city\"].str.contains(pat = ',', na=False)]"
   ],
   "metadata": {
    "collapsed": false,
    "pycharm": {
     "name": "#%%\n"
    }
   }
  },
  {
   "cell_type": "code",
   "execution_count": 181,
   "outputs": [
    {
     "data": {
      "text/plain": "           employer_city                                employer_name\n175550         ST. LOUIS                             MONSANTO COMPANY\n266871         ST. LOUIS  WORLD WIDE TECHNOLOGY HOLDING COMPANY, INC.\n122159         ST. LOUIS                         GODFREY & ASSOCIATES\n245292         ST. LOUIS                    ENTERPRISE HOLDINGS, INC.\n319855           ST.PAUL                                  ECOLAB INC.\n88054           ST. PAUL                                   3M COMPANY\n25563     ST. LOUIS PARK  IS3C, INC. DBA: SELECT SOURCE INTERNATIONAL\n88032          FT. SMITH            GGNSC ADMINISTRATIVE SERVICES LLC\n244320          ST. ROSE                     KONGSBERG MARITIME, INC.\n199796         ST. LOUIS                    BUNGE NORTH AMERICA, INC.\n25160     FT. LAUDERDALE            SCANDINAVIAN BOILER SERVICE, INC.\n180696  ST. CLAIR SHORES                           SOUTH LAKE SCHOOLS\n65470     FT. LAUDERDALE          SIGNATURE COMMERCIAL SOLUTIONS, LLC\n163370    FT. LAUDERDALE               JARLIN CABINET DISTRIBUTOR LLC\n216549        MT. VERNON            CROSSROADS PHYSICIANS CORPORATION\n271772          ST. PAUL                          H.B. FULLER COMPANY\n254930         ST. LOUIS                 CHARTER COMMUNICATIONS, INC.\n372270        ST. JOSEPH            HEARTLAND REGIONAL MEDICAL CENTER\n35989          MT.LAUREL                 ARCH INTERNATIONAL GROUP INC\n51753          ST. LOUIS                              PERFICIENT, INC",
      "text/html": "<div>\n<style scoped>\n    .dataframe tbody tr th:only-of-type {\n        vertical-align: middle;\n    }\n\n    .dataframe tbody tr th {\n        vertical-align: top;\n    }\n\n    .dataframe thead th {\n        text-align: right;\n    }\n</style>\n<table border=\"1\" class=\"dataframe\">\n  <thead>\n    <tr style=\"text-align: right;\">\n      <th></th>\n      <th>employer_city</th>\n      <th>employer_name</th>\n    </tr>\n  </thead>\n  <tbody>\n    <tr>\n      <th>175550</th>\n      <td>ST. LOUIS</td>\n      <td>MONSANTO COMPANY</td>\n    </tr>\n    <tr>\n      <th>266871</th>\n      <td>ST. LOUIS</td>\n      <td>WORLD WIDE TECHNOLOGY HOLDING COMPANY, INC.</td>\n    </tr>\n    <tr>\n      <th>122159</th>\n      <td>ST. LOUIS</td>\n      <td>GODFREY &amp; ASSOCIATES</td>\n    </tr>\n    <tr>\n      <th>245292</th>\n      <td>ST. LOUIS</td>\n      <td>ENTERPRISE HOLDINGS, INC.</td>\n    </tr>\n    <tr>\n      <th>319855</th>\n      <td>ST.PAUL</td>\n      <td>ECOLAB INC.</td>\n    </tr>\n    <tr>\n      <th>88054</th>\n      <td>ST. PAUL</td>\n      <td>3M COMPANY</td>\n    </tr>\n    <tr>\n      <th>25563</th>\n      <td>ST. LOUIS PARK</td>\n      <td>IS3C, INC. DBA: SELECT SOURCE INTERNATIONAL</td>\n    </tr>\n    <tr>\n      <th>88032</th>\n      <td>FT. SMITH</td>\n      <td>GGNSC ADMINISTRATIVE SERVICES LLC</td>\n    </tr>\n    <tr>\n      <th>244320</th>\n      <td>ST. ROSE</td>\n      <td>KONGSBERG MARITIME, INC.</td>\n    </tr>\n    <tr>\n      <th>199796</th>\n      <td>ST. LOUIS</td>\n      <td>BUNGE NORTH AMERICA, INC.</td>\n    </tr>\n    <tr>\n      <th>25160</th>\n      <td>FT. LAUDERDALE</td>\n      <td>SCANDINAVIAN BOILER SERVICE, INC.</td>\n    </tr>\n    <tr>\n      <th>180696</th>\n      <td>ST. CLAIR SHORES</td>\n      <td>SOUTH LAKE SCHOOLS</td>\n    </tr>\n    <tr>\n      <th>65470</th>\n      <td>FT. LAUDERDALE</td>\n      <td>SIGNATURE COMMERCIAL SOLUTIONS, LLC</td>\n    </tr>\n    <tr>\n      <th>163370</th>\n      <td>FT. LAUDERDALE</td>\n      <td>JARLIN CABINET DISTRIBUTOR LLC</td>\n    </tr>\n    <tr>\n      <th>216549</th>\n      <td>MT. VERNON</td>\n      <td>CROSSROADS PHYSICIANS CORPORATION</td>\n    </tr>\n    <tr>\n      <th>271772</th>\n      <td>ST. PAUL</td>\n      <td>H.B. FULLER COMPANY</td>\n    </tr>\n    <tr>\n      <th>254930</th>\n      <td>ST. LOUIS</td>\n      <td>CHARTER COMMUNICATIONS, INC.</td>\n    </tr>\n    <tr>\n      <th>372270</th>\n      <td>ST. JOSEPH</td>\n      <td>HEARTLAND REGIONAL MEDICAL CENTER</td>\n    </tr>\n    <tr>\n      <th>35989</th>\n      <td>MT.LAUREL</td>\n      <td>ARCH INTERNATIONAL GROUP INC</td>\n    </tr>\n    <tr>\n      <th>51753</th>\n      <td>ST. LOUIS</td>\n      <td>PERFICIENT, INC</td>\n    </tr>\n  </tbody>\n</table>\n</div>"
     },
     "execution_count": 181,
     "metadata": {},
     "output_type": "execute_result"
    }
   ],
   "source": [
    "visas_df[visas_df[\"employer_city\"].str.contains(pat = r'\\.', na=False)].sample(20)"
   ],
   "metadata": {
    "collapsed": false,
    "pycharm": {
     "name": "#%%\n"
    }
   }
  },
  {
   "cell_type": "code",
   "execution_count": 182,
   "outputs": [
    {
     "data": {
      "text/plain": "         employer_city         employer_name\n74345      NORTHRIDGE`   CALIFORNIA RECYCLES\n332126  STATEN ISLAND`  PHIL AM KUSINA, INC.",
      "text/html": "<div>\n<style scoped>\n    .dataframe tbody tr th:only-of-type {\n        vertical-align: middle;\n    }\n\n    .dataframe tbody tr th {\n        vertical-align: top;\n    }\n\n    .dataframe thead th {\n        text-align: right;\n    }\n</style>\n<table border=\"1\" class=\"dataframe\">\n  <thead>\n    <tr style=\"text-align: right;\">\n      <th></th>\n      <th>employer_city</th>\n      <th>employer_name</th>\n    </tr>\n  </thead>\n  <tbody>\n    <tr>\n      <th>74345</th>\n      <td>NORTHRIDGE`</td>\n      <td>CALIFORNIA RECYCLES</td>\n    </tr>\n    <tr>\n      <th>332126</th>\n      <td>STATEN ISLAND`</td>\n      <td>PHIL AM KUSINA, INC.</td>\n    </tr>\n  </tbody>\n</table>\n</div>"
     },
     "execution_count": 182,
     "metadata": {},
     "output_type": "execute_result"
    }
   ],
   "source": [
    "visas_df[visas_df[\"employer_city\"].str.contains(pat = '`', na=False)]"
   ],
   "metadata": {
    "collapsed": false,
    "pycharm": {
     "name": "#%%\n"
    }
   }
  },
  {
   "cell_type": "code",
   "execution_count": 183,
   "outputs": [],
   "source": [
    "\n",
    "visas_df[\"employer_city\"] = visas_df[\"employer_city\"].str.rstrip(',.`')"
   ],
   "metadata": {
    "collapsed": false,
    "pycharm": {
     "name": "#%%\n"
    }
   }
  },
  {
   "cell_type": "code",
   "execution_count": 184,
   "outputs": [
    {
     "data": {
      "text/plain": "N    64850\nE    58328\nO    40170\nA    35896\nS    35006\nK    30518\nD    25784\nY    20289\nG    10428\nR     9297\nW     9081\nT     8795\nH     8168\nL     5258\nM     4156\nI     2997\nX     2550\nP     1907\nU      323\nC      223\nZ      161\nF       84\nB       62\n3        4\n0        3\n)        3\n9        2\n7        1\n4        1\nV        1\nQ        1\nJ        1\nName: employer_city, dtype: int64"
     },
     "execution_count": 184,
     "metadata": {},
     "output_type": "execute_result"
    }
   ],
   "source": [
    "\n",
    "\n",
    "visas_df[\"employer_city\"].str.strip().str[-1].value_counts()"
   ],
   "metadata": {
    "collapsed": false,
    "pycharm": {
     "name": "#%%\n"
    }
   }
  },
  {
   "cell_type": "code",
   "execution_count": 184,
   "outputs": [],
   "source": [],
   "metadata": {
    "collapsed": false,
    "pycharm": {
     "name": "#%%\n"
    }
   }
  },
  {
   "cell_type": "code",
   "execution_count": 184,
   "outputs": [],
   "source": [],
   "metadata": {
    "collapsed": false,
    "pycharm": {
     "name": "#%%\n"
    }
   }
  },
  {
   "cell_type": "code",
   "execution_count": 184,
   "outputs": [],
   "source": [],
   "metadata": {
    "collapsed": false,
    "pycharm": {
     "name": "#%%\n"
    }
   }
  }
 ],
 "metadata": {
  "kernelspec": {
   "display_name": "Python 3",
   "language": "python",
   "name": "python3"
  },
  "language_info": {
   "codemirror_mode": {
    "name": "ipython",
    "version": 2
   },
   "file_extension": ".py",
   "mimetype": "text/x-python",
   "name": "python",
   "nbconvert_exporter": "python",
   "pygments_lexer": "ipython2",
   "version": "2.7.6"
  }
 },
 "nbformat": 4,
 "nbformat_minor": 0
}