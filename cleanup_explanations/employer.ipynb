{
 "cells": [
  {
   "cell_type": "code",
   "execution_count": 1,
   "metadata": {
    "collapsed": true
   },
   "outputs": [
    {
     "data": {
      "text/plain": "employer_name    object\ndtype: object"
     },
     "execution_count": 1,
     "metadata": {},
     "output_type": "execute_result"
    }
   ],
   "source": [
    "\n",
    "import pandas as pd\n",
    "import cleanup\n",
    "import modules\n",
    "\n",
    "col_list = [\"employer_name\"]\n",
    "visas_df = pd.read_csv('../data/us_perm_visas.csv', usecols=col_list)\n",
    "\n",
    "visas_df.dtypes"
   ]
  },
  {
   "cell_type": "code",
   "execution_count": 7,
   "outputs": [
    {
     "data": {
      "text/plain": "COGNIZANT TECHNOLOGY SOLUTIONS US CORPORATION    12081\nMICROSOFT CORPORATION                             8369\nINTEL CORPORATION                                 6564\nGOOGLE INC.                                       5165\nAMAZON CORPORATE LLC                              3719\n                                                 ...  \nTemple Anshe Amunim                                  1\nOMAR'S FINANCIAL CONSULTANTS INC                     1\nCONTINENTAL MOTORS, INC.                             1\nELITE COIL TUBING SOLUTIONS, LLC                     1\nRichmond Avenue Gardens Inc.                         1\nName: employer_name, Length: 71709, dtype: int64"
     },
     "execution_count": 7,
     "metadata": {},
     "output_type": "execute_result"
    }
   ],
   "source": [
    "visas_df[\"employer_name\"].value_counts()"
   ],
   "metadata": {
    "collapsed": false,
    "pycharm": {
     "name": "#%%\n"
    }
   }
  },
  {
   "cell_type": "code",
   "execution_count": 8,
   "outputs": [],
   "source": [
    "visas_df[\"employer_name\"] = visas_df[\"employer_name\"].str.upper()"
   ],
   "metadata": {
    "collapsed": false,
    "pycharm": {
     "name": "#%%\n"
    }
   }
  },
  {
   "cell_type": "code",
   "execution_count": 12,
   "outputs": [
    {
     "data": {
      "text/plain": "COGNIZANT TECHNOLOGY SOLUTIONS US CORPORATION    12081\nMICROSOFT CORPORATION                             8369\nINTEL CORPORATION                                 6564\nGOOGLE INC.                                       5165\nAMAZON CORPORATE LLC                              3719\n                                                 ...  \nKIZER FARMS                                          1\nOMAR'S FINANCIAL CONSULTANTS INC                     1\nCONTINENTAL MOTORS, INC.                             1\nELITE COIL TUBING SOLUTIONS, LLC                     1\nCHINAKA'S PHARMACY, INC.                             1\nName: employer_name, Length: 70846, dtype: int64"
     },
     "execution_count": 12,
     "metadata": {},
     "output_type": "execute_result"
    }
   ],
   "source": [
    "visas_df[\"employer_name\"].value_counts()"
   ],
   "metadata": {
    "collapsed": false,
    "pycharm": {
     "name": "#%%\n"
    }
   }
  },
  {
   "cell_type": "markdown",
   "source": [
    "Some cells were lowercase. Thanks to uppercase 71709-70846 = 863 dublicate values could be avoided.\n"
   ],
   "metadata": {
    "collapsed": false,
    "pycharm": {
     "name": "#%% md\n"
    }
   }
  },
  {
   "cell_type": "code",
   "execution_count": 19,
   "outputs": [
    {
     "name": "stdout",
     "output_type": "stream",
     "text": [
      "COGNIZANT TECHNOLOGY SOLUTIONS US CORPORATION                        12081\n",
      "MICROSOFT CORPORATION                                                 8369\n",
      "INTEL CORPORATION                                                     6564\n",
      "GOOGLE INC.                                                           5165\n",
      "AMAZON CORPORATE LLC                                                  3719\n",
      "INFOSYS LTD.                                                          2717\n",
      "CISCO SYSTEMS, INC.                                                   2634\n",
      "ORACLE AMERICA, INC.                                                  2584\n",
      "APPLE INC.                                                            2583\n",
      "QUALCOMM TECHNOLOGIES INC.                                            1710\n",
      "DELOITTE CONSULTING LLP                                               1698\n",
      "FACEBOOK, INC.                                                        1651\n",
      "HCL AMERICA INC.                                                      1525\n",
      "YAHOO! INC.                                                           1458\n",
      "ERNST & YOUNG U.S. LLP                                                1341\n",
      "WIPRO LIMITED                                                         1189\n",
      "HOUSE OF RAEFORD FARMS, INC.                                          1174\n",
      "JP MORGAN CHASE & CO                                                  1117\n",
      "IBM CORPORATION                                                       1047\n",
      "IGATE TECHNOLOGIES, INC.                                              1025\n",
      "BROADCOM CORPORATION                                                   968\n",
      "DEFENDER SERVICES, INC.                                                924\n",
      "CAPGEMINI FINANCIAL SERVICES USA INC.                                  896\n",
      "SALESFORCE.COM                                                         893\n",
      "EBAY INC.                                                              885\n",
      "VMWARE, INC.                                                           878\n",
      "BLOOMBERG L.P.                                                         863\n",
      "RANDSTAD TECHNOLOGIES, LP                                              839\n",
      "KFORCE INC.                                                            808\n",
      "ERICSSON INC.                                                          804\n",
      "CUMMINS INC.                                                           782\n",
      "EMC CORPORATION                                                        745\n",
      "BANK OF AMERICA                                                        744\n",
      "PRICEWATERHOUSECOOPERS                                                 744\n",
      "NVIDIA CORPORATION                                                     743\n",
      "PAYPAL, INC.                                                           727\n",
      "MASTECH, INC., A MASTECH HOLDINGS, INC. COMPANY                        719\n",
      "LINKEDIN CORPORATION                                                   711\n",
      "CASE FARMS PROCESSING INC.                                             633\n",
      "WAL-MART ASSOCIATES, INC.                                              629\n",
      "KOCH FOODS OF ALABAMA, LLC                                             613\n",
      "NORMAN W. FRIES, INC. D/B/A CLAXTON POULTRY FARMS                      613\n",
      "CAPITAL ONE SERVICES, LLC                                              593\n",
      "DELOITTE & TOUCHE LLP                                                  576\n",
      "HOUSE OF RAEFORD FARMS, INC                                            567\n",
      "COMPUNNEL SOFTWARE GROUP, INC.                                         551\n",
      "VERIZON COMMUNICATIONS INC., & ALL ITS SUBSIDIARIES & AFFILIATES       547\n",
      "EPIC SYSTEMS CORPORATION                                               518\n",
      "MPHASIS CORPORATION                                                    511\n",
      "WAYNE FARMS LLC                                                        511\n",
      "ABBYLAND FOODS, INC                                                    502\n",
      "FMR LLC                                                                502\n",
      "SYMANTEC CORPORATION                                                   500\n",
      "HEWLETT-PACKARD COMPANY                                                496\n",
      "KOCH FOODS OF CINCINNATI LLC                                           485\n",
      "V-SOFT CONSULTING GROUP, INC.                                          482\n",
      "NTT DATA, INC                                                          478\n",
      "NETAPP, INC.                                                           474\n",
      "KPMG LLP                                                               474\n",
      "CERNER CORPORATION                                                     470\n",
      "MICRON TECHNOLOGY, INC.                                                465\n",
      "GOLDMAN SACHS & CO.                                                    463\n",
      "ADOBE SYSTEMS INCORPORATED                                             458\n",
      "NESS USA, INC.                                                         451\n",
      "INFOSYS TECHNOLOGIES LIMITED                                           449\n",
      "LARSEN & TOUBRO INFOTECH LIMITED                                       442\n",
      "TEXAS INSTRUMENTS INCORPORATED                                         441\n",
      "HARRISON POULTRY                                                       438\n",
      "HTC GLOBAL SERVICES, INC.                                              435\n",
      "GEORGE'S PROCESSING, INC.                                              430\n",
      "MUY HAMBURGER PARTNERS, LLC                                            426\n",
      "SYNOPSYS, INC.                                                         423\n",
      "MUY PIZZA HOUSTON, LLC                                                 420\n",
      "DALLAS INDEPENDENT SCHOOL DISTRICT                                     401\n",
      "INTUIT                                                                 397\n",
      "QUALCOMM, INC.                                                         396\n",
      "CSC COVANSYS CORPORATION                                               396\n",
      "TECH MAHINDRA (AMERICAS) INC., (FORMERLY MBT INTERNATIONAL, INC.)      395\n",
      "EPAM SYSTEMS, INC                                                      390\n",
      "3I INFOTECH INC.                                                       385\n",
      "QUALCOMM ATHEROS, INC.                                                 382\n",
      "AMDOCS INC.                                                            382\n",
      "MORGAN STANLEY & CO. LLC                                               377\n",
      "HCL GLOBAL SYSTEMS INC                                                 374\n",
      "ALCATEL LUCENT USA, INC.                                               372\n",
      "TWITTER, INC.                                                          372\n",
      "INTEL MOBILE COMMUNICATIONS, INC.                                      371\n",
      "POPULUS GROUP, LLC                                                     368\n",
      "TECHNOSOFT CORPORATION                                                 362\n",
      "CAPGEMINI U.S. LLC                                                     362\n",
      "JUNIPER NETWORKS                                                       357\n",
      "MCKINSEY & COMPANY, INC UNITED STATES                                  351\n",
      "MANHATTAN ASSOCIATES, INC.                                             346\n",
      "HEXAWARE TECHNOLOGIES, INC.                                            345\n",
      "MARVELL SEMICONDUCTOR INC                                              342\n",
      "GLOBALFOUNDRIES U.S. INC.                                              339\n",
      "BROCADE COMMUNICATIONS SYSTEMS, INC.                                   338\n",
      "MERRILL LYNCH                                                          333\n",
      "AMERICAN EXPRESS TRAVEL RELATED SERVICES                               332\n",
      "THE MATHWORKS, INC.                                                    327\n",
      "Name: employer_name, dtype: int64\n"
     ]
    }
   ],
   "source": [
    "modules.print_full(visas_df[\"employer_name\"].value_counts()[:100])"
   ],
   "metadata": {
    "collapsed": false,
    "pycharm": {
     "name": "#%%\n"
    }
   }
  },
  {
   "cell_type": "code",
   "execution_count": null,
   "outputs": [],
   "source": [],
   "metadata": {
    "collapsed": false,
    "pycharm": {
     "name": "#%%\n"
    }
   }
  }
 ],
 "metadata": {
  "kernelspec": {
   "display_name": "Python 3",
   "language": "python",
   "name": "python3"
  },
  "language_info": {
   "codemirror_mode": {
    "name": "ipython",
    "version": 2
   },
   "file_extension": ".py",
   "mimetype": "text/x-python",
   "name": "python",
   "nbconvert_exporter": "python",
   "pygments_lexer": "ipython2",
   "version": "2.7.6"
  }
 },
 "nbformat": 4,
 "nbformat_minor": 0
}