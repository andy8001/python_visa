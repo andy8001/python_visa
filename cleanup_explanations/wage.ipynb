{
 "cells": [
  {
   "cell_type": "code",
   "execution_count": 49,
   "outputs": [
    {
     "name": "stderr",
     "output_type": "stream",
     "text": [
      "C:\\Users\\andre\\anaconda3\\lib\\site-packages\\IPython\\core\\interactiveshell.py:3146: DtypeWarning: Columns (150) have mixed types.Specify dtype option on import or set low_memory=False.\n",
      "  has_raised = await self.run_ast_nodes(code_ast.body, cell_name,\n"
     ]
    }
   ],
   "source": [
    "import pandas as pd\n",
    "\n",
    "col_list = [\"wage_offer_unit_of_pay_9089\" ]\n",
    "visas_df = pd.read_csv('../data/us_perm_visas.csv', usecols=col_list)"
   ],
   "metadata": {
    "collapsed": false,
    "pycharm": {
     "name": "#%%\n"
    }
   }
  },
  {
   "cell_type": "code",
   "execution_count": 50,
   "outputs": [],
   "source": [
    "\n",
    "unit_abbreviations = {\n",
    "    \"Year\": \"long\",\n",
    "    \"Month\": \"long\",\n",
    "    \"Bi-Weekly\": \"long\",\n",
    "    \"Week\": \"long\",\n",
    "    \"Hour\": \"long\",\n",
    "    \"yr\": \"short\",\n",
    "    \"mth\": \"short\",\n",
    "    \"bi\": \"short\",\n",
    "    \"wk\": \"short\",\n",
    "    \"hr\": \"short\",\n",
    "    }\n",
    "\n",
    "visas_df[\"wage_offer_unit_of_pay_9089\"]= visas_df[\"wage_offer_unit_of_pay_9089\"].replace(unit_abbreviations)"
   ],
   "metadata": {
    "collapsed": false,
    "pycharm": {
     "name": "#%%\n"
    }
   }
  },
  {
   "cell_type": "code",
   "execution_count": 51,
   "outputs": [],
   "source": [
    "\n",
    "visas_df[\"Langschreibweise\"] = visas_df[\"wage_offer_unit_of_pay_9089\"]== \"long\"\n",
    "visas_df[\"Kurzschreibweise\"] = visas_df[\"wage_offer_unit_of_pay_9089\"]== \"short\""
   ],
   "metadata": {
    "collapsed": false,
    "pycharm": {
     "name": "#%%\n"
    }
   }
  },
  {
   "cell_type": "code",
   "execution_count": 51,
   "outputs": [],
   "source": [],
   "metadata": {
    "collapsed": false,
    "pycharm": {
     "name": "#%%\n"
    }
   }
  },
  {
   "cell_type": "code",
   "execution_count": 52,
   "outputs": [
    {
     "data": {
      "text/plain": "<matplotlib.legend.Legend at 0x27e2dce8970>"
     },
     "execution_count": 52,
     "metadata": {},
     "output_type": "execute_result"
    },
    {
     "data": {
      "text/plain": "<Figure size 1152x288 with 1 Axes>",
      "image/png": "[encoded data removed]"
     },
     "metadata": {
      "needs_background": "light"
     },
     "output_type": "display_data"
    }
   ],
   "source": [
    "\n",
    "visas_df[\"Langschreibweise\"].astype(int).plot(x='index', figsize=(16,4)).legend()\n",
    "visas_df[\"Kurzschreibweise\"].astype(int).plot(x='index', figsize=(16,4)).legend()"
   ],
   "metadata": {
    "collapsed": false,
    "pycharm": {
     "name": "#%%\n"
    }
   }
  },
  {
   "cell_type": "code",
   "execution_count": 52,
   "outputs": [],
   "source": [],
   "metadata": {
    "collapsed": false,
    "pycharm": {
     "name": "#%%\n"
    }
   }
  },
  {
   "cell_type": "code",
   "execution_count": 52,
   "outputs": [],
   "source": [],
   "metadata": {
    "collapsed": false,
    "pycharm": {
     "name": "#%%\n"
    }
   }
  },
  {
   "cell_type": "markdown",
   "source": [
    "# Cleaning up wage_offer_from"
   ],
   "metadata": {
    "collapsed": false
   }
  },
  {
   "cell_type": "markdown",
   "source": [
    "wage offer from is represented in two columns wage_offer_from_9089 and wage_offered_from_9089. These both columns must be merged in order to work with them."
   ],
   "metadata": {
    "collapsed": false
   }
  },
  {
   "cell_type": "code",
   "execution_count": 53,
   "outputs": [],
   "source": [
    "import pandas as pd\n",
    "import importlib\n",
    "import modules\n",
    "import numpy as np\n",
    "import matplotlib.pyplot as plt"
   ],
   "metadata": {
    "collapsed": false,
    "pycharm": {
     "name": "#%%\n"
    }
   }
  },
  {
   "cell_type": "code",
   "execution_count": 54,
   "outputs": [
    {
     "name": "stderr",
     "output_type": "stream",
     "text": [
      "C:\\Users\\andre\\anaconda3\\lib\\site-packages\\IPython\\core\\interactiveshell.py:3146: DtypeWarning: Columns (148) have mixed types.Specify dtype option on import or set low_memory=False.\n",
      "  has_raised = await self.run_ast_nodes(code_ast.body, cell_name,\n"
     ]
    },
    {
     "data": {
      "text/plain": "  wage_offer_from_9089  wage_offered_from_9089\n0                75629                     NaN\n1                37024                     NaN\n2                47923                     NaN\n3                10.97                     NaN\n4               100000                     NaN",
      "text/html": "<div>\n<style scoped>\n    .dataframe tbody tr th:only-of-type {\n        vertical-align: middle;\n    }\n\n    .dataframe tbody tr th {\n        vertical-align: top;\n    }\n\n    .dataframe thead th {\n        text-align: right;\n    }\n</style>\n<table border=\"1\" class=\"dataframe\">\n  <thead>\n    <tr style=\"text-align: right;\">\n      <th></th>\n      <th>wage_offer_from_9089</th>\n      <th>wage_offered_from_9089</th>\n    </tr>\n  </thead>\n  <tbody>\n    <tr>\n      <th>0</th>\n      <td>75629</td>\n      <td>NaN</td>\n    </tr>\n    <tr>\n      <th>1</th>\n      <td>37024</td>\n      <td>NaN</td>\n    </tr>\n    <tr>\n      <th>2</th>\n      <td>47923</td>\n      <td>NaN</td>\n    </tr>\n    <tr>\n      <th>3</th>\n      <td>10.97</td>\n      <td>NaN</td>\n    </tr>\n    <tr>\n      <th>4</th>\n      <td>100000</td>\n      <td>NaN</td>\n    </tr>\n  </tbody>\n</table>\n</div>"
     },
     "execution_count": 54,
     "metadata": {},
     "output_type": "execute_result"
    }
   ],
   "source": [
    "col_list= [\"wage_offer_from_9089\", \"wage_offered_from_9089\"]\n",
    "visas_df = pd.read_csv(\"../data/us_perm_visas.csv\", usecols=col_list)\n",
    "visas_df.head ()"
   ],
   "metadata": {
    "collapsed": false,
    "pycharm": {
     "name": "#%%\n"
    }
   }
  },
  {
   "cell_type": "code",
   "execution_count": 55,
   "outputs": [
    {
     "data": {
      "text/plain": "wage_offer_from_9089       object\nwage_offered_from_9089    float64\ndtype: object"
     },
     "execution_count": 55,
     "metadata": {},
     "output_type": "execute_result"
    }
   ],
   "source": [
    "visas_df.dtypes"
   ],
   "metadata": {
    "collapsed": false,
    "pycharm": {
     "name": "#%%\n"
    }
   }
  },
  {
   "cell_type": "markdown",
   "source": [
    "wage_offered_from_9089 was sucessfully imported as float.\n",
    "However we'll have to take a closer look at wage_offer_from_9089 to convert it to a float value."
   ],
   "metadata": {
    "collapsed": false
   }
  },
  {
   "cell_type": "markdown",
   "source": [
    "Next, we'll take a closer look how the values in these two columns are distributed.\n",
    "We defined a new function in our modules library to deal with this task."
   ],
   "metadata": {
    "collapsed": false
   }
  },
  {
   "cell_type": "code",
   "execution_count": 56,
   "outputs": [
    {
     "name": "stdout",
     "output_type": "stream",
     "text": [
      "wage_offer_from_9089\n",
      "259591/374362 69%\n",
      "Filled: |██████████████████████████████████----------------| 69.3% Rows\r\n",
      "\n",
      "wage_offered_from_9089\n",
      "114647/374362 31%\n",
      "Filled: |███████████████-----------------------------------| 30.6% Rows\r\n",
      "\n"
     ]
    },
    {
     "data": {
      "text/plain": "<Figure size 1152x288 with 1 Axes>",
      "image/png": "[encoded data removed]"
     },
     "metadata": {
      "needs_background": "light"
     },
     "output_type": "display_data"
    },
    {
     "data": {
      "text/plain": "<Figure size 1152x288 with 1 Axes>",
      "image/png": "[encoded data removed]"
     },
     "metadata": {
      "needs_background": "light"
     },
     "output_type": "display_data"
    }
   ],
   "source": [
    "modules.print_count_of_values_relation(visas_df, True, True)"
   ],
   "metadata": {
    "collapsed": false,
    "pycharm": {
     "name": "#%%\n"
    }
   }
  },
  {
   "cell_type": "markdown",
   "source": [
    "To explain the resulting graphs:\n",
    "The X-Axis shows the index of all values. We have over 350000 values (rows) in our dataset.\n",
    "The Y-Axis shows if a row is filled with a actual value. Not NaN Values are displayed as 1, NaN values are displayed as 0.\n",
    "\n",
    "It becomes aparent that both columnscomplete each other. Gaps in wage_offer_from_9098 can be filled with wage_offer_from_9098."
   ],
   "metadata": {
    "collapsed": false
   }
  },
  {
   "cell_type": "markdown",
   "source": [
    "----\n",
    "## Cleaning up `wage_offer_from_9089`"
   ],
   "metadata": {
    "collapsed": false
   }
  },
  {
   "cell_type": "markdown",
   "source": [
    "In Progress of our data analysis it became apparent, that wage_offer_from_9089 has to be cleaned up, before analyzing the contained data."
   ],
   "metadata": {
    "collapsed": false
   }
  },
  {
   "cell_type": "code",
   "execution_count": 56,
   "outputs": [],
   "source": [],
   "metadata": {
    "collapsed": false,
    "pycharm": {
     "name": "#%%\n"
    }
   }
  },
  {
   "cell_type": "code",
   "execution_count": 57,
   "outputs": [
    {
     "data": {
      "text/plain": "wage_offer_from_9089       object\nwage_offered_from_9089    float64\ndtype: object"
     },
     "execution_count": 57,
     "metadata": {},
     "output_type": "execute_result"
    }
   ],
   "source": [
    "cleanup_df = visas_df.copy()\n",
    "cleanup_df.dtypes"
   ],
   "metadata": {
    "collapsed": false,
    "pycharm": {
     "name": "#%%\n"
    }
   }
  },
  {
   "cell_type": "markdown",
   "source": [
    "Originally all the imported rows were recognized as \"object\". But the values should be converted to float values."
   ],
   "metadata": {
    "collapsed": false
   }
  },
  {
   "cell_type": "code",
   "execution_count": 58,
   "outputs": [],
   "source": [
    "# cleanup_df[\"wage_offer_from_9089\"].astype('float')"
   ],
   "metadata": {
    "collapsed": false,
    "pycharm": {
     "name": "#%%\n"
    }
   }
  },
  {
   "cell_type": "markdown",
   "source": [
    "First, we tried to convert the data, by applying the new type."
   ],
   "metadata": {
    "collapsed": false
   }
  },
  {
   "cell_type": "code",
   "execution_count": 59,
   "outputs": [
    {
     "data": {
      "text/plain": "0         <class 'float'>\n1         <class 'float'>\n2         <class 'float'>\n3         <class 'float'>\n4         <class 'float'>\n               ...       \n374357      <class 'str'>\n374358      <class 'str'>\n374359      <class 'str'>\n374360      <class 'str'>\n374361      <class 'str'>\nName: wage_offer_from_9089, Length: 374362, dtype: object"
     },
     "execution_count": 59,
     "metadata": {},
     "output_type": "execute_result"
    }
   ],
   "source": [
    "cleanup_df[\"wage_offer_from_9089\"].apply(type)"
   ],
   "metadata": {
    "collapsed": false,
    "pycharm": {
     "name": "#%%\n"
    }
   }
  },
  {
   "cell_type": "markdown",
   "source": [
    "We defined a new columnn, containing the types of all newly converted values."
   ],
   "metadata": {
    "collapsed": false
   }
  },
  {
   "cell_type": "code",
   "execution_count": 60,
   "outputs": [],
   "source": [
    "cleanup_df['wage_Type'] = cleanup_df[\"wage_offer_from_9089\"].apply(lambda x: type(x).__name__)"
   ],
   "metadata": {
    "collapsed": false,
    "pycharm": {
     "name": "#%%\n"
    }
   }
  },
  {
   "cell_type": "code",
   "execution_count": 61,
   "outputs": [
    {
     "data": {
      "text/plain": "  wage_offer_from_9089  wage_offered_from_9089 wage_Type\n0                75629                     NaN     float\n1                37024                     NaN     float\n2                47923                     NaN     float\n3                10.97                     NaN     float\n4               100000                     NaN     float",
      "text/html": "<div>\n<style scoped>\n    .dataframe tbody tr th:only-of-type {\n        vertical-align: middle;\n    }\n\n    .dataframe tbody tr th {\n        vertical-align: top;\n    }\n\n    .dataframe thead th {\n        text-align: right;\n    }\n</style>\n<table border=\"1\" class=\"dataframe\">\n  <thead>\n    <tr style=\"text-align: right;\">\n      <th></th>\n      <th>wage_offer_from_9089</th>\n      <th>wage_offered_from_9089</th>\n      <th>wage_Type</th>\n    </tr>\n  </thead>\n  <tbody>\n    <tr>\n      <th>0</th>\n      <td>75629</td>\n      <td>NaN</td>\n      <td>float</td>\n    </tr>\n    <tr>\n      <th>1</th>\n      <td>37024</td>\n      <td>NaN</td>\n      <td>float</td>\n    </tr>\n    <tr>\n      <th>2</th>\n      <td>47923</td>\n      <td>NaN</td>\n      <td>float</td>\n    </tr>\n    <tr>\n      <th>3</th>\n      <td>10.97</td>\n      <td>NaN</td>\n      <td>float</td>\n    </tr>\n    <tr>\n      <th>4</th>\n      <td>100000</td>\n      <td>NaN</td>\n      <td>float</td>\n    </tr>\n  </tbody>\n</table>\n</div>"
     },
     "execution_count": 61,
     "metadata": {},
     "output_type": "execute_result"
    }
   ],
   "source": [
    "\n",
    "cleanup_df.head()"
   ],
   "metadata": {
    "collapsed": false,
    "pycharm": {
     "name": "#%%\n"
    }
   }
  },
  {
   "cell_type": "code",
   "execution_count": 62,
   "outputs": [],
   "source": [
    "import modules"
   ],
   "metadata": {
    "collapsed": false,
    "pycharm": {
     "name": "#%%\n"
    }
   }
  },
  {
   "cell_type": "code",
   "execution_count": 63,
   "outputs": [
    {
     "name": "stdout",
     "output_type": "stream",
     "text": [
      "       wage_offer_from_9089  wage_offered_from_9089 wage_Type\n",
      "271001                 8.09                     NaN     float\n",
      "210932            78,978.00                     NaN       str\n",
      "320137               100150                     NaN     float\n",
      "102813                  NaN                97150.00     float\n",
      "357404            88,000.00                     NaN       str\n",
      "138061            87,589.00                     NaN       str\n",
      "290430               158579                     NaN     float\n",
      "277621                37000                     NaN     float\n",
      "112969                  NaN               250000.00     float\n",
      "370957            75,421.00                     NaN       str\n",
      "233730                17909                     NaN     float\n",
      "191220           115,000.00                     NaN       str\n",
      "132799                  NaN               127920.00     float\n",
      "239145               102523                     NaN     float\n",
      "310394                75000                     NaN     float\n",
      "248772                28000                     NaN     float\n",
      "352838            50,000.00                     NaN       str\n",
      "372212           123,000.02                     NaN       str\n",
      "263042               121742                     NaN     float\n",
      "331711                86216                     NaN     float\n",
      "304621                37600                     NaN     float\n",
      "172637           107,973.00                     NaN       str\n",
      "117668                  NaN                87000.00     float\n",
      "350556           164,382.00                     NaN       str\n",
      "357724            38,293.00                     NaN       str\n",
      "110522                  NaN                90314.00     float\n",
      "359664            16,744.00                     NaN       str\n",
      "134175                  NaN               103200.00     float\n",
      "212867            23,546.00                     NaN       str\n",
      "243409               110302                     NaN     float\n",
      "306538                93579                     NaN     float\n",
      "309106               119550                     NaN     float\n",
      "175548           111,488.00                     NaN       str\n",
      "49696                   NaN                70512.00     float\n",
      "202305           188,822.00                     NaN       str\n",
      "303931               150000                     NaN     float\n",
      "212624            92,248.00                     NaN       str\n",
      "86197                   NaN                98675.00     float\n",
      "2314                  54600                     NaN     float\n",
      "188892           116,550.00                     NaN       str\n",
      "71874                   NaN                78915.00     float\n",
      "123741                  NaN               113475.00     float\n",
      "209669            80,995.00                     NaN       str\n",
      "231346               190000                     NaN     float\n",
      "114240                  NaN               102520.29     float\n",
      "41260                   NaN               125000.00     float\n",
      "308483                81765                     NaN     float\n",
      "141513            70,720.00                     NaN       str\n",
      "130340                  NaN               108489.00     float\n",
      "315417                    9                     NaN     float\n",
      "326132               120000                     NaN     float\n",
      "116499                  NaN                   65.00     float\n",
      "200334            93,000.00                     NaN       str\n",
      "278895               117000                     NaN     float\n",
      "125587                  NaN                89502.00     float\n",
      "150455            54,059.00                     NaN       str\n",
      "184148            89,200.00                     NaN       str\n",
      "315468               165000                     NaN     float\n",
      "163240            98,330.00                     NaN       str\n",
      "54070                   NaN                76500.00     float\n",
      "160601            87,090.00                     NaN       str\n",
      "235647                45448                     NaN     float\n",
      "228175                90000                     NaN     float\n",
      "152977            54,059.00                     NaN       str\n",
      "142262            29,682.00                     NaN       str\n",
      "48074                   NaN                95264.00     float\n",
      "361969            47,475.00                     NaN       str\n",
      "269269                48027                     NaN     float\n",
      "12368                135500                     NaN     float\n",
      "108579                  NaN               127050.00     float\n",
      "45849                   NaN               180000.00     float\n",
      "291096                88026                     NaN     float\n",
      "169922            62,727.00                     NaN       str\n",
      "190602            95,000.00                     NaN       str\n",
      "226726                84157                     NaN     float\n",
      "248699               128000                     NaN     float\n",
      "5680                  64709                     NaN     float\n",
      "200185           123,000.00                     NaN       str\n",
      "226515               100811                     NaN     float\n",
      "271156                60000                     NaN     float\n",
      "34132                   NaN                53227.20     float\n",
      "312793               105000                     NaN     float\n",
      "84037                   NaN                83000.00     float\n",
      "41809                   NaN                89440.00     float\n",
      "367050           130,000.00                     NaN       str\n",
      "326057               100214                     NaN     float\n",
      "59055                   NaN                64459.20     float\n",
      "270401                83325                     NaN     float\n",
      "173630            86,900.00                     NaN       str\n",
      "62699                   NaN               180000.00     float\n",
      "12367                 73000                     NaN     float\n",
      "32636                   NaN               166650.00     float\n",
      "293972               127000                     NaN     float\n",
      "5354                  92800                     NaN     float\n",
      "68511                   NaN                   90.00     float\n",
      "38424                   NaN               127358.00     float\n",
      "263154                16827                     NaN     float\n",
      "132656                  NaN               130000.00     float\n",
      "256678                98590                     NaN     float\n",
      "275747               117458                     NaN     float\n"
     ]
    }
   ],
   "source": [
    "importlib.reload(modules)\n",
    "modules.print_full(cleanup_df.sample(100))"
   ],
   "metadata": {
    "collapsed": false,
    "pycharm": {
     "name": "#%%\n"
    }
   }
  },
  {
   "cell_type": "markdown",
   "source": [
    "It became apparent, that apllying the new type was partially successful. But values containing delimiters or seperators are still recognized as a string."
   ],
   "metadata": {
    "collapsed": false
   }
  },
  {
   "cell_type": "code",
   "execution_count": 64,
   "outputs": [
    {
     "data": {
      "text/plain": "float    258181\nstr      116181\nName: wage_Type, dtype: int64"
     },
     "execution_count": 64,
     "metadata": {},
     "output_type": "execute_result"
    }
   ],
   "source": [
    "\n",
    "cleanup_df['wage_Type'].value_counts()"
   ],
   "metadata": {
    "collapsed": false,
    "pycharm": {
     "name": "#%%\n"
    }
   }
  },
  {
   "cell_type": "markdown",
   "source": [
    "We defined a new function to remove the delimiters. Additionally we replaced the '#############' values, which occured two times, with NaN."
   ],
   "metadata": {
    "collapsed": false
   }
  },
  {
   "cell_type": "code",
   "execution_count": 65,
   "outputs": [],
   "source": [
    "def clean_currency(x):\n",
    "    \"\"\" If the value is a string, then remove delimiters\n",
    "    otherwise, the value is numeric and can be converted.\n",
    "\n",
    "    \"\"\"\n",
    "    if isinstance(x, str):\n",
    "        if x == '#############':\n",
    "            x = np.nan\n",
    "        else:\n",
    "            return(x.replace(',', ''))\n",
    "    return(x)"
   ],
   "metadata": {
    "collapsed": false,
    "pycharm": {
     "name": "#%%\n"
    }
   }
  },
  {
   "cell_type": "code",
   "execution_count": 66,
   "outputs": [],
   "source": [
    "cleanup_df[\"wage_offer_from_9089\"] = cleanup_df[\"wage_offer_from_9089\"].apply(clean_currency).astype('float')\n",
    "cleanup_df['wage_Type'] = cleanup_df[\"wage_offer_from_9089\"].apply(lambda x: type(x).__name__)"
   ],
   "metadata": {
    "collapsed": false,
    "pycharm": {
     "name": "#%%\n"
    }
   }
  },
  {
   "cell_type": "code",
   "execution_count": 67,
   "outputs": [
    {
     "data": {
      "text/plain": "float    374362\nName: wage_Type, dtype: int64"
     },
     "execution_count": 67,
     "metadata": {},
     "output_type": "execute_result"
    }
   ],
   "source": [
    "\n",
    "cleanup_df['wage_Type'].value_counts()"
   ],
   "metadata": {
    "collapsed": false,
    "pycharm": {
     "name": "#%%\n"
    }
   }
  },
  {
   "cell_type": "code",
   "execution_count": 68,
   "outputs": [
    {
     "name": "stdout",
     "output_type": "stream",
     "text": [
      "        wage_offer_from_9089  wage_offered_from_9089 wage_Type\n",
      "1637                80000.00                     NaN     float\n",
      "55815                    NaN                 88254.0     float\n",
      "227738             215000.00                     NaN     float\n",
      "154907              90000.00                     NaN     float\n",
      "188867              94432.00                     NaN     float\n",
      "66552                    NaN                121202.0     float\n",
      "59615                    NaN                 38000.0     float\n",
      "236436              83500.00                     NaN     float\n",
      "169311             115000.00                     NaN     float\n",
      "112718                   NaN                140000.0     float\n",
      "77327                    NaN                 80000.0     float\n",
      "111740                   NaN                 70000.0     float\n",
      "265148              16848.00                     NaN     float\n",
      "166332             126048.00                     NaN     float\n",
      "59013                    NaN                 90000.0     float\n",
      "205427             160000.00                     NaN     float\n",
      "298344              79539.00                     NaN     float\n",
      "278892              69326.00                     NaN     float\n",
      "359582                 10.00                     NaN     float\n",
      "310245             119350.00                     NaN     float\n",
      "58626                    NaN                 18098.0     float\n",
      "229776              73882.00                     NaN     float\n",
      "158376             106000.00                     NaN     float\n",
      "313075              83616.00                     NaN     float\n",
      "133907                   NaN                105040.0     float\n",
      "359554                 10.00                     NaN     float\n",
      "192089              76378.00                     NaN     float\n",
      "233651             119704.00                     NaN     float\n",
      "23065                    NaN                 66435.2     float\n",
      "30286                    NaN                106891.0     float\n",
      "59291                    NaN                 49587.0     float\n",
      "313256             101088.00                     NaN     float\n",
      "343013             102086.00                     NaN     float\n",
      "262582             170000.00                     NaN     float\n",
      "67671                    NaN                 86923.0     float\n",
      "155958              55000.00                     NaN     float\n",
      "290153             136289.00                     NaN     float\n",
      "15875               77158.56                     NaN     float\n",
      "116249                   NaN                 90000.0     float\n",
      "141642              91700.00                     NaN     float\n",
      "134784                   NaN                130000.0     float\n",
      "225627              25179.00                     NaN     float\n",
      "105416                   NaN                 90730.0     float\n",
      "328500              81827.00                     NaN     float\n",
      "351842              22897.33                     NaN     float\n",
      "266338              66331.00                     NaN     float\n",
      "87950                    NaN                 71500.0     float\n",
      "93056                    NaN                103522.0     float\n",
      "48725                    NaN                 74100.0     float\n",
      "100839                   NaN                 46095.0     float\n",
      "229543             146100.00                     NaN     float\n",
      "24875                    NaN                 71198.0     float\n",
      "296500              89024.00                     NaN     float\n",
      "362445              75500.00                     NaN     float\n",
      "132630                   NaN                117104.0     float\n",
      "298371              90418.00                     NaN     float\n",
      "134118                   NaN                105000.0     float\n",
      "252278             100150.00                     NaN     float\n",
      "155941              94994.00                     NaN     float\n",
      "10857              100963.00                     NaN     float\n",
      "32045                    NaN                100000.0     float\n",
      "31818                    NaN                125000.0     float\n",
      "276398             113000.00                     NaN     float\n",
      "73761                    NaN                 95000.0     float\n",
      "197187              68744.00                     NaN     float\n",
      "119287                   NaN                 53789.0     float\n",
      "186871              49000.00                     NaN     float\n",
      "161383             103397.00                     NaN     float\n",
      "148868              77771.00                     NaN     float\n",
      "311761             107786.00                     NaN     float\n",
      "101289                   NaN                 84000.0     float\n",
      "68047                    NaN                 92889.0     float\n",
      "263227              80995.00                     NaN     float\n",
      "339784              90792.00                     NaN     float\n",
      "337958             114397.00                     NaN     float\n",
      "335216              74745.96                     NaN     float\n",
      "295313              71469.00                     NaN     float\n",
      "363480             175000.00                     NaN     float\n",
      "43688                    NaN                113942.4     float\n",
      "17830               85500.00                     NaN     float\n",
      "319997              40893.00                     NaN     float\n",
      "42294                    NaN                 87300.0     float\n",
      "327592             113464.00                     NaN     float\n",
      "108725                   NaN                 82451.0     float\n",
      "156099              65000.00                     NaN     float\n",
      "40181                    NaN                 96179.0     float\n",
      "52053                    NaN                 69971.0     float\n",
      "146634             102066.00                     NaN     float\n",
      "32738                    NaN                114080.0     float\n",
      "39932                    NaN                132000.0     float\n",
      "369903             100786.00                     NaN     float\n",
      "222877              81120.00                     NaN     float\n",
      "282718              48402.00                     NaN     float\n",
      "172641             132766.00                     NaN     float\n",
      "348728              87125.25                     NaN     float\n",
      "159926              81310.00                     NaN     float\n",
      "36546                    NaN                103854.0     float\n",
      "58871                    NaN                 50000.0     float\n",
      "335722              96741.00                     NaN     float\n",
      "200576             102571.30                     NaN     float\n"
     ]
    }
   ],
   "source": [
    "\n",
    "modules.print_full(cleanup_df.sample(100))"
   ],
   "metadata": {
    "collapsed": false,
    "pycharm": {
     "name": "#%%\n"
    }
   }
  },
  {
   "cell_type": "markdown",
   "source": [
    "Perfect, all values are now converted to float. The column `wage_offer_from_9089` was successfully cleaned up."
   ],
   "metadata": {
    "collapsed": false
   }
  },
  {
   "cell_type": "code",
   "execution_count": 69,
   "outputs": [
    {
     "data": {
      "text/plain": "91104.0"
     },
     "execution_count": 69,
     "metadata": {},
     "output_type": "execute_result"
    }
   ],
   "source": [
    "cleanup_df['wage_offer_from_9089'].median()"
   ],
   "metadata": {
    "collapsed": false,
    "pycharm": {
     "name": "#%%\n"
    }
   }
  },
  {
   "cell_type": "code",
   "execution_count": 70,
   "outputs": [],
   "source": [
    "visas_df['wage_offer_from_9089'] = cleanup_df['wage_offer_from_9089']\n",
    "del cleanup_df"
   ],
   "metadata": {
    "collapsed": false,
    "pycharm": {
     "name": "#%%\n"
    }
   }
  },
  {
   "cell_type": "code",
   "execution_count": 71,
   "outputs": [
    {
     "data": {
      "text/plain": "        wage_offer_from_9089  wage_offered_from_9089\n244277               96000.0                     NaN\n149400              110032.0                     NaN\n319195              103626.0                     NaN\n103751                   NaN                124994.0\n295619              120453.0                     NaN\n355997              110000.0                     NaN\n10382                59319.0                     NaN\n119515                   NaN                101000.0\n153495               47486.0                     NaN\n322085              121202.0                     NaN\n59435                    NaN                101650.0\n212992               72467.0                     NaN\n2930                 79498.0                     NaN\n165045               54059.0                     NaN\n25405                    NaN                 93142.0",
      "text/html": "<div>\n<style scoped>\n    .dataframe tbody tr th:only-of-type {\n        vertical-align: middle;\n    }\n\n    .dataframe tbody tr th {\n        vertical-align: top;\n    }\n\n    .dataframe thead th {\n        text-align: right;\n    }\n</style>\n<table border=\"1\" class=\"dataframe\">\n  <thead>\n    <tr style=\"text-align: right;\">\n      <th></th>\n      <th>wage_offer_from_9089</th>\n      <th>wage_offered_from_9089</th>\n    </tr>\n  </thead>\n  <tbody>\n    <tr>\n      <th>244277</th>\n      <td>96000.0</td>\n      <td>NaN</td>\n    </tr>\n    <tr>\n      <th>149400</th>\n      <td>110032.0</td>\n      <td>NaN</td>\n    </tr>\n    <tr>\n      <th>319195</th>\n      <td>103626.0</td>\n      <td>NaN</td>\n    </tr>\n    <tr>\n      <th>103751</th>\n      <td>NaN</td>\n      <td>124994.0</td>\n    </tr>\n    <tr>\n      <th>295619</th>\n      <td>120453.0</td>\n      <td>NaN</td>\n    </tr>\n    <tr>\n      <th>355997</th>\n      <td>110000.0</td>\n      <td>NaN</td>\n    </tr>\n    <tr>\n      <th>10382</th>\n      <td>59319.0</td>\n      <td>NaN</td>\n    </tr>\n    <tr>\n      <th>119515</th>\n      <td>NaN</td>\n      <td>101000.0</td>\n    </tr>\n    <tr>\n      <th>153495</th>\n      <td>47486.0</td>\n      <td>NaN</td>\n    </tr>\n    <tr>\n      <th>322085</th>\n      <td>121202.0</td>\n      <td>NaN</td>\n    </tr>\n    <tr>\n      <th>59435</th>\n      <td>NaN</td>\n      <td>101650.0</td>\n    </tr>\n    <tr>\n      <th>212992</th>\n      <td>72467.0</td>\n      <td>NaN</td>\n    </tr>\n    <tr>\n      <th>2930</th>\n      <td>79498.0</td>\n      <td>NaN</td>\n    </tr>\n    <tr>\n      <th>165045</th>\n      <td>54059.0</td>\n      <td>NaN</td>\n    </tr>\n    <tr>\n      <th>25405</th>\n      <td>NaN</td>\n      <td>93142.0</td>\n    </tr>\n  </tbody>\n</table>\n</div>"
     },
     "execution_count": 71,
     "metadata": {},
     "output_type": "execute_result"
    }
   ],
   "source": [
    "visas_df.sample(15)"
   ],
   "metadata": {
    "collapsed": false,
    "pycharm": {
     "name": "#%%\n"
    }
   }
  },
  {
   "cell_type": "code",
   "execution_count": 72,
   "outputs": [],
   "source": [
    "## Merging both columns"
   ],
   "metadata": {
    "collapsed": false,
    "pycharm": {
     "name": "#%%\n"
    }
   }
  },
  {
   "cell_type": "markdown",
   "source": [
    "All NaN values wil lbe filled with 0 in order to sum both columns up.\n",
    "We saw earlier thar both columns never overlap."
   ],
   "metadata": {
    "collapsed": false
   }
  },
  {
   "cell_type": "code",
   "execution_count": 73,
   "outputs": [],
   "source": [
    "visas_df['wage_offer_merged'] = visas_df['wage_offer_from_9089'].fillna(0) + visas_df['wage_offered_from_9089'].fillna(0)"
   ],
   "metadata": {
    "collapsed": false,
    "pycharm": {
     "name": "#%%\n"
    }
   }
  },
  {
   "cell_type": "code",
   "execution_count": 74,
   "outputs": [
    {
     "data": {
      "text/plain": "        wage_offer_from_9089  wage_offered_from_9089  wage_offer_merged\n341034              123490.0                     NaN          123490.00\n67048                    NaN                72592.00           72592.00\n207663               85571.0                     NaN           85571.00\n324580              103792.0                     NaN          103792.00\n189046              105498.0                     NaN          105498.00\n23211                    NaN               100000.00          100000.00\n165520              108000.0                     NaN          108000.00\n183658               86800.0                     NaN           86800.00\n327109               61506.0                     NaN           61506.00\n186724              117150.0                     NaN          117150.00\n323256              133000.0                     NaN          133000.00\n304263               83430.0                     NaN           83430.00\n51733                    NaN                93757.36           93757.36\n180964              130000.0                     NaN          130000.00\n84940                    NaN               104459.00          104459.00",
      "text/html": "<div>\n<style scoped>\n    .dataframe tbody tr th:only-of-type {\n        vertical-align: middle;\n    }\n\n    .dataframe tbody tr th {\n        vertical-align: top;\n    }\n\n    .dataframe thead th {\n        text-align: right;\n    }\n</style>\n<table border=\"1\" class=\"dataframe\">\n  <thead>\n    <tr style=\"text-align: right;\">\n      <th></th>\n      <th>wage_offer_from_9089</th>\n      <th>wage_offered_from_9089</th>\n      <th>wage_offer_merged</th>\n    </tr>\n  </thead>\n  <tbody>\n    <tr>\n      <th>341034</th>\n      <td>123490.0</td>\n      <td>NaN</td>\n      <td>123490.00</td>\n    </tr>\n    <tr>\n      <th>67048</th>\n      <td>NaN</td>\n      <td>72592.00</td>\n      <td>72592.00</td>\n    </tr>\n    <tr>\n      <th>207663</th>\n      <td>85571.0</td>\n      <td>NaN</td>\n      <td>85571.00</td>\n    </tr>\n    <tr>\n      <th>324580</th>\n      <td>103792.0</td>\n      <td>NaN</td>\n      <td>103792.00</td>\n    </tr>\n    <tr>\n      <th>189046</th>\n      <td>105498.0</td>\n      <td>NaN</td>\n      <td>105498.00</td>\n    </tr>\n    <tr>\n      <th>23211</th>\n      <td>NaN</td>\n      <td>100000.00</td>\n      <td>100000.00</td>\n    </tr>\n    <tr>\n      <th>165520</th>\n      <td>108000.0</td>\n      <td>NaN</td>\n      <td>108000.00</td>\n    </tr>\n    <tr>\n      <th>183658</th>\n      <td>86800.0</td>\n      <td>NaN</td>\n      <td>86800.00</td>\n    </tr>\n    <tr>\n      <th>327109</th>\n      <td>61506.0</td>\n      <td>NaN</td>\n      <td>61506.00</td>\n    </tr>\n    <tr>\n      <th>186724</th>\n      <td>117150.0</td>\n      <td>NaN</td>\n      <td>117150.00</td>\n    </tr>\n    <tr>\n      <th>323256</th>\n      <td>133000.0</td>\n      <td>NaN</td>\n      <td>133000.00</td>\n    </tr>\n    <tr>\n      <th>304263</th>\n      <td>83430.0</td>\n      <td>NaN</td>\n      <td>83430.00</td>\n    </tr>\n    <tr>\n      <th>51733</th>\n      <td>NaN</td>\n      <td>93757.36</td>\n      <td>93757.36</td>\n    </tr>\n    <tr>\n      <th>180964</th>\n      <td>130000.0</td>\n      <td>NaN</td>\n      <td>130000.00</td>\n    </tr>\n    <tr>\n      <th>84940</th>\n      <td>NaN</td>\n      <td>104459.00</td>\n      <td>104459.00</td>\n    </tr>\n  </tbody>\n</table>\n</div>"
     },
     "execution_count": 74,
     "metadata": {},
     "output_type": "execute_result"
    }
   ],
   "source": [
    "visas_df.sample(15)"
   ],
   "metadata": {
    "collapsed": false,
    "pycharm": {
     "name": "#%%\n"
    }
   }
  },
  {
   "cell_type": "code",
   "execution_count": 75,
   "outputs": [
    {
     "data": {
      "text/plain": "dtype('float64')"
     },
     "execution_count": 75,
     "metadata": {},
     "output_type": "execute_result"
    }
   ],
   "source": [
    "visas_df['wage_offer_merged'].dtype"
   ],
   "metadata": {
    "collapsed": false,
    "pycharm": {
     "name": "#%%\n"
    }
   }
  },
  {
   "cell_type": "code",
   "execution_count": 76,
   "outputs": [
    {
     "data": {
      "text/plain": "126"
     },
     "execution_count": 76,
     "metadata": {},
     "output_type": "execute_result"
    }
   ],
   "source": [
    "(visas_df['wage_offer_merged'] == 0).sum()"
   ],
   "metadata": {
    "collapsed": false,
    "pycharm": {
     "name": "#%%\n"
    }
   }
  },
  {
   "cell_type": "markdown",
   "source": [
    "We filled NaN values with 0 in Order to calculate sums. Now we will replaye 0 with NaN to keep the columns cleaned up.\n",
    "Additionally a wage of 0 would be unrealistic."
   ],
   "metadata": {
    "collapsed": false
   }
  },
  {
   "cell_type": "code",
   "execution_count": 77,
   "outputs": [],
   "source": [
    "visas_df['wage_offer_merged'].replace(0, np.nan, inplace=True)"
   ],
   "metadata": {
    "collapsed": false,
    "pycharm": {
     "name": "#%%\n"
    }
   }
  },
  {
   "cell_type": "code",
   "execution_count": 78,
   "outputs": [
    {
     "data": {
      "text/plain": "0"
     },
     "execution_count": 78,
     "metadata": {},
     "output_type": "execute_result"
    }
   ],
   "source": [
    "(visas_df['wage_offer_merged'] == 0).sum()"
   ],
   "metadata": {
    "collapsed": false,
    "pycharm": {
     "name": "#%%\n"
    }
   }
  },
  {
   "cell_type": "code",
   "execution_count": 79,
   "outputs": [],
   "source": [
    "visas_df['wage_offer_merged'].median()\n",
    "clean_df = pd.DataFrame()\n",
    "clean_df['wage_offer_merged'] = visas_df['wage_offer_merged']"
   ],
   "metadata": {
    "collapsed": false,
    "pycharm": {
     "name": "#%%\n"
    }
   }
  },
  {
   "cell_type": "code",
   "execution_count": 80,
   "outputs": [
    {
     "data": {
      "text/plain": "   wage_offer_merged\n0           75629.00\n1           37024.00\n2           47923.00\n3              10.97\n4          100000.00",
      "text/html": "<div>\n<style scoped>\n    .dataframe tbody tr th:only-of-type {\n        vertical-align: middle;\n    }\n\n    .dataframe tbody tr th {\n        vertical-align: top;\n    }\n\n    .dataframe thead th {\n        text-align: right;\n    }\n</style>\n<table border=\"1\" class=\"dataframe\">\n  <thead>\n    <tr style=\"text-align: right;\">\n      <th></th>\n      <th>wage_offer_merged</th>\n    </tr>\n  </thead>\n  <tbody>\n    <tr>\n      <th>0</th>\n      <td>75629.00</td>\n    </tr>\n    <tr>\n      <th>1</th>\n      <td>37024.00</td>\n    </tr>\n    <tr>\n      <th>2</th>\n      <td>47923.00</td>\n    </tr>\n    <tr>\n      <th>3</th>\n      <td>10.97</td>\n    </tr>\n    <tr>\n      <th>4</th>\n      <td>100000.00</td>\n    </tr>\n  </tbody>\n</table>\n</div>"
     },
     "execution_count": 80,
     "metadata": {},
     "output_type": "execute_result"
    }
   ],
   "source": [
    "clean_df.head()\n"
   ],
   "metadata": {
    "collapsed": false,
    "pycharm": {
     "name": "#%%\n"
    }
   }
  },
  {
   "cell_type": "markdown",
   "source": [
    "---\n",
    "# Cleaning up wage_offer_unit"
   ],
   "metadata": {
    "collapsed": false
   }
  },
  {
   "cell_type": "code",
   "execution_count": 81,
   "outputs": [
    {
     "name": "stderr",
     "output_type": "stream",
     "text": [
      "C:\\Users\\andre\\anaconda3\\lib\\site-packages\\IPython\\core\\interactiveshell.py:3146: DtypeWarning: Columns (150,153) have mixed types.Specify dtype option on import or set low_memory=False.\n",
      "  has_raised = await self.run_ast_nodes(code_ast.body, cell_name,\n"
     ]
    },
    {
     "data": {
      "text/plain": "  wage_offer_unit_of_pay_9089 wage_offered_unit_of_pay_9089\n0                          yr                           NaN\n1                          yr                           NaN\n2                          yr                           NaN\n3                          hr                           NaN\n4                          yr                           NaN",
      "text/html": "<div>\n<style scoped>\n    .dataframe tbody tr th:only-of-type {\n        vertical-align: middle;\n    }\n\n    .dataframe tbody tr th {\n        vertical-align: top;\n    }\n\n    .dataframe thead th {\n        text-align: right;\n    }\n</style>\n<table border=\"1\" class=\"dataframe\">\n  <thead>\n    <tr style=\"text-align: right;\">\n      <th></th>\n      <th>wage_offer_unit_of_pay_9089</th>\n      <th>wage_offered_unit_of_pay_9089</th>\n    </tr>\n  </thead>\n  <tbody>\n    <tr>\n      <th>0</th>\n      <td>yr</td>\n      <td>NaN</td>\n    </tr>\n    <tr>\n      <th>1</th>\n      <td>yr</td>\n      <td>NaN</td>\n    </tr>\n    <tr>\n      <th>2</th>\n      <td>yr</td>\n      <td>NaN</td>\n    </tr>\n    <tr>\n      <th>3</th>\n      <td>hr</td>\n      <td>NaN</td>\n    </tr>\n    <tr>\n      <th>4</th>\n      <td>yr</td>\n      <td>NaN</td>\n    </tr>\n  </tbody>\n</table>\n</div>"
     },
     "execution_count": 81,
     "metadata": {},
     "output_type": "execute_result"
    }
   ],
   "source": [
    "col_list= [\"wage_offer_unit_of_pay_9089\", \"wage_offered_unit_of_pay_9089\"]\n",
    "visas_df = pd.read_csv(\"../data/us_perm_visas.csv\", usecols=col_list)\n",
    "visas_df.head ()"
   ],
   "metadata": {
    "collapsed": false,
    "pycharm": {
     "name": "#%%\n"
    }
   }
  },
  {
   "cell_type": "code",
   "execution_count": 82,
   "outputs": [
    {
     "data": {
      "text/plain": "       wage_offer_unit_of_pay_9089 wage_offered_unit_of_pay_9089\n292674                        Year                           NaN\n334749                        Year                           NaN\n117642                         NaN                          Year\n113692                         NaN                          Year\n69578                          NaN                          Year\n242338                        Year                           NaN\n205298                        Year                           NaN\n85228                          NaN                          Year\n132911                         NaN                          Year\n30491                          NaN                           NaN\n109155                         NaN                          Year\n201014                        Year                           NaN\n341440                        Year                           NaN\n4918                            yr                           NaN\n15054                           yr                           NaN\n310697                        Year                           NaN\n284246                        Year                           NaN\n365270                        Hour                           NaN\n271357                        Year                           NaN\n15422                           hr                           NaN\n262233                        Year                           NaN\n318867                        Hour                           NaN\n105173                         NaN                          Year\n19448                           yr                           NaN\n239912                        Year                           NaN\n265097                        Year                           NaN\n114215                         NaN                          Year\n202908                        Year                           NaN\n259810                        Year                           NaN\n301208                        Year                           NaN\n279984                        Year                           NaN\n124846                         NaN                          Year\n29408                          NaN                           NaN\n243650                        Year                           NaN\n121006                         NaN                          Year\n6547                            yr                           NaN\n346937                        Year                           NaN\n148178                        Year                           NaN\n74699                          NaN                          Year\n59479                          NaN                           NaN\n47842                          NaN                           NaN\n158690                        Year                           NaN\n264574                        Year                           NaN\n216280                        Year                           NaN\n22466                          NaN                           NaN\n82020                          NaN                          Year\n70104                          NaN                          Year\n299295                        Year                           NaN\n193915                        Year                           NaN\n257103                        Year                           NaN",
      "text/html": "<div>\n<style scoped>\n    .dataframe tbody tr th:only-of-type {\n        vertical-align: middle;\n    }\n\n    .dataframe tbody tr th {\n        vertical-align: top;\n    }\n\n    .dataframe thead th {\n        text-align: right;\n    }\n</style>\n<table border=\"1\" class=\"dataframe\">\n  <thead>\n    <tr style=\"text-align: right;\">\n      <th></th>\n      <th>wage_offer_unit_of_pay_9089</th>\n      <th>wage_offered_unit_of_pay_9089</th>\n    </tr>\n  </thead>\n  <tbody>\n    <tr>\n      <th>292674</th>\n      <td>Year</td>\n      <td>NaN</td>\n    </tr>\n    <tr>\n      <th>334749</th>\n      <td>Year</td>\n      <td>NaN</td>\n    </tr>\n    <tr>\n      <th>117642</th>\n      <td>NaN</td>\n      <td>Year</td>\n    </tr>\n    <tr>\n      <th>113692</th>\n      <td>NaN</td>\n      <td>Year</td>\n    </tr>\n    <tr>\n      <th>69578</th>\n      <td>NaN</td>\n      <td>Year</td>\n    </tr>\n    <tr>\n      <th>242338</th>\n      <td>Year</td>\n      <td>NaN</td>\n    </tr>\n    <tr>\n      <th>205298</th>\n      <td>Year</td>\n      <td>NaN</td>\n    </tr>\n    <tr>\n      <th>85228</th>\n      <td>NaN</td>\n      <td>Year</td>\n    </tr>\n    <tr>\n      <th>132911</th>\n      <td>NaN</td>\n      <td>Year</td>\n    </tr>\n    <tr>\n      <th>30491</th>\n      <td>NaN</td>\n      <td>NaN</td>\n    </tr>\n    <tr>\n      <th>109155</th>\n      <td>NaN</td>\n      <td>Year</td>\n    </tr>\n    <tr>\n      <th>201014</th>\n      <td>Year</td>\n      <td>NaN</td>\n    </tr>\n    <tr>\n      <th>341440</th>\n      <td>Year</td>\n      <td>NaN</td>\n    </tr>\n    <tr>\n      <th>4918</th>\n      <td>yr</td>\n      <td>NaN</td>\n    </tr>\n    <tr>\n      <th>15054</th>\n      <td>yr</td>\n      <td>NaN</td>\n    </tr>\n    <tr>\n      <th>310697</th>\n      <td>Year</td>\n      <td>NaN</td>\n    </tr>\n    <tr>\n      <th>284246</th>\n      <td>Year</td>\n      <td>NaN</td>\n    </tr>\n    <tr>\n      <th>365270</th>\n      <td>Hour</td>\n      <td>NaN</td>\n    </tr>\n    <tr>\n      <th>271357</th>\n      <td>Year</td>\n      <td>NaN</td>\n    </tr>\n    <tr>\n      <th>15422</th>\n      <td>hr</td>\n      <td>NaN</td>\n    </tr>\n    <tr>\n      <th>262233</th>\n      <td>Year</td>\n      <td>NaN</td>\n    </tr>\n    <tr>\n      <th>318867</th>\n      <td>Hour</td>\n      <td>NaN</td>\n    </tr>\n    <tr>\n      <th>105173</th>\n      <td>NaN</td>\n      <td>Year</td>\n    </tr>\n    <tr>\n      <th>19448</th>\n      <td>yr</td>\n      <td>NaN</td>\n    </tr>\n    <tr>\n      <th>239912</th>\n      <td>Year</td>\n      <td>NaN</td>\n    </tr>\n    <tr>\n      <th>265097</th>\n      <td>Year</td>\n      <td>NaN</td>\n    </tr>\n    <tr>\n      <th>114215</th>\n      <td>NaN</td>\n      <td>Year</td>\n    </tr>\n    <tr>\n      <th>202908</th>\n      <td>Year</td>\n      <td>NaN</td>\n    </tr>\n    <tr>\n      <th>259810</th>\n      <td>Year</td>\n      <td>NaN</td>\n    </tr>\n    <tr>\n      <th>301208</th>\n      <td>Year</td>\n      <td>NaN</td>\n    </tr>\n    <tr>\n      <th>279984</th>\n      <td>Year</td>\n      <td>NaN</td>\n    </tr>\n    <tr>\n      <th>124846</th>\n      <td>NaN</td>\n      <td>Year</td>\n    </tr>\n    <tr>\n      <th>29408</th>\n      <td>NaN</td>\n      <td>NaN</td>\n    </tr>\n    <tr>\n      <th>243650</th>\n      <td>Year</td>\n      <td>NaN</td>\n    </tr>\n    <tr>\n      <th>121006</th>\n      <td>NaN</td>\n      <td>Year</td>\n    </tr>\n    <tr>\n      <th>6547</th>\n      <td>yr</td>\n      <td>NaN</td>\n    </tr>\n    <tr>\n      <th>346937</th>\n      <td>Year</td>\n      <td>NaN</td>\n    </tr>\n    <tr>\n      <th>148178</th>\n      <td>Year</td>\n      <td>NaN</td>\n    </tr>\n    <tr>\n      <th>74699</th>\n      <td>NaN</td>\n      <td>Year</td>\n    </tr>\n    <tr>\n      <th>59479</th>\n      <td>NaN</td>\n      <td>NaN</td>\n    </tr>\n    <tr>\n      <th>47842</th>\n      <td>NaN</td>\n      <td>NaN</td>\n    </tr>\n    <tr>\n      <th>158690</th>\n      <td>Year</td>\n      <td>NaN</td>\n    </tr>\n    <tr>\n      <th>264574</th>\n      <td>Year</td>\n      <td>NaN</td>\n    </tr>\n    <tr>\n      <th>216280</th>\n      <td>Year</td>\n      <td>NaN</td>\n    </tr>\n    <tr>\n      <th>22466</th>\n      <td>NaN</td>\n      <td>NaN</td>\n    </tr>\n    <tr>\n      <th>82020</th>\n      <td>NaN</td>\n      <td>Year</td>\n    </tr>\n    <tr>\n      <th>70104</th>\n      <td>NaN</td>\n      <td>Year</td>\n    </tr>\n    <tr>\n      <th>299295</th>\n      <td>Year</td>\n      <td>NaN</td>\n    </tr>\n    <tr>\n      <th>193915</th>\n      <td>Year</td>\n      <td>NaN</td>\n    </tr>\n    <tr>\n      <th>257103</th>\n      <td>Year</td>\n      <td>NaN</td>\n    </tr>\n  </tbody>\n</table>\n</div>"
     },
     "execution_count": 82,
     "metadata": {},
     "output_type": "execute_result"
    }
   ],
   "source": [
    "visas_df.sample(50)"
   ],
   "metadata": {
    "collapsed": false,
    "pycharm": {
     "name": "#%%\n"
    }
   }
  },
  {
   "cell_type": "code",
   "execution_count": 83,
   "outputs": [
    {
     "data": {
      "text/plain": "Year         230591\nyr            19733\nHour           7038\nhr              781\nWeek            142\nMonth            81\nwk               30\nmth              21\nBi-Weekly        20\nbi                9\nName: wage_offer_unit_of_pay_9089, dtype: int64"
     },
     "execution_count": 83,
     "metadata": {},
     "output_type": "execute_result"
    }
   ],
   "source": [
    "visas_df['wage_offer_unit_of_pay_9089'].value_counts()"
   ],
   "metadata": {
    "collapsed": false,
    "pycharm": {
     "name": "#%%\n"
    }
   }
  },
  {
   "cell_type": "code",
   "execution_count": 84,
   "outputs": [
    {
     "data": {
      "text/plain": "Year         68950\nHour          1651\nWeek            58\nMonth           39\nBi-Weekly        1\nName: wage_offered_unit_of_pay_9089, dtype: int64"
     },
     "execution_count": 84,
     "metadata": {},
     "output_type": "execute_result"
    }
   ],
   "source": [
    "visas_df['wage_offered_unit_of_pay_9089'].value_counts()"
   ],
   "metadata": {
    "collapsed": false,
    "pycharm": {
     "name": "#%%\n"
    }
   }
  },
  {
   "cell_type": "markdown",
   "source": [
    "wage_offer_unit_of_pay_9089 has to be cleaned. We'll deal with this issue after the merge."
   ],
   "metadata": {
    "collapsed": false
   }
  },
  {
   "cell_type": "code",
   "execution_count": 85,
   "outputs": [
    {
     "name": "stdout",
     "output_type": "stream",
     "text": [
      "wage_offer_unit_of_pay_9089\n",
      "258446/374362 69%\n",
      "Filled: |██████████████████████████████████----------------| 69.0% Rows\r\n",
      "\n",
      "wage_offered_unit_of_pay_9089\n",
      "70699/374362 19%\n",
      "Filled: |█████████-----------------------------------------| 18.9% Rows\r\n",
      "\n"
     ]
    },
    {
     "data": {
      "text/plain": "<Figure size 1152x288 with 1 Axes>",
      "image/png": "[encoded data removed]"
     },
     "metadata": {
      "needs_background": "light"
     },
     "output_type": "display_data"
    },
    {
     "data": {
      "text/plain": "<Figure size 1152x288 with 1 Axes>",
      "image/png": "[encoded data removed]"
     },
     "metadata": {
      "needs_background": "light"
     },
     "output_type": "display_data"
    }
   ],
   "source": [
    "modules.print_count_of_values_relation(visas_df, True, True)"
   ],
   "metadata": {
    "collapsed": false,
    "pycharm": {
     "name": "#%%\n"
    }
   }
  },
  {
   "cell_type": "markdown",
   "source": [
    "The dristribution of values reveals a problem. Between an index of 25.000 and 75.000 or dataset contains no value for the unit of pay."
   ],
   "metadata": {
    "collapsed": false
   }
  },
  {
   "cell_type": "markdown",
   "source": [
    "We will merge the both columns and take a closer look at the values they are containing."
   ],
   "metadata": {
    "collapsed": false
   }
  },
  {
   "cell_type": "code",
   "execution_count": 86,
   "outputs": [],
   "source": [
    "visas_df['wage_offer_unit_merged'] = visas_df['wage_offer_unit_of_pay_9089'].fillna('') + visas_df['wage_offered_unit_of_pay_9089'].fillna('')"
   ],
   "metadata": {
    "collapsed": false,
    "pycharm": {
     "name": "#%%\n"
    }
   }
  },
  {
   "cell_type": "code",
   "execution_count": 87,
   "outputs": [],
   "source": [
    "visas_df['wage_offer_unit_merged'].replace('', np.nan, inplace=True)"
   ],
   "metadata": {
    "collapsed": false,
    "pycharm": {
     "name": "#%%\n"
    }
   }
  },
  {
   "cell_type": "code",
   "execution_count": 88,
   "outputs": [
    {
     "data": {
      "text/plain": "Year         299541\nyr            19733\nHour           8689\nhr              781\nWeek            200\nMonth           120\nwk               30\nBi-Weekly        21\nmth              21\nbi                9\nName: wage_offer_unit_merged, dtype: int64"
     },
     "execution_count": 88,
     "metadata": {},
     "output_type": "execute_result"
    }
   ],
   "source": [
    "visas_df['wage_offer_unit_merged'].value_counts()"
   ],
   "metadata": {
    "collapsed": false,
    "pycharm": {
     "name": "#%%\n"
    }
   }
  },
  {
   "cell_type": "code",
   "execution_count": 89,
   "outputs": [],
   "source": [
    "unit_abbreviations = {\n",
    "  \"Year\": \"yr\",\n",
    "  \"Month\": \"mth\",\n",
    "  \"Bi-Weekly\": \"bi\",\n",
    "  \"Week\": \"wk\",\n",
    "  \"Hour\": \"hr\"\n",
    "}"
   ],
   "metadata": {
    "collapsed": false,
    "pycharm": {
     "name": "#%%\n"
    }
   }
  },
  {
   "cell_type": "code",
   "execution_count": 90,
   "outputs": [],
   "source": [
    "visas_df['wage_offer_unit_merged'] = visas_df['wage_offer_unit_merged'].replace(unit_abbreviations)"
   ],
   "metadata": {
    "collapsed": false,
    "pycharm": {
     "name": "#%%\n"
    }
   }
  },
  {
   "cell_type": "code",
   "execution_count": 91,
   "outputs": [
    {
     "data": {
      "text/plain": "yr     319274\nhr       9470\nwk        230\nmth       141\nbi         30\nName: wage_offer_unit_merged, dtype: int64"
     },
     "execution_count": 91,
     "metadata": {},
     "output_type": "execute_result"
    }
   ],
   "source": [
    "visas_df['wage_offer_unit_merged'].value_counts()"
   ],
   "metadata": {
    "collapsed": false,
    "pycharm": {
     "name": "#%%\n"
    }
   }
  },
  {
   "cell_type": "code",
   "execution_count": 92,
   "outputs": [
    {
     "name": "stdout",
     "output_type": "stream",
     "text": [
      "wage_offer_unit_of_pay_9089\n",
      "258446/374362 69%\n",
      "Filled: |██████████████████████████████████----------------| 69.0% Rows\r\n",
      "\n",
      "wage_offered_unit_of_pay_9089\n",
      "70699/374362 19%\n",
      "Filled: |█████████-----------------------------------------| 18.9% Rows\r\n",
      "\n",
      "wage_offer_unit_merged\n",
      "329145/374362 88%\n",
      "Filled: |███████████████████████████████████████████-------| 87.9% Rows\r\n",
      "\n"
     ]
    },
    {
     "data": {
      "text/plain": "<Figure size 1152x288 with 1 Axes>",
      "image/png": "[encoded data removed]"
     },
     "metadata": {
      "needs_background": "light"
     },
     "output_type": "display_data"
    },
    {
     "data": {
      "text/plain": "<Figure size 1152x288 with 1 Axes>",
      "image/png": "[encoded data removed]"
     },
     "metadata": {
      "needs_background": "light"
     },
     "output_type": "display_data"
    },
    {
     "data": {
      "text/plain": "<Figure size 1152x288 with 1 Axes>",
      "image/png": "[encoded data removed]"
     },
     "metadata": {
      "needs_background": "light"
     },
     "output_type": "display_data"
    }
   ],
   "source": [
    "\n",
    "modules.print_count_of_values_relation(visas_df, True, True)"
   ],
   "metadata": {
    "collapsed": false,
    "pycharm": {
     "name": "#%%\n"
    }
   }
  },
  {
   "cell_type": "markdown",
   "source": [
    "The gap remains, considering the gap is realtively small and we have lot's of values, we'll ignore the gap in the further analysis.\n"
   ],
   "metadata": {
    "collapsed": false
   }
  },
  {
   "cell_type": "code",
   "execution_count": 93,
   "outputs": [],
   "source": [
    "clean_df['wage_offer_unit'] = visas_df['wage_offer_unit_merged']"
   ],
   "metadata": {
    "collapsed": false,
    "pycharm": {
     "name": "#%%\n"
    }
   }
  },
  {
   "cell_type": "code",
   "execution_count": 94,
   "outputs": [
    {
     "data": {
      "text/plain": "   wage_offer_merged wage_offer_unit\n0           75629.00              yr\n1           37024.00              yr\n2           47923.00              yr\n3              10.97              hr\n4          100000.00              yr",
      "text/html": "<div>\n<style scoped>\n    .dataframe tbody tr th:only-of-type {\n        vertical-align: middle;\n    }\n\n    .dataframe tbody tr th {\n        vertical-align: top;\n    }\n\n    .dataframe thead th {\n        text-align: right;\n    }\n</style>\n<table border=\"1\" class=\"dataframe\">\n  <thead>\n    <tr style=\"text-align: right;\">\n      <th></th>\n      <th>wage_offer_merged</th>\n      <th>wage_offer_unit</th>\n    </tr>\n  </thead>\n  <tbody>\n    <tr>\n      <th>0</th>\n      <td>75629.00</td>\n      <td>yr</td>\n    </tr>\n    <tr>\n      <th>1</th>\n      <td>37024.00</td>\n      <td>yr</td>\n    </tr>\n    <tr>\n      <th>2</th>\n      <td>47923.00</td>\n      <td>yr</td>\n    </tr>\n    <tr>\n      <th>3</th>\n      <td>10.97</td>\n      <td>hr</td>\n    </tr>\n    <tr>\n      <th>4</th>\n      <td>100000.00</td>\n      <td>yr</td>\n    </tr>\n  </tbody>\n</table>\n</div>"
     },
     "execution_count": 94,
     "metadata": {},
     "output_type": "execute_result"
    }
   ],
   "source": [
    "\n",
    "clean_df.head()"
   ],
   "metadata": {
    "collapsed": false,
    "pycharm": {
     "name": "#%%\n"
    }
   }
  },
  {
   "cell_type": "code",
   "execution_count": 95,
   "outputs": [
    {
     "data": {
      "text/plain": "wage_offer_unit\nhr       221.303376\nbi      1634.519655\nmth     9005.593357\nwk     11315.946130\nyr     96487.857970\nName: wage_offer_merged, dtype: float64"
     },
     "execution_count": 95,
     "metadata": {},
     "output_type": "execute_result"
    }
   ],
   "source": [
    "clean_df.groupby('wage_offer_unit')['wage_offer_merged'].mean().sort_values()"
   ],
   "metadata": {
    "collapsed": false,
    "pycharm": {
     "name": "#%%\n"
    }
   }
  },
  {
   "cell_type": "code",
   "execution_count": 96,
   "outputs": [
    {
     "name": "stdout",
     "output_type": "stream",
     "text": [
      "                    count          mean           std      min       25%  \\\n",
      "wage_offer_unit                                                            \n",
      "bi                   29.0   1634.519655   1800.303267     8.00    620.00   \n",
      "hr                 9464.0    221.303376   4614.520453     6.55      8.91   \n",
      "mth                 140.0   9005.593357  16935.140095   800.00   2837.50   \n",
      "wk                  230.0  11315.946130  32412.952643     1.00    420.25   \n",
      "yr               319266.0  96487.857970  82671.176121  2200.60  74402.00   \n",
      "\n",
      "                     50%          75%         max  \n",
      "wage_offer_unit                                    \n",
      "bi                1360.0    1920.0000     10000.0  \n",
      "hr                  11.6      34.0000    188000.0  \n",
      "mth               5000.0    7785.3350    141000.0  \n",
      "wk                 800.0    1788.4675    224000.0  \n",
      "yr               92664.0  114192.0000  13285000.0  \n"
     ]
    }
   ],
   "source": [
    "\n",
    "modules.print_full(clean_df.groupby('wage_offer_unit')['wage_offer_merged'].describe())"
   ],
   "metadata": {
    "collapsed": false,
    "pycharm": {
     "name": "#%%\n"
    }
   }
  },
  {
   "cell_type": "code",
   "execution_count": 97,
   "outputs": [
    {
     "name": "stdout",
     "output_type": "stream",
     "text": [
      "wage_offer_unit        \n",
      "bi               18837        10000.00\n",
      "                 281821        2992.33\n",
      "                 338278        2500.00\n",
      "                 372923        2500.00\n",
      "                 17802         2134.50\n",
      "                 264059        2115.38\n",
      "                 3577          2000.00\n",
      "                 260057        1920.00\n",
      "                 348020        1870.00\n",
      "                 358656        1870.00\n",
      "hr               349488      188000.00\n",
      "                 17630       158828.80\n",
      "                 276889      135637.00\n",
      "                 107163      134534.00\n",
      "                 270788      115795.00\n",
      "                 271939      115795.00\n",
      "                 274251      115795.00\n",
      "                 134072      106080.00\n",
      "                 250626      105000.00\n",
      "                 9219         86070.00\n",
      "mth              331286      141000.00\n",
      "                 227399      115149.00\n",
      "                 233941       80000.00\n",
      "                 230390       45000.00\n",
      "                 130654       28746.00\n",
      "                 129057       25000.00\n",
      "                 293886       20833.33\n",
      "                 293887       20833.33\n",
      "                 196466       19698.00\n",
      "                 242841       19554.00\n",
      "wk               7552        224000.00\n",
      "                 96659       151590.00\n",
      "                 343930      139713.00\n",
      "                 79862       126048.00\n",
      "                 252570      122450.00\n",
      "                 105017      115000.00\n",
      "                 302445      112800.00\n",
      "                 20535       110240.00\n",
      "                 238258      110000.00\n",
      "                 244736      108850.00\n",
      "yr               129981    13285000.00\n",
      "                 132696    11494100.00\n",
      "                 132699    11494100.00\n",
      "                 19252     11175840.00\n",
      "                 20366     10501400.00\n",
      "                 84326     10441600.00\n",
      "                 20104      9603360.00\n",
      "                 337637     9582600.00\n",
      "                 89597      7900000.00\n",
      "                 105620     7835400.00\n",
      "Name: wage_offer_merged, dtype: float64\n"
     ]
    }
   ],
   "source": [
    "\n",
    "modules.print_full(clean_df.groupby('wage_offer_unit')['wage_offer_merged'].nlargest(10))"
   ],
   "metadata": {
    "collapsed": false,
    "pycharm": {
     "name": "#%%\n"
    }
   }
  },
  {
   "cell_type": "code",
   "execution_count": 98,
   "outputs": [
    {
     "data": {
      "text/plain": "<Figure size 432x288 with 1 Axes>",
      "image/png": "[encoded data removed]"
     },
     "metadata": {
      "needs_background": "light"
     },
     "output_type": "display_data"
    }
   ],
   "source": [
    "clean_df.groupby('wage_offer_unit')['wage_offer_merged'].mean().plot()\n",
    "plt.legend(loc=\"upper left\")\n",
    "plt.show()"
   ],
   "metadata": {
    "collapsed": false,
    "pycharm": {
     "name": "#%%\n"
    }
   }
  },
  {
   "cell_type": "markdown",
   "source": [
    "This is unexpected. It was expeced, that hr > week > bi > mth > yr.\n",
    "Anyway we'll leave all units besides yr unseen and concentrate on yr, which has the most occurences."
   ],
   "metadata": {
    "collapsed": false
   }
  },
  {
   "cell_type": "code",
   "execution_count": 99,
   "outputs": [
    {
     "data": {
      "text/plain": "<AxesSubplot:ylabel='wage_offer_unit'>"
     },
     "execution_count": 99,
     "metadata": {},
     "output_type": "execute_result"
    },
    {
     "data": {
      "text/plain": "<Figure size 432x288 with 1 Axes>",
      "image/png": "[encoded data removed]"
     },
     "metadata": {},
     "output_type": "display_data"
    }
   ],
   "source": [
    "clean_df['wage_offer_unit'].value_counts().plot(kind='pie')"
   ],
   "metadata": {
    "collapsed": false,
    "pycharm": {
     "name": "#%%\n"
    }
   }
  },
  {
   "cell_type": "markdown",
   "source": [
    "Filter all not yr values"
   ],
   "metadata": {
    "collapsed": false
   }
  },
  {
   "cell_type": "code",
   "execution_count": 100,
   "outputs": [],
   "source": [
    "new_df = clean_df[clean_df[\"wage_offer_unit\"].str.contains(\"yr\", na=False)]"
   ],
   "metadata": {
    "collapsed": false,
    "pycharm": {
     "name": "#%%\n"
    }
   }
  },
  {
   "cell_type": "code",
   "execution_count": 101,
   "outputs": [
    {
     "data": {
      "text/plain": "wage_offer_merged    float64\nwage_offer_unit       object\ndtype: object"
     },
     "execution_count": 101,
     "metadata": {},
     "output_type": "execute_result"
    }
   ],
   "source": [
    "clean_df.dtypes"
   ],
   "metadata": {
    "collapsed": false,
    "pycharm": {
     "name": "#%%\n"
    }
   }
  },
  {
   "cell_type": "code",
   "execution_count": 102,
   "outputs": [
    {
     "data": {
      "text/plain": "319274"
     },
     "execution_count": 102,
     "metadata": {},
     "output_type": "execute_result"
    }
   ],
   "source": [
    "new_df[\"wage_offer_unit\"].size"
   ],
   "metadata": {
    "collapsed": false,
    "pycharm": {
     "name": "#%%\n"
    }
   }
  },
  {
   "cell_type": "code",
   "execution_count": 103,
   "outputs": [
    {
     "data": {
      "text/plain": "wage_offer_merged  wage_offer_unit\n90000.00           yr                 3499\n110000.00          yr                 3041\n100000.00          yr                 3038\n120000.00          yr                 3015\n72467.00           yr                 2839\n                                      ... \n105487.00          yr                    1\n105489.00          yr                    1\n105494.00          yr                    1\n105499.89          yr                    1\n2200.60            yr                    1\nLength: 32662, dtype: int64"
     },
     "execution_count": 103,
     "metadata": {},
     "output_type": "execute_result"
    }
   ],
   "source": [
    "new_df.value_counts()"
   ],
   "metadata": {
    "collapsed": false,
    "pycharm": {
     "name": "#%%\n"
    }
   }
  },
  {
   "cell_type": "code",
   "execution_count": 103,
   "outputs": [],
   "source": [],
   "metadata": {
    "collapsed": false,
    "pycharm": {
     "name": "#%%\n"
    }
   }
  },
  {
   "cell_type": "markdown",
   "source": [
    "This is unexpected. It was expeced, that hr > week > bi > mth > yr.\n",
    "Anyway we'll leave all units besides yr unseen and concentrate on yr, which has the most occurences."
   ],
   "metadata": {
    "collapsed": false
   }
  },
  {
   "cell_type": "code",
   "execution_count": 104,
   "outputs": [
    {
     "data": {
      "text/plain": "<AxesSubplot:ylabel='wage_offer_unit'>"
     },
     "execution_count": 104,
     "metadata": {},
     "output_type": "execute_result"
    },
    {
     "data": {
      "text/plain": "<Figure size 432x288 with 1 Axes>",
      "image/png": "[encoded data removed]"
     },
     "metadata": {},
     "output_type": "display_data"
    }
   ],
   "source": [
    "clean_df['wage_offer_unit'].value_counts().plot(kind='pie')"
   ],
   "metadata": {
    "collapsed": false,
    "pycharm": {
     "name": "#%%\n"
    }
   }
  },
  {
   "cell_type": "markdown",
   "source": [
    "Filter all not yr values"
   ],
   "metadata": {
    "collapsed": false
   }
  },
  {
   "cell_type": "code",
   "execution_count": 105,
   "outputs": [],
   "source": [
    "new_df = clean_df[clean_df[\"wage_offer_unit\"].str.contains(\"yr\", na=False)]"
   ],
   "metadata": {
    "collapsed": false,
    "pycharm": {
     "name": "#%%\n"
    }
   }
  },
  {
   "cell_type": "code",
   "execution_count": 106,
   "outputs": [
    {
     "data": {
      "text/plain": "wage_offer_merged    float64\nwage_offer_unit       object\ndtype: object"
     },
     "execution_count": 106,
     "metadata": {},
     "output_type": "execute_result"
    }
   ],
   "source": [
    "clean_df.dtypes"
   ],
   "metadata": {
    "collapsed": false,
    "pycharm": {
     "name": "#%%\n"
    }
   }
  },
  {
   "cell_type": "code",
   "execution_count": 107,
   "outputs": [
    {
     "data": {
      "text/plain": "319274"
     },
     "execution_count": 107,
     "metadata": {},
     "output_type": "execute_result"
    }
   ],
   "source": [
    "new_df[\"wage_offer_unit\"].size"
   ],
   "metadata": {
    "collapsed": false,
    "pycharm": {
     "name": "#%%\n"
    }
   }
  },
  {
   "cell_type": "code",
   "execution_count": 108,
   "outputs": [
    {
     "data": {
      "text/plain": "wage_offer_merged  wage_offer_unit\n90000.00           yr                 3499\n110000.00          yr                 3041\n100000.00          yr                 3038\n120000.00          yr                 3015\n72467.00           yr                 2839\n                                      ... \n105487.00          yr                    1\n105489.00          yr                    1\n105494.00          yr                    1\n105499.89          yr                    1\n2200.60            yr                    1\nLength: 32662, dtype: int64"
     },
     "execution_count": 108,
     "metadata": {},
     "output_type": "execute_result"
    }
   ],
   "source": [
    "new_df.value_counts()"
   ],
   "metadata": {
    "collapsed": false,
    "pycharm": {
     "name": "#%%\n"
    }
   }
  },
  {
   "cell_type": "markdown",
   "source": [
    "-----------------------"
   ],
   "metadata": {
    "collapsed": false,
    "pycharm": {
     "name": "#%% md\n"
    }
   }
  },
  {
   "cell_type": "markdown",
   "source": [
    "# Unplausible Werte"
   ],
   "metadata": {
    "collapsed": false,
    "pycharm": {
     "name": "#%% md\n"
    }
   }
  },
  {
   "cell_type": "code",
   "execution_count": 110,
   "outputs": [],
   "source": [
    "import cleanup\n",
    "import pandas as pd\n",
    "import matplotlib.pyplot as plt\n",
    "plt.style.use('../own_style.mplstyle')\n",
    "from scipy.stats import linregress"
   ],
   "metadata": {
    "collapsed": false,
    "pycharm": {
     "name": "#%%\n"
    }
   }
  },
  {
   "cell_type": "code",
   "execution_count": 111,
   "outputs": [],
   "source": [
    "# cleanup.generate_cleaned_df()"
   ],
   "metadata": {
    "collapsed": false,
    "pycharm": {
     "name": "#%%\n"
    }
   }
  },
  {
   "cell_type": "code",
   "execution_count": 116,
   "outputs": [],
   "source": [
    "\n",
    "col_list = [\"prevailing_wage_amount_9089\", \"prevailing_wage_unit_of_pay_9089\"]\n",
    "visas_df = pd.read_csv('../data/us_perm_visas_cleaned.csv', usecols=col_list)"
   ],
   "metadata": {
    "collapsed": false,
    "pycharm": {
     "name": "#%%\n"
    }
   }
  },
  {
   "cell_type": "code",
   "execution_count": 122,
   "outputs": [
    {
     "name": "stdout",
     "output_type": "stream",
     "text": [
      "prevailing_wage_unit_of_pay_9089        \n",
      "bi                                310505       8.00\n",
      "                                  61147       14.15\n",
      "                                  308766     125.00\n",
      "                                  235563     400.00\n",
      "                                  18010      600.00\n",
      "                                  199471     620.00\n",
      "                                  203295     620.00\n",
      "                                  203302     620.00\n",
      "                                  61206      833.33\n",
      "                                  286511     850.00\n",
      "                                  656       1033.60\n",
      "                                  1029      1200.00\n",
      "                                  329841    1359.62\n",
      "                                  229946    1365.00\n",
      "                                  133080    1649.35\n",
      "                                  244427    1649.35\n",
      "                                  264059    1668.35\n",
      "                                  328383    1799.23\n",
      "                                  3577      2000.00\n",
      "                                  60373     2000.00\n",
      "hr                                60980        5.55\n",
      "                                  351926       6.14\n",
      "                                  357306       6.14\n",
      "                                  372057       6.14\n",
      "                                  372244       6.14\n",
      "                                  372259       6.14\n",
      "                                  372689       6.14\n",
      "                                  373305       6.14\n",
      "                                  373310       6.14\n",
      "                                  351333       6.23\n",
      "                                  357385       6.23\n",
      "                                  371901       6.23\n",
      "                                  372195       6.23\n",
      "                                  372660       6.23\n",
      "                                  372688       6.23\n",
      "                                  372691       6.23\n",
      "                                  373665       6.23\n",
      "                                  374009       6.23\n",
      "                                  374016       6.23\n",
      "                                  135434       6.55\n",
      "mth                               208714     875.00\n",
      "                                  59921     1440.00\n",
      "                                  61794     1440.00\n",
      "                                  130716    1500.00\n",
      "                                  132683    1500.00\n",
      "                                  191952    1500.00\n",
      "                                  193283    1500.00\n",
      "                                  194274    1500.00\n",
      "                                  323053    1500.00\n",
      "                                  353997    1500.00\n",
      "                                  131312    1600.00\n",
      "                                  176268    1600.00\n",
      "                                  131193    1700.00\n",
      "                                  15588     1750.00\n",
      "                                  61517     1802.67\n",
      "                                  336791    1950.00\n",
      "                                  61010     2000.00\n",
      "                                  61173     2000.00\n",
      "                                  130715    2000.00\n",
      "                                  140195    2000.00\n",
      "wk                                128677       7.25\n",
      "                                  129096       8.25\n",
      "                                  61460        9.15\n",
      "                                  128042       9.15\n",
      "                                  125004      11.68\n",
      "                                  326896      12.00\n",
      "                                  362028      12.00\n",
      "                                  60081       13.64\n",
      "                                  325666      15.00\n",
      "                                  362029      15.00\n",
      "                                  20692       22.75\n",
      "                                  61187       29.84\n",
      "                                  60151       32.89\n",
      "                                  36099       40.71\n",
      "                                  126740      43.08\n",
      "                                  205049     200.00\n",
      "                                  149166     290.00\n",
      "                                  305987     290.00\n",
      "                                  305988     290.00\n",
      "                                  318719     290.00\n",
      "yr                                56320       10.44\n",
      "                                  20688       10.61\n",
      "                                  128635      11.15\n",
      "                                  116282      19.68\n",
      "                                  131973      19.68\n",
      "                                  129260      21.01\n",
      "                                  128261      21.49\n",
      "                                  61843       21.51\n",
      "                                  95858       21.51\n",
      "                                  115181      22.06\n",
      "                                  20600       22.46\n",
      "                                  61042       23.71\n",
      "                                  61127       23.71\n",
      "                                  109407      23.71\n",
      "                                  124182      24.59\n",
      "                                  84070       25.48\n",
      "                                  61505       26.93\n",
      "                                  20695       27.92\n",
      "                                  129742      27.92\n",
      "                                  129760      27.95\n",
      "Name: prevailing_wage_amount_9089, dtype: float64\n"
     ]
    }
   ],
   "source": [
    "modules.print_full(visas_df.groupby('prevailing_wage_unit_of_pay_9089')['prevailing_wage_amount_9089'].nsmallest(20))"
   ],
   "metadata": {
    "collapsed": false,
    "pycharm": {
     "name": "#%%\n"
    }
   }
  },
  {
   "cell_type": "code",
   "execution_count": 120,
   "outputs": [
    {
     "data": {
      "text/plain": "yr     364080\nhr       8345\nwk        207\nmth       130\nbi         28\nName: prevailing_wage_unit_of_pay_9089, dtype: int64"
     },
     "execution_count": 120,
     "metadata": {},
     "output_type": "execute_result"
    }
   ],
   "source": [
    "visas_df[\"prevailing_wage_unit_of_pay_9089\"].value_counts()"
   ],
   "metadata": {
    "collapsed": false,
    "pycharm": {
     "name": "#%%\n"
    }
   }
  },
  {
   "cell_type": "code",
   "execution_count": null,
   "outputs": [],
   "source": [],
   "metadata": {
    "collapsed": false,
    "pycharm": {
     "name": "#%%\n"
    }
   }
  }
 ],
 "metadata": {
  "kernelspec": {
   "display_name": "Python 3",
   "language": "python",
   "name": "python3"
  },
  "language_info": {
   "codemirror_mode": {
    "name": "ipython",
    "version": 2
   },
   "file_extension": ".py",
   "mimetype": "text/x-python",
   "name": "python",
   "nbconvert_exporter": "python",
   "pygments_lexer": "ipython2",
   "version": "2.7.6"
  }
 },
 "nbformat": 4,
 "nbformat_minor": 0
}