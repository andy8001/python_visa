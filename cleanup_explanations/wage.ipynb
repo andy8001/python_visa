{
 "cells": [
  {
   "cell_type": "code",
   "execution_count": 1,
   "outputs": [],
   "source": [
    "import pandas as pd\n",
    "import importlib\n",
    "import modules\n",
    "import numpy as np\n",
    "import matplotlib.pyplot as plt\n",
    "import cleanup"
   ],
   "metadata": {
    "collapsed": false,
    "pycharm": {
     "name": "#%%\n"
    }
   }
  },
  {
   "cell_type": "markdown",
   "source": [
    "# wage_offer_unit_of_pay_9089"
   ],
   "metadata": {
    "collapsed": false,
    "pycharm": {
     "name": "#%% md\n"
    }
   }
  },
  {
   "cell_type": "code",
   "execution_count": 2,
   "outputs": [
    {
     "name": "stderr",
     "output_type": "stream",
     "text": [
      "C:\\Users\\andre\\anaconda3\\lib\\site-packages\\IPython\\core\\interactiveshell.py:3146: DtypeWarning: Columns (150) have mixed types.Specify dtype option on import or set low_memory=False.\n",
      "  has_raised = await self.run_ast_nodes(code_ast.body, cell_name,\n"
     ]
    }
   ],
   "source": [
    "col_list = [\"wage_offer_unit_of_pay_9089\"]\n",
    "visas_df = pd.read_csv('../data/us_perm_visas.csv', usecols=col_list)"
   ],
   "metadata": {
    "collapsed": false,
    "pycharm": {
     "name": "#%%\n"
    }
   }
  },
  {
   "cell_type": "code",
   "execution_count": 3,
   "outputs": [
    {
     "data": {
      "text/plain": "wage_offer_unit_of_pay_9089\nYear                           230591\nyr                              19733\nHour                             7038\nhr                                781\nWeek                              142\nMonth                              81\nwk                                 30\nmth                                21\nBi-Weekly                          20\nbi                                  9\ndtype: int64"
     },
     "execution_count": 3,
     "metadata": {},
     "output_type": "execute_result"
    }
   ],
   "source": [
    "visas_df.value_counts()"
   ],
   "metadata": {
    "collapsed": false,
    "pycharm": {
     "name": "#%%\n"
    }
   }
  },
  {
   "cell_type": "markdown",
   "source": [
    "In der Spalte `wage_offer_unit_of_pay_9089` sind Kurz und Langschreibweise der Einheiten im Wechsel vorhanden.\n",
    "Es soll visualisiert werden, wie diese unterschiede in den Schreibweise zustandegekommen sind."
   ],
   "metadata": {
    "collapsed": false,
    "pycharm": {
     "name": "#%% md\n"
    }
   }
  },
  {
   "cell_type": "code",
   "execution_count": 4,
   "outputs": [],
   "source": [
    "unit_abbreviations = {\n",
    "    \"Year\": \"long\",\n",
    "    \"Month\": \"long\",\n",
    "    \"Bi-Weekly\": \"long\",\n",
    "    \"Week\": \"long\",\n",
    "    \"Hour\": \"long\",\n",
    "    \"yr\": \"short\",\n",
    "    \"mth\": \"short\",\n",
    "    \"bi\": \"short\",\n",
    "    \"wk\": \"short\",\n",
    "    \"hr\": \"short\",\n",
    "    }\n",
    "\n",
    "visas_df[\"wage_offer_unit_of_pay_9089\"]= visas_df[\"wage_offer_unit_of_pay_9089\"].replace(unit_abbreviations)"
   ],
   "metadata": {
    "collapsed": false,
    "pycharm": {
     "name": "#%%\n"
    }
   }
  },
  {
   "cell_type": "code",
   "execution_count": 5,
   "outputs": [],
   "source": [
    "visas_df[\"Langschreibweise\"] = visas_df[\"wage_offer_unit_of_pay_9089\"]== \"long\"\n",
    "visas_df[\"Kurzschreibweise\"] = visas_df[\"wage_offer_unit_of_pay_9089\"]== \"short\""
   ],
   "metadata": {
    "collapsed": false,
    "pycharm": {
     "name": "#%%\n"
    }
   }
  },
  {
   "cell_type": "code",
   "execution_count": 6,
   "outputs": [
    {
     "data": {
      "text/plain": "<matplotlib.legend.Legend at 0x2d6f1c417f0>"
     },
     "execution_count": 6,
     "metadata": {},
     "output_type": "execute_result"
    },
    {
     "data": {
      "text/plain": "<Figure size 1152x288 with 1 Axes>",
      "image/png": "[encoded data removed]"
     },
     "metadata": {
      "needs_background": "light"
     },
     "output_type": "display_data"
    }
   ],
   "source": [
    "visas_df[\"Langschreibweise\"].astype(int).plot(x='index', figsize=(16,4)).legend()\n",
    "visas_df[\"Kurzschreibweise\"].astype(int).plot(x='index', figsize=(16,4)).legend()"
   ],
   "metadata": {
    "collapsed": false,
    "pycharm": {
     "name": "#%%\n"
    }
   }
  },
  {
   "cell_type": "markdown",
   "source": [
    "Am Anfang des Datensatzes ist auschließlich die Kurzschreibweise vorzufinden, dies ändert sich ungefähr ab Index 125.000."
   ],
   "metadata": {
    "collapsed": false,
    "pycharm": {
     "name": "#%% md\n"
    }
   }
  },
  {
   "cell_type": "markdown",
   "source": [
    "Die Bereinigung findet in der cleanup.py in der Funktion `normalize_pay_unit_columns` durch ein dictionary statt."
   ],
   "metadata": {
    "collapsed": false,
    "pycharm": {
     "name": "#%% md\n"
    }
   }
  },
  {
   "cell_type": "markdown",
   "source": [
    "# wage_offer_from"
   ],
   "metadata": {
    "collapsed": false
   }
  },
  {
   "cell_type": "markdown",
   "source": [
    "Das Gehaltsangebot ist im Datensatz in zwei Spalten vorzufinden.\n",
    "In den Spalten `wage_offer_from_9089` and `wage_offered_from_9089`.\n",
    "Diese beiden Spalten müssen zusammengeführt werden."
   ],
   "metadata": {
    "collapsed": false
   }
  },
  {
   "cell_type": "code",
   "execution_count": 7,
   "outputs": [
    {
     "name": "stderr",
     "output_type": "stream",
     "text": [
      "C:\\Users\\andre\\anaconda3\\lib\\site-packages\\IPython\\core\\interactiveshell.py:3146: DtypeWarning: Columns (148) have mixed types.Specify dtype option on import or set low_memory=False.\n",
      "  has_raised = await self.run_ast_nodes(code_ast.body, cell_name,\n"
     ]
    }
   ],
   "source": [
    "col_list= [\"wage_offer_from_9089\", \"wage_offered_from_9089\"]\n",
    "visas_df = pd.read_csv(\"../data/us_perm_visas.csv\", usecols=col_list)\n"
   ],
   "metadata": {
    "collapsed": false,
    "pycharm": {
     "name": "#%%\n"
    }
   }
  },
  {
   "cell_type": "code",
   "execution_count": 8,
   "outputs": [
    {
     "data": {
      "text/plain": "       wage_offer_from_9089  wage_offered_from_9089\n13309                101888                     NaN\n137198           100,110.00                     NaN\n88245                   NaN                124000.0\n115019                  NaN                101899.0\n370508            56,846.00                     NaN\n1784                 140000                     NaN\n165342            72,467.00                     NaN\n97868                   NaN                 80000.0\n353022           168,000.00                     NaN\n252546                90418                     NaN\n100181                  NaN                 60676.0\n105272                  NaN                109970.0\n79226                   NaN                115670.0\n338386                86070                     NaN\n4087                  87818                     NaN\n81895                   NaN                114254.0\n221554            76,800.00                     NaN\n332460               126590                     NaN\n289583               120349                     NaN\n306360                83000                     NaN",
      "text/html": "<div>\n<style scoped>\n    .dataframe tbody tr th:only-of-type {\n        vertical-align: middle;\n    }\n\n    .dataframe tbody tr th {\n        vertical-align: top;\n    }\n\n    .dataframe thead th {\n        text-align: right;\n    }\n</style>\n<table border=\"1\" class=\"dataframe\">\n  <thead>\n    <tr style=\"text-align: right;\">\n      <th></th>\n      <th>wage_offer_from_9089</th>\n      <th>wage_offered_from_9089</th>\n    </tr>\n  </thead>\n  <tbody>\n    <tr>\n      <th>13309</th>\n      <td>101888</td>\n      <td>NaN</td>\n    </tr>\n    <tr>\n      <th>137198</th>\n      <td>100,110.00</td>\n      <td>NaN</td>\n    </tr>\n    <tr>\n      <th>88245</th>\n      <td>NaN</td>\n      <td>124000.0</td>\n    </tr>\n    <tr>\n      <th>115019</th>\n      <td>NaN</td>\n      <td>101899.0</td>\n    </tr>\n    <tr>\n      <th>370508</th>\n      <td>56,846.00</td>\n      <td>NaN</td>\n    </tr>\n    <tr>\n      <th>1784</th>\n      <td>140000</td>\n      <td>NaN</td>\n    </tr>\n    <tr>\n      <th>165342</th>\n      <td>72,467.00</td>\n      <td>NaN</td>\n    </tr>\n    <tr>\n      <th>97868</th>\n      <td>NaN</td>\n      <td>80000.0</td>\n    </tr>\n    <tr>\n      <th>353022</th>\n      <td>168,000.00</td>\n      <td>NaN</td>\n    </tr>\n    <tr>\n      <th>252546</th>\n      <td>90418</td>\n      <td>NaN</td>\n    </tr>\n    <tr>\n      <th>100181</th>\n      <td>NaN</td>\n      <td>60676.0</td>\n    </tr>\n    <tr>\n      <th>105272</th>\n      <td>NaN</td>\n      <td>109970.0</td>\n    </tr>\n    <tr>\n      <th>79226</th>\n      <td>NaN</td>\n      <td>115670.0</td>\n    </tr>\n    <tr>\n      <th>338386</th>\n      <td>86070</td>\n      <td>NaN</td>\n    </tr>\n    <tr>\n      <th>4087</th>\n      <td>87818</td>\n      <td>NaN</td>\n    </tr>\n    <tr>\n      <th>81895</th>\n      <td>NaN</td>\n      <td>114254.0</td>\n    </tr>\n    <tr>\n      <th>221554</th>\n      <td>76,800.00</td>\n      <td>NaN</td>\n    </tr>\n    <tr>\n      <th>332460</th>\n      <td>126590</td>\n      <td>NaN</td>\n    </tr>\n    <tr>\n      <th>289583</th>\n      <td>120349</td>\n      <td>NaN</td>\n    </tr>\n    <tr>\n      <th>306360</th>\n      <td>83000</td>\n      <td>NaN</td>\n    </tr>\n  </tbody>\n</table>\n</div>"
     },
     "execution_count": 8,
     "metadata": {},
     "output_type": "execute_result"
    }
   ],
   "source": [
    "visas_df.sample(20)"
   ],
   "metadata": {
    "collapsed": false,
    "pycharm": {
     "name": "#%%\n"
    }
   }
  },
  {
   "cell_type": "code",
   "execution_count": 9,
   "outputs": [
    {
     "data": {
      "text/plain": "wage_offer_from_9089       object\nwage_offered_from_9089    float64\ndtype: object"
     },
     "execution_count": 9,
     "metadata": {},
     "output_type": "execute_result"
    }
   ],
   "source": [
    "visas_df.dtypes"
   ],
   "metadata": {
    "collapsed": false,
    "pycharm": {
     "name": "#%%\n"
    }
   }
  },
  {
   "cell_type": "markdown",
   "source": [
    "`wage_offered_from_9089` wurde erfolgreich als float importiert.\n",
    "Jedoch werden noch einen genaueren Blick auf `wage_offer_from_9089` werfen müssen um es in einen float werden umzuwandeln."
   ],
   "metadata": {
    "collapsed": false
   }
  },
  {
   "cell_type": "markdown",
   "source": [
    "Die Werte in den beiden vorliegenden Spalten sind wie folgt verteilt."
   ],
   "metadata": {
    "collapsed": false
   }
  },
  {
   "cell_type": "code",
   "execution_count": 10,
   "outputs": [
    {
     "name": "stdout",
     "output_type": "stream",
     "text": [
      "wage_offer_from_9089\n",
      "259591/374362 69%\n",
      "Filled: |██████████████████████████████████----------------| 69.3% Rows\r\n",
      "\n",
      "wage_offered_from_9089\n",
      "114647/374362 31%\n",
      "Filled: |███████████████-----------------------------------| 30.6% Rows\r\n",
      "\n"
     ]
    },
    {
     "data": {
      "text/plain": "<Figure size 1152x288 with 1 Axes>",
      "image/png": "[encoded data removed]"
     },
     "metadata": {
      "needs_background": "light"
     },
     "output_type": "display_data"
    },
    {
     "data": {
      "text/plain": "<Figure size 1152x288 with 1 Axes>",
      "image/png": "[encoded data removed]"
     },
     "metadata": {
      "needs_background": "light"
     },
     "output_type": "display_data"
    }
   ],
   "source": [
    "modules.print_count_of_values_relation(visas_df, True, True)"
   ],
   "metadata": {
    "collapsed": false,
    "pycharm": {
     "name": "#%%\n"
    }
   }
  },
  {
   "cell_type": "markdown",
   "source": [
    "Zur Erläuterung der resultierenden Graphen:\n",
    "\n",
    "Die X-Achse zeigt den Index aller Werte. Wir haben über 350000 Werte (Zeilen) in unserem Datensatz.\n",
    "\n",
    "Die Y-Achse zeigt an, ob eine Zeile mit einem tatsächlichen Wert gefüllt ist. Nicht-NaN-Werte werden als 1 angezeigt, NaN-Werte werden als 0 angezeigt.\n",
    "\n",
    "Es wird ersichtlich, dass sich beide Spalten gegenseitig ergänzen. Lücken in `wage_offer_from_9098` können mit `wage_offer_from_9098` gefüllt werden."
   ],
   "metadata": {
    "collapsed": false
   }
  },
  {
   "cell_type": "code",
   "execution_count": 11,
   "outputs": [
    {
     "name": "stderr",
     "output_type": "stream",
     "text": [
      "C:\\Users\\andre\\anaconda3\\lib\\site-packages\\pandas\\core\\computation\\expressions.py:203: UserWarning: evaluating in Python space because the '+' operator is not supported by numexpr for the bool dtype, use '|' instead\n",
      "  warnings.warn(\n"
     ]
    },
    {
     "data": {
      "text/plain": "False"
     },
     "execution_count": 11,
     "metadata": {},
     "output_type": "execute_result"
    }
   ],
   "source": [
    "modules.areTwoColumnsOverlapping(visas_df, \"wage_offer_from_9089\", \"wage_offered_from_9089\")"
   ],
   "metadata": {
    "collapsed": false,
    "pycharm": {
     "name": "#%%\n"
    }
   }
  },
  {
   "cell_type": "markdown",
   "source": [
    "Die beiden Spalten überlappen nicht."
   ],
   "metadata": {
    "collapsed": false,
    "pycharm": {
     "name": "#%% md\n"
    }
   }
  },
  {
   "cell_type": "markdown",
   "source": [
    "Die Spalte wage_offered_from_9089 wurde von pandas als object erkannt.\n",
    "Dies ist der Fall aufgrund der Tausender-Trennzeichen.\n",
    "\n",
    "Wir führen die Funktion `clean_currency` der cleanup.py aus, welche die enthaltenen Trennzeichen entfernt und wandeln die Spalte`wage_offer_from_9089` zum Datentyp float um."
   ],
   "metadata": {
    "collapsed": false
   }
  },
  {
   "cell_type": "code",
   "execution_count": 12,
   "outputs": [],
   "source": [
    "visas_df[\"wage_offer_from_9089\"] = visas_df[\"wage_offer_from_9089\"].apply(cleanup.clean_currency).astype('float')"
   ],
   "metadata": {
    "collapsed": false,
    "pycharm": {
     "name": "#%%\n"
    }
   }
  },
  {
   "cell_type": "code",
   "execution_count": 13,
   "outputs": [
    {
     "data": {
      "text/plain": "dtype('float64')"
     },
     "execution_count": 13,
     "metadata": {},
     "output_type": "execute_result"
    }
   ],
   "source": [
    "visas_df[\"wage_offer_from_9089\"].dtype"
   ],
   "metadata": {
    "collapsed": false,
    "pycharm": {
     "name": "#%%\n"
    }
   }
  },
  {
   "cell_type": "code",
   "execution_count": 18,
   "outputs": [
    {
     "name": "stdout",
     "output_type": "stream",
     "text": [
      "ya\n"
     ]
    }
   ],
   "source": [
    "if visas_df[\"wage_offer_from_9089\"].dtype in [np.dtype('float64'), np.dtype('float32')]:\n",
    "    print(\"ya\")"
   ],
   "metadata": {
    "collapsed": false,
    "pycharm": {
     "name": "#%%\n"
    }
   }
  },
  {
   "cell_type": "markdown",
   "source": [
    "Alle Werte wurden zu floats umgewandelt.\n",
    "Die Spalte `wage_offer_from_9089` wurde erfolgreich bereinigt."
   ],
   "metadata": {
    "collapsed": false
   }
  },
  {
   "cell_type": "code",
   "execution_count": 16,
   "outputs": [
    {
     "data": {
      "text/plain": "91104.0"
     },
     "execution_count": 16,
     "metadata": {},
     "output_type": "execute_result"
    }
   ],
   "source": [
    "visas_df['wage_offer_from_9089'].median()"
   ],
   "metadata": {
    "collapsed": false,
    "pycharm": {
     "name": "#%%\n"
    }
   }
  },
  {
   "cell_type": "code",
   "execution_count": 17,
   "outputs": [
    {
     "data": {
      "text/plain": "        wage_offer_from_9089  wage_offered_from_9089\n147798              80517.00                     NaN\n13717               87380.00                     NaN\n338019                 36.00                     NaN\n340165             157477.00                     NaN\n186782             122179.00                     NaN\n136772              85176.00                     NaN\n305488              22949.33                     NaN\n171884              30000.00                     NaN\n18105               55000.00                     NaN\n236674             109762.00                     NaN\n259108             180000.00                     NaN\n140819              87500.00                     NaN\n93952                    NaN                109000.0\n350781             135262.00                     NaN\n312420              38626.00                     NaN",
      "text/html": "<div>\n<style scoped>\n    .dataframe tbody tr th:only-of-type {\n        vertical-align: middle;\n    }\n\n    .dataframe tbody tr th {\n        vertical-align: top;\n    }\n\n    .dataframe thead th {\n        text-align: right;\n    }\n</style>\n<table border=\"1\" class=\"dataframe\">\n  <thead>\n    <tr style=\"text-align: right;\">\n      <th></th>\n      <th>wage_offer_from_9089</th>\n      <th>wage_offered_from_9089</th>\n    </tr>\n  </thead>\n  <tbody>\n    <tr>\n      <th>147798</th>\n      <td>80517.00</td>\n      <td>NaN</td>\n    </tr>\n    <tr>\n      <th>13717</th>\n      <td>87380.00</td>\n      <td>NaN</td>\n    </tr>\n    <tr>\n      <th>338019</th>\n      <td>36.00</td>\n      <td>NaN</td>\n    </tr>\n    <tr>\n      <th>340165</th>\n      <td>157477.00</td>\n      <td>NaN</td>\n    </tr>\n    <tr>\n      <th>186782</th>\n      <td>122179.00</td>\n      <td>NaN</td>\n    </tr>\n    <tr>\n      <th>136772</th>\n      <td>85176.00</td>\n      <td>NaN</td>\n    </tr>\n    <tr>\n      <th>305488</th>\n      <td>22949.33</td>\n      <td>NaN</td>\n    </tr>\n    <tr>\n      <th>171884</th>\n      <td>30000.00</td>\n      <td>NaN</td>\n    </tr>\n    <tr>\n      <th>18105</th>\n      <td>55000.00</td>\n      <td>NaN</td>\n    </tr>\n    <tr>\n      <th>236674</th>\n      <td>109762.00</td>\n      <td>NaN</td>\n    </tr>\n    <tr>\n      <th>259108</th>\n      <td>180000.00</td>\n      <td>NaN</td>\n    </tr>\n    <tr>\n      <th>140819</th>\n      <td>87500.00</td>\n      <td>NaN</td>\n    </tr>\n    <tr>\n      <th>93952</th>\n      <td>NaN</td>\n      <td>109000.0</td>\n    </tr>\n    <tr>\n      <th>350781</th>\n      <td>135262.00</td>\n      <td>NaN</td>\n    </tr>\n    <tr>\n      <th>312420</th>\n      <td>38626.00</td>\n      <td>NaN</td>\n    </tr>\n  </tbody>\n</table>\n</div>"
     },
     "execution_count": 17,
     "metadata": {},
     "output_type": "execute_result"
    }
   ],
   "source": [
    "visas_df.sample(15)"
   ],
   "metadata": {
    "collapsed": false,
    "pycharm": {
     "name": "#%%\n"
    }
   }
  },
  {
   "cell_type": "markdown",
   "source": [
    "## Zusammenführen beider Spalten"
   ],
   "metadata": {
    "collapsed": false,
    "pycharm": {
     "name": "#%% md\n"
    }
   }
  },
  {
   "cell_type": "markdown",
   "source": [
    "Alle Nan-Werte werden vorerst mit einer 0 befüllt, anschließend werden beide Spalten aufaddiert.\n",
    "Wir haben früher bewiesen, das die Spalten nie überlappen."
   ],
   "metadata": {
    "collapsed": false
   }
  },
  {
   "cell_type": "code",
   "execution_count": null,
   "outputs": [],
   "source": [
    "visas_df['wage_offer_merged'] = visas_df['wage_offer_from_9089'].fillna(0) + visas_df['wage_offered_from_9089'].fillna(0)"
   ],
   "metadata": {
    "collapsed": false,
    "pycharm": {
     "name": "#%%\n"
    }
   }
  },
  {
   "cell_type": "code",
   "execution_count": null,
   "outputs": [],
   "source": [
    "visas_df.sample(15)"
   ],
   "metadata": {
    "collapsed": false,
    "pycharm": {
     "name": "#%%\n"
    }
   }
  },
  {
   "cell_type": "code",
   "execution_count": null,
   "outputs": [],
   "source": [
    "visas_df['wage_offer_merged'].dtype"
   ],
   "metadata": {
    "collapsed": false,
    "pycharm": {
     "name": "#%%\n"
    }
   }
  },
  {
   "cell_type": "code",
   "execution_count": null,
   "outputs": [],
   "source": [
    "(visas_df['wage_offer_merged'] == 0).sum()"
   ],
   "metadata": {
    "collapsed": false,
    "pycharm": {
     "name": "#%%\n"
    }
   }
  },
  {
   "cell_type": "markdown",
   "source": [
    "We filled NaN values with 0 in Order to calculate sums. Now we will replaye 0 with NaN to keep the columns cleaned up.\n",
    "Additionally a wage of 0 would be unrealistic."
   ],
   "metadata": {
    "collapsed": false
   }
  },
  {
   "cell_type": "code",
   "execution_count": null,
   "outputs": [],
   "source": [
    "visas_df['wage_offer_merged'].replace(0, np.nan, inplace=True)"
   ],
   "metadata": {
    "collapsed": false,
    "pycharm": {
     "name": "#%%\n"
    }
   }
  },
  {
   "cell_type": "code",
   "execution_count": null,
   "outputs": [],
   "source": [
    "(visas_df['wage_offer_merged'] == 0).sum()"
   ],
   "metadata": {
    "collapsed": false,
    "pycharm": {
     "name": "#%%\n"
    }
   }
  },
  {
   "cell_type": "code",
   "execution_count": null,
   "outputs": [],
   "source": [
    "visas_df['wage_offer_merged'].median()\n",
    "clean_df = pd.DataFrame()\n",
    "clean_df['wage_offer_merged'] = visas_df['wage_offer_merged']"
   ],
   "metadata": {
    "collapsed": false,
    "pycharm": {
     "name": "#%%\n"
    }
   }
  },
  {
   "cell_type": "code",
   "execution_count": null,
   "outputs": [],
   "source": [
    "clean_df.head()\n"
   ],
   "metadata": {
    "collapsed": false,
    "pycharm": {
     "name": "#%%\n"
    }
   }
  },
  {
   "cell_type": "markdown",
   "source": [
    "---\n",
    "# Cleaning up wage_offer_unit"
   ],
   "metadata": {
    "collapsed": false
   }
  },
  {
   "cell_type": "code",
   "execution_count": null,
   "outputs": [],
   "source": [
    "col_list= [\"wage_offer_unit_of_pay_9089\", \"wage_offered_unit_of_pay_9089\"]\n",
    "visas_df = pd.read_csv(\"../data/us_perm_visas.csv\", usecols=col_list)\n",
    "visas_df.head ()"
   ],
   "metadata": {
    "collapsed": false,
    "pycharm": {
     "name": "#%%\n"
    }
   }
  },
  {
   "cell_type": "code",
   "execution_count": null,
   "outputs": [],
   "source": [
    "visas_df.sample(50)"
   ],
   "metadata": {
    "collapsed": false,
    "pycharm": {
     "name": "#%%\n"
    }
   }
  },
  {
   "cell_type": "code",
   "execution_count": null,
   "outputs": [],
   "source": [
    "visas_df['wage_offer_unit_of_pay_9089'].value_counts()"
   ],
   "metadata": {
    "collapsed": false,
    "pycharm": {
     "name": "#%%\n"
    }
   }
  },
  {
   "cell_type": "code",
   "execution_count": null,
   "outputs": [],
   "source": [
    "visas_df['wage_offered_unit_of_pay_9089'].value_counts()"
   ],
   "metadata": {
    "collapsed": false,
    "pycharm": {
     "name": "#%%\n"
    }
   }
  },
  {
   "cell_type": "markdown",
   "source": [
    "wage_offer_unit_of_pay_9089 has to be cleaned. We'll deal with this issue after the merge."
   ],
   "metadata": {
    "collapsed": false
   }
  },
  {
   "cell_type": "code",
   "execution_count": null,
   "outputs": [],
   "source": [
    "modules.print_count_of_values_relation(visas_df, True, True)"
   ],
   "metadata": {
    "collapsed": false,
    "pycharm": {
     "name": "#%%\n"
    }
   }
  },
  {
   "cell_type": "markdown",
   "source": [
    "The dristribution of values reveals a problem. Between an index of 25.000 and 75.000 or dataset contains no value for the unit of pay."
   ],
   "metadata": {
    "collapsed": false
   }
  },
  {
   "cell_type": "markdown",
   "source": [
    "We will merge the both columns and take a closer look at the values they are containing."
   ],
   "metadata": {
    "collapsed": false
   }
  },
  {
   "cell_type": "code",
   "execution_count": null,
   "outputs": [],
   "source": [
    "visas_df['wage_offer_unit_merged'] = visas_df['wage_offer_unit_of_pay_9089'].fillna('') + visas_df['wage_offered_unit_of_pay_9089'].fillna('')"
   ],
   "metadata": {
    "collapsed": false,
    "pycharm": {
     "name": "#%%\n"
    }
   }
  },
  {
   "cell_type": "code",
   "execution_count": null,
   "outputs": [],
   "source": [
    "visas_df['wage_offer_unit_merged'].replace('', np.nan, inplace=True)"
   ],
   "metadata": {
    "collapsed": false,
    "pycharm": {
     "name": "#%%\n"
    }
   }
  },
  {
   "cell_type": "code",
   "execution_count": null,
   "outputs": [],
   "source": [
    "visas_df['wage_offer_unit_merged'].value_counts()"
   ],
   "metadata": {
    "collapsed": false,
    "pycharm": {
     "name": "#%%\n"
    }
   }
  },
  {
   "cell_type": "code",
   "execution_count": null,
   "outputs": [],
   "source": [
    "unit_abbreviations = {\n",
    "  \"Year\": \"yr\",\n",
    "  \"Month\": \"mth\",\n",
    "  \"Bi-Weekly\": \"bi\",\n",
    "  \"Week\": \"wk\",\n",
    "  \"Hour\": \"hr\"\n",
    "}"
   ],
   "metadata": {
    "collapsed": false,
    "pycharm": {
     "name": "#%%\n"
    }
   }
  },
  {
   "cell_type": "code",
   "execution_count": null,
   "outputs": [],
   "source": [
    "visas_df['wage_offer_unit_merged'] = visas_df['wage_offer_unit_merged'].replace(unit_abbreviations)"
   ],
   "metadata": {
    "collapsed": false,
    "pycharm": {
     "name": "#%%\n"
    }
   }
  },
  {
   "cell_type": "code",
   "execution_count": null,
   "outputs": [],
   "source": [
    "visas_df['wage_offer_unit_merged'].value_counts()"
   ],
   "metadata": {
    "collapsed": false,
    "pycharm": {
     "name": "#%%\n"
    }
   }
  },
  {
   "cell_type": "code",
   "execution_count": null,
   "outputs": [],
   "source": [
    "\n",
    "modules.print_count_of_values_relation(visas_df, True, True)"
   ],
   "metadata": {
    "collapsed": false,
    "pycharm": {
     "name": "#%%\n"
    }
   }
  },
  {
   "cell_type": "markdown",
   "source": [
    "The gap remains, considering the gap is realtively small and we have lot's of values, we'll ignore the gap in the further analysis.\n"
   ],
   "metadata": {
    "collapsed": false
   }
  },
  {
   "cell_type": "code",
   "execution_count": null,
   "outputs": [],
   "source": [
    "clean_df['wage_offer_unit'] = visas_df['wage_offer_unit_merged']"
   ],
   "metadata": {
    "collapsed": false,
    "pycharm": {
     "name": "#%%\n"
    }
   }
  },
  {
   "cell_type": "code",
   "execution_count": null,
   "outputs": [],
   "source": [
    "\n",
    "clean_df.head()"
   ],
   "metadata": {
    "collapsed": false,
    "pycharm": {
     "name": "#%%\n"
    }
   }
  },
  {
   "cell_type": "code",
   "execution_count": null,
   "outputs": [],
   "source": [
    "clean_df.groupby('wage_offer_unit')['wage_offer_merged'].mean().sort_values()"
   ],
   "metadata": {
    "collapsed": false,
    "pycharm": {
     "name": "#%%\n"
    }
   }
  },
  {
   "cell_type": "code",
   "execution_count": null,
   "outputs": [],
   "source": [
    "\n",
    "modules.print_full(clean_df.groupby('wage_offer_unit')['wage_offer_merged'].describe())"
   ],
   "metadata": {
    "collapsed": false,
    "pycharm": {
     "name": "#%%\n"
    }
   }
  },
  {
   "cell_type": "code",
   "execution_count": null,
   "outputs": [],
   "source": [
    "\n",
    "modules.print_full(clean_df.groupby('wage_offer_unit')['wage_offer_merged'].nlargest(10))"
   ],
   "metadata": {
    "collapsed": false,
    "pycharm": {
     "name": "#%%\n"
    }
   }
  },
  {
   "cell_type": "code",
   "execution_count": null,
   "outputs": [],
   "source": [
    "clean_df.groupby('wage_offer_unit')['wage_offer_merged'].mean().plot()\n",
    "plt.legend(loc=\"upper left\")\n",
    "plt.show()"
   ],
   "metadata": {
    "collapsed": false,
    "pycharm": {
     "name": "#%%\n"
    }
   }
  },
  {
   "cell_type": "markdown",
   "source": [
    "This is unexpected. It was expeced, that hr > week > bi > mth > yr.\n",
    "Anyway we'll leave all units besides yr unseen and concentrate on yr, which has the most occurences."
   ],
   "metadata": {
    "collapsed": false
   }
  },
  {
   "cell_type": "code",
   "execution_count": null,
   "outputs": [],
   "source": [
    "clean_df['wage_offer_unit'].value_counts().plot(kind='pie')"
   ],
   "metadata": {
    "collapsed": false,
    "pycharm": {
     "name": "#%%\n"
    }
   }
  },
  {
   "cell_type": "markdown",
   "source": [
    "Filter all not yr values"
   ],
   "metadata": {
    "collapsed": false
   }
  },
  {
   "cell_type": "code",
   "execution_count": null,
   "outputs": [],
   "source": [
    "new_df = clean_df[clean_df[\"wage_offer_unit\"].str.contains(\"yr\", na=False)]"
   ],
   "metadata": {
    "collapsed": false,
    "pycharm": {
     "name": "#%%\n"
    }
   }
  },
  {
   "cell_type": "code",
   "execution_count": null,
   "outputs": [],
   "source": [
    "clean_df.dtypes"
   ],
   "metadata": {
    "collapsed": false,
    "pycharm": {
     "name": "#%%\n"
    }
   }
  },
  {
   "cell_type": "code",
   "execution_count": null,
   "outputs": [],
   "source": [
    "new_df[\"wage_offer_unit\"].size"
   ],
   "metadata": {
    "collapsed": false,
    "pycharm": {
     "name": "#%%\n"
    }
   }
  },
  {
   "cell_type": "code",
   "execution_count": null,
   "outputs": [],
   "source": [
    "new_df.value_counts()"
   ],
   "metadata": {
    "collapsed": false,
    "pycharm": {
     "name": "#%%\n"
    }
   }
  },
  {
   "cell_type": "code",
   "execution_count": null,
   "outputs": [],
   "source": [],
   "metadata": {
    "collapsed": false,
    "pycharm": {
     "name": "#%%\n"
    }
   }
  },
  {
   "cell_type": "markdown",
   "source": [
    "This is unexpected. It was expeced, that hr > week > bi > mth > yr.\n",
    "Anyway we'll leave all units besides yr unseen and concentrate on yr, which has the most occurences."
   ],
   "metadata": {
    "collapsed": false
   }
  },
  {
   "cell_type": "code",
   "execution_count": null,
   "outputs": [],
   "source": [
    "clean_df['wage_offer_unit'].value_counts().plot(kind='pie')"
   ],
   "metadata": {
    "collapsed": false,
    "pycharm": {
     "name": "#%%\n"
    }
   }
  },
  {
   "cell_type": "markdown",
   "source": [
    "Filter all not yr values"
   ],
   "metadata": {
    "collapsed": false
   }
  },
  {
   "cell_type": "code",
   "execution_count": null,
   "outputs": [],
   "source": [
    "new_df = clean_df[clean_df[\"wage_offer_unit\"].str.contains(\"yr\", na=False)]"
   ],
   "metadata": {
    "collapsed": false,
    "pycharm": {
     "name": "#%%\n"
    }
   }
  },
  {
   "cell_type": "code",
   "execution_count": null,
   "outputs": [],
   "source": [
    "clean_df.dtypes"
   ],
   "metadata": {
    "collapsed": false,
    "pycharm": {
     "name": "#%%\n"
    }
   }
  },
  {
   "cell_type": "code",
   "execution_count": null,
   "outputs": [],
   "source": [
    "new_df[\"wage_offer_unit\"].size"
   ],
   "metadata": {
    "collapsed": false,
    "pycharm": {
     "name": "#%%\n"
    }
   }
  },
  {
   "cell_type": "code",
   "execution_count": null,
   "outputs": [],
   "source": [
    "new_df.value_counts()"
   ],
   "metadata": {
    "collapsed": false,
    "pycharm": {
     "name": "#%%\n"
    }
   }
  },
  {
   "cell_type": "markdown",
   "source": [
    "-----------------------"
   ],
   "metadata": {
    "collapsed": false,
    "pycharm": {
     "name": "#%% md\n"
    }
   }
  },
  {
   "cell_type": "markdown",
   "source": [
    "# Unplausible Werte"
   ],
   "metadata": {
    "collapsed": false,
    "pycharm": {
     "name": "#%% md\n"
    }
   }
  },
  {
   "cell_type": "code",
   "execution_count": null,
   "outputs": [],
   "source": [
    "import cleanup\n",
    "import pandas as pd\n",
    "import matplotlib.pyplot as plt\n",
    "plt.style.use('../own_style.mplstyle')\n",
    "from scipy.stats import linregress"
   ],
   "metadata": {
    "collapsed": false,
    "pycharm": {
     "name": "#%%\n"
    }
   }
  },
  {
   "cell_type": "code",
   "execution_count": null,
   "outputs": [],
   "source": [
    "# cleanup.generate_cleaned_df()"
   ],
   "metadata": {
    "collapsed": false,
    "pycharm": {
     "name": "#%%\n"
    }
   }
  },
  {
   "cell_type": "code",
   "execution_count": null,
   "outputs": [],
   "source": [
    "\n",
    "col_list = [\"prevailing_wage_amount_9089\", \"prevailing_wage_unit_of_pay_9089\"]\n",
    "visas_df = pd.read_csv('../data/us_perm_visas_cleaned.csv', usecols=col_list)"
   ],
   "metadata": {
    "collapsed": false,
    "pycharm": {
     "name": "#%%\n"
    }
   }
  },
  {
   "cell_type": "code",
   "execution_count": null,
   "outputs": [],
   "source": [
    "modules.print_full(visas_df.groupby('prevailing_wage_unit_of_pay_9089')['prevailing_wage_amount_9089'].nsmallest(20))"
   ],
   "metadata": {
    "collapsed": false,
    "pycharm": {
     "name": "#%%\n"
    }
   }
  },
  {
   "cell_type": "code",
   "execution_count": null,
   "outputs": [],
   "source": [
    "visas_df[\"prevailing_wage_unit_of_pay_9089\"].value_counts()"
   ],
   "metadata": {
    "collapsed": false,
    "pycharm": {
     "name": "#%%\n"
    }
   }
  },
  {
   "cell_type": "code",
   "execution_count": null,
   "outputs": [],
   "source": [],
   "metadata": {
    "collapsed": false,
    "pycharm": {
     "name": "#%%\n"
    }
   }
  }
 ],
 "metadata": {
  "kernelspec": {
   "display_name": "Python 3",
   "language": "python",
   "name": "python3"
  },
  "language_info": {
   "codemirror_mode": {
    "name": "ipython",
    "version": 2
   },
   "file_extension": ".py",
   "mimetype": "text/x-python",
   "name": "python",
   "nbconvert_exporter": "python",
   "pygments_lexer": "ipython2",
   "version": "2.7.6"
  }
 },
 "nbformat": 4,
 "nbformat_minor": 0
}