{
 "cells": [
  {
   "cell_type": "code",
   "execution_count": 162,
   "outputs": [],
   "source": [],
   "metadata": {
    "collapsed": false,
    "pycharm": {
     "name": "#%%\n"
    }
   }
  },
  {
   "cell_type": "markdown",
   "source": [
    "Importe\n"
   ],
   "metadata": {
    "collapsed": false
   }
  },
  {
   "cell_type": "code",
   "execution_count": 163,
   "outputs": [],
   "source": [
    "import pandas as pd\n",
    "import numpy as np\n",
    "import matplotlib.pyplot as plt\n",
    "import seaborn as sns\n",
    "import cleanup\n",
    "\n",
    "%matplotlib inline"
   ],
   "metadata": {
    "collapsed": false,
    "pycharm": {
     "name": "#%%\n"
    }
   }
  },
  {
   "cell_type": "code",
   "execution_count": 163,
   "outputs": [],
   "source": [],
   "metadata": {
    "collapsed": false,
    "pycharm": {
     "name": "#%%\n"
    }
   }
  },
  {
   "cell_type": "markdown",
   "source": [
    "Welche Daten sind verfügbar und Laden des Datensatzes"
   ],
   "metadata": {
    "collapsed": false
   }
  },
  {
   "cell_type": "code",
   "execution_count": 164,
   "outputs": [
    {
     "name": "stderr",
     "output_type": "stream",
     "text": [
      "C:\\Users\\lassu\\anaconda3\\lib\\site-packages\\IPython\\core\\interactiveshell.py:3071: DtypeWarning: Columns (5,6,7) have mixed types.Specify dtype option on import or set low_memory=False.\n",
      "  has_raised = await self.run_ast_nodes(code_ast.body, cell_name,\n"
     ]
    },
    {
     "data": {
      "text/plain": "         case_no case_number case_received_date case_status decision_date  \\\n0  A-07323-97014         NaN                NaN   Certified    2012-02-01   \n1  A-07332-99439         NaN                NaN      Denied    2011-12-21   \n2  A-07333-99643         NaN                NaN   Certified    2011-12-01   \n3  A-07339-01930         NaN                NaN   Certified    2011-12-01   \n4  A-07345-03565         NaN                NaN   Certified    2012-01-26   \n\n  employer_city  \n0      NEW YORK  \n1     CARLSTADT  \n2    GLEN ALLEN  \n3      FLUSHING  \n4        ALBANY  ",
      "text/html": "<div>\n<style scoped>\n    .dataframe tbody tr th:only-of-type {\n        vertical-align: middle;\n    }\n\n    .dataframe tbody tr th {\n        vertical-align: top;\n    }\n\n    .dataframe thead th {\n        text-align: right;\n    }\n</style>\n<table border=\"1\" class=\"dataframe\">\n  <thead>\n    <tr style=\"text-align: right;\">\n      <th></th>\n      <th>case_no</th>\n      <th>case_number</th>\n      <th>case_received_date</th>\n      <th>case_status</th>\n      <th>decision_date</th>\n      <th>employer_city</th>\n    </tr>\n  </thead>\n  <tbody>\n    <tr>\n      <th>0</th>\n      <td>A-07323-97014</td>\n      <td>NaN</td>\n      <td>NaN</td>\n      <td>Certified</td>\n      <td>2012-02-01</td>\n      <td>NEW YORK</td>\n    </tr>\n    <tr>\n      <th>1</th>\n      <td>A-07332-99439</td>\n      <td>NaN</td>\n      <td>NaN</td>\n      <td>Denied</td>\n      <td>2011-12-21</td>\n      <td>CARLSTADT</td>\n    </tr>\n    <tr>\n      <th>2</th>\n      <td>A-07333-99643</td>\n      <td>NaN</td>\n      <td>NaN</td>\n      <td>Certified</td>\n      <td>2011-12-01</td>\n      <td>GLEN ALLEN</td>\n    </tr>\n    <tr>\n      <th>3</th>\n      <td>A-07339-01930</td>\n      <td>NaN</td>\n      <td>NaN</td>\n      <td>Certified</td>\n      <td>2011-12-01</td>\n      <td>FLUSHING</td>\n    </tr>\n    <tr>\n      <th>4</th>\n      <td>A-07345-03565</td>\n      <td>NaN</td>\n      <td>NaN</td>\n      <td>Certified</td>\n      <td>2012-01-26</td>\n      <td>ALBANY</td>\n    </tr>\n  </tbody>\n</table>\n</div>"
     },
     "execution_count": 164,
     "metadata": {},
     "output_type": "execute_result"
    }
   ],
   "source": [
    "col_list= [\"case_status\",\"case_number\",\"case_no\", \"decision_date\", \"case_received_date\", \"employer_city\"]\n",
    "visas_df = pd.read_csv(\"us_perm_visas.csv\", usecols=col_list)\n",
    "visas_df.head ()"
   ],
   "metadata": {
    "collapsed": false,
    "pycharm": {
     "name": "#%%\n"
    }
   }
  },
  {
   "cell_type": "markdown",
   "source": [
    "Untersuchung der vorliegenden Daten im Datensatz\n"
   ],
   "metadata": {
    "collapsed": false
   }
  },
  {
   "cell_type": "code",
   "execution_count": 165,
   "outputs": [],
   "source": [
    "# df = pd.read_csv('us_perm_visas.csv', low_memory = False, parse_dates=['decision_date', 'case_received_date'])\n",
    "visas_df [\"decision_date\"]=pd.to_datetime(visas_df[\"decision_date\"])\n",
    "visas_df [\"case_received_date\"]=pd.to_datetime(visas_df[\"case_received_date\"])"
   ],
   "metadata": {
    "collapsed": false,
    "pycharm": {
     "name": "#%%\n"
    }
   }
  },
  {
   "cell_type": "markdown",
   "source": [
    "Überprüfung der Anzahl der Visa Bewerbungen bzw. Fälle (Zeilen und Spalten)\n"
   ],
   "metadata": {
    "collapsed": false
   }
  },
  {
   "cell_type": "code",
   "execution_count": 166,
   "outputs": [
    {
     "name": "stdout",
     "output_type": "stream",
     "text": [
      "Number of Visa Applications: 374362\n",
      "Number of Columns: 6\n"
     ]
    }
   ],
   "source": [
    "print('Number of Visa Applications:', len(visas_df))\n",
    "print('Number of Columns:', len(visas_df.columns))"
   ],
   "metadata": {
    "collapsed": false,
    "pycharm": {
     "name": "#%%\n"
    }
   }
  },
  {
   "cell_type": "markdown",
   "source": [
    "Ersten fünf Zeilen anzeigen lassen zum checken"
   ],
   "metadata": {
    "collapsed": false
   }
  },
  {
   "cell_type": "code",
   "execution_count": 167,
   "outputs": [
    {
     "data": {
      "text/plain": "         case_no case_number case_received_date case_status decision_date  \\\n0  A-07323-97014         NaN                NaT   Certified    2012-02-01   \n1  A-07332-99439         NaN                NaT      Denied    2011-12-21   \n2  A-07333-99643         NaN                NaT   Certified    2011-12-01   \n3  A-07339-01930         NaN                NaT   Certified    2011-12-01   \n4  A-07345-03565         NaN                NaT   Certified    2012-01-26   \n\n  employer_city  \n0      NEW YORK  \n1     CARLSTADT  \n2    GLEN ALLEN  \n3      FLUSHING  \n4        ALBANY  ",
      "text/html": "<div>\n<style scoped>\n    .dataframe tbody tr th:only-of-type {\n        vertical-align: middle;\n    }\n\n    .dataframe tbody tr th {\n        vertical-align: top;\n    }\n\n    .dataframe thead th {\n        text-align: right;\n    }\n</style>\n<table border=\"1\" class=\"dataframe\">\n  <thead>\n    <tr style=\"text-align: right;\">\n      <th></th>\n      <th>case_no</th>\n      <th>case_number</th>\n      <th>case_received_date</th>\n      <th>case_status</th>\n      <th>decision_date</th>\n      <th>employer_city</th>\n    </tr>\n  </thead>\n  <tbody>\n    <tr>\n      <th>0</th>\n      <td>A-07323-97014</td>\n      <td>NaN</td>\n      <td>NaT</td>\n      <td>Certified</td>\n      <td>2012-02-01</td>\n      <td>NEW YORK</td>\n    </tr>\n    <tr>\n      <th>1</th>\n      <td>A-07332-99439</td>\n      <td>NaN</td>\n      <td>NaT</td>\n      <td>Denied</td>\n      <td>2011-12-21</td>\n      <td>CARLSTADT</td>\n    </tr>\n    <tr>\n      <th>2</th>\n      <td>A-07333-99643</td>\n      <td>NaN</td>\n      <td>NaT</td>\n      <td>Certified</td>\n      <td>2011-12-01</td>\n      <td>GLEN ALLEN</td>\n    </tr>\n    <tr>\n      <th>3</th>\n      <td>A-07339-01930</td>\n      <td>NaN</td>\n      <td>NaT</td>\n      <td>Certified</td>\n      <td>2011-12-01</td>\n      <td>FLUSHING</td>\n    </tr>\n    <tr>\n      <th>4</th>\n      <td>A-07345-03565</td>\n      <td>NaN</td>\n      <td>NaT</td>\n      <td>Certified</td>\n      <td>2012-01-26</td>\n      <td>ALBANY</td>\n    </tr>\n  </tbody>\n</table>\n</div>"
     },
     "execution_count": 167,
     "metadata": {},
     "output_type": "execute_result"
    }
   ],
   "source": [
    "visas_df.head()"
   ],
   "metadata": {
    "collapsed": false,
    "pycharm": {
     "name": "#%%\n"
    }
   }
  },
  {
   "cell_type": "markdown",
   "source": [
    "Letze fünf Zeilen anzeigen lassen zum checken"
   ],
   "metadata": {
    "collapsed": false
   }
  },
  {
   "cell_type": "code",
   "execution_count": 168,
   "outputs": [
    {
     "data": {
      "text/plain": "       case_no    case_number case_received_date case_status decision_date  \\\n374357     NaN  A-16363-85407         2016-12-29   Withdrawn    2016-12-30   \n374358     NaN  A-16271-56745         2016-12-30   Withdrawn    2016-12-30   \n374359     NaN  A-16354-82345         2016-12-30   Withdrawn    2016-12-30   \n374360     NaN  A-16357-84250         2016-12-30   Withdrawn    2016-12-30   \n374361     NaN  A-16279-59292         2016-12-30   Withdrawn    2016-12-30   \n\n       employer_city  \n374357       ANAHEIM  \n374358       REDMOND  \n374359     YPSILANTI  \n374360       Phoenix  \n374361   SANTA CLARA  ",
      "text/html": "<div>\n<style scoped>\n    .dataframe tbody tr th:only-of-type {\n        vertical-align: middle;\n    }\n\n    .dataframe tbody tr th {\n        vertical-align: top;\n    }\n\n    .dataframe thead th {\n        text-align: right;\n    }\n</style>\n<table border=\"1\" class=\"dataframe\">\n  <thead>\n    <tr style=\"text-align: right;\">\n      <th></th>\n      <th>case_no</th>\n      <th>case_number</th>\n      <th>case_received_date</th>\n      <th>case_status</th>\n      <th>decision_date</th>\n      <th>employer_city</th>\n    </tr>\n  </thead>\n  <tbody>\n    <tr>\n      <th>374357</th>\n      <td>NaN</td>\n      <td>A-16363-85407</td>\n      <td>2016-12-29</td>\n      <td>Withdrawn</td>\n      <td>2016-12-30</td>\n      <td>ANAHEIM</td>\n    </tr>\n    <tr>\n      <th>374358</th>\n      <td>NaN</td>\n      <td>A-16271-56745</td>\n      <td>2016-12-30</td>\n      <td>Withdrawn</td>\n      <td>2016-12-30</td>\n      <td>REDMOND</td>\n    </tr>\n    <tr>\n      <th>374359</th>\n      <td>NaN</td>\n      <td>A-16354-82345</td>\n      <td>2016-12-30</td>\n      <td>Withdrawn</td>\n      <td>2016-12-30</td>\n      <td>YPSILANTI</td>\n    </tr>\n    <tr>\n      <th>374360</th>\n      <td>NaN</td>\n      <td>A-16357-84250</td>\n      <td>2016-12-30</td>\n      <td>Withdrawn</td>\n      <td>2016-12-30</td>\n      <td>Phoenix</td>\n    </tr>\n    <tr>\n      <th>374361</th>\n      <td>NaN</td>\n      <td>A-16279-59292</td>\n      <td>2016-12-30</td>\n      <td>Withdrawn</td>\n      <td>2016-12-30</td>\n      <td>SANTA CLARA</td>\n    </tr>\n  </tbody>\n</table>\n</div>"
     },
     "execution_count": 168,
     "metadata": {},
     "output_type": "execute_result"
    }
   ],
   "source": [
    "visas_df.tail()"
   ],
   "metadata": {
    "collapsed": false,
    "pycharm": {
     "name": "#%%\n"
    }
   }
  },
  {
   "cell_type": "markdown",
   "source": [
    "Namen der Spalten anzeigen lassen\n"
   ],
   "metadata": {
    "collapsed": false
   }
  },
  {
   "cell_type": "code",
   "execution_count": 169,
   "outputs": [
    {
     "name": "stdout",
     "output_type": "stream",
     "text": [
      "['case_no' 'case_number' 'case_received_date' 'case_status'\n",
      " 'decision_date' 'employer_city']\n"
     ]
    }
   ],
   "source": [
    "print(visas_df.columns.values)"
   ],
   "metadata": {
    "collapsed": false,
    "pycharm": {
     "name": "#%%\n"
    }
   }
  },
  {
   "cell_type": "markdown",
   "source": [
    "Die Werte case_number und case_no könnten ähnliche Informationen beinhalten. Daher überprüfen wir  Länge, Anzahl der fehlenden Werte und Beispielwerte"
   ],
   "metadata": {
    "collapsed": false
   }
  },
  {
   "cell_type": "code",
   "execution_count": 170,
   "outputs": [
    {
     "name": "stdout",
     "output_type": "stream",
     "text": [
      "Length of 'case_number' column is:  374362  with 135269 missing values\n",
      "Length of 'case_no' column is:  374362  with 239093 missing values \n",
      "\n",
      "First 2 values of case_number column are : \n",
      " 0    NaN\n",
      "1    NaN\n",
      "Name: case_number, dtype: object \n",
      "\n",
      "Last 2 values of case_number column are : \n",
      " 374360    A-16357-84250\n",
      "374361    A-16279-59292\n",
      "Name: case_number, dtype: object \n",
      "\n",
      "First 2 values of case_no column are : \n",
      " 0    A-07323-97014\n",
      "1    A-07332-99439\n",
      "Name: case_no, dtype: object \n",
      "\n",
      "Last 2 values of case_no column are : \n",
      " 374360    NaN\n",
      "374361    NaN\n",
      "Name: case_no, dtype: object\n"
     ]
    }
   ],
   "source": [
    "print(\"Length of 'case_number' column is: \", len(visas_df['case_number']),\" with\",visas_df.case_number.isnull().sum(), \"missing values\")\n",
    "print(\"Length of 'case_no' column is: \", len(visas_df['case_no']),\" with\", visas_df.case_no.isnull().sum(),\"missing values \\n\")\n",
    "\n",
    "print(\"First 2 values of case_number column are : \\n\", visas_df['case_number'].head(2),\"\\n\")\n",
    "\n",
    "print(\"Last 2 values of case_number column are : \\n\", visas_df['case_number'].tail(2), \"\\n\")\n",
    "print(\"First 2 values of case_no column are : \\n\", visas_df['case_no'].head(2), \"\\n\")\n",
    "print(\"Last 2 values of case_no column are : \\n\", visas_df['case_no'].tail(2))"
   ],
   "metadata": {
    "collapsed": false,
    "pycharm": {
     "name": "#%%\n"
    }
   }
  },
  {
   "cell_type": "markdown",
   "source": [
    "Wie erwartet sind die Werte in case_number und case_no ähnlich. Eine Addition der NaN Werte der Spalten case_number und case_no ergeben die Gesamtzahl der Fälle.\n",
    "Daher erstellen wir eine neue Spalte die keine fehlenden Werte beinhaltet."
   ],
   "metadata": {
    "collapsed": false
   }
  },
  {
   "cell_type": "code",
   "execution_count": 171,
   "outputs": [],
   "source": [
    "case_noindex = visas_df.columns.get_loc('case_no')\n",
    "case_noindexnumber = visas_df.columns.get_loc('case_number')\n",
    "casenumberlist = []\n",
    "\n",
    "\n",
    "for value in visas_df.iloc[0:135269,case_noindex]:\n",
    "    casenumberlist.append(value)\n",
    "\n",
    "for value in visas_df.iloc[135269:374362,case_noindexnumber]:\n",
    "    casenumberlist.append(value)\n",
    "\n",
    "visas_df['casenumber'] = casenumberlist\n",
    "visas_df.drop(visas_df.columns[[case_noindex,case_noindexnumber]], axis=1, inplace=True)"
   ],
   "metadata": {
    "collapsed": false,
    "pycharm": {
     "name": "#%%\n"
    }
   }
  },
  {
   "cell_type": "markdown",
   "source": [
    "Überprüfung der Spalte case_status, da sie Informationen über den jeweiligen Visumsangetrag gentroffene Entscheidung enthaelt"
   ],
   "metadata": {
    "collapsed": false
   }
  },
  {
   "cell_type": "code",
   "execution_count": 172,
   "outputs": [
    {
     "name": "stdout",
     "output_type": "stream",
     "text": [
      "181933  occurrences of status 'Certified'\n",
      "25649  occurrences of status 'Denied'\n",
      "148586  occurrences of status 'Certified-Expired'\n",
      "18194  occurrences of status 'Withdrawn'\n"
     ]
    }
   ],
   "source": [
    "for value in visas_df.case_status.unique():\n",
    "    print(len(visas_df[visas_df['case_status'] == value]),\" occurrences of status '{}'\".format(value))"
   ],
   "metadata": {
    "collapsed": false,
    "pycharm": {
     "name": "#%%\n"
    }
   }
  },
  {
   "cell_type": "markdown",
   "source": [
    "Datensatz enthält 18194 Fälle die zurückgezogen wurden 'withdrawn'. Da diese Fälle nicht relevant sind werden sie aus dem Datensatz gelöscht."
   ],
   "metadata": {
    "collapsed": false
   }
  },
  {
   "cell_type": "code",
   "execution_count": 173,
   "outputs": [],
   "source": [
    "visas_df= visas_df[visas_df.case_status != 'Withdrawn']\n"
   ],
   "metadata": {
    "collapsed": false,
    "pycharm": {
     "name": "#%%\n"
    }
   }
  },
  {
   "cell_type": "markdown",
   "source": [
    "Der Status 'certified' und der Status 'certified-expired' werden zu dem Wert 'certified' zusammengefasst, sodass es nur noch die Werte 'certified' und 'denied' hat.\n",
    "\n",
    "Antragssteller des Visas haben nach Erhalt des Status 'certified' 6 Monate Zeit, das Formular I-140 einzureichen, bevor es abläuft und in den Status 'certified-expired' erhält.\n",
    "\n",
    "Formular I-140 Quelle: Wikipedia\n",
    "Das Formular I-140, Immigrant Petition for Alien Worker (Einwanderungsantrag für ausländische Arbeitnehmer), ist ein Formular, das von einem potentiellen Arbeitgeber bei den United States Citizenship and Immigration Services (USCIS) eingereicht wird, um einen Ausländer zu ersuchen, dauerhaft in den USA zu arbeiten. Dies geschieht in dem Fall, dass der Arbeitnehmer in gewisser Weise als außergewöhnlich gilt oder wenn es in den USA keine qualifizierten Arbeitskräfte gibt.\n"
   ],
   "metadata": {
    "collapsed": false
   }
  },
  {
   "cell_type": "code",
   "execution_count": 174,
   "outputs": [
    {
     "data": {
      "text/plain": "Certified    330519\nDenied        25649\nName: case_status, dtype: int64"
     },
     "execution_count": 174,
     "metadata": {},
     "output_type": "execute_result"
    }
   ],
   "source": [
    "visas_df.loc[visas_df.case_status == 'Certified-Expired', 'case_status'] = 'Certified'\n",
    "visas_df.case_status.value_counts()\n"
   ],
   "metadata": {
    "collapsed": false,
    "pycharm": {
     "name": "#%%\n"
    }
   }
  },
  {
   "cell_type": "markdown",
   "source": [
    "25649 Visa Bewerbungen wurden abgelehnt (7,2%). Jetzt werden Zeilen und Spalten entfernt. NaN Werte in Zeilen und Spalten ausschließen."
   ],
   "metadata": {
    "collapsed": false,
    "pycharm": {
     "name": "#%% md\n"
    }
   }
  },
  {
   "cell_type": "code",
   "execution_count": 175,
   "outputs": [
    {
     "data": {
      "text/plain": "(356168, 5)"
     },
     "execution_count": 175,
     "metadata": {},
     "output_type": "execute_result"
    }
   ],
   "source": [
    "visas_df = visas_df.dropna(axis=1, how='all')\n",
    "visas_df = visas_df.dropna(axis=0, how='all');\n",
    "\n",
    "visas_df.shape"
   ],
   "metadata": {
    "collapsed": false,
    "pycharm": {
     "name": "#%%\n"
    }
   }
  },
  {
   "cell_type": "markdown",
   "source": [
    "Keine NaN Werte mehr. Welche Spalten haben noch fehlende Werte. Anzeigen lassen der fehlenden Werte"
   ],
   "metadata": {
    "collapsed": false,
    "pycharm": {
     "name": "#%% md\n"
    }
   }
  },
  {
   "cell_type": "code",
   "execution_count": 176,
   "outputs": [
    {
     "name": "stdout",
     "output_type": "stream",
     "text": [
      "Attribute 'case_received_date' contains  126848 missing values\n",
      "Attribute 'case_status' contains  0 missing values\n",
      "Attribute 'decision_date' contains  0 missing values\n",
      "Attribute 'employer_city' contains  10 missing values\n",
      "Attribute 'casenumber' contains  0 missing values\n"
     ]
    }
   ],
   "source": [
    "for column in visas_df.columns:\n",
    "    print(\"Attribute '{}' contains \".format(column),  visas_df[column].isnull().sum().sum(), \"missing values\")"
   ],
   "metadata": {
    "collapsed": false,
    "pycharm": {
     "name": "#%%\n"
    }
   }
  },
  {
   "cell_type": "markdown",
   "source": [
    "Einfügen der Spalte Antragsjahr. Dies soll dann in einem Balkendiagramm dargestellt werden um den Verlauf zu sehen. Fehlende Werte sollen spaeter entfernt werden."
   ],
   "metadata": {
    "collapsed": false,
    "pycharm": {
     "name": "#%% md\n"
    }
   }
  },
  {
   "cell_type": "code",
   "execution_count": 177,
   "outputs": [
    {
     "data": {
      "text/plain": "[Text(0, 0.5, 'Number of Visa applicatons'),\n Text(0.5, 0, 'Visa application year')]"
     },
     "execution_count": 177,
     "metadata": {},
     "output_type": "execute_result"
    },
    {
     "data": {
      "text/plain": "<Figure size 914.4x595.44 with 1 Axes>",
      "image/png": "[encoded data removed]"
     },
     "metadata": {
      "needs_background": "light"
     },
     "output_type": "display_data"
    }
   ],
   "source": [
    "visas_df['year'] = visas_df['decision_date'].dt.year\n",
    "\n",
    "fig, ax = plt.subplots()\n",
    "fig.set_size_inches(12.7, 8.27)\n",
    "sns.set_context(rc={\"font.size\":12})\n",
    "sns.countplot(x=\"year\", hue=\"case_status\", data=visas_df)\n",
    "ax.set(xlabel='Visa application year', ylabel='Number of Visa applicatons')"
   ],
   "metadata": {
    "collapsed": false,
    "pycharm": {
     "name": "#%%\n"
    }
   }
  },
  {
   "cell_type": "markdown",
   "source": [
    "Anzahl der Visa Applications nimmt jedes Jahr zu. Die Anzahl der abgelehnten Anträge scheint seit 2013 zu stagnieren, bzw. ging 2014 leicht zurück"
   ],
   "metadata": {
    "collapsed": false,
    "pycharm": {
     "name": "#%% md\n"
    }
   }
  },
  {
   "cell_type": "markdown",
   "source": [
    "In welchen Städten werden die meisten Visa Applications gestellt?"
   ],
   "metadata": {
    "collapsed": false,
    "pycharm": {
     "name": "#%% md\n"
    }
   }
  },
  {
   "cell_type": "code",
   "execution_count": 178,
   "outputs": [
    {
     "data": {
      "text/plain": "NEW YORK           17198\nCOLLEGE STATION    11985\nSANTA CLARA        10519\nSAN JOSE            9147\nREDMOND             8485\nMOUNTAIN VIEW       8121\nHOUSTON             6720\nSAN FRANCISCO       6352\nSUNNYVALE           6104\nPLANO               5607\nCHICAGO             5561\nSEATTLE             5051\nEDISON              4056\nLOS ANGELES         4045\nSAN DIEGO           3702\nDALLAS              3693\nPHILADELPHIA        3526\nCUPERTINO           3310\nPALO ALTO           3229\nIRVING              3144\nName: employer_city, dtype: int64"
     },
     "execution_count": 178,
     "metadata": {},
     "output_type": "execute_result"
    }
   ],
   "source": [
    "visas_df['employer_city'] = visas_df['employer_city'].str.upper()\n",
    "visas_df['employer_city'].value_counts().head(20)"
   ],
   "metadata": {
    "collapsed": false,
    "pycharm": {
     "name": "#%%\n"
    }
   }
  },
  {
   "cell_type": "markdown",
   "source": [
    "Die beliebtesten Staedte waren in den letzten Jahren New York, College Station, Santa Clara, San Jose und Radmond. Plotten, grafische Darstellung der Visa Applications"
   ],
   "metadata": {
    "collapsed": false,
    "pycharm": {
     "name": "#%% md\n"
    }
   }
  },
  {
   "cell_type": "code",
   "execution_count": 179,
   "outputs": [
    {
     "data": {
      "text/plain": "[Text(0, 0.5, 'Number of Visa applications'), Text(0.5, 0, 'Employer city')]"
     },
     "execution_count": 179,
     "metadata": {},
     "output_type": "execute_result"
    },
    {
     "data": {
      "text/plain": "<Figure size 986.4x595.44 with 1 Axes>",
      "image/png": "[encoded data removed]"
     },
     "metadata": {
      "needs_background": "light"
     },
     "output_type": "display_data"
    }
   ],
   "source": [
    "fig, ax = plt.subplots()\n",
    "fig.set_size_inches(13.7, 8.27)\n",
    "sns.set_context(\"paper\", rc={\"font.size\":12,\"axes.titlesize\":12,\"axes.labelsize\":12})\n",
    "sns.countplot(x='employer_city', hue='year', data=visas_df, order=visas_df.employer_city.value_counts().iloc[:20].index)\n",
    "plt.xticks(rotation=90)\n",
    "ax.set(xlabel='Employer city', ylabel='Number of Visa applications')\n",
    "\n",
    "\n",
    "\n"
   ],
   "metadata": {
    "collapsed": false,
    "pycharm": {
     "name": "#%%\n"
    }
   }
  },
  {
   "cell_type": "markdown",
   "source": [
    "College Station war im Jahr 2015 besonders beliebt (Begründung?). 2014 und 2016 war New York am beliebtesten. Allgemein ist ein ansteigender Trend der Visa Applications zu beobachten.\n"
   ],
   "metadata": {
    "collapsed": false,
    "pycharm": {
     "name": "#%% md\n"
    }
   }
  },
  {
   "cell_type": "markdown",
   "source": [
    "Korrelation\n"
   ],
   "metadata": {
    "collapsed": false,
    "pycharm": {
     "name": "#%% md\n"
    }
   }
  },
  {
   "cell_type": "code",
   "execution_count": 180,
   "outputs": [
    {
     "name": "stderr",
     "output_type": "stream",
     "text": [
      "C:\\Users\\lassu\\anaconda3\\lib\\site-packages\\IPython\\core\\interactiveshell.py:3071: DtypeWarning: Columns (28) have mixed types.Specify dtype option on import or set low_memory=False.\n",
      "  has_raised = await self.run_ast_nodes(code_ast.body, cell_name,\n"
     ]
    },
    {
     "data": {
      "text/plain": "  case_status foreign_worker_info_education\n0   Certified                           NaN\n1      Denied                           NaN\n2   Certified                           NaN\n3   Certified                           NaN\n4   Certified                           NaN",
      "text/html": "<div>\n<style scoped>\n    .dataframe tbody tr th:only-of-type {\n        vertical-align: middle;\n    }\n\n    .dataframe tbody tr th {\n        vertical-align: top;\n    }\n\n    .dataframe thead th {\n        text-align: right;\n    }\n</style>\n<table border=\"1\" class=\"dataframe\">\n  <thead>\n    <tr style=\"text-align: right;\">\n      <th></th>\n      <th>case_status</th>\n      <th>foreign_worker_info_education</th>\n    </tr>\n  </thead>\n  <tbody>\n    <tr>\n      <th>0</th>\n      <td>Certified</td>\n      <td>NaN</td>\n    </tr>\n    <tr>\n      <th>1</th>\n      <td>Denied</td>\n      <td>NaN</td>\n    </tr>\n    <tr>\n      <th>2</th>\n      <td>Certified</td>\n      <td>NaN</td>\n    </tr>\n    <tr>\n      <th>3</th>\n      <td>Certified</td>\n      <td>NaN</td>\n    </tr>\n    <tr>\n      <th>4</th>\n      <td>Certified</td>\n      <td>NaN</td>\n    </tr>\n  </tbody>\n</table>\n</div>"
     },
     "execution_count": 180,
     "metadata": {},
     "output_type": "execute_result"
    }
   ],
   "source": [
    "col_list= [\"case_status\",\"foreign_worker_info_education\"]\n",
    "visas_df1 = pd.read_csv(\"us_perm_visas.csv\", usecols=col_list)\n",
    "visas_df1.head ()\n"
   ],
   "metadata": {
    "collapsed": false,
    "pycharm": {
     "name": "#%%\n"
    }
   }
  },
  {
   "cell_type": "markdown",
   "source": [
    "Dummy Variable erstellen"
   ],
   "metadata": {
    "collapsed": false,
    "pycharm": {
     "name": "#%% md\n"
    }
   }
  },
  {
   "cell_type": "code",
   "execution_count": 180,
   "outputs": [],
   "source": [],
   "metadata": {
    "collapsed": false,
    "pycharm": {
     "name": "#%%\n"
    }
   }
  },
  {
   "cell_type": "code",
   "execution_count": 181,
   "outputs": [
    {
     "data": {
      "text/plain": "             case_status      year\ncase_status     1.000000 -0.200209\nyear           -0.200209  1.000000",
      "text/html": "<div>\n<style scoped>\n    .dataframe tbody tr th:only-of-type {\n        vertical-align: middle;\n    }\n\n    .dataframe tbody tr th {\n        vertical-align: top;\n    }\n\n    .dataframe thead th {\n        text-align: right;\n    }\n</style>\n<table border=\"1\" class=\"dataframe\">\n  <thead>\n    <tr style=\"text-align: right;\">\n      <th></th>\n      <th>case_status</th>\n      <th>year</th>\n    </tr>\n  </thead>\n  <tbody>\n    <tr>\n      <th>case_status</th>\n      <td>1.000000</td>\n      <td>-0.200209</td>\n    </tr>\n    <tr>\n      <th>year</th>\n      <td>-0.200209</td>\n      <td>1.000000</td>\n    </tr>\n  </tbody>\n</table>\n</div>"
     },
     "execution_count": 181,
     "metadata": {},
     "output_type": "execute_result"
    }
   ],
   "source": [
    "visas_df.assign(case_status=visas_df1[\"case_status\"].astype(\"category\").cat.codes).corr()"
   ],
   "metadata": {
    "collapsed": false,
    "pycharm": {
     "name": "#%%\n"
    }
   }
  },
  {
   "cell_type": "code",
   "execution_count": 182,
   "outputs": [
    {
     "data": {
      "text/plain": "   Associate's  Bachelor's  Doctorate  High School  Master's  None  Other\n0            0           0          0            0         0     0      0\n1            0           0          0            0         0     0      0\n2            0           0          0            0         0     0      0\n3            0           0          0            0         0     0      0\n4            0           0          0            0         0     0      0",
      "text/html": "<div>\n<style scoped>\n    .dataframe tbody tr th:only-of-type {\n        vertical-align: middle;\n    }\n\n    .dataframe tbody tr th {\n        vertical-align: top;\n    }\n\n    .dataframe thead th {\n        text-align: right;\n    }\n</style>\n<table border=\"1\" class=\"dataframe\">\n  <thead>\n    <tr style=\"text-align: right;\">\n      <th></th>\n      <th>Associate's</th>\n      <th>Bachelor's</th>\n      <th>Doctorate</th>\n      <th>High School</th>\n      <th>Master's</th>\n      <th>None</th>\n      <th>Other</th>\n    </tr>\n  </thead>\n  <tbody>\n    <tr>\n      <th>0</th>\n      <td>0</td>\n      <td>0</td>\n      <td>0</td>\n      <td>0</td>\n      <td>0</td>\n      <td>0</td>\n      <td>0</td>\n    </tr>\n    <tr>\n      <th>1</th>\n      <td>0</td>\n      <td>0</td>\n      <td>0</td>\n      <td>0</td>\n      <td>0</td>\n      <td>0</td>\n      <td>0</td>\n    </tr>\n    <tr>\n      <th>2</th>\n      <td>0</td>\n      <td>0</td>\n      <td>0</td>\n      <td>0</td>\n      <td>0</td>\n      <td>0</td>\n      <td>0</td>\n    </tr>\n    <tr>\n      <th>3</th>\n      <td>0</td>\n      <td>0</td>\n      <td>0</td>\n      <td>0</td>\n      <td>0</td>\n      <td>0</td>\n      <td>0</td>\n    </tr>\n    <tr>\n      <th>4</th>\n      <td>0</td>\n      <td>0</td>\n      <td>0</td>\n      <td>0</td>\n      <td>0</td>\n      <td>0</td>\n      <td>0</td>\n    </tr>\n  </tbody>\n</table>\n</div>"
     },
     "execution_count": 182,
     "metadata": {},
     "output_type": "execute_result"
    }
   ],
   "source": [
    "\n",
    "df2=pd.get_dummies(visas_df1[\"foreign_worker_info_education\"])\n",
    "#df2[\"casestate\"] = visas_df1[\"case_status\"]\n",
    "df2.head()"
   ],
   "metadata": {
    "collapsed": false,
    "pycharm": {
     "name": "#%%\n"
    }
   }
  },
  {
   "cell_type": "code",
   "execution_count": 183,
   "outputs": [],
   "source": [
    "\n",
    "#df2.assign(casestate=df2[\"casestate\"].astype(\"category\").cat.codes).corr()"
   ],
   "metadata": {
    "collapsed": false,
    "pycharm": {
     "name": "#%%\n"
    }
   }
  },
  {
   "cell_type": "code",
   "execution_count": 184,
   "outputs": [
    {
     "data": {
      "text/plain": "Certified    330519\nDenied        25649\nName: case_status, dtype: int64"
     },
     "execution_count": 184,
     "metadata": {},
     "output_type": "execute_result"
    }
   ],
   "source": [
    "\n",
    "visas_df[\"case_status\"].value_counts()"
   ],
   "metadata": {
    "collapsed": false,
    "pycharm": {
     "name": "#%%\n"
    }
   }
  },
  {
   "cell_type": "code",
   "execution_count": 185,
   "outputs": [
    {
     "data": {
      "text/plain": "0    1\n1    0\n2    1\n3    1\n4    1\nName: case_status, dtype: int64"
     },
     "execution_count": 185,
     "metadata": {},
     "output_type": "execute_result"
    }
   ],
   "source": [
    "visas_df[\"case_status\"]=visas_df[\"case_status\"].replace(\"Denied\",0)\n",
    "visas_df[\"case_status\"]=visas_df[\"case_status\"].replace(\"Certified\",1)\n",
    "visas_df.case_status.head()"
   ],
   "metadata": {
    "collapsed": false,
    "pycharm": {
     "name": "#%%\n"
    }
   }
  },
  {
   "cell_type": "code",
   "execution_count": 186,
   "outputs": [
    {
     "data": {
      "text/plain": "   0.0  1.0  Associate's  Bachelor's  Doctorate  High School  Master's  None  \\\n0    0    1            0           0          0            0         0     0   \n1    1    0            0           0          0            0         0     0   \n2    0    1            0           0          0            0         0     0   \n3    0    1            0           0          0            0         0     0   \n4    0    1            0           0          0            0         0     0   \n\n   Other  \n0      0  \n1      0  \n2      0  \n3      0  \n4      0  ",
      "text/html": "<div>\n<style scoped>\n    .dataframe tbody tr th:only-of-type {\n        vertical-align: middle;\n    }\n\n    .dataframe tbody tr th {\n        vertical-align: top;\n    }\n\n    .dataframe thead th {\n        text-align: right;\n    }\n</style>\n<table border=\"1\" class=\"dataframe\">\n  <thead>\n    <tr style=\"text-align: right;\">\n      <th></th>\n      <th>0.0</th>\n      <th>1.0</th>\n      <th>Associate's</th>\n      <th>Bachelor's</th>\n      <th>Doctorate</th>\n      <th>High School</th>\n      <th>Master's</th>\n      <th>None</th>\n      <th>Other</th>\n    </tr>\n  </thead>\n  <tbody>\n    <tr>\n      <th>0</th>\n      <td>0</td>\n      <td>1</td>\n      <td>0</td>\n      <td>0</td>\n      <td>0</td>\n      <td>0</td>\n      <td>0</td>\n      <td>0</td>\n      <td>0</td>\n    </tr>\n    <tr>\n      <th>1</th>\n      <td>1</td>\n      <td>0</td>\n      <td>0</td>\n      <td>0</td>\n      <td>0</td>\n      <td>0</td>\n      <td>0</td>\n      <td>0</td>\n      <td>0</td>\n    </tr>\n    <tr>\n      <th>2</th>\n      <td>0</td>\n      <td>1</td>\n      <td>0</td>\n      <td>0</td>\n      <td>0</td>\n      <td>0</td>\n      <td>0</td>\n      <td>0</td>\n      <td>0</td>\n    </tr>\n    <tr>\n      <th>3</th>\n      <td>0</td>\n      <td>1</td>\n      <td>0</td>\n      <td>0</td>\n      <td>0</td>\n      <td>0</td>\n      <td>0</td>\n      <td>0</td>\n      <td>0</td>\n    </tr>\n    <tr>\n      <th>4</th>\n      <td>0</td>\n      <td>1</td>\n      <td>0</td>\n      <td>0</td>\n      <td>0</td>\n      <td>0</td>\n      <td>0</td>\n      <td>0</td>\n      <td>0</td>\n    </tr>\n  </tbody>\n</table>\n</div>"
     },
     "execution_count": 186,
     "metadata": {},
     "output_type": "execute_result"
    }
   ],
   "source": [
    "visas_df1[\"case_status\"] = visas_df[\"case_status\"]\n",
    "\n",
    "df1=pd.get_dummies(visas_df1[\"case_status\"])\n",
    "df2=pd.get_dummies(visas_df1[\"foreign_worker_info_education\"])\n",
    "df3=df1.join(df2)\n",
    "df3.head()"
   ],
   "metadata": {
    "collapsed": false,
    "pycharm": {
     "name": "#%%\n"
    }
   }
  },
  {
   "cell_type": "code",
   "execution_count": 187,
   "outputs": [],
   "source": [
    "df3 = df3.drop([0],axis=1)"
   ],
   "metadata": {
    "collapsed": false,
    "pycharm": {
     "name": "#%%\n"
    }
   }
  },
  {
   "cell_type": "markdown",
   "source": [
    "Rename Pandas\n"
   ],
   "metadata": {
    "collapsed": false,
    "pycharm": {
     "name": "#%% md\n"
    }
   }
  },
  {
   "cell_type": "code",
   "execution_count": 188,
   "outputs": [],
   "source": [
    "df3 = df3.rename(columns={df3.columns[0]:\"Certified\"})"
   ],
   "metadata": {
    "collapsed": false,
    "pycharm": {
     "name": "#%%\n"
    }
   }
  },
  {
   "cell_type": "code",
   "execution_count": 189,
   "outputs": [
    {
     "data": {
      "text/plain": "   Certified  Associate's  Bachelor's  Doctorate  High School  Master's  None  \\\n0          1            0           0          0            0         0     0   \n1          0            0           0          0            0         0     0   \n2          1            0           0          0            0         0     0   \n3          1            0           0          0            0         0     0   \n4          1            0           0          0            0         0     0   \n\n   Other  \n0      0  \n1      0  \n2      0  \n3      0  \n4      0  ",
      "text/html": "<div>\n<style scoped>\n    .dataframe tbody tr th:only-of-type {\n        vertical-align: middle;\n    }\n\n    .dataframe tbody tr th {\n        vertical-align: top;\n    }\n\n    .dataframe thead th {\n        text-align: right;\n    }\n</style>\n<table border=\"1\" class=\"dataframe\">\n  <thead>\n    <tr style=\"text-align: right;\">\n      <th></th>\n      <th>Certified</th>\n      <th>Associate's</th>\n      <th>Bachelor's</th>\n      <th>Doctorate</th>\n      <th>High School</th>\n      <th>Master's</th>\n      <th>None</th>\n      <th>Other</th>\n    </tr>\n  </thead>\n  <tbody>\n    <tr>\n      <th>0</th>\n      <td>1</td>\n      <td>0</td>\n      <td>0</td>\n      <td>0</td>\n      <td>0</td>\n      <td>0</td>\n      <td>0</td>\n      <td>0</td>\n    </tr>\n    <tr>\n      <th>1</th>\n      <td>0</td>\n      <td>0</td>\n      <td>0</td>\n      <td>0</td>\n      <td>0</td>\n      <td>0</td>\n      <td>0</td>\n      <td>0</td>\n    </tr>\n    <tr>\n      <th>2</th>\n      <td>1</td>\n      <td>0</td>\n      <td>0</td>\n      <td>0</td>\n      <td>0</td>\n      <td>0</td>\n      <td>0</td>\n      <td>0</td>\n    </tr>\n    <tr>\n      <th>3</th>\n      <td>1</td>\n      <td>0</td>\n      <td>0</td>\n      <td>0</td>\n      <td>0</td>\n      <td>0</td>\n      <td>0</td>\n      <td>0</td>\n    </tr>\n    <tr>\n      <th>4</th>\n      <td>1</td>\n      <td>0</td>\n      <td>0</td>\n      <td>0</td>\n      <td>0</td>\n      <td>0</td>\n      <td>0</td>\n      <td>0</td>\n    </tr>\n  </tbody>\n</table>\n</div>"
     },
     "execution_count": 189,
     "metadata": {},
     "output_type": "execute_result"
    }
   ],
   "source": [
    "df3.head()"
   ],
   "metadata": {
    "collapsed": false,
    "pycharm": {
     "name": "#%%\n"
    }
   }
  },
  {
   "cell_type": "code",
   "execution_count": 190,
   "outputs": [
    {
     "data": {
      "text/plain": "             Certified  Associate's  Bachelor's  Doctorate  High School  \\\nCertified     1.000000    -0.026400    0.073874   0.028249    -0.051159   \nAssociate's  -0.026400     1.000000   -0.043834  -0.014573    -0.008778   \nBachelor's    0.073874    -0.043834    1.000000  -0.101692    -0.061250   \nDoctorate     0.028249    -0.014573   -0.101692   1.000000    -0.020364   \nHigh School  -0.051159    -0.008778   -0.061250  -0.020364     1.000000   \nMaster's      0.079462    -0.049047   -0.342243  -0.113785    -0.068534   \nNone         -0.091267    -0.017991   -0.125540  -0.041738    -0.025139   \nOther         0.006458    -0.013295   -0.092769  -0.030843    -0.018577   \ncasestate     1.000000    -0.026400    0.073874   0.028249    -0.051159   \n\n             Master's      None     Other  casestate  \nCertified    0.079462 -0.091267  0.006458   1.000000  \nAssociate's -0.049047 -0.017991 -0.013295  -0.026400  \nBachelor's  -0.342243 -0.125540 -0.092769   0.073874  \nDoctorate   -0.113785 -0.041738 -0.030843   0.028249  \nHigh School -0.068534 -0.025139 -0.018577  -0.051159  \nMaster's     1.000000 -0.140468 -0.103801   0.079462  \nNone        -0.140468  1.000000 -0.038076  -0.091267  \nOther       -0.103801 -0.038076  1.000000   0.006458  \ncasestate    0.079462 -0.091267  0.006458   1.000000  ",
      "text/html": "<div>\n<style scoped>\n    .dataframe tbody tr th:only-of-type {\n        vertical-align: middle;\n    }\n\n    .dataframe tbody tr th {\n        vertical-align: top;\n    }\n\n    .dataframe thead th {\n        text-align: right;\n    }\n</style>\n<table border=\"1\" class=\"dataframe\">\n  <thead>\n    <tr style=\"text-align: right;\">\n      <th></th>\n      <th>Certified</th>\n      <th>Associate's</th>\n      <th>Bachelor's</th>\n      <th>Doctorate</th>\n      <th>High School</th>\n      <th>Master's</th>\n      <th>None</th>\n      <th>Other</th>\n      <th>casestate</th>\n    </tr>\n  </thead>\n  <tbody>\n    <tr>\n      <th>Certified</th>\n      <td>1.000000</td>\n      <td>-0.026400</td>\n      <td>0.073874</td>\n      <td>0.028249</td>\n      <td>-0.051159</td>\n      <td>0.079462</td>\n      <td>-0.091267</td>\n      <td>0.006458</td>\n      <td>1.000000</td>\n    </tr>\n    <tr>\n      <th>Associate's</th>\n      <td>-0.026400</td>\n      <td>1.000000</td>\n      <td>-0.043834</td>\n      <td>-0.014573</td>\n      <td>-0.008778</td>\n      <td>-0.049047</td>\n      <td>-0.017991</td>\n      <td>-0.013295</td>\n      <td>-0.026400</td>\n    </tr>\n    <tr>\n      <th>Bachelor's</th>\n      <td>0.073874</td>\n      <td>-0.043834</td>\n      <td>1.000000</td>\n      <td>-0.101692</td>\n      <td>-0.061250</td>\n      <td>-0.342243</td>\n      <td>-0.125540</td>\n      <td>-0.092769</td>\n      <td>0.073874</td>\n    </tr>\n    <tr>\n      <th>Doctorate</th>\n      <td>0.028249</td>\n      <td>-0.014573</td>\n      <td>-0.101692</td>\n      <td>1.000000</td>\n      <td>-0.020364</td>\n      <td>-0.113785</td>\n      <td>-0.041738</td>\n      <td>-0.030843</td>\n      <td>0.028249</td>\n    </tr>\n    <tr>\n      <th>High School</th>\n      <td>-0.051159</td>\n      <td>-0.008778</td>\n      <td>-0.061250</td>\n      <td>-0.020364</td>\n      <td>1.000000</td>\n      <td>-0.068534</td>\n      <td>-0.025139</td>\n      <td>-0.018577</td>\n      <td>-0.051159</td>\n    </tr>\n    <tr>\n      <th>Master's</th>\n      <td>0.079462</td>\n      <td>-0.049047</td>\n      <td>-0.342243</td>\n      <td>-0.113785</td>\n      <td>-0.068534</td>\n      <td>1.000000</td>\n      <td>-0.140468</td>\n      <td>-0.103801</td>\n      <td>0.079462</td>\n    </tr>\n    <tr>\n      <th>None</th>\n      <td>-0.091267</td>\n      <td>-0.017991</td>\n      <td>-0.125540</td>\n      <td>-0.041738</td>\n      <td>-0.025139</td>\n      <td>-0.140468</td>\n      <td>1.000000</td>\n      <td>-0.038076</td>\n      <td>-0.091267</td>\n    </tr>\n    <tr>\n      <th>Other</th>\n      <td>0.006458</td>\n      <td>-0.013295</td>\n      <td>-0.092769</td>\n      <td>-0.030843</td>\n      <td>-0.018577</td>\n      <td>-0.103801</td>\n      <td>-0.038076</td>\n      <td>1.000000</td>\n      <td>0.006458</td>\n    </tr>\n    <tr>\n      <th>casestate</th>\n      <td>1.000000</td>\n      <td>-0.026400</td>\n      <td>0.073874</td>\n      <td>0.028249</td>\n      <td>-0.051159</td>\n      <td>0.079462</td>\n      <td>-0.091267</td>\n      <td>0.006458</td>\n      <td>1.000000</td>\n    </tr>\n  </tbody>\n</table>\n</div>"
     },
     "execution_count": 190,
     "metadata": {},
     "output_type": "execute_result"
    }
   ],
   "source": [
    "df3.assign(casestate=df3[\"Certified\"].astype(\"category\").cat.codes).corr()\n",
    "\n"
   ],
   "metadata": {
    "collapsed": false,
    "pycharm": {
     "name": "#%%\n"
    }
   }
  }
 ],
 "metadata": {
  "kernelspec": {
   "name": "python3",
   "language": "python",
   "display_name": "Python 3"
  },
  "language_info": {
   "codemirror_mode": {
    "name": "ipython",
    "version": 2
   },
   "file_extension": ".py",
   "mimetype": "text/x-python",
   "name": "python",
   "nbconvert_exporter": "python",
   "pygments_lexer": "ipython2",
   "version": "2.7.6"
  }
 },
 "nbformat": 4,
 "nbformat_minor": 0
}