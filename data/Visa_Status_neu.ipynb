{
 "cells": [
  {
   "cell_type": "code",
   "execution_count": 17,
   "outputs": [],
   "source": [],
   "metadata": {
    "collapsed": false,
    "pycharm": {
     "name": "#%%\n"
    }
   }
  },
  {
   "cell_type": "markdown",
   "source": [
    "Importe\n"
   ],
   "metadata": {
    "collapsed": false
   }
  },
  {
   "cell_type": "code",
   "execution_count": 1,
   "outputs": [],
   "source": [
    "import pandas as pd\n",
    "import numpy as np\n",
    "import matplotlib.pyplot as plt\n",
    "import seaborn as sns\n",
    "import cleanup\n",
    "\n",
    "%matplotlib inline"
   ],
   "metadata": {
    "collapsed": false,
    "pycharm": {
     "name": "#%%\n"
    }
   }
  },
  {
   "cell_type": "code",
   "execution_count": 2,
   "outputs": [
    {
     "name": "stderr",
     "output_type": "stream",
     "text": [
      "C:\\Users\\lassu\\anaconda3\\lib\\site-packages\\IPython\\core\\interactiveshell.py:3263: DtypeWarning: Columns (0,1,2,3,4,5,6,7,10,11,16,17,20,21,22,25,26,27,28,29,30,31,32,33,34,35,36,37,39,40,41,42,43,44,45,47,48,49,50,51,52,53,55,56,57,58,59,60,61,63,64,65,66,68,69,70,71,72,73,74,77,79,80,81,82,83,84,85,86,87,88,89,90,91,92,93,94,95,100,101,103,104,105,106,107,108,109,110,111,112,113,114,115,116,117,118,119,120,121,122,123,124,125,126,127,128,129,130,131,132,133,134,135,136,137,138,139,140,141,142,143,144,145,146,147,148,149,150,153) have mixed types.Specify dtype option on import or set low_memory=False.\n",
      "  if (await self.run_code(code, result,  async_=asy)):\n",
      "C:\\Users\\lassu\\PycharmProjects\\python_visa\\cleanup.py:78: SettingWithCopyWarning: \n",
      "A value is trying to be set on a copy of a slice from a DataFrame.\n",
      "Try using .loc[row_indexer,col_indexer] = value instead\n",
      "\n",
      "See the caveats in the documentation: https://pandas.pydata.org/pandas-docs/stable/user_guide/indexing.html#returning-a-view-versus-a-copy\n",
      "  temp_df[\"wage_offer_from_9089\"] = temp_df[\"wage_offer_from_9089\"].apply(clean_currency).astype('float')\n",
      "C:\\Users\\lassu\\PycharmProjects\\python_visa\\cleanup.py:82: SettingWithCopyWarning: \n",
      "A value is trying to be set on a copy of a slice from a DataFrame.\n",
      "Try using .loc[row_indexer,col_indexer] = value instead\n",
      "\n",
      "See the caveats in the documentation: https://pandas.pydata.org/pandas-docs/stable/user_guide/indexing.html#returning-a-view-versus-a-copy\n",
      "  temp_df['wage_offer_from_merged'] = temp_df['wage_offer_from_9089'].fillna(0) + temp_df['wage_offered_from_9089'].fillna(0)\n",
      "C:\\Users\\lassu\\anaconda3\\lib\\site-packages\\pandas\\core\\generic.py:6746: SettingWithCopyWarning: \n",
      "A value is trying to be set on a copy of a slice from a DataFrame\n",
      "\n",
      "See the caveats in the documentation: https://pandas.pydata.org/pandas-docs/stable/user_guide/indexing.html#returning-a-view-versus-a-copy\n",
      "  self._update_inplace(new_data)\n",
      "C:\\Users\\lassu\\PycharmProjects\\python_visa\\cleanup.py:111: SettingWithCopyWarning: \n",
      "A value is trying to be set on a copy of a slice from a DataFrame.\n",
      "Try using .loc[row_indexer,col_indexer] = value instead\n",
      "\n",
      "See the caveats in the documentation: https://pandas.pydata.org/pandas-docs/stable/user_guide/indexing.html#returning-a-view-versus-a-copy\n",
      "  temp_df['wage_offer_of_pay_unit_merged'] = temp_df['wage_offer_unit_of_pay_9089'].fillna('') + temp_df['wage_offered_unit_of_pay_9089'].fillna('')\n",
      "C:\\Users\\lassu\\PycharmProjects\\python_visa\\cleanup.py:127: SettingWithCopyWarning: \n",
      "A value is trying to be set on a copy of a slice from a DataFrame.\n",
      "Try using .loc[row_indexer,col_indexer] = value instead\n",
      "\n",
      "See the caveats in the documentation: https://pandas.pydata.org/pandas-docs/stable/user_guide/indexing.html#returning-a-view-versus-a-copy\n",
      "  temp_df['wage_offer_of_pay_unit_merged'] = temp_df['wage_offer_of_pay_unit_merged'].replace(unit_abbreviations)\n",
      "C:\\Users\\lassu\\PycharmProjects\\python_visa\\cleanup.py:137: SettingWithCopyWarning: \n",
      "A value is trying to be set on a copy of a slice from a DataFrame.\n",
      "Try using .loc[row_indexer,col_indexer] = value instead\n",
      "\n",
      "See the caveats in the documentation: https://pandas.pydata.org/pandas-docs/stable/user_guide/indexing.html#returning-a-view-versus-a-copy\n",
      "  temp_df['case_received_date'] = pd.to_datetime(temp_df['case_received_date'])\n",
      "C:\\Users\\lassu\\PycharmProjects\\python_visa\\cleanup.py:146: SettingWithCopyWarning: \n",
      "A value is trying to be set on a copy of a slice from a DataFrame.\n",
      "Try using .loc[row_indexer,col_indexer] = value instead\n",
      "\n",
      "See the caveats in the documentation: https://pandas.pydata.org/pandas-docs/stable/user_guide/indexing.html#returning-a-view-versus-a-copy\n",
      "  temp_df['decision_date'] = pd.to_datetime(temp_df['decision_date'])\n",
      "C:\\Users\\lassu\\PycharmProjects\\python_visa\\cleanup.py:165: SettingWithCopyWarning: \n",
      "A value is trying to be set on a copy of a slice from a DataFrame.\n",
      "Try using .loc[row_indexer,col_indexer] = value instead\n",
      "\n",
      "See the caveats in the documentation: https://pandas.pydata.org/pandas-docs/stable/user_guide/indexing.html#returning-a-view-versus-a-copy\n",
      "  temp_df['employer_state'] = temp_df['employer_state'].replace(abbr_dictionary)\n",
      "C:\\Users\\lassu\\PycharmProjects\\python_visa\\cleanup.py:176: SettingWithCopyWarning: \n",
      "A value is trying to be set on a copy of a slice from a DataFrame.\n",
      "Try using .loc[row_indexer,col_indexer] = value instead\n",
      "\n",
      "See the caveats in the documentation: https://pandas.pydata.org/pandas-docs/stable/user_guide/indexing.html#returning-a-view-versus-a-copy\n",
      "  temp_df['employer_state'] = temp_df['employer_state'].replace(abbr_dictionary)\n",
      "C:\\Users\\lassu\\PycharmProjects\\python_visa\\cleanup.py:180: SettingWithCopyWarning: \n",
      "A value is trying to be set on a copy of a slice from a DataFrame.\n",
      "Try using .loc[row_indexer,col_indexer] = value instead\n",
      "\n",
      "See the caveats in the documentation: https://pandas.pydata.org/pandas-docs/stable/user_guide/indexing.html#returning-a-view-versus-a-copy\n",
      "  temp_df['employer_state'] = temp_df['employer_state'].str.replace('BC', 'British Columbia')\n",
      "C:\\Users\\lassu\\PycharmProjects\\python_visa\\cleanup.py:191: SettingWithCopyWarning: \n",
      "A value is trying to be set on a copy of a slice from a DataFrame.\n",
      "Try using .loc[row_indexer,col_indexer] = value instead\n",
      "\n",
      "See the caveats in the documentation: https://pandas.pydata.org/pandas-docs/stable/user_guide/indexing.html#returning-a-view-versus-a-copy\n",
      "  temp_df['case_number_merged'] = temp_df['case_no'].fillna('') + temp_df['case_number'].fillna('')\n",
      "C:\\Users\\lassu\\PycharmProjects\\python_visa\\cleanup.py:203: SettingWithCopyWarning: \n",
      "A value is trying to be set on a copy of a slice from a DataFrame.\n",
      "Try using .loc[row_indexer,col_indexer] = value instead\n",
      "\n",
      "See the caveats in the documentation: https://pandas.pydata.org/pandas-docs/stable/user_guide/indexing.html#returning-a-view-versus-a-copy\n",
      "  temp_df['foreign_worker_info_education_other'] = temp_df['foreign_worker_info_education_other'].replace(r'^\\s*$',np.nan,regex=True)\n",
      "C:\\Users\\lassu\\PycharmProjects\\python_visa\\cleanup.py:204: SettingWithCopyWarning: \n",
      "A value is trying to be set on a copy of a slice from a DataFrame.\n",
      "Try using .loc[row_indexer,col_indexer] = value instead\n",
      "\n",
      "See the caveats in the documentation: https://pandas.pydata.org/pandas-docs/stable/user_guide/indexing.html#returning-a-view-versus-a-copy\n",
      "  temp_df['fw_info_education_other'] = temp_df['fw_info_education_other'].replace(r'^\\s*$', np.nan, regex=True)\n",
      "C:\\Users\\lassu\\PycharmProjects\\python_visa\\cleanup.py:205: SettingWithCopyWarning: \n",
      "A value is trying to be set on a copy of a slice from a DataFrame.\n",
      "Try using .loc[row_indexer,col_indexer] = value instead\n",
      "\n",
      "See the caveats in the documentation: https://pandas.pydata.org/pandas-docs/stable/user_guide/indexing.html#returning-a-view-versus-a-copy\n",
      "  temp_df['foreign_worker_info_education_other'] = temp_df['foreign_worker_info_education_other'].replace('None',np.nan,regex=True)\n",
      "C:\\Users\\lassu\\PycharmProjects\\python_visa\\cleanup.py:206: SettingWithCopyWarning: \n",
      "A value is trying to be set on a copy of a slice from a DataFrame.\n",
      "Try using .loc[row_indexer,col_indexer] = value instead\n",
      "\n",
      "See the caveats in the documentation: https://pandas.pydata.org/pandas-docs/stable/user_guide/indexing.html#returning-a-view-versus-a-copy\n",
      "  temp_df['fw_info_education_other'] = temp_df['fw_info_education_other'].replace('None', np.nan, regex=True)\n",
      "C:\\Users\\lassu\\PycharmProjects\\python_visa\\cleanup.py:210: SettingWithCopyWarning: \n",
      "A value is trying to be set on a copy of a slice from a DataFrame.\n",
      "Try using .loc[row_indexer,col_indexer] = value instead\n",
      "\n",
      "See the caveats in the documentation: https://pandas.pydata.org/pandas-docs/stable/user_guide/indexing.html#returning-a-view-versus-a-copy\n",
      "  temp_df['fw_info_education_other_merged'] = temp_df['foreign_worker_info_education_other'].fillna('') + temp_df['fw_info_education_other'].fillna('')\n",
      "C:\\Users\\lassu\\PycharmProjects\\python_visa\\cleanup.py:213: SettingWithCopyWarning: \n",
      "A value is trying to be set on a copy of a slice from a DataFrame.\n",
      "Try using .loc[row_indexer,col_indexer] = value instead\n",
      "\n",
      "See the caveats in the documentation: https://pandas.pydata.org/pandas-docs/stable/user_guide/indexing.html#returning-a-view-versus-a-copy\n",
      "  temp_df['fw_info_education_other_merged'] = temp_df['fw_info_education_other_merged'].replace(r'^\\s*$', np.nan,regex=True)\n",
      "C:\\Users\\lassu\\PycharmProjects\\python_visa\\cleanup.py:224: SettingWithCopyWarning: \n",
      "A value is trying to be set on a copy of a slice from a DataFrame.\n",
      "Try using .loc[row_indexer,col_indexer] = value instead\n",
      "\n",
      "See the caveats in the documentation: https://pandas.pydata.org/pandas-docs/stable/user_guide/indexing.html#returning-a-view-versus-a-copy\n",
      "  temp_df['country_of_citizenship_merged'] = temp_df['country_of_citizenship'].fillna('') + temp_df['country_of_citzenship'].fillna('')\n",
      "C:\\Users\\lassu\\PycharmProjects\\python_visa\\cleanup.py:227: SettingWithCopyWarning: \n",
      "A value is trying to be set on a copy of a slice from a DataFrame.\n",
      "Try using .loc[row_indexer,col_indexer] = value instead\n",
      "\n",
      "See the caveats in the documentation: https://pandas.pydata.org/pandas-docs/stable/user_guide/indexing.html#returning-a-view-versus-a-copy\n",
      "  temp_df['country_of_citizenship_merged'] = temp_df['country_of_citizenship_merged'].replace('', np.nan,regex=True)\n"
     ]
    },
    {
     "name": "stdout",
     "output_type": "stream",
     "text": [
      "   wage_offer_from wage_offer_unit_of_pay case_received_date decision_date  \\\n",
      "0         75629.00                     yr                NaT    2012-02-01   \n",
      "1         37024.00                     yr                NaT    2011-12-21   \n",
      "2         47923.00                     yr                NaT    2011-12-01   \n",
      "3            10.97                     hr                NaT    2011-12-01   \n",
      "4        100000.00                     yr                NaT    2012-01-26   \n",
      "\n",
      "  employer_state    case_number foreign_worker_info_education_other  \\\n",
      "0       NEW YORK  A-07323-97014                                 NaN   \n",
      "1       NEW YORK  A-07332-99439                                 NaN   \n",
      "2       VIRGINIA  A-07333-99643                                 NaN   \n",
      "3       NEW YORK  A-07339-01930                                 NaN   \n",
      "4       NEW YORK  A-07345-03565                                 NaN   \n",
      "\n",
      "  country_of_citizenship case_status     us_economic_sector  \\\n",
      "0                ARMENIA   Certified                     IT   \n",
      "1                 POLAND      Denied  Other Economic Sector   \n",
      "2                  INDIA   Certified              Aerospace   \n",
      "3            SOUTH KOREA   Certified  Other Economic Sector   \n",
      "4                 CANADA   Certified           Advanced Mfg   \n",
      "\n",
      "                 employer_name employer_city  \n",
      "0             NETSOFT USA INC.      NEW YORK  \n",
      "1  PINNACLE ENVIRONEMNTAL CORP     CARLSTADT  \n",
      "2   SCHNABEL ENGINEERING, INC.    GLEN ALLEN  \n",
      "3      EBENEZER MISSION CHURCH      FLUSHING  \n",
      "4   ALBANY INTERNATIONAL CORP.        ALBANY  \n"
     ]
    }
   ],
   "source": [
    "cleanup.generate_cleaned_df()"
   ],
   "metadata": {
    "collapsed": false,
    "pycharm": {
     "name": "#%%\n"
    }
   }
  },
  {
   "cell_type": "markdown",
   "source": [
    "Welche Daten sind verfügbar und Laden des Datensatzes"
   ],
   "metadata": {
    "collapsed": false
   }
  },
  {
   "cell_type": "code",
   "execution_count": 2,
   "outputs": [
    {
     "name": "stderr",
     "output_type": "stream",
     "text": [
      "C:\\Users\\lassu\\anaconda3\\lib\\site-packages\\IPython\\core\\interactiveshell.py:3071: DtypeWarning: Columns (5,6,7) have mixed types.Specify dtype option on import or set low_memory=False.\n",
      "  has_raised = await self.run_ast_nodes(code_ast.body, cell_name,\n"
     ]
    },
    {
     "data": {
      "text/plain": "         case_no case_number case_received_date case_status decision_date  \\\n0  A-07323-97014         NaN                NaN   Certified    2012-02-01   \n1  A-07332-99439         NaN                NaN      Denied    2011-12-21   \n2  A-07333-99643         NaN                NaN   Certified    2011-12-01   \n3  A-07339-01930         NaN                NaN   Certified    2011-12-01   \n4  A-07345-03565         NaN                NaN   Certified    2012-01-26   \n\n  employer_city  \n0      NEW YORK  \n1     CARLSTADT  \n2    GLEN ALLEN  \n3      FLUSHING  \n4        ALBANY  ",
      "text/html": "<div>\n<style scoped>\n    .dataframe tbody tr th:only-of-type {\n        vertical-align: middle;\n    }\n\n    .dataframe tbody tr th {\n        vertical-align: top;\n    }\n\n    .dataframe thead th {\n        text-align: right;\n    }\n</style>\n<table border=\"1\" class=\"dataframe\">\n  <thead>\n    <tr style=\"text-align: right;\">\n      <th></th>\n      <th>case_no</th>\n      <th>case_number</th>\n      <th>case_received_date</th>\n      <th>case_status</th>\n      <th>decision_date</th>\n      <th>employer_city</th>\n    </tr>\n  </thead>\n  <tbody>\n    <tr>\n      <th>0</th>\n      <td>A-07323-97014</td>\n      <td>NaN</td>\n      <td>NaN</td>\n      <td>Certified</td>\n      <td>2012-02-01</td>\n      <td>NEW YORK</td>\n    </tr>\n    <tr>\n      <th>1</th>\n      <td>A-07332-99439</td>\n      <td>NaN</td>\n      <td>NaN</td>\n      <td>Denied</td>\n      <td>2011-12-21</td>\n      <td>CARLSTADT</td>\n    </tr>\n    <tr>\n      <th>2</th>\n      <td>A-07333-99643</td>\n      <td>NaN</td>\n      <td>NaN</td>\n      <td>Certified</td>\n      <td>2011-12-01</td>\n      <td>GLEN ALLEN</td>\n    </tr>\n    <tr>\n      <th>3</th>\n      <td>A-07339-01930</td>\n      <td>NaN</td>\n      <td>NaN</td>\n      <td>Certified</td>\n      <td>2011-12-01</td>\n      <td>FLUSHING</td>\n    </tr>\n    <tr>\n      <th>4</th>\n      <td>A-07345-03565</td>\n      <td>NaN</td>\n      <td>NaN</td>\n      <td>Certified</td>\n      <td>2012-01-26</td>\n      <td>ALBANY</td>\n    </tr>\n  </tbody>\n</table>\n</div>"
     },
     "execution_count": 2,
     "metadata": {},
     "output_type": "execute_result"
    }
   ],
   "source": [
    "col_list= [\"case_status\",\"case_number\",\"case_no\", \"decision_date\", \"case_received_date\", \"employer_city\"]\n",
    "visas_df = pd.read_csv(\"us_perm_visas.csv\", usecols=col_list)\n",
    "visas_df.head ()"
   ],
   "metadata": {
    "collapsed": false,
    "pycharm": {
     "name": "#%%\n"
    }
   }
  },
  {
   "cell_type": "markdown",
   "source": [
    "Untersuchung der vorliegenden Daten im Datensatz\n"
   ],
   "metadata": {
    "collapsed": false
   }
  },
  {
   "cell_type": "code",
   "execution_count": 20,
   "outputs": [],
   "source": [
    "# df = pd.read_csv('us_perm_visas.csv', low_memory = False, parse_dates=['decision_date', 'case_received_date'])\n",
    "visas_df [\"decision_date\"]=pd.to_datetime(visas_df[\"decision_date\"])\n",
    "visas_df [\"case_received_date\"]=pd.to_datetime(visas_df[\"case_received_date\"])"
   ],
   "metadata": {
    "collapsed": false,
    "pycharm": {
     "name": "#%%\n"
    }
   }
  },
  {
   "cell_type": "markdown",
   "source": [
    "Überprüfung der Anzahl der Visa Bewerbungen bzw. Fälle (Zeilen und Spalten)\n"
   ],
   "metadata": {
    "collapsed": false
   }
  },
  {
   "cell_type": "code",
   "execution_count": 21,
   "outputs": [
    {
     "name": "stdout",
     "output_type": "stream",
     "text": [
      "Number of Visa Applications: 374362\n",
      "Number of Columns: 6\n"
     ]
    }
   ],
   "source": [
    "print('Number of Visa Applications:', len(visas_df))\n",
    "print('Number of Columns:', len(visas_df.columns))"
   ],
   "metadata": {
    "collapsed": false,
    "pycharm": {
     "name": "#%%\n"
    }
   }
  },
  {
   "cell_type": "markdown",
   "source": [
    "Ersten fünf Zeilen anzeigen lassen zum checken"
   ],
   "metadata": {
    "collapsed": false
   }
  },
  {
   "cell_type": "code",
   "execution_count": 22,
   "outputs": [
    {
     "data": {
      "text/plain": "         case_no case_number case_received_date case_status decision_date  \\\n0  A-07323-97014         NaN                NaT   Certified    2012-02-01   \n1  A-07332-99439         NaN                NaT      Denied    2011-12-21   \n2  A-07333-99643         NaN                NaT   Certified    2011-12-01   \n3  A-07339-01930         NaN                NaT   Certified    2011-12-01   \n4  A-07345-03565         NaN                NaT   Certified    2012-01-26   \n\n  employer_city  \n0      NEW YORK  \n1     CARLSTADT  \n2    GLEN ALLEN  \n3      FLUSHING  \n4        ALBANY  ",
      "text/html": "<div>\n<style scoped>\n    .dataframe tbody tr th:only-of-type {\n        vertical-align: middle;\n    }\n\n    .dataframe tbody tr th {\n        vertical-align: top;\n    }\n\n    .dataframe thead th {\n        text-align: right;\n    }\n</style>\n<table border=\"1\" class=\"dataframe\">\n  <thead>\n    <tr style=\"text-align: right;\">\n      <th></th>\n      <th>case_no</th>\n      <th>case_number</th>\n      <th>case_received_date</th>\n      <th>case_status</th>\n      <th>decision_date</th>\n      <th>employer_city</th>\n    </tr>\n  </thead>\n  <tbody>\n    <tr>\n      <th>0</th>\n      <td>A-07323-97014</td>\n      <td>NaN</td>\n      <td>NaT</td>\n      <td>Certified</td>\n      <td>2012-02-01</td>\n      <td>NEW YORK</td>\n    </tr>\n    <tr>\n      <th>1</th>\n      <td>A-07332-99439</td>\n      <td>NaN</td>\n      <td>NaT</td>\n      <td>Denied</td>\n      <td>2011-12-21</td>\n      <td>CARLSTADT</td>\n    </tr>\n    <tr>\n      <th>2</th>\n      <td>A-07333-99643</td>\n      <td>NaN</td>\n      <td>NaT</td>\n      <td>Certified</td>\n      <td>2011-12-01</td>\n      <td>GLEN ALLEN</td>\n    </tr>\n    <tr>\n      <th>3</th>\n      <td>A-07339-01930</td>\n      <td>NaN</td>\n      <td>NaT</td>\n      <td>Certified</td>\n      <td>2011-12-01</td>\n      <td>FLUSHING</td>\n    </tr>\n    <tr>\n      <th>4</th>\n      <td>A-07345-03565</td>\n      <td>NaN</td>\n      <td>NaT</td>\n      <td>Certified</td>\n      <td>2012-01-26</td>\n      <td>ALBANY</td>\n    </tr>\n  </tbody>\n</table>\n</div>"
     },
     "execution_count": 22,
     "metadata": {},
     "output_type": "execute_result"
    }
   ],
   "source": [
    "visas_df.head()"
   ],
   "metadata": {
    "collapsed": false,
    "pycharm": {
     "name": "#%%\n"
    }
   }
  },
  {
   "cell_type": "markdown",
   "source": [
    "Letze fünf Zeilen anzeigen lassen zum checken"
   ],
   "metadata": {
    "collapsed": false
   }
  },
  {
   "cell_type": "code",
   "execution_count": 23,
   "outputs": [
    {
     "data": {
      "text/plain": "       case_no    case_number case_received_date case_status decision_date  \\\n374357     NaN  A-16363-85407         2016-12-29   Withdrawn    2016-12-30   \n374358     NaN  A-16271-56745         2016-12-30   Withdrawn    2016-12-30   \n374359     NaN  A-16354-82345         2016-12-30   Withdrawn    2016-12-30   \n374360     NaN  A-16357-84250         2016-12-30   Withdrawn    2016-12-30   \n374361     NaN  A-16279-59292         2016-12-30   Withdrawn    2016-12-30   \n\n       employer_city  \n374357       ANAHEIM  \n374358       REDMOND  \n374359     YPSILANTI  \n374360       Phoenix  \n374361   SANTA CLARA  ",
      "text/html": "<div>\n<style scoped>\n    .dataframe tbody tr th:only-of-type {\n        vertical-align: middle;\n    }\n\n    .dataframe tbody tr th {\n        vertical-align: top;\n    }\n\n    .dataframe thead th {\n        text-align: right;\n    }\n</style>\n<table border=\"1\" class=\"dataframe\">\n  <thead>\n    <tr style=\"text-align: right;\">\n      <th></th>\n      <th>case_no</th>\n      <th>case_number</th>\n      <th>case_received_date</th>\n      <th>case_status</th>\n      <th>decision_date</th>\n      <th>employer_city</th>\n    </tr>\n  </thead>\n  <tbody>\n    <tr>\n      <th>374357</th>\n      <td>NaN</td>\n      <td>A-16363-85407</td>\n      <td>2016-12-29</td>\n      <td>Withdrawn</td>\n      <td>2016-12-30</td>\n      <td>ANAHEIM</td>\n    </tr>\n    <tr>\n      <th>374358</th>\n      <td>NaN</td>\n      <td>A-16271-56745</td>\n      <td>2016-12-30</td>\n      <td>Withdrawn</td>\n      <td>2016-12-30</td>\n      <td>REDMOND</td>\n    </tr>\n    <tr>\n      <th>374359</th>\n      <td>NaN</td>\n      <td>A-16354-82345</td>\n      <td>2016-12-30</td>\n      <td>Withdrawn</td>\n      <td>2016-12-30</td>\n      <td>YPSILANTI</td>\n    </tr>\n    <tr>\n      <th>374360</th>\n      <td>NaN</td>\n      <td>A-16357-84250</td>\n      <td>2016-12-30</td>\n      <td>Withdrawn</td>\n      <td>2016-12-30</td>\n      <td>Phoenix</td>\n    </tr>\n    <tr>\n      <th>374361</th>\n      <td>NaN</td>\n      <td>A-16279-59292</td>\n      <td>2016-12-30</td>\n      <td>Withdrawn</td>\n      <td>2016-12-30</td>\n      <td>SANTA CLARA</td>\n    </tr>\n  </tbody>\n</table>\n</div>"
     },
     "execution_count": 23,
     "metadata": {},
     "output_type": "execute_result"
    }
   ],
   "source": [
    "visas_df.tail()"
   ],
   "metadata": {
    "collapsed": false,
    "pycharm": {
     "name": "#%%\n"
    }
   }
  },
  {
   "cell_type": "markdown",
   "source": [
    "Namen der Spalten anzeigen lassen\n"
   ],
   "metadata": {
    "collapsed": false
   }
  },
  {
   "cell_type": "code",
   "execution_count": 24,
   "outputs": [
    {
     "name": "stdout",
     "output_type": "stream",
     "text": [
      "['case_no' 'case_number' 'case_received_date' 'case_status'\n",
      " 'decision_date' 'employer_city']\n"
     ]
    }
   ],
   "source": [
    "print(visas_df.columns.values)"
   ],
   "metadata": {
    "collapsed": false,
    "pycharm": {
     "name": "#%%\n"
    }
   }
  },
  {
   "cell_type": "markdown",
   "source": [
    "Die Werte case_number und case_no könnten ähnliche Informationen beinhalten. Daher überprüfen wir  Länge, Anzahl der fehlenden Werte und Beispielwerte"
   ],
   "metadata": {
    "collapsed": false
   }
  },
  {
   "cell_type": "code",
   "execution_count": 25,
   "outputs": [
    {
     "name": "stdout",
     "output_type": "stream",
     "text": [
      "Length of 'case_number' column is:  374362  with 135269 missing values\n",
      "Length of 'case_no' column is:  374362  with 239093 missing values \n",
      "\n",
      "First 2 values of case_number column are : \n",
      " 0    NaN\n",
      "1    NaN\n",
      "Name: case_number, dtype: object \n",
      "\n",
      "Last 2 values of case_number column are : \n",
      " 374360    A-16357-84250\n",
      "374361    A-16279-59292\n",
      "Name: case_number, dtype: object \n",
      "\n",
      "First 2 values of case_no column are : \n",
      " 0    A-07323-97014\n",
      "1    A-07332-99439\n",
      "Name: case_no, dtype: object \n",
      "\n",
      "Last 2 values of case_no column are : \n",
      " 374360    NaN\n",
      "374361    NaN\n",
      "Name: case_no, dtype: object\n"
     ]
    }
   ],
   "source": [
    "print(\"Length of 'case_number' column is: \", len(visas_df['case_number']),\" with\",visas_df.case_number.isnull().sum(), \"missing values\")\n",
    "print(\"Length of 'case_no' column is: \", len(visas_df['case_no']),\" with\", visas_df.case_no.isnull().sum(),\"missing values \\n\")\n",
    "\n",
    "print(\"First 2 values of case_number column are : \\n\", visas_df['case_number'].head(2),\"\\n\")\n",
    "\n",
    "print(\"Last 2 values of case_number column are : \\n\", visas_df['case_number'].tail(2), \"\\n\")\n",
    "print(\"First 2 values of case_no column are : \\n\", visas_df['case_no'].head(2), \"\\n\")\n",
    "print(\"Last 2 values of case_no column are : \\n\", visas_df['case_no'].tail(2))"
   ],
   "metadata": {
    "collapsed": false,
    "pycharm": {
     "name": "#%%\n"
    }
   }
  },
  {
   "cell_type": "markdown",
   "source": [
    "Wie erwartet sind die Werte in case_number und case_no ähnlich. Eine Addition der NaN Werte der Spalten case_number und case_no ergeben die Gesamtzahl der Fälle.\n",
    "Daher erstellen wir eine neue Spalte die keine fehlenden Werte beinhaltet."
   ],
   "metadata": {
    "collapsed": false
   }
  },
  {
   "cell_type": "code",
   "execution_count": 26,
   "outputs": [],
   "source": [
    "case_noindex = visas_df.columns.get_loc('case_no')\n",
    "case_noindexnumber = visas_df.columns.get_loc('case_number')\n",
    "casenumberlist = []\n",
    "\n",
    "\n",
    "for value in visas_df.iloc[0:135269,case_noindex]:\n",
    "    casenumberlist.append(value)\n",
    "\n",
    "for value in visas_df.iloc[135269:374362,case_noindexnumber]:\n",
    "    casenumberlist.append(value)\n",
    "\n",
    "visas_df['casenumber'] = casenumberlist\n",
    "visas_df.drop(visas_df.columns[[case_noindex,case_noindexnumber]], axis=1, inplace=True)"
   ],
   "metadata": {
    "collapsed": false,
    "pycharm": {
     "name": "#%%\n"
    }
   }
  },
  {
   "cell_type": "markdown",
   "source": [
    "Überprüfung der Spalte case_status, da sie Informationen über den jeweiligen Visumsangetrag gentroffene Entscheidung enthaelt"
   ],
   "metadata": {
    "collapsed": false
   }
  },
  {
   "cell_type": "code",
   "execution_count": 27,
   "outputs": [
    {
     "name": "stdout",
     "output_type": "stream",
     "text": [
      "181933  occurrences of status 'Certified'\n",
      "25649  occurrences of status 'Denied'\n",
      "148586  occurrences of status 'Certified-Expired'\n",
      "18194  occurrences of status 'Withdrawn'\n"
     ]
    }
   ],
   "source": [
    "for value in visas_df.case_status.unique():\n",
    "    print(len(visas_df[visas_df['case_status'] == value]),\" occurrences of status '{}'\".format(value))"
   ],
   "metadata": {
    "collapsed": false,
    "pycharm": {
     "name": "#%%\n"
    }
   }
  },
  {
   "cell_type": "markdown",
   "source": [
    "Datensatz enthält 18194 Fälle die zurückgezogen wurden 'withdrawn'. Da diese Fälle nicht relevant sind werden sie aus dem Datensatz gelöscht."
   ],
   "metadata": {
    "collapsed": false
   }
  },
  {
   "cell_type": "code",
   "execution_count": 28,
   "outputs": [],
   "source": [
    "visas_df= visas_df[visas_df.case_status != 'Withdrawn']\n"
   ],
   "metadata": {
    "collapsed": false,
    "pycharm": {
     "name": "#%%\n"
    }
   }
  },
  {
   "cell_type": "markdown",
   "source": [
    "Der Status 'certified' und der Status 'certified-expired' werden zu dem Wert 'certified' zusammengefasst, sodass es nur noch die Werte 'certified' und 'denied' hat.\n",
    "\n",
    "Antragssteller des Visas haben nach Erhalt des Status 'certified' 6 Monate Zeit, das Formular I-140 einzureichen, bevor es abläuft und in den Status 'certified-expired' erhält.\n",
    "\n",
    "Formular I-140 Quelle: Wikipedia\n",
    "Das Formular I-140, Immigrant Petition for Alien Worker (Einwanderungsantrag für ausländische Arbeitnehmer), ist ein Formular, das von einem potentiellen Arbeitgeber bei den United States Citizenship and Immigration Services (USCIS) eingereicht wird, um einen Ausländer zu ersuchen, dauerhaft in den USA zu arbeiten. Dies geschieht in dem Fall, dass der Arbeitnehmer in gewisser Weise als außergewöhnlich gilt oder wenn es in den USA keine qualifizierten Arbeitskräfte gibt.\n"
   ],
   "metadata": {
    "collapsed": false
   }
  },
  {
   "cell_type": "code",
   "execution_count": 29,
   "outputs": [
    {
     "data": {
      "text/plain": "Certified    330519\nDenied        25649\nName: case_status, dtype: int64"
     },
     "execution_count": 29,
     "metadata": {},
     "output_type": "execute_result"
    }
   ],
   "source": [
    "visas_df.loc[visas_df.case_status == 'Certified-Expired', 'case_status'] = 'Certified'\n",
    "visas_df.case_status.value_counts()\n"
   ],
   "metadata": {
    "collapsed": false,
    "pycharm": {
     "name": "#%%\n"
    }
   }
  },
  {
   "cell_type": "markdown",
   "source": [
    "25649 Visa Bewerbungen wurden abgelehnt (7,2%). Jetzt werden Zeilen und Spalten entfernt. NaN Werte in Zeilen und Spalten ausschließen."
   ],
   "metadata": {
    "collapsed": false,
    "pycharm": {
     "name": "#%% md\n"
    }
   }
  },
  {
   "cell_type": "code",
   "execution_count": 30,
   "outputs": [
    {
     "data": {
      "text/plain": "(356168, 5)"
     },
     "execution_count": 30,
     "metadata": {},
     "output_type": "execute_result"
    }
   ],
   "source": [
    "visas_df = visas_df.dropna(axis=1, how='all')\n",
    "visas_df = visas_df.dropna(axis=0, how='all');\n",
    "\n",
    "visas_df.shape"
   ],
   "metadata": {
    "collapsed": false,
    "pycharm": {
     "name": "#%%\n"
    }
   }
  },
  {
   "cell_type": "markdown",
   "source": [
    "Keine NaN Werte mehr. Welche Spalten haben noch fehlende Werte. Anzeigen lassen der fehlenden Werte"
   ],
   "metadata": {
    "collapsed": false,
    "pycharm": {
     "name": "#%% md\n"
    }
   }
  },
  {
   "cell_type": "code",
   "execution_count": 31,
   "outputs": [
    {
     "name": "stdout",
     "output_type": "stream",
     "text": [
      "Attribute 'case_received_date' contains  126848 missing values\n",
      "Attribute 'case_status' contains  0 missing values\n",
      "Attribute 'decision_date' contains  0 missing values\n",
      "Attribute 'employer_city' contains  10 missing values\n",
      "Attribute 'casenumber' contains  0 missing values\n"
     ]
    }
   ],
   "source": [
    "for column in visas_df.columns:\n",
    "    print(\"Attribute '{}' contains \".format(column),  visas_df[column].isnull().sum().sum(), \"missing values\")"
   ],
   "metadata": {
    "collapsed": false,
    "pycharm": {
     "name": "#%%\n"
    }
   }
  },
  {
   "cell_type": "markdown",
   "source": [
    "Einfügen der Spalte Antragsjahr. Dies soll dann in einem Balkendiagramm dargestellt werden um den Verlauf zu sehen. Fehlende Werte sollen spaeter entfernt werden."
   ],
   "metadata": {
    "collapsed": false,
    "pycharm": {
     "name": "#%% md\n"
    }
   }
  },
  {
   "cell_type": "code",
   "execution_count": 32,
   "outputs": [
    {
     "data": {
      "text/plain": "[Text(0, 0.5, 'Number of Visa applicatons'),\n Text(0.5, 0, 'Visa application year')]"
     },
     "execution_count": 32,
     "metadata": {},
     "output_type": "execute_result"
    },
    {
     "data": {
      "text/plain": "<Figure size 914.4x595.44 with 1 Axes>",
      "image/png": "[encoded data removed]"
     },
     "metadata": {
      "needs_background": "light"
     },
     "output_type": "display_data"
    }
   ],
   "source": [
    "visas_df['year'] = visas_df['decision_date'].dt.year\n",
    "\n",
    "fig, ax = plt.subplots()\n",
    "fig.set_size_inches(12.7, 8.27)\n",
    "sns.set_context(rc={\"font.size\":12})\n",
    "sns.countplot(x=\"year\", hue=\"case_status\", data=visas_df)\n",
    "ax.set(xlabel='Visa application year', ylabel='Number of Visa applicatons')"
   ],
   "metadata": {
    "collapsed": false,
    "pycharm": {
     "name": "#%%\n"
    }
   }
  },
  {
   "cell_type": "markdown",
   "source": [
    "Anzahl der Visa Applications nimmt jedes Jahr zu. Die Anzahl der abgelehnten Anträge scheint seit 2013 zu stagnieren, bzw. ging 2014 leicht zurück"
   ],
   "metadata": {
    "collapsed": false,
    "pycharm": {
     "name": "#%% md\n"
    }
   }
  },
  {
   "cell_type": "markdown",
   "source": [
    "In welchen Städten werden die meisten Visa Applications gestellt?"
   ],
   "metadata": {
    "collapsed": false,
    "pycharm": {
     "name": "#%% md\n"
    }
   }
  },
  {
   "cell_type": "code",
   "execution_count": 35,
   "outputs": [
    {
     "data": {
      "text/plain": "NEW YORK           17198\nCOLLEGE STATION    11985\nSANTA CLARA        10519\nSAN JOSE            9147\nREDMOND             8485\nMOUNTAIN VIEW       8121\nHOUSTON             6720\nSAN FRANCISCO       6352\nSUNNYVALE           6104\nPLANO               5607\nCHICAGO             5561\nSEATTLE             5051\nEDISON              4056\nLOS ANGELES         4045\nSAN DIEGO           3702\nDALLAS              3693\nPHILADELPHIA        3526\nCUPERTINO           3310\nPALO ALTO           3229\nIRVING              3144\nName: employer_city, dtype: int64"
     },
     "execution_count": 35,
     "metadata": {},
     "output_type": "execute_result"
    }
   ],
   "source": [
    "visas_df['employer_city'] = visas_df['employer_city'].str.upper()\n",
    "visas_df['employer_city'].value_counts().head(20)"
   ],
   "metadata": {
    "collapsed": false,
    "pycharm": {
     "name": "#%%\n"
    }
   }
  },
  {
   "cell_type": "markdown",
   "source": [
    "Die beliebtesten Staedte waren in den letzten Jahren New York, College Station, Santa Clara, San Jose und Radmond. Plotten, grafische Darstellung der Visa Applications"
   ],
   "metadata": {
    "collapsed": false,
    "pycharm": {
     "name": "#%% md\n"
    }
   }
  },
  {
   "cell_type": "code",
   "execution_count": 37,
   "outputs": [
    {
     "data": {
      "text/plain": "[Text(0, 0.5, 'Number of Visa applications'), Text(0.5, 0, 'Employer city')]"
     },
     "execution_count": 37,
     "metadata": {},
     "output_type": "execute_result"
    },
    {
     "data": {
      "text/plain": "<Figure size 986.4x595.44 with 1 Axes>",
      "image/png": "[encoded data removed]"
     },
     "metadata": {
      "needs_background": "light"
     },
     "output_type": "display_data"
    }
   ],
   "source": [
    "fig, ax = plt.subplots()\n",
    "fig.set_size_inches(13.7, 8.27)\n",
    "sns.set_context(\"paper\", rc={\"font.size\":12,\"axes.titlesize\":12,\"axes.labelsize\":12})\n",
    "sns.countplot(x='employer_city', hue='year', data=visas_df, order=visas_df.employer_city.value_counts().iloc[:20].index)\n",
    "plt.xticks(rotation=90)\n",
    "ax.set(xlabel='Employer city', ylabel='Number of Visa applications')\n",
    "\n",
    "\n",
    "\n"
   ],
   "metadata": {
    "collapsed": false,
    "pycharm": {
     "name": "#%%\n"
    }
   }
  },
  {
   "cell_type": "markdown",
   "source": [
    "College Station war im Jahr 2015 besonders beliebt (Begründung?). 2014 und 2016 war New York am beliebtesten. Allgemein ist ein ansteigender Trend der Visa Applications zu beobachten.\n"
   ],
   "metadata": {
    "collapsed": false,
    "pycharm": {
     "name": "#%% md\n"
    }
   }
  },
  {
   "cell_type": "code",
   "execution_count": null,
   "outputs": [],
   "source": [],
   "metadata": {
    "collapsed": false,
    "pycharm": {
     "name": "#%%\n"
    }
   }
  }
 ],
 "metadata": {
  "kernelspec": {
   "name": "python3",
   "language": "python",
   "display_name": "Python 3"
  },
  "language_info": {
   "codemirror_mode": {
    "name": "ipython",
    "version": 2
   },
   "file_extension": ".py",
   "mimetype": "text/x-python",
   "name": "python",
   "nbconvert_exporter": "python",
   "pygments_lexer": "ipython2",
   "version": "2.7.6"
  }
 },
 "nbformat": 4,
 "nbformat_minor": 0
}