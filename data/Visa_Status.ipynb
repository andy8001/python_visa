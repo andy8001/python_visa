{
 "cells": [
  {
   "cell_type": "markdown",
   "metadata": {
    "collapsed": true,
    "pycharm": {
     "name": "#%% md\n"
    }
   },
   "source": [
    "Importe"
   ]
  },
  {
   "cell_type": "code",
   "execution_count": 1,
   "outputs": [],
   "source": [
    "import pandas as pd\n",
    "import numpy as np\n",
    "import matplotlib.pyplot as plt\n",
    "import seaborn as sns\n",
    "\n",
    "%matplotlib inline"
   ],
   "metadata": {
    "collapsed": false,
    "pycharm": {
     "name": "#%%\n"
    }
   }
  },
  {
   "cell_type": "markdown",
   "source": [
    "Welche Daten sind verfügbar und Laden des Datensatzes"
   ],
   "metadata": {
    "collapsed": false,
    "pycharm": {
     "name": "#%% md\n"
    }
   }
  },
  {
   "cell_type": "code",
   "execution_count": 2,
   "outputs": [
    {
     "name": "stderr",
     "output_type": "stream",
     "text": [
      "C:\\Users\\lassu\\anaconda3\\lib\\site-packages\\IPython\\core\\interactiveshell.py:3071: DtypeWarning: Columns (5,6,7) have mixed types.Specify dtype option on import or set low_memory=False.\n",
      "  has_raised = await self.run_ast_nodes(code_ast.body, cell_name,\n"
     ]
    },
    {
     "data": {
      "text/plain": "         case_no case_number case_received_date case_status decision_date\n0  A-07323-97014         NaN                NaN   Certified    2012-02-01\n1  A-07332-99439         NaN                NaN      Denied    2011-12-21\n2  A-07333-99643         NaN                NaN   Certified    2011-12-01\n3  A-07339-01930         NaN                NaN   Certified    2011-12-01\n4  A-07345-03565         NaN                NaN   Certified    2012-01-26",
      "text/html": "<div>\n<style scoped>\n    .dataframe tbody tr th:only-of-type {\n        vertical-align: middle;\n    }\n\n    .dataframe tbody tr th {\n        vertical-align: top;\n    }\n\n    .dataframe thead th {\n        text-align: right;\n    }\n</style>\n<table border=\"1\" class=\"dataframe\">\n  <thead>\n    <tr style=\"text-align: right;\">\n      <th></th>\n      <th>case_no</th>\n      <th>case_number</th>\n      <th>case_received_date</th>\n      <th>case_status</th>\n      <th>decision_date</th>\n    </tr>\n  </thead>\n  <tbody>\n    <tr>\n      <th>0</th>\n      <td>A-07323-97014</td>\n      <td>NaN</td>\n      <td>NaN</td>\n      <td>Certified</td>\n      <td>2012-02-01</td>\n    </tr>\n    <tr>\n      <th>1</th>\n      <td>A-07332-99439</td>\n      <td>NaN</td>\n      <td>NaN</td>\n      <td>Denied</td>\n      <td>2011-12-21</td>\n    </tr>\n    <tr>\n      <th>2</th>\n      <td>A-07333-99643</td>\n      <td>NaN</td>\n      <td>NaN</td>\n      <td>Certified</td>\n      <td>2011-12-01</td>\n    </tr>\n    <tr>\n      <th>3</th>\n      <td>A-07339-01930</td>\n      <td>NaN</td>\n      <td>NaN</td>\n      <td>Certified</td>\n      <td>2011-12-01</td>\n    </tr>\n    <tr>\n      <th>4</th>\n      <td>A-07345-03565</td>\n      <td>NaN</td>\n      <td>NaN</td>\n      <td>Certified</td>\n      <td>2012-01-26</td>\n    </tr>\n  </tbody>\n</table>\n</div>"
     },
     "execution_count": 2,
     "metadata": {},
     "output_type": "execute_result"
    }
   ],
   "source": [
    "col_list= [\"case_status\",\"case_number\",\"case_no\", \"decision_date\", \"case_received_date\"]\n",
    "visas_df = pd.read_csv(\"us_perm_visas.csv\", usecols=col_list)\n",
    "visas_df.head ()"
   ],
   "metadata": {
    "collapsed": false,
    "pycharm": {
     "name": "#%%\n"
    }
   }
  },
  {
   "cell_type": "markdown",
   "source": [
    "Untersuchung der vorliegenden Daten im Datensatz\n"
   ],
   "metadata": {
    "collapsed": false,
    "pycharm": {
     "name": "#%% md\n"
    }
   }
  },
  {
   "cell_type": "code",
   "execution_count": 3,
   "outputs": [],
   "source": [
    "# df = pd.read_csv('us_perm_visas.csv', low_memory = False, parse_dates=['decision_date', 'case_received_date'])\n",
    "visas_df [\"decision_date\"]=pd.to_datetime(visas_df[\"decision_date\"])\n",
    "visas_df [\"case_received_date\"]=pd.to_datetime(visas_df[\"case_received_date\"])"
   ],
   "metadata": {
    "collapsed": false,
    "pycharm": {
     "name": "#%%\n"
    }
   }
  },
  {
   "cell_type": "markdown",
   "source": [
    "Überprüfung der Anzahl der Visa Bewerbungen bzw. Fälle (Zeilen und Spalten)\n"
   ],
   "metadata": {
    "collapsed": false,
    "pycharm": {
     "name": "#%% md\n"
    }
   }
  },
  {
   "cell_type": "code",
   "execution_count": 4,
   "outputs": [
    {
     "name": "stdout",
     "output_type": "stream",
     "text": [
      "Number of Visa Applications: 374362\n",
      "Number of Columns: 5\n"
     ]
    }
   ],
   "source": [
    "print('Number of Visa Applications:', len(visas_df))\n",
    "print('Number of Columns:', len(visas_df.columns))"
   ],
   "metadata": {
    "collapsed": false,
    "pycharm": {
     "name": "#%%\n"
    }
   }
  },
  {
   "cell_type": "markdown",
   "source": [
    "Ersten fünf Zeilen anzeigen lassen zum checken"
   ],
   "metadata": {
    "collapsed": false,
    "pycharm": {
     "name": "#%% md\n"
    }
   }
  },
  {
   "cell_type": "code",
   "execution_count": 5,
   "outputs": [
    {
     "data": {
      "text/plain": "         case_no case_number case_received_date case_status decision_date\n0  A-07323-97014         NaN                NaT   Certified    2012-02-01\n1  A-07332-99439         NaN                NaT      Denied    2011-12-21\n2  A-07333-99643         NaN                NaT   Certified    2011-12-01\n3  A-07339-01930         NaN                NaT   Certified    2011-12-01\n4  A-07345-03565         NaN                NaT   Certified    2012-01-26",
      "text/html": "<div>\n<style scoped>\n    .dataframe tbody tr th:only-of-type {\n        vertical-align: middle;\n    }\n\n    .dataframe tbody tr th {\n        vertical-align: top;\n    }\n\n    .dataframe thead th {\n        text-align: right;\n    }\n</style>\n<table border=\"1\" class=\"dataframe\">\n  <thead>\n    <tr style=\"text-align: right;\">\n      <th></th>\n      <th>case_no</th>\n      <th>case_number</th>\n      <th>case_received_date</th>\n      <th>case_status</th>\n      <th>decision_date</th>\n    </tr>\n  </thead>\n  <tbody>\n    <tr>\n      <th>0</th>\n      <td>A-07323-97014</td>\n      <td>NaN</td>\n      <td>NaT</td>\n      <td>Certified</td>\n      <td>2012-02-01</td>\n    </tr>\n    <tr>\n      <th>1</th>\n      <td>A-07332-99439</td>\n      <td>NaN</td>\n      <td>NaT</td>\n      <td>Denied</td>\n      <td>2011-12-21</td>\n    </tr>\n    <tr>\n      <th>2</th>\n      <td>A-07333-99643</td>\n      <td>NaN</td>\n      <td>NaT</td>\n      <td>Certified</td>\n      <td>2011-12-01</td>\n    </tr>\n    <tr>\n      <th>3</th>\n      <td>A-07339-01930</td>\n      <td>NaN</td>\n      <td>NaT</td>\n      <td>Certified</td>\n      <td>2011-12-01</td>\n    </tr>\n    <tr>\n      <th>4</th>\n      <td>A-07345-03565</td>\n      <td>NaN</td>\n      <td>NaT</td>\n      <td>Certified</td>\n      <td>2012-01-26</td>\n    </tr>\n  </tbody>\n</table>\n</div>"
     },
     "execution_count": 5,
     "metadata": {},
     "output_type": "execute_result"
    }
   ],
   "source": [
    "visas_df.head()"
   ],
   "metadata": {
    "collapsed": false,
    "pycharm": {
     "name": "#%%\n"
    }
   }
  },
  {
   "cell_type": "markdown",
   "source": [
    "Letze fünf Zeilen anzeigen lassen zum checken"
   ],
   "metadata": {
    "collapsed": false,
    "pycharm": {
     "name": "#%% md\n"
    }
   }
  },
  {
   "cell_type": "code",
   "execution_count": 6,
   "outputs": [
    {
     "data": {
      "text/plain": "       case_no    case_number case_received_date case_status decision_date\n374357     NaN  A-16363-85407         2016-12-29   Withdrawn    2016-12-30\n374358     NaN  A-16271-56745         2016-12-30   Withdrawn    2016-12-30\n374359     NaN  A-16354-82345         2016-12-30   Withdrawn    2016-12-30\n374360     NaN  A-16357-84250         2016-12-30   Withdrawn    2016-12-30\n374361     NaN  A-16279-59292         2016-12-30   Withdrawn    2016-12-30",
      "text/html": "<div>\n<style scoped>\n    .dataframe tbody tr th:only-of-type {\n        vertical-align: middle;\n    }\n\n    .dataframe tbody tr th {\n        vertical-align: top;\n    }\n\n    .dataframe thead th {\n        text-align: right;\n    }\n</style>\n<table border=\"1\" class=\"dataframe\">\n  <thead>\n    <tr style=\"text-align: right;\">\n      <th></th>\n      <th>case_no</th>\n      <th>case_number</th>\n      <th>case_received_date</th>\n      <th>case_status</th>\n      <th>decision_date</th>\n    </tr>\n  </thead>\n  <tbody>\n    <tr>\n      <th>374357</th>\n      <td>NaN</td>\n      <td>A-16363-85407</td>\n      <td>2016-12-29</td>\n      <td>Withdrawn</td>\n      <td>2016-12-30</td>\n    </tr>\n    <tr>\n      <th>374358</th>\n      <td>NaN</td>\n      <td>A-16271-56745</td>\n      <td>2016-12-30</td>\n      <td>Withdrawn</td>\n      <td>2016-12-30</td>\n    </tr>\n    <tr>\n      <th>374359</th>\n      <td>NaN</td>\n      <td>A-16354-82345</td>\n      <td>2016-12-30</td>\n      <td>Withdrawn</td>\n      <td>2016-12-30</td>\n    </tr>\n    <tr>\n      <th>374360</th>\n      <td>NaN</td>\n      <td>A-16357-84250</td>\n      <td>2016-12-30</td>\n      <td>Withdrawn</td>\n      <td>2016-12-30</td>\n    </tr>\n    <tr>\n      <th>374361</th>\n      <td>NaN</td>\n      <td>A-16279-59292</td>\n      <td>2016-12-30</td>\n      <td>Withdrawn</td>\n      <td>2016-12-30</td>\n    </tr>\n  </tbody>\n</table>\n</div>"
     },
     "execution_count": 6,
     "metadata": {},
     "output_type": "execute_result"
    }
   ],
   "source": [
    "visas_df.tail()"
   ],
   "metadata": {
    "collapsed": false,
    "pycharm": {
     "name": "#%%\n"
    }
   }
  },
  {
   "cell_type": "markdown",
   "source": [
    "Namen der Spalten anzeigen lassen\n",
    "\n"
   ],
   "metadata": {
    "collapsed": false,
    "pycharm": {
     "name": "#%% md\n"
    }
   }
  },
  {
   "cell_type": "code",
   "execution_count": 7,
   "outputs": [
    {
     "name": "stdout",
     "output_type": "stream",
     "text": [
      "['case_no' 'case_number' 'case_received_date' 'case_status'\n",
      " 'decision_date']\n"
     ]
    }
   ],
   "source": [
    "print(visas_df.columns.values)"
   ],
   "metadata": {
    "collapsed": false,
    "pycharm": {
     "name": "#%%\n"
    }
   }
  },
  {
   "cell_type": "markdown",
   "source": [
    "Die Werte case_number und case_no könnten ähnliche Informationen beinhalten. Daher überprüfen wir  Länge, Anzahl der fehlenden Werte und Beispielwerte"
   ],
   "metadata": {
    "collapsed": false,
    "pycharm": {
     "name": "#%% md\n"
    }
   }
  },
  {
   "cell_type": "code",
   "execution_count": 8,
   "outputs": [
    {
     "name": "stdout",
     "output_type": "stream",
     "text": [
      "Length of 'case_number' column is:  374362  with 135269 missing values\n",
      "Length of 'case_no' column is:  374362  with 239093 missing values \n",
      "\n",
      "First 2 values of case_number column are : \n",
      " 0    NaN\n",
      "1    NaN\n",
      "Name: case_number, dtype: object \n",
      "\n",
      "Last 2 values of case_number column are : \n",
      " 374360    A-16357-84250\n",
      "374361    A-16279-59292\n",
      "Name: case_number, dtype: object \n",
      "\n",
      "First 2 values of case_no column are : \n",
      " 0    A-07323-97014\n",
      "1    A-07332-99439\n",
      "Name: case_no, dtype: object \n",
      "\n",
      "Last 2 values of case_no column are : \n",
      " 374360    NaN\n",
      "374361    NaN\n",
      "Name: case_no, dtype: object\n"
     ]
    }
   ],
   "source": [
    "print(\"Length of 'case_number' column is: \", len(visas_df['case_number']),\" with\",visas_df.case_number.isnull().sum(), \"missing values\")\n",
    "print(\"Length of 'case_no' column is: \", len(visas_df['case_no']),\" with\", visas_df.case_no.isnull().sum(),\"missing values \\n\")\n",
    "\n",
    "print(\"First 2 values of case_number column are : \\n\", visas_df['case_number'].head(2),\"\\n\")\n",
    "\n",
    "print(\"Last 2 values of case_number column are : \\n\", visas_df['case_number'].tail(2), \"\\n\")\n",
    "print(\"First 2 values of case_no column are : \\n\", visas_df['case_no'].head(2), \"\\n\")\n",
    "print(\"Last 2 values of case_no column are : \\n\", visas_df['case_no'].tail(2))"
   ],
   "metadata": {
    "collapsed": false,
    "pycharm": {
     "name": "#%%\n"
    }
   }
  },
  {
   "cell_type": "markdown",
   "source": [
    "Wie erwartet sind die Werte in case_number und case_no ähnlich. Eine Addition der NaN Werte der Spalten case_number und case_no ergeben die Gesamtzahl der Fälle.\n",
    "Daher erstellen wir eine neue Spalte die keine fehlenden Werte beinhaltet."
   ],
   "metadata": {
    "collapsed": false,
    "pycharm": {
     "name": "#%% md\n"
    }
   }
  },
  {
   "cell_type": "code",
   "execution_count": 9,
   "outputs": [
    {
     "ename": "AttributeError",
     "evalue": "'Index' object has no attribute 'loc'",
     "output_type": "error",
     "traceback": [
      "\u001B[1;31m---------------------------------------------------------------------------\u001B[0m",
      "\u001B[1;31mAttributeError\u001B[0m                            Traceback (most recent call last)",
      "\u001B[1;32m<ipython-input-9-17594ae10b20>\u001B[0m in \u001B[0;36m<module>\u001B[1;34m\u001B[0m\n\u001B[1;32m----> 1\u001B[1;33m \u001B[0mcase_noindex\u001B[0m \u001B[1;33m=\u001B[0m \u001B[0mvisas_df\u001B[0m\u001B[1;33m.\u001B[0m\u001B[0mcolumns\u001B[0m\u001B[1;33m.\u001B[0m\u001B[0mloc\u001B[0m\u001B[1;33m(\u001B[0m\u001B[1;34m'case_no'\u001B[0m\u001B[1;33m)\u001B[0m\u001B[1;33m\u001B[0m\u001B[1;33m\u001B[0m\u001B[0m\n\u001B[0m\u001B[0;32m      2\u001B[0m \u001B[0mcase_noindexnumber\u001B[0m \u001B[1;33m=\u001B[0m \u001B[0mvisas_df\u001B[0m\u001B[1;33m.\u001B[0m\u001B[0mcolumns\u001B[0m\u001B[1;33m.\u001B[0m\u001B[0mloc\u001B[0m\u001B[1;33m(\u001B[0m\u001B[1;34m'case_number'\u001B[0m\u001B[1;33m)\u001B[0m\u001B[1;33m\u001B[0m\u001B[1;33m\u001B[0m\u001B[0m\n\u001B[0;32m      3\u001B[0m \u001B[0mcasenumberlist\u001B[0m \u001B[1;33m=\u001B[0m \u001B[1;33m[\u001B[0m\u001B[1;33m]\u001B[0m\u001B[1;33m\u001B[0m\u001B[1;33m\u001B[0m\u001B[0m\n\u001B[0;32m      4\u001B[0m \u001B[1;33m\u001B[0m\u001B[0m\n\u001B[0;32m      5\u001B[0m \u001B[1;33m\u001B[0m\u001B[0m\n",
      "\u001B[1;31mAttributeError\u001B[0m: 'Index' object has no attribute 'loc'"
     ]
    }
   ],
   "source": [
    "case_noindex = visas_df.columns.loc('case_no')\n",
    "case_noindexnumber = visas_df.columns.loc('case_number')\n",
    "casenumberlist = []\n",
    "\n",
    "\n",
    "for value in visas_df.iloc[0:135269,case_noindex]:\n",
    "    casenumberlist.append(value)\n",
    "\n",
    "for value in visas_df.iloc[135269:374362,case_noindexnumber]:\n",
    "    casenumberlist.append(value)\n",
    "\n",
    "visas_df['casenumber'] = casenumberlist\n",
    "visas_df.drop(visas_df.columns[[case_noindex,case_noindexnumber]], axis=1, inplace=True)"
   ],
   "metadata": {
    "collapsed": false,
    "pycharm": {
     "name": "#%%\n"
    }
   }
  },
  {
   "cell_type": "markdown",
   "source": [
    "Überprüfung der Spalte case_status, da sie Informationen über den jeweiligen Visumsangetrag gentroffene Entscheidung enthaelt"
   ],
   "metadata": {
    "collapsed": false,
    "pycharm": {
     "name": "#%% md\n"
    }
   }
  },
  {
   "cell_type": "code",
   "execution_count": null,
   "outputs": [],
   "source": [
    "for value in visas_df.case_status.unique():\n",
    "    print(len(visas_df[visas_df['case_status'] == value]),\" occurrences of status '{}'\".format(value))"
   ],
   "metadata": {
    "collapsed": false,
    "pycharm": {
     "name": "#%%\n"
    }
   }
  },
  {
   "cell_type": "markdown",
   "source": [
    "Datensatz enthält 18194 Fälle die zurückgezogen wurden 'withdrawn'. Da diese Fälle nicht relevant sind werden sie aus dem Datensatz gelöscht."
   ],
   "metadata": {
    "collapsed": false,
    "pycharm": {
     "name": "#%% md\n"
    }
   }
  },
  {
   "cell_type": "code",
   "execution_count": null,
   "outputs": [],
   "source": [
    "visas_df= visas_df[visas_df.case_status != 'Withdrawn']\n"
   ],
   "metadata": {
    "collapsed": false,
    "pycharm": {
     "name": "#%%\n"
    }
   }
  },
  {
   "cell_type": "markdown",
   "source": [
    "Der Status 'certified' und der Status 'certified-expired' werden zu dem Wert 'certified' zusammengefasst, sodass es nur noch die Werte 'certified' und 'denied' hat.\n",
    "\n",
    "Antragssteller des Visas haben nach Erhalt des Status 'certified' 6 Monate Zeit, das Formular I-140 einzureichen, bevor es abläuft und in den Status 'certified-expired' erhält.\n",
    "\n",
    "Formular I-140 Quelle: Wikipedia\n",
    "Das Formular I-140, Immigrant Petition for Alien Worker (Einwanderungsantrag für ausländische Arbeitnehmer), ist ein Formular, das von einem potentiellen Arbeitgeber bei den United States Citizenship and Immigration Services (USCIS) eingereicht wird, um einen Ausländer zu ersuchen, dauerhaft in den USA zu arbeiten. Dies geschieht in dem Fall, dass der Arbeitnehmer in gewisser Weise als außergewöhnlich gilt oder wenn es in den USA keine qualifizierten Arbeitskräfte gibt.\n"
   ],
   "metadata": {
    "collapsed": false,
    "pycharm": {
     "name": "#%% md\n"
    }
   }
  },
  {
   "cell_type": "code",
   "execution_count": null,
   "outputs": [],
   "source": [
    "visas_df.loc[visas_df.case_status == 'Certified-Expired', 'case_status'] = 'Certified'\n",
    "visas_df.case_status.value_counts()\n",
    "\n"
   ],
   "metadata": {
    "collapsed": false,
    "pycharm": {
     "name": "#%%\n"
    }
   }
  }
 ],
 "metadata": {
  "kernelspec": {
   "name": "python3",
   "language": "python",
   "display_name": "Python 3"
  },
  "language_info": {
   "codemirror_mode": {
    "name": "ipython",
    "version": 2
   },
   "file_extension": ".py",
   "mimetype": "text/x-python",
   "name": "python",
   "nbconvert_exporter": "python",
   "pygments_lexer": "ipython2",
   "version": "2.7.6"
  }
 },
 "nbformat": 4,
 "nbformat_minor": 0
}