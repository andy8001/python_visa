{
 "cells": [
  {
   "cell_type": "markdown",
   "source": [
    "Importe"
   ],
   "metadata": {
    "collapsed": false
   }
  },
  {
   "cell_type": "code",
   "execution_count": 20,
   "outputs": [],
   "source": [
    "import pandas as pd\n",
    "import numpy as np\n",
    "import matplotlib.pyplot as plt\n",
    "import itertools\n",
    "import seaborn as sns\n",
    "import modules\n",
    "\n",
    "import more_itertools"
   ],
   "metadata": {
    "collapsed": false,
    "pycharm": {
     "name": "#%%\n"
    }
   }
  },
  {
   "cell_type": "markdown",
   "source": [
    "Lesen der Daten\n"
   ],
   "metadata": {
    "collapsed": false,
    "pycharm": {
     "name": "#%% md\n"
    }
   }
  },
  {
   "cell_type": "markdown",
   "source": [
    "Welche Daten sind verfügbar und Laden des Datensatzes"
   ],
   "metadata": {
    "collapsed": false,
    "pycharm": {
     "name": "#%% md\n"
    }
   }
  },
  {
   "cell_type": "code",
   "execution_count": 21,
   "outputs": [
    {
     "name": "stderr",
     "output_type": "stream",
     "text": [
      "C:\\Users\\lassu\\anaconda3\\lib\\site-packages\\IPython\\core\\interactiveshell.py:3071: DtypeWarning: Columns (4,5,6,7) have mixed types.Specify dtype option on import or set low_memory=False.\n",
      "  has_raised = await self.run_ast_nodes(code_ast.body, cell_name,\n"
     ]
    },
    {
     "data": {
      "text/plain": "  application_type        case_no case_number case_received_date case_status  \\\n0             PERM  A-07323-97014         NaN                NaN   Certified   \n1             PERM  A-07332-99439         NaN                NaN      Denied   \n2             PERM  A-07333-99643         NaN                NaN   Certified   \n3             PERM  A-07339-01930         NaN                NaN   Certified   \n4             PERM  A-07345-03565         NaN                NaN   Certified   \n\n  class_of_admission decision_date  \n0                J-1    2012-02-01  \n1                B-2    2011-12-21  \n2               H-1B    2011-12-01  \n3                B-2    2011-12-01  \n4                L-1    2012-01-26  ",
      "text/html": "<div>\n<style scoped>\n    .dataframe tbody tr th:only-of-type {\n        vertical-align: middle;\n    }\n\n    .dataframe tbody tr th {\n        vertical-align: top;\n    }\n\n    .dataframe thead th {\n        text-align: right;\n    }\n</style>\n<table border=\"1\" class=\"dataframe\">\n  <thead>\n    <tr style=\"text-align: right;\">\n      <th></th>\n      <th>application_type</th>\n      <th>case_no</th>\n      <th>case_number</th>\n      <th>case_received_date</th>\n      <th>case_status</th>\n      <th>class_of_admission</th>\n      <th>decision_date</th>\n    </tr>\n  </thead>\n  <tbody>\n    <tr>\n      <th>0</th>\n      <td>PERM</td>\n      <td>A-07323-97014</td>\n      <td>NaN</td>\n      <td>NaN</td>\n      <td>Certified</td>\n      <td>J-1</td>\n      <td>2012-02-01</td>\n    </tr>\n    <tr>\n      <th>1</th>\n      <td>PERM</td>\n      <td>A-07332-99439</td>\n      <td>NaN</td>\n      <td>NaN</td>\n      <td>Denied</td>\n      <td>B-2</td>\n      <td>2011-12-21</td>\n    </tr>\n    <tr>\n      <th>2</th>\n      <td>PERM</td>\n      <td>A-07333-99643</td>\n      <td>NaN</td>\n      <td>NaN</td>\n      <td>Certified</td>\n      <td>H-1B</td>\n      <td>2011-12-01</td>\n    </tr>\n    <tr>\n      <th>3</th>\n      <td>PERM</td>\n      <td>A-07339-01930</td>\n      <td>NaN</td>\n      <td>NaN</td>\n      <td>Certified</td>\n      <td>B-2</td>\n      <td>2011-12-01</td>\n    </tr>\n    <tr>\n      <th>4</th>\n      <td>PERM</td>\n      <td>A-07345-03565</td>\n      <td>NaN</td>\n      <td>NaN</td>\n      <td>Certified</td>\n      <td>L-1</td>\n      <td>2012-01-26</td>\n    </tr>\n  </tbody>\n</table>\n</div>"
     },
     "execution_count": 21,
     "metadata": {},
     "output_type": "execute_result"
    }
   ],
   "source": [
    "col_list= [\"case_status\",\"case_number\",\"case_no\", \"decision_date\", \"case_received_date\",\"application_type\", \"class_of_admission\"]\n",
    "visas_df = pd.read_csv(\"us_perm_visas.csv\", usecols=col_list)\n",
    "visas_df.head ()"
   ],
   "metadata": {
    "collapsed": false,
    "pycharm": {
     "name": "#%%\n"
    }
   }
  },
  {
   "cell_type": "markdown",
   "source": [
    "Untersuchung der vorliegenden Daten im Datensatz\n"
   ],
   "metadata": {
    "collapsed": false,
    "pycharm": {
     "name": "#%% md\n"
    }
   }
  },
  {
   "cell_type": "code",
   "execution_count": 22,
   "outputs": [],
   "source": [
    "# df = pd.read_csv('us_perm_visas.csv', low_memory = False, parse_dates=['decision_date', 'case_received_date'])\n",
    "visas_df [\"decision_date\"]=pd.to_datetime(visas_df[\"decision_date\"])\n",
    "visas_df [\"case_received_date\"]=pd.to_datetime(visas_df[\"case_received_date\"])"
   ],
   "metadata": {
    "collapsed": false,
    "pycharm": {
     "name": "#%%\n"
    }
   }
  },
  {
   "cell_type": "markdown",
   "source": [
    "Überprüfung der Anzahl der Visa Bewerbungen bzw. Fälle (Zeilen und Spalten)\n"
   ],
   "metadata": {
    "collapsed": false
   }
  },
  {
   "cell_type": "code",
   "execution_count": 23,
   "outputs": [
    {
     "name": "stdout",
     "output_type": "stream",
     "text": [
      "Number of Visa Applications: 374362\n",
      "Number of Columns: 7\n"
     ]
    }
   ],
   "source": [
    "print('Number of Visa Applications:', len(visas_df))\n",
    "print('Number of Columns:', len(visas_df.columns))"
   ],
   "metadata": {
    "collapsed": false,
    "pycharm": {
     "name": "#%%\n"
    }
   }
  },
  {
   "cell_type": "markdown",
   "source": [
    "Ersten fünf Zeilen anzeigen lassen zum checken"
   ],
   "metadata": {
    "collapsed": false
   }
  },
  {
   "cell_type": "code",
   "execution_count": 24,
   "outputs": [
    {
     "data": {
      "text/plain": "  application_type        case_no case_number case_received_date case_status  \\\n0             PERM  A-07323-97014         NaN                NaT   Certified   \n1             PERM  A-07332-99439         NaN                NaT      Denied   \n2             PERM  A-07333-99643         NaN                NaT   Certified   \n3             PERM  A-07339-01930         NaN                NaT   Certified   \n4             PERM  A-07345-03565         NaN                NaT   Certified   \n\n  class_of_admission decision_date  \n0                J-1    2012-02-01  \n1                B-2    2011-12-21  \n2               H-1B    2011-12-01  \n3                B-2    2011-12-01  \n4                L-1    2012-01-26  ",
      "text/html": "<div>\n<style scoped>\n    .dataframe tbody tr th:only-of-type {\n        vertical-align: middle;\n    }\n\n    .dataframe tbody tr th {\n        vertical-align: top;\n    }\n\n    .dataframe thead th {\n        text-align: right;\n    }\n</style>\n<table border=\"1\" class=\"dataframe\">\n  <thead>\n    <tr style=\"text-align: right;\">\n      <th></th>\n      <th>application_type</th>\n      <th>case_no</th>\n      <th>case_number</th>\n      <th>case_received_date</th>\n      <th>case_status</th>\n      <th>class_of_admission</th>\n      <th>decision_date</th>\n    </tr>\n  </thead>\n  <tbody>\n    <tr>\n      <th>0</th>\n      <td>PERM</td>\n      <td>A-07323-97014</td>\n      <td>NaN</td>\n      <td>NaT</td>\n      <td>Certified</td>\n      <td>J-1</td>\n      <td>2012-02-01</td>\n    </tr>\n    <tr>\n      <th>1</th>\n      <td>PERM</td>\n      <td>A-07332-99439</td>\n      <td>NaN</td>\n      <td>NaT</td>\n      <td>Denied</td>\n      <td>B-2</td>\n      <td>2011-12-21</td>\n    </tr>\n    <tr>\n      <th>2</th>\n      <td>PERM</td>\n      <td>A-07333-99643</td>\n      <td>NaN</td>\n      <td>NaT</td>\n      <td>Certified</td>\n      <td>H-1B</td>\n      <td>2011-12-01</td>\n    </tr>\n    <tr>\n      <th>3</th>\n      <td>PERM</td>\n      <td>A-07339-01930</td>\n      <td>NaN</td>\n      <td>NaT</td>\n      <td>Certified</td>\n      <td>B-2</td>\n      <td>2011-12-01</td>\n    </tr>\n    <tr>\n      <th>4</th>\n      <td>PERM</td>\n      <td>A-07345-03565</td>\n      <td>NaN</td>\n      <td>NaT</td>\n      <td>Certified</td>\n      <td>L-1</td>\n      <td>2012-01-26</td>\n    </tr>\n  </tbody>\n</table>\n</div>"
     },
     "execution_count": 24,
     "metadata": {},
     "output_type": "execute_result"
    }
   ],
   "source": [
    "visas_df.head()"
   ],
   "metadata": {
    "collapsed": false,
    "pycharm": {
     "name": "#%%\n"
    }
   }
  },
  {
   "cell_type": "markdown",
   "source": [
    "Letze fünf Zeilen anzeigen lassen zum checken"
   ],
   "metadata": {
    "collapsed": false
   }
  },
  {
   "cell_type": "code",
   "execution_count": 25,
   "outputs": [
    {
     "data": {
      "text/plain": "       application_type case_no    case_number case_received_date case_status  \\\n374357              NaN     NaN  A-16363-85407         2016-12-29   Withdrawn   \n374358              NaN     NaN  A-16271-56745         2016-12-30   Withdrawn   \n374359              NaN     NaN  A-16354-82345         2016-12-30   Withdrawn   \n374360              NaN     NaN  A-16357-84250         2016-12-30   Withdrawn   \n374361              NaN     NaN  A-16279-59292         2016-12-30   Withdrawn   \n\n       class_of_admission decision_date  \n374357                NaN    2016-12-30  \n374358                L-1    2016-12-30  \n374359               H-1B    2016-12-30  \n374360                B-2    2016-12-30  \n374361               H-1B    2016-12-30  ",
      "text/html": "<div>\n<style scoped>\n    .dataframe tbody tr th:only-of-type {\n        vertical-align: middle;\n    }\n\n    .dataframe tbody tr th {\n        vertical-align: top;\n    }\n\n    .dataframe thead th {\n        text-align: right;\n    }\n</style>\n<table border=\"1\" class=\"dataframe\">\n  <thead>\n    <tr style=\"text-align: right;\">\n      <th></th>\n      <th>application_type</th>\n      <th>case_no</th>\n      <th>case_number</th>\n      <th>case_received_date</th>\n      <th>case_status</th>\n      <th>class_of_admission</th>\n      <th>decision_date</th>\n    </tr>\n  </thead>\n  <tbody>\n    <tr>\n      <th>374357</th>\n      <td>NaN</td>\n      <td>NaN</td>\n      <td>A-16363-85407</td>\n      <td>2016-12-29</td>\n      <td>Withdrawn</td>\n      <td>NaN</td>\n      <td>2016-12-30</td>\n    </tr>\n    <tr>\n      <th>374358</th>\n      <td>NaN</td>\n      <td>NaN</td>\n      <td>A-16271-56745</td>\n      <td>2016-12-30</td>\n      <td>Withdrawn</td>\n      <td>L-1</td>\n      <td>2016-12-30</td>\n    </tr>\n    <tr>\n      <th>374359</th>\n      <td>NaN</td>\n      <td>NaN</td>\n      <td>A-16354-82345</td>\n      <td>2016-12-30</td>\n      <td>Withdrawn</td>\n      <td>H-1B</td>\n      <td>2016-12-30</td>\n    </tr>\n    <tr>\n      <th>374360</th>\n      <td>NaN</td>\n      <td>NaN</td>\n      <td>A-16357-84250</td>\n      <td>2016-12-30</td>\n      <td>Withdrawn</td>\n      <td>B-2</td>\n      <td>2016-12-30</td>\n    </tr>\n    <tr>\n      <th>374361</th>\n      <td>NaN</td>\n      <td>NaN</td>\n      <td>A-16279-59292</td>\n      <td>2016-12-30</td>\n      <td>Withdrawn</td>\n      <td>H-1B</td>\n      <td>2016-12-30</td>\n    </tr>\n  </tbody>\n</table>\n</div>"
     },
     "execution_count": 25,
     "metadata": {},
     "output_type": "execute_result"
    }
   ],
   "source": [
    "visas_df.tail()"
   ],
   "metadata": {
    "collapsed": false,
    "pycharm": {
     "name": "#%%\n"
    }
   }
  },
  {
   "cell_type": "markdown",
   "source": [
    "Namen der Spalten anzeigen lassen\n"
   ],
   "metadata": {
    "collapsed": false
   }
  },
  {
   "cell_type": "code",
   "execution_count": 26,
   "outputs": [
    {
     "name": "stdout",
     "output_type": "stream",
     "text": [
      "['application_type' 'case_no' 'case_number' 'case_received_date'\n",
      " 'case_status' 'class_of_admission' 'decision_date']\n"
     ]
    }
   ],
   "source": [
    "print(visas_df.columns.values)"
   ],
   "metadata": {
    "collapsed": false,
    "pycharm": {
     "name": "#%%\n"
    }
   }
  },
  {
   "cell_type": "markdown",
   "source": [
    "Die Werte case_number und case_no könnten ähnliche Informationen beinhalten. Daher überprüfen wir  Länge, Anzahl der fehlenden Werte und Beispielwerte"
   ],
   "metadata": {
    "collapsed": false
   }
  },
  {
   "cell_type": "code",
   "execution_count": 27,
   "outputs": [
    {
     "name": "stdout",
     "output_type": "stream",
     "text": [
      "Length of 'case_number' column is:  374362  with 135269 missing values\n",
      "Length of 'case_no' column is:  374362  with 239093 missing values \n",
      "\n",
      "First 2 values of case_number column are : \n",
      " 0    NaN\n",
      "1    NaN\n",
      "Name: case_number, dtype: object \n",
      "\n",
      "Last 2 values of case_number column are : \n",
      " 374360    A-16357-84250\n",
      "374361    A-16279-59292\n",
      "Name: case_number, dtype: object \n",
      "\n",
      "First 2 values of case_no column are : \n",
      " 0    A-07323-97014\n",
      "1    A-07332-99439\n",
      "Name: case_no, dtype: object \n",
      "\n",
      "Last 2 values of case_no column are : \n",
      " 374360    NaN\n",
      "374361    NaN\n",
      "Name: case_no, dtype: object\n"
     ]
    }
   ],
   "source": [
    "print(\"Length of 'case_number' column is: \", len(visas_df['case_number']),\" with\",visas_df.case_number.isnull().sum(), \"missing values\")\n",
    "print(\"Length of 'case_no' column is: \", len(visas_df['case_no']),\" with\", visas_df.case_no.isnull().sum(),\"missing values \\n\")\n",
    "\n",
    "print(\"First 2 values of case_number column are : \\n\", visas_df['case_number'].head(2),\"\\n\")\n",
    "\n",
    "print(\"Last 2 values of case_number column are : \\n\", visas_df['case_number'].tail(2), \"\\n\")\n",
    "print(\"First 2 values of case_no column are : \\n\", visas_df['case_no'].head(2), \"\\n\")\n",
    "print(\"Last 2 values of case_no column are : \\n\", visas_df['case_no'].tail(2))"
   ],
   "metadata": {
    "collapsed": false,
    "pycharm": {
     "name": "#%%\n"
    }
   }
  },
  {
   "cell_type": "markdown",
   "source": [
    "Wie erwartet sind die Werte in case_number und case_no ähnlich. Eine Addition der NaN Werte der Spalten case_number und case_no ergeben die Gesamtzahl der Fälle.\n",
    "Daher erstellen wir eine neue Spalte die keine fehlenden Werte beinhaltet."
   ],
   "metadata": {
    "collapsed": false
   }
  },
  {
   "cell_type": "code",
   "execution_count": 28,
   "outputs": [],
   "source": [
    "case_noindex = visas_df.columns.get_loc('case_no')\n",
    "case_noindexnumber = visas_df.columns.get_loc('case_number')\n",
    "casenumberlist = []\n",
    "\n",
    "\n",
    "for value in visas_df.iloc[0:135269,case_noindex]:\n",
    "    casenumberlist.append(value)\n",
    "\n",
    "for value in visas_df.iloc[135269:374362,case_noindexnumber]:\n",
    "    casenumberlist.append(value)\n",
    "\n",
    "visas_df['casenumber'] = casenumberlist\n",
    "visas_df.drop(visas_df.columns[[case_noindex,case_noindexnumber]], axis=1, inplace=True)\n"
   ],
   "metadata": {
    "collapsed": false,
    "pycharm": {
     "name": "#%%\n"
    }
   }
  },
  {
   "cell_type": "code",
   "execution_count": 29,
   "outputs": [
    {
     "name": "stdout",
     "output_type": "stream",
     "text": [
      "ONLINE      112564\n",
      "PERM         20576\n",
      "MAILEDIN      2129\n",
      "Name: application_type, dtype: int64\n"
     ]
    }
   ],
   "source": [
    "modules.print_full(visas_df['application_type'].value_counts()[:1000])"
   ],
   "metadata": {
    "collapsed": false,
    "pycharm": {
     "name": "#%%\n"
    }
   }
  },
  {
   "cell_type": "code",
   "execution_count": 34,
   "outputs": [
    {
     "data": {
      "text/plain": "[Text(0, 0.5, 'casenumber'), Text(0.5, 0, 'application_type')]"
     },
     "execution_count": 34,
     "metadata": {},
     "output_type": "execute_result"
    },
    {
     "data": {
      "text/plain": "<Figure size 914.4x595.44 with 1 Axes>",
      "image/png": "[encoded data removed]"
     },
     "metadata": {
      "needs_background": "light"
     },
     "output_type": "display_data"
    }
   ],
   "source": [
    "fig, ax = plt.subplots()\n",
    "fig.set_size_inches(12.7, 8.27)\n",
    "sns.countplot(x='class_of_admission',data=visas_df,\n",
    "              order=visas_df.class_of_admission.value_counts().iloc[:12].index)\n",
    "plt.xticks(rotation=90)\n",
    "\n",
    "#Iterating over elements in \"class_of_admission\" column and displaying counts above bars\n",
    "for i, v in visas_df.class_of_admission.value_counts().head(12).reset_index().iterrows():\n",
    "    ax.text(i,v.class_of_admission,v.unique()[1], horizontalalignment='center',verticalalignment='bottom')\n",
    "\n",
    "ax.set(xlabel='application_type', ylabel='casenumber')\n"
   ],
   "metadata": {
    "collapsed": false,
    "pycharm": {
     "name": "#%%\n"
    }
   }
  },
  {
   "cell_type": "markdown",
   "source": [
    "Das häufigste Visa das gestellt wird ist das H1-B Visum (Für hochqualifizierte Fachkräfte und Personen mit einem akademischen Abschluss),\n",
    "https://www.usvisaservice.de/visum-usa/"
   ],
   "metadata": {
    "collapsed": false,
    "pycharm": {
     "name": "#%% md\n"
    }
   }
  },
  {
   "cell_type": "code",
   "execution_count": null,
   "outputs": [],
   "source": [],
   "metadata": {
    "collapsed": false,
    "pycharm": {
     "name": "#%%\n"
    }
   }
  }
 ],
 "metadata": {
  "kernelspec": {
   "display_name": "Python 3",
   "language": "python",
   "name": "python3"
  },
  "language_info": {
   "codemirror_mode": {
    "name": "ipython",
    "version": 2
   },
   "file_extension": ".py",
   "mimetype": "text/x-python",
   "name": "python",
   "nbconvert_exporter": "python",
   "pygments_lexer": "ipython2",
   "version": "2.7.6"
  }
 },
 "nbformat": 4,
 "nbformat_minor": 0
}