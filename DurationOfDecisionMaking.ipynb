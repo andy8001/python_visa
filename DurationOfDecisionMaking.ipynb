{
 "cells": [
  {
   "cell_type": "markdown",
   "metadata": {},
   "source": [
    "# How long does it take to get a message if the inquiry gets requected? How long if it is certified?"
   ]
  },
  {
   "cell_type": "markdown",
   "metadata": {},
   "source": [
    "Firstly, let's take a closer look into the data."
   ]
  },
  {
   "cell_type": "code",
   "execution_count": 41,
   "metadata": {},
   "outputs": [],
   "source": [
    "import pandas as pd"
   ]
  },
  {
   "cell_type": "markdown",
   "metadata": {
    "pycharm": {
     "is_executing": true,
     "name": "#%% md\n"
    }
   },
   "source": [
    "The data was read. The necessary columns are:\n",
    "- case_status\n",
    "- case_received_date\n",
    "- decision_date\n",
    "\n",
    "We'll look at each of them."
   ]
  },
  {
   "cell_type": "code",
   "execution_count": 42,
   "metadata": {
    "pycharm": {
     "name": "#%%\n"
    }
   },
   "outputs": [
    {
     "name": "stderr",
     "output_type": "stream",
     "text": [
      "C:\\Users\\andre\\anaconda3\\lib\\site-packages\\IPython\\core\\interactiveshell.py:3146: DtypeWarning: Columns (7) have mixed types.Specify dtype option on import or set low_memory=False.\n",
      "  has_raised = await self.run_ast_nodes(code_ast.body, cell_name,\n"
     ]
    }
   ],
   "source": [
    "col_list = [\"case_status\", \"case_received_date\", \"decision_date\"]\n",
    "\n",
    "visas_df = pd.read_csv(\"data/us_perm_visas.csv\", usecols=col_list)"
   ]
  },
  {
   "cell_type": "code",
   "execution_count": 43,
   "metadata": {
    "pycharm": {
     "name": "#%%\n"
    }
   },
   "outputs": [
    {
     "data": {
      "text/html": [
       "<div>\n",
       "<style scoped>\n",
       "    .dataframe tbody tr th:only-of-type {\n",
       "        vertical-align: middle;\n",
       "    }\n",
       "\n",
       "    .dataframe tbody tr th {\n",
       "        vertical-align: top;\n",
       "    }\n",
       "\n",
       "    .dataframe thead th {\n",
       "        text-align: right;\n",
       "    }\n",
       "</style>\n",
       "<table border=\"1\" class=\"dataframe\">\n",
       "  <thead>\n",
       "    <tr style=\"text-align: right;\">\n",
       "      <th></th>\n",
       "      <th>case_received_date</th>\n",
       "      <th>case_status</th>\n",
       "      <th>decision_date</th>\n",
       "    </tr>\n",
       "  </thead>\n",
       "  <tbody>\n",
       "    <tr>\n",
       "      <th>0</th>\n",
       "      <td>NaN</td>\n",
       "      <td>Certified</td>\n",
       "      <td>2012-02-01</td>\n",
       "    </tr>\n",
       "    <tr>\n",
       "      <th>1</th>\n",
       "      <td>NaN</td>\n",
       "      <td>Denied</td>\n",
       "      <td>2011-12-21</td>\n",
       "    </tr>\n",
       "    <tr>\n",
       "      <th>2</th>\n",
       "      <td>NaN</td>\n",
       "      <td>Certified</td>\n",
       "      <td>2011-12-01</td>\n",
       "    </tr>\n",
       "    <tr>\n",
       "      <th>3</th>\n",
       "      <td>NaN</td>\n",
       "      <td>Certified</td>\n",
       "      <td>2011-12-01</td>\n",
       "    </tr>\n",
       "    <tr>\n",
       "      <th>4</th>\n",
       "      <td>NaN</td>\n",
       "      <td>Certified</td>\n",
       "      <td>2012-01-26</td>\n",
       "    </tr>\n",
       "  </tbody>\n",
       "</table>\n",
       "</div>"
      ],
      "text/plain": [
       "  case_received_date case_status decision_date\n",
       "0                NaN   Certified    2012-02-01\n",
       "1                NaN      Denied    2011-12-21\n",
       "2                NaN   Certified    2011-12-01\n",
       "3                NaN   Certified    2011-12-01\n",
       "4                NaN   Certified    2012-01-26"
      ]
     },
     "execution_count": 43,
     "metadata": {},
     "output_type": "execute_result"
    }
   ],
   "source": [
    "visas_df.head()"
   ]
  },
  {
   "cell_type": "markdown",
   "metadata": {},
   "source": [
    "How much values do we have in the seperate columns?"
   ]
  },
  {
   "cell_type": "code",
   "execution_count": 44,
   "metadata": {
    "scrolled": false
   },
   "outputs": [
    {
     "name": "stdout",
     "output_type": "stream",
     "text": [
      "case_received_date\n",
      "239091/374362 64%\n",
      "\r",
      "Filled: |███████████████████████████████-------------------| 63.9% Rows\r\n"
     ]
    },
    {
     "data": {
      "image/png": "[encoded data removed]",
      "text/plain": [
       "<Figure size 1152x288 with 1 Axes>"
      ]
     },
     "metadata": {
      "needs_background": "light"
     },
     "output_type": "display_data"
    },
    {
     "name": "stdout",
     "output_type": "stream",
     "text": [
      "\n",
      "case_status\n",
      "374362/374362 100%\n",
      "\r",
      "Filled: |██████████████████████████████████████████████████| 100.0% Rows\r\n"
     ]
    },
    {
     "data": {
      "image/png": "[encoded data removed]",
      "text/plain": [
       "<Figure size 1152x288 with 1 Axes>"
      ]
     },
     "metadata": {
      "needs_background": "light"
     },
     "output_type": "display_data"
    },
    {
     "name": "stdout",
     "output_type": "stream",
     "text": [
      "\n",
      "decision_date\n",
      "374362/374362 100%\n",
      "\r",
      "Filled: |██████████████████████████████████████████████████| 100.0% Rows\r\n"
     ]
    },
    {
     "data": {
      "image/png": "[encoded data removed]",
      "text/plain": [
       "<Figure size 1152x288 with 1 Axes>"
      ]
     },
     "metadata": {
      "needs_background": "light"
     },
     "output_type": "display_data"
    },
    {
     "name": "stdout",
     "output_type": "stream",
     "text": [
      "\n"
     ]
    }
   ],
   "source": [
    "import modules\n",
    "modules.print_count_of_values_relation(visas_df, True, True)"
   ]
  },
  {
   "cell_type": "code",
   "execution_count": 45,
   "metadata": {},
   "outputs": [
    {
     "data": {
      "text/plain": [
       "0         False\n",
       "1         False\n",
       "2         False\n",
       "3         False\n",
       "4         False\n",
       "          ...  \n",
       "374357     True\n",
       "374358     True\n",
       "374359     True\n",
       "374360     True\n",
       "374361     True\n",
       "Name: case_received_date, Length: 374362, dtype: bool"
      ]
     },
     "execution_count": 45,
     "metadata": {},
     "output_type": "execute_result"
    }
   ],
   "source": [
    "visas_df['case_received_date'].notna()"
   ]
  },
  {
   "cell_type": "code",
   "execution_count": 46,
   "metadata": {
    "scrolled": true
   },
   "outputs": [
    {
     "data": {
      "text/plain": [
       "<AxesSubplot:>"
      ]
     },
     "execution_count": 46,
     "metadata": {},
     "output_type": "execute_result"
    },
    {
     "data": {
      "image/png": "[encoded data removed]",
      "text/plain": [
       "<Figure size 432x288 with 1 Axes>"
      ]
     },
     "metadata": {
      "needs_background": "light"
     },
     "output_type": "display_data"
    }
   ],
   "source": [
    "visas_df['case_received_date'].notna().astype(int).plot(x='index')"
   ]
  },
  {
   "cell_type": "markdown",
   "metadata": {},
   "source": [
    "## case_status"
   ]
  },
  {
   "cell_type": "markdown",
   "metadata": {
    "pycharm": {
     "is_executing": true,
     "name": "#%% md\n"
    }
   },
   "source": [
    "The first column is case_status."
   ]
  },
  {
   "cell_type": "code",
   "execution_count": 47,
   "metadata": {
    "pycharm": {
     "name": "#%%\n"
    }
   },
   "outputs": [
    {
     "data": {
      "text/plain": [
       "Certified            181933\n",
       "Certified-Expired    148586\n",
       "Denied                25649\n",
       "Withdrawn             18194\n",
       "Name: case_status, dtype: int64"
      ]
     },
     "execution_count": 47,
     "metadata": {},
     "output_type": "execute_result"
    }
   ],
   "source": [
    "visas_df['case_status'].value_counts()"
   ]
  },
  {
   "cell_type": "markdown",
   "metadata": {},
   "source": [
    "Perfect. This column looks clean. There's no further work to do here."
   ]
  },
  {
   "cell_type": "markdown",
   "metadata": {},
   "source": [
    "## case_received_date"
   ]
  },
  {
   "cell_type": "markdown",
   "metadata": {
    "pycharm": {
     "is_executing": true,
     "name": "#%% md\n"
    }
   },
   "source": [
    "The next one is case_received_date."
   ]
  },
  {
   "cell_type": "code",
   "execution_count": 48,
   "metadata": {
    "pycharm": {
     "name": "#%%\n"
    }
   },
   "outputs": [
    {
     "data": {
      "text/plain": [
       "0    NaN\n",
       "1    NaN\n",
       "2    NaN\n",
       "3    NaN\n",
       "4    NaN\n",
       "Name: case_received_date, dtype: object"
      ]
     },
     "execution_count": 48,
     "metadata": {},
     "output_type": "execute_result"
    }
   ],
   "source": [
    "visas_df['case_received_date'].head()"
   ]
  },
  {
   "cell_type": "markdown",
   "metadata": {
    "pycharm": {
     "is_executing": true,
     "name": "#%% md\n"
    }
   },
   "source": [
    "That doesn't look very good...."
   ]
  },
  {
   "cell_type": "code",
   "execution_count": 49,
   "metadata": {},
   "outputs": [
    {
     "data": {
      "text/plain": [
       "2014-06-30    767\n",
       "2015-09-30    696\n",
       "2015-06-30    695\n",
       "2015-06-29    691\n",
       "2016-06-29    670\n",
       "             ... \n",
       "2009-01-16      1\n",
       "2010-08-25      1\n",
       "2010-11-12      1\n",
       "2009-03-10      1\n",
       "2011-04-14      1\n",
       "Name: case_received_date, Length: 2180, dtype: int64"
      ]
     },
     "execution_count": 49,
     "metadata": {},
     "output_type": "execute_result"
    }
   ],
   "source": [
    "visas_df['case_received_date'].value_counts()\n"
   ]
  },
  {
   "cell_type": "code",
   "execution_count": 50,
   "metadata": {
    "scrolled": true
   },
   "outputs": [],
   "source": [
    "visas_df['case_received_date'] = pd.to_datetime(visas_df['case_received_date'])"
   ]
  },
  {
   "cell_type": "code",
   "execution_count": 51,
   "metadata": {},
   "outputs": [
    {
     "name": "stdout",
     "output_type": "stream",
     "text": [
      "<class 'pandas.core.frame.DataFrame'>\n",
      "RangeIndex: 374362 entries, 0 to 374361\n",
      "Data columns (total 3 columns):\n",
      " #   Column              Non-Null Count   Dtype         \n",
      "---  ------              --------------   -----         \n",
      " 0   case_received_date  239091 non-null  datetime64[ns]\n",
      " 1   case_status         374362 non-null  object        \n",
      " 2   decision_date       374362 non-null  object        \n",
      "dtypes: datetime64[ns](1), object(2)\n",
      "memory usage: 8.6+ MB\n"
     ]
    }
   ],
   "source": [
    "visas_df.info()"
   ]
  },
  {
   "cell_type": "code",
   "execution_count": 52,
   "metadata": {},
   "outputs": [
    {
     "data": {
      "text/plain": [
       "0               NaT\n",
       "1               NaT\n",
       "2               NaT\n",
       "3               NaT\n",
       "4               NaT\n",
       "            ...    \n",
       "374357   2016-12-29\n",
       "374358   2016-12-30\n",
       "374359   2016-12-30\n",
       "374360   2016-12-30\n",
       "374361   2016-12-30\n",
       "Name: case_received_date, Length: 374362, dtype: datetime64[ns]"
      ]
     },
     "execution_count": 52,
     "metadata": {},
     "output_type": "execute_result"
    }
   ],
   "source": [
    "visas_df['case_received_date']"
   ]
  },
  {
   "cell_type": "code",
   "execution_count": 53,
   "metadata": {},
   "outputs": [
    {
     "data": {
      "text/plain": [
       "2014-06-30    767\n",
       "2015-09-30    696\n",
       "2015-06-30    695\n",
       "2015-06-29    691\n",
       "2016-06-29    670\n",
       "             ... \n",
       "2011-12-07      1\n",
       "2010-05-19      1\n",
       "2009-05-06      1\n",
       "2008-10-29      1\n",
       "2010-07-14      1\n",
       "Name: case_received_date, Length: 2180, dtype: int64"
      ]
     },
     "execution_count": 53,
     "metadata": {},
     "output_type": "execute_result"
    }
   ],
   "source": [
    "visas_df['case_received_date'].value_counts()"
   ]
  },
  {
   "cell_type": "code",
   "execution_count": 54,
   "metadata": {
    "pycharm": {
     "name": "#%%\n"
    }
   },
   "outputs": [
    {
     "data": {
      "text/plain": [
       "239091"
      ]
     },
     "execution_count": 54,
     "metadata": {},
     "output_type": "execute_result"
    }
   ],
   "source": [
    "visas_df['case_received_date'].count()"
   ]
  },
  {
   "cell_type": "markdown",
   "metadata": {
    "pycharm": {
     "name": "#%% md\n"
    }
   },
   "source": [
    "Let's take a quick look at the plausability of the entries.\n"
   ]
  },
  {
   "cell_type": "code",
   "execution_count": 55,
   "metadata": {},
   "outputs": [
    {
     "data": {
      "text/plain": [
       "135468   2006-06-21\n",
       "244931   2007-07-06\n",
       "252985   2007-07-20\n",
       "371796   2007-08-17\n",
       "135482   2007-09-04\n",
       "218244   2007-10-19\n",
       "329959   2007-11-15\n",
       "135489   2007-12-07\n",
       "250909   2007-12-07\n",
       "239942   2007-12-26\n",
       "Name: case_received_date, dtype: datetime64[ns]"
      ]
     },
     "execution_count": 55,
     "metadata": {},
     "output_type": "execute_result"
    }
   ],
   "source": [
    "visas_df['case_received_date'].nsmallest(10)"
   ]
  },
  {
   "cell_type": "code",
   "execution_count": 56,
   "metadata": {
    "pycharm": {
     "name": "#%%\n"
    }
   },
   "outputs": [
    {
     "data": {
      "text/plain": [
       "374358   2016-12-30\n",
       "374359   2016-12-30\n",
       "374360   2016-12-30\n",
       "374361   2016-12-30\n",
       "374152   2016-12-29\n",
       "374153   2016-12-29\n",
       "374357   2016-12-29\n",
       "373698   2016-12-28\n",
       "373742   2016-12-28\n",
       "373743   2016-12-28\n",
       "Name: case_received_date, dtype: datetime64[ns]"
      ]
     },
     "execution_count": 56,
     "metadata": {},
     "output_type": "execute_result"
    }
   ],
   "source": [
    "visas_df['case_received_date'].nlargest(10)"
   ]
  },
  {
   "cell_type": "markdown",
   "metadata": {
    "pycharm": {
     "name": "#%% md\n"
    }
   },
   "source": [
    "The values are looking plausable."
   ]
  },
  {
   "cell_type": "markdown",
   "metadata": {
    "pycharm": {
     "name": "#%% md\n"
    }
   },
   "source": [
    "## decision_date"
   ]
  },
  {
   "cell_type": "code",
   "execution_count": 57,
   "metadata": {
    "pycharm": {
     "name": "#%%\n"
    }
   },
   "outputs": [
    {
     "name": "stdout",
     "output_type": "stream",
     "text": [
      "<class 'pandas.core.frame.DataFrame'>\n",
      "RangeIndex: 374362 entries, 0 to 374361\n",
      "Data columns (total 3 columns):\n",
      " #   Column              Non-Null Count   Dtype         \n",
      "---  ------              --------------   -----         \n",
      " 0   case_received_date  239091 non-null  datetime64[ns]\n",
      " 1   case_status         374362 non-null  object        \n",
      " 2   decision_date       374362 non-null  object        \n",
      "dtypes: datetime64[ns](1), object(2)\n",
      "memory usage: 8.6+ MB\n"
     ]
    }
   ],
   "source": [
    "visas_df.info()"
   ]
  },
  {
   "cell_type": "code",
   "execution_count": 58,
   "metadata": {
    "pycharm": {
     "name": "#%%\n"
    }
   },
   "outputs": [],
   "source": [
    "visas_df['decision_date'] = pd.to_datetime(visas_df['decision_date'])"
   ]
  },
  {
   "cell_type": "code",
   "execution_count": 59,
   "metadata": {
    "pycharm": {
     "name": "#%%\n"
    }
   },
   "outputs": [],
   "source": [
    "visas_df['received_to_decision'] = visas_df['decision_date']-visas_df['case_received_date']"
   ]
  },
  {
   "cell_type": "code",
   "execution_count": 60,
   "metadata": {
    "pycharm": {
     "name": "#%%\n"
    }
   },
   "outputs": [
    {
     "data": {
      "text/html": [
       "<div>\n",
       "<style scoped>\n",
       "    .dataframe tbody tr th:only-of-type {\n",
       "        vertical-align: middle;\n",
       "    }\n",
       "\n",
       "    .dataframe tbody tr th {\n",
       "        vertical-align: top;\n",
       "    }\n",
       "\n",
       "    .dataframe thead th {\n",
       "        text-align: right;\n",
       "    }\n",
       "</style>\n",
       "<table border=\"1\" class=\"dataframe\">\n",
       "  <thead>\n",
       "    <tr style=\"text-align: right;\">\n",
       "      <th></th>\n",
       "      <th>case_received_date</th>\n",
       "      <th>case_status</th>\n",
       "      <th>decision_date</th>\n",
       "      <th>received_to_decision</th>\n",
       "    </tr>\n",
       "  </thead>\n",
       "  <tbody>\n",
       "    <tr>\n",
       "      <th>332506</th>\n",
       "      <td>2016-05-27</td>\n",
       "      <td>Certified</td>\n",
       "      <td>2016-08-10</td>\n",
       "      <td>75 days</td>\n",
       "    </tr>\n",
       "    <tr>\n",
       "      <th>289084</th>\n",
       "      <td>2015-11-17</td>\n",
       "      <td>Certified</td>\n",
       "      <td>2016-04-15</td>\n",
       "      <td>150 days</td>\n",
       "    </tr>\n",
       "    <tr>\n",
       "      <th>121882</th>\n",
       "      <td>NaT</td>\n",
       "      <td>Certified</td>\n",
       "      <td>2014-06-13</td>\n",
       "      <td>NaT</td>\n",
       "    </tr>\n",
       "    <tr>\n",
       "      <th>262948</th>\n",
       "      <td>2015-08-11</td>\n",
       "      <td>Certified-Expired</td>\n",
       "      <td>2016-02-02</td>\n",
       "      <td>175 days</td>\n",
       "    </tr>\n",
       "    <tr>\n",
       "      <th>309635</th>\n",
       "      <td>2016-02-04</td>\n",
       "      <td>Certified</td>\n",
       "      <td>2016-06-09</td>\n",
       "      <td>126 days</td>\n",
       "    </tr>\n",
       "    <tr>\n",
       "      <th>145663</th>\n",
       "      <td>2013-08-06</td>\n",
       "      <td>Denied</td>\n",
       "      <td>2015-03-13</td>\n",
       "      <td>584 days</td>\n",
       "    </tr>\n",
       "    <tr>\n",
       "      <th>229973</th>\n",
       "      <td>2015-04-29</td>\n",
       "      <td>Certified-Expired</td>\n",
       "      <td>2015-10-23</td>\n",
       "      <td>177 days</td>\n",
       "    </tr>\n",
       "    <tr>\n",
       "      <th>331947</th>\n",
       "      <td>2016-05-18</td>\n",
       "      <td>Certified</td>\n",
       "      <td>2016-08-08</td>\n",
       "      <td>82 days</td>\n",
       "    </tr>\n",
       "    <tr>\n",
       "      <th>149634</th>\n",
       "      <td>2014-03-27</td>\n",
       "      <td>Withdrawn</td>\n",
       "      <td>2014-10-20</td>\n",
       "      <td>207 days</td>\n",
       "    </tr>\n",
       "    <tr>\n",
       "      <th>347372</th>\n",
       "      <td>2016-07-13</td>\n",
       "      <td>Certified</td>\n",
       "      <td>2016-09-23</td>\n",
       "      <td>72 days</td>\n",
       "    </tr>\n",
       "    <tr>\n",
       "      <th>130139</th>\n",
       "      <td>NaT</td>\n",
       "      <td>Denied</td>\n",
       "      <td>2014-02-10</td>\n",
       "      <td>NaT</td>\n",
       "    </tr>\n",
       "    <tr>\n",
       "      <th>77397</th>\n",
       "      <td>NaT</td>\n",
       "      <td>Certified-Expired</td>\n",
       "      <td>2013-11-18</td>\n",
       "      <td>NaT</td>\n",
       "    </tr>\n",
       "    <tr>\n",
       "      <th>187619</th>\n",
       "      <td>2014-10-06</td>\n",
       "      <td>Certified-Expired</td>\n",
       "      <td>2015-03-03</td>\n",
       "      <td>148 days</td>\n",
       "    </tr>\n",
       "    <tr>\n",
       "      <th>84842</th>\n",
       "      <td>NaT</td>\n",
       "      <td>Certified-Expired</td>\n",
       "      <td>2014-01-14</td>\n",
       "      <td>NaT</td>\n",
       "    </tr>\n",
       "    <tr>\n",
       "      <th>181738</th>\n",
       "      <td>2014-11-25</td>\n",
       "      <td>Certified</td>\n",
       "      <td>2015-05-22</td>\n",
       "      <td>178 days</td>\n",
       "    </tr>\n",
       "    <tr>\n",
       "      <th>237502</th>\n",
       "      <td>2015-05-14</td>\n",
       "      <td>Certified-Expired</td>\n",
       "      <td>2015-11-19</td>\n",
       "      <td>189 days</td>\n",
       "    </tr>\n",
       "    <tr>\n",
       "      <th>103945</th>\n",
       "      <td>NaT</td>\n",
       "      <td>Certified-Expired</td>\n",
       "      <td>2013-12-31</td>\n",
       "      <td>NaT</td>\n",
       "    </tr>\n",
       "    <tr>\n",
       "      <th>141122</th>\n",
       "      <td>2013-08-28</td>\n",
       "      <td>Certified-Expired</td>\n",
       "      <td>2015-03-10</td>\n",
       "      <td>559 days</td>\n",
       "    </tr>\n",
       "    <tr>\n",
       "      <th>299069</th>\n",
       "      <td>2016-01-28</td>\n",
       "      <td>Certified</td>\n",
       "      <td>2016-05-11</td>\n",
       "      <td>104 days</td>\n",
       "    </tr>\n",
       "    <tr>\n",
       "      <th>152125</th>\n",
       "      <td>2013-12-19</td>\n",
       "      <td>Certified</td>\n",
       "      <td>2015-06-18</td>\n",
       "      <td>546 days</td>\n",
       "    </tr>\n",
       "  </tbody>\n",
       "</table>\n",
       "</div>"
      ],
      "text/plain": [
       "       case_received_date        case_status decision_date  \\\n",
       "332506         2016-05-27          Certified    2016-08-10   \n",
       "289084         2015-11-17          Certified    2016-04-15   \n",
       "121882                NaT          Certified    2014-06-13   \n",
       "262948         2015-08-11  Certified-Expired    2016-02-02   \n",
       "309635         2016-02-04          Certified    2016-06-09   \n",
       "145663         2013-08-06             Denied    2015-03-13   \n",
       "229973         2015-04-29  Certified-Expired    2015-10-23   \n",
       "331947         2016-05-18          Certified    2016-08-08   \n",
       "149634         2014-03-27          Withdrawn    2014-10-20   \n",
       "347372         2016-07-13          Certified    2016-09-23   \n",
       "130139                NaT             Denied    2014-02-10   \n",
       "77397                 NaT  Certified-Expired    2013-11-18   \n",
       "187619         2014-10-06  Certified-Expired    2015-03-03   \n",
       "84842                 NaT  Certified-Expired    2014-01-14   \n",
       "181738         2014-11-25          Certified    2015-05-22   \n",
       "237502         2015-05-14  Certified-Expired    2015-11-19   \n",
       "103945                NaT  Certified-Expired    2013-12-31   \n",
       "141122         2013-08-28  Certified-Expired    2015-03-10   \n",
       "299069         2016-01-28          Certified    2016-05-11   \n",
       "152125         2013-12-19          Certified    2015-06-18   \n",
       "\n",
       "       received_to_decision  \n",
       "332506              75 days  \n",
       "289084             150 days  \n",
       "121882                  NaT  \n",
       "262948             175 days  \n",
       "309635             126 days  \n",
       "145663             584 days  \n",
       "229973             177 days  \n",
       "331947              82 days  \n",
       "149634             207 days  \n",
       "347372              72 days  \n",
       "130139                  NaT  \n",
       "77397                   NaT  \n",
       "187619             148 days  \n",
       "84842                   NaT  \n",
       "181738             178 days  \n",
       "237502             189 days  \n",
       "103945                  NaT  \n",
       "141122             559 days  \n",
       "299069             104 days  \n",
       "152125             546 days  "
      ]
     },
     "execution_count": 60,
     "metadata": {},
     "output_type": "execute_result"
    }
   ],
   "source": [
    "visas_df.sample(20)"
   ]
  },
  {
   "cell_type": "markdown",
   "metadata": {
    "pycharm": {
     "name": "#%% md\n"
    }
   },
   "source": [
    "Delete all rows without a case_received_date."
   ]
  },
  {
   "cell_type": "code",
   "execution_count": 61,
   "metadata": {
    "pycharm": {
     "name": "#%%\n"
    }
   },
   "outputs": [],
   "source": [
    "visas_df.dropna(subset = [\"case_received_date\"], inplace=True)"
   ]
  },
  {
   "cell_type": "code",
   "execution_count": 62,
   "metadata": {
    "pycharm": {
     "name": "#%%\n"
    }
   },
   "outputs": [
    {
     "data": {
      "text/plain": [
       "239091"
      ]
     },
     "execution_count": 62,
     "metadata": {},
     "output_type": "execute_result"
    }
   ],
   "source": [
    "\n",
    "visas_df[\"case_received_date\"].size"
   ]
  },
  {
   "cell_type": "code",
   "execution_count": 63,
   "metadata": {
    "pycharm": {
     "name": "#%%\n"
    }
   },
   "outputs": [],
   "source": [
    "visas_df['received_to_decision_days'] = visas_df['received_to_decision'].dt.days"
   ]
  },
  {
   "cell_type": "code",
   "execution_count": 64,
   "metadata": {
    "pycharm": {
     "name": "#%%\n"
    }
   },
   "outputs": [
    {
     "data": {
      "text/plain": [
       "case_status\n",
       "Withdrawn            105.814246\n",
       "Certified            172.393605\n",
       "Certified-Expired    222.298922\n",
       "Denied               517.754714\n",
       "Name: received_to_decision_days, dtype: float64"
      ]
     },
     "execution_count": 64,
     "metadata": {},
     "output_type": "execute_result"
    }
   ],
   "source": [
    "visas_df.groupby('case_status')['received_to_decision_days'].mean().sort_values()"
   ]
  },
  {
   "cell_type": "code",
   "execution_count": 65,
   "metadata": {
    "pycharm": {
     "name": "#%%\n"
    }
   },
   "outputs": [
    {
     "data": {
      "text/html": [
       "<div>\n",
       "<style scoped>\n",
       "    .dataframe tbody tr th:only-of-type {\n",
       "        vertical-align: middle;\n",
       "    }\n",
       "\n",
       "    .dataframe tbody tr th {\n",
       "        vertical-align: top;\n",
       "    }\n",
       "\n",
       "    .dataframe thead th {\n",
       "        text-align: right;\n",
       "    }\n",
       "</style>\n",
       "<table border=\"1\" class=\"dataframe\">\n",
       "  <thead>\n",
       "    <tr style=\"text-align: right;\">\n",
       "      <th></th>\n",
       "      <th>count</th>\n",
       "      <th>mean</th>\n",
       "      <th>std</th>\n",
       "      <th>min</th>\n",
       "      <th>25%</th>\n",
       "      <th>50%</th>\n",
       "      <th>75%</th>\n",
       "      <th>max</th>\n",
       "    </tr>\n",
       "    <tr>\n",
       "      <th>case_status</th>\n",
       "      <th></th>\n",
       "      <th></th>\n",
       "      <th></th>\n",
       "      <th></th>\n",
       "      <th></th>\n",
       "      <th></th>\n",
       "      <th></th>\n",
       "      <th></th>\n",
       "    </tr>\n",
       "  </thead>\n",
       "  <tbody>\n",
       "    <tr>\n",
       "      <th>Certified</th>\n",
       "      <td>120969.0</td>\n",
       "      <td>172.393605</td>\n",
       "      <td>150.296833</td>\n",
       "      <td>3.0</td>\n",
       "      <td>87.0</td>\n",
       "      <td>125.0</td>\n",
       "      <td>202.0</td>\n",
       "      <td>3082.0</td>\n",
       "    </tr>\n",
       "    <tr>\n",
       "      <th>Certified-Expired</th>\n",
       "      <td>95570.0</td>\n",
       "      <td>222.298922</td>\n",
       "      <td>136.983325</td>\n",
       "      <td>79.0</td>\n",
       "      <td>150.0</td>\n",
       "      <td>173.0</td>\n",
       "      <td>198.0</td>\n",
       "      <td>2852.0</td>\n",
       "    </tr>\n",
       "    <tr>\n",
       "      <th>Denied</th>\n",
       "      <td>12781.0</td>\n",
       "      <td>517.754714</td>\n",
       "      <td>505.650797</td>\n",
       "      <td>0.0</td>\n",
       "      <td>201.0</td>\n",
       "      <td>399.0</td>\n",
       "      <td>631.0</td>\n",
       "      <td>3413.0</td>\n",
       "    </tr>\n",
       "    <tr>\n",
       "      <th>Withdrawn</th>\n",
       "      <td>9771.0</td>\n",
       "      <td>105.814246</td>\n",
       "      <td>168.466313</td>\n",
       "      <td>0.0</td>\n",
       "      <td>1.0</td>\n",
       "      <td>29.0</td>\n",
       "      <td>146.0</td>\n",
       "      <td>3092.0</td>\n",
       "    </tr>\n",
       "  </tbody>\n",
       "</table>\n",
       "</div>"
      ],
      "text/plain": [
       "                      count        mean         std   min    25%    50%  \\\n",
       "case_status                                                               \n",
       "Certified          120969.0  172.393605  150.296833   3.0   87.0  125.0   \n",
       "Certified-Expired   95570.0  222.298922  136.983325  79.0  150.0  173.0   \n",
       "Denied              12781.0  517.754714  505.650797   0.0  201.0  399.0   \n",
       "Withdrawn            9771.0  105.814246  168.466313   0.0    1.0   29.0   \n",
       "\n",
       "                     75%     max  \n",
       "case_status                       \n",
       "Certified          202.0  3082.0  \n",
       "Certified-Expired  198.0  2852.0  \n",
       "Denied             631.0  3413.0  \n",
       "Withdrawn          146.0  3092.0  "
      ]
     },
     "execution_count": 65,
     "metadata": {},
     "output_type": "execute_result"
    }
   ],
   "source": [
    "\n",
    "visas_df.groupby('case_status')['received_to_decision_days'].describe()"
   ]
  },
  {
   "cell_type": "markdown",
   "metadata": {
    "pycharm": {
     "name": "#%% md\n"
    }
   },
   "source": [
    "\n",
    "Klappt die Zertifizierung mittlerweile schneller?"
   ]
  },
  {
   "cell_type": "code",
   "execution_count": 66,
   "metadata": {
    "pycharm": {
     "name": "#%%\n"
    }
   },
   "outputs": [
    {
     "data": {
      "text/html": [
       "<div>\n",
       "<style scoped>\n",
       "    .dataframe tbody tr th:only-of-type {\n",
       "        vertical-align: middle;\n",
       "    }\n",
       "\n",
       "    .dataframe tbody tr th {\n",
       "        vertical-align: top;\n",
       "    }\n",
       "\n",
       "    .dataframe thead th {\n",
       "        text-align: right;\n",
       "    }\n",
       "</style>\n",
       "<table border=\"1\" class=\"dataframe\">\n",
       "  <thead>\n",
       "    <tr style=\"text-align: right;\">\n",
       "      <th>case_received_date</th>\n",
       "      <th>2006</th>\n",
       "      <th>2007</th>\n",
       "      <th>2008</th>\n",
       "      <th>2009</th>\n",
       "      <th>2010</th>\n",
       "      <th>2011</th>\n",
       "      <th>2012</th>\n",
       "      <th>2013</th>\n",
       "      <th>2014</th>\n",
       "      <th>2015</th>\n",
       "      <th>2016</th>\n",
       "    </tr>\n",
       "    <tr>\n",
       "      <th>case_received_date</th>\n",
       "      <th></th>\n",
       "      <th></th>\n",
       "      <th></th>\n",
       "      <th></th>\n",
       "      <th></th>\n",
       "      <th></th>\n",
       "      <th></th>\n",
       "      <th></th>\n",
       "      <th></th>\n",
       "      <th></th>\n",
       "      <th></th>\n",
       "    </tr>\n",
       "  </thead>\n",
       "  <tbody>\n",
       "    <tr>\n",
       "      <th>1</th>\n",
       "      <td>NaN</td>\n",
       "      <td>NaN</td>\n",
       "      <td>2836.333333</td>\n",
       "      <td>2236.909091</td>\n",
       "      <td>2083.500000</td>\n",
       "      <td>1916.277778</td>\n",
       "      <td>1422.045455</td>\n",
       "      <td>812.944181</td>\n",
       "      <td>527.519679</td>\n",
       "      <td>216.335494</td>\n",
       "      <td>134.308332</td>\n",
       "    </tr>\n",
       "    <tr>\n",
       "      <th>2</th>\n",
       "      <td>NaN</td>\n",
       "      <td>NaN</td>\n",
       "      <td>NaN</td>\n",
       "      <td>2492.000000</td>\n",
       "      <td>2094.521739</td>\n",
       "      <td>1850.560000</td>\n",
       "      <td>1272.166667</td>\n",
       "      <td>778.270270</td>\n",
       "      <td>487.185151</td>\n",
       "      <td>212.958772</td>\n",
       "      <td>123.704211</td>\n",
       "    </tr>\n",
       "    <tr>\n",
       "      <th>3</th>\n",
       "      <td>NaN</td>\n",
       "      <td>NaN</td>\n",
       "      <td>2772.500000</td>\n",
       "      <td>2453.909091</td>\n",
       "      <td>2081.655172</td>\n",
       "      <td>1681.375000</td>\n",
       "      <td>1521.125000</td>\n",
       "      <td>704.153846</td>\n",
       "      <td>452.158163</td>\n",
       "      <td>202.841952</td>\n",
       "      <td>114.444486</td>\n",
       "    </tr>\n",
       "    <tr>\n",
       "      <th>4</th>\n",
       "      <td>NaN</td>\n",
       "      <td>NaN</td>\n",
       "      <td>2845.000000</td>\n",
       "      <td>2347.571429</td>\n",
       "      <td>2107.000000</td>\n",
       "      <td>1714.745763</td>\n",
       "      <td>1289.000000</td>\n",
       "      <td>598.230337</td>\n",
       "      <td>407.128838</td>\n",
       "      <td>197.457957</td>\n",
       "      <td>105.319184</td>\n",
       "    </tr>\n",
       "    <tr>\n",
       "      <th>5</th>\n",
       "      <td>NaN</td>\n",
       "      <td>NaN</td>\n",
       "      <td>2903.000000</td>\n",
       "      <td>2272.416667</td>\n",
       "      <td>2076.366667</td>\n",
       "      <td>1561.388350</td>\n",
       "      <td>1058.447368</td>\n",
       "      <td>619.769033</td>\n",
       "      <td>242.638362</td>\n",
       "      <td>199.172264</td>\n",
       "      <td>95.656284</td>\n",
       "    </tr>\n",
       "    <tr>\n",
       "      <th>6</th>\n",
       "      <td>3355.0</td>\n",
       "      <td>NaN</td>\n",
       "      <td>2516.000000</td>\n",
       "      <td>2254.466667</td>\n",
       "      <td>2071.583333</td>\n",
       "      <td>1595.405405</td>\n",
       "      <td>1177.329843</td>\n",
       "      <td>620.434290</td>\n",
       "      <td>237.121475</td>\n",
       "      <td>189.808742</td>\n",
       "      <td>82.130802</td>\n",
       "    </tr>\n",
       "    <tr>\n",
       "      <th>7</th>\n",
       "      <td>NaN</td>\n",
       "      <td>3086.50</td>\n",
       "      <td>2516.250000</td>\n",
       "      <td>2204.739130</td>\n",
       "      <td>2058.000000</td>\n",
       "      <td>1662.450000</td>\n",
       "      <td>1196.695312</td>\n",
       "      <td>621.519431</td>\n",
       "      <td>235.558158</td>\n",
       "      <td>181.954651</td>\n",
       "      <td>79.544264</td>\n",
       "    </tr>\n",
       "    <tr>\n",
       "      <th>8</th>\n",
       "      <td>NaN</td>\n",
       "      <td>3413.00</td>\n",
       "      <td>2516.857143</td>\n",
       "      <td>2224.888889</td>\n",
       "      <td>1965.333333</td>\n",
       "      <td>1600.042553</td>\n",
       "      <td>1208.630000</td>\n",
       "      <td>617.300962</td>\n",
       "      <td>213.739848</td>\n",
       "      <td>170.585338</td>\n",
       "      <td>73.274256</td>\n",
       "    </tr>\n",
       "    <tr>\n",
       "      <th>9</th>\n",
       "      <td>NaN</td>\n",
       "      <td>2778.00</td>\n",
       "      <td>2482.500000</td>\n",
       "      <td>2154.968750</td>\n",
       "      <td>2060.384615</td>\n",
       "      <td>1531.363636</td>\n",
       "      <td>906.277108</td>\n",
       "      <td>604.379549</td>\n",
       "      <td>207.402957</td>\n",
       "      <td>161.032614</td>\n",
       "      <td>67.414445</td>\n",
       "    </tr>\n",
       "    <tr>\n",
       "      <th>10</th>\n",
       "      <td>NaN</td>\n",
       "      <td>2861.00</td>\n",
       "      <td>2459.909091</td>\n",
       "      <td>2080.200000</td>\n",
       "      <td>1630.540741</td>\n",
       "      <td>1628.263158</td>\n",
       "      <td>842.727273</td>\n",
       "      <td>572.364431</td>\n",
       "      <td>183.645907</td>\n",
       "      <td>157.024704</td>\n",
       "      <td>59.553278</td>\n",
       "    </tr>\n",
       "    <tr>\n",
       "      <th>11</th>\n",
       "      <td>NaN</td>\n",
       "      <td>3184.00</td>\n",
       "      <td>2395.608696</td>\n",
       "      <td>2058.454545</td>\n",
       "      <td>2045.583333</td>\n",
       "      <td>1685.066667</td>\n",
       "      <td>846.333333</td>\n",
       "      <td>543.511952</td>\n",
       "      <td>195.378201</td>\n",
       "      <td>159.049950</td>\n",
       "      <td>5.706587</td>\n",
       "    </tr>\n",
       "    <tr>\n",
       "      <th>12</th>\n",
       "      <td>NaN</td>\n",
       "      <td>2897.75</td>\n",
       "      <td>2396.611111</td>\n",
       "      <td>2123.655172</td>\n",
       "      <td>2037.444444</td>\n",
       "      <td>1406.736842</td>\n",
       "      <td>973.206349</td>\n",
       "      <td>512.067251</td>\n",
       "      <td>217.804294</td>\n",
       "      <td>146.198030</td>\n",
       "      <td>2.309353</td>\n",
       "    </tr>\n",
       "  </tbody>\n",
       "</table>\n",
       "</div>"
      ],
      "text/plain": [
       "case_received_date    2006     2007         2008         2009         2010  \\\n",
       "case_received_date                                                           \n",
       "1                      NaN      NaN  2836.333333  2236.909091  2083.500000   \n",
       "2                      NaN      NaN          NaN  2492.000000  2094.521739   \n",
       "3                      NaN      NaN  2772.500000  2453.909091  2081.655172   \n",
       "4                      NaN      NaN  2845.000000  2347.571429  2107.000000   \n",
       "5                      NaN      NaN  2903.000000  2272.416667  2076.366667   \n",
       "6                   3355.0      NaN  2516.000000  2254.466667  2071.583333   \n",
       "7                      NaN  3086.50  2516.250000  2204.739130  2058.000000   \n",
       "8                      NaN  3413.00  2516.857143  2224.888889  1965.333333   \n",
       "9                      NaN  2778.00  2482.500000  2154.968750  2060.384615   \n",
       "10                     NaN  2861.00  2459.909091  2080.200000  1630.540741   \n",
       "11                     NaN  3184.00  2395.608696  2058.454545  2045.583333   \n",
       "12                     NaN  2897.75  2396.611111  2123.655172  2037.444444   \n",
       "\n",
       "case_received_date         2011         2012        2013        2014  \\\n",
       "case_received_date                                                     \n",
       "1                   1916.277778  1422.045455  812.944181  527.519679   \n",
       "2                   1850.560000  1272.166667  778.270270  487.185151   \n",
       "3                   1681.375000  1521.125000  704.153846  452.158163   \n",
       "4                   1714.745763  1289.000000  598.230337  407.128838   \n",
       "5                   1561.388350  1058.447368  619.769033  242.638362   \n",
       "6                   1595.405405  1177.329843  620.434290  237.121475   \n",
       "7                   1662.450000  1196.695312  621.519431  235.558158   \n",
       "8                   1600.042553  1208.630000  617.300962  213.739848   \n",
       "9                   1531.363636   906.277108  604.379549  207.402957   \n",
       "10                  1628.263158   842.727273  572.364431  183.645907   \n",
       "11                  1685.066667   846.333333  543.511952  195.378201   \n",
       "12                  1406.736842   973.206349  512.067251  217.804294   \n",
       "\n",
       "case_received_date        2015        2016  \n",
       "case_received_date                          \n",
       "1                   216.335494  134.308332  \n",
       "2                   212.958772  123.704211  \n",
       "3                   202.841952  114.444486  \n",
       "4                   197.457957  105.319184  \n",
       "5                   199.172264   95.656284  \n",
       "6                   189.808742   82.130802  \n",
       "7                   181.954651   79.544264  \n",
       "8                   170.585338   73.274256  \n",
       "9                   161.032614   67.414445  \n",
       "10                  157.024704   59.553278  \n",
       "11                  159.049950    5.706587  \n",
       "12                  146.198030    2.309353  "
      ]
     },
     "execution_count": 66,
     "metadata": {},
     "output_type": "execute_result"
    }
   ],
   "source": [
    "\n",
    "pv = pd.pivot_table(visas_df, index=visas_df['case_received_date'].dt.month, columns=visas_df['case_received_date'].dt.year,\n",
    "                    values='received_to_decision_days', aggfunc='mean')\n",
    "\n",
    "\n",
    "pv"
   ]
  },
  {
   "cell_type": "code",
   "execution_count": 67,
   "metadata": {
    "pycharm": {
     "name": "#%%\n"
    }
   },
   "outputs": [
    {
     "data": {
      "text/plain": [
       "<AxesSubplot:xlabel='case_received_date'>"
      ]
     },
     "execution_count": 67,
     "metadata": {},
     "output_type": "execute_result"
    },
    {
     "data": {
      "image/png": "[encoded data removed]",
      "text/plain": [
       "<Figure size 432x288 with 1 Axes>"
      ]
     },
     "metadata": {
      "needs_background": "light"
     },
     "output_type": "display_data"
    }
   ],
   "source": [
    "\n",
    "pv.plot()"
   ]
  },
  {
   "cell_type": "code",
   "execution_count": 68,
   "metadata": {
    "pycharm": {
     "name": "#%%\n"
    }
   },
   "outputs": [
    {
     "data": {
      "text/plain": [
       "2015    87102\n",
       "2016    72179\n",
       "2014    63117\n",
       "2013    14521\n",
       "2012      889\n",
       "2011      573\n",
       "2010      404\n",
       "2009      215\n",
       "2008       80\n",
       "2007       10\n",
       "2006        1\n",
       "Name: case_received_date, dtype: int64"
      ]
     },
     "execution_count": 68,
     "metadata": {},
     "output_type": "execute_result"
    }
   ],
   "source": [
    "\n",
    "visas_df[\"case_received_date\"].dt.year.value_counts()"
   ]
  },
  {
   "cell_type": "code",
   "execution_count": 73,
   "metadata": {
    "pycharm": {
     "name": "#%%\n"
    }
   },
   "outputs": [],
   "source": [
    "visas_df = visas_df[visas_df[\"case_received_date\"].dt.year > 2012]  "
   ]
  },
  {
   "cell_type": "code",
   "execution_count": 74,
   "metadata": {
    "scrolled": true
   },
   "outputs": [
    {
     "data": {
      "text/plain": [
       "2014-06-30    767\n",
       "2015-09-30    696\n",
       "2015-06-30    695\n",
       "2015-06-29    691\n",
       "2016-06-29    670\n",
       "             ... \n",
       "2013-10-09      1\n",
       "2013-07-14      1\n",
       "2013-05-04      1\n",
       "2013-03-03      1\n",
       "2016-12-11      1\n",
       "Name: test, Length: 1407, dtype: int64"
      ]
     },
     "execution_count": 74,
     "metadata": {},
     "output_type": "execute_result"
    }
   ],
   "source": [
    "df3['test'].value_counts()"
   ]
  },
  {
   "cell_type": "code",
   "execution_count": 75,
   "metadata": {},
   "outputs": [
    {
     "data": {
      "text/html": [
       "<div>\n",
       "<style scoped>\n",
       "    .dataframe tbody tr th:only-of-type {\n",
       "        vertical-align: middle;\n",
       "    }\n",
       "\n",
       "    .dataframe tbody tr th {\n",
       "        vertical-align: top;\n",
       "    }\n",
       "\n",
       "    .dataframe thead th {\n",
       "        text-align: right;\n",
       "    }\n",
       "</style>\n",
       "<table border=\"1\" class=\"dataframe\">\n",
       "  <thead>\n",
       "    <tr style=\"text-align: right;\">\n",
       "      <th>case_received_date</th>\n",
       "      <th>2013</th>\n",
       "      <th>2014</th>\n",
       "      <th>2015</th>\n",
       "      <th>2016</th>\n",
       "    </tr>\n",
       "    <tr>\n",
       "      <th>case_received_date</th>\n",
       "      <th></th>\n",
       "      <th></th>\n",
       "      <th></th>\n",
       "      <th></th>\n",
       "    </tr>\n",
       "  </thead>\n",
       "  <tbody>\n",
       "    <tr>\n",
       "      <th>1</th>\n",
       "      <td>812.944181</td>\n",
       "      <td>527.519679</td>\n",
       "      <td>216.335494</td>\n",
       "      <td>134.308332</td>\n",
       "    </tr>\n",
       "    <tr>\n",
       "      <th>2</th>\n",
       "      <td>778.270270</td>\n",
       "      <td>487.185151</td>\n",
       "      <td>212.958772</td>\n",
       "      <td>123.704211</td>\n",
       "    </tr>\n",
       "    <tr>\n",
       "      <th>3</th>\n",
       "      <td>704.153846</td>\n",
       "      <td>452.158163</td>\n",
       "      <td>202.841952</td>\n",
       "      <td>114.444486</td>\n",
       "    </tr>\n",
       "    <tr>\n",
       "      <th>4</th>\n",
       "      <td>598.230337</td>\n",
       "      <td>407.128838</td>\n",
       "      <td>197.457957</td>\n",
       "      <td>105.319184</td>\n",
       "    </tr>\n",
       "    <tr>\n",
       "      <th>5</th>\n",
       "      <td>619.769033</td>\n",
       "      <td>242.638362</td>\n",
       "      <td>199.172264</td>\n",
       "      <td>95.656284</td>\n",
       "    </tr>\n",
       "    <tr>\n",
       "      <th>6</th>\n",
       "      <td>620.434290</td>\n",
       "      <td>237.121475</td>\n",
       "      <td>189.808742</td>\n",
       "      <td>82.130802</td>\n",
       "    </tr>\n",
       "    <tr>\n",
       "      <th>7</th>\n",
       "      <td>621.519431</td>\n",
       "      <td>235.558158</td>\n",
       "      <td>181.954651</td>\n",
       "      <td>79.544264</td>\n",
       "    </tr>\n",
       "    <tr>\n",
       "      <th>8</th>\n",
       "      <td>617.300962</td>\n",
       "      <td>213.739848</td>\n",
       "      <td>170.585338</td>\n",
       "      <td>73.274256</td>\n",
       "    </tr>\n",
       "    <tr>\n",
       "      <th>9</th>\n",
       "      <td>604.379549</td>\n",
       "      <td>207.402957</td>\n",
       "      <td>161.032614</td>\n",
       "      <td>67.414445</td>\n",
       "    </tr>\n",
       "    <tr>\n",
       "      <th>10</th>\n",
       "      <td>572.364431</td>\n",
       "      <td>183.645907</td>\n",
       "      <td>157.024704</td>\n",
       "      <td>59.553278</td>\n",
       "    </tr>\n",
       "    <tr>\n",
       "      <th>11</th>\n",
       "      <td>543.511952</td>\n",
       "      <td>195.378201</td>\n",
       "      <td>159.049950</td>\n",
       "      <td>5.706587</td>\n",
       "    </tr>\n",
       "    <tr>\n",
       "      <th>12</th>\n",
       "      <td>512.067251</td>\n",
       "      <td>217.804294</td>\n",
       "      <td>146.198030</td>\n",
       "      <td>2.309353</td>\n",
       "    </tr>\n",
       "  </tbody>\n",
       "</table>\n",
       "</div>"
      ],
      "text/plain": [
       "case_received_date        2013        2014        2015        2016\n",
       "case_received_date                                                \n",
       "1                   812.944181  527.519679  216.335494  134.308332\n",
       "2                   778.270270  487.185151  212.958772  123.704211\n",
       "3                   704.153846  452.158163  202.841952  114.444486\n",
       "4                   598.230337  407.128838  197.457957  105.319184\n",
       "5                   619.769033  242.638362  199.172264   95.656284\n",
       "6                   620.434290  237.121475  189.808742   82.130802\n",
       "7                   621.519431  235.558158  181.954651   79.544264\n",
       "8                   617.300962  213.739848  170.585338   73.274256\n",
       "9                   604.379549  207.402957  161.032614   67.414445\n",
       "10                  572.364431  183.645907  157.024704   59.553278\n",
       "11                  543.511952  195.378201  159.049950    5.706587\n",
       "12                  512.067251  217.804294  146.198030    2.309353"
      ]
     },
     "execution_count": 75,
     "metadata": {},
     "output_type": "execute_result"
    }
   ],
   "source": [
    "\n",
    "pv = pd.pivot_table(visas_df, index=visas_df['case_received_date'].dt.month, columns=visas_df['case_received_date'].dt.year,\n",
    "                    values='received_to_decision_days', aggfunc='mean')\n",
    "\n",
    "\n",
    "pv"
   ]
  },
  {
   "cell_type": "code",
   "execution_count": 76,
   "metadata": {},
   "outputs": [
    {
     "data": {
      "text/plain": [
       "<AxesSubplot:xlabel='case_received_date'>"
      ]
     },
     "execution_count": 76,
     "metadata": {},
     "output_type": "execute_result"
    },
    {
     "data": {
      "image/png": "[encoded data removed]",
      "text/plain": [
       "<Figure size 432x288 with 1 Axes>"
      ]
     },
     "metadata": {
      "needs_background": "light"
     },
     "output_type": "display_data"
    }
   ],
   "source": [
    "\n",
    "pv.plot()"
   ]
  },
  {
   "cell_type": "code",
   "execution_count": null,
   "metadata": {},
   "outputs": [],
   "source": []
  }
 ],
 "metadata": {
  "kernelspec": {
   "display_name": "Python 3",
   "language": "python",
   "name": "python3"
  },
  "language_info": {
   "codemirror_mode": {
    "name": "ipython",
    "version": 3
   },
   "file_extension": ".py",
   "mimetype": "text/x-python",
   "name": "python",
   "nbconvert_exporter": "python",
   "pygments_lexer": "ipython3",
   "version": "3.8.5"
  }
 },
 "nbformat": 4,
 "nbformat_minor": 4
}
