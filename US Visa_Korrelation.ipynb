{
 "cells": [
  {
   "cell_type": "markdown",
   "source": [
    "## Korrelation"
   ],
   "metadata": {
    "collapsed": false
   }
  },
  {
   "cell_type": "code",
   "execution_count": 75,
   "outputs": [],
   "source": [
    "#Imports\n",
    "\n",
    "import pandas as pd\n",
    "from IPython.display import display, Markdown\n",
    "import matplotlib.pyplot as plt\n",
    "import numpy as np\n",
    "import modules"
   ],
   "metadata": {
    "collapsed": false,
    "pycharm": {
     "name": "#%%\n"
    }
   }
  },
  {
   "cell_type": "markdown",
   "source": [
    "Spalten laden:"
   ],
   "metadata": {
    "collapsed": false
   }
  },
  {
   "cell_type": "code",
   "execution_count": 76,
   "outputs": [
    {
     "name": "stderr",
     "output_type": "stream",
     "text": [
      "C:\\Users\\alina\\anaconda3\\lib\\site-packages\\IPython\\core\\interactiveshell.py:3063: DtypeWarning: Columns (148) have mixed types.Specify dtype option on import or set low_memory=False.\n",
      "  interactivity=interactivity, compiler=compiler, result=result)\n"
     ]
    }
   ],
   "source": [
    "col_list=['employer_num_employees' , \"wage_offer_from_9089\", \"wage_offered_from_9089\"]\n",
    "visas_df = pd.read_csv(\"data/us_perm_visas.csv\" , usecols=col_list)"
   ],
   "metadata": {
    "collapsed": false,
    "pycharm": {
     "name": "#%%\n"
    }
   }
  },
  {
   "cell_type": "markdown",
   "source": [
    "Wage offer clean merge:"
   ],
   "metadata": {
    "collapsed": false
   }
  },
  {
   "cell_type": "code",
   "execution_count": 77,
   "outputs": [],
   "source": [
    "def clean_wage_offer_from(inital_df = pd.DataFrame):\n",
    "    col_list = [\"wage_offer_from_9089\", \"wage_offered_from_9089\"]\n",
    "    temp_df = inital_df[col_list]\n",
    "\n",
    "    #Firstly, all string types will be transformed into a format, which can be converted into a float type.\n",
    "    #Secondly every cell is converted into float.\n",
    "    temp_df[\"wage_offer_from_9089\"] = temp_df[\"wage_offer_from_9089\"].apply(clean_currency).astype('float')\n",
    "\n",
    "    #The two different columns 'wage_offer_from_9089' and 'wage_offered_from_9089' get merged because they both contain similar information and don't overap each other.\n",
    "    #The columns get merged through simmple addition, therefore all na values are replaced by zero.\n",
    "    temp_df['wage_offer_from_merged'] = temp_df['wage_offer_from_9089'].fillna(0) + temp_df['wage_offered_from_9089'].fillna(0)\n",
    "\n",
    "    #Cells which contain zero, even after the merge, will get converted into NaN values. Providing better data for the subsequent analysis.\n",
    "    temp_df['wage_offer_from_merged'].replace(0, np.nan, inplace=True)\n",
    "\n",
    "    #only the cleaned up column 'wage_offer_merged' gets returned\n",
    "    return temp_df['wage_offer_from_merged']\n"
   ],
   "metadata": {
    "collapsed": false,
    "pycharm": {
     "name": "#%%\n"
    }
   }
  },
  {
   "cell_type": "code",
   "execution_count": 78,
   "outputs": [],
   "source": [
    "def clean_currency(x):\n",
    "    \"\"\" If the value is a string, then remove delimiters\n",
    "    otherwise, the value is numeric and can be converted.\n",
    "    Additionally the provided data contains two '#############' values. These will get replaced by NaN.\n",
    "    Source: https://pbpython.com/currency-cleanup.html (with slight changes)\n",
    "    \"\"\"\n",
    "    if isinstance(x, str):\n",
    "        if x == '#############':\n",
    "            x = np.nan\n",
    "        else:\n",
    "            return(x.replace(',', ''))\n",
    "    return(x)"
   ],
   "metadata": {
    "collapsed": false,
    "pycharm": {
     "name": "#%%\n"
    }
   }
  },
  {
   "cell_type": "code",
   "execution_count": 89,
   "outputs": [],
   "source": [
    "#Aus NaN soll null werden, geht noch nicht\n",
    "visas_df['employer_num_employees'] = visas_df['employer_num_employees'].replace(r'^\\s*$', np.nan, regex=True)\n",
    "visas_df['employer_num_employees'] = visas_df['employer_num_employees'].replace('NaN', '0')"
   ],
   "metadata": {
    "collapsed": false,
    "pycharm": {
     "name": "#%%\n"
    }
   }
  },
  {
   "cell_type": "code",
   "execution_count": 88,
   "outputs": [
    {
     "name": "stderr",
     "output_type": "stream",
     "text": [
      "C:\\Users\\alina\\anaconda3\\lib\\site-packages\\ipykernel_launcher.py:7: SettingWithCopyWarning: \n",
      "A value is trying to be set on a copy of a slice from a DataFrame.\n",
      "Try using .loc[row_indexer,col_indexer] = value instead\n",
      "\n",
      "See the caveats in the documentation: https://pandas.pydata.org/pandas-docs/stable/user_guide/indexing.html#returning-a-view-versus-a-copy\n",
      "  import sys\n",
      "C:\\Users\\alina\\anaconda3\\lib\\site-packages\\ipykernel_launcher.py:11: SettingWithCopyWarning: \n",
      "A value is trying to be set on a copy of a slice from a DataFrame.\n",
      "Try using .loc[row_indexer,col_indexer] = value instead\n",
      "\n",
      "See the caveats in the documentation: https://pandas.pydata.org/pandas-docs/stable/user_guide/indexing.html#returning-a-view-versus-a-copy\n",
      "  # This is added back by InteractiveShellApp.init_path()\n",
      "C:\\Users\\alina\\anaconda3\\lib\\site-packages\\pandas\\core\\generic.py:6746: SettingWithCopyWarning: \n",
      "A value is trying to be set on a copy of a slice from a DataFrame\n",
      "\n",
      "See the caveats in the documentation: https://pandas.pydata.org/pandas-docs/stable/user_guide/indexing.html#returning-a-view-versus-a-copy\n",
      "  self._update_inplace(new_data)\n"
     ]
    },
    {
     "data": {
      "text/plain": "        employer_num_employees wage_offer_from_9089  wage_offered_from_9089  \\\n364115                 31000.0            92,144.00                     NaN   \n118998                     NaN                  NaN                 92539.0   \n127666                     NaN                  NaN                 55946.8   \n355891                   800.0           187,000.00                     NaN   \n52516                      NaN                  NaN                    43.0   \n169895                110000.0            78,832.00                     NaN   \n227563                 15000.0                69327                     NaN   \n112144                     NaN                  NaN                 56493.0   \n52756                      NaN                  NaN                160000.0   \n58077                      NaN                  NaN                125962.0   \n41750                      NaN                  NaN                 39562.0   \n149653                  1126.0           113,922.00                     NaN   \n34941                      NaN                  NaN                170000.0   \n67992                      NaN                  NaN                 98675.0   \n260482                    15.0               124072                     NaN   \n174699                117300.0            87,547.00                     NaN   \n21066                      NaN                  NaN                    34.0   \n341754                    40.0                17014                     NaN   \n284508                    24.0               115794                     NaN   \n194231                    35.0                58.12                     NaN   \n\n        wage_clean  \n364115    92144.00  \n118998    92539.00  \n127666    55946.80  \n355891   187000.00  \n52516        43.00  \n169895    78832.00  \n227563    69327.00  \n112144    56493.00  \n52756    160000.00  \n58077    125962.00  \n41750     39562.00  \n149653   113922.00  \n34941    170000.00  \n67992     98675.00  \n260482   124072.00  \n174699    87547.00  \n21066        34.00  \n341754    17014.00  \n284508   115794.00  \n194231       58.12  ",
      "text/html": "<div>\n<style scoped>\n    .dataframe tbody tr th:only-of-type {\n        vertical-align: middle;\n    }\n\n    .dataframe tbody tr th {\n        vertical-align: top;\n    }\n\n    .dataframe thead th {\n        text-align: right;\n    }\n</style>\n<table border=\"1\" class=\"dataframe\">\n  <thead>\n    <tr style=\"text-align: right;\">\n      <th></th>\n      <th>employer_num_employees</th>\n      <th>wage_offer_from_9089</th>\n      <th>wage_offered_from_9089</th>\n      <th>wage_clean</th>\n    </tr>\n  </thead>\n  <tbody>\n    <tr>\n      <th>364115</th>\n      <td>31000.0</td>\n      <td>92,144.00</td>\n      <td>NaN</td>\n      <td>92144.00</td>\n    </tr>\n    <tr>\n      <th>118998</th>\n      <td>NaN</td>\n      <td>NaN</td>\n      <td>92539.0</td>\n      <td>92539.00</td>\n    </tr>\n    <tr>\n      <th>127666</th>\n      <td>NaN</td>\n      <td>NaN</td>\n      <td>55946.8</td>\n      <td>55946.80</td>\n    </tr>\n    <tr>\n      <th>355891</th>\n      <td>800.0</td>\n      <td>187,000.00</td>\n      <td>NaN</td>\n      <td>187000.00</td>\n    </tr>\n    <tr>\n      <th>52516</th>\n      <td>NaN</td>\n      <td>NaN</td>\n      <td>43.0</td>\n      <td>43.00</td>\n    </tr>\n    <tr>\n      <th>169895</th>\n      <td>110000.0</td>\n      <td>78,832.00</td>\n      <td>NaN</td>\n      <td>78832.00</td>\n    </tr>\n    <tr>\n      <th>227563</th>\n      <td>15000.0</td>\n      <td>69327</td>\n      <td>NaN</td>\n      <td>69327.00</td>\n    </tr>\n    <tr>\n      <th>112144</th>\n      <td>NaN</td>\n      <td>NaN</td>\n      <td>56493.0</td>\n      <td>56493.00</td>\n    </tr>\n    <tr>\n      <th>52756</th>\n      <td>NaN</td>\n      <td>NaN</td>\n      <td>160000.0</td>\n      <td>160000.00</td>\n    </tr>\n    <tr>\n      <th>58077</th>\n      <td>NaN</td>\n      <td>NaN</td>\n      <td>125962.0</td>\n      <td>125962.00</td>\n    </tr>\n    <tr>\n      <th>41750</th>\n      <td>NaN</td>\n      <td>NaN</td>\n      <td>39562.0</td>\n      <td>39562.00</td>\n    </tr>\n    <tr>\n      <th>149653</th>\n      <td>1126.0</td>\n      <td>113,922.00</td>\n      <td>NaN</td>\n      <td>113922.00</td>\n    </tr>\n    <tr>\n      <th>34941</th>\n      <td>NaN</td>\n      <td>NaN</td>\n      <td>170000.0</td>\n      <td>170000.00</td>\n    </tr>\n    <tr>\n      <th>67992</th>\n      <td>NaN</td>\n      <td>NaN</td>\n      <td>98675.0</td>\n      <td>98675.00</td>\n    </tr>\n    <tr>\n      <th>260482</th>\n      <td>15.0</td>\n      <td>124072</td>\n      <td>NaN</td>\n      <td>124072.00</td>\n    </tr>\n    <tr>\n      <th>174699</th>\n      <td>117300.0</td>\n      <td>87,547.00</td>\n      <td>NaN</td>\n      <td>87547.00</td>\n    </tr>\n    <tr>\n      <th>21066</th>\n      <td>NaN</td>\n      <td>NaN</td>\n      <td>34.0</td>\n      <td>34.00</td>\n    </tr>\n    <tr>\n      <th>341754</th>\n      <td>40.0</td>\n      <td>17014</td>\n      <td>NaN</td>\n      <td>17014.00</td>\n    </tr>\n    <tr>\n      <th>284508</th>\n      <td>24.0</td>\n      <td>115794</td>\n      <td>NaN</td>\n      <td>115794.00</td>\n    </tr>\n    <tr>\n      <th>194231</th>\n      <td>35.0</td>\n      <td>58.12</td>\n      <td>NaN</td>\n      <td>58.12</td>\n    </tr>\n  </tbody>\n</table>\n</div>"
     },
     "execution_count": 88,
     "metadata": {},
     "output_type": "execute_result"
    }
   ],
   "source": [
    "visas_df['wage_clean'] = clean_wage_offer_from(visas_df)\n",
    "visas_df.sample(20)"
   ],
   "metadata": {
    "collapsed": false,
    "pycharm": {
     "name": "#%%\n"
    }
   }
  },
  {
   "cell_type": "markdown",
   "source": [
    "Korrelations-Tests:"
   ],
   "metadata": {
    "collapsed": false,
    "pycharm": {
     "name": "#%% md\n"
    }
   }
  },
  {
   "cell_type": "markdown",
   "source": [
    "Regression"
   ],
   "metadata": {
    "collapsed": false,
    "pycharm": {
     "name": "#%% md\n"
    }
   }
  },
  {
   "cell_type": "code",
   "execution_count": 81,
   "outputs": [],
   "source": [
    "import numpy as np\n",
    "from sklearn.linear_model import LinearRegression"
   ],
   "metadata": {
    "collapsed": false,
    "pycharm": {
     "name": "#%%\n"
    }
   }
  },
  {
   "cell_type": "code",
   "execution_count": 82,
   "outputs": [],
   "source": [
    "x = np.array(visas_df['wage_clean']).reshape((-1, 1))\n",
    "y = np.array(visas_df['employer_num_employees'])"
   ],
   "metadata": {
    "collapsed": false,
    "pycharm": {
     "name": "#%%\n"
    }
   }
  },
  {
   "cell_type": "code",
   "execution_count": 83,
   "outputs": [
    {
     "name": "stdout",
     "output_type": "stream",
     "text": [
      "[[75629.]\n",
      " [37024.]\n",
      " [47923.]\n",
      " ...\n",
      " [79082.]\n",
      " [37981.]\n",
      " [84926.]]\n",
      "[    nan     nan     nan ... 3.3e+01 1.6e+01 5.4e+04]\n"
     ]
    }
   ],
   "source": [
    "print(x)\n",
    "print(y)"
   ],
   "metadata": {
    "collapsed": false,
    "pycharm": {
     "name": "#%%\n"
    }
   }
  },
  {
   "cell_type": "code",
   "execution_count": 90,
   "outputs": [
    {
     "ename": "ValueError",
     "evalue": "Input contains NaN, infinity or a value too large for dtype('float64').",
     "output_type": "error",
     "traceback": [
      "\u001B[1;31m---------------------------------------------------------------------------\u001B[0m",
      "\u001B[1;31mValueError\u001B[0m                                Traceback (most recent call last)",
      "\u001B[1;32m<ipython-input-90-93b9606f29fb>\u001B[0m in \u001B[0;36m<module>\u001B[1;34m\u001B[0m\n\u001B[0;32m      1\u001B[0m \u001B[0mmodel\u001B[0m \u001B[1;33m=\u001B[0m \u001B[0mLinearRegression\u001B[0m\u001B[1;33m(\u001B[0m\u001B[1;33m)\u001B[0m\u001B[1;33m\u001B[0m\u001B[1;33m\u001B[0m\u001B[0m\n\u001B[1;32m----> 2\u001B[1;33m \u001B[0mmodel\u001B[0m\u001B[1;33m.\u001B[0m\u001B[0mfit\u001B[0m\u001B[1;33m(\u001B[0m\u001B[0mx\u001B[0m\u001B[1;33m,\u001B[0m \u001B[0my\u001B[0m\u001B[1;33m)\u001B[0m\u001B[1;33m\u001B[0m\u001B[1;33m\u001B[0m\u001B[0m\n\u001B[0m\u001B[0;32m      3\u001B[0m \u001B[1;33m\u001B[0m\u001B[0m\n",
      "\u001B[1;32m~\\anaconda3\\lib\\site-packages\\sklearn\\linear_model\\_base.py\u001B[0m in \u001B[0;36mfit\u001B[1;34m(self, X, y, sample_weight)\u001B[0m\n\u001B[0;32m    490\u001B[0m         \u001B[0mn_jobs_\u001B[0m \u001B[1;33m=\u001B[0m \u001B[0mself\u001B[0m\u001B[1;33m.\u001B[0m\u001B[0mn_jobs\u001B[0m\u001B[1;33m\u001B[0m\u001B[1;33m\u001B[0m\u001B[0m\n\u001B[0;32m    491\u001B[0m         X, y = check_X_y(X, y, accept_sparse=['csr', 'csc', 'coo'],\n\u001B[1;32m--> 492\u001B[1;33m                          y_numeric=True, multi_output=True)\n\u001B[0m\u001B[0;32m    493\u001B[0m \u001B[1;33m\u001B[0m\u001B[0m\n\u001B[0;32m    494\u001B[0m         \u001B[1;32mif\u001B[0m \u001B[0msample_weight\u001B[0m \u001B[1;32mis\u001B[0m \u001B[1;32mnot\u001B[0m \u001B[1;32mNone\u001B[0m\u001B[1;33m:\u001B[0m\u001B[1;33m\u001B[0m\u001B[1;33m\u001B[0m\u001B[0m\n",
      "\u001B[1;32m~\\anaconda3\\lib\\site-packages\\sklearn\\utils\\validation.py\u001B[0m in \u001B[0;36mcheck_X_y\u001B[1;34m(X, y, accept_sparse, accept_large_sparse, dtype, order, copy, force_all_finite, ensure_2d, allow_nd, multi_output, ensure_min_samples, ensure_min_features, y_numeric, warn_on_dtype, estimator)\u001B[0m\n\u001B[0;32m    753\u001B[0m                     \u001B[0mensure_min_features\u001B[0m\u001B[1;33m=\u001B[0m\u001B[0mensure_min_features\u001B[0m\u001B[1;33m,\u001B[0m\u001B[1;33m\u001B[0m\u001B[1;33m\u001B[0m\u001B[0m\n\u001B[0;32m    754\u001B[0m                     \u001B[0mwarn_on_dtype\u001B[0m\u001B[1;33m=\u001B[0m\u001B[0mwarn_on_dtype\u001B[0m\u001B[1;33m,\u001B[0m\u001B[1;33m\u001B[0m\u001B[1;33m\u001B[0m\u001B[0m\n\u001B[1;32m--> 755\u001B[1;33m                     estimator=estimator)\n\u001B[0m\u001B[0;32m    756\u001B[0m     \u001B[1;32mif\u001B[0m \u001B[0mmulti_output\u001B[0m\u001B[1;33m:\u001B[0m\u001B[1;33m\u001B[0m\u001B[1;33m\u001B[0m\u001B[0m\n\u001B[0;32m    757\u001B[0m         y = check_array(y, 'csr', force_all_finite=True, ensure_2d=False,\n",
      "\u001B[1;32m~\\anaconda3\\lib\\site-packages\\sklearn\\utils\\validation.py\u001B[0m in \u001B[0;36mcheck_array\u001B[1;34m(array, accept_sparse, accept_large_sparse, dtype, order, copy, force_all_finite, ensure_2d, allow_nd, ensure_min_samples, ensure_min_features, warn_on_dtype, estimator)\u001B[0m\n\u001B[0;32m    576\u001B[0m         \u001B[1;32mif\u001B[0m \u001B[0mforce_all_finite\u001B[0m\u001B[1;33m:\u001B[0m\u001B[1;33m\u001B[0m\u001B[1;33m\u001B[0m\u001B[0m\n\u001B[0;32m    577\u001B[0m             _assert_all_finite(array,\n\u001B[1;32m--> 578\u001B[1;33m                                allow_nan=force_all_finite == 'allow-nan')\n\u001B[0m\u001B[0;32m    579\u001B[0m \u001B[1;33m\u001B[0m\u001B[0m\n\u001B[0;32m    580\u001B[0m     \u001B[1;32mif\u001B[0m \u001B[0mensure_min_samples\u001B[0m \u001B[1;33m>\u001B[0m \u001B[1;36m0\u001B[0m\u001B[1;33m:\u001B[0m\u001B[1;33m\u001B[0m\u001B[1;33m\u001B[0m\u001B[0m\n",
      "\u001B[1;32m~\\anaconda3\\lib\\site-packages\\sklearn\\utils\\validation.py\u001B[0m in \u001B[0;36m_assert_all_finite\u001B[1;34m(X, allow_nan, msg_dtype)\u001B[0m\n\u001B[0;32m     58\u001B[0m                     \u001B[0mmsg_err\u001B[0m\u001B[1;33m.\u001B[0m\u001B[0mformat\u001B[0m\u001B[1;33m\u001B[0m\u001B[1;33m\u001B[0m\u001B[0m\n\u001B[0;32m     59\u001B[0m                     (type_err,\n\u001B[1;32m---> 60\u001B[1;33m                      msg_dtype if msg_dtype is not None else X.dtype)\n\u001B[0m\u001B[0;32m     61\u001B[0m             )\n\u001B[0;32m     62\u001B[0m     \u001B[1;31m# for object dtype data, we only check for NaNs (GH-13254)\u001B[0m\u001B[1;33m\u001B[0m\u001B[1;33m\u001B[0m\u001B[1;33m\u001B[0m\u001B[0m\n",
      "\u001B[1;31mValueError\u001B[0m: Input contains NaN, infinity or a value too large for dtype('float64')."
     ]
    }
   ],
   "source": [
    "model = LinearRegression()\n",
    "model.fit(x, y)"
   ],
   "metadata": {
    "collapsed": false,
    "pycharm": {
     "name": "#%%\n"
    }
   }
  },
  {
   "cell_type": "code",
   "execution_count": null,
   "outputs": [],
   "source": [
    ">>> r_sq = model.score(x, y)\n",
    ">>> print('coefficient of determination:', r_sq)"
   ],
   "metadata": {
    "collapsed": false,
    "pycharm": {
     "name": "#%%\n"
    }
   }
  },
  {
   "cell_type": "code",
   "execution_count": null,
   "outputs": [],
   "source": [],
   "metadata": {
    "collapsed": false,
    "pycharm": {
     "name": "#%%\n"
    }
   }
  }
 ],
 "metadata": {
  "kernelspec": {
   "display_name": "Python 3",
   "language": "python",
   "name": "python3"
  },
  "language_info": {
   "codemirror_mode": {
    "name": "ipython",
    "version": 2
   },
   "file_extension": ".py",
   "mimetype": "text/x-python",
   "name": "python",
   "nbconvert_exporter": "python",
   "pygments_lexer": "ipython2",
   "version": "2.7.6"
  }
 },
 "nbformat": 4,
 "nbformat_minor": 0
}